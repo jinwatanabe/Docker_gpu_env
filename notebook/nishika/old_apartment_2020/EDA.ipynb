{
 "cells": [
  {
   "cell_type": "code",
   "execution_count": 54,
   "metadata": {},
   "outputs": [],
   "source": [
    "import glob\n",
    "import pandas as pd\n",
    "import matplotlib.pyplot as plt\n",
    "import japanize_matplotlib \n",
    "\n",
    "pd.set_option(\"display.max_rows\", 500)"
   ]
  },
  {
   "cell_type": "code",
   "execution_count": 55,
   "metadata": {},
   "outputs": [
    {
     "name": "stderr",
     "output_type": "stream",
     "text": [
      "/opt/conda/lib/python3.6/site-packages/IPython/core/interactiveshell.py:2785: DtypeWarning: Columns (10) have mixed types. Specify dtype option on import or set low_memory=False.\n",
      "  interactivity=interactivity, compiler=compiler, result=result)\n"
     ]
    }
   ],
   "source": [
    "# データセットの用意\n",
    "\n",
    "file_path = '.../dataset/nishika/old_apartment_2020/train/01.csv'\n",
    "\n",
    "files = glob.glob(\"/tmp/working/dataset/nishika/old_apartment_2020/train/*\")\n",
    "\n",
    "# trainデータ読み込み\n",
    "data_list = []\n",
    "for i, file in enumerate(files):\n",
    "    data_list.append(pd.read_csv(file, index_col=0))\n",
    "\n",
    "df = pd.concat(data_list)\n"
   ]
  },
  {
   "cell_type": "code",
   "execution_count": 56,
   "metadata": {},
   "outputs": [
    {
     "name": "stdout",
     "output_type": "stream",
     "text": [
      "<class 'pandas.core.frame.DataFrame'>\n",
      "Int64Index: 651975 entries, 1117225 to 47001939\n",
      "Data columns (total 27 columns):\n",
      "種類              651975 non-null object\n",
      "地域              0 non-null float64\n",
      "市区町村コード         651975 non-null int64\n",
      "都道府県名           651975 non-null object\n",
      "市区町村名           651975 non-null object\n",
      "地区名             651318 non-null object\n",
      "最寄駅：名称          649342 non-null object\n",
      "最寄駅：距離（分）       628916 non-null object\n",
      "間取り             629546 non-null object\n",
      "面積（㎡）           651975 non-null object\n",
      "土地の形状           0 non-null float64\n",
      "間口              0 non-null float64\n",
      "延床面積（㎡）         0 non-null float64\n",
      "建築年             633280 non-null object\n",
      "建物の構造           637098 non-null object\n",
      "用途              601333 non-null object\n",
      "今後の利用目的         288948 non-null object\n",
      "前面道路：方位         0 non-null float64\n",
      "前面道路：種類         0 non-null float64\n",
      "前面道路：幅員（ｍ）      0 non-null float64\n",
      "都市計画            633162 non-null object\n",
      "建ぺい率（％）         629168 non-null float64\n",
      "容積率（％）          629168 non-null float64\n",
      "取引時点            651975 non-null object\n",
      "改装              593301 non-null object\n",
      "取引の事情等          18397 non-null object\n",
      "取引価格（総額）_log    651975 non-null float64\n",
      "dtypes: float64(10), int64(1), object(16)\n",
      "memory usage: 139.3+ MB\n"
     ]
    }
   ],
   "source": [
    "df.info()"
   ]
  },
  {
   "cell_type": "code",
   "execution_count": 57,
   "metadata": {},
   "outputs": [],
   "source": [
    "# 前処理\n",
    "all_null_list = []\n",
    "\n",
    "for col in train.columns:\n",
    "    if train[col].count() == 0:\n",
    "        all_null_list.append(col)\n",
    "\n",
    "df = df.drop(all_null_list, axis=1)"
   ]
  },
  {
   "cell_type": "code",
   "execution_count": 58,
   "metadata": {},
   "outputs": [
    {
     "data": {
      "text/html": [
       "<div>\n",
       "<style scoped>\n",
       "    .dataframe tbody tr th:only-of-type {\n",
       "        vertical-align: middle;\n",
       "    }\n",
       "\n",
       "    .dataframe tbody tr th {\n",
       "        vertical-align: top;\n",
       "    }\n",
       "\n",
       "    .dataframe thead th {\n",
       "        text-align: right;\n",
       "    }\n",
       "</style>\n",
       "<table border=\"1\" class=\"dataframe\">\n",
       "  <thead>\n",
       "    <tr style=\"text-align: right;\">\n",
       "      <th></th>\n",
       "      <th>種類</th>\n",
       "      <th>市区町村コード</th>\n",
       "      <th>都道府県名</th>\n",
       "      <th>市区町村名</th>\n",
       "      <th>地区名</th>\n",
       "      <th>最寄駅：名称</th>\n",
       "      <th>最寄駅：距離（分）</th>\n",
       "      <th>間取り</th>\n",
       "      <th>面積（㎡）</th>\n",
       "      <th>建築年</th>\n",
       "      <th>建物の構造</th>\n",
       "      <th>用途</th>\n",
       "      <th>今後の利用目的</th>\n",
       "      <th>都市計画</th>\n",
       "      <th>建ぺい率（％）</th>\n",
       "      <th>容積率（％）</th>\n",
       "      <th>取引時点</th>\n",
       "      <th>改装</th>\n",
       "      <th>取引の事情等</th>\n",
       "      <th>取引価格（総額）_log</th>\n",
       "    </tr>\n",
       "    <tr>\n",
       "      <th>ID</th>\n",
       "      <th></th>\n",
       "      <th></th>\n",
       "      <th></th>\n",
       "      <th></th>\n",
       "      <th></th>\n",
       "      <th></th>\n",
       "      <th></th>\n",
       "      <th></th>\n",
       "      <th></th>\n",
       "      <th></th>\n",
       "      <th></th>\n",
       "      <th></th>\n",
       "      <th></th>\n",
       "      <th></th>\n",
       "      <th></th>\n",
       "      <th></th>\n",
       "      <th></th>\n",
       "      <th></th>\n",
       "      <th></th>\n",
       "      <th></th>\n",
       "    </tr>\n",
       "  </thead>\n",
       "  <tbody>\n",
       "    <tr>\n",
       "      <th>1117225</th>\n",
       "      <td>中古マンション等</td>\n",
       "      <td>1213</td>\n",
       "      <td>北海道</td>\n",
       "      <td>苫小牧市</td>\n",
       "      <td>新中野町</td>\n",
       "      <td>苫小牧</td>\n",
       "      <td>25</td>\n",
       "      <td>３ＬＤＫ</td>\n",
       "      <td>120</td>\n",
       "      <td>平成21年</td>\n",
       "      <td>ＲＣ</td>\n",
       "      <td>住宅</td>\n",
       "      <td>住宅</td>\n",
       "      <td>準工業地域</td>\n",
       "      <td>60.0</td>\n",
       "      <td>200.0</td>\n",
       "      <td>2018年第３四半期</td>\n",
       "      <td>未改装</td>\n",
       "      <td>NaN</td>\n",
       "      <td>7.431364</td>\n",
       "    </tr>\n",
       "    <tr>\n",
       "      <th>1001180</th>\n",
       "      <td>中古マンション等</td>\n",
       "      <td>1101</td>\n",
       "      <td>北海道</td>\n",
       "      <td>札幌市中央区</td>\n",
       "      <td>北２条西</td>\n",
       "      <td>西２８丁目</td>\n",
       "      <td>8</td>\n",
       "      <td>４ＬＤＫ</td>\n",
       "      <td>150</td>\n",
       "      <td>平成14年</td>\n",
       "      <td>ＳＲＣ</td>\n",
       "      <td>NaN</td>\n",
       "      <td>住宅</td>\n",
       "      <td>近隣商業地域</td>\n",
       "      <td>80.0</td>\n",
       "      <td>300.0</td>\n",
       "      <td>2018年第３四半期</td>\n",
       "      <td>未改装</td>\n",
       "      <td>NaN</td>\n",
       "      <td>7.568202</td>\n",
       "    </tr>\n",
       "    <tr>\n",
       "      <th>1099061</th>\n",
       "      <td>中古マンション等</td>\n",
       "      <td>1207</td>\n",
       "      <td>北海道</td>\n",
       "      <td>帯広市</td>\n",
       "      <td>西３条南</td>\n",
       "      <td>帯広</td>\n",
       "      <td>2</td>\n",
       "      <td>２ＬＤＫ</td>\n",
       "      <td>80</td>\n",
       "      <td>平成14年</td>\n",
       "      <td>ＲＣ</td>\n",
       "      <td>住宅</td>\n",
       "      <td>住宅</td>\n",
       "      <td>商業地域</td>\n",
       "      <td>80.0</td>\n",
       "      <td>500.0</td>\n",
       "      <td>2016年第２四半期</td>\n",
       "      <td>未改装</td>\n",
       "      <td>NaN</td>\n",
       "      <td>7.204120</td>\n",
       "    </tr>\n",
       "    <tr>\n",
       "      <th>1039968</th>\n",
       "      <td>中古マンション等</td>\n",
       "      <td>1105</td>\n",
       "      <td>北海道</td>\n",
       "      <td>札幌市豊平区</td>\n",
       "      <td>平岸２条</td>\n",
       "      <td>南平岸</td>\n",
       "      <td>6</td>\n",
       "      <td>３ＬＤＫ</td>\n",
       "      <td>90</td>\n",
       "      <td>平成9年</td>\n",
       "      <td>NaN</td>\n",
       "      <td>住宅</td>\n",
       "      <td>住宅</td>\n",
       "      <td>近隣商業地域</td>\n",
       "      <td>80.0</td>\n",
       "      <td>300.0</td>\n",
       "      <td>2018年第４四半期</td>\n",
       "      <td>改装済</td>\n",
       "      <td>NaN</td>\n",
       "      <td>7.447158</td>\n",
       "    </tr>\n",
       "    <tr>\n",
       "      <th>1072923</th>\n",
       "      <td>中古マンション等</td>\n",
       "      <td>1202</td>\n",
       "      <td>北海道</td>\n",
       "      <td>函館市</td>\n",
       "      <td>梁川町</td>\n",
       "      <td>五稜郭</td>\n",
       "      <td>30分?60分</td>\n",
       "      <td>２ＬＤＫ</td>\n",
       "      <td>70</td>\n",
       "      <td>平成24年</td>\n",
       "      <td>ＲＣ</td>\n",
       "      <td>住宅</td>\n",
       "      <td>住宅</td>\n",
       "      <td>商業地域</td>\n",
       "      <td>80.0</td>\n",
       "      <td>400.0</td>\n",
       "      <td>2015年第１四半期</td>\n",
       "      <td>未改装</td>\n",
       "      <td>NaN</td>\n",
       "      <td>7.322219</td>\n",
       "    </tr>\n",
       "  </tbody>\n",
       "</table>\n",
       "</div>"
      ],
      "text/plain": [
       "               種類  市区町村コード 都道府県名     ...        改装 取引の事情等 取引価格（総額）_log\n",
       "ID                                   ...                              \n",
       "1117225  中古マンション等     1213   北海道     ...       未改装    NaN     7.431364\n",
       "1001180  中古マンション等     1101   北海道     ...       未改装    NaN     7.568202\n",
       "1099061  中古マンション等     1207   北海道     ...       未改装    NaN     7.204120\n",
       "1039968  中古マンション等     1105   北海道     ...       改装済    NaN     7.447158\n",
       "1072923  中古マンション等     1202   北海道     ...       未改装    NaN     7.322219\n",
       "\n",
       "[5 rows x 20 columns]"
      ]
     },
     "execution_count": 58,
     "metadata": {},
     "output_type": "execute_result"
    }
   ],
   "source": [
    "df.head()"
   ]
  },
  {
   "cell_type": "code",
   "execution_count": 59,
   "metadata": {},
   "outputs": [
    {
     "name": "stdout",
     "output_type": "stream",
     "text": [
      "<class 'pandas.core.frame.DataFrame'>\n",
      "Int64Index: 651975 entries, 1117225 to 47001939\n",
      "Data columns (total 20 columns):\n",
      "種類              651975 non-null object\n",
      "市区町村コード         651975 non-null int64\n",
      "都道府県名           651975 non-null object\n",
      "市区町村名           651975 non-null object\n",
      "地区名             651318 non-null object\n",
      "最寄駅：名称          649342 non-null object\n",
      "最寄駅：距離（分）       628916 non-null object\n",
      "間取り             629546 non-null object\n",
      "面積（㎡）           651975 non-null object\n",
      "建築年             633280 non-null object\n",
      "建物の構造           637098 non-null object\n",
      "用途              601333 non-null object\n",
      "今後の利用目的         288948 non-null object\n",
      "都市計画            633162 non-null object\n",
      "建ぺい率（％）         629168 non-null float64\n",
      "容積率（％）          629168 non-null float64\n",
      "取引時点            651975 non-null object\n",
      "改装              593301 non-null object\n",
      "取引の事情等          18397 non-null object\n",
      "取引価格（総額）_log    651975 non-null float64\n",
      "dtypes: float64(3), int64(1), object(16)\n",
      "memory usage: 104.5+ MB\n"
     ]
    }
   ],
   "source": [
    "df.info()"
   ]
  },
  {
   "cell_type": "code",
   "execution_count": 60,
   "metadata": {},
   "outputs": [],
   "source": [
    "df[\"種類\"].value_counts()\n",
    "df = df.drop(\"種類\", axis=1)"
   ]
  },
  {
   "cell_type": "code",
   "execution_count": 61,
   "metadata": {},
   "outputs": [],
   "source": [
    "## 市区町村名と市区町村コードの辞書を作る\n",
    "\n",
    "dict_df = df[[\"市区町村コード\", \"市区町村名\"]]\n",
    "dict_df = dict_df[~dict_df.duplicated()].sort_values(\"市区町村コード\").reset_index(drop=True)"
   ]
  },
  {
   "cell_type": "code",
   "execution_count": 62,
   "metadata": {},
   "outputs": [],
   "source": [
    "# 市区町村コードを削除する\n",
    "df = df.drop(\"市区町村コード\", axis=1)"
   ]
  },
  {
   "cell_type": "code",
   "execution_count": 63,
   "metadata": {},
   "outputs": [
    {
     "name": "stdout",
     "output_type": "stream",
     "text": [
      "<class 'pandas.core.frame.DataFrame'>\n",
      "Int64Index: 651975 entries, 1117225 to 47001939\n",
      "Data columns (total 18 columns):\n",
      "都道府県名           651975 non-null object\n",
      "市区町村名           651975 non-null object\n",
      "地区名             651318 non-null object\n",
      "最寄駅：名称          649342 non-null object\n",
      "最寄駅：距離（分）       628916 non-null object\n",
      "間取り             629546 non-null object\n",
      "面積（㎡）           651975 non-null object\n",
      "建築年             633280 non-null object\n",
      "建物の構造           637098 non-null object\n",
      "用途              601333 non-null object\n",
      "今後の利用目的         288948 non-null object\n",
      "都市計画            633162 non-null object\n",
      "建ぺい率（％）         629168 non-null float64\n",
      "容積率（％）          629168 non-null float64\n",
      "取引時点            651975 non-null object\n",
      "改装              593301 non-null object\n",
      "取引の事情等          18397 non-null object\n",
      "取引価格（総額）_log    651975 non-null float64\n",
      "dtypes: float64(3), object(15)\n",
      "memory usage: 94.5+ MB\n"
     ]
    }
   ],
   "source": [
    "df.info()"
   ]
  },
  {
   "cell_type": "code",
   "execution_count": 64,
   "metadata": {},
   "outputs": [
    {
     "data": {
      "text/plain": [
       "6          52168\n",
       "4          50172\n",
       "5          46516\n",
       "8          45370\n",
       "3          44006\n",
       "9          39307\n",
       "7          33154\n",
       "30分?60分    32600\n",
       "10         32328\n",
       "11         31346\n",
       "2          27821\n",
       "13         23410\n",
       "1          20210\n",
       "14         19197\n",
       "15         18961\n",
       "12         15464\n",
       "16         14678\n",
       "18         11929\n",
       "19         10746\n",
       "20          9079\n",
       "21          7308\n",
       "23          6799\n",
       "25          6290\n",
       "24          5003\n",
       "28          4213\n",
       "26          4078\n",
       "0           3784\n",
       "1H?1H30     3692\n",
       "29          3667\n",
       "17          2555\n",
       "22          1096\n",
       "2H?          849\n",
       "1H30?2H      703\n",
       "27           417\n",
       "Name: 最寄駅：距離（分）, dtype: int64"
      ]
     },
     "execution_count": 64,
     "metadata": {},
     "output_type": "execute_result"
    }
   ],
   "source": [
    "df[\"最寄駅：距離（分）\"].value_counts()"
   ]
  },
  {
   "cell_type": "code",
   "execution_count": 65,
   "metadata": {},
   "outputs": [],
   "source": [
    "dis = {\n",
    "    \"30分?60分\": 45,\n",
    "    \"1H?1H30\": 75,\n",
    "    \"1H30?2H\": 105,\n",
    "    \"2H?\": 120\n",
    "}"
   ]
  },
  {
   "cell_type": "code",
   "execution_count": 66,
   "metadata": {},
   "outputs": [],
   "source": [
    "df[\"最寄駅：距離（分）\"] = df[\"最寄駅：距離（分）\"].replace(dis).astype(float)"
   ]
  },
  {
   "cell_type": "code",
   "execution_count": 67,
   "metadata": {},
   "outputs": [
    {
     "name": "stdout",
     "output_type": "stream",
     "text": [
      "<class 'pandas.core.frame.DataFrame'>\n",
      "Int64Index: 651975 entries, 1117225 to 47001939\n",
      "Data columns (total 18 columns):\n",
      "都道府県名           651975 non-null object\n",
      "市区町村名           651975 non-null object\n",
      "地区名             651318 non-null object\n",
      "最寄駅：名称          649342 non-null object\n",
      "最寄駅：距離（分）       628916 non-null float64\n",
      "間取り             629546 non-null object\n",
      "面積（㎡）           651975 non-null object\n",
      "建築年             633280 non-null object\n",
      "建物の構造           637098 non-null object\n",
      "用途              601333 non-null object\n",
      "今後の利用目的         288948 non-null object\n",
      "都市計画            633162 non-null object\n",
      "建ぺい率（％）         629168 non-null float64\n",
      "容積率（％）          629168 non-null float64\n",
      "取引時点            651975 non-null object\n",
      "改装              593301 non-null object\n",
      "取引の事情等          18397 non-null object\n",
      "取引価格（総額）_log    651975 non-null float64\n",
      "dtypes: float64(4), object(14)\n",
      "memory usage: 94.5+ MB\n"
     ]
    }
   ],
   "source": [
    "# df[\"最寄駅：距離（分）\"].value_counts()\n",
    "df.info()"
   ]
  },
  {
   "cell_type": "code",
   "execution_count": 68,
   "metadata": {},
   "outputs": [
    {
     "data": {
      "text/plain": [
       "70         72160\n",
       "65         66801\n",
       "60         53381\n",
       "75         48693\n",
       "20         42349\n",
       "55         40243\n",
       "80         33264\n",
       "50         28486\n",
       "15         25828\n",
       "85         20180\n",
       "25         19564\n",
       "45         18047\n",
       "70         13246\n",
       "65         13232\n",
       "90         12791\n",
       "40         12622\n",
       "60         11192\n",
       "20         11150\n",
       "30         10238\n",
       "35          9764\n",
       "95          9365\n",
       "75          9237\n",
       "55          7923\n",
       "80          7166\n",
       "25          5704\n",
       "15          5606\n",
       "50          5319\n",
       "100         4565\n",
       "85          4504\n",
       "45          3059\n",
       "90          2913\n",
       "40          2775\n",
       "105         2643\n",
       "30          2526\n",
       "35          2166\n",
       "95          1892\n",
       "110         1648\n",
       "115         1189\n",
       "10          1038\n",
       "100          974\n",
       "120          808\n",
       "125          599\n",
       "105          589\n",
       "130          403\n",
       "110          400\n",
       "115          330\n",
       "135          311\n",
       "10           295\n",
       "145          226\n",
       "120          211\n",
       "140          204\n",
       "130          151\n",
       "150          150\n",
       "125          146\n",
       "155          134\n",
       "135           93\n",
       "160           91\n",
       "180           83\n",
       "165           81\n",
       "140           76\n",
       "170           73\n",
       "145           70\n",
       "190           54\n",
       "185           50\n",
       "175           49\n",
       "200           42\n",
       "150           42\n",
       "210           41\n",
       "230           40\n",
       "160           39\n",
       "155           34\n",
       "195           34\n",
       "220           33\n",
       "170           27\n",
       "250           24\n",
       "180           23\n",
       "260           22\n",
       "185           20\n",
       "240           20\n",
       "270           18\n",
       "190           15\n",
       "165           15\n",
       "210           14\n",
       "290           13\n",
       "340           13\n",
       "310           12\n",
       "195           10\n",
       "330           10\n",
       "175            9\n",
       "390            8\n",
       "350            8\n",
       "290            8\n",
       "450            7\n",
       "370            7\n",
       "280            7\n",
       "2000㎡以上        7\n",
       "480            6\n",
       "460            6\n",
       "320            6\n",
       "200            6\n",
       "360            6\n",
       "320            6\n",
       "440            6\n",
       "230            5\n",
       "760            5\n",
       "270            5\n",
       "500            5\n",
       "1000           5\n",
       "240            4\n",
       "680            4\n",
       "380            4\n",
       "360            4\n",
       "220            4\n",
       "300            4\n",
       "300            4\n",
       "520            3\n",
       "490            3\n",
       "970            3\n",
       "590            3\n",
       "860            3\n",
       "630            3\n",
       "470            3\n",
       "390            3\n",
       "650            3\n",
       "410            3\n",
       "730            3\n",
       "710            3\n",
       "700            3\n",
       "690            3\n",
       "250            3\n",
       "440            2\n",
       "410            2\n",
       "650            2\n",
       "450            2\n",
       "280            2\n",
       "560            2\n",
       "400            2\n",
       "630            2\n",
       "400            2\n",
       "370            2\n",
       "260            2\n",
       "1400           2\n",
       "480            2\n",
       "590            2\n",
       "1500           2\n",
       "1300           2\n",
       "510            2\n",
       "670            2\n",
       "660            2\n",
       "1100           2\n",
       "550            2\n",
       "580            2\n",
       "430            2\n",
       "470            2\n",
       "770            2\n",
       "600            2\n",
       "780            1\n",
       "760            1\n",
       "420            1\n",
       "1000           1\n",
       "510            1\n",
       "900            1\n",
       "820            1\n",
       "520            1\n",
       "740            1\n",
       "720            1\n",
       "330            1\n",
       "790            1\n",
       "310            1\n",
       "670            1\n",
       "620            1\n",
       "1200           1\n",
       "660            1\n",
       "780            1\n",
       "500            1\n",
       "980            1\n",
       "530            1\n",
       "540            1\n",
       "710            1\n",
       "800            1\n",
       "820            1\n",
       "830            1\n",
       "890            1\n",
       "900            1\n",
       "940            1\n",
       "960            1\n",
       "990            1\n",
       "740            1\n",
       "420            1\n",
       "1200           1\n",
       "570            1\n",
       "490            1\n",
       "830            1\n",
       "730            1\n",
       "560            1\n",
       "610            1\n",
       "620            1\n",
       "Name: 面積（㎡）, dtype: int64"
      ]
     },
     "execution_count": 68,
     "metadata": {},
     "output_type": "execute_result"
    }
   ],
   "source": [
    "df[\"面積（㎡）\"].value_counts()"
   ]
  },
  {
   "cell_type": "code",
   "execution_count": 69,
   "metadata": {},
   "outputs": [],
   "source": [
    "df[\"面積（㎡）\"] = df[\"面積（㎡）\"].replace(\"2000㎡以上\", 2000).astype(float)"
   ]
  },
  {
   "cell_type": "code",
   "execution_count": 70,
   "metadata": {},
   "outputs": [
    {
     "data": {
      "text/plain": [
       "平成20年    22423\n",
       "平成3年     22388\n",
       "平成18年    22172\n",
       "平成19年    21892\n",
       "平成10年    21160\n",
       "平成15年    21145\n",
       "平成17年    20906\n",
       "平成12年    20905\n",
       "平成7年     20837\n",
       "平成2年     20317\n",
       "平成14年    19884\n",
       "平成8年     19879\n",
       "平成9年     19238\n",
       "平成13年    19125\n",
       "平成11年    18912\n",
       "平成16年    18762\n",
       "昭和64年    17209\n",
       "平成4年     16427\n",
       "昭和63年    16313\n",
       "平成21年    15778\n",
       "平成6年     14557\n",
       "昭和62年    14140\n",
       "昭和59年    14001\n",
       "昭和60年    13482\n",
       "昭和61年    12910\n",
       "昭和49年    11907\n",
       "平成5年     10964\n",
       "平成22年    10077\n",
       "昭和54年     8977\n",
       "昭和57年     8875\n",
       "昭和55年     8713\n",
       "昭和56年     8379\n",
       "平成24年     8217\n",
       "平成23年     7796\n",
       "昭和48年     7490\n",
       "昭和58年     7142\n",
       "昭和53年     6943\n",
       "平成25年     6880\n",
       "昭和50年     6570\n",
       "平成26年     5701\n",
       "昭和52年     5637\n",
       "昭和51年     5306\n",
       "昭和47年     4937\n",
       "平成27年     4874\n",
       "昭和46年     4387\n",
       "昭和45年     3765\n",
       "平成28年     3341\n",
       "昭和44年     2242\n",
       "平成29年     2168\n",
       "昭和43年     2094\n",
       "平成30年     1414\n",
       "平成31年      984\n",
       "昭和42年      888\n",
       "昭和41年      597\n",
       "戦前         558\n",
       "昭和40年      199\n",
       "昭和39年      151\n",
       "令和2年       109\n",
       "昭和38年       48\n",
       "昭和37年       29\n",
       "昭和34年       21\n",
       "昭和22年       21\n",
       "昭和36年       17\n",
       "昭和21年       16\n",
       "昭和25年       12\n",
       "昭和33年       12\n",
       "昭和28年       11\n",
       "昭和35年       10\n",
       "昭和29年        7\n",
       "昭和24年        7\n",
       "昭和27年        6\n",
       "昭和23年        5\n",
       "昭和31年        5\n",
       "昭和26年        4\n",
       "昭和32年        3\n",
       "昭和30年        2\n",
       "Name: 建築年, dtype: int64"
      ]
     },
     "execution_count": 70,
     "metadata": {},
     "output_type": "execute_result"
    }
   ],
   "source": [
    "df[\"建築年\"].value_counts()"
   ]
  },
  {
   "cell_type": "code",
   "execution_count": 72,
   "metadata": {},
   "outputs": [],
   "source": [
    "year_dist = {}\n",
    "for i in df[\"建築年\"].value_counts().keys():\n",
    "    if \"平成\" in i:\n",
    "        num = i.split(\"平成\")[1].split(\"年\")[0]\n",
    "        year = 33 - int(num)\n",
    "    if \"昭和\" in i:\n",
    "        num = i.split(\"昭和\")[1].split(\"年\")[0]\n",
    "        year = 96 - int(num)\n",
    "    if \"令和\" in i:\n",
    "        num = i.split(\"令和\")[1].split(\"年\")[0]\n",
    "        year = 3 - int(num)\n",
    "    if \"戦前\" in i:\n",
    "        year = 76\n",
    "    year_dist[i] = year\n",
    "\n",
    "df[\"建築年\"] = df[\"建築年\"].replace(year_dist).astype(float)"
   ]
  },
  {
   "cell_type": "code",
   "execution_count": 75,
   "metadata": {
    "scrolled": true
   },
   "outputs": [
    {
     "name": "stdout",
     "output_type": "stream",
     "text": [
      "<class 'pandas.core.frame.DataFrame'>\n",
      "Int64Index: 651975 entries, 1117225 to 47001939\n",
      "Data columns (total 18 columns):\n",
      "都道府県名           651975 non-null object\n",
      "市区町村名           651975 non-null object\n",
      "地区名             651318 non-null object\n",
      "最寄駅：名称          649342 non-null object\n",
      "最寄駅：距離（分）       628916 non-null float64\n",
      "間取り             629546 non-null object\n",
      "面積（㎡）           651975 non-null float64\n",
      "建築年             633280 non-null float64\n",
      "建物の構造           637098 non-null object\n",
      "用途              601333 non-null object\n",
      "今後の利用目的         288948 non-null object\n",
      "都市計画            633162 non-null object\n",
      "建ぺい率（％）         629168 non-null float64\n",
      "容積率（％）          629168 non-null float64\n",
      "取引時点            651975 non-null object\n",
      "改装              593301 non-null object\n",
      "取引の事情等          18397 non-null object\n",
      "取引価格（総額）_log    651975 non-null float64\n",
      "dtypes: float64(6), object(12)\n",
      "memory usage: 94.5+ MB\n"
     ]
    }
   ],
   "source": [
    "# df[\"建築年\"].value_counts()\n",
    "df.info()"
   ]
  },
  {
   "cell_type": "code",
   "execution_count": 76,
   "metadata": {},
   "outputs": [
    {
     "data": {
      "text/plain": [
       "ＲＣ            440826\n",
       "ＳＲＣ           190634\n",
       "鉄骨造             4352\n",
       "ＳＲＣ、ＲＣ           689\n",
       "ＲＣ、鉄骨造           321\n",
       "ＳＲＣ、鉄骨造          147\n",
       "木造                85\n",
       "ブロック造             22\n",
       "軽量鉄骨造             18\n",
       "ＳＲＣ、ＲＣ、鉄骨造         2\n",
       "ＲＣ、ブロック造           1\n",
       "ＲＣ、木造              1\n",
       "Name: 建物の構造, dtype: int64"
      ]
     },
     "execution_count": 76,
     "metadata": {},
     "output_type": "execute_result"
    }
   ],
   "source": [
    "df[\"建物の構造\"].value_counts()"
   ]
  },
  {
   "cell_type": "code",
   "execution_count": 77,
   "metadata": {
    "scrolled": true
   },
   "outputs": [
    {
     "data": {
      "text/plain": [
       "住宅               593752\n",
       "事務所                3558\n",
       "店舗                 2887\n",
       "その他                 785\n",
       "駐車場                  99\n",
       "事務所、店舗               63\n",
       "住宅、店舗                54\n",
       "倉庫                   54\n",
       "住宅、事務所               34\n",
       "住宅、その他               16\n",
       "工場                    7\n",
       "住宅、駐車場                5\n",
       "倉庫、店舗                 4\n",
       "倉庫、駐車場                3\n",
       "作業場                   2\n",
       "店舗、その他                2\n",
       "事務所、倉庫                2\n",
       "駐車場、店舗                2\n",
       "住宅、倉庫                 1\n",
       "事務所、駐車場               1\n",
       "住宅、店舗、その他             1\n",
       "住宅、事務所、駐車場、店舗         1\n",
       "Name: 用途, dtype: int64"
      ]
     },
     "execution_count": 77,
     "metadata": {},
     "output_type": "execute_result"
    }
   ],
   "source": [
    "df[\"用途\"].value_counts()"
   ]
  },
  {
   "cell_type": "code",
   "execution_count": 78,
   "metadata": {},
   "outputs": [
    {
     "data": {
      "text/plain": [
       "住宅     268213\n",
       "その他     16418\n",
       "事務所      3206\n",
       "店舗       1111\n",
       "Name: 今後の利用目的, dtype: int64"
      ]
     },
     "execution_count": 78,
     "metadata": {},
     "output_type": "execute_result"
    }
   ],
   "source": [
    "df[\"今後の利用目的\"].value_counts()"
   ]
  },
  {
   "cell_type": "code",
   "execution_count": 81,
   "metadata": {},
   "outputs": [
    {
     "data": {
      "text/plain": [
       "商業地域                      176913\n",
       "第１種中高層住居専用地域              101657\n",
       "第１種住居地域                    99696\n",
       "準工業地域                      74359\n",
       "近隣商業地域                     65533\n",
       "第２種中高層住居専用地域               30075\n",
       "第２種住居地域                    30045\n",
       "第１種低層住居専用地域                19846\n",
       "工業地域                       16291\n",
       "準住居地域                      12966\n",
       "市街化調整区域                     4126\n",
       "第２種低層住居専用地域                  895\n",
       "市街化区域及び市街化調整区域外の都市計画区域       308\n",
       "工業専用地域                       226\n",
       "都市計画区域外                      219\n",
       "準都市計画区域                        7\n",
       "Name: 都市計画, dtype: int64"
      ]
     },
     "execution_count": 81,
     "metadata": {},
     "output_type": "execute_result"
    }
   ],
   "source": [
    "df[\"都市計画\"].value_counts()"
   ]
  },
  {
   "cell_type": "code",
   "execution_count": 84,
   "metadata": {},
   "outputs": [
    {
     "data": {
      "text/plain": [
       "60.0    357095\n",
       "80.0    252042\n",
       "50.0     14435\n",
       "40.0      4710\n",
       "30.0       469\n",
       "70.0       417\n",
       "Name: 建ぺい率（％）, dtype: int64"
      ]
     },
     "execution_count": 84,
     "metadata": {},
     "output_type": "execute_result"
    }
   ],
   "source": [
    "df[\"建ぺい率（％）\"].value_counts()"
   ]
  },
  {
   "cell_type": "code",
   "execution_count": 85,
   "metadata": {},
   "outputs": [
    {
     "data": {
      "text/plain": [
       "200.0     299814\n",
       "400.0     106052\n",
       "300.0      87054\n",
       "500.0      41757\n",
       "600.0      39261\n",
       "150.0      23127\n",
       "100.0       9851\n",
       "700.0       8525\n",
       "800.0       6969\n",
       "80.0        5957\n",
       "1000.0       363\n",
       "60.0         308\n",
       "900.0         79\n",
       "50.0          29\n",
       "1200.0        11\n",
       "1100.0         6\n",
       "1300.0         5\n",
       "Name: 容積率（％）, dtype: int64"
      ]
     },
     "execution_count": 85,
     "metadata": {},
     "output_type": "execute_result"
    }
   ],
   "source": [
    "df[\"容積率（％）\"].value_counts()"
   ]
  },
  {
   "cell_type": "code",
   "execution_count": 86,
   "metadata": {
    "scrolled": true
   },
   "outputs": [
    {
     "data": {
      "text/plain": [
       "2020年第１四半期    14450\n",
       "2014年第１四半期    13561\n",
       "2017年第１四半期    13248\n",
       "2015年第１四半期    13237\n",
       "2013年第１四半期    13233\n",
       "2013年第２四半期    13221\n",
       "2018年第１四半期    13190\n",
       "2016年第１四半期    13099\n",
       "2019年第２四半期    13069\n",
       "2016年第２四半期    13044\n",
       "2019年第１四半期    12984\n",
       "2010年第４四半期    12867\n",
       "2019年第３四半期    12856\n",
       "2015年第２四半期    12808\n",
       "2018年第４四半期    12733\n",
       "2011年第１四半期    12675\n",
       "2017年第４四半期    12600\n",
       "2015年第４四半期    12551\n",
       "2018年第２四半期    12531\n",
       "2015年第３四半期    12485\n",
       "2016年第３四半期    12470\n",
       "2017年第３四半期    12458\n",
       "2010年第３四半期    12457\n",
       "2013年第４四半期    12412\n",
       "2016年第４四半期    12389\n",
       "2019年第４四半期    12192\n",
       "2014年第４四半期    12187\n",
       "2013年第３四半期    12173\n",
       "2018年第３四半期    11996\n",
       "2010年第１四半期    11984\n",
       "2017年第２四半期    11806\n",
       "2012年第４四半期    11753\n",
       "2012年第１四半期    11666\n",
       "2014年第３四半期    11661\n",
       "2010年第２四半期    11596\n",
       "2014年第２四半期    11499\n",
       "2009年第４四半期    11488\n",
       "2012年第２四半期    11115\n",
       "2009年第３四半期    10983\n",
       "2012年第３四半期    10946\n",
       "2011年第４四半期    10934\n",
       "2009年第２四半期    10883\n",
       "2011年第３四半期    10779\n",
       "2009年第１四半期    10605\n",
       "2011年第２四半期    10506\n",
       "2008年第３四半期     9962\n",
       "2008年第４四半期     9947\n",
       "2008年第２四半期     9873\n",
       "2008年第１四半期     9541\n",
       "2007年第４四半期     9304\n",
       "2007年第２四半期     9144\n",
       "2007年第３四半期     8914\n",
       "2007年第１四半期     6174\n",
       "2006年第４四半期     5613\n",
       "2006年第３四半期     5395\n",
       "2006年第２四半期     5221\n",
       "2006年第１四半期     4322\n",
       "2005年第４四半期     3650\n",
       "2005年第３四半期     3535\n",
       "Name: 取引時点, dtype: int64"
      ]
     },
     "execution_count": 86,
     "metadata": {},
     "output_type": "execute_result"
    }
   ],
   "source": [
    "df[\"取引時点\"].value_counts()"
   ]
  },
  {
   "cell_type": "code",
   "execution_count": 87,
   "metadata": {},
   "outputs": [],
   "source": [
    "year = {\n",
    "    \"年第１四半期\":\".25\",\n",
    "    \"年第２四半期\":\".50\",\n",
    "    \"年第３四半期\":\".75\",\n",
    "    \"年第４四半期\":\".99\"\n",
    "}\n",
    "\n",
    "year_list = {}\n",
    "for i in df[\"取引時点\"].value_counts().keys():\n",
    "    for k, j in year.items():\n",
    "        if k in i:\n",
    "            year_rep = i.replace(k, j)\n",
    "\n",
    "    year_list[i] = year_rep\n",
    "\n",
    "df[\"取引時点\"] = df[\"取引時点\"].replace(year_list).astype(float)"
   ]
  },
  {
   "cell_type": "code",
   "execution_count": 88,
   "metadata": {},
   "outputs": [
    {
     "data": {
      "text/plain": [
       "2020.25    14450\n",
       "2014.25    13561\n",
       "2017.25    13248\n",
       "2015.25    13237\n",
       "2013.25    13233\n",
       "2013.50    13221\n",
       "2018.25    13190\n",
       "2016.25    13099\n",
       "2019.50    13069\n",
       "2016.50    13044\n",
       "2019.25    12984\n",
       "2010.99    12867\n",
       "2019.75    12856\n",
       "2015.50    12808\n",
       "2018.99    12733\n",
       "2011.25    12675\n",
       "2017.99    12600\n",
       "2015.99    12551\n",
       "2018.50    12531\n",
       "2015.75    12485\n",
       "2016.75    12470\n",
       "2017.75    12458\n",
       "2010.75    12457\n",
       "2013.99    12412\n",
       "2016.99    12389\n",
       "2019.99    12192\n",
       "2014.99    12187\n",
       "2013.75    12173\n",
       "2018.75    11996\n",
       "2010.25    11984\n",
       "2017.50    11806\n",
       "2012.99    11753\n",
       "2012.25    11666\n",
       "2014.75    11661\n",
       "2010.50    11596\n",
       "2014.50    11499\n",
       "2009.99    11488\n",
       "2012.50    11115\n",
       "2009.75    10983\n",
       "2012.75    10946\n",
       "2011.99    10934\n",
       "2009.50    10883\n",
       "2011.75    10779\n",
       "2009.25    10605\n",
       "2011.50    10506\n",
       "2008.75     9962\n",
       "2008.99     9947\n",
       "2008.50     9873\n",
       "2008.25     9541\n",
       "2007.99     9304\n",
       "2007.50     9144\n",
       "2007.75     8914\n",
       "2007.25     6174\n",
       "2006.99     5613\n",
       "2006.75     5395\n",
       "2006.50     5221\n",
       "2006.25     4322\n",
       "2005.99     3650\n",
       "2005.75     3535\n",
       "Name: 取引時点, dtype: int64"
      ]
     },
     "execution_count": 88,
     "metadata": {},
     "output_type": "execute_result"
    }
   ],
   "source": [
    "df[\"取引時点\"].value_counts()"
   ]
  },
  {
   "cell_type": "code",
   "execution_count": 89,
   "metadata": {},
   "outputs": [
    {
     "data": {
      "text/plain": [
       "未改装    428233\n",
       "改装済    165068\n",
       "Name: 改装, dtype: int64"
      ]
     },
     "execution_count": 89,
     "metadata": {},
     "output_type": "execute_result"
    }
   ],
   "source": [
    "df[\"改装\"].value_counts()"
   ]
  },
  {
   "cell_type": "code",
   "execution_count": 90,
   "metadata": {},
   "outputs": [
    {
     "data": {
      "text/plain": [
       "調停・競売等              17301\n",
       "関係者間取引                877\n",
       "その他事情有り                99\n",
       "瑕疵有りの可能性               66\n",
       "他の権利・負担付き              46\n",
       "他の権利・負担付き、調停・競売等        3\n",
       "関係者間取引、調停・競売等           2\n",
       "調停・競売等、瑕疵有りの可能性         2\n",
       "関係者間取引、瑕疵有りの可能性         1\n",
       "Name: 取引の事情等, dtype: int64"
      ]
     },
     "execution_count": 90,
     "metadata": {},
     "output_type": "execute_result"
    }
   ],
   "source": [
    "df[\"取引の事情等\"].value_counts()"
   ]
  },
  {
   "cell_type": "code",
   "execution_count": null,
   "metadata": {},
   "outputs": [],
   "source": []
  }
 ],
 "metadata": {
  "kernelspec": {
   "display_name": "Python 3",
   "language": "python",
   "name": "python3"
  },
  "language_info": {
   "codemirror_mode": {
    "name": "ipython",
    "version": 3
   },
   "file_extension": ".py",
   "mimetype": "text/x-python",
   "name": "python",
   "nbconvert_exporter": "python",
   "pygments_lexer": "ipython3",
   "version": "3.6.6"
  }
 },
 "nbformat": 4,
 "nbformat_minor": 2
}
