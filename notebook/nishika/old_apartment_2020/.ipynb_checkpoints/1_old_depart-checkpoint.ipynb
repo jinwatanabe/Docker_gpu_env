{
 "cells": [
  {
   "cell_type": "code",
   "execution_count": 6,
   "id": "wound-number",
   "metadata": {},
   "outputs": [],
   "source": [
    "from pre import data_pre\n",
    "import pandas as pd\n",
    "import glob\n",
    "import matplotlib.pyplot as plt"
   ]
  },
  {
   "cell_type": "code",
   "execution_count": 4,
   "id": "checked-metallic",
   "metadata": {},
   "outputs": [
    {
     "name": "stderr",
     "output_type": "stream",
     "text": [
      "/opt/conda/lib/python3.7/site-packages/IPython/core/interactiveshell.py:3166: DtypeWarning: Columns (10) have mixed types.Specify dtype option on import or set low_memory=False.\n",
      "  interactivity=interactivity, compiler=compiler, result=result)\n"
     ]
    }
   ],
   "source": [
    "# データセットの用意\n",
    "\n",
    "files = glob.glob(\"/tmp/working/dataset/nishika/old_apartment_2020/train/*\")\n",
    "\n",
    "# trainデータ読み込み\n",
    "data_list = []\n",
    "for i, file in enumerate(files):\n",
    "    data_list.append(pd.read_csv(file, index_col=0))\n",
    "\n",
    "df = pd.concat(data_list)\n",
    "\n",
    "df = data_pre(df)"
   ]
  },
  {
   "cell_type": "code",
   "execution_count": 7,
   "id": "dangerous-dressing",
   "metadata": {},
   "outputs": [
    {
     "name": "stdout",
     "output_type": "stream",
     "text": [
      "<class 'pandas.core.frame.DataFrame'>\n",
      "Int64Index: 651975 entries, 1117225 to 47008266\n",
      "Data columns (total 20 columns):\n",
      " #   Column        Non-Null Count   Dtype   \n",
      "---  ------        --------------   -----   \n",
      " 0   都道府県名         651975 non-null  category\n",
      " 1   市区町村名         651975 non-null  category\n",
      " 2   地区名           651318 non-null  category\n",
      " 3   最寄駅：名称        649342 non-null  category\n",
      " 4   最寄駅：距離（分）     628916 non-null  float64 \n",
      " 5   間取り           629546 non-null  category\n",
      " 6   面積（㎡）         651975 non-null  float64 \n",
      " 7   建築年           633280 non-null  float64 \n",
      " 8   建物の構造         637098 non-null  category\n",
      " 9   用途            601333 non-null  category\n",
      " 10  今後の利用目的       288948 non-null  category\n",
      " 11  都市計画          633162 non-null  category\n",
      " 12  建ぺい率（％）       629168 non-null  float64 \n",
      " 13  容積率（％）        629168 non-null  float64 \n",
      " 14  取引時点          651975 non-null  float64 \n",
      " 15  改装            593301 non-null  category\n",
      " 16  取引の事情等        18397 non-null   category\n",
      " 17  取引価格（総額）_log  651975 non-null  float64 \n",
      " 18  緯度            651975 non-null  float64 \n",
      " 19  経度            651975 non-null  float64 \n",
      "dtypes: category(11), float64(9)\n",
      "memory usage: 59.0 MB\n"
     ]
    }
   ],
   "source": [
    "df.info()"
   ]
  },
  {
   "cell_type": "code",
   "execution_count": 12,
   "id": "received-ireland",
   "metadata": {},
   "outputs": [
    {
     "data": {
      "image/png": "[encoded data removed]",
      "text/plain": [
       "<Figure size 432x288 with 1 Axes>"
      ]
     },
     "metadata": {
      "needs_background": "light"
     },
     "output_type": "display_data"
    }
   ],
   "source": [
    "plt.scatter(df[\"最寄駅：距離（分）\"], df[\"取引価格（総額）_log\"])\n",
    "plt.show()"
   ]
  },
  {
   "cell_type": "code",
   "execution_count": null,
   "id": "widespread-hudson",
   "metadata": {},
   "outputs": [],
   "source": []
  }
 ],
 "metadata": {
  "kernelspec": {
   "display_name": "Python 3",
   "language": "python",
   "name": "python3"
  },
  "language_info": {
   "codemirror_mode": {
    "name": "ipython",
    "version": 3
   },
   "file_extension": ".py",
   "mimetype": "text/x-python",
   "name": "python",
   "nbconvert_exporter": "python",
   "pygments_lexer": "ipython3",
   "version": "3.7.10"
  }
 },
 "nbformat": 4,
 "nbformat_minor": 5
}
