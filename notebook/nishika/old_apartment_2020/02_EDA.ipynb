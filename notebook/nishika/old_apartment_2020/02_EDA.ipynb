{
 "cells": [
  {
   "cell_type": "code",
   "execution_count": 1,
   "id": "sunset-people",
   "metadata": {},
   "outputs": [
    {
     "data": {
      "text/html": [
       "<style type='text/css'>\n",
       ".datatable table.frame { margin-bottom: 0; }\n",
       ".datatable table.frame thead { border-bottom: none; }\n",
       ".datatable table.frame tr.coltypes td {  color: #FFFFFF;  line-height: 6px;  padding: 0 0.5em;}\n",
       ".datatable .bool    { background: #DDDD99; }\n",
       ".datatable .object  { background: #565656; }\n",
       ".datatable .int     { background: #5D9E5D; }\n",
       ".datatable .float   { background: #4040CC; }\n",
       ".datatable .str     { background: #CC4040; }\n",
       ".datatable .row_index {  background: var(--jp-border-color3);  border-right: 1px solid var(--jp-border-color0);  color: var(--jp-ui-font-color3);  font-size: 9px;}\n",
       ".datatable .frame tr.coltypes .row_index {  background: var(--jp-border-color0);}\n",
       ".datatable th:nth-child(2) { padding-left: 12px; }\n",
       ".datatable .hellipsis {  color: var(--jp-cell-editor-border-color);}\n",
       ".datatable .vellipsis {  background: var(--jp-layout-color0);  color: var(--jp-cell-editor-border-color);}\n",
       ".datatable .na {  color: var(--jp-cell-editor-border-color);  font-size: 80%;}\n",
       ".datatable .footer { font-size: 9px; }\n",
       ".datatable .frame_dimensions {  background: var(--jp-border-color3);  border-top: 1px solid var(--jp-border-color0);  color: var(--jp-ui-font-color3);  display: inline-block;  opacity: 0.6;  padding: 1px 10px 1px 5px;}\n",
       "</style>\n"
      ],
      "text/plain": [
       "<IPython.core.display.HTML object>"
      ]
     },
     "metadata": {},
     "output_type": "display_data"
    }
   ],
   "source": [
    "import pandas as pd\n",
    "from input_data import input_df\n",
    "import scipy.stats\n",
    "import matplotlib.pyplot as plt\n",
    "from pre2 import data_pre\n",
    "from m01_lightgbm import train"
   ]
  },
  {
   "cell_type": "code",
   "execution_count": 2,
   "id": "atomic-affairs",
   "metadata": {},
   "outputs": [],
   "source": [
    "from sklearn.cluster import KMeans\n",
    "def data_pre2(df):\n",
    "    \n",
    "    df = data_pre(df)\n",
    "    \n",
    "    area_df = pd.read_csv(\"./feature_data/area_cluster.csv\")\n",
    "    \n",
    "    # 茨城県北相馬郡利根町はtrainにない(クラスタ平均:1.241732)\n",
    "    ibaragi = pd.DataFrame([1.241732], columns=[\"クラスタ平均\"])\n",
    "    ibaragi[\"市区町村名\"] = \"北相馬郡利根町\"\n",
    "    area_df = pd.concat([area_df, ibaragi], axis=0)\n",
    "    \n",
    "    df = pd.merge(df.reset_index(), area_df, on=\"市区町村名\").set_index(\"ID\")\n",
    "    \n",
    "    \n",
    "    for col in [\"都道府県名\", \"市区町村名\", \"地区名\", \"最寄駅：名称\", \"間取り\", \"建物の構造\", \"用途\", \"今後の利用目的\", \"都市計画\", \"改装\", \"取引の事情等\"]:\n",
    "        df[col] = df[col].astype(\"category\")\n",
    "        \n",
    "    df = df.drop(\"都道府県名_en\", axis=1)\n",
    "    \n",
    "    \n",
    "    return df"
   ]
  },
  {
   "cell_type": "code",
   "execution_count": 3,
   "id": "complimentary-basics",
   "metadata": {},
   "outputs": [
    {
     "name": "stderr",
     "output_type": "stream",
     "text": [
      "/opt/conda/lib/python3.7/site-packages/IPython/core/interactiveshell.py:3357: DtypeWarning: Columns (10) have mixed types.Specify dtype option on import or set low_memory=False.\n",
      "  if (await self.run_code(code, result,  async_=asy)):\n"
     ]
    }
   ],
   "source": [
    "df = input_df()\n",
    "df = data_pre(df)\n",
    "df_b = df.copy()"
   ]
  },
  {
   "cell_type": "code",
   "execution_count": 4,
   "id": "cutting-origin",
   "metadata": {},
   "outputs": [],
   "source": [
    "df = df[[\"都道府県名\", \"都道府県名_en\", \"市区町村名\", \"面積（㎡）\", \"取引価格（総額）_log\"]]"
   ]
  },
  {
   "cell_type": "code",
   "execution_count": 5,
   "id": "cloudy-capture",
   "metadata": {},
   "outputs": [],
   "source": [
    "pref_list = df[\"都道府県名\"].tolist()\n",
    "pref_list = set(pref_list)"
   ]
  },
  {
   "cell_type": "code",
   "execution_count": 6,
   "id": "lonely-stock",
   "metadata": {},
   "outputs": [
    {
     "name": "stderr",
     "output_type": "stream",
     "text": [
      "/opt/conda/lib/python3.7/site-packages/ipykernel_launcher.py:7: SettingWithCopyWarning: \n",
      "A value is trying to be set on a copy of a slice from a DataFrame.\n",
      "Try using .loc[row_indexer,col_indexer] = value instead\n",
      "\n",
      "See the caveats in the documentation: https://pandas.pydata.org/pandas-docs/stable/user_guide/indexing.html#returning-a-view-versus-a-copy\n",
      "  import sys\n"
     ]
    }
   ],
   "source": [
    "df_z = pd.DataFrame()\n",
    "\n",
    "for pref in pref_list:\n",
    "    pref_df = df[df[\"都道府県名\"]==pref][\"取引価格（総額）_log\"]\n",
    "    zscore_list = pref_df.tolist()\n",
    "    df_t = df[df[\"都道府県名\"]==pref]\n",
    "    df_t[\"zscore\"] = scipy.stats.zscore(zscore_list)\n",
    "    df_t = df_t[[\"zscore\"]]\n",
    "    df_z = pd.concat([df_z, df_t], axis=0)\n",
    "\n",
    "df = pd.merge(df, df_z, on=\"ID\")"
   ]
  },
  {
   "cell_type": "code",
   "execution_count": 7,
   "id": "institutional-dress",
   "metadata": {},
   "outputs": [
    {
     "data": {
      "image/png": "[encoded data removed]",
      "text/plain": [
       "<Figure size 432x288 with 1 Axes>"
      ]
     },
     "metadata": {
      "needs_background": "light"
     },
     "output_type": "display_data"
    }
   ],
   "source": [
    "plt.scatter(df[\"面積（㎡）\"], df[\"zscore\"])\n",
    "plt.show()"
   ]
  },
  {
   "cell_type": "code",
   "execution_count": 8,
   "id": "ideal-default",
   "metadata": {},
   "outputs": [],
   "source": [
    "from sklearn.cluster import KMeans\n",
    "pred = KMeans(n_clusters=4).fit_predict(df[[\"面積（㎡）\", \"zscore\"]])\t0.0771"
   ]
  },
  {
   "cell_type": "code",
   "execution_count": 9,
   "id": "christian-poultry",
   "metadata": {},
   "outputs": [],
   "source": [
    "df[\"クラスタ\"] = pred"
   ]
  },
  {
   "cell_type": "code",
   "execution_count": 10,
   "id": "charged-ballot",
   "metadata": {},
   "outputs": [
    {
     "data": {
      "text/html": [
       "<div>\n",
       "<style scoped>\n",
       "    .dataframe tbody tr th:only-of-type {\n",
       "        vertical-align: middle;\n",
       "    }\n",
       "\n",
       "    .dataframe tbody tr th {\n",
       "        vertical-align: top;\n",
       "    }\n",
       "\n",
       "    .dataframe thead th {\n",
       "        text-align: right;\n",
       "    }\n",
       "</style>\n",
       "<table border=\"1\" class=\"dataframe\">\n",
       "  <thead>\n",
       "    <tr style=\"text-align: right;\">\n",
       "      <th></th>\n",
       "      <th>都道府県名</th>\n",
       "      <th>都道府県名_en</th>\n",
       "      <th>市区町村名</th>\n",
       "      <th>面積（㎡）</th>\n",
       "      <th>取引価格（総額）_log</th>\n",
       "      <th>zscore</th>\n",
       "      <th>クラスタ</th>\n",
       "    </tr>\n",
       "    <tr>\n",
       "      <th>ID</th>\n",
       "      <th></th>\n",
       "      <th></th>\n",
       "      <th></th>\n",
       "      <th></th>\n",
       "      <th></th>\n",
       "      <th></th>\n",
       "      <th></th>\n",
       "    </tr>\n",
       "  </thead>\n",
       "  <tbody>\n",
       "    <tr>\n",
       "      <th>1117225</th>\n",
       "      <td>北海道</td>\n",
       "      <td>1</td>\n",
       "      <td>苫小牧市</td>\n",
       "      <td>120.0</td>\n",
       "      <td>7.431364</td>\n",
       "      <td>1.231246</td>\n",
       "      <td>0</td>\n",
       "    </tr>\n",
       "    <tr>\n",
       "      <th>1114724</th>\n",
       "      <td>北海道</td>\n",
       "      <td>1</td>\n",
       "      <td>苫小牧市</td>\n",
       "      <td>70.0</td>\n",
       "      <td>6.342423</td>\n",
       "      <td>-1.764705</td>\n",
       "      <td>2</td>\n",
       "    </tr>\n",
       "    <tr>\n",
       "      <th>1114753</th>\n",
       "      <td>北海道</td>\n",
       "      <td>1</td>\n",
       "      <td>苫小牧市</td>\n",
       "      <td>70.0</td>\n",
       "      <td>6.778151</td>\n",
       "      <td>-0.565906</td>\n",
       "      <td>2</td>\n",
       "    </tr>\n",
       "    <tr>\n",
       "      <th>1120806</th>\n",
       "      <td>北海道</td>\n",
       "      <td>1</td>\n",
       "      <td>苫小牧市</td>\n",
       "      <td>105.0</td>\n",
       "      <td>7.230449</td>\n",
       "      <td>0.678479</td>\n",
       "      <td>0</td>\n",
       "    </tr>\n",
       "    <tr>\n",
       "      <th>1117264</th>\n",
       "      <td>北海道</td>\n",
       "      <td>1</td>\n",
       "      <td>苫小牧市</td>\n",
       "      <td>90.0</td>\n",
       "      <td>7.204120</td>\n",
       "      <td>0.606041</td>\n",
       "      <td>0</td>\n",
       "    </tr>\n",
       "  </tbody>\n",
       "</table>\n",
       "</div>"
      ],
      "text/plain": [
       "        都道府県名  都道府県名_en 市区町村名  面積（㎡）  取引価格（総額）_log    zscore  クラスタ\n",
       "ID                                                                \n",
       "1117225   北海道         1  苫小牧市  120.0      7.431364  1.231246     0\n",
       "1114724   北海道         1  苫小牧市   70.0      6.342423 -1.764705     2\n",
       "1114753   北海道         1  苫小牧市   70.0      6.778151 -0.565906     2\n",
       "1120806   北海道         1  苫小牧市  105.0      7.230449  0.678479     0\n",
       "1117264   北海道         1  苫小牧市   90.0      7.204120  0.606041     0"
      ]
     },
     "execution_count": 10,
     "metadata": {},
     "output_type": "execute_result"
    }
   ],
   "source": [
    "df.head()"
   ]
  },
  {
   "cell_type": "code",
   "execution_count": 11,
   "id": "recognized-supply",
   "metadata": {},
   "outputs": [],
   "source": [
    "df = df[[\"zscore\", \"クラスタ\"]]"
   ]
  },
  {
   "cell_type": "code",
   "execution_count": 12,
   "id": "frozen-workplace",
   "metadata": {},
   "outputs": [],
   "source": [
    "df = pd.merge(df_b, df, on=\"ID\")"
   ]
  },
  {
   "cell_type": "code",
   "execution_count": 13,
   "id": "horizontal-wages",
   "metadata": {},
   "outputs": [
    {
     "data": {
      "text/html": [
       "<div>\n",
       "<style scoped>\n",
       "    .dataframe tbody tr th:only-of-type {\n",
       "        vertical-align: middle;\n",
       "    }\n",
       "\n",
       "    .dataframe tbody tr th {\n",
       "        vertical-align: top;\n",
       "    }\n",
       "\n",
       "    .dataframe thead th {\n",
       "        text-align: right;\n",
       "    }\n",
       "</style>\n",
       "<table border=\"1\" class=\"dataframe\">\n",
       "  <thead>\n",
       "    <tr style=\"text-align: right;\">\n",
       "      <th></th>\n",
       "      <th>都道府県名</th>\n",
       "      <th>市区町村名</th>\n",
       "      <th>地区名</th>\n",
       "      <th>最寄駅：名称</th>\n",
       "      <th>最寄駅：距離（分）</th>\n",
       "      <th>間取り</th>\n",
       "      <th>面積（㎡）</th>\n",
       "      <th>建築年</th>\n",
       "      <th>建物の構造</th>\n",
       "      <th>用途</th>\n",
       "      <th>...</th>\n",
       "      <th>容積率（％）</th>\n",
       "      <th>取引時点</th>\n",
       "      <th>改装</th>\n",
       "      <th>取引の事情等</th>\n",
       "      <th>取引価格（総額）_log</th>\n",
       "      <th>緯度</th>\n",
       "      <th>経度</th>\n",
       "      <th>都道府県名_en</th>\n",
       "      <th>zscore</th>\n",
       "      <th>クラスタ</th>\n",
       "    </tr>\n",
       "    <tr>\n",
       "      <th>ID</th>\n",
       "      <th></th>\n",
       "      <th></th>\n",
       "      <th></th>\n",
       "      <th></th>\n",
       "      <th></th>\n",
       "      <th></th>\n",
       "      <th></th>\n",
       "      <th></th>\n",
       "      <th></th>\n",
       "      <th></th>\n",
       "      <th></th>\n",
       "      <th></th>\n",
       "      <th></th>\n",
       "      <th></th>\n",
       "      <th></th>\n",
       "      <th></th>\n",
       "      <th></th>\n",
       "      <th></th>\n",
       "      <th></th>\n",
       "      <th></th>\n",
       "      <th></th>\n",
       "    </tr>\n",
       "  </thead>\n",
       "  <tbody>\n",
       "    <tr>\n",
       "      <th>47008534</th>\n",
       "      <td>沖縄県</td>\n",
       "      <td>うるま市</td>\n",
       "      <td>字宮里</td>\n",
       "      <td>NaN</td>\n",
       "      <td>NaN</td>\n",
       "      <td>４ＬＤＫ</td>\n",
       "      <td>65.0</td>\n",
       "      <td>10.0</td>\n",
       "      <td>ＳＲＣ</td>\n",
       "      <td>住宅</td>\n",
       "      <td>...</td>\n",
       "      <td>200.0</td>\n",
       "      <td>2019.75</td>\n",
       "      <td>未改装</td>\n",
       "      <td>NaN</td>\n",
       "      <td>7.342423</td>\n",
       "      <td>26.378685</td>\n",
       "      <td>127.857493</td>\n",
       "      <td>47</td>\n",
       "      <td>0.452388</td>\n",
       "      <td>2</td>\n",
       "    </tr>\n",
       "    <tr>\n",
       "      <th>47007866</th>\n",
       "      <td>沖縄県</td>\n",
       "      <td>うるま市</td>\n",
       "      <td>字江洲</td>\n",
       "      <td>NaN</td>\n",
       "      <td>NaN</td>\n",
       "      <td>３ＬＤＫ</td>\n",
       "      <td>70.0</td>\n",
       "      <td>6.0</td>\n",
       "      <td>ＲＣ</td>\n",
       "      <td>住宅</td>\n",
       "      <td>...</td>\n",
       "      <td>200.0</td>\n",
       "      <td>2018.99</td>\n",
       "      <td>改装済</td>\n",
       "      <td>NaN</td>\n",
       "      <td>7.447158</td>\n",
       "      <td>26.378685</td>\n",
       "      <td>127.857493</td>\n",
       "      <td>47</td>\n",
       "      <td>0.788960</td>\n",
       "      <td>2</td>\n",
       "    </tr>\n",
       "    <tr>\n",
       "      <th>47029524</th>\n",
       "      <td>沖縄県</td>\n",
       "      <td>うるま市</td>\n",
       "      <td>字塩屋</td>\n",
       "      <td>NaN</td>\n",
       "      <td>NaN</td>\n",
       "      <td>３ＬＤＫ</td>\n",
       "      <td>75.0</td>\n",
       "      <td>22.0</td>\n",
       "      <td>ＲＣ</td>\n",
       "      <td>住宅</td>\n",
       "      <td>...</td>\n",
       "      <td>100.0</td>\n",
       "      <td>2009.99</td>\n",
       "      <td>未改装</td>\n",
       "      <td>NaN</td>\n",
       "      <td>7.000000</td>\n",
       "      <td>26.378685</td>\n",
       "      <td>127.857493</td>\n",
       "      <td>47</td>\n",
       "      <td>-0.648002</td>\n",
       "      <td>0</td>\n",
       "    </tr>\n",
       "    <tr>\n",
       "      <th>47008285</th>\n",
       "      <td>沖縄県</td>\n",
       "      <td>うるま市</td>\n",
       "      <td>字塩屋</td>\n",
       "      <td>NaN</td>\n",
       "      <td>NaN</td>\n",
       "      <td>３ＬＤＫ</td>\n",
       "      <td>75.0</td>\n",
       "      <td>22.0</td>\n",
       "      <td>ＲＣ</td>\n",
       "      <td>住宅</td>\n",
       "      <td>...</td>\n",
       "      <td>100.0</td>\n",
       "      <td>2015.25</td>\n",
       "      <td>未改装</td>\n",
       "      <td>NaN</td>\n",
       "      <td>7.113943</td>\n",
       "      <td>26.378685</td>\n",
       "      <td>127.857493</td>\n",
       "      <td>47</td>\n",
       "      <td>-0.281840</td>\n",
       "      <td>0</td>\n",
       "    </tr>\n",
       "    <tr>\n",
       "      <th>47008266</th>\n",
       "      <td>沖縄県</td>\n",
       "      <td>うるま市</td>\n",
       "      <td>字塩屋</td>\n",
       "      <td>NaN</td>\n",
       "      <td>NaN</td>\n",
       "      <td>３ＬＤＫ</td>\n",
       "      <td>75.0</td>\n",
       "      <td>22.0</td>\n",
       "      <td>ＲＣ</td>\n",
       "      <td>住宅</td>\n",
       "      <td>...</td>\n",
       "      <td>NaN</td>\n",
       "      <td>2019.75</td>\n",
       "      <td>改装済</td>\n",
       "      <td>NaN</td>\n",
       "      <td>7.176091</td>\n",
       "      <td>26.378685</td>\n",
       "      <td>127.857493</td>\n",
       "      <td>47</td>\n",
       "      <td>-0.082125</td>\n",
       "      <td>0</td>\n",
       "    </tr>\n",
       "  </tbody>\n",
       "</table>\n",
       "<p>5 rows × 23 columns</p>\n",
       "</div>"
      ],
      "text/plain": [
       "         都道府県名 市区町村名  地区名 最寄駅：名称  最寄駅：距離（分）   間取り  面積（㎡）   建築年 建物の構造  用途  ...  \\\n",
       "ID                                                                        ...   \n",
       "47008534   沖縄県  うるま市  字宮里    NaN        NaN  ４ＬＤＫ   65.0  10.0   ＳＲＣ  住宅  ...   \n",
       "47007866   沖縄県  うるま市  字江洲    NaN        NaN  ３ＬＤＫ   70.0   6.0    ＲＣ  住宅  ...   \n",
       "47029524   沖縄県  うるま市  字塩屋    NaN        NaN  ３ＬＤＫ   75.0  22.0    ＲＣ  住宅  ...   \n",
       "47008285   沖縄県  うるま市  字塩屋    NaN        NaN  ３ＬＤＫ   75.0  22.0    ＲＣ  住宅  ...   \n",
       "47008266   沖縄県  うるま市  字塩屋    NaN        NaN  ３ＬＤＫ   75.0  22.0    ＲＣ  住宅  ...   \n",
       "\n",
       "         容積率（％）     取引時点   改装  取引の事情等  取引価格（総額）_log         緯度          経度  \\\n",
       "ID                                                                           \n",
       "47008534  200.0  2019.75  未改装     NaN      7.342423  26.378685  127.857493   \n",
       "47007866  200.0  2018.99  改装済     NaN      7.447158  26.378685  127.857493   \n",
       "47029524  100.0  2009.99  未改装     NaN      7.000000  26.378685  127.857493   \n",
       "47008285  100.0  2015.25  未改装     NaN      7.113943  26.378685  127.857493   \n",
       "47008266    NaN  2019.75  改装済     NaN      7.176091  26.378685  127.857493   \n",
       "\n",
       "          都道府県名_en    zscore  クラスタ  \n",
       "ID                                  \n",
       "47008534        47  0.452388     2  \n",
       "47007866        47  0.788960     2  \n",
       "47029524        47 -0.648002     0  \n",
       "47008285        47 -0.281840     0  \n",
       "47008266        47 -0.082125     0  \n",
       "\n",
       "[5 rows x 23 columns]"
      ]
     },
     "execution_count": 13,
     "metadata": {},
     "output_type": "execute_result"
    }
   ],
   "source": [
    "df.tail()"
   ]
  },
  {
   "cell_type": "code",
   "execution_count": 14,
   "id": "presidential-italian",
   "metadata": {},
   "outputs": [],
   "source": [
    "area_list = set(df[\"市区町村名\"].tolist())"
   ]
  },
  {
   "cell_type": "code",
   "execution_count": 15,
   "id": "related-volume",
   "metadata": {},
   "outputs": [],
   "source": [
    "area_class_mean = []\n",
    "for area in area_list:\n",
    "    area_mean = df[df[\"市区町村名\"] == area][\"クラスタ\"].mean()\n",
    "    area_class_mean.append(area_mean)\n",
    "\n",
    "df_area = pd.DataFrame(area_class_mean, columns = ['クラスタ平均'])\n",
    "df_area[\"市区町村名\"] = area_list"
   ]
  },
  {
   "cell_type": "code",
   "execution_count": 16,
   "id": "coordinated-certificate",
   "metadata": {},
   "outputs": [
    {
     "data": {
      "text/html": [
       "<div>\n",
       "<style scoped>\n",
       "    .dataframe tbody tr th:only-of-type {\n",
       "        vertical-align: middle;\n",
       "    }\n",
       "\n",
       "    .dataframe tbody tr th {\n",
       "        vertical-align: top;\n",
       "    }\n",
       "\n",
       "    .dataframe thead th {\n",
       "        text-align: right;\n",
       "    }\n",
       "</style>\n",
       "<table border=\"1\" class=\"dataframe\">\n",
       "  <thead>\n",
       "    <tr style=\"text-align: right;\">\n",
       "      <th></th>\n",
       "      <th>都道府県名</th>\n",
       "      <th>市区町村名</th>\n",
       "      <th>地区名</th>\n",
       "      <th>最寄駅：名称</th>\n",
       "      <th>最寄駅：距離（分）</th>\n",
       "      <th>間取り</th>\n",
       "      <th>面積（㎡）</th>\n",
       "      <th>建築年</th>\n",
       "      <th>建物の構造</th>\n",
       "      <th>用途</th>\n",
       "      <th>...</th>\n",
       "      <th>容積率（％）</th>\n",
       "      <th>取引時点</th>\n",
       "      <th>改装</th>\n",
       "      <th>取引の事情等</th>\n",
       "      <th>取引価格（総額）_log</th>\n",
       "      <th>緯度</th>\n",
       "      <th>経度</th>\n",
       "      <th>都道府県名_en</th>\n",
       "      <th>zscore</th>\n",
       "      <th>クラスタ</th>\n",
       "    </tr>\n",
       "    <tr>\n",
       "      <th>ID</th>\n",
       "      <th></th>\n",
       "      <th></th>\n",
       "      <th></th>\n",
       "      <th></th>\n",
       "      <th></th>\n",
       "      <th></th>\n",
       "      <th></th>\n",
       "      <th></th>\n",
       "      <th></th>\n",
       "      <th></th>\n",
       "      <th></th>\n",
       "      <th></th>\n",
       "      <th></th>\n",
       "      <th></th>\n",
       "      <th></th>\n",
       "      <th></th>\n",
       "      <th></th>\n",
       "      <th></th>\n",
       "      <th></th>\n",
       "      <th></th>\n",
       "      <th></th>\n",
       "    </tr>\n",
       "  </thead>\n",
       "  <tbody>\n",
       "    <tr>\n",
       "      <th>1117225</th>\n",
       "      <td>北海道</td>\n",
       "      <td>苫小牧市</td>\n",
       "      <td>新中野町</td>\n",
       "      <td>苫小牧</td>\n",
       "      <td>25.0</td>\n",
       "      <td>３ＬＤＫ</td>\n",
       "      <td>120.0</td>\n",
       "      <td>12.0</td>\n",
       "      <td>ＲＣ</td>\n",
       "      <td>住宅</td>\n",
       "      <td>...</td>\n",
       "      <td>200.0</td>\n",
       "      <td>2018.75</td>\n",
       "      <td>未改装</td>\n",
       "      <td>NaN</td>\n",
       "      <td>7.431364</td>\n",
       "      <td>42.631246</td>\n",
       "      <td>141.603122</td>\n",
       "      <td>1</td>\n",
       "      <td>1.231246</td>\n",
       "      <td>0</td>\n",
       "    </tr>\n",
       "    <tr>\n",
       "      <th>1114724</th>\n",
       "      <td>北海道</td>\n",
       "      <td>苫小牧市</td>\n",
       "      <td>青葉町</td>\n",
       "      <td>青葉</td>\n",
       "      <td>9.0</td>\n",
       "      <td>３ＬＤＫ</td>\n",
       "      <td>70.0</td>\n",
       "      <td>35.0</td>\n",
       "      <td>ＲＣ</td>\n",
       "      <td>住宅</td>\n",
       "      <td>...</td>\n",
       "      <td>200.0</td>\n",
       "      <td>2017.75</td>\n",
       "      <td>未改装</td>\n",
       "      <td>NaN</td>\n",
       "      <td>6.342423</td>\n",
       "      <td>42.631246</td>\n",
       "      <td>141.603122</td>\n",
       "      <td>1</td>\n",
       "      <td>-1.764705</td>\n",
       "      <td>2</td>\n",
       "    </tr>\n",
       "    <tr>\n",
       "      <th>1114753</th>\n",
       "      <td>北海道</td>\n",
       "      <td>苫小牧市</td>\n",
       "      <td>青葉町</td>\n",
       "      <td>青葉</td>\n",
       "      <td>3.0</td>\n",
       "      <td>３ＬＤＫ</td>\n",
       "      <td>70.0</td>\n",
       "      <td>31.0</td>\n",
       "      <td>ＲＣ</td>\n",
       "      <td>住宅</td>\n",
       "      <td>...</td>\n",
       "      <td>200.0</td>\n",
       "      <td>2016.50</td>\n",
       "      <td>改装済</td>\n",
       "      <td>NaN</td>\n",
       "      <td>6.778151</td>\n",
       "      <td>42.631246</td>\n",
       "      <td>141.603122</td>\n",
       "      <td>1</td>\n",
       "      <td>-0.565906</td>\n",
       "      <td>2</td>\n",
       "    </tr>\n",
       "    <tr>\n",
       "      <th>1120806</th>\n",
       "      <td>北海道</td>\n",
       "      <td>苫小牧市</td>\n",
       "      <td>表町</td>\n",
       "      <td>苫小牧</td>\n",
       "      <td>8.0</td>\n",
       "      <td>４ＬＤＫ</td>\n",
       "      <td>105.0</td>\n",
       "      <td>18.0</td>\n",
       "      <td>ＲＣ</td>\n",
       "      <td>住宅</td>\n",
       "      <td>...</td>\n",
       "      <td>400.0</td>\n",
       "      <td>2011.99</td>\n",
       "      <td>未改装</td>\n",
       "      <td>NaN</td>\n",
       "      <td>7.230449</td>\n",
       "      <td>42.631246</td>\n",
       "      <td>141.603122</td>\n",
       "      <td>1</td>\n",
       "      <td>0.678479</td>\n",
       "      <td>0</td>\n",
       "    </tr>\n",
       "    <tr>\n",
       "      <th>1117264</th>\n",
       "      <td>北海道</td>\n",
       "      <td>苫小牧市</td>\n",
       "      <td>新中野町</td>\n",
       "      <td>苫小牧</td>\n",
       "      <td>25.0</td>\n",
       "      <td>３ＬＤＫ</td>\n",
       "      <td>90.0</td>\n",
       "      <td>15.0</td>\n",
       "      <td>ＲＣ</td>\n",
       "      <td>住宅</td>\n",
       "      <td>...</td>\n",
       "      <td>200.0</td>\n",
       "      <td>2015.50</td>\n",
       "      <td>未改装</td>\n",
       "      <td>NaN</td>\n",
       "      <td>7.204120</td>\n",
       "      <td>42.631246</td>\n",
       "      <td>141.603122</td>\n",
       "      <td>1</td>\n",
       "      <td>0.606041</td>\n",
       "      <td>0</td>\n",
       "    </tr>\n",
       "    <tr>\n",
       "      <th>...</th>\n",
       "      <td>...</td>\n",
       "      <td>...</td>\n",
       "      <td>...</td>\n",
       "      <td>...</td>\n",
       "      <td>...</td>\n",
       "      <td>...</td>\n",
       "      <td>...</td>\n",
       "      <td>...</td>\n",
       "      <td>...</td>\n",
       "      <td>...</td>\n",
       "      <td>...</td>\n",
       "      <td>...</td>\n",
       "      <td>...</td>\n",
       "      <td>...</td>\n",
       "      <td>...</td>\n",
       "      <td>...</td>\n",
       "      <td>...</td>\n",
       "      <td>...</td>\n",
       "      <td>...</td>\n",
       "      <td>...</td>\n",
       "      <td>...</td>\n",
       "    </tr>\n",
       "    <tr>\n",
       "      <th>47008534</th>\n",
       "      <td>沖縄県</td>\n",
       "      <td>うるま市</td>\n",
       "      <td>字宮里</td>\n",
       "      <td>NaN</td>\n",
       "      <td>NaN</td>\n",
       "      <td>４ＬＤＫ</td>\n",
       "      <td>65.0</td>\n",
       "      <td>10.0</td>\n",
       "      <td>ＳＲＣ</td>\n",
       "      <td>住宅</td>\n",
       "      <td>...</td>\n",
       "      <td>200.0</td>\n",
       "      <td>2019.75</td>\n",
       "      <td>未改装</td>\n",
       "      <td>NaN</td>\n",
       "      <td>7.342423</td>\n",
       "      <td>26.378685</td>\n",
       "      <td>127.857493</td>\n",
       "      <td>47</td>\n",
       "      <td>0.452388</td>\n",
       "      <td>2</td>\n",
       "    </tr>\n",
       "    <tr>\n",
       "      <th>47007866</th>\n",
       "      <td>沖縄県</td>\n",
       "      <td>うるま市</td>\n",
       "      <td>字江洲</td>\n",
       "      <td>NaN</td>\n",
       "      <td>NaN</td>\n",
       "      <td>３ＬＤＫ</td>\n",
       "      <td>70.0</td>\n",
       "      <td>6.0</td>\n",
       "      <td>ＲＣ</td>\n",
       "      <td>住宅</td>\n",
       "      <td>...</td>\n",
       "      <td>200.0</td>\n",
       "      <td>2018.99</td>\n",
       "      <td>改装済</td>\n",
       "      <td>NaN</td>\n",
       "      <td>7.447158</td>\n",
       "      <td>26.378685</td>\n",
       "      <td>127.857493</td>\n",
       "      <td>47</td>\n",
       "      <td>0.788960</td>\n",
       "      <td>2</td>\n",
       "    </tr>\n",
       "    <tr>\n",
       "      <th>47029524</th>\n",
       "      <td>沖縄県</td>\n",
       "      <td>うるま市</td>\n",
       "      <td>字塩屋</td>\n",
       "      <td>NaN</td>\n",
       "      <td>NaN</td>\n",
       "      <td>３ＬＤＫ</td>\n",
       "      <td>75.0</td>\n",
       "      <td>22.0</td>\n",
       "      <td>ＲＣ</td>\n",
       "      <td>住宅</td>\n",
       "      <td>...</td>\n",
       "      <td>100.0</td>\n",
       "      <td>2009.99</td>\n",
       "      <td>未改装</td>\n",
       "      <td>NaN</td>\n",
       "      <td>7.000000</td>\n",
       "      <td>26.378685</td>\n",
       "      <td>127.857493</td>\n",
       "      <td>47</td>\n",
       "      <td>-0.648002</td>\n",
       "      <td>0</td>\n",
       "    </tr>\n",
       "    <tr>\n",
       "      <th>47008285</th>\n",
       "      <td>沖縄県</td>\n",
       "      <td>うるま市</td>\n",
       "      <td>字塩屋</td>\n",
       "      <td>NaN</td>\n",
       "      <td>NaN</td>\n",
       "      <td>３ＬＤＫ</td>\n",
       "      <td>75.0</td>\n",
       "      <td>22.0</td>\n",
       "      <td>ＲＣ</td>\n",
       "      <td>住宅</td>\n",
       "      <td>...</td>\n",
       "      <td>100.0</td>\n",
       "      <td>2015.25</td>\n",
       "      <td>未改装</td>\n",
       "      <td>NaN</td>\n",
       "      <td>7.113943</td>\n",
       "      <td>26.378685</td>\n",
       "      <td>127.857493</td>\n",
       "      <td>47</td>\n",
       "      <td>-0.281840</td>\n",
       "      <td>0</td>\n",
       "    </tr>\n",
       "    <tr>\n",
       "      <th>47008266</th>\n",
       "      <td>沖縄県</td>\n",
       "      <td>うるま市</td>\n",
       "      <td>字塩屋</td>\n",
       "      <td>NaN</td>\n",
       "      <td>NaN</td>\n",
       "      <td>３ＬＤＫ</td>\n",
       "      <td>75.0</td>\n",
       "      <td>22.0</td>\n",
       "      <td>ＲＣ</td>\n",
       "      <td>住宅</td>\n",
       "      <td>...</td>\n",
       "      <td>NaN</td>\n",
       "      <td>2019.75</td>\n",
       "      <td>改装済</td>\n",
       "      <td>NaN</td>\n",
       "      <td>7.176091</td>\n",
       "      <td>26.378685</td>\n",
       "      <td>127.857493</td>\n",
       "      <td>47</td>\n",
       "      <td>-0.082125</td>\n",
       "      <td>0</td>\n",
       "    </tr>\n",
       "  </tbody>\n",
       "</table>\n",
       "<p>651975 rows × 23 columns</p>\n",
       "</div>"
      ],
      "text/plain": [
       "         都道府県名 市区町村名   地区名 最寄駅：名称  最寄駅：距離（分）   間取り  面積（㎡）   建築年 建物の構造  用途  \\\n",
       "ID                                                                          \n",
       "1117225    北海道  苫小牧市  新中野町    苫小牧       25.0  ３ＬＤＫ  120.0  12.0    ＲＣ  住宅   \n",
       "1114724    北海道  苫小牧市   青葉町     青葉        9.0  ３ＬＤＫ   70.0  35.0    ＲＣ  住宅   \n",
       "1114753    北海道  苫小牧市   青葉町     青葉        3.0  ３ＬＤＫ   70.0  31.0    ＲＣ  住宅   \n",
       "1120806    北海道  苫小牧市    表町    苫小牧        8.0  ４ＬＤＫ  105.0  18.0    ＲＣ  住宅   \n",
       "1117264    北海道  苫小牧市  新中野町    苫小牧       25.0  ３ＬＤＫ   90.0  15.0    ＲＣ  住宅   \n",
       "...        ...   ...   ...    ...        ...   ...    ...   ...   ...  ..   \n",
       "47008534   沖縄県  うるま市   字宮里    NaN        NaN  ４ＬＤＫ   65.0  10.0   ＳＲＣ  住宅   \n",
       "47007866   沖縄県  うるま市   字江洲    NaN        NaN  ３ＬＤＫ   70.0   6.0    ＲＣ  住宅   \n",
       "47029524   沖縄県  うるま市   字塩屋    NaN        NaN  ３ＬＤＫ   75.0  22.0    ＲＣ  住宅   \n",
       "47008285   沖縄県  うるま市   字塩屋    NaN        NaN  ３ＬＤＫ   75.0  22.0    ＲＣ  住宅   \n",
       "47008266   沖縄県  うるま市   字塩屋    NaN        NaN  ３ＬＤＫ   75.0  22.0    ＲＣ  住宅   \n",
       "\n",
       "          ... 容積率（％）     取引時点   改装  取引の事情等  取引価格（総額）_log         緯度  \\\n",
       "ID        ...                                                         \n",
       "1117225   ...  200.0  2018.75  未改装     NaN      7.431364  42.631246   \n",
       "1114724   ...  200.0  2017.75  未改装     NaN      6.342423  42.631246   \n",
       "1114753   ...  200.0  2016.50  改装済     NaN      6.778151  42.631246   \n",
       "1120806   ...  400.0  2011.99  未改装     NaN      7.230449  42.631246   \n",
       "1117264   ...  200.0  2015.50  未改装     NaN      7.204120  42.631246   \n",
       "...       ...    ...      ...  ...     ...           ...        ...   \n",
       "47008534  ...  200.0  2019.75  未改装     NaN      7.342423  26.378685   \n",
       "47007866  ...  200.0  2018.99  改装済     NaN      7.447158  26.378685   \n",
       "47029524  ...  100.0  2009.99  未改装     NaN      7.000000  26.378685   \n",
       "47008285  ...  100.0  2015.25  未改装     NaN      7.113943  26.378685   \n",
       "47008266  ...    NaN  2019.75  改装済     NaN      7.176091  26.378685   \n",
       "\n",
       "                  経度  都道府県名_en    zscore  クラスタ  \n",
       "ID                                              \n",
       "1117225   141.603122         1  1.231246     0  \n",
       "1114724   141.603122         1 -1.764705     2  \n",
       "1114753   141.603122         1 -0.565906     2  \n",
       "1120806   141.603122         1  0.678479     0  \n",
       "1117264   141.603122         1  0.606041     0  \n",
       "...              ...       ...       ...   ...  \n",
       "47008534  127.857493        47  0.452388     2  \n",
       "47007866  127.857493        47  0.788960     2  \n",
       "47029524  127.857493        47 -0.648002     0  \n",
       "47008285  127.857493        47 -0.281840     0  \n",
       "47008266  127.857493        47 -0.082125     0  \n",
       "\n",
       "[651975 rows x 23 columns]"
      ]
     },
     "execution_count": 16,
     "metadata": {},
     "output_type": "execute_result"
    }
   ],
   "source": [
    "df"
   ]
  },
  {
   "cell_type": "code",
   "execution_count": 17,
   "id": "ultimate-earth",
   "metadata": {},
   "outputs": [],
   "source": [
    "# df.groupby(\"都道府県名\")[\"クラスタ平均\"].mean()"
   ]
  },
  {
   "cell_type": "code",
   "execution_count": 18,
   "id": "public-needle",
   "metadata": {},
   "outputs": [],
   "source": [
    "# df_area"
   ]
  },
  {
   "cell_type": "code",
   "execution_count": 19,
   "id": "egyptian-minutes",
   "metadata": {},
   "outputs": [],
   "source": [
    "df_area.to_csv('./feature_data/area_cluster.csv', index=False)"
   ]
  },
  {
   "cell_type": "code",
   "execution_count": 20,
   "id": "prescribed-fancy",
   "metadata": {},
   "outputs": [],
   "source": [
    "df = pd.merge(df, df_area, on=\"市区町村名\")\n",
    "df[\"市区町村名\"] = df[\"市区町村名\"].astype(\"category\")"
   ]
  },
  {
   "cell_type": "code",
   "execution_count": 21,
   "id": "significant-warrior",
   "metadata": {},
   "outputs": [],
   "source": [
    "df = df.drop(\"都道府県名_en\", axis=1)"
   ]
  },
  {
   "cell_type": "code",
   "execution_count": 22,
   "id": "freelance-technical",
   "metadata": {},
   "outputs": [
    {
     "data": {
      "text/html": [
       "<div>\n",
       "<style scoped>\n",
       "    .dataframe tbody tr th:only-of-type {\n",
       "        vertical-align: middle;\n",
       "    }\n",
       "\n",
       "    .dataframe tbody tr th {\n",
       "        vertical-align: top;\n",
       "    }\n",
       "\n",
       "    .dataframe thead th {\n",
       "        text-align: right;\n",
       "    }\n",
       "</style>\n",
       "<table border=\"1\" class=\"dataframe\">\n",
       "  <thead>\n",
       "    <tr style=\"text-align: right;\">\n",
       "      <th></th>\n",
       "      <th>都道府県名</th>\n",
       "      <th>市区町村名</th>\n",
       "      <th>地区名</th>\n",
       "      <th>最寄駅：名称</th>\n",
       "      <th>最寄駅：距離（分）</th>\n",
       "      <th>間取り</th>\n",
       "      <th>面積（㎡）</th>\n",
       "      <th>建築年</th>\n",
       "      <th>建物の構造</th>\n",
       "      <th>用途</th>\n",
       "      <th>...</th>\n",
       "      <th>容積率（％）</th>\n",
       "      <th>取引時点</th>\n",
       "      <th>改装</th>\n",
       "      <th>取引の事情等</th>\n",
       "      <th>取引価格（総額）_log</th>\n",
       "      <th>緯度</th>\n",
       "      <th>経度</th>\n",
       "      <th>zscore</th>\n",
       "      <th>クラスタ</th>\n",
       "      <th>クラスタ平均</th>\n",
       "    </tr>\n",
       "  </thead>\n",
       "  <tbody>\n",
       "    <tr>\n",
       "      <th>0</th>\n",
       "      <td>北海道</td>\n",
       "      <td>苫小牧市</td>\n",
       "      <td>新中野町</td>\n",
       "      <td>苫小牧</td>\n",
       "      <td>25.0</td>\n",
       "      <td>３ＬＤＫ</td>\n",
       "      <td>120.0</td>\n",
       "      <td>12.0</td>\n",
       "      <td>ＲＣ</td>\n",
       "      <td>住宅</td>\n",
       "      <td>...</td>\n",
       "      <td>200.0</td>\n",
       "      <td>2018.75</td>\n",
       "      <td>未改装</td>\n",
       "      <td>NaN</td>\n",
       "      <td>7.431364</td>\n",
       "      <td>42.631246</td>\n",
       "      <td>141.603122</td>\n",
       "      <td>1.231246</td>\n",
       "      <td>0</td>\n",
       "      <td>0.753012</td>\n",
       "    </tr>\n",
       "    <tr>\n",
       "      <th>1</th>\n",
       "      <td>北海道</td>\n",
       "      <td>苫小牧市</td>\n",
       "      <td>青葉町</td>\n",
       "      <td>青葉</td>\n",
       "      <td>9.0</td>\n",
       "      <td>３ＬＤＫ</td>\n",
       "      <td>70.0</td>\n",
       "      <td>35.0</td>\n",
       "      <td>ＲＣ</td>\n",
       "      <td>住宅</td>\n",
       "      <td>...</td>\n",
       "      <td>200.0</td>\n",
       "      <td>2017.75</td>\n",
       "      <td>未改装</td>\n",
       "      <td>NaN</td>\n",
       "      <td>6.342423</td>\n",
       "      <td>42.631246</td>\n",
       "      <td>141.603122</td>\n",
       "      <td>-1.764705</td>\n",
       "      <td>2</td>\n",
       "      <td>0.753012</td>\n",
       "    </tr>\n",
       "    <tr>\n",
       "      <th>2</th>\n",
       "      <td>北海道</td>\n",
       "      <td>苫小牧市</td>\n",
       "      <td>青葉町</td>\n",
       "      <td>青葉</td>\n",
       "      <td>3.0</td>\n",
       "      <td>３ＬＤＫ</td>\n",
       "      <td>70.0</td>\n",
       "      <td>31.0</td>\n",
       "      <td>ＲＣ</td>\n",
       "      <td>住宅</td>\n",
       "      <td>...</td>\n",
       "      <td>200.0</td>\n",
       "      <td>2016.50</td>\n",
       "      <td>改装済</td>\n",
       "      <td>NaN</td>\n",
       "      <td>6.778151</td>\n",
       "      <td>42.631246</td>\n",
       "      <td>141.603122</td>\n",
       "      <td>-0.565906</td>\n",
       "      <td>2</td>\n",
       "      <td>0.753012</td>\n",
       "    </tr>\n",
       "    <tr>\n",
       "      <th>3</th>\n",
       "      <td>北海道</td>\n",
       "      <td>苫小牧市</td>\n",
       "      <td>表町</td>\n",
       "      <td>苫小牧</td>\n",
       "      <td>8.0</td>\n",
       "      <td>４ＬＤＫ</td>\n",
       "      <td>105.0</td>\n",
       "      <td>18.0</td>\n",
       "      <td>ＲＣ</td>\n",
       "      <td>住宅</td>\n",
       "      <td>...</td>\n",
       "      <td>400.0</td>\n",
       "      <td>2011.99</td>\n",
       "      <td>未改装</td>\n",
       "      <td>NaN</td>\n",
       "      <td>7.230449</td>\n",
       "      <td>42.631246</td>\n",
       "      <td>141.603122</td>\n",
       "      <td>0.678479</td>\n",
       "      <td>0</td>\n",
       "      <td>0.753012</td>\n",
       "    </tr>\n",
       "    <tr>\n",
       "      <th>4</th>\n",
       "      <td>北海道</td>\n",
       "      <td>苫小牧市</td>\n",
       "      <td>新中野町</td>\n",
       "      <td>苫小牧</td>\n",
       "      <td>25.0</td>\n",
       "      <td>３ＬＤＫ</td>\n",
       "      <td>90.0</td>\n",
       "      <td>15.0</td>\n",
       "      <td>ＲＣ</td>\n",
       "      <td>住宅</td>\n",
       "      <td>...</td>\n",
       "      <td>200.0</td>\n",
       "      <td>2015.50</td>\n",
       "      <td>未改装</td>\n",
       "      <td>NaN</td>\n",
       "      <td>7.204120</td>\n",
       "      <td>42.631246</td>\n",
       "      <td>141.603122</td>\n",
       "      <td>0.606041</td>\n",
       "      <td>0</td>\n",
       "      <td>0.753012</td>\n",
       "    </tr>\n",
       "  </tbody>\n",
       "</table>\n",
       "<p>5 rows × 23 columns</p>\n",
       "</div>"
      ],
      "text/plain": [
       "  都道府県名 市区町村名   地区名 最寄駅：名称  最寄駅：距離（分）   間取り  面積（㎡）   建築年 建物の構造  用途  ...  \\\n",
       "0   北海道  苫小牧市  新中野町    苫小牧       25.0  ３ＬＤＫ  120.0  12.0    ＲＣ  住宅  ...   \n",
       "1   北海道  苫小牧市   青葉町     青葉        9.0  ３ＬＤＫ   70.0  35.0    ＲＣ  住宅  ...   \n",
       "2   北海道  苫小牧市   青葉町     青葉        3.0  ３ＬＤＫ   70.0  31.0    ＲＣ  住宅  ...   \n",
       "3   北海道  苫小牧市    表町    苫小牧        8.0  ４ＬＤＫ  105.0  18.0    ＲＣ  住宅  ...   \n",
       "4   北海道  苫小牧市  新中野町    苫小牧       25.0  ３ＬＤＫ   90.0  15.0    ＲＣ  住宅  ...   \n",
       "\n",
       "  容積率（％）     取引時点   改装  取引の事情等  取引価格（総額）_log         緯度          経度    zscore  \\\n",
       "0  200.0  2018.75  未改装     NaN      7.431364  42.631246  141.603122  1.231246   \n",
       "1  200.0  2017.75  未改装     NaN      6.342423  42.631246  141.603122 -1.764705   \n",
       "2  200.0  2016.50  改装済     NaN      6.778151  42.631246  141.603122 -0.565906   \n",
       "3  400.0  2011.99  未改装     NaN      7.230449  42.631246  141.603122  0.678479   \n",
       "4  200.0  2015.50  未改装     NaN      7.204120  42.631246  141.603122  0.606041   \n",
       "\n",
       "   クラスタ    クラスタ平均  \n",
       "0     0  0.753012  \n",
       "1     2  0.753012  \n",
       "2     2  0.753012  \n",
       "3     0  0.753012  \n",
       "4     0  0.753012  \n",
       "\n",
       "[5 rows x 23 columns]"
      ]
     },
     "execution_count": 22,
     "metadata": {},
     "output_type": "execute_result"
    }
   ],
   "source": [
    "df.head()"
   ]
  },
  {
   "cell_type": "code",
   "execution_count": 23,
   "id": "common-belgium",
   "metadata": {},
   "outputs": [],
   "source": [
    "df = df.drop(['zscore', 'クラスタ'], axis=1)"
   ]
  },
  {
   "cell_type": "code",
   "execution_count": 24,
   "id": "intellectual-crisis",
   "metadata": {},
   "outputs": [
    {
     "data": {
      "text/html": [
       "<div>\n",
       "<style scoped>\n",
       "    .dataframe tbody tr th:only-of-type {\n",
       "        vertical-align: middle;\n",
       "    }\n",
       "\n",
       "    .dataframe tbody tr th {\n",
       "        vertical-align: top;\n",
       "    }\n",
       "\n",
       "    .dataframe thead th {\n",
       "        text-align: right;\n",
       "    }\n",
       "</style>\n",
       "<table border=\"1\" class=\"dataframe\">\n",
       "  <thead>\n",
       "    <tr style=\"text-align: right;\">\n",
       "      <th></th>\n",
       "      <th>都道府県名</th>\n",
       "      <th>市区町村名</th>\n",
       "      <th>地区名</th>\n",
       "      <th>最寄駅：名称</th>\n",
       "      <th>最寄駅：距離（分）</th>\n",
       "      <th>間取り</th>\n",
       "      <th>面積（㎡）</th>\n",
       "      <th>建築年</th>\n",
       "      <th>建物の構造</th>\n",
       "      <th>用途</th>\n",
       "      <th>...</th>\n",
       "      <th>都市計画</th>\n",
       "      <th>建ぺい率（％）</th>\n",
       "      <th>容積率（％）</th>\n",
       "      <th>取引時点</th>\n",
       "      <th>改装</th>\n",
       "      <th>取引の事情等</th>\n",
       "      <th>取引価格（総額）_log</th>\n",
       "      <th>緯度</th>\n",
       "      <th>経度</th>\n",
       "      <th>クラスタ平均</th>\n",
       "    </tr>\n",
       "  </thead>\n",
       "  <tbody>\n",
       "    <tr>\n",
       "      <th>0</th>\n",
       "      <td>北海道</td>\n",
       "      <td>苫小牧市</td>\n",
       "      <td>新中野町</td>\n",
       "      <td>苫小牧</td>\n",
       "      <td>25.0</td>\n",
       "      <td>３ＬＤＫ</td>\n",
       "      <td>120.0</td>\n",
       "      <td>12.0</td>\n",
       "      <td>ＲＣ</td>\n",
       "      <td>住宅</td>\n",
       "      <td>...</td>\n",
       "      <td>準工業地域</td>\n",
       "      <td>60.0</td>\n",
       "      <td>200.0</td>\n",
       "      <td>2018.75</td>\n",
       "      <td>未改装</td>\n",
       "      <td>NaN</td>\n",
       "      <td>7.431364</td>\n",
       "      <td>42.631246</td>\n",
       "      <td>141.603122</td>\n",
       "      <td>0.753012</td>\n",
       "    </tr>\n",
       "    <tr>\n",
       "      <th>1</th>\n",
       "      <td>北海道</td>\n",
       "      <td>苫小牧市</td>\n",
       "      <td>青葉町</td>\n",
       "      <td>青葉</td>\n",
       "      <td>9.0</td>\n",
       "      <td>３ＬＤＫ</td>\n",
       "      <td>70.0</td>\n",
       "      <td>35.0</td>\n",
       "      <td>ＲＣ</td>\n",
       "      <td>住宅</td>\n",
       "      <td>...</td>\n",
       "      <td>第１種中高層住居専用地域</td>\n",
       "      <td>60.0</td>\n",
       "      <td>200.0</td>\n",
       "      <td>2017.75</td>\n",
       "      <td>未改装</td>\n",
       "      <td>NaN</td>\n",
       "      <td>6.342423</td>\n",
       "      <td>42.631246</td>\n",
       "      <td>141.603122</td>\n",
       "      <td>0.753012</td>\n",
       "    </tr>\n",
       "    <tr>\n",
       "      <th>2</th>\n",
       "      <td>北海道</td>\n",
       "      <td>苫小牧市</td>\n",
       "      <td>青葉町</td>\n",
       "      <td>青葉</td>\n",
       "      <td>3.0</td>\n",
       "      <td>３ＬＤＫ</td>\n",
       "      <td>70.0</td>\n",
       "      <td>31.0</td>\n",
       "      <td>ＲＣ</td>\n",
       "      <td>住宅</td>\n",
       "      <td>...</td>\n",
       "      <td>第１種中高層住居専用地域</td>\n",
       "      <td>60.0</td>\n",
       "      <td>200.0</td>\n",
       "      <td>2016.50</td>\n",
       "      <td>改装済</td>\n",
       "      <td>NaN</td>\n",
       "      <td>6.778151</td>\n",
       "      <td>42.631246</td>\n",
       "      <td>141.603122</td>\n",
       "      <td>0.753012</td>\n",
       "    </tr>\n",
       "    <tr>\n",
       "      <th>3</th>\n",
       "      <td>北海道</td>\n",
       "      <td>苫小牧市</td>\n",
       "      <td>表町</td>\n",
       "      <td>苫小牧</td>\n",
       "      <td>8.0</td>\n",
       "      <td>４ＬＤＫ</td>\n",
       "      <td>105.0</td>\n",
       "      <td>18.0</td>\n",
       "      <td>ＲＣ</td>\n",
       "      <td>住宅</td>\n",
       "      <td>...</td>\n",
       "      <td>商業地域</td>\n",
       "      <td>80.0</td>\n",
       "      <td>400.0</td>\n",
       "      <td>2011.99</td>\n",
       "      <td>未改装</td>\n",
       "      <td>NaN</td>\n",
       "      <td>7.230449</td>\n",
       "      <td>42.631246</td>\n",
       "      <td>141.603122</td>\n",
       "      <td>0.753012</td>\n",
       "    </tr>\n",
       "    <tr>\n",
       "      <th>4</th>\n",
       "      <td>北海道</td>\n",
       "      <td>苫小牧市</td>\n",
       "      <td>新中野町</td>\n",
       "      <td>苫小牧</td>\n",
       "      <td>25.0</td>\n",
       "      <td>３ＬＤＫ</td>\n",
       "      <td>90.0</td>\n",
       "      <td>15.0</td>\n",
       "      <td>ＲＣ</td>\n",
       "      <td>住宅</td>\n",
       "      <td>...</td>\n",
       "      <td>準工業地域</td>\n",
       "      <td>60.0</td>\n",
       "      <td>200.0</td>\n",
       "      <td>2015.50</td>\n",
       "      <td>未改装</td>\n",
       "      <td>NaN</td>\n",
       "      <td>7.204120</td>\n",
       "      <td>42.631246</td>\n",
       "      <td>141.603122</td>\n",
       "      <td>0.753012</td>\n",
       "    </tr>\n",
       "  </tbody>\n",
       "</table>\n",
       "<p>5 rows × 21 columns</p>\n",
       "</div>"
      ],
      "text/plain": [
       "  都道府県名 市区町村名   地区名 最寄駅：名称  最寄駅：距離（分）   間取り  面積（㎡）   建築年 建物の構造  用途  ...  \\\n",
       "0   北海道  苫小牧市  新中野町    苫小牧       25.0  ３ＬＤＫ  120.0  12.0    ＲＣ  住宅  ...   \n",
       "1   北海道  苫小牧市   青葉町     青葉        9.0  ３ＬＤＫ   70.0  35.0    ＲＣ  住宅  ...   \n",
       "2   北海道  苫小牧市   青葉町     青葉        3.0  ３ＬＤＫ   70.0  31.0    ＲＣ  住宅  ...   \n",
       "3   北海道  苫小牧市    表町    苫小牧        8.0  ４ＬＤＫ  105.0  18.0    ＲＣ  住宅  ...   \n",
       "4   北海道  苫小牧市  新中野町    苫小牧       25.0  ３ＬＤＫ   90.0  15.0    ＲＣ  住宅  ...   \n",
       "\n",
       "           都市計画 建ぺい率（％）  容積率（％）     取引時点   改装 取引の事情等 取引価格（総額）_log         緯度  \\\n",
       "0         準工業地域    60.0   200.0  2018.75  未改装    NaN     7.431364  42.631246   \n",
       "1  第１種中高層住居専用地域    60.0   200.0  2017.75  未改装    NaN     6.342423  42.631246   \n",
       "2  第１種中高層住居専用地域    60.0   200.0  2016.50  改装済    NaN     6.778151  42.631246   \n",
       "3          商業地域    80.0   400.0  2011.99  未改装    NaN     7.230449  42.631246   \n",
       "4         準工業地域    60.0   200.0  2015.50  未改装    NaN     7.204120  42.631246   \n",
       "\n",
       "           経度    クラスタ平均  \n",
       "0  141.603122  0.753012  \n",
       "1  141.603122  0.753012  \n",
       "2  141.603122  0.753012  \n",
       "3  141.603122  0.753012  \n",
       "4  141.603122  0.753012  \n",
       "\n",
       "[5 rows x 21 columns]"
      ]
     },
     "execution_count": 24,
     "metadata": {},
     "output_type": "execute_result"
    }
   ],
   "source": [
    "df.head()"
   ]
  },
  {
   "cell_type": "code",
   "execution_count": 25,
   "id": "returning-marine",
   "metadata": {},
   "outputs": [],
   "source": [
    "from sklearn.model_selection import train_test_split\n",
    "from sklearn.metrics import mean_absolute_error as mae\n",
    "import lightgbm\n",
    "import optuna.integration.lightgbm as lgb\n",
    "\n",
    "\n",
    "df_train, df_val = train_test_split(df, test_size=0.2)\n",
    "\n",
    "col = \"取引価格（総額）_log\"\n",
    "train_y = df_train[col]\n",
    "train_x = df_train.drop(col, axis=1)\n",
    "\n",
    "val_y = df_val[col]\n",
    "val_x = df_val.drop(col, axis=1)\n",
    "\n",
    "trains = lgb.Dataset(train_x, train_y)\n",
    "valids = lgb.Dataset(val_x, val_y)"
   ]
  },
  {
   "cell_type": "code",
   "execution_count": 26,
   "id": "dependent-nepal",
   "metadata": {},
   "outputs": [
    {
     "name": "stderr",
     "output_type": "stream",
     "text": [
      "\u001b[32m[I 2021-05-27 14:31:16,168]\u001b[0m A new study created in memory with name: no-name-bbe7f3ff-1270-4d82-a74a-8f003bdc60f9\u001b[0m\n",
      "feature_fraction, val_score: inf:   0%|          | 0/7 [00:00<?, ?it/s]"
     ]
    },
    {
     "name": "stdout",
     "output_type": "stream",
     "text": [
      "[LightGBM] [Warning] Auto-choosing row-wise multi-threading, the overhead of testing was 0.014921 seconds.\n",
      "You can set `force_row_wise=true` to remove the overhead.\n",
      "And if memory is not enough, you can set `force_col_wise=true`.\n",
      "[LightGBM] [Info] Total Bins 12536\n",
      "[LightGBM] [Info] Number of data points in the train set: 521580, number of used features: 20\n",
      "[LightGBM] [Info] Start training from score 7.219091\n",
      "Training until validation scores don't improve for 100 rounds\n"
     ]
    },
    {
     "name": "stderr",
     "output_type": "stream",
     "text": [
      "/opt/conda/lib/python3.7/site-packages/lightgbm/basic.py:1433: UserWarning: Overriding the parameters from Reference Dataset.\n",
      "  _log_warning('Overriding the parameters from Reference Dataset.')\n",
      "/opt/conda/lib/python3.7/site-packages/lightgbm/basic.py:1245: UserWarning: categorical_column in param dict is overridden.\n",
      "  _log_warning('{} in param dict is overridden.'.format(cat_alias))\n"
     ]
    },
    {
     "name": "stdout",
     "output_type": "stream",
     "text": [
      "[200]\tvalid_0's l1: 0.0783795\n",
      "[400]\tvalid_0's l1: 0.0767798\n",
      "[600]\tvalid_0's l1: 0.0763751\n",
      "[800]\tvalid_0's l1: 0.0761248\n",
      "[1000]\tvalid_0's l1: 0.0760245\n",
      "Did not meet early stopping. Best iteration is:\n",
      "[980]\tvalid_0's l1: 0.0760145\n"
     ]
    },
    {
     "name": "stderr",
     "output_type": "stream",
     "text": [
      "feature_fraction, val_score: 0.076015:  14%|#4        | 1/7 [00:27<02:47, 27.95s/it]\u001b[32m[I 2021-05-27 14:31:44,125]\u001b[0m Trial 0 finished with value: 0.07601451887934593 and parameters: {'feature_fraction': 1.0}. Best is trial 0 with value: 0.07601451887934593.\u001b[0m\n",
      "feature_fraction, val_score: 0.076015:  14%|#4        | 1/7 [00:27<02:47, 27.95s/it]"
     ]
    },
    {
     "name": "stdout",
     "output_type": "stream",
     "text": [
      "[LightGBM] [Warning] Auto-choosing col-wise multi-threading, the overhead of testing was 0.031546 seconds.\n",
      "You can set `force_col_wise=true` to remove the overhead.\n",
      "[LightGBM] [Info] Total Bins 12536\n",
      "[LightGBM] [Info] Number of data points in the train set: 521580, number of used features: 20\n",
      "[LightGBM] [Info] Start training from score 7.219091\n",
      "Training until validation scores don't improve for 100 rounds\n",
      "[200]\tvalid_0's l1: 0.0779935\n",
      "[400]\tvalid_0's l1: 0.076401\n",
      "[600]\tvalid_0's l1: 0.0758915\n",
      "[800]\tvalid_0's l1: 0.075665\n",
      "[1000]\tvalid_0's l1: 0.0755303\n",
      "Did not meet early stopping. Best iteration is:\n",
      "[1000]\tvalid_0's l1: 0.0755303\n"
     ]
    },
    {
     "name": "stderr",
     "output_type": "stream",
     "text": [
      "feature_fraction, val_score: 0.075530:  29%|##8       | 2/7 [00:51<02:07, 25.42s/it]\u001b[32m[I 2021-05-27 14:32:07,780]\u001b[0m Trial 1 finished with value: 0.07553026038731125 and parameters: {'feature_fraction': 0.7}. Best is trial 1 with value: 0.07553026038731125.\u001b[0m\n",
      "feature_fraction, val_score: 0.075530:  29%|##8       | 2/7 [00:51<02:07, 25.42s/it]"
     ]
    },
    {
     "name": "stdout",
     "output_type": "stream",
     "text": [
      "[LightGBM] [Warning] Auto-choosing col-wise multi-threading, the overhead of testing was 0.032204 seconds.\n",
      "You can set `force_col_wise=true` to remove the overhead.\n",
      "[LightGBM] [Info] Total Bins 12536\n",
      "[LightGBM] [Info] Number of data points in the train set: 521580, number of used features: 20\n",
      "[LightGBM] [Info] Start training from score 7.219091\n",
      "Training until validation scores don't improve for 100 rounds\n",
      "[200]\tvalid_0's l1: 0.0782253\n",
      "[400]\tvalid_0's l1: 0.0766878\n",
      "[600]\tvalid_0's l1: 0.076167\n",
      "[800]\tvalid_0's l1: 0.0759588\n",
      "[1000]\tvalid_0's l1: 0.0757874\n",
      "Did not meet early stopping. Best iteration is:\n",
      "[998]\tvalid_0's l1: 0.0757851\n"
     ]
    },
    {
     "name": "stderr",
     "output_type": "stream",
     "text": [
      "feature_fraction, val_score: 0.075530:  43%|####2     | 3/7 [01:17<01:42, 25.66s/it]\u001b[32m[I 2021-05-27 14:32:33,732]\u001b[0m Trial 2 finished with value: 0.07578512589936282 and parameters: {'feature_fraction': 0.8}. Best is trial 1 with value: 0.07553026038731125.\u001b[0m\n",
      "feature_fraction, val_score: 0.075530:  43%|####2     | 3/7 [01:17<01:42, 25.66s/it]"
     ]
    },
    {
     "name": "stdout",
     "output_type": "stream",
     "text": [
      "[LightGBM] [Warning] Auto-choosing row-wise multi-threading, the overhead of testing was 0.010036 seconds.\n",
      "You can set `force_row_wise=true` to remove the overhead.\n",
      "And if memory is not enough, you can set `force_col_wise=true`.\n",
      "[LightGBM] [Info] Total Bins 12536\n",
      "[LightGBM] [Info] Number of data points in the train set: 521580, number of used features: 20\n",
      "[LightGBM] [Info] Start training from score 7.219091\n",
      "Training until validation scores don't improve for 100 rounds\n",
      "[200]\tvalid_0's l1: 0.0780115\n",
      "[400]\tvalid_0's l1: 0.0761128\n",
      "[600]\tvalid_0's l1: 0.0755882\n",
      "[800]\tvalid_0's l1: 0.0753081\n",
      "[1000]\tvalid_0's l1: 0.0750991\n",
      "Did not meet early stopping. Best iteration is:\n",
      "[990]\tvalid_0's l1: 0.0750976\n"
     ]
    },
    {
     "name": "stderr",
     "output_type": "stream",
     "text": [
      "feature_fraction, val_score: 0.075098:  57%|#####7    | 4/7 [01:41<01:15, 25.03s/it]\u001b[32m[I 2021-05-27 14:32:57,795]\u001b[0m Trial 3 finished with value: 0.07509760783884398 and parameters: {'feature_fraction': 0.5}. Best is trial 3 with value: 0.07509760783884398.\u001b[0m\n",
      "feature_fraction, val_score: 0.075098:  57%|#####7    | 4/7 [01:41<01:15, 25.03s/it]"
     ]
    },
    {
     "name": "stdout",
     "output_type": "stream",
     "text": [
      "[LightGBM] [Warning] Auto-choosing col-wise multi-threading, the overhead of testing was 0.031272 seconds.\n",
      "You can set `force_col_wise=true` to remove the overhead.\n",
      "[LightGBM] [Info] Total Bins 12536\n",
      "[LightGBM] [Info] Number of data points in the train set: 521580, number of used features: 20\n",
      "[LightGBM] [Info] Start training from score 7.219091\n",
      "Training until validation scores don't improve for 100 rounds\n",
      "[200]\tvalid_0's l1: 0.0779551\n",
      "[400]\tvalid_0's l1: 0.0762454\n",
      "[600]\tvalid_0's l1: 0.0756859\n",
      "[800]\tvalid_0's l1: 0.0754093\n",
      "[1000]\tvalid_0's l1: 0.0752399\n",
      "Did not meet early stopping. Best iteration is:\n",
      "[1000]\tvalid_0's l1: 0.0752399\n"
     ]
    },
    {
     "name": "stderr",
     "output_type": "stream",
     "text": [
      "feature_fraction, val_score: 0.075098:  71%|#######1  | 5/7 [02:04<00:48, 24.16s/it]\u001b[32m[I 2021-05-27 14:33:20,414]\u001b[0m Trial 4 finished with value: 0.07523993841127362 and parameters: {'feature_fraction': 0.6}. Best is trial 3 with value: 0.07509760783884398.\u001b[0m\n",
      "feature_fraction, val_score: 0.075098:  71%|#######1  | 5/7 [02:04<00:48, 24.16s/it]"
     ]
    },
    {
     "name": "stdout",
     "output_type": "stream",
     "text": [
      "[LightGBM] [Warning] Auto-choosing row-wise multi-threading, the overhead of testing was 0.014540 seconds.\n",
      "You can set `force_row_wise=true` to remove the overhead.\n",
      "And if memory is not enough, you can set `force_col_wise=true`.\n",
      "[LightGBM] [Info] Total Bins 12536\n",
      "[LightGBM] [Info] Number of data points in the train set: 521580, number of used features: 20\n",
      "[LightGBM] [Info] Start training from score 7.219091\n",
      "Training until validation scores don't improve for 100 rounds\n",
      "[200]\tvalid_0's l1: 0.0782794\n",
      "[400]\tvalid_0's l1: 0.0767248\n",
      "[600]\tvalid_0's l1: 0.0762862\n",
      "[800]\tvalid_0's l1: 0.076065\n",
      "[1000]\tvalid_0's l1: 0.0759449\n",
      "Did not meet early stopping. Best iteration is:\n",
      "[996]\tvalid_0's l1: 0.0759439\n"
     ]
    },
    {
     "name": "stderr",
     "output_type": "stream",
     "text": [
      "feature_fraction, val_score: 0.075098:  86%|########5 | 6/7 [02:31<00:25, 25.30s/it]\u001b[32m[I 2021-05-27 14:33:47,919]\u001b[0m Trial 5 finished with value: 0.07594391348704019 and parameters: {'feature_fraction': 0.8999999999999999}. Best is trial 3 with value: 0.07509760783884398.\u001b[0m\n",
      "feature_fraction, val_score: 0.075098:  86%|########5 | 6/7 [02:31<00:25, 25.30s/it]"
     ]
    },
    {
     "name": "stdout",
     "output_type": "stream",
     "text": [
      "[LightGBM] [Warning] Auto-choosing row-wise multi-threading, the overhead of testing was 0.008649 seconds.\n",
      "You can set `force_row_wise=true` to remove the overhead.\n",
      "And if memory is not enough, you can set `force_col_wise=true`.\n",
      "[LightGBM] [Info] Total Bins 12536\n",
      "[LightGBM] [Info] Number of data points in the train set: 521580, number of used features: 20\n",
      "[LightGBM] [Info] Start training from score 7.219091\n",
      "Training until validation scores don't improve for 100 rounds\n",
      "[200]\tvalid_0's l1: 0.0786814\n",
      "[400]\tvalid_0's l1: 0.0763869\n",
      "[600]\tvalid_0's l1: 0.0758422\n",
      "[800]\tvalid_0's l1: 0.0754625\n",
      "[1000]\tvalid_0's l1: 0.0752364\n",
      "Did not meet early stopping. Best iteration is:\n",
      "[1000]\tvalid_0's l1: 0.0752364\n"
     ]
    },
    {
     "name": "stderr",
     "output_type": "stream",
     "text": [
      "feature_fraction, val_score: 0.075098: 100%|##########| 7/7 [02:53<00:00, 24.07s/it]\u001b[32m[I 2021-05-27 14:34:09,459]\u001b[0m Trial 6 finished with value: 0.07523636303291587 and parameters: {'feature_fraction': 0.4}. Best is trial 3 with value: 0.07509760783884398.\u001b[0m\n",
      "feature_fraction, val_score: 0.075098: 100%|##########| 7/7 [02:53<00:00, 24.76s/it]\n",
      "num_leaves, val_score: 0.075098:   0%|          | 0/20 [00:00<?, ?it/s]"
     ]
    },
    {
     "name": "stdout",
     "output_type": "stream",
     "text": [
      "[LightGBM] [Warning] Auto-choosing row-wise multi-threading, the overhead of testing was 0.010060 seconds.\n",
      "You can set `force_row_wise=true` to remove the overhead.\n",
      "And if memory is not enough, you can set `force_col_wise=true`.\n",
      "[LightGBM] [Info] Total Bins 12536\n",
      "[LightGBM] [Info] Number of data points in the train set: 521580, number of used features: 20\n",
      "[LightGBM] [Info] Start training from score 7.219091\n",
      "Training until validation scores don't improve for 100 rounds\n",
      "[200]\tvalid_0's l1: 0.0756217\n",
      "[400]\tvalid_0's l1: 0.0749486\n",
      "[600]\tvalid_0's l1: 0.0748019\n",
      "[800]\tvalid_0's l1: 0.0747325\n",
      "[1000]\tvalid_0's l1: 0.0746738\n",
      "Did not meet early stopping. Best iteration is:\n",
      "[1000]\tvalid_0's l1: 0.0746738\n"
     ]
    },
    {
     "name": "stderr",
     "output_type": "stream",
     "text": [
      "num_leaves, val_score: 0.074674:   5%|5         | 1/20 [00:31<09:55, 31.32s/it]\u001b[32m[I 2021-05-27 14:34:40,780]\u001b[0m Trial 7 finished with value: 0.07467380608529485 and parameters: {'num_leaves': 87}. Best is trial 7 with value: 0.07467380608529485.\u001b[0m\n",
      "num_leaves, val_score: 0.074674:   5%|5         | 1/20 [00:31<09:55, 31.32s/it]"
     ]
    },
    {
     "name": "stdout",
     "output_type": "stream",
     "text": [
      "[LightGBM] [Warning] Auto-choosing row-wise multi-threading, the overhead of testing was 0.010291 seconds.\n",
      "You can set `force_row_wise=true` to remove the overhead.\n",
      "And if memory is not enough, you can set `force_col_wise=true`.\n",
      "[LightGBM] [Info] Total Bins 12536\n",
      "[LightGBM] [Info] Number of data points in the train set: 521580, number of used features: 20\n",
      "[LightGBM] [Info] Start training from score 7.219091\n",
      "Training until validation scores don't improve for 100 rounds\n",
      "[200]\tvalid_0's l1: 0.0748351\n",
      "[400]\tvalid_0's l1: 0.0747278\n",
      "Early stopping, best iteration is:\n",
      "[305]\tvalid_0's l1: 0.0747031\n"
     ]
    },
    {
     "name": "stderr",
     "output_type": "stream",
     "text": [
      "num_leaves, val_score: 0.074674:  10%|#         | 2/20 [00:58<08:40, 28.89s/it]\u001b[32m[I 2021-05-27 14:35:07,980]\u001b[0m Trial 8 finished with value: 0.07470311379684762 and parameters: {'num_leaves': 216}. Best is trial 7 with value: 0.07467380608529485.\u001b[0m\n",
      "num_leaves, val_score: 0.074674:  10%|#         | 2/20 [00:58<08:40, 28.89s/it]"
     ]
    },
    {
     "name": "stdout",
     "output_type": "stream",
     "text": [
      "[LightGBM] [Warning] Auto-choosing row-wise multi-threading, the overhead of testing was 0.009778 seconds.\n",
      "You can set `force_row_wise=true` to remove the overhead.\n",
      "And if memory is not enough, you can set `force_col_wise=true`.\n",
      "[LightGBM] [Info] Total Bins 12536\n",
      "[LightGBM] [Info] Number of data points in the train set: 521580, number of used features: 20\n",
      "[LightGBM] [Info] Start training from score 7.219091\n",
      "Training until validation scores don't improve for 100 rounds\n",
      "[200]\tvalid_0's l1: 0.0753195\n",
      "[400]\tvalid_0's l1: 0.074791\n",
      "[600]\tvalid_0's l1: 0.0746596\n",
      "Early stopping, best iteration is:\n",
      "[542]\tvalid_0's l1: 0.0746582\n"
     ]
    },
    {
     "name": "stderr",
     "output_type": "stream",
     "text": [
      "num_leaves, val_score: 0.074658:  15%|#5        | 3/20 [01:25<07:54, 27.92s/it]\u001b[32m[I 2021-05-27 14:35:34,729]\u001b[0m Trial 9 finished with value: 0.07465820659654915 and parameters: {'num_leaves': 106}. Best is trial 9 with value: 0.07465820659654915.\u001b[0m\n",
      "num_leaves, val_score: 0.074658:  15%|#5        | 3/20 [01:25<07:54, 27.92s/it]"
     ]
    },
    {
     "name": "stdout",
     "output_type": "stream",
     "text": [
      "[LightGBM] [Warning] Auto-choosing row-wise multi-threading, the overhead of testing was 0.010686 seconds.\n",
      "You can set `force_row_wise=true` to remove the overhead.\n",
      "And if memory is not enough, you can set `force_col_wise=true`.\n",
      "[LightGBM] [Info] Total Bins 12536\n",
      "[LightGBM] [Info] Number of data points in the train set: 521580, number of used features: 20\n",
      "[LightGBM] [Info] Start training from score 7.219091\n",
      "Training until validation scores don't improve for 100 rounds\n",
      "[200]\tvalid_0's l1: 0.0749809\n",
      "[400]\tvalid_0's l1: 0.074727\n",
      "Early stopping, best iteration is:\n",
      "[473]\tvalid_0's l1: 0.0746727\n"
     ]
    },
    {
     "name": "stderr",
     "output_type": "stream",
     "text": [
      "num_leaves, val_score: 0.074658:  20%|##        | 4/20 [01:55<07:38, 28.68s/it]\u001b[32m[I 2021-05-27 14:36:04,588]\u001b[0m Trial 10 finished with value: 0.07467265422358337 and parameters: {'num_leaves': 166}. Best is trial 9 with value: 0.07465820659654915.\u001b[0m\n",
      "num_leaves, val_score: 0.074658:  20%|##        | 4/20 [01:55<07:38, 28.68s/it]"
     ]
    },
    {
     "name": "stdout",
     "output_type": "stream",
     "text": [
      "[LightGBM] [Warning] Auto-choosing row-wise multi-threading, the overhead of testing was 0.010121 seconds.\n",
      "You can set `force_row_wise=true` to remove the overhead.\n",
      "And if memory is not enough, you can set `force_col_wise=true`.\n",
      "[LightGBM] [Info] Total Bins 12536\n",
      "[LightGBM] [Info] Number of data points in the train set: 521580, number of used features: 20\n",
      "[LightGBM] [Info] Start training from score 7.219091\n",
      "Training until validation scores don't improve for 100 rounds\n",
      "[200]\tvalid_0's l1: 0.0775767\n",
      "[400]\tvalid_0's l1: 0.0759974\n",
      "[600]\tvalid_0's l1: 0.0754766\n",
      "[800]\tvalid_0's l1: 0.0752211\n",
      "[1000]\tvalid_0's l1: 0.0750616\n",
      "Did not meet early stopping. Best iteration is:\n",
      "[999]\tvalid_0's l1: 0.0750615\n"
     ]
    },
    {
     "name": "stderr",
     "output_type": "stream",
     "text": [
      "num_leaves, val_score: 0.074658:  25%|##5       | 5/20 [02:19<06:47, 27.15s/it]\u001b[32m[I 2021-05-27 14:36:29,033]\u001b[0m Trial 11 finished with value: 0.0750614698171054 and parameters: {'num_leaves': 36}. Best is trial 9 with value: 0.07465820659654915.\u001b[0m\n",
      "num_leaves, val_score: 0.074658:  25%|##5       | 5/20 [02:19<06:47, 27.15s/it]"
     ]
    },
    {
     "name": "stdout",
     "output_type": "stream",
     "text": [
      "[LightGBM] [Warning] Auto-choosing row-wise multi-threading, the overhead of testing was 0.011077 seconds.\n",
      "You can set `force_row_wise=true` to remove the overhead.\n",
      "And if memory is not enough, you can set `force_col_wise=true`.\n",
      "[LightGBM] [Info] Total Bins 12536\n",
      "[LightGBM] [Info] Number of data points in the train set: 521580, number of used features: 20\n",
      "[LightGBM] [Info] Start training from score 7.219091\n",
      "Training until validation scores don't improve for 100 rounds\n",
      "[200]\tvalid_0's l1: 0.0748332\n",
      "[400]\tvalid_0's l1: 0.074661\n",
      "Early stopping, best iteration is:\n",
      "[366]\tvalid_0's l1: 0.0746545\n"
     ]
    },
    {
     "name": "stderr",
     "output_type": "stream",
     "text": [
      "num_leaves, val_score: 0.074655:  30%|###       | 6/20 [02:48<06:27, 27.68s/it]\u001b[32m[I 2021-05-27 14:36:57,739]\u001b[0m Trial 12 finished with value: 0.07465450173658768 and parameters: {'num_leaves': 226}. Best is trial 12 with value: 0.07465450173658768.\u001b[0m\n",
      "num_leaves, val_score: 0.074655:  30%|###       | 6/20 [02:48<06:27, 27.68s/it]"
     ]
    },
    {
     "name": "stdout",
     "output_type": "stream",
     "text": [
      "[LightGBM] [Warning] Auto-choosing row-wise multi-threading, the overhead of testing was 0.009876 seconds.\n",
      "You can set `force_row_wise=true` to remove the overhead.\n",
      "And if memory is not enough, you can set `force_col_wise=true`.\n",
      "[LightGBM] [Info] Total Bins 12536\n",
      "[LightGBM] [Info] Number of data points in the train set: 521580, number of used features: 20\n",
      "[LightGBM] [Info] Start training from score 7.219091\n",
      "Training until validation scores don't improve for 100 rounds\n",
      "[200]\tvalid_0's l1: 0.0749384\n",
      "Early stopping, best iteration is:\n",
      "[295]\tvalid_0's l1: 0.0748098\n"
     ]
    },
    {
     "name": "stderr",
     "output_type": "stream",
     "text": [
      "num_leaves, val_score: 0.074655:  35%|###5      | 7/20 [03:13<05:49, 26.87s/it]\u001b[32m[I 2021-05-27 14:37:22,949]\u001b[0m Trial 13 finished with value: 0.07480978629302838 and parameters: {'num_leaves': 190}. Best is trial 12 with value: 0.07465450173658768.\u001b[0m\n",
      "num_leaves, val_score: 0.074655:  35%|###5      | 7/20 [03:13<05:49, 26.87s/it]"
     ]
    },
    {
     "name": "stdout",
     "output_type": "stream",
     "text": [
      "[LightGBM] [Warning] Auto-choosing row-wise multi-threading, the overhead of testing was 0.009803 seconds.\n",
      "You can set `force_row_wise=true` to remove the overhead.\n",
      "And if memory is not enough, you can set `force_col_wise=true`.\n",
      "[LightGBM] [Info] Total Bins 12536\n",
      "[LightGBM] [Info] Number of data points in the train set: 521580, number of used features: 20\n",
      "[LightGBM] [Info] Start training from score 7.219091\n",
      "Training until validation scores don't improve for 100 rounds\n",
      "[200]\tvalid_0's l1: 0.0749882\n",
      "[400]\tvalid_0's l1: 0.07483\n",
      "Early stopping, best iteration is:\n",
      "[403]\tvalid_0's l1: 0.0748266\n"
     ]
    },
    {
     "name": "stderr",
     "output_type": "stream",
     "text": [
      "num_leaves, val_score: 0.074655:  40%|####      | 8/20 [03:44<05:37, 28.16s/it]\u001b[32m[I 2021-05-27 14:37:53,855]\u001b[0m Trial 14 finished with value: 0.07482655556912195 and parameters: {'num_leaves': 205}. Best is trial 12 with value: 0.07465450173658768.\u001b[0m\n",
      "num_leaves, val_score: 0.074655:  40%|####      | 8/20 [03:44<05:37, 28.16s/it]"
     ]
    },
    {
     "name": "stdout",
     "output_type": "stream",
     "text": [
      "[LightGBM] [Warning] Auto-choosing col-wise multi-threading, the overhead of testing was 0.029126 seconds.\n",
      "You can set `force_col_wise=true` to remove the overhead.\n",
      "[LightGBM] [Info] Total Bins 12536\n",
      "[LightGBM] [Info] Number of data points in the train set: 521580, number of used features: 20\n",
      "[LightGBM] [Info] Start training from score 7.219091\n",
      "Training until validation scores don't improve for 100 rounds\n",
      "[200]\tvalid_0's l1: 0.0750092\n",
      "[400]\tvalid_0's l1: 0.0747553\n",
      "Early stopping, best iteration is:\n",
      "[476]\tvalid_0's l1: 0.0747293\n"
     ]
    },
    {
     "name": "stderr",
     "output_type": "stream",
     "text": [
      "num_leaves, val_score: 0.074655:  45%|####5     | 9/20 [04:12<05:10, 28.27s/it]\u001b[32m[I 2021-05-27 14:38:22,362]\u001b[0m Trial 15 finished with value: 0.0747292785237657 and parameters: {'num_leaves': 173}. Best is trial 12 with value: 0.07465450173658768.\u001b[0m\n",
      "num_leaves, val_score: 0.074655:  45%|####5     | 9/20 [04:12<05:10, 28.27s/it]"
     ]
    },
    {
     "name": "stdout",
     "output_type": "stream",
     "text": [
      "[LightGBM] [Warning] Auto-choosing row-wise multi-threading, the overhead of testing was 0.009745 seconds.\n",
      "You can set `force_row_wise=true` to remove the overhead.\n",
      "And if memory is not enough, you can set `force_col_wise=true`.\n",
      "[LightGBM] [Info] Total Bins 12536\n",
      "[LightGBM] [Info] Number of data points in the train set: 521580, number of used features: 20\n",
      "[LightGBM] [Info] Start training from score 7.219091\n",
      "Training until validation scores don't improve for 100 rounds\n",
      "[200]\tvalid_0's l1: 0.0752955\n",
      "[400]\tvalid_0's l1: 0.0748344\n",
      "[600]\tvalid_0's l1: 0.0746941\n",
      "[800]\tvalid_0's l1: 0.074655\n",
      "[1000]\tvalid_0's l1: 0.0746083\n",
      "Did not meet early stopping. Best iteration is:\n",
      "[991]\tvalid_0's l1: 0.0746067\n"
     ]
    },
    {
     "name": "stderr",
     "output_type": "stream",
     "text": [
      "num_leaves, val_score: 0.074607:  50%|#####     | 10/20 [04:50<05:11, 31.11s/it]\u001b[32m[I 2021-05-27 14:38:59,833]\u001b[0m Trial 16 finished with value: 0.0746066658974936 and parameters: {'num_leaves': 118}. Best is trial 16 with value: 0.0746066658974936.\u001b[0m\n",
      "num_leaves, val_score: 0.074607:  50%|#####     | 10/20 [04:50<05:11, 31.11s/it]"
     ]
    },
    {
     "name": "stdout",
     "output_type": "stream",
     "text": [
      "[LightGBM] [Warning] Auto-choosing row-wise multi-threading, the overhead of testing was 0.009260 seconds.\n",
      "You can set `force_row_wise=true` to remove the overhead.\n",
      "And if memory is not enough, you can set `force_col_wise=true`.\n",
      "[LightGBM] [Info] Total Bins 12536\n",
      "[LightGBM] [Info] Number of data points in the train set: 521580, number of used features: 20\n",
      "[LightGBM] [Info] Start training from score 7.219091\n",
      "Training until validation scores don't improve for 100 rounds\n",
      "[200]\tvalid_0's l1: 0.118343\n",
      "[400]\tvalid_0's l1: 0.10755\n",
      "[600]\tvalid_0's l1: 0.102945\n",
      "[800]\tvalid_0's l1: 0.100257\n"
     ]
    },
    {
     "name": "stderr",
     "output_type": "stream",
     "text": [
      "num_leaves, val_score: 0.074607:  55%|#####5    | 11/20 [05:00<03:41, 24.61s/it]\u001b[32m[I 2021-05-27 14:39:09,700]\u001b[0m Trial 17 finished with value: 0.09836725684826116 and parameters: {'num_leaves': 2}. Best is trial 16 with value: 0.0746066658974936.\u001b[0m\n",
      "num_leaves, val_score: 0.074607:  55%|#####5    | 11/20 [05:00<03:41, 24.61s/it]"
     ]
    },
    {
     "name": "stdout",
     "output_type": "stream",
     "text": [
      "[1000]\tvalid_0's l1: 0.0983673\n",
      "Did not meet early stopping. Best iteration is:\n",
      "[1000]\tvalid_0's l1: 0.0983673\n",
      "[LightGBM] [Warning] Auto-choosing row-wise multi-threading, the overhead of testing was 0.010321 seconds.\n",
      "You can set `force_row_wise=true` to remove the overhead.\n",
      "And if memory is not enough, you can set `force_col_wise=true`.\n",
      "[LightGBM] [Info] Total Bins 12536\n",
      "[LightGBM] [Info] Number of data points in the train set: 521580, number of used features: 20\n",
      "[LightGBM] [Info] Start training from score 7.219091\n",
      "Training until validation scores don't improve for 100 rounds\n",
      "[200]\tvalid_0's l1: 0.0749645\n",
      "Early stopping, best iteration is:\n",
      "[261]\tvalid_0's l1: 0.074863\n"
     ]
    },
    {
     "name": "stderr",
     "output_type": "stream",
     "text": [
      "num_leaves, val_score: 0.074607:  60%|######    | 12/20 [05:26<03:21, 25.19s/it]\u001b[32m[I 2021-05-27 14:39:36,221]\u001b[0m Trial 18 finished with value: 0.07486303986147191 and parameters: {'num_leaves': 248}. Best is trial 16 with value: 0.0746066658974936.\u001b[0m\n",
      "num_leaves, val_score: 0.074607:  60%|######    | 12/20 [05:26<03:21, 25.19s/it]"
     ]
    },
    {
     "name": "stdout",
     "output_type": "stream",
     "text": [
      "[LightGBM] [Warning] Auto-choosing row-wise multi-threading, the overhead of testing was 0.009835 seconds.\n",
      "You can set `force_row_wise=true` to remove the overhead.\n",
      "And if memory is not enough, you can set `force_col_wise=true`.\n",
      "[LightGBM] [Info] Total Bins 12536\n",
      "[LightGBM] [Info] Number of data points in the train set: 521580, number of used features: 20\n",
      "[LightGBM] [Info] Start training from score 7.219091\n",
      "Training until validation scores don't improve for 100 rounds\n",
      "[200]\tvalid_0's l1: 0.0751021\n",
      "[400]\tvalid_0's l1: 0.0747272\n",
      "Early stopping, best iteration is:\n",
      "[484]\tvalid_0's l1: 0.0746795\n"
     ]
    },
    {
     "name": "stderr",
     "output_type": "stream",
     "text": [
      "num_leaves, val_score: 0.074607:  65%|######5   | 13/20 [05:53<03:00, 25.78s/it]\u001b[32m[I 2021-05-27 14:40:03,362]\u001b[0m Trial 19 finished with value: 0.07467952252265395 and parameters: {'num_leaves': 136}. Best is trial 16 with value: 0.0746066658974936.\u001b[0m\n",
      "num_leaves, val_score: 0.074607:  65%|######5   | 13/20 [05:53<03:00, 25.78s/it]"
     ]
    },
    {
     "name": "stdout",
     "output_type": "stream",
     "text": [
      "[LightGBM] [Warning] Auto-choosing col-wise multi-threading, the overhead of testing was 0.028560 seconds.\n",
      "You can set `force_col_wise=true` to remove the overhead.\n",
      "[LightGBM] [Info] Total Bins 12536\n",
      "[LightGBM] [Info] Number of data points in the train set: 521580, number of used features: 20\n",
      "[LightGBM] [Info] Start training from score 7.219091\n",
      "Training until validation scores don't improve for 100 rounds\n",
      "[200]\tvalid_0's l1: 0.0759726\n",
      "[400]\tvalid_0's l1: 0.0751441\n",
      "[600]\tvalid_0's l1: 0.0748576\n",
      "[800]\tvalid_0's l1: 0.0746903\n",
      "[1000]\tvalid_0's l1: 0.0745714\n",
      "Did not meet early stopping. Best iteration is:\n",
      "[1000]\tvalid_0's l1: 0.0745714\n"
     ]
    },
    {
     "name": "stderr",
     "output_type": "stream",
     "text": [
      "num_leaves, val_score: 0.074571:  70%|#######   | 14/20 [06:20<02:35, 25.92s/it]\u001b[32m[I 2021-05-27 14:40:29,593]\u001b[0m Trial 20 finished with value: 0.0745714140817957 and parameters: {'num_leaves': 64}. Best is trial 20 with value: 0.0745714140817957.\u001b[0m\n",
      "num_leaves, val_score: 0.074571:  70%|#######   | 14/20 [06:20<02:35, 25.92s/it]"
     ]
    },
    {
     "name": "stdout",
     "output_type": "stream",
     "text": [
      "[LightGBM] [Warning] Auto-choosing row-wise multi-threading, the overhead of testing was 0.009622 seconds.\n",
      "You can set `force_row_wise=true` to remove the overhead.\n",
      "And if memory is not enough, you can set `force_col_wise=true`.\n",
      "[LightGBM] [Info] Total Bins 12536\n",
      "[LightGBM] [Info] Number of data points in the train set: 521580, number of used features: 20\n",
      "[LightGBM] [Info] Start training from score 7.219091\n",
      "Training until validation scores don't improve for 100 rounds\n",
      "[200]\tvalid_0's l1: 0.07601\n",
      "[400]\tvalid_0's l1: 0.0751481\n",
      "[600]\tvalid_0's l1: 0.07484\n",
      "[800]\tvalid_0's l1: 0.0746845\n",
      "[1000]\tvalid_0's l1: 0.0746098\n",
      "Did not meet early stopping. Best iteration is:\n",
      "[1000]\tvalid_0's l1: 0.0746098\n"
     ]
    },
    {
     "name": "stderr",
     "output_type": "stream",
     "text": [
      "num_leaves, val_score: 0.074571:  75%|#######5  | 15/20 [06:49<02:14, 26.85s/it]\u001b[32m[I 2021-05-27 14:40:58,594]\u001b[0m Trial 21 finished with value: 0.07460976026506336 and parameters: {'num_leaves': 62}. Best is trial 20 with value: 0.0745714140817957.\u001b[0m\n",
      "num_leaves, val_score: 0.074571:  75%|#######5  | 15/20 [06:49<02:14, 26.85s/it]"
     ]
    },
    {
     "name": "stdout",
     "output_type": "stream",
     "text": [
      "[LightGBM] [Warning] Auto-choosing row-wise multi-threading, the overhead of testing was 0.010023 seconds.\n",
      "You can set `force_row_wise=true` to remove the overhead.\n",
      "And if memory is not enough, you can set `force_col_wise=true`.\n",
      "[LightGBM] [Info] Total Bins 12536\n",
      "[LightGBM] [Info] Number of data points in the train set: 521580, number of used features: 20\n",
      "[LightGBM] [Info] Start training from score 7.219091\n",
      "Training until validation scores don't improve for 100 rounds\n",
      "[200]\tvalid_0's l1: 0.0751297\n",
      "[400]\tvalid_0's l1: 0.0747703\n",
      "[600]\tvalid_0's l1: 0.0746754\n",
      "[800]\tvalid_0's l1: 0.0746465\n",
      "Early stopping, best iteration is:\n",
      "[810]\tvalid_0's l1: 0.0746424\n"
     ]
    },
    {
     "name": "stderr",
     "output_type": "stream",
     "text": [
      "num_leaves, val_score: 0.074571:  80%|########  | 16/20 [07:24<01:57, 29.26s/it]\u001b[32m[I 2021-05-27 14:41:33,466]\u001b[0m Trial 22 finished with value: 0.07464238723056023 and parameters: {'num_leaves': 133}. Best is trial 20 with value: 0.0745714140817957.\u001b[0m\n",
      "num_leaves, val_score: 0.074571:  80%|########  | 16/20 [07:24<01:57, 29.26s/it]"
     ]
    },
    {
     "name": "stdout",
     "output_type": "stream",
     "text": [
      "[LightGBM] [Warning] Auto-choosing row-wise multi-threading, the overhead of testing was 0.009799 seconds.\n",
      "You can set `force_row_wise=true` to remove the overhead.\n",
      "And if memory is not enough, you can set `force_col_wise=true`.\n",
      "[LightGBM] [Info] Total Bins 12536\n",
      "[LightGBM] [Info] Number of data points in the train set: 521580, number of used features: 20\n",
      "[LightGBM] [Info] Start training from score 7.219091\n",
      "Training until validation scores don't improve for 100 rounds\n",
      "[200]\tvalid_0's l1: 0.0784005\n",
      "[400]\tvalid_0's l1: 0.076328\n",
      "[600]\tvalid_0's l1: 0.0757646\n",
      "[800]\tvalid_0's l1: 0.0754697\n",
      "[1000]\tvalid_0's l1: 0.0752859\n",
      "Did not meet early stopping. Best iteration is:\n",
      "[990]\tvalid_0's l1: 0.0752848\n"
     ]
    },
    {
     "name": "stderr",
     "output_type": "stream",
     "text": [
      "num_leaves, val_score: 0.074571:  85%|########5 | 17/20 [07:48<01:23, 27.72s/it]\u001b[32m[I 2021-05-27 14:41:57,611]\u001b[0m Trial 23 finished with value: 0.07528479239690866 and parameters: {'num_leaves': 29}. Best is trial 20 with value: 0.0745714140817957.\u001b[0m\n",
      "num_leaves, val_score: 0.074571:  85%|########5 | 17/20 [07:48<01:23, 27.72s/it]"
     ]
    },
    {
     "name": "stdout",
     "output_type": "stream",
     "text": [
      "[LightGBM] [Warning] Auto-choosing row-wise multi-threading, the overhead of testing was 0.009231 seconds.\n",
      "You can set `force_row_wise=true` to remove the overhead.\n",
      "And if memory is not enough, you can set `force_col_wise=true`.\n",
      "[LightGBM] [Info] Total Bins 12536\n",
      "[LightGBM] [Info] Number of data points in the train set: 521580, number of used features: 20\n",
      "[LightGBM] [Info] Start training from score 7.219091\n",
      "Training until validation scores don't improve for 100 rounds\n",
      "[200]\tvalid_0's l1: 0.0757526\n",
      "[400]\tvalid_0's l1: 0.0749854\n",
      "[600]\tvalid_0's l1: 0.0747836\n",
      "[800]\tvalid_0's l1: 0.0746937\n",
      "[1000]\tvalid_0's l1: 0.0745853\n",
      "Did not meet early stopping. Best iteration is:\n",
      "[999]\tvalid_0's l1: 0.0745852\n"
     ]
    },
    {
     "name": "stderr",
     "output_type": "stream",
     "text": [
      "num_leaves, val_score: 0.074571:  90%|######### | 18/20 [08:19<00:57, 28.80s/it]\u001b[32m[I 2021-05-27 14:42:28,926]\u001b[0m Trial 24 finished with value: 0.07458516640458561 and parameters: {'num_leaves': 79}. Best is trial 20 with value: 0.0745714140817957.\u001b[0m\n",
      "num_leaves, val_score: 0.074571:  90%|######### | 18/20 [08:19<00:57, 28.80s/it]"
     ]
    },
    {
     "name": "stdout",
     "output_type": "stream",
     "text": [
      "[LightGBM] [Warning] Auto-choosing row-wise multi-threading, the overhead of testing was 0.009822 seconds.\n",
      "You can set `force_row_wise=true` to remove the overhead.\n",
      "And if memory is not enough, you can set `force_col_wise=true`.\n",
      "[LightGBM] [Info] Total Bins 12536\n",
      "[LightGBM] [Info] Number of data points in the train set: 521580, number of used features: 20\n",
      "[LightGBM] [Info] Start training from score 7.219091\n",
      "Training until validation scores don't improve for 100 rounds\n",
      "[200]\tvalid_0's l1: 0.0757117\n",
      "[400]\tvalid_0's l1: 0.0749603\n",
      "[600]\tvalid_0's l1: 0.0747214\n",
      "[800]\tvalid_0's l1: 0.0745919\n",
      "[1000]\tvalid_0's l1: 0.0744931\n",
      "Did not meet early stopping. Best iteration is:\n",
      "[999]\tvalid_0's l1: 0.0744923\n"
     ]
    },
    {
     "name": "stderr",
     "output_type": "stream",
     "text": [
      "num_leaves, val_score: 0.074492:  95%|#########5| 19/20 [08:48<00:28, 28.86s/it]\u001b[32m[I 2021-05-27 14:42:57,904]\u001b[0m Trial 25 finished with value: 0.07449227879107745 and parameters: {'num_leaves': 78}. Best is trial 25 with value: 0.07449227879107745.\u001b[0m\n",
      "num_leaves, val_score: 0.074492:  95%|#########5| 19/20 [08:48<00:28, 28.86s/it]"
     ]
    },
    {
     "name": "stdout",
     "output_type": "stream",
     "text": [
      "[LightGBM] [Warning] Auto-choosing row-wise multi-threading, the overhead of testing was 0.009988 seconds.\n",
      "You can set `force_row_wise=true` to remove the overhead.\n",
      "And if memory is not enough, you can set `force_col_wise=true`.\n",
      "[LightGBM] [Info] Total Bins 12536\n",
      "[LightGBM] [Info] Number of data points in the train set: 521580, number of used features: 20\n",
      "[LightGBM] [Info] Start training from score 7.219091\n",
      "Training until validation scores don't improve for 100 rounds\n",
      "[200]\tvalid_0's l1: 0.0772376\n",
      "[400]\tvalid_0's l1: 0.075717\n",
      "[600]\tvalid_0's l1: 0.0753222\n",
      "[800]\tvalid_0's l1: 0.0750396\n",
      "[1000]\tvalid_0's l1: 0.0749005\n",
      "Did not meet early stopping. Best iteration is:\n",
      "[1000]\tvalid_0's l1: 0.0749005\n"
     ]
    },
    {
     "name": "stderr",
     "output_type": "stream",
     "text": [
      "num_leaves, val_score: 0.074492: 100%|##########| 20/20 [09:13<00:00, 27.67s/it]\u001b[32m[I 2021-05-27 14:43:22,820]\u001b[0m Trial 26 finished with value: 0.07490045940881862 and parameters: {'num_leaves': 39}. Best is trial 25 with value: 0.07449227879107745.\u001b[0m\n",
      "num_leaves, val_score: 0.074492: 100%|##########| 20/20 [09:13<00:00, 27.67s/it]\n",
      "bagging, val_score: 0.074492:   0%|          | 0/10 [00:00<?, ?it/s]"
     ]
    },
    {
     "name": "stdout",
     "output_type": "stream",
     "text": [
      "[LightGBM] [Warning] Auto-choosing row-wise multi-threading, the overhead of testing was 0.009077 seconds.\n",
      "You can set `force_row_wise=true` to remove the overhead.\n",
      "And if memory is not enough, you can set `force_col_wise=true`.\n",
      "[LightGBM] [Info] Total Bins 12536\n",
      "[LightGBM] [Info] Number of data points in the train set: 521580, number of used features: 20\n",
      "[LightGBM] [Info] Start training from score 7.219091\n",
      "Training until validation scores don't improve for 100 rounds\n",
      "[200]\tvalid_0's l1: 0.077527\n",
      "[400]\tvalid_0's l1: 0.076842\n",
      "[600]\tvalid_0's l1: 0.0765649\n",
      "[800]\tvalid_0's l1: 0.0763806\n",
      "[1000]\tvalid_0's l1: 0.0763121\n",
      "Did not meet early stopping. Best iteration is:\n",
      "[999]\tvalid_0's l1: 0.0763059\n"
     ]
    },
    {
     "name": "stderr",
     "output_type": "stream",
     "text": [
      "bagging, val_score: 0.074492:  10%|#         | 1/10 [01:43<15:28, 103.21s/it]\u001b[32m[I 2021-05-27 14:45:06,040]\u001b[0m Trial 27 finished with value: 0.07630586141069182 and parameters: {'bagging_fraction': 0.44879521640298414, 'bagging_freq': 2}. Best is trial 27 with value: 0.07630586141069182.\u001b[0m\n",
      "bagging, val_score: 0.074492:  10%|#         | 1/10 [01:43<15:28, 103.21s/it]"
     ]
    },
    {
     "name": "stdout",
     "output_type": "stream",
     "text": [
      "[LightGBM] [Warning] Auto-choosing row-wise multi-threading, the overhead of testing was 0.009869 seconds.\n",
      "You can set `force_row_wise=true` to remove the overhead.\n",
      "And if memory is not enough, you can set `force_col_wise=true`.\n",
      "[LightGBM] [Info] Total Bins 12536\n",
      "[LightGBM] [Info] Number of data points in the train set: 521580, number of used features: 20\n",
      "[LightGBM] [Info] Start training from score 7.219091\n",
      "Training until validation scores don't improve for 100 rounds\n",
      "[200]\tvalid_0's l1: 0.0760137\n",
      "[400]\tvalid_0's l1: 0.0752681\n",
      "[600]\tvalid_0's l1: 0.0750356\n",
      "[800]\tvalid_0's l1: 0.074887\n",
      "[1000]\tvalid_0's l1: 0.0748511\n",
      "Did not meet early stopping. Best iteration is:\n",
      "[964]\tvalid_0's l1: 0.0748258\n"
     ]
    },
    {
     "name": "stderr",
     "output_type": "stream",
     "text": [
      "bagging, val_score: 0.074492:  20%|##        | 2/10 [03:13<12:43, 95.40s/it] \u001b[32m[I 2021-05-27 14:46:35,979]\u001b[0m Trial 28 finished with value: 0.07482578978104748 and parameters: {'bagging_fraction': 0.8538882011534812, 'bagging_freq': 7}. Best is trial 28 with value: 0.07482578978104748.\u001b[0m\n",
      "bagging, val_score: 0.074492:  20%|##        | 2/10 [03:13<12:43, 95.40s/it]"
     ]
    },
    {
     "name": "stdout",
     "output_type": "stream",
     "text": [
      "[LightGBM] [Warning] Auto-choosing row-wise multi-threading, the overhead of testing was 0.010210 seconds.\n",
      "You can set `force_row_wise=true` to remove the overhead.\n",
      "And if memory is not enough, you can set `force_col_wise=true`.\n",
      "[LightGBM] [Info] Total Bins 12536\n",
      "[LightGBM] [Info] Number of data points in the train set: 521580, number of used features: 20\n",
      "[LightGBM] [Info] Start training from score 7.219091\n",
      "Training until validation scores don't improve for 100 rounds\n",
      "[200]\tvalid_0's l1: 0.0758924\n",
      "[400]\tvalid_0's l1: 0.0752394\n",
      "[600]\tvalid_0's l1: 0.0750057\n",
      "[800]\tvalid_0's l1: 0.0748645\n",
      "[1000]\tvalid_0's l1: 0.074818\n",
      "Did not meet early stopping. Best iteration is:\n",
      "[989]\tvalid_0's l1: 0.0748159\n"
     ]
    },
    {
     "name": "stderr",
     "output_type": "stream",
     "text": [
      "bagging, val_score: 0.074492:  30%|###       | 3/10 [04:25<09:54, 84.97s/it]\u001b[32m[I 2021-05-27 14:47:48,529]\u001b[0m Trial 29 finished with value: 0.07481586608655996 and parameters: {'bagging_fraction': 0.9269308021857525, 'bagging_freq': 5}. Best is trial 29 with value: 0.07481586608655996.\u001b[0m\n",
      "bagging, val_score: 0.074492:  30%|###       | 3/10 [04:25<09:54, 84.97s/it]"
     ]
    },
    {
     "name": "stdout",
     "output_type": "stream",
     "text": [
      "[LightGBM] [Warning] Auto-choosing row-wise multi-threading, the overhead of testing was 0.009821 seconds.\n",
      "You can set `force_row_wise=true` to remove the overhead.\n",
      "And if memory is not enough, you can set `force_col_wise=true`.\n",
      "[LightGBM] [Info] Total Bins 12536\n",
      "[LightGBM] [Info] Number of data points in the train set: 521580, number of used features: 20\n",
      "[LightGBM] [Info] Start training from score 7.219091\n",
      "Training until validation scores don't improve for 100 rounds\n",
      "[200]\tvalid_0's l1: 0.0758998\n",
      "[400]\tvalid_0's l1: 0.0751616\n",
      "[600]\tvalid_0's l1: 0.0749104\n",
      "[800]\tvalid_0's l1: 0.0747792\n",
      "[1000]\tvalid_0's l1: 0.0747138\n",
      "Did not meet early stopping. Best iteration is:\n",
      "[992]\tvalid_0's l1: 0.0747108\n"
     ]
    },
    {
     "name": "stderr",
     "output_type": "stream",
     "text": [
      "bagging, val_score: 0.074492:  40%|####      | 4/10 [05:39<08:03, 80.65s/it]\u001b[32m[I 2021-05-27 14:49:02,567]\u001b[0m Trial 30 finished with value: 0.07471083673060035 and parameters: {'bagging_fraction': 0.9297660508442589, 'bagging_freq': 3}. Best is trial 30 with value: 0.07471083673060035.\u001b[0m\n",
      "bagging, val_score: 0.074492:  40%|####      | 4/10 [05:39<08:03, 80.65s/it]"
     ]
    },
    {
     "name": "stdout",
     "output_type": "stream",
     "text": [
      "[LightGBM] [Warning] Auto-choosing col-wise multi-threading, the overhead of testing was 0.030903 seconds.\n",
      "You can set `force_col_wise=true` to remove the overhead.\n",
      "[LightGBM] [Info] Total Bins 12536\n",
      "[LightGBM] [Info] Number of data points in the train set: 521580, number of used features: 20\n",
      "[LightGBM] [Info] Start training from score 7.219091\n",
      "Training until validation scores don't improve for 100 rounds\n",
      "[200]\tvalid_0's l1: 0.0756741\n",
      "[400]\tvalid_0's l1: 0.0749831\n",
      "[600]\tvalid_0's l1: 0.0747652\n",
      "[800]\tvalid_0's l1: 0.0746474\n",
      "[1000]\tvalid_0's l1: 0.0745763\n",
      "Did not meet early stopping. Best iteration is:\n",
      "[997]\tvalid_0's l1: 0.0745744\n"
     ]
    },
    {
     "name": "stderr",
     "output_type": "stream",
     "text": [
      "bagging, val_score: 0.074492:  50%|#####     | 5/10 [06:20<05:31, 66.34s/it]\u001b[32m[I 2021-05-27 14:49:43,530]\u001b[0m Trial 31 finished with value: 0.07457443299012372 and parameters: {'bagging_fraction': 0.9554472569585165, 'bagging_freq': 1}. Best is trial 31 with value: 0.07457443299012372.\u001b[0m\n",
      "bagging, val_score: 0.074492:  50%|#####     | 5/10 [06:20<05:31, 66.34s/it]"
     ]
    },
    {
     "name": "stdout",
     "output_type": "stream",
     "text": [
      "[LightGBM] [Warning] Auto-choosing row-wise multi-threading, the overhead of testing was 0.010005 seconds.\n",
      "You can set `force_row_wise=true` to remove the overhead.\n",
      "And if memory is not enough, you can set `force_col_wise=true`.\n",
      "[LightGBM] [Info] Total Bins 12536\n",
      "[LightGBM] [Info] Number of data points in the train set: 521580, number of used features: 20\n",
      "[LightGBM] [Info] Start training from score 7.219091\n",
      "Training until validation scores don't improve for 100 rounds\n",
      "[200]\tvalid_0's l1: 0.0759209\n",
      "[400]\tvalid_0's l1: 0.0752315\n",
      "[600]\tvalid_0's l1: 0.0750102\n",
      "[800]\tvalid_0's l1: 0.0748939\n",
      "[1000]\tvalid_0's l1: 0.0747955\n",
      "Did not meet early stopping. Best iteration is:\n",
      "[990]\tvalid_0's l1: 0.0747885\n"
     ]
    },
    {
     "name": "stderr",
     "output_type": "stream",
     "text": [
      "bagging, val_score: 0.074492:  60%|######    | 6/10 [08:03<05:15, 78.83s/it]\u001b[32m[I 2021-05-27 14:51:26,604]\u001b[0m Trial 32 finished with value: 0.07478848685422726 and parameters: {'bagging_fraction': 0.9047073623687553, 'bagging_freq': 5}. Best is trial 31 with value: 0.07457443299012372.\u001b[0m\n",
      "bagging, val_score: 0.074492:  60%|######    | 6/10 [08:03<05:15, 78.83s/it]"
     ]
    },
    {
     "name": "stdout",
     "output_type": "stream",
     "text": [
      "[LightGBM] [Warning] Auto-choosing row-wise multi-threading, the overhead of testing was 0.019064 seconds.\n",
      "You can set `force_row_wise=true` to remove the overhead.\n",
      "And if memory is not enough, you can set `force_col_wise=true`.\n",
      "[LightGBM] [Info] Total Bins 12536\n",
      "[LightGBM] [Info] Number of data points in the train set: 521580, number of used features: 20\n",
      "[LightGBM] [Info] Start training from score 7.219091\n",
      "Training until validation scores don't improve for 100 rounds\n",
      "[200]\tvalid_0's l1: 0.0774582\n",
      "[400]\tvalid_0's l1: 0.0767635\n",
      "[600]\tvalid_0's l1: 0.0763531\n",
      "[800]\tvalid_0's l1: 0.0762172\n",
      "[1000]\tvalid_0's l1: 0.0761761\n",
      "Did not meet early stopping. Best iteration is:\n",
      "[911]\tvalid_0's l1: 0.0761583\n"
     ]
    },
    {
     "name": "stderr",
     "output_type": "stream",
     "text": [
      "bagging, val_score: 0.074492:  70%|#######   | 7/10 [10:59<05:31, 110.47s/it]\u001b[32m[I 2021-05-27 14:54:22,201]\u001b[0m Trial 33 finished with value: 0.0761582884433244 and parameters: {'bagging_fraction': 0.4777121089361035, 'bagging_freq': 3}. Best is trial 31 with value: 0.07457443299012372.\u001b[0m\n",
      "bagging, val_score: 0.074492:  70%|#######   | 7/10 [10:59<05:31, 110.47s/it]"
     ]
    },
    {
     "name": "stdout",
     "output_type": "stream",
     "text": [
      "[LightGBM] [Warning] Auto-choosing row-wise multi-threading, the overhead of testing was 0.014875 seconds.\n",
      "You can set `force_row_wise=true` to remove the overhead.\n",
      "And if memory is not enough, you can set `force_col_wise=true`.\n",
      "[LightGBM] [Info] Total Bins 12536\n",
      "[LightGBM] [Info] Number of data points in the train set: 521580, number of used features: 20\n",
      "[LightGBM] [Info] Start training from score 7.219091\n",
      "Training until validation scores don't improve for 100 rounds\n",
      "[200]\tvalid_0's l1: 0.0761779\n",
      "[400]\tvalid_0's l1: 0.0754384\n",
      "[600]\tvalid_0's l1: 0.0751667\n",
      "[800]\tvalid_0's l1: 0.0750352\n",
      "[1000]\tvalid_0's l1: 0.0749918\n",
      "Did not meet early stopping. Best iteration is:\n",
      "[990]\tvalid_0's l1: 0.0749771\n"
     ]
    },
    {
     "name": "stderr",
     "output_type": "stream",
     "text": [
      "bagging, val_score: 0.074492:  80%|########  | 8/10 [12:53<03:43, 111.53s/it]\u001b[32m[I 2021-05-27 14:56:16,011]\u001b[0m Trial 34 finished with value: 0.07497710114574067 and parameters: {'bagging_fraction': 0.7916199006008893, 'bagging_freq': 1}. Best is trial 31 with value: 0.07457443299012372.\u001b[0m\n",
      "bagging, val_score: 0.074492:  80%|########  | 8/10 [12:53<03:43, 111.53s/it]"
     ]
    },
    {
     "name": "stdout",
     "output_type": "stream",
     "text": [
      "[LightGBM] [Warning] Auto-choosing row-wise multi-threading, the overhead of testing was 0.017284 seconds.\n",
      "You can set `force_row_wise=true` to remove the overhead.\n",
      "And if memory is not enough, you can set `force_col_wise=true`.\n",
      "[LightGBM] [Info] Total Bins 12536\n",
      "[LightGBM] [Info] Number of data points in the train set: 521580, number of used features: 20\n",
      "[LightGBM] [Info] Start training from score 7.219091\n",
      "Training until validation scores don't improve for 100 rounds\n",
      "[200]\tvalid_0's l1: 0.0778769\n",
      "[400]\tvalid_0's l1: 0.0771252\n",
      "[600]\tvalid_0's l1: 0.0768267\n",
      "[800]\tvalid_0's l1: 0.076643\n",
      "[1000]\tvalid_0's l1: 0.0766412\n",
      "Did not meet early stopping. Best iteration is:\n",
      "[971]\tvalid_0's l1: 0.0765568\n"
     ]
    },
    {
     "name": "stderr",
     "output_type": "stream",
     "text": [
      "bagging, val_score: 0.074492:  90%|######### | 9/10 [15:31<02:06, 126.22s/it]\u001b[32m[I 2021-05-27 14:58:54,541]\u001b[0m Trial 35 finished with value: 0.07655683211597697 and parameters: {'bagging_fraction': 0.4129525893944394, 'bagging_freq': 7}. Best is trial 31 with value: 0.07457443299012372.\u001b[0m\n",
      "bagging, val_score: 0.074492:  90%|######### | 9/10 [15:31<02:06, 126.22s/it]"
     ]
    },
    {
     "name": "stdout",
     "output_type": "stream",
     "text": [
      "[LightGBM] [Warning] Auto-choosing row-wise multi-threading, the overhead of testing was 0.017198 seconds.\n",
      "You can set `force_row_wise=true` to remove the overhead.\n",
      "And if memory is not enough, you can set `force_col_wise=true`.\n",
      "[LightGBM] [Info] Total Bins 12536\n",
      "[LightGBM] [Info] Number of data points in the train set: 521580, number of used features: 20\n",
      "[LightGBM] [Info] Start training from score 7.219091\n",
      "Training until validation scores don't improve for 100 rounds\n",
      "[200]\tvalid_0's l1: 0.0764013\n",
      "[400]\tvalid_0's l1: 0.0757416\n",
      "[600]\tvalid_0's l1: 0.0754934\n",
      "[800]\tvalid_0's l1: 0.0753344\n",
      "[1000]\tvalid_0's l1: 0.0752653\n",
      "Did not meet early stopping. Best iteration is:\n",
      "[992]\tvalid_0's l1: 0.0752409\n"
     ]
    },
    {
     "name": "stderr",
     "output_type": "stream",
     "text": [
      "bagging, val_score: 0.074492: 100%|##########| 10/10 [18:24<00:00, 140.74s/it]\u001b[32m[I 2021-05-27 15:01:47,774]\u001b[0m Trial 36 finished with value: 0.07524091970118686 and parameters: {'bagging_fraction': 0.7037562551491563, 'bagging_freq': 6}. Best is trial 31 with value: 0.07457443299012372.\u001b[0m\n",
      "bagging, val_score: 0.074492: 100%|##########| 10/10 [18:24<00:00, 110.50s/it]\n",
      "feature_fraction_stage2, val_score: 0.074492:   0%|          | 0/6 [00:00<?, ?it/s]"
     ]
    },
    {
     "name": "stdout",
     "output_type": "stream",
     "text": [
      "[LightGBM] [Warning] Auto-choosing col-wise multi-threading, the overhead of testing was 0.079407 seconds.\n",
      "You can set `force_col_wise=true` to remove the overhead.\n",
      "[LightGBM] [Info] Total Bins 12536\n",
      "[LightGBM] [Info] Number of data points in the train set: 521580, number of used features: 20\n",
      "[LightGBM] [Info] Start training from score 7.219091\n",
      "Training until validation scores don't improve for 100 rounds\n",
      "[200]\tvalid_0's l1: 0.0756911\n",
      "[400]\tvalid_0's l1: 0.0750814\n",
      "[600]\tvalid_0's l1: 0.0749363\n",
      "[800]\tvalid_0's l1: 0.0748483\n",
      "Early stopping, best iteration is:\n",
      "[824]\tvalid_0's l1: 0.0748412\n"
     ]
    },
    {
     "name": "stderr",
     "output_type": "stream",
     "text": [
      "feature_fraction_stage2, val_score: 0.074492:  17%|#6        | 1/6 [00:50<04:14, 50.92s/it]\u001b[32m[I 2021-05-27 15:02:38,708]\u001b[0m Trial 37 finished with value: 0.0748412270628116 and parameters: {'feature_fraction': 0.58}. Best is trial 37 with value: 0.0748412270628116.\u001b[0m\n",
      "feature_fraction_stage2, val_score: 0.074492:  17%|#6        | 1/6 [00:50<04:14, 50.92s/it]"
     ]
    },
    {
     "name": "stdout",
     "output_type": "stream",
     "text": [
      "[LightGBM] [Warning] Auto-choosing row-wise multi-threading, the overhead of testing was 0.020991 seconds.\n",
      "You can set `force_row_wise=true` to remove the overhead.\n",
      "And if memory is not enough, you can set `force_col_wise=true`.\n",
      "[LightGBM] [Info] Total Bins 12536\n",
      "[LightGBM] [Info] Number of data points in the train set: 521580, number of used features: 20\n",
      "[LightGBM] [Info] Start training from score 7.219091\n",
      "Training until validation scores don't improve for 100 rounds\n",
      "[200]\tvalid_0's l1: 0.0759152\n",
      "[400]\tvalid_0's l1: 0.0751456\n",
      "[600]\tvalid_0's l1: 0.0748685\n",
      "[800]\tvalid_0's l1: 0.0747121\n",
      "[1000]\tvalid_0's l1: 0.0746228\n",
      "Did not meet early stopping. Best iteration is:\n",
      "[1000]\tvalid_0's l1: 0.0746228\n"
     ]
    },
    {
     "name": "stderr",
     "output_type": "stream",
     "text": [
      "feature_fraction_stage2, val_score: 0.074492:  33%|###3      | 2/6 [01:39<03:17, 49.44s/it]\u001b[32m[I 2021-05-27 15:03:27,105]\u001b[0m Trial 38 finished with value: 0.0746227996177443 and parameters: {'feature_fraction': 0.45199999999999996}. Best is trial 38 with value: 0.0746227996177443.\u001b[0m\n",
      "feature_fraction_stage2, val_score: 0.074492:  33%|###3      | 2/6 [01:39<03:17, 49.44s/it]"
     ]
    },
    {
     "name": "stdout",
     "output_type": "stream",
     "text": [
      "[LightGBM] [Warning] Auto-choosing row-wise multi-threading, the overhead of testing was 0.017644 seconds.\n",
      "You can set `force_row_wise=true` to remove the overhead.\n",
      "And if memory is not enough, you can set `force_col_wise=true`.\n",
      "[LightGBM] [Info] Total Bins 12536\n",
      "[LightGBM] [Info] Number of data points in the train set: 521580, number of used features: 20\n",
      "[LightGBM] [Info] Start training from score 7.219091\n",
      "Training until validation scores don't improve for 100 rounds\n",
      "[200]\tvalid_0's l1: 0.0757117\n",
      "[400]\tvalid_0's l1: 0.0749603\n",
      "[600]\tvalid_0's l1: 0.0747214\n",
      "[800]\tvalid_0's l1: 0.0745919\n",
      "[1000]\tvalid_0's l1: 0.0744931\n",
      "Did not meet early stopping. Best iteration is:\n",
      "[999]\tvalid_0's l1: 0.0744923\n"
     ]
    },
    {
     "name": "stderr",
     "output_type": "stream",
     "text": [
      "feature_fraction_stage2, val_score: 0.074492:  50%|#####     | 3/6 [02:29<02:29, 49.75s/it]\u001b[32m[I 2021-05-27 15:04:17,223]\u001b[0m Trial 39 finished with value: 0.07449227879107745 and parameters: {'feature_fraction': 0.516}. Best is trial 39 with value: 0.07449227879107745.\u001b[0m\n",
      "feature_fraction_stage2, val_score: 0.074492:  50%|#####     | 3/6 [02:29<02:29, 49.75s/it]"
     ]
    },
    {
     "name": "stdout",
     "output_type": "stream",
     "text": [
      "[LightGBM] [Warning] Auto-choosing row-wise multi-threading, the overhead of testing was 0.014946 seconds.\n",
      "You can set `force_row_wise=true` to remove the overhead.\n",
      "And if memory is not enough, you can set `force_col_wise=true`.\n",
      "[LightGBM] [Info] Total Bins 12536\n",
      "[LightGBM] [Info] Number of data points in the train set: 521580, number of used features: 20\n",
      "[LightGBM] [Info] Start training from score 7.219091\n",
      "Training until validation scores don't improve for 100 rounds\n",
      "[200]\tvalid_0's l1: 0.0761041\n",
      "[400]\tvalid_0's l1: 0.0751139\n",
      "[600]\tvalid_0's l1: 0.0748812\n",
      "[800]\tvalid_0's l1: 0.0747292\n",
      "[1000]\tvalid_0's l1: 0.0746465\n",
      "Did not meet early stopping. Best iteration is:\n",
      "[995]\tvalid_0's l1: 0.0746458\n"
     ]
    },
    {
     "name": "stderr",
     "output_type": "stream",
     "text": [
      "feature_fraction_stage2, val_score: 0.074492:  67%|######6   | 4/6 [03:17<01:37, 48.99s/it]\u001b[32m[I 2021-05-27 15:05:05,059]\u001b[0m Trial 40 finished with value: 0.07464581776194275 and parameters: {'feature_fraction': 0.42}. Best is trial 39 with value: 0.07449227879107745.\u001b[0m\n",
      "feature_fraction_stage2, val_score: 0.074492:  67%|######6   | 4/6 [03:17<01:37, 48.99s/it]"
     ]
    },
    {
     "name": "stdout",
     "output_type": "stream",
     "text": [
      "[LightGBM] [Warning] Auto-choosing row-wise multi-threading, the overhead of testing was 0.017612 seconds.\n",
      "You can set `force_row_wise=true` to remove the overhead.\n",
      "And if memory is not enough, you can set `force_col_wise=true`.\n",
      "[LightGBM] [Info] Total Bins 12536\n",
      "[LightGBM] [Info] Number of data points in the train set: 521580, number of used features: 20\n",
      "[LightGBM] [Info] Start training from score 7.219091\n",
      "Training until validation scores don't improve for 100 rounds\n",
      "[200]\tvalid_0's l1: 0.0757117\n",
      "[400]\tvalid_0's l1: 0.0749603\n",
      "[600]\tvalid_0's l1: 0.0747214\n",
      "[800]\tvalid_0's l1: 0.0745919\n",
      "[1000]\tvalid_0's l1: 0.0744931\n",
      "Did not meet early stopping. Best iteration is:\n",
      "[999]\tvalid_0's l1: 0.0744923\n"
     ]
    },
    {
     "name": "stderr",
     "output_type": "stream",
     "text": [
      "feature_fraction_stage2, val_score: 0.074492:  83%|########3 | 5/6 [04:09<00:50, 50.33s/it]\u001b[32m[I 2021-05-27 15:05:57,766]\u001b[0m Trial 41 finished with value: 0.07449227879107745 and parameters: {'feature_fraction': 0.484}. Best is trial 39 with value: 0.07449227879107745.\u001b[0m\n",
      "feature_fraction_stage2, val_score: 0.074492:  83%|########3 | 5/6 [04:09<00:50, 50.33s/it]"
     ]
    },
    {
     "name": "stdout",
     "output_type": "stream",
     "text": [
      "[LightGBM] [Warning] Auto-choosing col-wise multi-threading, the overhead of testing was 0.052655 seconds.\n",
      "You can set `force_col_wise=true` to remove the overhead.\n",
      "[LightGBM] [Info] Total Bins 12536\n",
      "[LightGBM] [Info] Number of data points in the train set: 521580, number of used features: 20\n",
      "[LightGBM] [Info] Start training from score 7.219091\n",
      "Training until validation scores don't improve for 100 rounds\n",
      "[200]\tvalid_0's l1: 0.0756264\n",
      "[400]\tvalid_0's l1: 0.075053\n",
      "[600]\tvalid_0's l1: 0.0749175\n",
      "[800]\tvalid_0's l1: 0.074843\n",
      "[1000]\tvalid_0's l1: 0.0747897\n",
      "Did not meet early stopping. Best iteration is:\n",
      "[999]\tvalid_0's l1: 0.0747891\n"
     ]
    },
    {
     "name": "stderr",
     "output_type": "stream",
     "text": [
      "feature_fraction_stage2, val_score: 0.074492: 100%|##########| 6/6 [04:57<00:00, 49.42s/it]\u001b[32m[I 2021-05-27 15:06:45,402]\u001b[0m Trial 42 finished with value: 0.07478906950574034 and parameters: {'feature_fraction': 0.5479999999999999}. Best is trial 39 with value: 0.07449227879107745.\u001b[0m\n",
      "feature_fraction_stage2, val_score: 0.074492: 100%|##########| 6/6 [04:57<00:00, 49.60s/it]\n",
      "regularization_factors, val_score: 0.074492:   0%|          | 0/20 [00:00<?, ?it/s]"
     ]
    },
    {
     "name": "stdout",
     "output_type": "stream",
     "text": [
      "[LightGBM] [Warning] Auto-choosing row-wise multi-threading, the overhead of testing was 0.016870 seconds.\n",
      "You can set `force_row_wise=true` to remove the overhead.\n",
      "And if memory is not enough, you can set `force_col_wise=true`.\n",
      "[LightGBM] [Info] Total Bins 12536\n",
      "[LightGBM] [Info] Number of data points in the train set: 521580, number of used features: 20\n",
      "[LightGBM] [Info] Start training from score 7.219091\n",
      "Training until validation scores don't improve for 100 rounds\n",
      "[200]\tvalid_0's l1: 0.075666\n",
      "[400]\tvalid_0's l1: 0.0749402\n",
      "[600]\tvalid_0's l1: 0.0747033\n",
      "[800]\tvalid_0's l1: 0.0745927\n",
      "[1000]\tvalid_0's l1: 0.0745201\n",
      "Did not meet early stopping. Best iteration is:\n",
      "[1000]\tvalid_0's l1: 0.0745201\n"
     ]
    },
    {
     "name": "stderr",
     "output_type": "stream",
     "text": [
      "regularization_factors, val_score: 0.074492:   5%|5         | 1/20 [00:49<15:42, 49.58s/it]\u001b[32m[I 2021-05-27 15:07:34,989]\u001b[0m Trial 43 finished with value: 0.07452007726186949 and parameters: {'lambda_l1': 0.015397449746163742, 'lambda_l2': 5.935857770368754e-07}. Best is trial 43 with value: 0.07452007726186949.\u001b[0m\n",
      "regularization_factors, val_score: 0.074492:   5%|5         | 1/20 [00:49<15:42, 49.58s/it]"
     ]
    },
    {
     "name": "stdout",
     "output_type": "stream",
     "text": [
      "[LightGBM] [Warning] Auto-choosing row-wise multi-threading, the overhead of testing was 0.017439 seconds.\n",
      "You can set `force_row_wise=true` to remove the overhead.\n",
      "And if memory is not enough, you can set `force_col_wise=true`.\n",
      "[LightGBM] [Info] Total Bins 12536\n",
      "[LightGBM] [Info] Number of data points in the train set: 521580, number of used features: 20\n",
      "[LightGBM] [Info] Start training from score 7.219091\n",
      "Training until validation scores don't improve for 100 rounds\n",
      "[200]\tvalid_0's l1: 0.07564\n",
      "[400]\tvalid_0's l1: 0.0748919\n",
      "[600]\tvalid_0's l1: 0.0746796\n",
      "[800]\tvalid_0's l1: 0.0745803\n",
      "[1000]\tvalid_0's l1: 0.0745645\n",
      "Did not meet early stopping. Best iteration is:\n",
      "[1000]\tvalid_0's l1: 0.0745645\n"
     ]
    },
    {
     "name": "stderr",
     "output_type": "stream",
     "text": [
      "regularization_factors, val_score: 0.074492:  10%|#         | 2/20 [01:45<15:59, 53.32s/it]\u001b[32m[I 2021-05-27 15:08:30,925]\u001b[0m Trial 44 finished with value: 0.07456446251185986 and parameters: {'lambda_l1': 0.36339586130382073, 'lambda_l2': 0.00015554301064389764}. Best is trial 43 with value: 0.07452007726186949.\u001b[0m\n",
      "regularization_factors, val_score: 0.074492:  10%|#         | 2/20 [01:45<15:59, 53.32s/it]"
     ]
    },
    {
     "name": "stdout",
     "output_type": "stream",
     "text": [
      "[LightGBM] [Warning] Auto-choosing row-wise multi-threading, the overhead of testing was 0.024536 seconds.\n",
      "You can set `force_row_wise=true` to remove the overhead.\n",
      "And if memory is not enough, you can set `force_col_wise=true`.\n",
      "[LightGBM] [Info] Total Bins 12536\n",
      "[LightGBM] [Info] Number of data points in the train set: 521580, number of used features: 20\n",
      "[LightGBM] [Info] Start training from score 7.219091\n",
      "Training until validation scores don't improve for 100 rounds\n",
      "[200]\tvalid_0's l1: 0.0757117\n",
      "[400]\tvalid_0's l1: 0.0750074\n",
      "[600]\tvalid_0's l1: 0.0747663\n",
      "[800]\tvalid_0's l1: 0.0746301\n",
      "[1000]\tvalid_0's l1: 0.0745707\n",
      "Did not meet early stopping. Best iteration is:\n",
      "[1000]\tvalid_0's l1: 0.0745707\n"
     ]
    },
    {
     "name": "stderr",
     "output_type": "stream",
     "text": [
      "regularization_factors, val_score: 0.074492:  15%|#5        | 3/20 [02:32<14:18, 50.53s/it]\u001b[32m[I 2021-05-27 15:09:18,133]\u001b[0m Trial 45 finished with value: 0.07457066246049696 and parameters: {'lambda_l1': 1.0796663276048382e-06, 'lambda_l2': 1.3724256732957667e-08}. Best is trial 43 with value: 0.07452007726186949.\u001b[0m\n",
      "regularization_factors, val_score: 0.074492:  15%|#5        | 3/20 [02:32<14:18, 50.53s/it]"
     ]
    },
    {
     "name": "stdout",
     "output_type": "stream",
     "text": [
      "[LightGBM] [Warning] Auto-choosing row-wise multi-threading, the overhead of testing was 0.016982 seconds.\n",
      "You can set `force_row_wise=true` to remove the overhead.\n",
      "And if memory is not enough, you can set `force_col_wise=true`.\n",
      "[LightGBM] [Info] Total Bins 12536\n",
      "[LightGBM] [Info] Number of data points in the train set: 521580, number of used features: 20\n",
      "[LightGBM] [Info] Start training from score 7.219091\n",
      "Training until validation scores don't improve for 100 rounds\n",
      "[200]\tvalid_0's l1: 0.0756706\n",
      "[400]\tvalid_0's l1: 0.074978\n",
      "[600]\tvalid_0's l1: 0.0747726\n",
      "[800]\tvalid_0's l1: 0.0746366\n",
      "[1000]\tvalid_0's l1: 0.0745673\n",
      "Did not meet early stopping. Best iteration is:\n",
      "[1000]\tvalid_0's l1: 0.0745673\n"
     ]
    },
    {
     "name": "stderr",
     "output_type": "stream",
     "text": [
      "regularization_factors, val_score: 0.074492:  20%|##        | 4/20 [03:22<13:21, 50.11s/it]\u001b[32m[I 2021-05-27 15:10:07,600]\u001b[0m Trial 46 finished with value: 0.07456725378399989 and parameters: {'lambda_l1': 0.04352750300210843, 'lambda_l2': 0.000984437164126514}. Best is trial 43 with value: 0.07452007726186949.\u001b[0m\n",
      "regularization_factors, val_score: 0.074492:  20%|##        | 4/20 [03:22<13:21, 50.11s/it]"
     ]
    },
    {
     "name": "stdout",
     "output_type": "stream",
     "text": [
      "[LightGBM] [Warning] Auto-choosing row-wise multi-threading, the overhead of testing was 0.016982 seconds.\n",
      "You can set `force_row_wise=true` to remove the overhead.\n",
      "And if memory is not enough, you can set `force_col_wise=true`.\n",
      "[LightGBM] [Info] Total Bins 12536\n",
      "[LightGBM] [Info] Number of data points in the train set: 521580, number of used features: 20\n",
      "[LightGBM] [Info] Start training from score 7.219091\n",
      "Training until validation scores don't improve for 100 rounds\n",
      "[200]\tvalid_0's l1: 0.0757117\n",
      "[400]\tvalid_0's l1: 0.0750074\n",
      "[600]\tvalid_0's l1: 0.0747664\n",
      "[800]\tvalid_0's l1: 0.0746301\n",
      "[1000]\tvalid_0's l1: 0.0745707\n",
      "Did not meet early stopping. Best iteration is:\n",
      "[1000]\tvalid_0's l1: 0.0745707\n"
     ]
    },
    {
     "name": "stderr",
     "output_type": "stream",
     "text": [
      "regularization_factors, val_score: 0.074492:  25%|##5       | 5/20 [04:10<12:19, 49.33s/it]\u001b[32m[I 2021-05-27 15:10:55,555]\u001b[0m Trial 47 finished with value: 0.07457072696499466 and parameters: {'lambda_l1': 8.686215535936613e-07, 'lambda_l2': 1.1533911661757153e-07}. Best is trial 43 with value: 0.07452007726186949.\u001b[0m\n",
      "regularization_factors, val_score: 0.074492:  25%|##5       | 5/20 [04:10<12:19, 49.33s/it]"
     ]
    },
    {
     "name": "stdout",
     "output_type": "stream",
     "text": [
      "[LightGBM] [Warning] Auto-choosing row-wise multi-threading, the overhead of testing was 0.017140 seconds.\n",
      "You can set `force_row_wise=true` to remove the overhead.\n",
      "And if memory is not enough, you can set `force_col_wise=true`.\n",
      "[LightGBM] [Info] Total Bins 12536\n",
      "[LightGBM] [Info] Number of data points in the train set: 521580, number of used features: 20\n",
      "[LightGBM] [Info] Start training from score 7.219091\n",
      "Training until validation scores don't improve for 100 rounds\n",
      "[200]\tvalid_0's l1: 0.0756571\n",
      "[400]\tvalid_0's l1: 0.0749108\n",
      "[600]\tvalid_0's l1: 0.0747238\n",
      "[800]\tvalid_0's l1: 0.0745963\n",
      "[1000]\tvalid_0's l1: 0.0745326\n",
      "Did not meet early stopping. Best iteration is:\n",
      "[1000]\tvalid_0's l1: 0.0745326\n"
     ]
    },
    {
     "name": "stderr",
     "output_type": "stream",
     "text": [
      "regularization_factors, val_score: 0.074492:  30%|###       | 6/20 [04:58<11:26, 49.02s/it]\u001b[32m[I 2021-05-27 15:11:43,967]\u001b[0m Trial 48 finished with value: 0.07453263044334506 and parameters: {'lambda_l1': 0.00018754093810690822, 'lambda_l2': 3.29178927008323e-08}. Best is trial 43 with value: 0.07452007726186949.\u001b[0m\n",
      "regularization_factors, val_score: 0.074492:  30%|###       | 6/20 [04:58<11:26, 49.02s/it]"
     ]
    },
    {
     "name": "stdout",
     "output_type": "stream",
     "text": [
      "[LightGBM] [Warning] Auto-choosing row-wise multi-threading, the overhead of testing was 0.017528 seconds.\n",
      "You can set `force_row_wise=true` to remove the overhead.\n",
      "And if memory is not enough, you can set `force_col_wise=true`.\n",
      "[LightGBM] [Info] Total Bins 12536\n",
      "[LightGBM] [Info] Number of data points in the train set: 521580, number of used features: 20\n",
      "[LightGBM] [Info] Start training from score 7.219091\n",
      "Training until validation scores don't improve for 100 rounds\n",
      "[200]\tvalid_0's l1: 0.075599\n",
      "[400]\tvalid_0's l1: 0.0749713\n",
      "[600]\tvalid_0's l1: 0.0747538\n",
      "[800]\tvalid_0's l1: 0.0746494\n",
      "[1000]\tvalid_0's l1: 0.0745776\n",
      "Did not meet early stopping. Best iteration is:\n",
      "[992]\tvalid_0's l1: 0.0745772\n"
     ]
    },
    {
     "name": "stderr",
     "output_type": "stream",
     "text": [
      "regularization_factors, val_score: 0.074492:  35%|###5      | 7/20 [05:47<10:36, 48.97s/it]\u001b[32m[I 2021-05-27 15:12:32,825]\u001b[0m Trial 49 finished with value: 0.07457719611646726 and parameters: {'lambda_l1': 0.012023120269091858, 'lambda_l2': 0.231086833061028}. Best is trial 43 with value: 0.07452007726186949.\u001b[0m\n",
      "regularization_factors, val_score: 0.074492:  35%|###5      | 7/20 [05:47<10:36, 48.97s/it]"
     ]
    },
    {
     "name": "stdout",
     "output_type": "stream",
     "text": [
      "[LightGBM] [Warning] Auto-choosing row-wise multi-threading, the overhead of testing was 0.015687 seconds.\n",
      "You can set `force_row_wise=true` to remove the overhead.\n",
      "And if memory is not enough, you can set `force_col_wise=true`.\n",
      "[LightGBM] [Info] Total Bins 12536\n",
      "[LightGBM] [Info] Number of data points in the train set: 521580, number of used features: 20\n",
      "[LightGBM] [Info] Start training from score 7.219091\n",
      "Training until validation scores don't improve for 100 rounds\n",
      "[200]\tvalid_0's l1: 0.0757053\n",
      "[400]\tvalid_0's l1: 0.0750052\n",
      "[600]\tvalid_0's l1: 0.0747866\n",
      "[800]\tvalid_0's l1: 0.0746688\n",
      "[1000]\tvalid_0's l1: 0.0746268\n",
      "Did not meet early stopping. Best iteration is:\n",
      "[980]\tvalid_0's l1: 0.0746259\n"
     ]
    },
    {
     "name": "stderr",
     "output_type": "stream",
     "text": [
      "regularization_factors, val_score: 0.074492:  40%|####      | 8/20 [06:35<09:42, 48.58s/it]\u001b[32m[I 2021-05-27 15:13:20,565]\u001b[0m Trial 50 finished with value: 0.07462588713288759 and parameters: {'lambda_l1': 0.030265170253985667, 'lambda_l2': 0.8742761521719877}. Best is trial 43 with value: 0.07452007726186949.\u001b[0m\n",
      "regularization_factors, val_score: 0.074492:  40%|####      | 8/20 [06:35<09:42, 48.58s/it]"
     ]
    },
    {
     "name": "stdout",
     "output_type": "stream",
     "text": [
      "[LightGBM] [Warning] Auto-choosing row-wise multi-threading, the overhead of testing was 0.016429 seconds.\n",
      "You can set `force_row_wise=true` to remove the overhead.\n",
      "And if memory is not enough, you can set `force_col_wise=true`.\n",
      "[LightGBM] [Info] Total Bins 12536\n",
      "[LightGBM] [Info] Number of data points in the train set: 521580, number of used features: 20\n",
      "[LightGBM] [Info] Start training from score 7.219091\n",
      "Training until validation scores don't improve for 100 rounds\n",
      "[200]\tvalid_0's l1: 0.0756736\n",
      "[400]\tvalid_0's l1: 0.0749995\n",
      "[600]\tvalid_0's l1: 0.0747558\n",
      "[800]\tvalid_0's l1: 0.0746644\n",
      "[1000]\tvalid_0's l1: 0.0746189\n",
      "Did not meet early stopping. Best iteration is:\n",
      "[993]\tvalid_0's l1: 0.0746137\n"
     ]
    },
    {
     "name": "stderr",
     "output_type": "stream",
     "text": [
      "regularization_factors, val_score: 0.074492:  45%|####5     | 9/20 [07:23<08:52, 48.39s/it]\u001b[32m[I 2021-05-27 15:14:08,531]\u001b[0m Trial 51 finished with value: 0.07461368762259367 and parameters: {'lambda_l1': 0.0004964590812767515, 'lambda_l2': 1.2224572049797204e-08}. Best is trial 43 with value: 0.07452007726186949.\u001b[0m\n",
      "regularization_factors, val_score: 0.074492:  45%|####5     | 9/20 [07:23<08:52, 48.39s/it]"
     ]
    },
    {
     "name": "stdout",
     "output_type": "stream",
     "text": [
      "[LightGBM] [Warning] Auto-choosing row-wise multi-threading, the overhead of testing was 0.018237 seconds.\n",
      "You can set `force_row_wise=true` to remove the overhead.\n",
      "And if memory is not enough, you can set `force_col_wise=true`.\n",
      "[LightGBM] [Info] Total Bins 12536\n",
      "[LightGBM] [Info] Number of data points in the train set: 521580, number of used features: 20\n",
      "[LightGBM] [Info] Start training from score 7.219091\n",
      "Training until validation scores don't improve for 100 rounds\n",
      "[200]\tvalid_0's l1: 0.0756603\n",
      "[400]\tvalid_0's l1: 0.0749507\n",
      "[600]\tvalid_0's l1: 0.0747287\n",
      "[800]\tvalid_0's l1: 0.0746303\n",
      "[1000]\tvalid_0's l1: 0.0745399\n",
      "Did not meet early stopping. Best iteration is:\n",
      "[1000]\tvalid_0's l1: 0.0745399\n"
     ]
    },
    {
     "name": "stderr",
     "output_type": "stream",
     "text": [
      "regularization_factors, val_score: 0.074492:  50%|#####     | 10/20 [08:14<08:12, 49.27s/it]\u001b[32m[I 2021-05-27 15:14:59,798]\u001b[0m Trial 52 finished with value: 0.07453990305172456 and parameters: {'lambda_l1': 0.0019476396261279248, 'lambda_l2': 1.5439154232061676e-08}. Best is trial 43 with value: 0.07452007726186949.\u001b[0m\n",
      "regularization_factors, val_score: 0.074492:  50%|#####     | 10/20 [08:14<08:12, 49.27s/it]"
     ]
    },
    {
     "name": "stdout",
     "output_type": "stream",
     "text": [
      "[LightGBM] [Warning] Auto-choosing row-wise multi-threading, the overhead of testing was 0.018790 seconds.\n",
      "You can set `force_row_wise=true` to remove the overhead.\n",
      "And if memory is not enough, you can set `force_col_wise=true`.\n",
      "[LightGBM] [Info] Total Bins 12536\n",
      "[LightGBM] [Info] Number of data points in the train set: 521580, number of used features: 20\n",
      "[LightGBM] [Info] Start training from score 7.219091\n",
      "Training until validation scores don't improve for 100 rounds\n",
      "[200]\tvalid_0's l1: 0.0755279\n",
      "[400]\tvalid_0's l1: 0.0745357\n",
      "[600]\tvalid_0's l1: 0.0742661\n",
      "[800]\tvalid_0's l1: 0.0742067\n",
      "Early stopping, best iteration is:\n",
      "[809]\tvalid_0's l1: 0.0741953\n"
     ]
    },
    {
     "name": "stderr",
     "output_type": "stream",
     "text": [
      "regularization_factors, val_score: 0.074195:  55%|#####5    | 11/20 [09:19<08:07, 54.20s/it]\u001b[32m[I 2021-05-27 15:16:05,165]\u001b[0m Trial 53 finished with value: 0.07419534449977301 and parameters: {'lambda_l1': 5.039132415680655, 'lambda_l2': 4.305267737161885e-06}. Best is trial 53 with value: 0.07419534449977301.\u001b[0m\n",
      "regularization_factors, val_score: 0.074195:  55%|#####5    | 11/20 [09:19<08:07, 54.20s/it]"
     ]
    },
    {
     "name": "stdout",
     "output_type": "stream",
     "text": [
      "[LightGBM] [Warning] Auto-choosing row-wise multi-threading, the overhead of testing was 0.017323 seconds.\n",
      "You can set `force_row_wise=true` to remove the overhead.\n",
      "And if memory is not enough, you can set `force_col_wise=true`.\n",
      "[LightGBM] [Info] Total Bins 12536\n",
      "[LightGBM] [Info] Number of data points in the train set: 521580, number of used features: 20\n",
      "[LightGBM] [Info] Start training from score 7.219091\n",
      "Training until validation scores don't improve for 100 rounds\n",
      "[200]\tvalid_0's l1: 0.0754843\n",
      "[400]\tvalid_0's l1: 0.0745899\n",
      "[600]\tvalid_0's l1: 0.0743504\n",
      "[800]\tvalid_0's l1: 0.074341\n",
      "Early stopping, best iteration is:\n",
      "[747]\tvalid_0's l1: 0.0743355\n"
     ]
    },
    {
     "name": "stderr",
     "output_type": "stream",
     "text": [
      "regularization_factors, val_score: 0.074195:  60%|######    | 12/20 [10:21<07:32, 56.56s/it]\u001b[32m[I 2021-05-27 15:17:07,130]\u001b[0m Trial 54 finished with value: 0.0743354616115814 and parameters: {'lambda_l1': 3.3143932978706427, 'lambda_l2': 5.263662914267871e-06}. Best is trial 53 with value: 0.07419534449977301.\u001b[0m\n",
      "regularization_factors, val_score: 0.074195:  60%|######    | 12/20 [10:21<07:32, 56.56s/it]"
     ]
    },
    {
     "name": "stdout",
     "output_type": "stream",
     "text": [
      "[LightGBM] [Warning] Auto-choosing col-wise multi-threading, the overhead of testing was 0.052628 seconds.\n",
      "You can set `force_col_wise=true` to remove the overhead.\n",
      "[LightGBM] [Info] Total Bins 12536\n",
      "[LightGBM] [Info] Number of data points in the train set: 521580, number of used features: 20\n",
      "[LightGBM] [Info] Start training from score 7.219091\n",
      "Training until validation scores don't improve for 100 rounds\n",
      "[200]\tvalid_0's l1: 0.0755299\n",
      "[400]\tvalid_0's l1: 0.074414\n",
      "[600]\tvalid_0's l1: 0.074199\n",
      "Early stopping, best iteration is:\n",
      "[688]\tvalid_0's l1: 0.0741429\n"
     ]
    },
    {
     "name": "stderr",
     "output_type": "stream",
     "text": [
      "regularization_factors, val_score: 0.074143:  65%|######5   | 13/20 [11:21<06:43, 57.66s/it]\u001b[32m[I 2021-05-27 15:18:07,301]\u001b[0m Trial 55 finished with value: 0.0741428840138085 and parameters: {'lambda_l1': 5.838580701525789, 'lambda_l2': 9.685740587616524e-06}. Best is trial 55 with value: 0.0741428840138085.\u001b[0m\n",
      "regularization_factors, val_score: 0.074143:  65%|######5   | 13/20 [11:21<06:43, 57.66s/it]"
     ]
    },
    {
     "name": "stdout",
     "output_type": "stream",
     "text": [
      "[LightGBM] [Warning] Auto-choosing row-wise multi-threading, the overhead of testing was 0.016453 seconds.\n",
      "You can set `force_row_wise=true` to remove the overhead.\n",
      "And if memory is not enough, you can set `force_col_wise=true`.\n",
      "[LightGBM] [Info] Total Bins 12536\n",
      "[LightGBM] [Info] Number of data points in the train set: 521580, number of used features: 20\n",
      "[LightGBM] [Info] Start training from score 7.219091\n",
      "Training until validation scores don't improve for 100 rounds\n",
      "[200]\tvalid_0's l1: 0.075464\n",
      "[400]\tvalid_0's l1: 0.0743809\n",
      "[LightGBM] [Warning] No further splits with positive gain, best gain: -inf\n",
      "[600]\tvalid_0's l1: 0.0741113\n",
      "[LightGBM] [Warning] No further splits with positive gain, best gain: -inf\n",
      "Early stopping, best iteration is:\n",
      "[672]\tvalid_0's l1: 0.0740759\n"
     ]
    },
    {
     "name": "stderr",
     "output_type": "stream",
     "text": [
      "regularization_factors, val_score: 0.074076:  70%|#######   | 14/20 [12:20<05:47, 57.89s/it]\u001b[32m[I 2021-05-27 15:19:05,720]\u001b[0m Trial 56 finished with value: 0.07407590272631615 and parameters: {'lambda_l1': 6.962531111658264, 'lambda_l2': 2.174537188320907e-05}. Best is trial 56 with value: 0.07407590272631615.\u001b[0m\n",
      "regularization_factors, val_score: 0.074076:  70%|#######   | 14/20 [12:20<05:47, 57.89s/it]"
     ]
    },
    {
     "name": "stdout",
     "output_type": "stream",
     "text": [
      "[LightGBM] [Warning] Auto-choosing row-wise multi-threading, the overhead of testing was 0.016296 seconds.\n",
      "You can set `force_row_wise=true` to remove the overhead.\n",
      "And if memory is not enough, you can set `force_col_wise=true`.\n",
      "[LightGBM] [Info] Total Bins 12536\n",
      "[LightGBM] [Info] Number of data points in the train set: 521580, number of used features: 20\n",
      "[LightGBM] [Info] Start training from score 7.219091\n",
      "Training until validation scores don't improve for 100 rounds\n",
      "[200]\tvalid_0's l1: 0.0754636\n",
      "[400]\tvalid_0's l1: 0.0745104\n",
      "[600]\tvalid_0's l1: 0.0742661\n",
      "Early stopping, best iteration is:\n",
      "[652]\tvalid_0's l1: 0.0742201\n"
     ]
    },
    {
     "name": "stderr",
     "output_type": "stream",
     "text": [
      "regularization_factors, val_score: 0.074076:  75%|#######5  | 15/20 [13:18<04:50, 58.00s/it]\u001b[32m[I 2021-05-27 15:20:04,000]\u001b[0m Trial 57 finished with value: 0.07422011919207032 and parameters: {'lambda_l1': 3.540377235842041, 'lambda_l2': 0.0006525297639773118}. Best is trial 56 with value: 0.07407590272631615.\u001b[0m\n",
      "regularization_factors, val_score: 0.074076:  75%|#######5  | 15/20 [13:18<04:50, 58.00s/it]"
     ]
    },
    {
     "name": "stdout",
     "output_type": "stream",
     "text": [
      "[LightGBM] [Warning] Auto-choosing row-wise multi-threading, the overhead of testing was 0.016583 seconds.\n",
      "You can set `force_row_wise=true` to remove the overhead.\n",
      "And if memory is not enough, you can set `force_col_wise=true`.\n",
      "[LightGBM] [Info] Total Bins 12536\n",
      "[LightGBM] [Info] Number of data points in the train set: 521580, number of used features: 20\n",
      "[LightGBM] [Info] Start training from score 7.219091\n",
      "Training until validation scores don't improve for 100 rounds\n",
      "[200]\tvalid_0's l1: 0.0756583\n",
      "[400]\tvalid_0's l1: 0.0749797\n",
      "[600]\tvalid_0's l1: 0.0747444\n",
      "[800]\tvalid_0's l1: 0.0746312\n",
      "[1000]\tvalid_0's l1: 0.0745918\n",
      "Did not meet early stopping. Best iteration is:\n",
      "[1000]\tvalid_0's l1: 0.0745918\n"
     ]
    },
    {
     "name": "stderr",
     "output_type": "stream",
     "text": [
      "regularization_factors, val_score: 0.074076:  80%|########  | 16/20 [14:10<03:44, 56.10s/it]\u001b[32m[I 2021-05-27 15:20:55,686]\u001b[0m Trial 58 finished with value: 0.07459184563506649 and parameters: {'lambda_l1': 1.5515764620216128e-05, 'lambda_l2': 4.03375715402882e-05}. Best is trial 56 with value: 0.07407590272631615.\u001b[0m\n",
      "regularization_factors, val_score: 0.074076:  80%|########  | 16/20 [14:10<03:44, 56.10s/it]"
     ]
    },
    {
     "name": "stdout",
     "output_type": "stream",
     "text": [
      "[LightGBM] [Warning] Auto-choosing row-wise multi-threading, the overhead of testing was 0.015984 seconds.\n",
      "You can set `force_row_wise=true` to remove the overhead.\n",
      "And if memory is not enough, you can set `force_col_wise=true`.\n",
      "[LightGBM] [Info] Total Bins 12536\n",
      "[LightGBM] [Info] Number of data points in the train set: 521580, number of used features: 20\n",
      "[LightGBM] [Info] Start training from score 7.219091\n",
      "Training until validation scores don't improve for 100 rounds\n",
      "[200]\tvalid_0's l1: 0.0756041\n",
      "[400]\tvalid_0's l1: 0.0748743\n",
      "[600]\tvalid_0's l1: 0.0746442\n",
      "[800]\tvalid_0's l1: 0.0745443\n",
      "Early stopping, best iteration is:\n",
      "[808]\tvalid_0's l1: 0.0745408\n"
     ]
    },
    {
     "name": "stderr",
     "output_type": "stream",
     "text": [
      "regularization_factors, val_score: 0.074076:  85%|########5 | 17/20 [15:04<02:46, 55.56s/it]\u001b[32m[I 2021-05-27 15:21:49,974]\u001b[0m Trial 59 finished with value: 0.07454080237855204 and parameters: {'lambda_l1': 0.3619522468422133, 'lambda_l2': 0.0032332746386904737}. Best is trial 56 with value: 0.07407590272631615.\u001b[0m\n",
      "regularization_factors, val_score: 0.074076:  85%|########5 | 17/20 [15:04<02:46, 55.56s/it]"
     ]
    },
    {
     "name": "stdout",
     "output_type": "stream",
     "text": [
      "[LightGBM] [Warning] Auto-choosing row-wise multi-threading, the overhead of testing was 0.016818 seconds.\n",
      "You can set `force_row_wise=true` to remove the overhead.\n",
      "And if memory is not enough, you can set `force_col_wise=true`.\n",
      "[LightGBM] [Info] Total Bins 12536\n",
      "[LightGBM] [Info] Number of data points in the train set: 521580, number of used features: 20\n",
      "[LightGBM] [Info] Start training from score 7.219091\n",
      "Training until validation scores don't improve for 100 rounds\n",
      "[200]\tvalid_0's l1: 0.0755886\n",
      "[400]\tvalid_0's l1: 0.074778\n",
      "[600]\tvalid_0's l1: 0.0745756\n",
      "[800]\tvalid_0's l1: 0.0744562\n",
      "[1000]\tvalid_0's l1: 0.0744462\n",
      "Did not meet early stopping. Best iteration is:\n",
      "[964]\tvalid_0's l1: 0.0744452\n"
     ]
    },
    {
     "name": "stderr",
     "output_type": "stream",
     "text": [
      "regularization_factors, val_score: 0.074076:  90%|######### | 18/20 [16:03<01:52, 56.43s/it]\u001b[32m[I 2021-05-27 15:22:48,432]\u001b[0m Trial 60 finished with value: 0.07444520503108341 and parameters: {'lambda_l1': 0.42089927152478884, 'lambda_l2': 0.019079773961849792}. Best is trial 56 with value: 0.07407590272631615.\u001b[0m\n",
      "regularization_factors, val_score: 0.074076:  90%|######### | 18/20 [16:03<01:52, 56.43s/it]"
     ]
    },
    {
     "name": "stdout",
     "output_type": "stream",
     "text": [
      "[LightGBM] [Warning] Auto-choosing row-wise multi-threading, the overhead of testing was 0.015991 seconds.\n",
      "You can set `force_row_wise=true` to remove the overhead.\n",
      "And if memory is not enough, you can set `force_col_wise=true`.\n",
      "[LightGBM] [Info] Total Bins 12536\n",
      "[LightGBM] [Info] Number of data points in the train set: 521580, number of used features: 20\n",
      "[LightGBM] [Info] Start training from score 7.219091\n",
      "Training until validation scores don't improve for 100 rounds\n",
      "[200]\tvalid_0's l1: 0.075485\n",
      "[400]\tvalid_0's l1: 0.0744854\n",
      "[600]\tvalid_0's l1: 0.0741682\n",
      "Early stopping, best iteration is:\n",
      "[695]\tvalid_0's l1: 0.0740925\n"
     ]
    },
    {
     "name": "stderr",
     "output_type": "stream",
     "text": [
      "regularization_factors, val_score: 0.074076:  95%|#########5| 19/20 [17:02<00:57, 57.20s/it]\u001b[32m[I 2021-05-27 15:23:47,416]\u001b[0m Trial 61 finished with value: 0.0740925412654017 and parameters: {'lambda_l1': 6.050084629216105, 'lambda_l2': 1.1964444872664173e-05}. Best is trial 56 with value: 0.07407590272631615.\u001b[0m\n",
      "regularization_factors, val_score: 0.074076:  95%|#########5| 19/20 [17:02<00:57, 57.20s/it]"
     ]
    },
    {
     "name": "stdout",
     "output_type": "stream",
     "text": [
      "[LightGBM] [Warning] Auto-choosing row-wise multi-threading, the overhead of testing was 0.017060 seconds.\n",
      "You can set `force_row_wise=true` to remove the overhead.\n",
      "And if memory is not enough, you can set `force_col_wise=true`.\n",
      "[LightGBM] [Info] Total Bins 12536\n",
      "[LightGBM] [Info] Number of data points in the train set: 521580, number of used features: 20\n",
      "[LightGBM] [Info] Start training from score 7.219091\n",
      "Training until validation scores don't improve for 100 rounds\n",
      "[200]\tvalid_0's l1: 0.0757117\n",
      "[400]\tvalid_0's l1: 0.0749603\n",
      "[600]\tvalid_0's l1: 0.0747214\n",
      "[800]\tvalid_0's l1: 0.0745919\n",
      "[1000]\tvalid_0's l1: 0.074493\n",
      "Did not meet early stopping. Best iteration is:\n",
      "[999]\tvalid_0's l1: 0.0744922\n"
     ]
    },
    {
     "name": "stderr",
     "output_type": "stream",
     "text": [
      "regularization_factors, val_score: 0.074076: 100%|##########| 20/20 [17:55<00:00, 56.09s/it]\u001b[32m[I 2021-05-27 15:24:40,915]\u001b[0m Trial 62 finished with value: 0.07449218878999223 and parameters: {'lambda_l1': 1.194725080496854e-08, 'lambda_l2': 3.643992379454058e-07}. Best is trial 56 with value: 0.07407590272631615.\u001b[0m\n",
      "regularization_factors, val_score: 0.074076: 100%|##########| 20/20 [17:55<00:00, 53.78s/it]\n",
      "min_data_in_leaf, val_score: 0.074076:   0%|          | 0/5 [00:00<?, ?it/s]"
     ]
    },
    {
     "name": "stdout",
     "output_type": "stream",
     "text": [
      "[LightGBM] [Warning] Auto-choosing row-wise multi-threading, the overhead of testing was 0.016690 seconds.\n",
      "You can set `force_row_wise=true` to remove the overhead.\n",
      "And if memory is not enough, you can set `force_col_wise=true`.\n",
      "[LightGBM] [Info] Total Bins 12536\n",
      "[LightGBM] [Info] Number of data points in the train set: 521580, number of used features: 20\n",
      "[LightGBM] [Info] Start training from score 7.219091\n",
      "Training until validation scores don't improve for 100 rounds\n",
      "[200]\tvalid_0's l1: 0.0754512\n",
      "[400]\tvalid_0's l1: 0.0744245\n",
      "[600]\tvalid_0's l1: 0.074151\n",
      "[800]\tvalid_0's l1: 0.0740585\n",
      "[LightGBM] [Warning] No further splits with positive gain, best gain: -inf\n",
      "Early stopping, best iteration is:\n",
      "[816]\tvalid_0's l1: 0.0740524\n"
     ]
    },
    {
     "name": "stderr",
     "output_type": "stream",
     "text": [
      "min_data_in_leaf, val_score: 0.074052:  20%|##        | 1/5 [01:07<04:31, 67.90s/it]\u001b[32m[I 2021-05-27 15:25:48,826]\u001b[0m Trial 63 finished with value: 0.07405239381516612 and parameters: {'min_child_samples': 25}. Best is trial 63 with value: 0.07405239381516612.\u001b[0m\n",
      "min_data_in_leaf, val_score: 0.074052:  20%|##        | 1/5 [01:07<04:31, 67.90s/it]"
     ]
    },
    {
     "name": "stdout",
     "output_type": "stream",
     "text": [
      "[LightGBM] [Warning] Auto-choosing row-wise multi-threading, the overhead of testing was 0.016549 seconds.\n",
      "You can set `force_row_wise=true` to remove the overhead.\n",
      "And if memory is not enough, you can set `force_col_wise=true`.\n",
      "[LightGBM] [Info] Total Bins 12536\n",
      "[LightGBM] [Info] Number of data points in the train set: 521580, number of used features: 20\n",
      "[LightGBM] [Info] Start training from score 7.219091\n",
      "Training until validation scores don't improve for 100 rounds\n",
      "[200]\tvalid_0's l1: 0.0755986\n",
      "[400]\tvalid_0's l1: 0.0744946\n",
      "[600]\tvalid_0's l1: 0.0741977\n",
      "Early stopping, best iteration is:\n",
      "[653]\tvalid_0's l1: 0.0741528\n"
     ]
    },
    {
     "name": "stderr",
     "output_type": "stream",
     "text": [
      "min_data_in_leaf, val_score: 0.074052:  40%|####      | 2/5 [02:04<03:04, 61.50s/it]\u001b[32m[I 2021-05-27 15:26:45,857]\u001b[0m Trial 64 finished with value: 0.07415284956851476 and parameters: {'min_child_samples': 50}. Best is trial 63 with value: 0.07405239381516612.\u001b[0m\n",
      "min_data_in_leaf, val_score: 0.074052:  40%|####      | 2/5 [02:04<03:04, 61.50s/it]"
     ]
    },
    {
     "name": "stdout",
     "output_type": "stream",
     "text": [
      "[LightGBM] [Warning] Auto-choosing row-wise multi-threading, the overhead of testing was 0.020547 seconds.\n",
      "You can set `force_row_wise=true` to remove the overhead.\n",
      "And if memory is not enough, you can set `force_col_wise=true`.\n",
      "[LightGBM] [Info] Total Bins 12536\n",
      "[LightGBM] [Info] Number of data points in the train set: 521580, number of used features: 20\n",
      "[LightGBM] [Info] Start training from score 7.219091\n",
      "Training until validation scores don't improve for 100 rounds\n",
      "[200]\tvalid_0's l1: 0.0755102\n",
      "[400]\tvalid_0's l1: 0.07442\n",
      "[600]\tvalid_0's l1: 0.0741892\n",
      "[800]\tvalid_0's l1: 0.0740985\n",
      "Early stopping, best iteration is:\n",
      "[809]\tvalid_0's l1: 0.0740921\n"
     ]
    },
    {
     "name": "stderr",
     "output_type": "stream",
     "text": [
      "min_data_in_leaf, val_score: 0.074052:  60%|######    | 3/5 [03:13<02:09, 64.73s/it]\u001b[32m[I 2021-05-27 15:27:54,436]\u001b[0m Trial 65 finished with value: 0.0740920526265196 and parameters: {'min_child_samples': 100}. Best is trial 63 with value: 0.07405239381516612.\u001b[0m\n",
      "min_data_in_leaf, val_score: 0.074052:  60%|######    | 3/5 [03:13<02:09, 64.73s/it]"
     ]
    },
    {
     "name": "stdout",
     "output_type": "stream",
     "text": [
      "[LightGBM] [Warning] Auto-choosing row-wise multi-threading, the overhead of testing was 0.016763 seconds.\n",
      "You can set `force_row_wise=true` to remove the overhead.\n",
      "And if memory is not enough, you can set `force_col_wise=true`.\n",
      "[LightGBM] [Info] Total Bins 12536\n",
      "[LightGBM] [Info] Number of data points in the train set: 521580, number of used features: 20\n",
      "[LightGBM] [Info] Start training from score 7.219091\n",
      "Training until validation scores don't improve for 100 rounds\n",
      "[200]\tvalid_0's l1: 0.0754951\n",
      "[400]\tvalid_0's l1: 0.0744354\n",
      "[600]\tvalid_0's l1: 0.0741288\n",
      "[LightGBM] [Warning] No further splits with positive gain, best gain: -inf\n",
      "[800]\tvalid_0's l1: 0.0740701\n",
      "Early stopping, best iteration is:\n",
      "[764]\tvalid_0's l1: 0.0740626\n"
     ]
    },
    {
     "name": "stderr",
     "output_type": "stream",
     "text": [
      "min_data_in_leaf, val_score: 0.074052:  80%|########  | 4/5 [04:16<01:04, 64.04s/it]\u001b[32m[I 2021-05-27 15:28:57,403]\u001b[0m Trial 66 finished with value: 0.07406262486415294 and parameters: {'min_child_samples': 5}. Best is trial 63 with value: 0.07405239381516612.\u001b[0m\n",
      "min_data_in_leaf, val_score: 0.074052:  80%|########  | 4/5 [04:16<01:04, 64.04s/it]"
     ]
    },
    {
     "name": "stdout",
     "output_type": "stream",
     "text": [
      "[LightGBM] [Warning] Auto-choosing row-wise multi-threading, the overhead of testing was 0.017422 seconds.\n",
      "You can set `force_row_wise=true` to remove the overhead.\n",
      "And if memory is not enough, you can set `force_col_wise=true`.\n",
      "[LightGBM] [Info] Total Bins 12536\n",
      "[LightGBM] [Info] Number of data points in the train set: 521580, number of used features: 20\n",
      "[LightGBM] [Info] Start training from score 7.219091\n",
      "Training until validation scores don't improve for 100 rounds\n",
      "[200]\tvalid_0's l1: 0.0754784\n",
      "[400]\tvalid_0's l1: 0.074411\n",
      "[600]\tvalid_0's l1: 0.0741004\n",
      "Early stopping, best iteration is:\n",
      "[672]\tvalid_0's l1: 0.0740512\n"
     ]
    },
    {
     "name": "stderr",
     "output_type": "stream",
     "text": [
      "min_data_in_leaf, val_score: 0.074051: 100%|##########| 5/5 [05:15<00:00, 62.35s/it]\u001b[32m[I 2021-05-27 15:29:56,770]\u001b[0m Trial 67 finished with value: 0.07405119583206837 and parameters: {'min_child_samples': 10}. Best is trial 67 with value: 0.07405119583206837.\u001b[0m\n",
      "min_data_in_leaf, val_score: 0.074051: 100%|##########| 5/5 [05:15<00:00, 63.17s/it]\n"
     ]
    }
   ],
   "source": [
    "opt_params = {\n",
    "    \"objective\":\"regression\",\n",
    "    \"metric\":\"mae\"\n",
    "}\n",
    "\n",
    "\n",
    "opt=lgb.train(\n",
    "    opt_params,\n",
    "    trains,\n",
    "    valid_sets = valids,\n",
    "    verbose_eval=200,\n",
    "    num_boost_round = 1000,\n",
    "    early_stopping_rounds = 100\n",
    ")\n"
   ]
  },
  {
   "cell_type": "code",
   "execution_count": 27,
   "id": "crazy-campus",
   "metadata": {},
   "outputs": [
    {
     "name": "stdout",
     "output_type": "stream",
     "text": [
      "{'objective': 'regression', 'metric': 'l1', 'feature_pre_filter': False, 'lambda_l1': 6.962531111658264, 'lambda_l2': 2.174537188320907e-05, 'num_leaves': 78, 'feature_fraction': 0.5, 'bagging_fraction': 1.0, 'bagging_freq': 0, 'min_child_samples': 10, 'num_iterations': 1000, 'early_stopping_round': 100, 'categorical_column': [0, 1, 2, 3, 5, 8, 9, 10, 11, 15, 16]}\n"
     ]
    }
   ],
   "source": [
    "best_params = opt.params\n",
    "print(best_params)"
   ]
  },
  {
   "cell_type": "code",
   "execution_count": 28,
   "id": "baking-miniature",
   "metadata": {},
   "outputs": [
    {
     "name": "stderr",
     "output_type": "stream",
     "text": [
      "/opt/conda/lib/python3.7/site-packages/lightgbm/engine.py:148: UserWarning: Found `num_iterations` in params. Will use it instead of argument\n",
      "  _log_warning(\"Found `{}` in params. Will use it instead of argument\".format(alias))\n",
      "/opt/conda/lib/python3.7/site-packages/lightgbm/engine.py:153: UserWarning: Found `early_stopping_round` in params. Will use it instead of argument\n",
      "  _log_warning(\"Found `{}` in params. Will use it instead of argument\".format(alias))\n"
     ]
    },
    {
     "name": "stdout",
     "output_type": "stream",
     "text": [
      "[LightGBM] [Warning] Auto-choosing row-wise multi-threading, the overhead of testing was 0.018631 seconds.\n",
      "You can set `force_row_wise=true` to remove the overhead.\n",
      "And if memory is not enough, you can set `force_col_wise=true`.\n",
      "[LightGBM] [Info] Total Bins 12536\n",
      "[LightGBM] [Info] Number of data points in the train set: 521580, number of used features: 20\n",
      "[LightGBM] [Info] Start training from score 7.219091\n",
      "Training until validation scores don't improve for 100 rounds\n",
      "[200]\tvalid_0's l1: 0.0754784\n",
      "[400]\tvalid_0's l1: 0.074411\n",
      "[600]\tvalid_0's l1: 0.0741004\n",
      "Early stopping, best iteration is:\n",
      "[672]\tvalid_0's l1: 0.0740512\n"
     ]
    }
   ],
   "source": [
    "# lightGBM\n",
    "import lightgbm as lgb\n",
    "\n",
    "# params = {\n",
    "#     \"objective\": \"regression\",\n",
    "#     \"metrics\": \"mae\", \n",
    "#     \"lambda_l1\": 8.442195346804022,\n",
    "#     \"lambda_l2\": 5.708301125509865e-05,\n",
    "#     \"num_leaves\": 143,\n",
    "#     \"feature_fraction\": 0.484,\n",
    "#     \"bagging_fraction\": 1.0,\n",
    "#     \"bagging_freq\": 0,\n",
    "#     \"min_child_samples\": 50\n",
    "# }\n",
    "\n",
    "\n",
    "model = lgb.train(best_params, trains, valid_sets=valids, num_boost_round=1000, early_stopping_rounds=100, verbose_eval=200)"
   ]
  },
  {
   "cell_type": "code",
   "execution_count": 29,
   "id": "hungry-package",
   "metadata": {},
   "outputs": [
    {
     "data": {
      "text/plain": [
       "0.07405119811206745"
      ]
     },
     "execution_count": 29,
     "metadata": {},
     "output_type": "execute_result"
    }
   ],
   "source": [
    "vals = model.predict(val_x)\n",
    "mae(vals, val_y)"
   ]
  },
  {
   "cell_type": "code",
   "execution_count": 30,
   "id": "wired-dollar",
   "metadata": {},
   "outputs": [],
   "source": [
    "# import pickle\n",
    "# file = '01_trained_model.pkl'\n",
    "# pickle.dump(model, open(file, 'wb'))"
   ]
  },
  {
   "cell_type": "code",
   "execution_count": 31,
   "id": "supreme-accommodation",
   "metadata": {},
   "outputs": [],
   "source": [
    "df_test = pd.read_csv(\"/tmp/working/dataset/nishika/old_apartment_2020/test.csv\", index_col=0)\n",
    "df_test = data_pre2(df_test)\n",
    "predict = model.predict(df_test)\n",
    "df_test[\"取引価格（総額）_log\"] = predict\n",
    "df_test[[\"取引価格（総額）_log\"]].to_csv(\"./output/05_sub.csv\")"
   ]
  },
  {
   "cell_type": "code",
   "execution_count": 106,
   "id": "passive-complaint",
   "metadata": {},
   "outputs": [],
   "source": []
  },
  {
   "cell_type": "code",
   "execution_count": null,
   "id": "harmful-connectivity",
   "metadata": {},
   "outputs": [],
   "source": []
  }
 ],
 "metadata": {
  "kernelspec": {
   "display_name": "Python 3",
   "language": "python",
   "name": "python3"
  },
  "language_info": {
   "codemirror_mode": {
    "name": "ipython",
    "version": 3
   },
   "file_extension": ".py",
   "mimetype": "text/x-python",
   "name": "python",
   "nbconvert_exporter": "python",
   "pygments_lexer": "ipython3",
   "version": "3.7.10"
  }
 },
 "nbformat": 4,
 "nbformat_minor": 5
}
