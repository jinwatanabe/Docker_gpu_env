{
 "cells": [
  {
   "cell_type": "code",
   "execution_count": 1,
   "id": "mediterranean-expansion",
   "metadata": {},
   "outputs": [],
   "source": [
    "from pre3 import data_pre\n",
    "from input_data import input_df\n",
    "import matplotlib.pyplot as plt\n",
    "import pandas as pd\n",
    "import numpy as np"
   ]
  },
  {
   "cell_type": "code",
   "execution_count": 59,
   "id": "psychological-keeping",
   "metadata": {},
   "outputs": [
    {
     "name": "stderr",
     "output_type": "stream",
     "text": [
      "/opt/conda/lib/python3.7/site-packages/IPython/core/interactiveshell.py:3357: DtypeWarning: Columns (10) have mixed types.Specify dtype option on import or set low_memory=False.\n",
      "  if (await self.run_code(code, result,  async_=asy)):\n"
     ]
    }
   ],
   "source": [
    "df = input_df()\n",
    "df = data_pre(df)"
   ]
  },
  {
   "cell_type": "code",
   "execution_count": 47,
   "id": "young-reset",
   "metadata": {},
   "outputs": [
    {
     "name": "stdout",
     "output_type": "stream",
     "text": [
      "<class 'pandas.core.frame.DataFrame'>\n",
      "Int64Index: 651975 entries, 1117225 to 47008266\n",
      "Data columns (total 21 columns):\n",
      " #   Column        Non-Null Count   Dtype  \n",
      "---  ------        --------------   -----  \n",
      " 0   都道府県名         651975 non-null  object \n",
      " 1   市区町村名         651975 non-null  object \n",
      " 2   地区名           651318 non-null  object \n",
      " 3   最寄駅：名称        649342 non-null  object \n",
      " 4   最寄駅：距離（分）     628916 non-null  float64\n",
      " 5   間取り           629546 non-null  object \n",
      " 6   面積（㎡）         651975 non-null  float64\n",
      " 7   建築年           633280 non-null  float64\n",
      " 8   建物の構造         637098 non-null  object \n",
      " 9   用途            601333 non-null  object \n",
      " 10  今後の利用目的       288948 non-null  object \n",
      " 11  都市計画          633162 non-null  object \n",
      " 12  建ぺい率（％）       629168 non-null  float64\n",
      " 13  容積率（％）        629168 non-null  float64\n",
      " 14  取引時点          651975 non-null  float64\n",
      " 15  改装            593301 non-null  object \n",
      " 16  取引の事情等        18397 non-null   object \n",
      " 17  取引価格（総額）_log  651975 non-null  float64\n",
      " 18  緯度            651975 non-null  float64\n",
      " 19  経度            651975 non-null  float64\n",
      " 20  クラスタ平均        651975 non-null  float64\n",
      "dtypes: float64(10), object(11)\n",
      "memory usage: 109.4+ MB\n"
     ]
    }
   ],
   "source": [
    "df.info()"
   ]
  },
  {
   "cell_type": "code",
   "execution_count": 48,
   "id": "informational-vessel",
   "metadata": {},
   "outputs": [],
   "source": [
    "df[\"平均価格\"] = df[\"取引価格（総額）_log\"] / df[\"面積（㎡）\"]"
   ]
  },
  {
   "cell_type": "code",
   "execution_count": 49,
   "id": "violent-pontiac",
   "metadata": {},
   "outputs": [],
   "source": [
    "df = df[[\"都道府県名\", \"市区町村名\", \"平均価格\"]]"
   ]
  },
  {
   "cell_type": "code",
   "execution_count": 50,
   "id": "contemporary-latter",
   "metadata": {},
   "outputs": [],
   "source": [
    "t = df.groupby([\"都道府県名\", \"市区町村名\"]).mean()"
   ]
  },
  {
   "cell_type": "code",
   "execution_count": 51,
   "id": "sharing-pottery",
   "metadata": {},
   "outputs": [
    {
     "data": {
      "text/html": [
       "<div>\n",
       "<style scoped>\n",
       "    .dataframe tbody tr th:only-of-type {\n",
       "        vertical-align: middle;\n",
       "    }\n",
       "\n",
       "    .dataframe tbody tr th {\n",
       "        vertical-align: top;\n",
       "    }\n",
       "\n",
       "    .dataframe thead th {\n",
       "        text-align: right;\n",
       "    }\n",
       "</style>\n",
       "<table border=\"1\" class=\"dataframe\">\n",
       "  <thead>\n",
       "    <tr style=\"text-align: right;\">\n",
       "      <th></th>\n",
       "      <th></th>\n",
       "      <th>平均価格</th>\n",
       "    </tr>\n",
       "    <tr>\n",
       "      <th>都道府県名</th>\n",
       "      <th>市区町村名</th>\n",
       "      <th></th>\n",
       "    </tr>\n",
       "  </thead>\n",
       "  <tbody>\n",
       "    <tr>\n",
       "      <th rowspan=\"5\" valign=\"top\">三重県</th>\n",
       "      <th>三重郡川越町</th>\n",
       "      <td>0.105308</td>\n",
       "    </tr>\n",
       "    <tr>\n",
       "      <th>三重郡朝日町</th>\n",
       "      <td>0.113745</td>\n",
       "    </tr>\n",
       "    <tr>\n",
       "      <th>伊勢市</th>\n",
       "      <td>0.110150</td>\n",
       "    </tr>\n",
       "    <tr>\n",
       "      <th>四日市市</th>\n",
       "      <td>0.100698</td>\n",
       "    </tr>\n",
       "    <tr>\n",
       "      <th>松阪市</th>\n",
       "      <td>0.094643</td>\n",
       "    </tr>\n",
       "    <tr>\n",
       "      <th>...</th>\n",
       "      <th>...</th>\n",
       "      <td>...</td>\n",
       "    </tr>\n",
       "    <tr>\n",
       "      <th>鳥取県</th>\n",
       "      <th>鳥取市</th>\n",
       "      <td>0.151519</td>\n",
       "    </tr>\n",
       "    <tr>\n",
       "      <th rowspan=\"4\" valign=\"top\">鹿児島県</th>\n",
       "      <th>薩摩川内市</th>\n",
       "      <td>0.089514</td>\n",
       "    </tr>\n",
       "    <tr>\n",
       "      <th>霧島市</th>\n",
       "      <td>0.094551</td>\n",
       "    </tr>\n",
       "    <tr>\n",
       "      <th>鹿児島市</th>\n",
       "      <td>0.139012</td>\n",
       "    </tr>\n",
       "    <tr>\n",
       "      <th>鹿屋市</th>\n",
       "      <td>0.089419</td>\n",
       "    </tr>\n",
       "  </tbody>\n",
       "</table>\n",
       "<p>618 rows × 1 columns</p>\n",
       "</div>"
      ],
      "text/plain": [
       "                  平均価格\n",
       "都道府県名 市区町村名           \n",
       "三重県   三重郡川越町  0.105308\n",
       "      三重郡朝日町  0.113745\n",
       "      伊勢市     0.110150\n",
       "      四日市市    0.100698\n",
       "      松阪市     0.094643\n",
       "...                ...\n",
       "鳥取県   鳥取市     0.151519\n",
       "鹿児島県  薩摩川内市   0.089514\n",
       "      霧島市     0.094551\n",
       "      鹿児島市    0.139012\n",
       "      鹿屋市     0.089419\n",
       "\n",
       "[618 rows x 1 columns]"
      ]
     },
     "execution_count": 51,
     "metadata": {},
     "output_type": "execute_result"
    }
   ],
   "source": [
    "t"
   ]
  },
  {
   "cell_type": "code",
   "execution_count": 52,
   "id": "brown-sherman",
   "metadata": {},
   "outputs": [],
   "source": [
    "mean_value = t[\"平均価格\"].tolist()\n",
    "mean_value.append(0.109840)"
   ]
  },
  {
   "cell_type": "code",
   "execution_count": 53,
   "id": "sorted-strike",
   "metadata": {},
   "outputs": [],
   "source": [
    "area_list = []\n",
    "for i in t.index:\n",
    "    area_list.append(i[1]) \n",
    "\n",
    "area_list.append(\"北相馬郡利根町\")"
   ]
  },
  {
   "cell_type": "code",
   "execution_count": 71,
   "id": "cathedral-bathroom",
   "metadata": {},
   "outputs": [],
   "source": [
    "area_mean_df = pd.DataFrame({\"市区町村名\":area_list, \"平均価格\":mean_value})"
   ]
  },
  {
   "cell_type": "code",
   "execution_count": 72,
   "id": "cheap-navigation",
   "metadata": {},
   "outputs": [
    {
     "data": {
      "text/html": [
       "<div>\n",
       "<style scoped>\n",
       "    .dataframe tbody tr th:only-of-type {\n",
       "        vertical-align: middle;\n",
       "    }\n",
       "\n",
       "    .dataframe tbody tr th {\n",
       "        vertical-align: top;\n",
       "    }\n",
       "\n",
       "    .dataframe thead th {\n",
       "        text-align: right;\n",
       "    }\n",
       "</style>\n",
       "<table border=\"1\" class=\"dataframe\">\n",
       "  <thead>\n",
       "    <tr style=\"text-align: right;\">\n",
       "      <th></th>\n",
       "      <th>市区町村名</th>\n",
       "      <th>平均価格</th>\n",
       "    </tr>\n",
       "  </thead>\n",
       "  <tbody>\n",
       "    <tr>\n",
       "      <th>0</th>\n",
       "      <td>三重郡川越町</td>\n",
       "      <td>0.105308</td>\n",
       "    </tr>\n",
       "    <tr>\n",
       "      <th>1</th>\n",
       "      <td>三重郡朝日町</td>\n",
       "      <td>0.113745</td>\n",
       "    </tr>\n",
       "    <tr>\n",
       "      <th>2</th>\n",
       "      <td>伊勢市</td>\n",
       "      <td>0.110150</td>\n",
       "    </tr>\n",
       "    <tr>\n",
       "      <th>3</th>\n",
       "      <td>四日市市</td>\n",
       "      <td>0.100698</td>\n",
       "    </tr>\n",
       "    <tr>\n",
       "      <th>4</th>\n",
       "      <td>松阪市</td>\n",
       "      <td>0.094643</td>\n",
       "    </tr>\n",
       "    <tr>\n",
       "      <th>...</th>\n",
       "      <td>...</td>\n",
       "      <td>...</td>\n",
       "    </tr>\n",
       "    <tr>\n",
       "      <th>614</th>\n",
       "      <td>薩摩川内市</td>\n",
       "      <td>0.089514</td>\n",
       "    </tr>\n",
       "    <tr>\n",
       "      <th>615</th>\n",
       "      <td>霧島市</td>\n",
       "      <td>0.094551</td>\n",
       "    </tr>\n",
       "    <tr>\n",
       "      <th>616</th>\n",
       "      <td>鹿児島市</td>\n",
       "      <td>0.139012</td>\n",
       "    </tr>\n",
       "    <tr>\n",
       "      <th>617</th>\n",
       "      <td>鹿屋市</td>\n",
       "      <td>0.089419</td>\n",
       "    </tr>\n",
       "    <tr>\n",
       "      <th>618</th>\n",
       "      <td>北相馬郡利根町</td>\n",
       "      <td>0.109840</td>\n",
       "    </tr>\n",
       "  </tbody>\n",
       "</table>\n",
       "<p>619 rows × 2 columns</p>\n",
       "</div>"
      ],
      "text/plain": [
       "       市区町村名      平均価格\n",
       "0     三重郡川越町  0.105308\n",
       "1     三重郡朝日町  0.113745\n",
       "2        伊勢市  0.110150\n",
       "3       四日市市  0.100698\n",
       "4        松阪市  0.094643\n",
       "..       ...       ...\n",
       "614    薩摩川内市  0.089514\n",
       "615      霧島市  0.094551\n",
       "616     鹿児島市  0.139012\n",
       "617      鹿屋市  0.089419\n",
       "618  北相馬郡利根町  0.109840\n",
       "\n",
       "[619 rows x 2 columns]"
      ]
     },
     "execution_count": 72,
     "metadata": {},
     "output_type": "execute_result"
    }
   ],
   "source": [
    "area_mean_df"
   ]
  },
  {
   "cell_type": "code",
   "execution_count": 73,
   "id": "recreational-mayor",
   "metadata": {},
   "outputs": [],
   "source": [
    "area_mean_df.to_csv('area_mean_df.csv', index=False)"
   ]
  },
  {
   "cell_type": "code",
   "execution_count": 74,
   "id": "nominated-crisis",
   "metadata": {},
   "outputs": [],
   "source": [
    "area_mean_df = pd.read_csv('area_mean_df.csv')"
   ]
  },
  {
   "cell_type": "code",
   "execution_count": 75,
   "id": "specific-karaoke",
   "metadata": {},
   "outputs": [
    {
     "data": {
      "text/html": [
       "<div>\n",
       "<style scoped>\n",
       "    .dataframe tbody tr th:only-of-type {\n",
       "        vertical-align: middle;\n",
       "    }\n",
       "\n",
       "    .dataframe tbody tr th {\n",
       "        vertical-align: top;\n",
       "    }\n",
       "\n",
       "    .dataframe thead th {\n",
       "        text-align: right;\n",
       "    }\n",
       "</style>\n",
       "<table border=\"1\" class=\"dataframe\">\n",
       "  <thead>\n",
       "    <tr style=\"text-align: right;\">\n",
       "      <th></th>\n",
       "      <th>市区町村名</th>\n",
       "      <th>平均価格</th>\n",
       "    </tr>\n",
       "  </thead>\n",
       "  <tbody>\n",
       "    <tr>\n",
       "      <th>0</th>\n",
       "      <td>三重郡川越町</td>\n",
       "      <td>0.105308</td>\n",
       "    </tr>\n",
       "    <tr>\n",
       "      <th>1</th>\n",
       "      <td>三重郡朝日町</td>\n",
       "      <td>0.113745</td>\n",
       "    </tr>\n",
       "    <tr>\n",
       "      <th>2</th>\n",
       "      <td>伊勢市</td>\n",
       "      <td>0.110150</td>\n",
       "    </tr>\n",
       "    <tr>\n",
       "      <th>3</th>\n",
       "      <td>四日市市</td>\n",
       "      <td>0.100698</td>\n",
       "    </tr>\n",
       "    <tr>\n",
       "      <th>4</th>\n",
       "      <td>松阪市</td>\n",
       "      <td>0.094643</td>\n",
       "    </tr>\n",
       "    <tr>\n",
       "      <th>...</th>\n",
       "      <td>...</td>\n",
       "      <td>...</td>\n",
       "    </tr>\n",
       "    <tr>\n",
       "      <th>614</th>\n",
       "      <td>薩摩川内市</td>\n",
       "      <td>0.089514</td>\n",
       "    </tr>\n",
       "    <tr>\n",
       "      <th>615</th>\n",
       "      <td>霧島市</td>\n",
       "      <td>0.094551</td>\n",
       "    </tr>\n",
       "    <tr>\n",
       "      <th>616</th>\n",
       "      <td>鹿児島市</td>\n",
       "      <td>0.139012</td>\n",
       "    </tr>\n",
       "    <tr>\n",
       "      <th>617</th>\n",
       "      <td>鹿屋市</td>\n",
       "      <td>0.089419</td>\n",
       "    </tr>\n",
       "    <tr>\n",
       "      <th>618</th>\n",
       "      <td>北相馬郡利根町</td>\n",
       "      <td>0.109840</td>\n",
       "    </tr>\n",
       "  </tbody>\n",
       "</table>\n",
       "<p>619 rows × 2 columns</p>\n",
       "</div>"
      ],
      "text/plain": [
       "       市区町村名      平均価格\n",
       "0     三重郡川越町  0.105308\n",
       "1     三重郡朝日町  0.113745\n",
       "2        伊勢市  0.110150\n",
       "3       四日市市  0.100698\n",
       "4        松阪市  0.094643\n",
       "..       ...       ...\n",
       "614    薩摩川内市  0.089514\n",
       "615      霧島市  0.094551\n",
       "616     鹿児島市  0.139012\n",
       "617      鹿屋市  0.089419\n",
       "618  北相馬郡利根町  0.109840\n",
       "\n",
       "[619 rows x 2 columns]"
      ]
     },
     "execution_count": 75,
     "metadata": {},
     "output_type": "execute_result"
    }
   ],
   "source": [
    "area_mean_df"
   ]
  },
  {
   "cell_type": "code",
   "execution_count": 76,
   "id": "advanced-philadelphia",
   "metadata": {},
   "outputs": [],
   "source": [
    "df = pd.merge(df, area_mean_df, on=\"市区町村名\")"
   ]
  },
  {
   "cell_type": "code",
   "execution_count": null,
   "id": "vanilla-elements",
   "metadata": {},
   "outputs": [],
   "source": []
  }
 ],
 "metadata": {
  "kernelspec": {
   "display_name": "Python 3",
   "language": "python",
   "name": "python3"
  },
  "language_info": {
   "codemirror_mode": {
    "name": "ipython",
    "version": 3
   },
   "file_extension": ".py",
   "mimetype": "text/x-python",
   "name": "python",
   "nbconvert_exporter": "python",
   "pygments_lexer": "ipython3",
   "version": "3.7.10"
  }
 },
 "nbformat": 4,
 "nbformat_minor": 5
}
