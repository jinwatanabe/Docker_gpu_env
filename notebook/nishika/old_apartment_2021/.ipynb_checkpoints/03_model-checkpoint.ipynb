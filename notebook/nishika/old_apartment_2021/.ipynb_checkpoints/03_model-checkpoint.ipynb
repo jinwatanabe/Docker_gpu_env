{
 "cells": [
  {
   "cell_type": "code",
   "execution_count": 88,
   "id": "significant-multimedia",
   "metadata": {},
   "outputs": [],
   "source": [
    "from pre8 import data_pre\n",
    "from input_data import input_df\n",
    "import matplotlib.pyplot as plt\n",
    "import pandas as pd\n",
    "import numpy as np"
   ]
  },
  {
   "cell_type": "code",
   "execution_count": 89,
   "id": "synthetic-cholesterol",
   "metadata": {},
   "outputs": [
    {
     "name": "stderr",
     "output_type": "stream",
     "text": [
      "/opt/conda/lib/python3.7/site-packages/IPython/core/interactiveshell.py:3357: DtypeWarning: Columns (10) have mixed types.Specify dtype option on import or set low_memory=False.\n",
      "  if (await self.run_code(code, result,  async_=asy)):\n"
     ]
    }
   ],
   "source": [
    "df = input_df()\n",
    "df = data_pre(df)"
   ]
  },
  {
   "cell_type": "code",
   "execution_count": 112,
   "id": "specialized-completion",
   "metadata": {},
   "outputs": [],
   "source": [
    "df_test = pd.read_csv(\"/tmp/working/dataset/nishika/old_apartment_2020/test.csv\", index_col=0)\n",
    "\n",
    "df_test = data_pre(df_test)"
   ]
  },
  {
   "cell_type": "code",
   "execution_count": 91,
   "id": "urban-smart",
   "metadata": {},
   "outputs": [],
   "source": [
    "rides_df = pd.read_csv('./rides_df')"
   ]
  },
  {
   "cell_type": "code",
   "execution_count": 92,
   "id": "uniform-blake",
   "metadata": {},
   "outputs": [
    {
     "data": {
      "text/html": [
       "<div>\n",
       "<style scoped>\n",
       "    .dataframe tbody tr th:only-of-type {\n",
       "        vertical-align: middle;\n",
       "    }\n",
       "\n",
       "    .dataframe tbody tr th {\n",
       "        vertical-align: top;\n",
       "    }\n",
       "\n",
       "    .dataframe thead th {\n",
       "        text-align: right;\n",
       "    }\n",
       "</style>\n",
       "<table border=\"1\" class=\"dataframe\">\n",
       "  <thead>\n",
       "    <tr style=\"text-align: right;\">\n",
       "      <th></th>\n",
       "      <th>最寄駅：名称</th>\n",
       "      <th>乗車数</th>\n",
       "    </tr>\n",
       "  </thead>\n",
       "  <tbody>\n",
       "    <tr>\n",
       "      <th>0</th>\n",
       "      <td>西荻窪</td>\n",
       "      <td>45712</td>\n",
       "    </tr>\n",
       "    <tr>\n",
       "      <th>1</th>\n",
       "      <td>阿佐ケ谷</td>\n",
       "      <td>45603</td>\n",
       "    </tr>\n",
       "    <tr>\n",
       "      <th>2</th>\n",
       "      <td>鎌倉</td>\n",
       "      <td>43183</td>\n",
       "    </tr>\n",
       "    <tr>\n",
       "      <th>3</th>\n",
       "      <td>亀有</td>\n",
       "      <td>42901</td>\n",
       "    </tr>\n",
       "    <tr>\n",
       "      <th>4</th>\n",
       "      <td>中山</td>\n",
       "      <td>41986</td>\n",
       "    </tr>\n",
       "  </tbody>\n",
       "</table>\n",
       "</div>"
      ],
      "text/plain": [
       "  最寄駅：名称    乗車数\n",
       "0    西荻窪  45712\n",
       "1   阿佐ケ谷  45603\n",
       "2     鎌倉  43183\n",
       "3     亀有  42901\n",
       "4     中山  41986"
      ]
     },
     "execution_count": 92,
     "metadata": {},
     "output_type": "execute_result"
    }
   ],
   "source": [
    "rides_df.head()"
   ]
  },
  {
   "cell_type": "code",
   "execution_count": 93,
   "id": "miniature-latin",
   "metadata": {},
   "outputs": [],
   "source": [
    "station_list = rides_df[\"最寄駅：名称\"].tolist()"
   ]
  },
  {
   "cell_type": "code",
   "execution_count": 94,
   "id": "trained-chile",
   "metadata": {},
   "outputs": [
    {
     "data": {
      "text/html": [
       "<div>\n",
       "<style scoped>\n",
       "    .dataframe tbody tr th:only-of-type {\n",
       "        vertical-align: middle;\n",
       "    }\n",
       "\n",
       "    .dataframe tbody tr th {\n",
       "        vertical-align: top;\n",
       "    }\n",
       "\n",
       "    .dataframe thead th {\n",
       "        text-align: right;\n",
       "    }\n",
       "</style>\n",
       "<table border=\"1\" class=\"dataframe\">\n",
       "  <thead>\n",
       "    <tr style=\"text-align: right;\">\n",
       "      <th></th>\n",
       "      <th>都道府県名</th>\n",
       "      <th>市区町村名</th>\n",
       "      <th>地区名</th>\n",
       "      <th>最寄駅：名称</th>\n",
       "      <th>最寄駅：距離（分）</th>\n",
       "      <th>間取り</th>\n",
       "      <th>面積（㎡）</th>\n",
       "      <th>建築年</th>\n",
       "      <th>建物の構造</th>\n",
       "      <th>用途</th>\n",
       "      <th>...</th>\n",
       "      <th>都市計画</th>\n",
       "      <th>建ぺい率（％）</th>\n",
       "      <th>容積率（％）</th>\n",
       "      <th>取引時点</th>\n",
       "      <th>改装</th>\n",
       "      <th>取引の事情等</th>\n",
       "      <th>取引価格（総額）_log</th>\n",
       "      <th>緯度</th>\n",
       "      <th>経度</th>\n",
       "      <th>平均価格</th>\n",
       "    </tr>\n",
       "    <tr>\n",
       "      <th>ID</th>\n",
       "      <th></th>\n",
       "      <th></th>\n",
       "      <th></th>\n",
       "      <th></th>\n",
       "      <th></th>\n",
       "      <th></th>\n",
       "      <th></th>\n",
       "      <th></th>\n",
       "      <th></th>\n",
       "      <th></th>\n",
       "      <th></th>\n",
       "      <th></th>\n",
       "      <th></th>\n",
       "      <th></th>\n",
       "      <th></th>\n",
       "      <th></th>\n",
       "      <th></th>\n",
       "      <th></th>\n",
       "      <th></th>\n",
       "      <th></th>\n",
       "      <th></th>\n",
       "    </tr>\n",
       "  </thead>\n",
       "  <tbody>\n",
       "    <tr>\n",
       "      <th>1117225</th>\n",
       "      <td>北海道</td>\n",
       "      <td>苫小牧市</td>\n",
       "      <td>新中野町</td>\n",
       "      <td>苫小牧</td>\n",
       "      <td>25.0</td>\n",
       "      <td>３ＬＤＫ</td>\n",
       "      <td>120.0</td>\n",
       "      <td>12.0</td>\n",
       "      <td>ＲＣ</td>\n",
       "      <td>住宅</td>\n",
       "      <td>...</td>\n",
       "      <td>準工業地域</td>\n",
       "      <td>60.0</td>\n",
       "      <td>200.0</td>\n",
       "      <td>2018.75</td>\n",
       "      <td>未改装</td>\n",
       "      <td>NaN</td>\n",
       "      <td>7.431364</td>\n",
       "      <td>42.631246</td>\n",
       "      <td>141.603122</td>\n",
       "      <td>0.092308</td>\n",
       "    </tr>\n",
       "    <tr>\n",
       "      <th>1114724</th>\n",
       "      <td>北海道</td>\n",
       "      <td>苫小牧市</td>\n",
       "      <td>青葉町</td>\n",
       "      <td>青葉</td>\n",
       "      <td>9.0</td>\n",
       "      <td>３ＬＤＫ</td>\n",
       "      <td>70.0</td>\n",
       "      <td>35.0</td>\n",
       "      <td>ＲＣ</td>\n",
       "      <td>住宅</td>\n",
       "      <td>...</td>\n",
       "      <td>第１種中高層住居専用地域</td>\n",
       "      <td>60.0</td>\n",
       "      <td>200.0</td>\n",
       "      <td>2017.75</td>\n",
       "      <td>未改装</td>\n",
       "      <td>NaN</td>\n",
       "      <td>6.342423</td>\n",
       "      <td>42.631246</td>\n",
       "      <td>141.603122</td>\n",
       "      <td>0.092308</td>\n",
       "    </tr>\n",
       "    <tr>\n",
       "      <th>1114753</th>\n",
       "      <td>北海道</td>\n",
       "      <td>苫小牧市</td>\n",
       "      <td>青葉町</td>\n",
       "      <td>青葉</td>\n",
       "      <td>3.0</td>\n",
       "      <td>３ＬＤＫ</td>\n",
       "      <td>70.0</td>\n",
       "      <td>31.0</td>\n",
       "      <td>ＲＣ</td>\n",
       "      <td>住宅</td>\n",
       "      <td>...</td>\n",
       "      <td>第１種中高層住居専用地域</td>\n",
       "      <td>60.0</td>\n",
       "      <td>200.0</td>\n",
       "      <td>2016.50</td>\n",
       "      <td>改装済</td>\n",
       "      <td>NaN</td>\n",
       "      <td>6.778151</td>\n",
       "      <td>42.631246</td>\n",
       "      <td>141.603122</td>\n",
       "      <td>0.092308</td>\n",
       "    </tr>\n",
       "    <tr>\n",
       "      <th>1120806</th>\n",
       "      <td>北海道</td>\n",
       "      <td>苫小牧市</td>\n",
       "      <td>表町</td>\n",
       "      <td>苫小牧</td>\n",
       "      <td>8.0</td>\n",
       "      <td>４ＬＤＫ</td>\n",
       "      <td>105.0</td>\n",
       "      <td>18.0</td>\n",
       "      <td>ＲＣ</td>\n",
       "      <td>住宅</td>\n",
       "      <td>...</td>\n",
       "      <td>商業地域</td>\n",
       "      <td>80.0</td>\n",
       "      <td>400.0</td>\n",
       "      <td>2011.99</td>\n",
       "      <td>未改装</td>\n",
       "      <td>NaN</td>\n",
       "      <td>7.230449</td>\n",
       "      <td>42.631246</td>\n",
       "      <td>141.603122</td>\n",
       "      <td>0.092308</td>\n",
       "    </tr>\n",
       "    <tr>\n",
       "      <th>1117264</th>\n",
       "      <td>北海道</td>\n",
       "      <td>苫小牧市</td>\n",
       "      <td>新中野町</td>\n",
       "      <td>苫小牧</td>\n",
       "      <td>25.0</td>\n",
       "      <td>３ＬＤＫ</td>\n",
       "      <td>90.0</td>\n",
       "      <td>15.0</td>\n",
       "      <td>ＲＣ</td>\n",
       "      <td>住宅</td>\n",
       "      <td>...</td>\n",
       "      <td>準工業地域</td>\n",
       "      <td>60.0</td>\n",
       "      <td>200.0</td>\n",
       "      <td>2015.50</td>\n",
       "      <td>未改装</td>\n",
       "      <td>NaN</td>\n",
       "      <td>7.204120</td>\n",
       "      <td>42.631246</td>\n",
       "      <td>141.603122</td>\n",
       "      <td>0.092308</td>\n",
       "    </tr>\n",
       "  </tbody>\n",
       "</table>\n",
       "<p>5 rows × 21 columns</p>\n",
       "</div>"
      ],
      "text/plain": [
       "        都道府県名 市区町村名   地区名 最寄駅：名称  最寄駅：距離（分）   間取り  面積（㎡）   建築年 建物の構造  用途  ...  \\\n",
       "ID                                                                        ...   \n",
       "1117225   北海道  苫小牧市  新中野町    苫小牧       25.0  ３ＬＤＫ  120.0  12.0    ＲＣ  住宅  ...   \n",
       "1114724   北海道  苫小牧市   青葉町     青葉        9.0  ３ＬＤＫ   70.0  35.0    ＲＣ  住宅  ...   \n",
       "1114753   北海道  苫小牧市   青葉町     青葉        3.0  ３ＬＤＫ   70.0  31.0    ＲＣ  住宅  ...   \n",
       "1120806   北海道  苫小牧市    表町    苫小牧        8.0  ４ＬＤＫ  105.0  18.0    ＲＣ  住宅  ...   \n",
       "1117264   北海道  苫小牧市  新中野町    苫小牧       25.0  ３ＬＤＫ   90.0  15.0    ＲＣ  住宅  ...   \n",
       "\n",
       "                 都市計画 建ぺい率（％）  容積率（％）     取引時点   改装 取引の事情等 取引価格（総額）_log  \\\n",
       "ID                                                                        \n",
       "1117225         準工業地域    60.0   200.0  2018.75  未改装    NaN     7.431364   \n",
       "1114724  第１種中高層住居専用地域    60.0   200.0  2017.75  未改装    NaN     6.342423   \n",
       "1114753  第１種中高層住居専用地域    60.0   200.0  2016.50  改装済    NaN     6.778151   \n",
       "1120806          商業地域    80.0   400.0  2011.99  未改装    NaN     7.230449   \n",
       "1117264         準工業地域    60.0   200.0  2015.50  未改装    NaN     7.204120   \n",
       "\n",
       "                緯度          経度      平均価格  \n",
       "ID                                        \n",
       "1117225  42.631246  141.603122  0.092308  \n",
       "1114724  42.631246  141.603122  0.092308  \n",
       "1114753  42.631246  141.603122  0.092308  \n",
       "1120806  42.631246  141.603122  0.092308  \n",
       "1117264  42.631246  141.603122  0.092308  \n",
       "\n",
       "[5 rows x 21 columns]"
      ]
     },
     "execution_count": 94,
     "metadata": {},
     "output_type": "execute_result"
    }
   ],
   "source": [
    "df.head()"
   ]
  },
  {
   "cell_type": "code",
   "execution_count": 98,
   "id": "mathematical-marshall",
   "metadata": {},
   "outputs": [],
   "source": [
    "def rides_number(x):\n",
    "    \n",
    "    if x in station_list:\n",
    "        i = station_list.index(x)\n",
    "#         print(\"dfi:\" + x + \"listi:\" + station_list[i])\n",
    "        return rides_df.iloc[i, 1]\n",
    "\n",
    "    for i, s in enumerate(station_list):\n",
    "        if s in x:\n",
    "#             print(\"df:\" + x + \"list:\" + s)\n",
    "            return rides_df.iloc[i, 1]\n",
    "        if x in s:\n",
    "            return rides_df.iloc[i, 1]\n",
    "    \n",
    "    return 0"
   ]
  },
  {
   "cell_type": "code",
   "execution_count": 99,
   "id": "imperial-circumstances",
   "metadata": {},
   "outputs": [],
   "source": [
    "df[\"乗車数\"] = df[\"最寄駅：名称\"].apply(lambda x: rides_number(x))"
   ]
  },
  {
   "cell_type": "code",
   "execution_count": 100,
   "id": "driving-bahrain",
   "metadata": {},
   "outputs": [
    {
     "name": "stdout",
     "output_type": "stream",
     "text": [
      "<class 'pandas.core.frame.DataFrame'>\n",
      "Int64Index: 651975 entries, 1117225 to 47008266\n",
      "Data columns (total 22 columns):\n",
      " #   Column        Non-Null Count   Dtype   \n",
      "---  ------        --------------   -----   \n",
      " 0   都道府県名         651975 non-null  category\n",
      " 1   市区町村名         651975 non-null  category\n",
      " 2   地区名           651318 non-null  category\n",
      " 3   最寄駅：名称        649342 non-null  category\n",
      " 4   最寄駅：距離（分）     628916 non-null  float64 \n",
      " 5   間取り           629546 non-null  category\n",
      " 6   面積（㎡）         651975 non-null  float64 \n",
      " 7   建築年           633280 non-null  float64 \n",
      " 8   建物の構造         637098 non-null  category\n",
      " 9   用途            601333 non-null  category\n",
      " 10  今後の利用目的       288948 non-null  category\n",
      " 11  都市計画          633162 non-null  category\n",
      " 12  建ぺい率（％）       629168 non-null  float64 \n",
      " 13  容積率（％）        629168 non-null  float64 \n",
      " 14  取引時点          651975 non-null  float64 \n",
      " 15  改装            593301 non-null  category\n",
      " 16  取引の事情等        18397 non-null   category\n",
      " 17  取引価格（総額）_log  651975 non-null  float64 \n",
      " 18  緯度            651975 non-null  float64 \n",
      " 19  経度            651975 non-null  float64 \n",
      " 20  平均価格          651975 non-null  float64 \n",
      " 21  乗車数           649342 non-null  float64 \n",
      "dtypes: category(11), float64(11)\n",
      "memory usage: 68.9 MB\n"
     ]
    }
   ],
   "source": [
    "df.info()"
   ]
  },
  {
   "cell_type": "code",
   "execution_count": 101,
   "id": "bright-moral",
   "metadata": {},
   "outputs": [],
   "source": [
    "from sklearn.model_selection import train_test_split, KFold,cross_validate\n",
    "from sklearn.metrics import mean_absolute_error as mae\n",
    "import lightgbm\n",
    "import optuna.integration.lightgbm as lgb\n",
    "\n",
    "\n",
    "df_train, df_val = train_test_split(df, test_size=0.2)\n",
    "\n",
    "col = \"取引価格（総額）_log\"\n",
    "train_y = df_train[col]\n",
    "train_x = df_train.drop(col, axis=1)\n",
    "\n",
    "val_y = df_val[col]\n",
    "val_x = df_val.drop(col, axis=1)\n",
    "\n",
    "trains = lgb.Dataset(train_x, train_y)\n",
    "valids = lgb.Dataset(val_x, val_y)"
   ]
  },
  {
   "cell_type": "code",
   "execution_count": 102,
   "id": "beginning-cooperation",
   "metadata": {},
   "outputs": [
    {
     "name": "stderr",
     "output_type": "stream",
     "text": [
      "\u001b[32m[I 2021-06-12 11:09:25,783]\u001b[0m A new study created in memory with name: no-name-0c2d68a6-7794-4e74-940d-e7c51ed4ae4a\u001b[0m\n",
      "feature_fraction, val_score: inf:   0%|          | 0/7 [00:00<?, ?it/s]"
     ]
    },
    {
     "name": "stdout",
     "output_type": "stream",
     "text": [
      "[LightGBM] [Warning] Auto-choosing row-wise multi-threading, the overhead of testing was 0.015157 seconds.\n",
      "You can set `force_row_wise=true` to remove the overhead.\n",
      "And if memory is not enough, you can set `force_col_wise=true`.\n",
      "[LightGBM] [Info] Total Bins 12819\n",
      "[LightGBM] [Info] Number of data points in the train set: 521580, number of used features: 21\n",
      "[LightGBM] [Info] Start training from score 7.219070\n",
      "Training until validation scores don't improve for 100 rounds\n"
     ]
    },
    {
     "name": "stderr",
     "output_type": "stream",
     "text": [
      "/opt/conda/lib/python3.7/site-packages/lightgbm/basic.py:1433: UserWarning: Overriding the parameters from Reference Dataset.\n",
      "  _log_warning('Overriding the parameters from Reference Dataset.')\n",
      "/opt/conda/lib/python3.7/site-packages/lightgbm/basic.py:1245: UserWarning: categorical_column in param dict is overridden.\n",
      "  _log_warning('{} in param dict is overridden.'.format(cat_alias))\n"
     ]
    },
    {
     "name": "stdout",
     "output_type": "stream",
     "text": [
      "[200]\tvalid_0's l1: 0.0781133\n",
      "[400]\tvalid_0's l1: 0.0764477\n",
      "[600]\tvalid_0's l1: 0.0758013\n",
      "[800]\tvalid_0's l1: 0.075502\n",
      "[1000]\tvalid_0's l1: 0.0752713\n",
      "Did not meet early stopping. Best iteration is:\n",
      "[1000]\tvalid_0's l1: 0.0752713\n"
     ]
    },
    {
     "name": "stderr",
     "output_type": "stream",
     "text": [
      "feature_fraction, val_score: 0.075271:  14%|#4        | 1/7 [00:25<02:33, 25.59s/it]\u001b[32m[I 2021-06-12 11:09:51,383]\u001b[0m Trial 0 finished with value: 0.07527133488689204 and parameters: {'feature_fraction': 0.5}. Best is trial 0 with value: 0.07527133488689204.\u001b[0m\n",
      "feature_fraction, val_score: 0.075271:  14%|#4        | 1/7 [00:25<02:33, 25.59s/it]"
     ]
    },
    {
     "name": "stdout",
     "output_type": "stream",
     "text": [
      "[LightGBM] [Warning] Auto-choosing row-wise multi-threading, the overhead of testing was 0.020783 seconds.\n",
      "You can set `force_row_wise=true` to remove the overhead.\n",
      "And if memory is not enough, you can set `force_col_wise=true`.\n",
      "[LightGBM] [Info] Total Bins 12819\n",
      "[LightGBM] [Info] Number of data points in the train set: 521580, number of used features: 21\n",
      "[LightGBM] [Info] Start training from score 7.219070\n",
      "Training until validation scores don't improve for 100 rounds\n",
      "[200]\tvalid_0's l1: 0.0783525\n",
      "[400]\tvalid_0's l1: 0.0768097\n",
      "[600]\tvalid_0's l1: 0.0762415\n",
      "[800]\tvalid_0's l1: 0.0759693\n",
      "[1000]\tvalid_0's l1: 0.0758124\n",
      "Did not meet early stopping. Best iteration is:\n",
      "[1000]\tvalid_0's l1: 0.0758124\n"
     ]
    },
    {
     "name": "stderr",
     "output_type": "stream",
     "text": [
      "feature_fraction, val_score: 0.075271:  29%|##8       | 2/7 [00:54<02:16, 27.29s/it]\u001b[32m[I 2021-06-12 11:10:19,861]\u001b[0m Trial 1 finished with value: 0.0758124062590456 and parameters: {'feature_fraction': 0.8999999999999999}. Best is trial 0 with value: 0.07527133488689204.\u001b[0m\n",
      "feature_fraction, val_score: 0.075271:  29%|##8       | 2/7 [00:54<02:16, 27.29s/it]"
     ]
    },
    {
     "name": "stdout",
     "output_type": "stream",
     "text": [
      "[LightGBM] [Warning] Auto-choosing col-wise multi-threading, the overhead of testing was 0.044824 seconds.\n",
      "You can set `force_col_wise=true` to remove the overhead.\n",
      "[LightGBM] [Info] Total Bins 12819\n",
      "[LightGBM] [Info] Number of data points in the train set: 521580, number of used features: 21\n",
      "[LightGBM] [Info] Start training from score 7.219070\n",
      "Training until validation scores don't improve for 100 rounds\n",
      "[200]\tvalid_0's l1: 0.0781022\n",
      "[400]\tvalid_0's l1: 0.0766201\n",
      "[600]\tvalid_0's l1: 0.076059\n",
      "[800]\tvalid_0's l1: 0.0758285\n",
      "[1000]\tvalid_0's l1: 0.0756195\n",
      "Did not meet early stopping. Best iteration is:\n",
      "[979]\tvalid_0's l1: 0.0756131\n"
     ]
    },
    {
     "name": "stderr",
     "output_type": "stream",
     "text": [
      "feature_fraction, val_score: 0.075271:  43%|####2     | 3/7 [01:20<01:47, 26.84s/it]\u001b[32m[I 2021-06-12 11:10:46,157]\u001b[0m Trial 2 finished with value: 0.07561313992715622 and parameters: {'feature_fraction': 0.7}. Best is trial 0 with value: 0.07527133488689204.\u001b[0m\n",
      "feature_fraction, val_score: 0.075271:  43%|####2     | 3/7 [01:20<01:47, 26.84s/it]"
     ]
    },
    {
     "name": "stdout",
     "output_type": "stream",
     "text": [
      "[LightGBM] [Warning] Auto-choosing row-wise multi-threading, the overhead of testing was 0.020437 seconds.\n",
      "You can set `force_row_wise=true` to remove the overhead.\n",
      "And if memory is not enough, you can set `force_col_wise=true`.\n",
      "[LightGBM] [Info] Total Bins 12819\n",
      "[LightGBM] [Info] Number of data points in the train set: 521580, number of used features: 21\n",
      "[LightGBM] [Info] Start training from score 7.219070\n",
      "Training until validation scores don't improve for 100 rounds\n",
      "[200]\tvalid_0's l1: 0.0782788\n",
      "[400]\tvalid_0's l1: 0.0767273\n",
      "[600]\tvalid_0's l1: 0.0762742\n",
      "[800]\tvalid_0's l1: 0.0761026\n",
      "[1000]\tvalid_0's l1: 0.0760065\n",
      "Did not meet early stopping. Best iteration is:\n",
      "[1000]\tvalid_0's l1: 0.0760065\n"
     ]
    },
    {
     "name": "stderr",
     "output_type": "stream",
     "text": [
      "feature_fraction, val_score: 0.075271:  57%|#####7    | 4/7 [01:48<01:22, 27.49s/it]\u001b[32m[I 2021-06-12 11:11:14,660]\u001b[0m Trial 3 finished with value: 0.07600647701665297 and parameters: {'feature_fraction': 1.0}. Best is trial 0 with value: 0.07527133488689204.\u001b[0m\n",
      "feature_fraction, val_score: 0.075271:  57%|#####7    | 4/7 [01:48<01:22, 27.49s/it]"
     ]
    },
    {
     "name": "stdout",
     "output_type": "stream",
     "text": [
      "[LightGBM] [Warning] Auto-choosing col-wise multi-threading, the overhead of testing was 0.035919 seconds.\n",
      "You can set `force_col_wise=true` to remove the overhead.\n",
      "[LightGBM] [Info] Total Bins 12819\n",
      "[LightGBM] [Info] Number of data points in the train set: 521580, number of used features: 21\n",
      "[LightGBM] [Info] Start training from score 7.219070\n",
      "Training until validation scores don't improve for 100 rounds\n",
      "[200]\tvalid_0's l1: 0.078118\n",
      "[400]\tvalid_0's l1: 0.0764404\n",
      "[600]\tvalid_0's l1: 0.0758323\n",
      "[800]\tvalid_0's l1: 0.0755586\n",
      "[1000]\tvalid_0's l1: 0.0754439\n",
      "Did not meet early stopping. Best iteration is:\n",
      "[1000]\tvalid_0's l1: 0.0754439\n"
     ]
    },
    {
     "name": "stderr",
     "output_type": "stream",
     "text": [
      "feature_fraction, val_score: 0.075271:  71%|#######1  | 5/7 [02:12<00:52, 26.18s/it]\u001b[32m[I 2021-06-12 11:11:38,519]\u001b[0m Trial 4 finished with value: 0.07544393098129472 and parameters: {'feature_fraction': 0.6}. Best is trial 0 with value: 0.07527133488689204.\u001b[0m\n",
      "feature_fraction, val_score: 0.075271:  71%|#######1  | 5/7 [02:12<00:52, 26.18s/it]"
     ]
    },
    {
     "name": "stdout",
     "output_type": "stream",
     "text": [
      "[LightGBM] [Warning] Auto-choosing row-wise multi-threading, the overhead of testing was 0.021334 seconds.\n",
      "You can set `force_row_wise=true` to remove the overhead.\n",
      "And if memory is not enough, you can set `force_col_wise=true`.\n",
      "[LightGBM] [Info] Total Bins 12819\n",
      "[LightGBM] [Info] Number of data points in the train set: 521580, number of used features: 21\n",
      "[LightGBM] [Info] Start training from score 7.219070\n",
      "Training until validation scores don't improve for 100 rounds\n",
      "[200]\tvalid_0's l1: 0.0781803\n",
      "[400]\tvalid_0's l1: 0.0766241\n",
      "[600]\tvalid_0's l1: 0.0761224\n",
      "[800]\tvalid_0's l1: 0.075866\n",
      "[1000]\tvalid_0's l1: 0.0757009\n",
      "Did not meet early stopping. Best iteration is:\n",
      "[999]\tvalid_0's l1: 0.0756998\n"
     ]
    },
    {
     "name": "stderr",
     "output_type": "stream",
     "text": [
      "feature_fraction, val_score: 0.075271:  86%|########5 | 6/7 [02:39<00:26, 26.48s/it]\u001b[32m[I 2021-06-12 11:12:05,565]\u001b[0m Trial 5 finished with value: 0.07569979896722931 and parameters: {'feature_fraction': 0.8}. Best is trial 0 with value: 0.07527133488689204.\u001b[0m\n",
      "feature_fraction, val_score: 0.075271:  86%|########5 | 6/7 [02:39<00:26, 26.48s/it]"
     ]
    },
    {
     "name": "stdout",
     "output_type": "stream",
     "text": [
      "[LightGBM] [Warning] Auto-choosing row-wise multi-threading, the overhead of testing was 0.015950 seconds.\n",
      "You can set `force_row_wise=true` to remove the overhead.\n",
      "And if memory is not enough, you can set `force_col_wise=true`.\n",
      "[LightGBM] [Info] Total Bins 12819\n",
      "[LightGBM] [Info] Number of data points in the train set: 521580, number of used features: 21\n",
      "[LightGBM] [Info] Start training from score 7.219070\n",
      "Training until validation scores don't improve for 100 rounds\n",
      "[200]\tvalid_0's l1: 0.0782841\n",
      "[400]\tvalid_0's l1: 0.076201\n",
      "[600]\tvalid_0's l1: 0.0756584\n",
      "[800]\tvalid_0's l1: 0.0753758\n",
      "[1000]\tvalid_0's l1: 0.0751997\n",
      "Did not meet early stopping. Best iteration is:\n",
      "[1000]\tvalid_0's l1: 0.0751997\n"
     ]
    },
    {
     "name": "stderr",
     "output_type": "stream",
     "text": [
      "feature_fraction, val_score: 0.075200: 100%|##########| 7/7 [03:00<00:00, 24.63s/it]\u001b[32m[I 2021-06-12 11:12:26,384]\u001b[0m Trial 6 finished with value: 0.07519974927844679 and parameters: {'feature_fraction': 0.4}. Best is trial 6 with value: 0.07519974927844679.\u001b[0m\n",
      "feature_fraction, val_score: 0.075200: 100%|##########| 7/7 [03:00<00:00, 25.80s/it]\n",
      "num_leaves, val_score: 0.075200:   0%|          | 0/20 [00:00<?, ?it/s]"
     ]
    },
    {
     "name": "stdout",
     "output_type": "stream",
     "text": [
      "[LightGBM] [Warning] Auto-choosing row-wise multi-threading, the overhead of testing was 0.014085 seconds.\n",
      "You can set `force_row_wise=true` to remove the overhead.\n",
      "And if memory is not enough, you can set `force_col_wise=true`.\n",
      "[LightGBM] [Info] Total Bins 12819\n",
      "[LightGBM] [Info] Number of data points in the train set: 521580, number of used features: 21\n",
      "[LightGBM] [Info] Start training from score 7.219070\n",
      "Training until validation scores don't improve for 100 rounds\n",
      "[200]\tvalid_0's l1: 0.0755432\n",
      "[400]\tvalid_0's l1: 0.0747671\n",
      "[600]\tvalid_0's l1: 0.0745331\n",
      "[800]\tvalid_0's l1: 0.0744506\n",
      "[1000]\tvalid_0's l1: 0.0743816\n",
      "Did not meet early stopping. Best iteration is:\n",
      "[997]\tvalid_0's l1: 0.0743812\n"
     ]
    },
    {
     "name": "stderr",
     "output_type": "stream",
     "text": [
      "num_leaves, val_score: 0.074381:   5%|5         | 1/20 [00:28<09:04, 28.66s/it]\u001b[32m[I 2021-06-12 11:12:55,045]\u001b[0m Trial 7 finished with value: 0.07438116659438751 and parameters: {'num_leaves': 90}. Best is trial 7 with value: 0.07438116659438751.\u001b[0m\n",
      "num_leaves, val_score: 0.074381:   5%|5         | 1/20 [00:28<09:04, 28.66s/it]"
     ]
    },
    {
     "name": "stdout",
     "output_type": "stream",
     "text": [
      "[LightGBM] [Warning] Auto-choosing row-wise multi-threading, the overhead of testing was 0.019633 seconds.\n",
      "You can set `force_row_wise=true` to remove the overhead.\n",
      "And if memory is not enough, you can set `force_col_wise=true`.\n",
      "[LightGBM] [Info] Total Bins 12819\n",
      "[LightGBM] [Info] Number of data points in the train set: 521580, number of used features: 21\n",
      "[LightGBM] [Info] Start training from score 7.219070\n",
      "Training until validation scores don't improve for 100 rounds\n",
      "[200]\tvalid_0's l1: 0.0767925\n",
      "[400]\tvalid_0's l1: 0.0754429\n",
      "[600]\tvalid_0's l1: 0.0750452\n",
      "[800]\tvalid_0's l1: 0.0748098\n",
      "[1000]\tvalid_0's l1: 0.0746778\n",
      "Did not meet early stopping. Best iteration is:\n",
      "[1000]\tvalid_0's l1: 0.0746778\n"
     ]
    },
    {
     "name": "stderr",
     "output_type": "stream",
     "text": [
      "num_leaves, val_score: 0.074381:  10%|#         | 2/20 [00:53<07:56, 26.48s/it]\u001b[32m[I 2021-06-12 11:13:19,997]\u001b[0m Trial 8 finished with value: 0.0746778350536823 and parameters: {'num_leaves': 48}. Best is trial 7 with value: 0.07438116659438751.\u001b[0m\n",
      "num_leaves, val_score: 0.074381:  10%|#         | 2/20 [00:53<07:56, 26.48s/it]"
     ]
    },
    {
     "name": "stdout",
     "output_type": "stream",
     "text": [
      "[LightGBM] [Warning] Auto-choosing row-wise multi-threading, the overhead of testing was 0.014545 seconds.\n",
      "You can set `force_row_wise=true` to remove the overhead.\n",
      "And if memory is not enough, you can set `force_col_wise=true`.\n",
      "[LightGBM] [Info] Total Bins 12819\n",
      "[LightGBM] [Info] Number of data points in the train set: 521580, number of used features: 21\n",
      "[LightGBM] [Info] Start training from score 7.219070\n",
      "Training until validation scores don't improve for 100 rounds\n",
      "[200]\tvalid_0's l1: 0.0763646\n",
      "[400]\tvalid_0's l1: 0.0751565\n",
      "[600]\tvalid_0's l1: 0.0748299\n",
      "[800]\tvalid_0's l1: 0.0746392\n",
      "[1000]\tvalid_0's l1: 0.0745298\n",
      "Did not meet early stopping. Best iteration is:\n",
      "[1000]\tvalid_0's l1: 0.0745298\n"
     ]
    },
    {
     "name": "stderr",
     "output_type": "stream",
     "text": [
      "num_leaves, val_score: 0.074381:  15%|#5        | 3/20 [01:19<07:24, 26.18s/it]\u001b[32m[I 2021-06-12 11:13:45,816]\u001b[0m Trial 9 finished with value: 0.07452980799156417 and parameters: {'num_leaves': 59}. Best is trial 7 with value: 0.07438116659438751.\u001b[0m\n",
      "num_leaves, val_score: 0.074381:  15%|#5        | 3/20 [01:19<07:24, 26.18s/it]"
     ]
    },
    {
     "name": "stdout",
     "output_type": "stream",
     "text": [
      "[LightGBM] [Warning] Auto-choosing row-wise multi-threading, the overhead of testing was 0.013127 seconds.\n",
      "You can set `force_row_wise=true` to remove the overhead.\n",
      "And if memory is not enough, you can set `force_col_wise=true`.\n",
      "[LightGBM] [Info] Total Bins 12819\n",
      "[LightGBM] [Info] Number of data points in the train set: 521580, number of used features: 21\n",
      "[LightGBM] [Info] Start training from score 7.219070\n",
      "Training until validation scores don't improve for 100 rounds\n",
      "[200]\tvalid_0's l1: 0.0751943\n",
      "[400]\tvalid_0's l1: 0.0746124\n",
      "[600]\tvalid_0's l1: 0.074426\n",
      "[800]\tvalid_0's l1: 0.0743635\n",
      "[1000]\tvalid_0's l1: 0.0743582\n",
      "Did not meet early stopping. Best iteration is:\n",
      "[906]\tvalid_0's l1: 0.0743405\n"
     ]
    },
    {
     "name": "stderr",
     "output_type": "stream",
     "text": [
      "num_leaves, val_score: 0.074341:  20%|##        | 4/20 [01:53<07:48, 29.29s/it]\u001b[32m[I 2021-06-12 11:14:19,889]\u001b[0m Trial 10 finished with value: 0.07434051872881618 and parameters: {'num_leaves': 126}. Best is trial 10 with value: 0.07434051872881618.\u001b[0m\n",
      "num_leaves, val_score: 0.074341:  20%|##        | 4/20 [01:53<07:48, 29.29s/it]"
     ]
    },
    {
     "name": "stdout",
     "output_type": "stream",
     "text": [
      "[LightGBM] [Warning] Auto-choosing row-wise multi-threading, the overhead of testing was 0.012799 seconds.\n",
      "You can set `force_row_wise=true` to remove the overhead.\n",
      "And if memory is not enough, you can set `force_col_wise=true`.\n",
      "[LightGBM] [Info] Total Bins 12819\n",
      "[LightGBM] [Info] Number of data points in the train set: 521580, number of used features: 21\n",
      "[LightGBM] [Info] Start training from score 7.219070\n",
      "Training until validation scores don't improve for 100 rounds\n",
      "[200]\tvalid_0's l1: 0.0749607\n",
      "[400]\tvalid_0's l1: 0.07465\n",
      "Early stopping, best iteration is:\n",
      "[469]\tvalid_0's l1: 0.0746046\n"
     ]
    },
    {
     "name": "stderr",
     "output_type": "stream",
     "text": [
      "num_leaves, val_score: 0.074341:  25%|##5       | 5/20 [02:21<07:13, 28.88s/it]\u001b[32m[I 2021-06-12 11:14:48,030]\u001b[0m Trial 11 finished with value: 0.07460464472823392 and parameters: {'num_leaves': 183}. Best is trial 10 with value: 0.07434051872881618.\u001b[0m\n",
      "num_leaves, val_score: 0.074341:  25%|##5       | 5/20 [02:21<07:13, 28.88s/it]"
     ]
    },
    {
     "name": "stdout",
     "output_type": "stream",
     "text": [
      "[LightGBM] [Warning] Auto-choosing row-wise multi-threading, the overhead of testing was 0.013971 seconds.\n",
      "You can set `force_row_wise=true` to remove the overhead.\n",
      "And if memory is not enough, you can set `force_col_wise=true`.\n",
      "[LightGBM] [Info] Total Bins 12819\n",
      "[LightGBM] [Info] Number of data points in the train set: 521580, number of used features: 21\n",
      "[LightGBM] [Info] Start training from score 7.219070\n",
      "Training until validation scores don't improve for 100 rounds\n",
      "[200]\tvalid_0's l1: 0.0770377\n",
      "[400]\tvalid_0's l1: 0.0755282\n",
      "[600]\tvalid_0's l1: 0.0751384\n",
      "[800]\tvalid_0's l1: 0.0749116\n",
      "[1000]\tvalid_0's l1: 0.0747883\n",
      "Did not meet early stopping. Best iteration is:\n",
      "[1000]\tvalid_0's l1: 0.0747883\n"
     ]
    },
    {
     "name": "stderr",
     "output_type": "stream",
     "text": [
      "num_leaves, val_score: 0.074341:  30%|###       | 6/20 [02:45<06:20, 27.14s/it]\u001b[32m[I 2021-06-12 11:15:11,805]\u001b[0m Trial 12 finished with value: 0.07478834089610532 and parameters: {'num_leaves': 46}. Best is trial 10 with value: 0.07434051872881618.\u001b[0m\n",
      "num_leaves, val_score: 0.074341:  30%|###       | 6/20 [02:45<06:20, 27.14s/it]"
     ]
    },
    {
     "name": "stdout",
     "output_type": "stream",
     "text": [
      "[LightGBM] [Warning] Auto-choosing row-wise multi-threading, the overhead of testing was 0.013315 seconds.\n",
      "You can set `force_row_wise=true` to remove the overhead.\n",
      "And if memory is not enough, you can set `force_col_wise=true`.\n",
      "[LightGBM] [Info] Total Bins 12819\n",
      "[LightGBM] [Info] Number of data points in the train set: 521580, number of used features: 21\n",
      "[LightGBM] [Info] Start training from score 7.219070\n",
      "Training until validation scores don't improve for 100 rounds\n",
      "[200]\tvalid_0's l1: 0.0756299\n",
      "[400]\tvalid_0's l1: 0.0748102\n",
      "[600]\tvalid_0's l1: 0.0745908\n",
      "[800]\tvalid_0's l1: 0.0744817\n",
      "[1000]\tvalid_0's l1: 0.0744411\n",
      "Did not meet early stopping. Best iteration is:\n",
      "[998]\tvalid_0's l1: 0.0744404\n"
     ]
    },
    {
     "name": "stderr",
     "output_type": "stream",
     "text": [
      "num_leaves, val_score: 0.074341:  35%|###5      | 7/20 [03:15<06:03, 27.96s/it]\u001b[32m[I 2021-06-12 11:15:41,458]\u001b[0m Trial 13 finished with value: 0.07444042805658867 and parameters: {'num_leaves': 87}. Best is trial 10 with value: 0.07434051872881618.\u001b[0m\n",
      "num_leaves, val_score: 0.074341:  35%|###5      | 7/20 [03:15<06:03, 27.96s/it]"
     ]
    },
    {
     "name": "stdout",
     "output_type": "stream",
     "text": [
      "[LightGBM] [Warning] Auto-choosing row-wise multi-threading, the overhead of testing was 0.012909 seconds.\n",
      "You can set `force_row_wise=true` to remove the overhead.\n",
      "And if memory is not enough, you can set `force_col_wise=true`.\n",
      "[LightGBM] [Info] Total Bins 12819\n",
      "[LightGBM] [Info] Number of data points in the train set: 521580, number of used features: 21\n",
      "[LightGBM] [Info] Start training from score 7.219070\n",
      "Training until validation scores don't improve for 100 rounds\n",
      "[200]\tvalid_0's l1: 0.0748657\n",
      "[400]\tvalid_0's l1: 0.0745874\n",
      "Early stopping, best iteration is:\n",
      "[472]\tvalid_0's l1: 0.0745491\n"
     ]
    },
    {
     "name": "stderr",
     "output_type": "stream",
     "text": [
      "num_leaves, val_score: 0.074341:  40%|####      | 8/20 [03:47<05:54, 29.53s/it]\u001b[32m[I 2021-06-12 11:16:14,330]\u001b[0m Trial 14 finished with value: 0.07454914035422262 and parameters: {'num_leaves': 250}. Best is trial 10 with value: 0.07434051872881618.\u001b[0m\n",
      "num_leaves, val_score: 0.074341:  40%|####      | 8/20 [03:47<05:54, 29.53s/it]"
     ]
    },
    {
     "name": "stdout",
     "output_type": "stream",
     "text": [
      "[LightGBM] [Warning] Auto-choosing row-wise multi-threading, the overhead of testing was 0.013089 seconds.\n",
      "You can set `force_row_wise=true` to remove the overhead.\n",
      "And if memory is not enough, you can set `force_col_wise=true`.\n",
      "[LightGBM] [Info] Total Bins 12819\n",
      "[LightGBM] [Info] Number of data points in the train set: 521580, number of used features: 21\n",
      "[LightGBM] [Info] Start training from score 7.219070\n",
      "Training until validation scores don't improve for 100 rounds\n",
      "[200]\tvalid_0's l1: 0.0749781\n",
      "[400]\tvalid_0's l1: 0.0746368\n",
      "[600]\tvalid_0's l1: 0.0746076\n",
      "Early stopping, best iteration is:\n",
      "[659]\tvalid_0's l1: 0.0745873\n"
     ]
    },
    {
     "name": "stderr",
     "output_type": "stream",
     "text": [
      "num_leaves, val_score: 0.074341:  45%|####5     | 9/20 [04:22<05:42, 31.12s/it]\u001b[32m[I 2021-06-12 11:16:48,955]\u001b[0m Trial 15 finished with value: 0.07458730778022053 and parameters: {'num_leaves': 188}. Best is trial 10 with value: 0.07434051872881618.\u001b[0m\n",
      "num_leaves, val_score: 0.074341:  45%|####5     | 9/20 [04:22<05:42, 31.12s/it]"
     ]
    },
    {
     "name": "stdout",
     "output_type": "stream",
     "text": [
      "[LightGBM] [Warning] Auto-choosing row-wise multi-threading, the overhead of testing was 0.012872 seconds.\n",
      "You can set `force_row_wise=true` to remove the overhead.\n",
      "And if memory is not enough, you can set `force_col_wise=true`.\n",
      "[LightGBM] [Info] Total Bins 12819\n",
      "[LightGBM] [Info] Number of data points in the train set: 521580, number of used features: 21\n",
      "[LightGBM] [Info] Start training from score 7.219070\n",
      "Training until validation scores don't improve for 100 rounds\n",
      "[200]\tvalid_0's l1: 0.0748854\n",
      "[400]\tvalid_0's l1: 0.074633\n",
      "[600]\tvalid_0's l1: 0.0745518\n",
      "Early stopping, best iteration is:\n",
      "[559]\tvalid_0's l1: 0.0745365\n"
     ]
    },
    {
     "name": "stderr",
     "output_type": "stream",
     "text": [
      "num_leaves, val_score: 0.074341:  50%|#####     | 10/20 [04:56<05:21, 32.14s/it]\u001b[32m[I 2021-06-12 11:17:23,370]\u001b[0m Trial 16 finished with value: 0.07453648240732376 and parameters: {'num_leaves': 226}. Best is trial 10 with value: 0.07434051872881618.\u001b[0m\n",
      "num_leaves, val_score: 0.074341:  50%|#####     | 10/20 [04:56<05:21, 32.14s/it]"
     ]
    },
    {
     "name": "stdout",
     "output_type": "stream",
     "text": [
      "[LightGBM] [Warning] Auto-choosing row-wise multi-threading, the overhead of testing was 0.013291 seconds.\n",
      "You can set `force_row_wise=true` to remove the overhead.\n",
      "And if memory is not enough, you can set `force_col_wise=true`.\n",
      "[LightGBM] [Info] Total Bins 12819\n",
      "[LightGBM] [Info] Number of data points in the train set: 521580, number of used features: 21\n",
      "[LightGBM] [Info] Start training from score 7.219070\n",
      "Training until validation scores don't improve for 100 rounds\n",
      "[200]\tvalid_0's l1: 0.0749847\n",
      "[400]\tvalid_0's l1: 0.0744994\n",
      "[600]\tvalid_0's l1: 0.0743972\n",
      "Early stopping, best iteration is:\n",
      "[553]\tvalid_0's l1: 0.0743815\n"
     ]
    },
    {
     "name": "stderr",
     "output_type": "stream",
     "text": [
      "num_leaves, val_score: 0.074341:  55%|#####5    | 11/20 [05:27<04:43, 31.50s/it]\u001b[32m[I 2021-06-12 11:17:53,424]\u001b[0m Trial 17 finished with value: 0.07438152449017645 and parameters: {'num_leaves': 150}. Best is trial 10 with value: 0.07434051872881618.\u001b[0m\n",
      "num_leaves, val_score: 0.074341:  55%|#####5    | 11/20 [05:27<04:43, 31.50s/it]"
     ]
    },
    {
     "name": "stdout",
     "output_type": "stream",
     "text": [
      "[LightGBM] [Warning] Auto-choosing row-wise multi-threading, the overhead of testing was 0.012611 seconds.\n",
      "You can set `force_row_wise=true` to remove the overhead.\n",
      "And if memory is not enough, you can set `force_col_wise=true`.\n",
      "[LightGBM] [Info] Total Bins 12819\n",
      "[LightGBM] [Info] Number of data points in the train set: 521580, number of used features: 21\n",
      "[LightGBM] [Info] Start training from score 7.219070\n",
      "Training until validation scores don't improve for 100 rounds\n",
      "[200]\tvalid_0's l1: 0.0753205\n",
      "[400]\tvalid_0's l1: 0.0746466\n",
      "[600]\tvalid_0's l1: 0.0744674\n",
      "[800]\tvalid_0's l1: 0.0743904\n",
      "[1000]\tvalid_0's l1: 0.0743452\n",
      "Did not meet early stopping. Best iteration is:\n",
      "[970]\tvalid_0's l1: 0.0743413\n"
     ]
    },
    {
     "name": "stderr",
     "output_type": "stream",
     "text": [
      "num_leaves, val_score: 0.074341:  60%|######    | 12/20 [05:59<04:13, 31.69s/it]\u001b[32m[I 2021-06-12 11:18:25,556]\u001b[0m Trial 18 finished with value: 0.07434128017371881 and parameters: {'num_leaves': 115}. Best is trial 10 with value: 0.07434051872881618.\u001b[0m\n",
      "num_leaves, val_score: 0.074341:  60%|######    | 12/20 [05:59<04:13, 31.69s/it]"
     ]
    },
    {
     "name": "stdout",
     "output_type": "stream",
     "text": [
      "[LightGBM] [Warning] Auto-choosing row-wise multi-threading, the overhead of testing was 0.012923 seconds.\n",
      "You can set `force_row_wise=true` to remove the overhead.\n",
      "And if memory is not enough, you can set `force_col_wise=true`.\n",
      "[LightGBM] [Info] Total Bins 12819\n",
      "[LightGBM] [Info] Number of data points in the train set: 521580, number of used features: 21\n",
      "[LightGBM] [Info] Start training from score 7.219070\n",
      "Training until validation scores don't improve for 100 rounds\n",
      "[200]\tvalid_0's l1: 0.0752088\n",
      "[400]\tvalid_0's l1: 0.0746414\n",
      "[600]\tvalid_0's l1: 0.074491\n",
      "[800]\tvalid_0's l1: 0.0744386\n",
      "[1000]\tvalid_0's l1: 0.0744089\n",
      "Did not meet early stopping. Best iteration is:\n",
      "[993]\tvalid_0's l1: 0.074406\n"
     ]
    },
    {
     "name": "stderr",
     "output_type": "stream",
     "text": [
      "num_leaves, val_score: 0.074341:  65%|######5   | 13/20 [06:32<03:45, 32.19s/it]\u001b[32m[I 2021-06-12 11:18:58,902]\u001b[0m Trial 19 finished with value: 0.07440604570220997 and parameters: {'num_leaves': 125}. Best is trial 10 with value: 0.07434051872881618.\u001b[0m\n",
      "num_leaves, val_score: 0.074341:  65%|######5   | 13/20 [06:32<03:45, 32.19s/it]"
     ]
    },
    {
     "name": "stdout",
     "output_type": "stream",
     "text": [
      "[LightGBM] [Warning] Auto-choosing row-wise multi-threading, the overhead of testing was 0.012517 seconds.\n",
      "You can set `force_row_wise=true` to remove the overhead.\n",
      "And if memory is not enough, you can set `force_col_wise=true`.\n",
      "[LightGBM] [Info] Total Bins 12819\n",
      "[LightGBM] [Info] Number of data points in the train set: 521580, number of used features: 21\n",
      "[LightGBM] [Info] Start training from score 7.219070\n",
      "Training until validation scores don't improve for 100 rounds\n",
      "[200]\tvalid_0's l1: 0.0751967\n",
      "[400]\tvalid_0's l1: 0.074611\n",
      "[600]\tvalid_0's l1: 0.0744724\n",
      "[800]\tvalid_0's l1: 0.0744023\n",
      "[1000]\tvalid_0's l1: 0.0743504\n",
      "Did not meet early stopping. Best iteration is:\n",
      "[996]\tvalid_0's l1: 0.0743488\n"
     ]
    },
    {
     "name": "stderr",
     "output_type": "stream",
     "text": [
      "num_leaves, val_score: 0.074341:  70%|#######   | 14/20 [07:07<03:17, 32.99s/it]\u001b[32m[I 2021-06-12 11:19:33,744]\u001b[0m Trial 20 finished with value: 0.0743488162357077 and parameters: {'num_leaves': 124}. Best is trial 10 with value: 0.07434051872881618.\u001b[0m\n",
      "num_leaves, val_score: 0.074341:  70%|#######   | 14/20 [07:07<03:17, 32.99s/it]"
     ]
    },
    {
     "name": "stdout",
     "output_type": "stream",
     "text": [
      "[LightGBM] [Warning] Auto-choosing row-wise multi-threading, the overhead of testing was 0.013111 seconds.\n",
      "You can set `force_row_wise=true` to remove the overhead.\n",
      "And if memory is not enough, you can set `force_col_wise=true`.\n",
      "[LightGBM] [Info] Total Bins 12819\n",
      "[LightGBM] [Info] Number of data points in the train set: 521580, number of used features: 21\n",
      "[LightGBM] [Info] Start training from score 7.219070\n",
      "Training until validation scores don't improve for 100 rounds\n",
      "[200]\tvalid_0's l1: 0.08909\n",
      "[400]\tvalid_0's l1: 0.0838196\n",
      "[600]\tvalid_0's l1: 0.0817648\n",
      "[800]\tvalid_0's l1: 0.0805291\n"
     ]
    },
    {
     "name": "stderr",
     "output_type": "stream",
     "text": [
      "num_leaves, val_score: 0.074341:  75%|#######5  | 15/20 [07:22<02:17, 27.58s/it]\u001b[32m[I 2021-06-12 11:19:48,762]\u001b[0m Trial 21 finished with value: 0.0797774771815323 and parameters: {'num_leaves': 7}. Best is trial 10 with value: 0.07434051872881618.\u001b[0m\n",
      "num_leaves, val_score: 0.074341:  75%|#######5  | 15/20 [07:22<02:17, 27.58s/it]"
     ]
    },
    {
     "name": "stdout",
     "output_type": "stream",
     "text": [
      "[1000]\tvalid_0's l1: 0.0797775\n",
      "Did not meet early stopping. Best iteration is:\n",
      "[1000]\tvalid_0's l1: 0.0797775\n",
      "[LightGBM] [Warning] Auto-choosing row-wise multi-threading, the overhead of testing was 0.012623 seconds.\n",
      "You can set `force_row_wise=true` to remove the overhead.\n",
      "And if memory is not enough, you can set `force_col_wise=true`.\n",
      "[LightGBM] [Info] Total Bins 12819\n",
      "[LightGBM] [Info] Number of data points in the train set: 521580, number of used features: 21\n",
      "[LightGBM] [Info] Start training from score 7.219070\n",
      "Training until validation scores don't improve for 100 rounds\n",
      "[200]\tvalid_0's l1: 0.0750508\n",
      "[400]\tvalid_0's l1: 0.0746236\n",
      "[600]\tvalid_0's l1: 0.0744582\n",
      "Early stopping, best iteration is:\n",
      "[676]\tvalid_0's l1: 0.0744298\n"
     ]
    },
    {
     "name": "stderr",
     "output_type": "stream",
     "text": [
      "num_leaves, val_score: 0.074341:  80%|########  | 16/20 [07:54<01:55, 28.93s/it]\u001b[32m[I 2021-06-12 11:20:20,834]\u001b[0m Trial 22 finished with value: 0.07442984629757952 and parameters: {'num_leaves': 154}. Best is trial 10 with value: 0.07434051872881618.\u001b[0m\n",
      "num_leaves, val_score: 0.074341:  80%|########  | 16/20 [07:54<01:55, 28.93s/it]"
     ]
    },
    {
     "name": "stdout",
     "output_type": "stream",
     "text": [
      "[LightGBM] [Warning] Auto-choosing row-wise multi-threading, the overhead of testing was 0.014183 seconds.\n",
      "You can set `force_row_wise=true` to remove the overhead.\n",
      "And if memory is not enough, you can set `force_col_wise=true`.\n",
      "[LightGBM] [Info] Total Bins 12819\n",
      "[LightGBM] [Info] Number of data points in the train set: 521580, number of used features: 21\n",
      "[LightGBM] [Info] Start training from score 7.219070\n",
      "Training until validation scores don't improve for 100 rounds\n",
      "[200]\tvalid_0's l1: 0.075577\n",
      "[400]\tvalid_0's l1: 0.0748012\n",
      "[600]\tvalid_0's l1: 0.0745444\n",
      "[800]\tvalid_0's l1: 0.0744924\n",
      "[1000]\tvalid_0's l1: 0.0744439\n",
      "Did not meet early stopping. Best iteration is:\n",
      "[1000]\tvalid_0's l1: 0.0744439\n"
     ]
    },
    {
     "name": "stderr",
     "output_type": "stream",
     "text": [
      "num_leaves, val_score: 0.074341:  85%|########5 | 17/20 [08:24<01:28, 29.39s/it]\u001b[32m[I 2021-06-12 11:20:51,305]\u001b[0m Trial 23 finished with value: 0.07444389927534134 and parameters: {'num_leaves': 92}. Best is trial 10 with value: 0.07434051872881618.\u001b[0m\n",
      "num_leaves, val_score: 0.074341:  85%|########5 | 17/20 [08:24<01:28, 29.39s/it]"
     ]
    },
    {
     "name": "stdout",
     "output_type": "stream",
     "text": [
      "[LightGBM] [Warning] Auto-choosing row-wise multi-threading, the overhead of testing was 0.013019 seconds.\n",
      "You can set `force_row_wise=true` to remove the overhead.\n",
      "And if memory is not enough, you can set `force_col_wise=true`.\n",
      "[LightGBM] [Info] Total Bins 12819\n",
      "[LightGBM] [Info] Number of data points in the train set: 521580, number of used features: 21\n",
      "[LightGBM] [Info] Start training from score 7.219070\n",
      "Training until validation scores don't improve for 100 rounds\n",
      "[200]\tvalid_0's l1: 0.0749194\n",
      "[400]\tvalid_0's l1: 0.0745279\n",
      "[600]\tvalid_0's l1: 0.0744732\n",
      "Early stopping, best iteration is:\n",
      "[656]\tvalid_0's l1: 0.0744636\n"
     ]
    },
    {
     "name": "stderr",
     "output_type": "stream",
     "text": [
      "num_leaves, val_score: 0.074341:  90%|######### | 18/20 [08:57<01:00, 30.28s/it]\u001b[32m[I 2021-06-12 11:21:23,642]\u001b[0m Trial 24 finished with value: 0.07446358469820505 and parameters: {'num_leaves': 179}. Best is trial 10 with value: 0.07434051872881618.\u001b[0m\n",
      "num_leaves, val_score: 0.074341:  90%|######### | 18/20 [08:57<01:00, 30.28s/it]"
     ]
    },
    {
     "name": "stdout",
     "output_type": "stream",
     "text": [
      "[LightGBM] [Warning] Auto-choosing row-wise multi-threading, the overhead of testing was 0.013807 seconds.\n",
      "You can set `force_row_wise=true` to remove the overhead.\n",
      "And if memory is not enough, you can set `force_col_wise=true`.\n",
      "[LightGBM] [Info] Total Bins 12819\n",
      "[LightGBM] [Info] Number of data points in the train set: 521580, number of used features: 21\n",
      "[LightGBM] [Info] Start training from score 7.219070\n",
      "Training until validation scores don't improve for 100 rounds\n",
      "[200]\tvalid_0's l1: 0.0752582\n",
      "[400]\tvalid_0's l1: 0.074611\n",
      "[600]\tvalid_0's l1: 0.0744471\n",
      "[800]\tvalid_0's l1: 0.0743548\n",
      "[1000]\tvalid_0's l1: 0.0743014\n",
      "Did not meet early stopping. Best iteration is:\n",
      "[958]\tvalid_0's l1: 0.074301\n"
     ]
    },
    {
     "name": "stderr",
     "output_type": "stream",
     "text": [
      "num_leaves, val_score: 0.074301:  95%|#########5| 19/20 [09:27<00:30, 30.31s/it]\u001b[32m[I 2021-06-12 11:21:54,031]\u001b[0m Trial 25 finished with value: 0.07430099121775145 and parameters: {'num_leaves': 110}. Best is trial 25 with value: 0.07430099121775145.\u001b[0m\n",
      "num_leaves, val_score: 0.074301:  95%|#########5| 19/20 [09:27<00:30, 30.31s/it]"
     ]
    },
    {
     "name": "stdout",
     "output_type": "stream",
     "text": [
      "[LightGBM] [Warning] Auto-choosing row-wise multi-threading, the overhead of testing was 0.015275 seconds.\n",
      "You can set `force_row_wise=true` to remove the overhead.\n",
      "And if memory is not enough, you can set `force_col_wise=true`.\n",
      "[LightGBM] [Info] Total Bins 12819\n",
      "[LightGBM] [Info] Number of data points in the train set: 521580, number of used features: 21\n",
      "[LightGBM] [Info] Start training from score 7.219070\n",
      "Training until validation scores don't improve for 100 rounds\n",
      "[200]\tvalid_0's l1: 0.0832502\n",
      "[400]\tvalid_0's l1: 0.0796107\n",
      "[600]\tvalid_0's l1: 0.0782526\n",
      "[800]\tvalid_0's l1: 0.0775808\n",
      "[1000]\tvalid_0's l1: 0.0771425\n",
      "Did not meet early stopping. Best iteration is:\n",
      "[1000]\tvalid_0's l1: 0.0771425\n"
     ]
    },
    {
     "name": "stderr",
     "output_type": "stream",
     "text": [
      "num_leaves, val_score: 0.074301: 100%|##########| 20/20 [09:44<00:00, 26.21s/it]\u001b[32m[I 2021-06-12 11:22:10,680]\u001b[0m Trial 26 finished with value: 0.07714254043980066 and parameters: {'num_leaves': 13}. Best is trial 25 with value: 0.07430099121775145.\u001b[0m\n",
      "num_leaves, val_score: 0.074301: 100%|##########| 20/20 [09:44<00:00, 29.21s/it]\n",
      "bagging, val_score: 0.074301:   0%|          | 0/10 [00:00<?, ?it/s]"
     ]
    },
    {
     "name": "stdout",
     "output_type": "stream",
     "text": [
      "[LightGBM] [Warning] Auto-choosing row-wise multi-threading, the overhead of testing was 0.013154 seconds.\n",
      "You can set `force_row_wise=true` to remove the overhead.\n",
      "And if memory is not enough, you can set `force_col_wise=true`.\n",
      "[LightGBM] [Info] Total Bins 12819\n",
      "[LightGBM] [Info] Number of data points in the train set: 521580, number of used features: 21\n",
      "[LightGBM] [Info] Start training from score 7.219070\n",
      "Training until validation scores don't improve for 100 rounds\n",
      "[200]\tvalid_0's l1: 0.0753583\n",
      "[400]\tvalid_0's l1: 0.0747229\n",
      "[600]\tvalid_0's l1: 0.0745137\n",
      "[800]\tvalid_0's l1: 0.0744042\n",
      "[1000]\tvalid_0's l1: 0.0743562\n",
      "Did not meet early stopping. Best iteration is:\n",
      "[953]\tvalid_0's l1: 0.0743512\n"
     ]
    },
    {
     "name": "stderr",
     "output_type": "stream",
     "text": [
      "bagging, val_score: 0.074301:  10%|#         | 1/10 [00:36<05:24, 36.06s/it]\u001b[32m[I 2021-06-12 11:22:46,755]\u001b[0m Trial 27 finished with value: 0.07435117383672066 and parameters: {'bagging_fraction': 0.9916702937583075, 'bagging_freq': 1}. Best is trial 27 with value: 0.07435117383672066.\u001b[0m\n",
      "bagging, val_score: 0.074301:  10%|#         | 1/10 [00:36<05:24, 36.06s/it]"
     ]
    },
    {
     "name": "stdout",
     "output_type": "stream",
     "text": [
      "[LightGBM] [Warning] Auto-choosing row-wise multi-threading, the overhead of testing was 0.015266 seconds.\n",
      "You can set `force_row_wise=true` to remove the overhead.\n",
      "And if memory is not enough, you can set `force_col_wise=true`.\n",
      "[LightGBM] [Info] Total Bins 12819\n",
      "[LightGBM] [Info] Number of data points in the train set: 521580, number of used features: 21\n",
      "[LightGBM] [Info] Start training from score 7.219070\n",
      "Training until validation scores don't improve for 100 rounds\n",
      "[200]\tvalid_0's l1: 0.0766891\n",
      "[400]\tvalid_0's l1: 0.075997\n",
      "[600]\tvalid_0's l1: 0.0757604\n",
      "[800]\tvalid_0's l1: 0.0756996\n",
      "Early stopping, best iteration is:\n",
      "[821]\tvalid_0's l1: 0.0756842\n"
     ]
    },
    {
     "name": "stderr",
     "output_type": "stream",
     "text": [
      "bagging, val_score: 0.074301:  20%|##        | 2/10 [02:11<09:27, 70.88s/it]\u001b[32m[I 2021-06-12 11:24:22,011]\u001b[0m Trial 28 finished with value: 0.07568416614611097 and parameters: {'bagging_fraction': 0.5480674299931196, 'bagging_freq': 7}. Best is trial 27 with value: 0.07435117383672066.\u001b[0m\n",
      "bagging, val_score: 0.074301:  20%|##        | 2/10 [02:11<09:27, 70.88s/it]"
     ]
    },
    {
     "name": "stdout",
     "output_type": "stream",
     "text": [
      "[LightGBM] [Warning] Auto-choosing row-wise multi-threading, the overhead of testing was 0.014287 seconds.\n",
      "You can set `force_row_wise=true` to remove the overhead.\n",
      "And if memory is not enough, you can set `force_col_wise=true`.\n",
      "[LightGBM] [Info] Total Bins 12819\n",
      "[LightGBM] [Info] Number of data points in the train set: 521580, number of used features: 21\n",
      "[LightGBM] [Info] Start training from score 7.219070\n",
      "Training until validation scores don't improve for 100 rounds\n",
      "[200]\tvalid_0's l1: 0.0756221\n",
      "[400]\tvalid_0's l1: 0.0749427\n",
      "[600]\tvalid_0's l1: 0.0747075\n",
      "[800]\tvalid_0's l1: 0.0746221\n",
      "Early stopping, best iteration is:\n",
      "[857]\tvalid_0's l1: 0.0746023\n"
     ]
    },
    {
     "name": "stderr",
     "output_type": "stream",
     "text": [
      "bagging, val_score: 0.074301:  30%|###       | 3/10 [03:44<09:27, 81.09s/it]\u001b[32m[I 2021-06-12 11:25:55,252]\u001b[0m Trial 29 finished with value: 0.0746023255466622 and parameters: {'bagging_fraction': 0.8392910675723844, 'bagging_freq': 3}. Best is trial 27 with value: 0.07435117383672066.\u001b[0m\n",
      "bagging, val_score: 0.074301:  30%|###       | 3/10 [03:44<09:27, 81.09s/it]"
     ]
    },
    {
     "name": "stdout",
     "output_type": "stream",
     "text": [
      "[LightGBM] [Warning] Auto-choosing row-wise multi-threading, the overhead of testing was 0.017099 seconds.\n",
      "You can set `force_row_wise=true` to remove the overhead.\n",
      "And if memory is not enough, you can set `force_col_wise=true`.\n",
      "[LightGBM] [Info] Total Bins 12819\n",
      "[LightGBM] [Info] Number of data points in the train set: 521580, number of used features: 21\n",
      "[LightGBM] [Info] Start training from score 7.219070\n",
      "Training until validation scores don't improve for 100 rounds\n",
      "[200]\tvalid_0's l1: 0.0754362\n",
      "[400]\tvalid_0's l1: 0.0748\n",
      "[600]\tvalid_0's l1: 0.0745983\n",
      "[800]\tvalid_0's l1: 0.0745389\n",
      "Early stopping, best iteration is:\n",
      "[741]\tvalid_0's l1: 0.0745356\n"
     ]
    },
    {
     "name": "stderr",
     "output_type": "stream",
     "text": [
      "bagging, val_score: 0.074301:  40%|####      | 4/10 [04:51<07:33, 75.51s/it]\u001b[32m[I 2021-06-12 11:27:02,201]\u001b[0m Trial 30 finished with value: 0.07453560427709277 and parameters: {'bagging_fraction': 0.9285014004770495, 'bagging_freq': 7}. Best is trial 27 with value: 0.07435117383672066.\u001b[0m\n",
      "bagging, val_score: 0.074301:  40%|####      | 4/10 [04:51<07:33, 75.51s/it]"
     ]
    },
    {
     "name": "stdout",
     "output_type": "stream",
     "text": [
      "[LightGBM] [Warning] Auto-choosing row-wise multi-threading, the overhead of testing was 0.013924 seconds.\n",
      "You can set `force_row_wise=true` to remove the overhead.\n",
      "And if memory is not enough, you can set `force_col_wise=true`.\n",
      "[LightGBM] [Info] Total Bins 12819\n",
      "[LightGBM] [Info] Number of data points in the train set: 521580, number of used features: 21\n",
      "[LightGBM] [Info] Start training from score 7.219070\n",
      "Training until validation scores don't improve for 100 rounds\n",
      "[200]\tvalid_0's l1: 0.0754413\n",
      "[400]\tvalid_0's l1: 0.0747742\n",
      "[600]\tvalid_0's l1: 0.0746004\n",
      "[800]\tvalid_0's l1: 0.0745193\n",
      "[1000]\tvalid_0's l1: 0.0744733\n",
      "Did not meet early stopping. Best iteration is:\n",
      "[962]\tvalid_0's l1: 0.0744532\n"
     ]
    },
    {
     "name": "stderr",
     "output_type": "stream",
     "text": [
      "bagging, val_score: 0.074301:  50%|#####     | 5/10 [06:22<06:44, 80.94s/it]\u001b[32m[I 2021-06-12 11:28:32,761]\u001b[0m Trial 31 finished with value: 0.07445317403824213 and parameters: {'bagging_fraction': 0.8808588739352581, 'bagging_freq': 2}. Best is trial 27 with value: 0.07435117383672066.\u001b[0m\n",
      "bagging, val_score: 0.074301:  50%|#####     | 5/10 [06:22<06:44, 80.94s/it]"
     ]
    },
    {
     "name": "stdout",
     "output_type": "stream",
     "text": [
      "[LightGBM] [Warning] Auto-choosing row-wise multi-threading, the overhead of testing was 0.014401 seconds.\n",
      "You can set `force_row_wise=true` to remove the overhead.\n",
      "And if memory is not enough, you can set `force_col_wise=true`.\n",
      "[LightGBM] [Info] Total Bins 12819\n",
      "[LightGBM] [Info] Number of data points in the train set: 521580, number of used features: 21\n",
      "[LightGBM] [Info] Start training from score 7.219070\n",
      "Training until validation scores don't improve for 100 rounds\n",
      "[200]\tvalid_0's l1: 0.0752821\n",
      "[400]\tvalid_0's l1: 0.0746991\n",
      "[600]\tvalid_0's l1: 0.0745314\n",
      "[800]\tvalid_0's l1: 0.0744469\n",
      "[1000]\tvalid_0's l1: 0.0743939\n",
      "Did not meet early stopping. Best iteration is:\n",
      "[993]\tvalid_0's l1: 0.0743911\n"
     ]
    },
    {
     "name": "stderr",
     "output_type": "stream",
     "text": [
      "bagging, val_score: 0.074301:  60%|######    | 6/10 [07:10<04:39, 69.88s/it]\u001b[32m[I 2021-06-12 11:29:21,170]\u001b[0m Trial 32 finished with value: 0.07439105520866433 and parameters: {'bagging_fraction': 0.9935769270156285, 'bagging_freq': 6}. Best is trial 27 with value: 0.07435117383672066.\u001b[0m\n",
      "bagging, val_score: 0.074301:  60%|######    | 6/10 [07:10<04:39, 69.88s/it]"
     ]
    },
    {
     "name": "stdout",
     "output_type": "stream",
     "text": [
      "[LightGBM] [Warning] Auto-choosing row-wise multi-threading, the overhead of testing was 0.014438 seconds.\n",
      "You can set `force_row_wise=true` to remove the overhead.\n",
      "And if memory is not enough, you can set `force_col_wise=true`.\n",
      "[LightGBM] [Info] Total Bins 12819\n",
      "[LightGBM] [Info] Number of data points in the train set: 521580, number of used features: 21\n",
      "[LightGBM] [Info] Start training from score 7.219070\n",
      "Training until validation scores don't improve for 100 rounds\n",
      "[200]\tvalid_0's l1: 0.0759094\n",
      "[400]\tvalid_0's l1: 0.0752118\n",
      "[600]\tvalid_0's l1: 0.0749734\n",
      "[800]\tvalid_0's l1: 0.0749036\n",
      "[1000]\tvalid_0's l1: 0.0748896\n",
      "Did not meet early stopping. Best iteration is:\n",
      "[980]\tvalid_0's l1: 0.0748761\n"
     ]
    },
    {
     "name": "stderr",
     "output_type": "stream",
     "text": [
      "bagging, val_score: 0.074301:  70%|#######   | 7/10 [08:55<04:03, 81.24s/it]\u001b[32m[I 2021-06-12 11:31:05,798]\u001b[0m Trial 33 finished with value: 0.0748761207882439 and parameters: {'bagging_fraction': 0.7407821794009762, 'bagging_freq': 4}. Best is trial 27 with value: 0.07435117383672066.\u001b[0m\n",
      "bagging, val_score: 0.074301:  70%|#######   | 7/10 [08:55<04:03, 81.24s/it]"
     ]
    },
    {
     "name": "stdout",
     "output_type": "stream",
     "text": [
      "[LightGBM] [Warning] Auto-choosing row-wise multi-threading, the overhead of testing was 0.016286 seconds.\n",
      "You can set `force_row_wise=true` to remove the overhead.\n",
      "And if memory is not enough, you can set `force_col_wise=true`.\n",
      "[LightGBM] [Info] Total Bins 12819\n",
      "[LightGBM] [Info] Number of data points in the train set: 521580, number of used features: 21\n",
      "[LightGBM] [Info] Start training from score 7.219070\n",
      "Training until validation scores don't improve for 100 rounds\n",
      "[200]\tvalid_0's l1: 0.075454\n",
      "[400]\tvalid_0's l1: 0.0748099\n",
      "[600]\tvalid_0's l1: 0.0745992\n",
      "[800]\tvalid_0's l1: 0.074501\n",
      "[1000]\tvalid_0's l1: 0.0744647\n",
      "Did not meet early stopping. Best iteration is:\n",
      "[996]\tvalid_0's l1: 0.0744637\n"
     ]
    },
    {
     "name": "stderr",
     "output_type": "stream",
     "text": [
      "bagging, val_score: 0.074301:  80%|########  | 8/10 [10:10<02:38, 79.37s/it]\u001b[32m[I 2021-06-12 11:32:21,169]\u001b[0m Trial 34 finished with value: 0.07446369402682369 and parameters: {'bagging_fraction': 0.9410503546176581, 'bagging_freq': 3}. Best is trial 27 with value: 0.07435117383672066.\u001b[0m\n",
      "bagging, val_score: 0.074301:  80%|########  | 8/10 [10:10<02:38, 79.37s/it]"
     ]
    },
    {
     "name": "stdout",
     "output_type": "stream",
     "text": [
      "[LightGBM] [Warning] Auto-choosing row-wise multi-threading, the overhead of testing was 0.013721 seconds.\n",
      "You can set `force_row_wise=true` to remove the overhead.\n",
      "And if memory is not enough, you can set `force_col_wise=true`.\n",
      "[LightGBM] [Info] Total Bins 12819\n",
      "[LightGBM] [Info] Number of data points in the train set: 521580, number of used features: 21\n",
      "[LightGBM] [Info] Start training from score 7.219070\n",
      "Training until validation scores don't improve for 100 rounds\n",
      "[200]\tvalid_0's l1: 0.0768055\n",
      "[400]\tvalid_0's l1: 0.0762129\n",
      "[600]\tvalid_0's l1: 0.0760166\n",
      "[800]\tvalid_0's l1: 0.0759623\n",
      "Early stopping, best iteration is:\n",
      "[802]\tvalid_0's l1: 0.0759572\n"
     ]
    },
    {
     "name": "stderr",
     "output_type": "stream",
     "text": [
      "bagging, val_score: 0.074301:  90%|######### | 9/10 [11:48<01:25, 85.29s/it]\u001b[32m[I 2021-06-12 11:33:59,475]\u001b[0m Trial 35 finished with value: 0.07595716542763438 and parameters: {'bagging_fraction': 0.4874488857327873, 'bagging_freq': 1}. Best is trial 27 with value: 0.07435117383672066.\u001b[0m\n",
      "bagging, val_score: 0.074301:  90%|######### | 9/10 [11:48<01:25, 85.29s/it]"
     ]
    },
    {
     "name": "stdout",
     "output_type": "stream",
     "text": [
      "[LightGBM] [Warning] Auto-choosing row-wise multi-threading, the overhead of testing was 0.014878 seconds.\n",
      "You can set `force_row_wise=true` to remove the overhead.\n",
      "And if memory is not enough, you can set `force_col_wise=true`.\n",
      "[LightGBM] [Info] Total Bins 12819\n",
      "[LightGBM] [Info] Number of data points in the train set: 521580, number of used features: 21\n",
      "[LightGBM] [Info] Start training from score 7.219070\n",
      "Training until validation scores don't improve for 100 rounds\n",
      "[200]\tvalid_0's l1: 0.0755193\n",
      "[400]\tvalid_0's l1: 0.0748758\n",
      "[600]\tvalid_0's l1: 0.074696\n",
      "[800]\tvalid_0's l1: 0.074584\n",
      "[1000]\tvalid_0's l1: 0.0745488\n",
      "Did not meet early stopping. Best iteration is:\n",
      "[917]\tvalid_0's l1: 0.0745468\n"
     ]
    },
    {
     "name": "stderr",
     "output_type": "stream",
     "text": [
      "bagging, val_score: 0.074301: 100%|##########| 10/10 [13:06<00:00, 82.99s/it]\u001b[32m[I 2021-06-12 11:35:17,327]\u001b[0m Trial 36 finished with value: 0.07454675027667709 and parameters: {'bagging_fraction': 0.9265002109739066, 'bagging_freq': 5}. Best is trial 27 with value: 0.07435117383672066.\u001b[0m\n",
      "bagging, val_score: 0.074301: 100%|##########| 10/10 [13:06<00:00, 78.66s/it]\n",
      "feature_fraction_stage2, val_score: 0.074301:   0%|          | 0/3 [00:00<?, ?it/s]"
     ]
    },
    {
     "name": "stdout",
     "output_type": "stream",
     "text": [
      "[LightGBM] [Warning] Auto-choosing row-wise multi-threading, the overhead of testing was 0.016425 seconds.\n",
      "You can set `force_row_wise=true` to remove the overhead.\n",
      "And if memory is not enough, you can set `force_col_wise=true`.\n",
      "[LightGBM] [Info] Total Bins 12819\n",
      "[LightGBM] [Info] Number of data points in the train set: 521580, number of used features: 21\n",
      "[LightGBM] [Info] Start training from score 7.219070\n",
      "Training until validation scores don't improve for 100 rounds\n",
      "[200]\tvalid_0's l1: 0.0752898\n",
      "[400]\tvalid_0's l1: 0.0746752\n",
      "[600]\tvalid_0's l1: 0.0745588\n",
      "[800]\tvalid_0's l1: 0.0744811\n",
      "[1000]\tvalid_0's l1: 0.0744448\n",
      "Did not meet early stopping. Best iteration is:\n",
      "[972]\tvalid_0's l1: 0.0744373\n"
     ]
    },
    {
     "name": "stderr",
     "output_type": "stream",
     "text": [
      "feature_fraction_stage2, val_score: 0.074301:  33%|###3      | 1/3 [00:32<01:05, 32.72s/it]\u001b[32m[I 2021-06-12 11:35:50,057]\u001b[0m Trial 37 finished with value: 0.0744373409941292 and parameters: {'feature_fraction': 0.41600000000000004}. Best is trial 37 with value: 0.0744373409941292.\u001b[0m\n",
      "feature_fraction_stage2, val_score: 0.074301:  33%|###3      | 1/3 [00:32<01:05, 32.72s/it]"
     ]
    },
    {
     "name": "stdout",
     "output_type": "stream",
     "text": [
      "[LightGBM] [Warning] Auto-choosing row-wise multi-threading, the overhead of testing was 0.016063 seconds.\n",
      "You can set `force_row_wise=true` to remove the overhead.\n",
      "And if memory is not enough, you can set `force_col_wise=true`.\n",
      "[LightGBM] [Info] Total Bins 12819\n",
      "[LightGBM] [Info] Number of data points in the train set: 521580, number of used features: 21\n",
      "[LightGBM] [Info] Start training from score 7.219070\n",
      "Training until validation scores don't improve for 100 rounds\n",
      "[200]\tvalid_0's l1: 0.0752898\n",
      "[400]\tvalid_0's l1: 0.0746752\n",
      "[600]\tvalid_0's l1: 0.0745588\n",
      "[800]\tvalid_0's l1: 0.0744811\n",
      "[1000]\tvalid_0's l1: 0.0744448\n",
      "Did not meet early stopping. Best iteration is:\n",
      "[972]\tvalid_0's l1: 0.0744373\n"
     ]
    },
    {
     "name": "stderr",
     "output_type": "stream",
     "text": [
      "feature_fraction_stage2, val_score: 0.074301:  67%|######6   | 2/3 [01:05<00:32, 32.93s/it]\u001b[32m[I 2021-06-12 11:36:23,141]\u001b[0m Trial 38 finished with value: 0.0744373409941292 and parameters: {'feature_fraction': 0.44800000000000006}. Best is trial 37 with value: 0.0744373409941292.\u001b[0m\n",
      "feature_fraction_stage2, val_score: 0.074301:  67%|######6   | 2/3 [01:05<00:32, 32.93s/it]"
     ]
    },
    {
     "name": "stdout",
     "output_type": "stream",
     "text": [
      "[LightGBM] [Warning] Auto-choosing row-wise multi-threading, the overhead of testing was 0.014235 seconds.\n",
      "You can set `force_row_wise=true` to remove the overhead.\n",
      "And if memory is not enough, you can set `force_col_wise=true`.\n",
      "[LightGBM] [Info] Total Bins 12819\n",
      "[LightGBM] [Info] Number of data points in the train set: 521580, number of used features: 21\n",
      "[LightGBM] [Info] Start training from score 7.219070\n",
      "Training until validation scores don't improve for 100 rounds\n",
      "[200]\tvalid_0's l1: 0.0751551\n",
      "[400]\tvalid_0's l1: 0.0746775\n",
      "[600]\tvalid_0's l1: 0.074538\n",
      "[800]\tvalid_0's l1: 0.0744933\n",
      "[1000]\tvalid_0's l1: 0.0744567\n",
      "Did not meet early stopping. Best iteration is:\n",
      "[997]\tvalid_0's l1: 0.0744552\n"
     ]
    },
    {
     "name": "stderr",
     "output_type": "stream",
     "text": [
      "feature_fraction_stage2, val_score: 0.074301: 100%|##########| 3/3 [01:39<00:00, 33.08s/it]\u001b[32m[I 2021-06-12 11:36:56,403]\u001b[0m Trial 39 finished with value: 0.07445522273088234 and parameters: {'feature_fraction': 0.48000000000000004}. Best is trial 37 with value: 0.0744373409941292.\u001b[0m\n",
      "feature_fraction_stage2, val_score: 0.074301: 100%|##########| 3/3 [01:39<00:00, 33.02s/it]\n",
      "regularization_factors, val_score: 0.074301:   0%|          | 0/20 [00:00<?, ?it/s]"
     ]
    },
    {
     "name": "stdout",
     "output_type": "stream",
     "text": [
      "[LightGBM] [Warning] Auto-choosing row-wise multi-threading, the overhead of testing was 0.015059 seconds.\n",
      "You can set `force_row_wise=true` to remove the overhead.\n",
      "And if memory is not enough, you can set `force_col_wise=true`.\n",
      "[LightGBM] [Info] Total Bins 12819\n",
      "[LightGBM] [Info] Number of data points in the train set: 521580, number of used features: 21\n",
      "[LightGBM] [Info] Start training from score 7.219070\n",
      "Training until validation scores don't improve for 100 rounds\n",
      "[200]\tvalid_0's l1: 0.0752582\n",
      "[400]\tvalid_0's l1: 0.0746109\n",
      "[600]\tvalid_0's l1: 0.074447\n",
      "[800]\tvalid_0's l1: 0.0743547\n",
      "[1000]\tvalid_0's l1: 0.0743013\n",
      "Did not meet early stopping. Best iteration is:\n",
      "[958]\tvalid_0's l1: 0.0743008\n"
     ]
    },
    {
     "name": "stderr",
     "output_type": "stream",
     "text": [
      "regularization_factors, val_score: 0.074301:   5%|5         | 1/20 [00:32<10:19, 32.61s/it]\u001b[32m[I 2021-06-12 11:37:29,016]\u001b[0m Trial 40 finished with value: 0.0743008377044115 and parameters: {'lambda_l1': 1.1383975087012387e-08, 'lambda_l2': 3.8000811797798965e-08}. Best is trial 40 with value: 0.0743008377044115.\u001b[0m\n",
      "regularization_factors, val_score: 0.074301:   5%|5         | 1/20 [00:32<10:19, 32.61s/it]"
     ]
    },
    {
     "name": "stdout",
     "output_type": "stream",
     "text": [
      "[LightGBM] [Warning] Auto-choosing row-wise multi-threading, the overhead of testing was 0.014347 seconds.\n",
      "You can set `force_row_wise=true` to remove the overhead.\n",
      "And if memory is not enough, you can set `force_col_wise=true`.\n",
      "[LightGBM] [Info] Total Bins 12819\n",
      "[LightGBM] [Info] Number of data points in the train set: 521580, number of used features: 21\n",
      "[LightGBM] [Info] Start training from score 7.219070\n",
      "Training until validation scores don't improve for 100 rounds\n",
      "[200]\tvalid_0's l1: 0.0752959\n",
      "[400]\tvalid_0's l1: 0.0746531\n",
      "[600]\tvalid_0's l1: 0.074484\n",
      "[800]\tvalid_0's l1: 0.0744212\n",
      "[1000]\tvalid_0's l1: 0.0743564\n",
      "Did not meet early stopping. Best iteration is:\n",
      "[993]\tvalid_0's l1: 0.074354\n"
     ]
    },
    {
     "name": "stderr",
     "output_type": "stream",
     "text": [
      "regularization_factors, val_score: 0.074301:  10%|#         | 2/20 [01:06<09:55, 33.11s/it]\u001b[32m[I 2021-06-12 11:38:02,473]\u001b[0m Trial 41 finished with value: 0.07435399110996752 and parameters: {'lambda_l1': 2.7659044124131283e-08, 'lambda_l2': 4.069199151493427}. Best is trial 40 with value: 0.0743008377044115.\u001b[0m\n",
      "regularization_factors, val_score: 0.074301:  10%|#         | 2/20 [01:06<09:55, 33.11s/it]"
     ]
    },
    {
     "name": "stdout",
     "output_type": "stream",
     "text": [
      "[LightGBM] [Warning] Auto-choosing row-wise multi-threading, the overhead of testing was 0.013907 seconds.\n",
      "You can set `force_row_wise=true` to remove the overhead.\n",
      "And if memory is not enough, you can set `force_col_wise=true`.\n",
      "[LightGBM] [Info] Total Bins 12819\n",
      "[LightGBM] [Info] Number of data points in the train set: 521580, number of used features: 21\n",
      "[LightGBM] [Info] Start training from score 7.219070\n",
      "Training until validation scores don't improve for 100 rounds\n",
      "[200]\tvalid_0's l1: 0.075239\n",
      "[400]\tvalid_0's l1: 0.0746123\n",
      "[600]\tvalid_0's l1: 0.0744347\n",
      "[800]\tvalid_0's l1: 0.0743676\n",
      "[1000]\tvalid_0's l1: 0.0743445\n",
      "Did not meet early stopping. Best iteration is:\n",
      "[959]\tvalid_0's l1: 0.0743358\n"
     ]
    },
    {
     "name": "stderr",
     "output_type": "stream",
     "text": [
      "regularization_factors, val_score: 0.074301:  15%|#5        | 3/20 [01:39<09:21, 33.05s/it]\u001b[32m[I 2021-06-12 11:38:35,450]\u001b[0m Trial 42 finished with value: 0.07433582421834951 and parameters: {'lambda_l1': 0.004288482228125663, 'lambda_l2': 0.0008425424439072748}. Best is trial 40 with value: 0.0743008377044115.\u001b[0m\n",
      "regularization_factors, val_score: 0.074301:  15%|#5        | 3/20 [01:39<09:21, 33.05s/it]"
     ]
    },
    {
     "name": "stdout",
     "output_type": "stream",
     "text": [
      "[LightGBM] [Warning] Auto-choosing row-wise multi-threading, the overhead of testing was 0.014540 seconds.\n",
      "You can set `force_row_wise=true` to remove the overhead.\n",
      "And if memory is not enough, you can set `force_col_wise=true`.\n",
      "[LightGBM] [Info] Total Bins 12819\n",
      "[LightGBM] [Info] Number of data points in the train set: 521580, number of used features: 21\n",
      "[LightGBM] [Info] Start training from score 7.219070\n",
      "Training until validation scores don't improve for 100 rounds\n",
      "[200]\tvalid_0's l1: 0.0753363\n",
      "[400]\tvalid_0's l1: 0.0746635\n",
      "[600]\tvalid_0's l1: 0.0745068\n",
      "[800]\tvalid_0's l1: 0.0744651\n",
      "[1000]\tvalid_0's l1: 0.0744334\n",
      "Did not meet early stopping. Best iteration is:\n",
      "[1000]\tvalid_0's l1: 0.0744334\n"
     ]
    },
    {
     "name": "stderr",
     "output_type": "stream",
     "text": [
      "regularization_factors, val_score: 0.074301:  20%|##        | 4/20 [02:11<08:43, 32.74s/it]\u001b[32m[I 2021-06-12 11:39:07,718]\u001b[0m Trial 43 finished with value: 0.07443339254183023 and parameters: {'lambda_l1': 0.012123845412460083, 'lambda_l2': 0.0057789831467199935}. Best is trial 40 with value: 0.0743008377044115.\u001b[0m\n",
      "regularization_factors, val_score: 0.074301:  20%|##        | 4/20 [02:11<08:43, 32.74s/it]"
     ]
    },
    {
     "name": "stdout",
     "output_type": "stream",
     "text": [
      "[LightGBM] [Warning] Auto-choosing row-wise multi-threading, the overhead of testing was 0.014258 seconds.\n",
      "You can set `force_row_wise=true` to remove the overhead.\n",
      "And if memory is not enough, you can set `force_col_wise=true`.\n",
      "[LightGBM] [Info] Total Bins 12819\n",
      "[LightGBM] [Info] Number of data points in the train set: 521580, number of used features: 21\n",
      "[LightGBM] [Info] Start training from score 7.219070\n",
      "Training until validation scores don't improve for 100 rounds\n",
      "[200]\tvalid_0's l1: 0.0754181\n",
      "[400]\tvalid_0's l1: 0.0747818\n",
      "[600]\tvalid_0's l1: 0.0745734\n",
      "[800]\tvalid_0's l1: 0.0745016\n",
      "Early stopping, best iteration is:\n",
      "[819]\tvalid_0's l1: 0.0744942\n"
     ]
    },
    {
     "name": "stderr",
     "output_type": "stream",
     "text": [
      "regularization_factors, val_score: 0.074301:  25%|##5       | 5/20 [02:42<08:00, 32.01s/it]\u001b[32m[I 2021-06-12 11:39:38,436]\u001b[0m Trial 44 finished with value: 0.07449419473329491 and parameters: {'lambda_l1': 0.00016964464810692665, 'lambda_l2': 8.025938492703208e-08}. Best is trial 40 with value: 0.0743008377044115.\u001b[0m\n",
      "regularization_factors, val_score: 0.074301:  25%|##5       | 5/20 [02:42<08:00, 32.01s/it]"
     ]
    },
    {
     "name": "stdout",
     "output_type": "stream",
     "text": [
      "[LightGBM] [Warning] Auto-choosing row-wise multi-threading, the overhead of testing was 0.012606 seconds.\n",
      "You can set `force_row_wise=true` to remove the overhead.\n",
      "And if memory is not enough, you can set `force_col_wise=true`.\n",
      "[LightGBM] [Info] Total Bins 12819\n",
      "[LightGBM] [Info] Number of data points in the train set: 521580, number of used features: 21\n",
      "[LightGBM] [Info] Start training from score 7.219070\n",
      "Training until validation scores don't improve for 100 rounds\n",
      "[200]\tvalid_0's l1: 0.0752582\n",
      "[400]\tvalid_0's l1: 0.074611\n",
      "[600]\tvalid_0's l1: 0.074425\n",
      "[800]\tvalid_0's l1: 0.0743552\n",
      "[1000]\tvalid_0's l1: 0.0743363\n",
      "Did not meet early stopping. Best iteration is:\n",
      "[968]\tvalid_0's l1: 0.0743335\n"
     ]
    },
    {
     "name": "stderr",
     "output_type": "stream",
     "text": [
      "regularization_factors, val_score: 0.074301:  30%|###       | 6/20 [03:12<07:22, 31.64s/it]\u001b[32m[I 2021-06-12 11:40:09,342]\u001b[0m Trial 45 finished with value: 0.07433354542574844 and parameters: {'lambda_l1': 9.237585554302624e-07, 'lambda_l2': 1.5003374277350632e-06}. Best is trial 40 with value: 0.0743008377044115.\u001b[0m\n",
      "regularization_factors, val_score: 0.074301:  30%|###       | 6/20 [03:12<07:22, 31.64s/it]"
     ]
    },
    {
     "name": "stdout",
     "output_type": "stream",
     "text": [
      "[LightGBM] [Warning] Auto-choosing row-wise multi-threading, the overhead of testing was 0.013831 seconds.\n",
      "You can set `force_row_wise=true` to remove the overhead.\n",
      "And if memory is not enough, you can set `force_col_wise=true`.\n",
      "[LightGBM] [Info] Total Bins 12819\n",
      "[LightGBM] [Info] Number of data points in the train set: 521580, number of used features: 21\n",
      "[LightGBM] [Info] Start training from score 7.219070\n",
      "Training until validation scores don't improve for 100 rounds\n",
      "[200]\tvalid_0's l1: 0.0753805\n",
      "[400]\tvalid_0's l1: 0.0747549\n",
      "[600]\tvalid_0's l1: 0.0745932\n",
      "[800]\tvalid_0's l1: 0.0745094\n",
      "Early stopping, best iteration is:\n",
      "[779]\tvalid_0's l1: 0.0745052\n"
     ]
    },
    {
     "name": "stderr",
     "output_type": "stream",
     "text": [
      "regularization_factors, val_score: 0.074301:  35%|###5      | 7/20 [03:41<06:37, 30.57s/it]\u001b[32m[I 2021-06-12 11:40:37,731]\u001b[0m Trial 46 finished with value: 0.0745051821949246 and parameters: {'lambda_l1': 0.0011902336627172435, 'lambda_l2': 1.7529537090817102}. Best is trial 40 with value: 0.0743008377044115.\u001b[0m\n",
      "regularization_factors, val_score: 0.074301:  35%|###5      | 7/20 [03:41<06:37, 30.57s/it]"
     ]
    },
    {
     "name": "stdout",
     "output_type": "stream",
     "text": [
      "[LightGBM] [Warning] Auto-choosing row-wise multi-threading, the overhead of testing was 0.014350 seconds.\n",
      "You can set `force_row_wise=true` to remove the overhead.\n",
      "And if memory is not enough, you can set `force_col_wise=true`.\n",
      "[LightGBM] [Info] Total Bins 12819\n",
      "[LightGBM] [Info] Number of data points in the train set: 521580, number of used features: 21\n",
      "[LightGBM] [Info] Start training from score 7.219070\n",
      "Training until validation scores don't improve for 100 rounds\n",
      "[200]\tvalid_0's l1: 0.0752582\n",
      "[400]\tvalid_0's l1: 0.0745573\n",
      "[600]\tvalid_0's l1: 0.0743981\n",
      "[800]\tvalid_0's l1: 0.0743233\n",
      "[1000]\tvalid_0's l1: 0.0742697\n",
      "Did not meet early stopping. Best iteration is:\n",
      "[983]\tvalid_0's l1: 0.0742646\n"
     ]
    },
    {
     "name": "stderr",
     "output_type": "stream",
     "text": [
      "regularization_factors, val_score: 0.074265:  40%|####      | 8/20 [04:12<06:07, 30.66s/it]\u001b[32m[I 2021-06-12 11:41:08,581]\u001b[0m Trial 47 finished with value: 0.0742645947610259 and parameters: {'lambda_l1': 1.2615984974420783e-07, 'lambda_l2': 0.00010478410358134672}. Best is trial 47 with value: 0.0742645947610259.\u001b[0m\n",
      "regularization_factors, val_score: 0.074265:  40%|####      | 8/20 [04:12<06:07, 30.66s/it]"
     ]
    },
    {
     "name": "stdout",
     "output_type": "stream",
     "text": [
      "[LightGBM] [Warning] Auto-choosing row-wise multi-threading, the overhead of testing was 0.014383 seconds.\n",
      "You can set `force_row_wise=true` to remove the overhead.\n",
      "And if memory is not enough, you can set `force_col_wise=true`.\n",
      "[LightGBM] [Info] Total Bins 12819\n",
      "[LightGBM] [Info] Number of data points in the train set: 521580, number of used features: 21\n",
      "[LightGBM] [Info] Start training from score 7.219070\n",
      "Training until validation scores don't improve for 100 rounds\n",
      "[200]\tvalid_0's l1: 0.0752856\n",
      "[400]\tvalid_0's l1: 0.0745905\n",
      "[600]\tvalid_0's l1: 0.0744471\n",
      "[800]\tvalid_0's l1: 0.0743353\n",
      "[1000]\tvalid_0's l1: 0.0743003\n",
      "Did not meet early stopping. Best iteration is:\n",
      "[1000]\tvalid_0's l1: 0.0743003\n"
     ]
    },
    {
     "name": "stderr",
     "output_type": "stream",
     "text": [
      "regularization_factors, val_score: 0.074265:  45%|####5     | 9/20 [04:42<05:36, 30.59s/it]\u001b[32m[I 2021-06-12 11:41:39,000]\u001b[0m Trial 48 finished with value: 0.07430033809606368 and parameters: {'lambda_l1': 3.6282479572879424e-05, 'lambda_l2': 5.758287318603131e-07}. Best is trial 47 with value: 0.0742645947610259.\u001b[0m\n",
      "regularization_factors, val_score: 0.074265:  45%|####5     | 9/20 [04:42<05:36, 30.59s/it]"
     ]
    },
    {
     "name": "stdout",
     "output_type": "stream",
     "text": [
      "[LightGBM] [Warning] Auto-choosing row-wise multi-threading, the overhead of testing was 0.015814 seconds.\n",
      "You can set `force_row_wise=true` to remove the overhead.\n",
      "And if memory is not enough, you can set `force_col_wise=true`.\n",
      "[LightGBM] [Info] Total Bins 12819\n",
      "[LightGBM] [Info] Number of data points in the train set: 521580, number of used features: 21\n",
      "[LightGBM] [Info] Start training from score 7.219070\n",
      "Training until validation scores don't improve for 100 rounds\n",
      "[200]\tvalid_0's l1: 0.0753017\n",
      "[400]\tvalid_0's l1: 0.0746738\n",
      "[600]\tvalid_0's l1: 0.0744647\n",
      "[800]\tvalid_0's l1: 0.0743792\n",
      "[1000]\tvalid_0's l1: 0.0743559\n",
      "Did not meet early stopping. Best iteration is:\n",
      "[978]\tvalid_0's l1: 0.0743534\n"
     ]
    },
    {
     "name": "stderr",
     "output_type": "stream",
     "text": [
      "regularization_factors, val_score: 0.074265:  50%|#####     | 10/20 [05:14<05:08, 30.90s/it]\u001b[32m[I 2021-06-12 11:42:10,590]\u001b[0m Trial 49 finished with value: 0.07435341321793644 and parameters: {'lambda_l1': 0.0021908667580746023, 'lambda_l2': 0.19751353287872903}. Best is trial 47 with value: 0.0742645947610259.\u001b[0m\n",
      "regularization_factors, val_score: 0.074265:  50%|#####     | 10/20 [05:14<05:08, 30.90s/it]"
     ]
    },
    {
     "name": "stdout",
     "output_type": "stream",
     "text": [
      "[LightGBM] [Warning] Auto-choosing row-wise multi-threading, the overhead of testing was 0.013426 seconds.\n",
      "You can set `force_row_wise=true` to remove the overhead.\n",
      "And if memory is not enough, you can set `force_col_wise=true`.\n",
      "[LightGBM] [Info] Total Bins 12819\n",
      "[LightGBM] [Info] Number of data points in the train set: 521580, number of used features: 21\n",
      "[LightGBM] [Info] Start training from score 7.219070\n",
      "Training until validation scores don't improve for 100 rounds\n",
      "[200]\tvalid_0's l1: 0.0752469\n",
      "[400]\tvalid_0's l1: 0.0742966\n",
      "[LightGBM] [Warning] No further splits with positive gain, best gain: -inf\n",
      "[600]\tvalid_0's l1: 0.0740841\n",
      "Early stopping, best iteration is:\n",
      "[611]\tvalid_0's l1: 0.0740691\n"
     ]
    },
    {
     "name": "stderr",
     "output_type": "stream",
     "text": [
      "regularization_factors, val_score: 0.074069:  55%|#####5    | 11/20 [05:49<04:49, 32.20s/it]\u001b[32m[I 2021-06-12 11:42:45,752]\u001b[0m Trial 50 finished with value: 0.0740691417017613 and parameters: {'lambda_l1': 4.321340728042408, 'lambda_l2': 2.1755891002223727e-05}. Best is trial 50 with value: 0.0740691417017613.\u001b[0m\n",
      "regularization_factors, val_score: 0.074069:  55%|#####5    | 11/20 [05:49<04:49, 32.20s/it]"
     ]
    },
    {
     "name": "stdout",
     "output_type": "stream",
     "text": [
      "[LightGBM] [Warning] Auto-choosing row-wise multi-threading, the overhead of testing was 0.015012 seconds.\n",
      "You can set `force_row_wise=true` to remove the overhead.\n",
      "And if memory is not enough, you can set `force_col_wise=true`.\n",
      "[LightGBM] [Info] Total Bins 12819\n",
      "[LightGBM] [Info] Number of data points in the train set: 521580, number of used features: 21\n",
      "[LightGBM] [Info] Start training from score 7.219070\n",
      "Training until validation scores don't improve for 100 rounds\n",
      "[200]\tvalid_0's l1: 0.0752694\n",
      "[LightGBM] [Warning] No further splits with positive gain, best gain: -inf\n",
      "[400]\tvalid_0's l1: 0.0742721\n",
      "[LightGBM] [Warning] No further splits with positive gain, best gain: -inf\n",
      "[LightGBM] [Warning] No further splits with positive gain, best gain: -inf\n",
      "[LightGBM] [Warning] No further splits with positive gain, best gain: -inf\n",
      "[LightGBM] [Warning] No further splits with positive gain, best gain: -inf\n",
      "[LightGBM] [Warning] No further splits with positive gain, best gain: -inf\n",
      "[LightGBM] [Warning] No further splits with positive gain, best gain: -inf\n",
      "[600]\tvalid_0's l1: 0.0740703\n",
      "[LightGBM] [Warning] No further splits with positive gain, best gain: -inf\n",
      "[LightGBM] [Warning] No further splits with positive gain, best gain: -inf\n",
      "[LightGBM] [Warning] No further splits with positive gain, best gain: -inf\n",
      "[LightGBM] [Warning] No further splits with positive gain, best gain: -inf\n",
      "[LightGBM] [Warning] No further splits with positive gain, best gain: -inf\n",
      "[LightGBM] [Warning] No further splits with positive gain, best gain: -inf\n",
      "[LightGBM] [Warning] No further splits with positive gain, best gain: -inf\n",
      "[LightGBM] [Warning] No further splits with positive gain, best gain: -inf\n",
      "[LightGBM] [Warning] No further splits with positive gain, best gain: -inf\n",
      "[LightGBM] [Warning] No further splits with positive gain, best gain: -inf\n",
      "[LightGBM] [Warning] No further splits with positive gain, best gain: -inf\n",
      "[LightGBM] [Warning] No further splits with positive gain, best gain: -inf\n",
      "[LightGBM] [Warning] No further splits with positive gain, best gain: -inf\n",
      "[LightGBM] [Warning] No further splits with positive gain, best gain: -inf\n",
      "[LightGBM] [Warning] No further splits with positive gain, best gain: -inf\n",
      "[LightGBM] [Warning] No further splits with positive gain, best gain: -inf\n",
      "[800]\tvalid_0's l1: 0.0740337\n",
      "[LightGBM] [Warning] No further splits with positive gain, best gain: -inf\n",
      "[LightGBM] [Warning] No further splits with positive gain, best gain: -inf\n",
      "[LightGBM] [Warning] No further splits with positive gain, best gain: -inf\n",
      "[LightGBM] [Warning] No further splits with positive gain, best gain: -inf\n",
      "[LightGBM] [Warning] No further splits with positive gain, best gain: -inf\n",
      "[LightGBM] [Warning] No further splits with positive gain, best gain: -inf\n",
      "[LightGBM] [Warning] No further splits with positive gain, best gain: -inf\n",
      "[LightGBM] [Warning] No further splits with positive gain, best gain: -inf\n",
      "[LightGBM] [Warning] No further splits with positive gain, best gain: -inf\n",
      "[LightGBM] [Warning] No further splits with positive gain, best gain: -inf\n",
      "[LightGBM] [Warning] No further splits with positive gain, best gain: -inf\n",
      "[LightGBM] [Warning] No further splits with positive gain, best gain: -inf\n",
      "[LightGBM] [Warning] No further splits with positive gain, best gain: -inf\n",
      "[LightGBM] [Warning] No further splits with positive gain, best gain: -inf\n",
      "[LightGBM] [Warning] No further splits with positive gain, best gain: -inf\n",
      "[LightGBM] [Warning] No further splits with positive gain, best gain: -inf\n",
      "Early stopping, best iteration is:\n",
      "[783]\tvalid_0's l1: 0.0740218\n"
     ]
    },
    {
     "name": "stderr",
     "output_type": "stream",
     "text": [
      "regularization_factors, val_score: 0.074022:  60%|######    | 12/20 [06:28<04:35, 34.43s/it]\u001b[32m[I 2021-06-12 11:43:25,264]\u001b[0m Trial 51 finished with value: 0.07402175081036562 and parameters: {'lambda_l1': 7.635668820957845, 'lambda_l2': 2.2888003953011395e-05}. Best is trial 51 with value: 0.07402175081036562.\u001b[0m\n",
      "regularization_factors, val_score: 0.074022:  60%|######    | 12/20 [06:28<04:35, 34.43s/it]"
     ]
    },
    {
     "name": "stdout",
     "output_type": "stream",
     "text": [
      "[LightGBM] [Warning] Auto-choosing row-wise multi-threading, the overhead of testing was 0.015723 seconds.\n",
      "You can set `force_row_wise=true` to remove the overhead.\n",
      "And if memory is not enough, you can set `force_col_wise=true`.\n",
      "[LightGBM] [Info] Total Bins 12819\n",
      "[LightGBM] [Info] Number of data points in the train set: 521580, number of used features: 21\n",
      "[LightGBM] [Info] Start training from score 7.219070\n",
      "Training until validation scores don't improve for 100 rounds\n",
      "[200]\tvalid_0's l1: 0.075231\n",
      "[400]\tvalid_0's l1: 0.0742964\n",
      "[LightGBM] [Warning] No further splits with positive gain, best gain: -inf\n",
      "[600]\tvalid_0's l1: 0.0741222\n",
      "Early stopping, best iteration is:\n",
      "[611]\tvalid_0's l1: 0.0741098\n"
     ]
    },
    {
     "name": "stderr",
     "output_type": "stream",
     "text": [
      "regularization_factors, val_score: 0.074022:  65%|######5   | 13/20 [07:03<04:01, 34.46s/it]\u001b[32m[I 2021-06-12 11:43:59,819]\u001b[0m Trial 52 finished with value: 0.07410980460214651 and parameters: {'lambda_l1': 4.198481796346666, 'lambda_l2': 1.3954564508207702e-05}. Best is trial 51 with value: 0.07402175081036562.\u001b[0m\n",
      "regularization_factors, val_score: 0.074022:  65%|######5   | 13/20 [07:03<04:01, 34.46s/it]"
     ]
    },
    {
     "name": "stdout",
     "output_type": "stream",
     "text": [
      "[LightGBM] [Warning] Auto-choosing row-wise multi-threading, the overhead of testing was 0.014862 seconds.\n",
      "You can set `force_row_wise=true` to remove the overhead.\n",
      "And if memory is not enough, you can set `force_col_wise=true`.\n",
      "[LightGBM] [Info] Total Bins 12819\n",
      "[LightGBM] [Info] Number of data points in the train set: 521580, number of used features: 21\n",
      "[LightGBM] [Info] Start training from score 7.219070\n",
      "Training until validation scores don't improve for 100 rounds\n",
      "[200]\tvalid_0's l1: 0.0753086\n",
      "[400]\tvalid_0's l1: 0.0743136\n",
      "[LightGBM] [Warning] No further splits with positive gain, best gain: -inf\n",
      "[LightGBM] [Warning] No further splits with positive gain, best gain: -inf\n",
      "[LightGBM] [Warning] No further splits with positive gain, best gain: -inf\n",
      "[600]\tvalid_0's l1: 0.07413\n",
      "[LightGBM] [Warning] No further splits with positive gain, best gain: -inf\n",
      "Early stopping, best iteration is:\n",
      "[672]\tvalid_0's l1: 0.0741159\n"
     ]
    },
    {
     "name": "stderr",
     "output_type": "stream",
     "text": [
      "regularization_factors, val_score: 0.074022:  70%|#######   | 14/20 [07:40<03:30, 35.12s/it]\u001b[32m[I 2021-06-12 11:44:36,457]\u001b[0m Trial 53 finished with value: 0.07411588570009689 and parameters: {'lambda_l1': 5.0925935549634485, 'lambda_l2': 2.6486832491794098e-05}. Best is trial 51 with value: 0.07402175081036562.\u001b[0m\n",
      "regularization_factors, val_score: 0.074022:  70%|#######   | 14/20 [07:40<03:30, 35.12s/it]"
     ]
    },
    {
     "name": "stdout",
     "output_type": "stream",
     "text": [
      "[LightGBM] [Warning] Auto-choosing row-wise multi-threading, the overhead of testing was 0.015274 seconds.\n",
      "You can set `force_row_wise=true` to remove the overhead.\n",
      "And if memory is not enough, you can set `force_col_wise=true`.\n",
      "[LightGBM] [Info] Total Bins 12819\n",
      "[LightGBM] [Info] Number of data points in the train set: 521580, number of used features: 21\n",
      "[LightGBM] [Info] Start training from score 7.219070\n",
      "Training until validation scores don't improve for 100 rounds\n",
      "[200]\tvalid_0's l1: 0.0752823\n",
      "[400]\tvalid_0's l1: 0.0746022\n",
      "[600]\tvalid_0's l1: 0.0744455\n",
      "[800]\tvalid_0's l1: 0.0743513\n",
      "[1000]\tvalid_0's l1: 0.0742692\n",
      "Did not meet early stopping. Best iteration is:\n",
      "[993]\tvalid_0's l1: 0.0742686\n"
     ]
    },
    {
     "name": "stderr",
     "output_type": "stream",
     "text": [
      "regularization_factors, val_score: 0.074022:  75%|#######5  | 15/20 [08:14<02:54, 34.91s/it]\u001b[32m[I 2021-06-12 11:45:10,883]\u001b[0m Trial 54 finished with value: 0.07426862875879989 and parameters: {'lambda_l1': 0.25694225342691934, 'lambda_l2': 0.006857285714515905}. Best is trial 51 with value: 0.07402175081036562.\u001b[0m\n",
      "regularization_factors, val_score: 0.074022:  75%|#######5  | 15/20 [08:14<02:54, 34.91s/it]"
     ]
    },
    {
     "name": "stdout",
     "output_type": "stream",
     "text": [
      "[LightGBM] [Warning] Auto-choosing row-wise multi-threading, the overhead of testing was 0.012898 seconds.\n",
      "You can set `force_row_wise=true` to remove the overhead.\n",
      "And if memory is not enough, you can set `force_col_wise=true`.\n",
      "[LightGBM] [Info] Total Bins 12819\n",
      "[LightGBM] [Info] Number of data points in the train set: 521580, number of used features: 21\n",
      "[LightGBM] [Info] Start training from score 7.219070\n",
      "Training until validation scores don't improve for 100 rounds\n",
      "[200]\tvalid_0's l1: 0.0752639\n",
      "[400]\tvalid_0's l1: 0.0745096\n",
      "[600]\tvalid_0's l1: 0.0743458\n",
      "[800]\tvalid_0's l1: 0.0742486\n",
      "[1000]\tvalid_0's l1: 0.07423\n",
      "Did not meet early stopping. Best iteration is:\n",
      "[992]\tvalid_0's l1: 0.0742295\n"
     ]
    },
    {
     "name": "stderr",
     "output_type": "stream",
     "text": [
      "regularization_factors, val_score: 0.074022:  80%|########  | 16/20 [08:52<02:22, 35.70s/it]\u001b[32m[I 2021-06-12 11:45:48,427]\u001b[0m Trial 55 finished with value: 0.07422949426698215 and parameters: {'lambda_l1': 0.42225357929563306, 'lambda_l2': 2.00444957609533e-06}. Best is trial 51 with value: 0.07402175081036562.\u001b[0m\n",
      "regularization_factors, val_score: 0.074022:  80%|########  | 16/20 [08:52<02:22, 35.70s/it]"
     ]
    },
    {
     "name": "stdout",
     "output_type": "stream",
     "text": [
      "[LightGBM] [Warning] Auto-choosing row-wise multi-threading, the overhead of testing was 0.015834 seconds.\n",
      "You can set `force_row_wise=true` to remove the overhead.\n",
      "And if memory is not enough, you can set `force_col_wise=true`.\n",
      "[LightGBM] [Info] Total Bins 12819\n",
      "[LightGBM] [Info] Number of data points in the train set: 521580, number of used features: 21\n",
      "[LightGBM] [Info] Start training from score 7.219070\n",
      "Training until validation scores don't improve for 100 rounds\n",
      "[200]\tvalid_0's l1: 0.0753055\n",
      "[400]\tvalid_0's l1: 0.0746231\n",
      "[600]\tvalid_0's l1: 0.0744687\n",
      "[800]\tvalid_0's l1: 0.0743775\n",
      "[1000]\tvalid_0's l1: 0.0743523\n",
      "Did not meet early stopping. Best iteration is:\n",
      "[981]\tvalid_0's l1: 0.0743475\n"
     ]
    },
    {
     "name": "stderr",
     "output_type": "stream",
     "text": [
      "regularization_factors, val_score: 0.074022:  85%|########5 | 17/20 [09:27<01:47, 35.71s/it]\u001b[32m[I 2021-06-12 11:46:24,145]\u001b[0m Trial 56 finished with value: 0.07434749404237302 and parameters: {'lambda_l1': 0.25871560100590235, 'lambda_l2': 0.0010774461062406807}. Best is trial 51 with value: 0.07402175081036562.\u001b[0m\n",
      "regularization_factors, val_score: 0.074022:  85%|########5 | 17/20 [09:27<01:47, 35.71s/it]"
     ]
    },
    {
     "name": "stdout",
     "output_type": "stream",
     "text": [
      "[LightGBM] [Warning] Auto-choosing row-wise multi-threading, the overhead of testing was 0.014787 seconds.\n",
      "You can set `force_row_wise=true` to remove the overhead.\n",
      "And if memory is not enough, you can set `force_col_wise=true`.\n",
      "[LightGBM] [Info] Total Bins 12819\n",
      "[LightGBM] [Info] Number of data points in the train set: 521580, number of used features: 21\n",
      "[LightGBM] [Info] Start training from score 7.219070\n",
      "Training until validation scores don't improve for 100 rounds\n",
      "[200]\tvalid_0's l1: 0.0753394\n",
      "[LightGBM] [Warning] No further splits with positive gain, best gain: -inf\n",
      "[LightGBM] [Warning] No further splits with positive gain, best gain: -inf\n",
      "[LightGBM] [Warning] No further splits with positive gain, best gain: -inf\n",
      "[400]\tvalid_0's l1: 0.0742736\n",
      "[LightGBM] [Warning] No further splits with positive gain, best gain: -inf\n",
      "[LightGBM] [Warning] No further splits with positive gain, best gain: -inf\n",
      "[LightGBM] [Warning] No further splits with positive gain, best gain: -inf\n",
      "[LightGBM] [Warning] No further splits with positive gain, best gain: -inf\n",
      "[LightGBM] [Warning] No further splits with positive gain, best gain: -inf\n",
      "[LightGBM] [Warning] No further splits with positive gain, best gain: -inf\n",
      "[LightGBM] [Warning] No further splits with positive gain, best gain: -inf\n",
      "[LightGBM] [Warning] No further splits with positive gain, best gain: -inf\n",
      "[LightGBM] [Warning] No further splits with positive gain, best gain: -inf\n",
      "[LightGBM] [Warning] No further splits with positive gain, best gain: -inf\n",
      "[LightGBM] [Warning] No further splits with positive gain, best gain: -inf\n",
      "[LightGBM] [Warning] No further splits with positive gain, best gain: -inf\n",
      "[600]\tvalid_0's l1: 0.0740351\n",
      "[LightGBM] [Warning] No further splits with positive gain, best gain: -inf\n",
      "[LightGBM] [Warning] No further splits with positive gain, best gain: -inf\n",
      "[LightGBM] [Warning] No further splits with positive gain, best gain: -inf\n",
      "[LightGBM] [Warning] No further splits with positive gain, best gain: -inf\n",
      "[LightGBM] [Warning] No further splits with positive gain, best gain: -inf\n",
      "[LightGBM] [Warning] No further splits with positive gain, best gain: -inf\n",
      "[LightGBM] [Warning] No further splits with positive gain, best gain: -inf\n",
      "[LightGBM] [Warning] No further splits with positive gain, best gain: -inf\n",
      "[LightGBM] [Warning] No further splits with positive gain, best gain: -inf\n",
      "[LightGBM] [Warning] No further splits with positive gain, best gain: -inf\n",
      "[LightGBM] [Warning] No further splits with positive gain, best gain: -inf\n",
      "[LightGBM] [Warning] No further splits with positive gain, best gain: -inf\n",
      "[LightGBM] [Warning] No further splits with positive gain, best gain: -inf\n",
      "[LightGBM] [Warning] No further splits with positive gain, best gain: -inf\n",
      "[LightGBM] [Warning] No further splits with positive gain, best gain: -inf\n",
      "[LightGBM] [Warning] No further splits with positive gain, best gain: -inf\n",
      "[LightGBM] [Warning] No further splits with positive gain, best gain: -inf\n",
      "[LightGBM] [Warning] No further splits with positive gain, best gain: -inf\n",
      "[LightGBM] [Warning] No further splits with positive gain, best gain: -inf\n",
      "[LightGBM] [Warning] No further splits with positive gain, best gain: -inf\n",
      "[LightGBM] [Warning] No further splits with positive gain, best gain: -inf\n",
      "[LightGBM] [Warning] No further splits with positive gain, best gain: -inf\n",
      "Early stopping, best iteration is:\n",
      "[673]\tvalid_0's l1: 0.0739986\n"
     ]
    },
    {
     "name": "stderr",
     "output_type": "stream",
     "text": [
      "regularization_factors, val_score: 0.073999:  90%|######### | 18/20 [10:02<01:10, 35.48s/it]\u001b[32m[I 2021-06-12 11:46:59,087]\u001b[0m Trial 57 finished with value: 0.07399859110061255 and parameters: {'lambda_l1': 8.848397558740233, 'lambda_l2': 1.3305379999013603e-05}. Best is trial 57 with value: 0.07399859110061255.\u001b[0m\n",
      "regularization_factors, val_score: 0.073999:  90%|######### | 18/20 [10:02<01:10, 35.48s/it]"
     ]
    },
    {
     "name": "stdout",
     "output_type": "stream",
     "text": [
      "[LightGBM] [Warning] Auto-choosing row-wise multi-threading, the overhead of testing was 0.014299 seconds.\n",
      "You can set `force_row_wise=true` to remove the overhead.\n",
      "And if memory is not enough, you can set `force_col_wise=true`.\n",
      "[LightGBM] [Info] Total Bins 12819\n",
      "[LightGBM] [Info] Number of data points in the train set: 521580, number of used features: 21\n",
      "[LightGBM] [Info] Start training from score 7.219070\n",
      "Training until validation scores don't improve for 100 rounds\n",
      "[200]\tvalid_0's l1: 0.0753159\n",
      "[400]\tvalid_0's l1: 0.0746796\n",
      "[600]\tvalid_0's l1: 0.0744805\n",
      "[800]\tvalid_0's l1: 0.0744072\n",
      "[1000]\tvalid_0's l1: 0.0743727\n",
      "Did not meet early stopping. Best iteration is:\n",
      "[1000]\tvalid_0's l1: 0.0743727\n"
     ]
    },
    {
     "name": "stderr",
     "output_type": "stream",
     "text": [
      "regularization_factors, val_score: 0.073999:  95%|#########5| 19/20 [10:33<00:34, 34.03s/it]\u001b[32m[I 2021-06-12 11:47:29,740]\u001b[0m Trial 58 finished with value: 0.07437269955199825 and parameters: {'lambda_l1': 0.034608150312989715, 'lambda_l2': 2.628992226505641e-07}. Best is trial 57 with value: 0.07399859110061255.\u001b[0m\n",
      "regularization_factors, val_score: 0.073999:  95%|#########5| 19/20 [10:33<00:34, 34.03s/it]"
     ]
    },
    {
     "name": "stdout",
     "output_type": "stream",
     "text": [
      "[LightGBM] [Warning] Auto-choosing row-wise multi-threading, the overhead of testing was 0.014911 seconds.\n",
      "You can set `force_row_wise=true` to remove the overhead.\n",
      "And if memory is not enough, you can set `force_col_wise=true`.\n",
      "[LightGBM] [Info] Total Bins 12819\n",
      "[LightGBM] [Info] Number of data points in the train set: 521580, number of used features: 21\n",
      "[LightGBM] [Info] Start training from score 7.219070\n",
      "Training until validation scores don't improve for 100 rounds\n",
      "[200]\tvalid_0's l1: 0.0752632\n",
      "[400]\tvalid_0's l1: 0.0744749\n",
      "[600]\tvalid_0's l1: 0.0743541\n",
      "[800]\tvalid_0's l1: 0.0743168\n",
      "[1000]\tvalid_0's l1: 0.0743022\n",
      "Did not meet early stopping. Best iteration is:\n",
      "[943]\tvalid_0's l1: 0.0742992\n"
     ]
    },
    {
     "name": "stderr",
     "output_type": "stream",
     "text": [
      "regularization_factors, val_score: 0.073999: 100%|##########| 20/20 [11:15<00:00, 36.36s/it]\u001b[32m[I 2021-06-12 11:48:11,520]\u001b[0m Trial 59 finished with value: 0.07429924167297726 and parameters: {'lambda_l1': 1.4182496261202373, 'lambda_l2': 6.536791600374581e-06}. Best is trial 57 with value: 0.07399859110061255.\u001b[0m\n",
      "regularization_factors, val_score: 0.073999: 100%|##########| 20/20 [11:15<00:00, 33.76s/it]\n",
      "min_data_in_leaf, val_score: 0.073999:   0%|          | 0/5 [00:00<?, ?it/s]"
     ]
    },
    {
     "name": "stdout",
     "output_type": "stream",
     "text": [
      "[LightGBM] [Warning] Auto-choosing row-wise multi-threading, the overhead of testing was 0.013078 seconds.\n",
      "You can set `force_row_wise=true` to remove the overhead.\n",
      "And if memory is not enough, you can set `force_col_wise=true`.\n",
      "[LightGBM] [Info] Total Bins 12819\n",
      "[LightGBM] [Info] Number of data points in the train set: 521580, number of used features: 21\n",
      "[LightGBM] [Info] Start training from score 7.219070\n",
      "Training until validation scores don't improve for 100 rounds\n",
      "[200]\tvalid_0's l1: 0.0753758\n",
      "[LightGBM] [Warning] No further splits with positive gain, best gain: -inf\n",
      "[LightGBM] [Warning] No further splits with positive gain, best gain: -inf\n",
      "[400]\tvalid_0's l1: 0.0743244\n",
      "[LightGBM] [Warning] No further splits with positive gain, best gain: -inf\n",
      "[LightGBM] [Warning] No further splits with positive gain, best gain: -inf\n",
      "[LightGBM] [Warning] No further splits with positive gain, best gain: -inf\n",
      "[LightGBM] [Warning] No further splits with positive gain, best gain: -inf\n",
      "[LightGBM] [Warning] No further splits with positive gain, best gain: -inf\n",
      "[LightGBM] [Warning] No further splits with positive gain, best gain: -inf\n",
      "[LightGBM] [Warning] No further splits with positive gain, best gain: -inf\n",
      "[LightGBM] [Warning] No further splits with positive gain, best gain: -inf\n",
      "[LightGBM] [Warning] No further splits with positive gain, best gain: -inf\n",
      "[LightGBM] [Warning] No further splits with positive gain, best gain: -inf\n",
      "[600]\tvalid_0's l1: 0.0740724\n",
      "[LightGBM] [Warning] No further splits with positive gain, best gain: -inf\n",
      "[LightGBM] [Warning] No further splits with positive gain, best gain: -inf\n",
      "[LightGBM] [Warning] No further splits with positive gain, best gain: -inf\n",
      "[LightGBM] [Warning] No further splits with positive gain, best gain: -inf\n",
      "[LightGBM] [Warning] No further splits with positive gain, best gain: -inf\n",
      "[LightGBM] [Warning] No further splits with positive gain, best gain: -inf\n",
      "[LightGBM] [Warning] No further splits with positive gain, best gain: -inf\n",
      "[LightGBM] [Warning] No further splits with positive gain, best gain: -inf\n",
      "[LightGBM] [Warning] No further splits with positive gain, best gain: -inf\n",
      "[LightGBM] [Warning] No further splits with positive gain, best gain: -inf\n",
      "[LightGBM] [Warning] No further splits with positive gain, best gain: -inf\n",
      "[LightGBM] [Warning] No further splits with positive gain, best gain: -inf\n",
      "[LightGBM] [Warning] No further splits with positive gain, best gain: -inf\n",
      "[LightGBM] [Warning] No further splits with positive gain, best gain: -inf\n",
      "[LightGBM] [Warning] No further splits with positive gain, best gain: -inf\n",
      "[LightGBM] [Warning] No further splits with positive gain, best gain: -inf\n",
      "[LightGBM] [Warning] No further splits with positive gain, best gain: -inf\n",
      "[LightGBM] [Warning] No further splits with positive gain, best gain: -inf\n",
      "[LightGBM] [Warning] No further splits with positive gain, best gain: -inf\n",
      "[LightGBM] [Warning] No further splits with positive gain, best gain: -inf\n",
      "[LightGBM] [Warning] No further splits with positive gain, best gain: -inf\n",
      "[LightGBM] [Warning] No further splits with positive gain, best gain: -inf\n",
      "[LightGBM] [Warning] No further splits with positive gain, best gain: -inf\n",
      "[LightGBM] [Warning] No further splits with positive gain, best gain: -inf\n",
      "[LightGBM] [Warning] No further splits with positive gain, best gain: -inf\n",
      "[LightGBM] [Warning] No further splits with positive gain, best gain: -inf\n",
      "[LightGBM] [Warning] No further splits with positive gain, best gain: -inf\n",
      "[LightGBM] [Warning] No further splits with positive gain, best gain: -inf\n",
      "[LightGBM] [Warning] No further splits with positive gain, best gain: -inf\n",
      "[LightGBM] [Warning] No further splits with positive gain, best gain: -inf\n",
      "[800]\tvalid_0's l1: 0.0740221\n",
      "[LightGBM] [Warning] No further splits with positive gain, best gain: -inf\n",
      "[LightGBM] [Warning] No further splits with positive gain, best gain: -inf\n",
      "[LightGBM] [Warning] No further splits with positive gain, best gain: -inf\n",
      "[LightGBM] [Warning] No further splits with positive gain, best gain: -inf\n",
      "[LightGBM] [Warning] No further splits with positive gain, best gain: -inf\n",
      "[LightGBM] [Warning] No further splits with positive gain, best gain: -inf\n",
      "[LightGBM] [Warning] No further splits with positive gain, best gain: -inf\n",
      "[LightGBM] [Warning] No further splits with positive gain, best gain: -inf\n",
      "[LightGBM] [Warning] No further splits with positive gain, best gain: -inf\n",
      "[LightGBM] [Warning] No further splits with positive gain, best gain: -inf\n",
      "[LightGBM] [Warning] No further splits with positive gain, best gain: -inf\n",
      "[LightGBM] [Warning] No further splits with positive gain, best gain: -inf\n",
      "[LightGBM] [Warning] No further splits with positive gain, best gain: -inf\n",
      "[LightGBM] [Warning] No further splits with positive gain, best gain: -inf\n",
      "[LightGBM] [Warning] Stopped training because there are no more leaves that meet the split requirements\n",
      "[LightGBM] [Warning] No further splits with positive gain, best gain: -inf\n",
      "[LightGBM] [Warning] No further splits with positive gain, best gain: -inf\n",
      "[LightGBM] [Warning] No further splits with positive gain, best gain: -inf\n",
      "[LightGBM] [Warning] No further splits with positive gain, best gain: -inf\n",
      "[LightGBM] [Warning] No further splits with positive gain, best gain: -inf\n",
      "[LightGBM] [Warning] No further splits with positive gain, best gain: -inf\n",
      "[LightGBM] [Warning] No further splits with positive gain, best gain: -inf\n",
      "[LightGBM] [Warning] No further splits with positive gain, best gain: -inf\n",
      "[LightGBM] [Warning] No further splits with positive gain, best gain: -inf\n",
      "[LightGBM] [Warning] No further splits with positive gain, best gain: -inf\n",
      "[LightGBM] [Warning] No further splits with positive gain, best gain: -inf\n",
      "[LightGBM] [Warning] No further splits with positive gain, best gain: -inf\n",
      "[LightGBM] [Warning] Stopped training because there are no more leaves that meet the split requirements\n",
      "[LightGBM] [Warning] No further splits with positive gain, best gain: -inf\n",
      "[LightGBM] [Warning] No further splits with positive gain, best gain: -inf\n",
      "[LightGBM] [Warning] No further splits with positive gain, best gain: -inf\n",
      "[LightGBM] [Warning] Stopped training because there are no more leaves that meet the split requirements\n",
      "[LightGBM] [Warning] No further splits with positive gain, best gain: -inf\n",
      "[LightGBM] [Warning] No further splits with positive gain, best gain: -inf\n",
      "[LightGBM] [Warning] No further splits with positive gain, best gain: -inf\n",
      "[LightGBM] [Warning] No further splits with positive gain, best gain: -inf\n",
      "[LightGBM] [Warning] No further splits with positive gain, best gain: -inf\n",
      "[LightGBM] [Warning] No further splits with positive gain, best gain: -inf\n",
      "[LightGBM] [Warning] No further splits with positive gain, best gain: -inf\n",
      "[LightGBM] [Warning] Stopped training because there are no more leaves that meet the split requirements\n",
      "[LightGBM] [Warning] No further splits with positive gain, best gain: -inf\n",
      "[LightGBM] [Warning] No further splits with positive gain, best gain: -inf\n",
      "[LightGBM] [Warning] No further splits with positive gain, best gain: -inf\n",
      "[LightGBM] [Warning] Stopped training because there are no more leaves that meet the split requirements\n",
      "[LightGBM] [Warning] No further splits with positive gain, best gain: -inf\n",
      "[LightGBM] [Warning] Stopped training because there are no more leaves that meet the split requirements\n",
      "[LightGBM] [Warning] No further splits with positive gain, best gain: -inf\n",
      "[LightGBM] [Warning] No further splits with positive gain, best gain: -inf\n",
      "[LightGBM] [Warning] Stopped training because there are no more leaves that meet the split requirements\n",
      "[LightGBM] [Warning] No further splits with positive gain, best gain: -inf\n",
      "[LightGBM] [Warning] No further splits with positive gain, best gain: -inf\n",
      "[LightGBM] [Warning] Stopped training because there are no more leaves that meet the split requirements\n",
      "[LightGBM] [Warning] No further splits with positive gain, best gain: -inf\n",
      "[LightGBM] [Warning] No further splits with positive gain, best gain: -inf\n",
      "Early stopping, best iteration is:\n",
      "[762]\tvalid_0's l1: 0.0740061\n"
     ]
    },
    {
     "name": "stderr",
     "output_type": "stream",
     "text": [
      "min_data_in_leaf, val_score: 0.073999:  20%|##        | 1/5 [00:38<02:32, 38.14s/it]\u001b[32m[I 2021-06-12 11:48:49,667]\u001b[0m Trial 60 finished with value: 0.07400610712347853 and parameters: {'min_child_samples': 10}. Best is trial 60 with value: 0.07400610712347853.\u001b[0m\n",
      "min_data_in_leaf, val_score: 0.073999:  20%|##        | 1/5 [00:38<02:32, 38.14s/it]"
     ]
    },
    {
     "name": "stdout",
     "output_type": "stream",
     "text": [
      "[LightGBM] [Warning] Auto-choosing row-wise multi-threading, the overhead of testing was 0.013159 seconds.\n",
      "You can set `force_row_wise=true` to remove the overhead.\n",
      "And if memory is not enough, you can set `force_col_wise=true`.\n",
      "[LightGBM] [Info] Total Bins 12819\n",
      "[LightGBM] [Info] Number of data points in the train set: 521580, number of used features: 21\n",
      "[LightGBM] [Info] Start training from score 7.219070\n",
      "Training until validation scores don't improve for 100 rounds\n",
      "[LightGBM] [Warning] No further splits with positive gain, best gain: -inf\n",
      "[200]\tvalid_0's l1: 0.0753504\n",
      "[LightGBM] [Warning] No further splits with positive gain, best gain: -inf\n",
      "[LightGBM] [Warning] No further splits with positive gain, best gain: -inf\n",
      "[400]\tvalid_0's l1: 0.074326\n",
      "[LightGBM] [Warning] No further splits with positive gain, best gain: -inf\n",
      "[LightGBM] [Warning] No further splits with positive gain, best gain: -inf\n",
      "[LightGBM] [Warning] No further splits with positive gain, best gain: -inf\n",
      "[LightGBM] [Warning] No further splits with positive gain, best gain: -inf\n",
      "[LightGBM] [Warning] No further splits with positive gain, best gain: -inf\n",
      "[LightGBM] [Warning] No further splits with positive gain, best gain: -inf\n",
      "[LightGBM] [Warning] No further splits with positive gain, best gain: -inf\n",
      "[LightGBM] [Warning] No further splits with positive gain, best gain: -inf\n",
      "[LightGBM] [Warning] No further splits with positive gain, best gain: -inf\n",
      "[LightGBM] [Warning] No further splits with positive gain, best gain: -inf\n",
      "[LightGBM] [Warning] No further splits with positive gain, best gain: -inf\n",
      "[LightGBM] [Warning] No further splits with positive gain, best gain: -inf\n",
      "[LightGBM] [Warning] No further splits with positive gain, best gain: -inf\n",
      "[600]\tvalid_0's l1: 0.0741179\n",
      "[LightGBM] [Warning] No further splits with positive gain, best gain: -inf\n",
      "[LightGBM] [Warning] No further splits with positive gain, best gain: -inf\n",
      "[LightGBM] [Warning] No further splits with positive gain, best gain: -inf\n",
      "[LightGBM] [Warning] No further splits with positive gain, best gain: -inf\n",
      "[LightGBM] [Warning] No further splits with positive gain, best gain: -inf\n",
      "[LightGBM] [Warning] No further splits with positive gain, best gain: -inf\n",
      "[LightGBM] [Warning] No further splits with positive gain, best gain: -inf\n",
      "[LightGBM] [Warning] No further splits with positive gain, best gain: -inf\n",
      "[LightGBM] [Warning] No further splits with positive gain, best gain: -inf\n",
      "[LightGBM] [Warning] No further splits with positive gain, best gain: -inf\n",
      "[LightGBM] [Warning] No further splits with positive gain, best gain: -inf\n",
      "[LightGBM] [Warning] No further splits with positive gain, best gain: -inf\n",
      "[LightGBM] [Warning] No further splits with positive gain, best gain: -inf\n",
      "[LightGBM] [Warning] No further splits with positive gain, best gain: -inf\n",
      "[LightGBM] [Warning] No further splits with positive gain, best gain: -inf\n",
      "[LightGBM] [Warning] No further splits with positive gain, best gain: -inf\n",
      "[LightGBM] [Warning] No further splits with positive gain, best gain: -inf\n",
      "[LightGBM] [Warning] No further splits with positive gain, best gain: -inf\n",
      "[LightGBM] [Warning] No further splits with positive gain, best gain: -inf\n",
      "[LightGBM] [Warning] No further splits with positive gain, best gain: -inf\n",
      "[LightGBM] [Warning] No further splits with positive gain, best gain: -inf\n",
      "[LightGBM] [Warning] No further splits with positive gain, best gain: -inf\n",
      "[LightGBM] [Warning] No further splits with positive gain, best gain: -inf\n",
      "[LightGBM] [Warning] No further splits with positive gain, best gain: -inf\n",
      "[LightGBM] [Warning] No further splits with positive gain, best gain: -inf\n",
      "[LightGBM] [Warning] No further splits with positive gain, best gain: -inf\n",
      "[LightGBM] [Warning] No further splits with positive gain, best gain: -inf\n",
      "[LightGBM] [Warning] No further splits with positive gain, best gain: -inf\n",
      "[LightGBM] [Warning] No further splits with positive gain, best gain: -inf\n",
      "[LightGBM] [Warning] No further splits with positive gain, best gain: -inf\n",
      "[LightGBM] [Warning] No further splits with positive gain, best gain: -inf\n",
      "[LightGBM] [Warning] No further splits with positive gain, best gain: -inf\n",
      "[LightGBM] [Warning] No further splits with positive gain, best gain: -inf\n",
      "[LightGBM] [Warning] No further splits with positive gain, best gain: -inf\n",
      "[LightGBM] [Warning] No further splits with positive gain, best gain: -inf\n",
      "[LightGBM] [Warning] No further splits with positive gain, best gain: -inf\n",
      "[LightGBM] [Warning] No further splits with positive gain, best gain: -inf\n",
      "[LightGBM] [Warning] No further splits with positive gain, best gain: -inf\n",
      "[LightGBM] [Warning] No further splits with positive gain, best gain: -inf\n",
      "[800]\tvalid_0's l1: 0.0740774\n",
      "[LightGBM] [Warning] No further splits with positive gain, best gain: -inf\n",
      "[LightGBM] [Warning] No further splits with positive gain, best gain: -inf\n",
      "[LightGBM] [Warning] No further splits with positive gain, best gain: -inf\n",
      "[LightGBM] [Warning] No further splits with positive gain, best gain: -inf\n",
      "[LightGBM] [Warning] No further splits with positive gain, best gain: -inf\n",
      "[LightGBM] [Warning] No further splits with positive gain, best gain: -inf\n",
      "[LightGBM] [Warning] No further splits with positive gain, best gain: -inf\n",
      "[LightGBM] [Warning] No further splits with positive gain, best gain: -inf\n",
      "[LightGBM] [Warning] No further splits with positive gain, best gain: -inf\n",
      "[LightGBM] [Warning] No further splits with positive gain, best gain: -inf\n",
      "[LightGBM] [Warning] No further splits with positive gain, best gain: -inf\n",
      "[LightGBM] [Warning] No further splits with positive gain, best gain: -inf\n",
      "[LightGBM] [Warning] No further splits with positive gain, best gain: -inf\n",
      "[LightGBM] [Warning] No further splits with positive gain, best gain: -inf\n",
      "[LightGBM] [Warning] No further splits with positive gain, best gain: -inf\n",
      "[LightGBM] [Warning] No further splits with positive gain, best gain: -inf\n",
      "[LightGBM] [Warning] No further splits with positive gain, best gain: -inf\n",
      "[LightGBM] [Warning] No further splits with positive gain, best gain: -inf\n",
      "[LightGBM] [Warning] No further splits with positive gain, best gain: -inf\n",
      "[LightGBM] [Warning] No further splits with positive gain, best gain: -inf\n",
      "[LightGBM] [Warning] No further splits with positive gain, best gain: -inf\n",
      "[LightGBM] [Warning] No further splits with positive gain, best gain: -inf\n",
      "[LightGBM] [Warning] No further splits with positive gain, best gain: -inf\n",
      "[LightGBM] [Warning] No further splits with positive gain, best gain: -inf\n",
      "[LightGBM] [Warning] No further splits with positive gain, best gain: -inf\n",
      "[LightGBM] [Warning] No further splits with positive gain, best gain: -inf\n",
      "[LightGBM] [Warning] No further splits with positive gain, best gain: -inf\n",
      "[LightGBM] [Warning] No further splits with positive gain, best gain: -inf\n",
      "[LightGBM] [Warning] No further splits with positive gain, best gain: -inf\n",
      "[LightGBM] [Warning] No further splits with positive gain, best gain: -inf\n",
      "[LightGBM] [Warning] No further splits with positive gain, best gain: -inf\n",
      "[LightGBM] [Warning] No further splits with positive gain, best gain: -inf\n",
      "[LightGBM] [Warning] No further splits with positive gain, best gain: -inf\n",
      "[LightGBM] [Warning] No further splits with positive gain, best gain: -inf\n",
      "[LightGBM] [Warning] No further splits with positive gain, best gain: -inf\n",
      "[LightGBM] [Warning] No further splits with positive gain, best gain: -inf\n",
      "[LightGBM] [Warning] No further splits with positive gain, best gain: -inf\n",
      "[LightGBM] [Warning] No further splits with positive gain, best gain: -inf\n",
      "[LightGBM] [Warning] No further splits with positive gain, best gain: -inf\n",
      "[LightGBM] [Warning] No further splits with positive gain, best gain: -inf\n",
      "[LightGBM] [Warning] No further splits with positive gain, best gain: -inf\n",
      "[LightGBM] [Warning] No further splits with positive gain, best gain: -inf\n",
      "[LightGBM] [Warning] No further splits with positive gain, best gain: -inf\n",
      "[LightGBM] [Warning] No further splits with positive gain, best gain: -inf\n",
      "[LightGBM] [Warning] No further splits with positive gain, best gain: -inf\n",
      "[LightGBM] [Warning] No further splits with positive gain, best gain: -inf\n",
      "[LightGBM] [Warning] No further splits with positive gain, best gain: -inf\n",
      "[LightGBM] [Warning] No further splits with positive gain, best gain: -inf\n",
      "[LightGBM] [Warning] No further splits with positive gain, best gain: -inf\n",
      "[LightGBM] [Warning] No further splits with positive gain, best gain: -inf\n",
      "[LightGBM] [Warning] No further splits with positive gain, best gain: -inf\n",
      "[LightGBM] [Warning] No further splits with positive gain, best gain: -inf\n"
     ]
    },
    {
     "name": "stdout",
     "output_type": "stream",
     "text": [
      "[LightGBM] [Warning] No further splits with positive gain, best gain: -inf\n",
      "[LightGBM] [Warning] Stopped training because there are no more leaves that meet the split requirements\n",
      "[LightGBM] [Warning] No further splits with positive gain, best gain: -inf\n",
      "[LightGBM] [Warning] No further splits with positive gain, best gain: -inf\n",
      "[LightGBM] [Warning] No further splits with positive gain, best gain: -inf\n",
      "[LightGBM] [Warning] No further splits with positive gain, best gain: -inf\n",
      "[LightGBM] [Warning] No further splits with positive gain, best gain: -inf\n",
      "[LightGBM] [Warning] No further splits with positive gain, best gain: -inf\n",
      "[LightGBM] [Warning] No further splits with positive gain, best gain: -inf\n",
      "[LightGBM] [Warning] No further splits with positive gain, best gain: -inf\n",
      "[LightGBM] [Warning] No further splits with positive gain, best gain: -inf\n",
      "[LightGBM] [Warning] No further splits with positive gain, best gain: -inf\n",
      "[LightGBM] [Warning] No further splits with positive gain, best gain: -inf\n",
      "[LightGBM] [Warning] No further splits with positive gain, best gain: -inf\n",
      "[LightGBM] [Warning] No further splits with positive gain, best gain: -inf\n",
      "[LightGBM] [Warning] No further splits with positive gain, best gain: -inf\n",
      "[LightGBM] [Warning] No further splits with positive gain, best gain: -inf\n",
      "[LightGBM] [Warning] No further splits with positive gain, best gain: -inf\n",
      "[LightGBM] [Warning] No further splits with positive gain, best gain: -inf\n",
      "[LightGBM] [Warning] No further splits with positive gain, best gain: -inf\n",
      "[LightGBM] [Warning] Stopped training because there are no more leaves that meet the split requirements\n",
      "[LightGBM] [Warning] No further splits with positive gain, best gain: -inf\n",
      "[LightGBM] [Warning] No further splits with positive gain, best gain: -inf\n",
      "[LightGBM] [Warning] No further splits with positive gain, best gain: -inf\n",
      "[LightGBM] [Warning] No further splits with positive gain, best gain: -inf\n",
      "[LightGBM] [Warning] No further splits with positive gain, best gain: -inf\n",
      "[1000]\tvalid_0's l1: 0.0740445\n",
      "Did not meet early stopping. Best iteration is:\n",
      "[1000]\tvalid_0's l1: 0.0740445\n"
     ]
    },
    {
     "name": "stderr",
     "output_type": "stream",
     "text": [
      "min_data_in_leaf, val_score: 0.073999:  40%|####      | 2/5 [01:21<02:04, 41.49s/it]\u001b[32m[I 2021-06-12 11:49:33,508]\u001b[0m Trial 61 finished with value: 0.07404451174539037 and parameters: {'min_child_samples': 5}. Best is trial 60 with value: 0.07400610712347853.\u001b[0m\n",
      "min_data_in_leaf, val_score: 0.073999:  40%|####      | 2/5 [01:21<02:04, 41.49s/it]"
     ]
    },
    {
     "name": "stdout",
     "output_type": "stream",
     "text": [
      "[LightGBM] [Warning] Auto-choosing row-wise multi-threading, the overhead of testing was 0.013093 seconds.\n",
      "You can set `force_row_wise=true` to remove the overhead.\n",
      "And if memory is not enough, you can set `force_col_wise=true`.\n",
      "[LightGBM] [Info] Total Bins 12819\n",
      "[LightGBM] [Info] Number of data points in the train set: 521580, number of used features: 21\n",
      "[LightGBM] [Info] Start training from score 7.219070\n",
      "Training until validation scores don't improve for 100 rounds\n",
      "[LightGBM] [Warning] No further splits with positive gain, best gain: -inf\n",
      "[200]\tvalid_0's l1: 0.0753588\n",
      "[LightGBM] [Warning] No further splits with positive gain, best gain: -inf\n",
      "[LightGBM] [Warning] No further splits with positive gain, best gain: -inf\n",
      "[LightGBM] [Warning] No further splits with positive gain, best gain: -inf\n",
      "[LightGBM] [Warning] No further splits with positive gain, best gain: -inf\n",
      "[400]\tvalid_0's l1: 0.0743033\n",
      "[LightGBM] [Warning] No further splits with positive gain, best gain: -inf\n",
      "[LightGBM] [Warning] No further splits with positive gain, best gain: -inf\n",
      "[LightGBM] [Warning] No further splits with positive gain, best gain: -inf\n",
      "[LightGBM] [Warning] No further splits with positive gain, best gain: -inf\n",
      "[LightGBM] [Warning] No further splits with positive gain, best gain: -inf\n",
      "[LightGBM] [Warning] No further splits with positive gain, best gain: -inf\n",
      "[LightGBM] [Warning] No further splits with positive gain, best gain: -inf\n",
      "[LightGBM] [Warning] No further splits with positive gain, best gain: -inf\n",
      "[LightGBM] [Warning] No further splits with positive gain, best gain: -inf\n",
      "[LightGBM] [Warning] No further splits with positive gain, best gain: -inf\n",
      "[LightGBM] [Warning] No further splits with positive gain, best gain: -inf\n",
      "[LightGBM] [Warning] No further splits with positive gain, best gain: -inf\n",
      "[600]\tvalid_0's l1: 0.0740559\n",
      "[LightGBM] [Warning] No further splits with positive gain, best gain: -inf\n",
      "[LightGBM] [Warning] No further splits with positive gain, best gain: -inf\n",
      "[LightGBM] [Warning] No further splits with positive gain, best gain: -inf\n",
      "[LightGBM] [Warning] No further splits with positive gain, best gain: -inf\n",
      "[LightGBM] [Warning] No further splits with positive gain, best gain: -inf\n",
      "[LightGBM] [Warning] No further splits with positive gain, best gain: -inf\n",
      "[LightGBM] [Warning] No further splits with positive gain, best gain: -inf\n",
      "[LightGBM] [Warning] No further splits with positive gain, best gain: -inf\n",
      "[LightGBM] [Warning] No further splits with positive gain, best gain: -inf\n",
      "[LightGBM] [Warning] No further splits with positive gain, best gain: -inf\n",
      "[LightGBM] [Warning] No further splits with positive gain, best gain: -inf\n",
      "[LightGBM] [Warning] No further splits with positive gain, best gain: -inf\n",
      "[LightGBM] [Warning] No further splits with positive gain, best gain: -inf\n",
      "[LightGBM] [Warning] No further splits with positive gain, best gain: -inf\n",
      "[LightGBM] [Warning] No further splits with positive gain, best gain: -inf\n",
      "[LightGBM] [Warning] No further splits with positive gain, best gain: -inf\n",
      "[LightGBM] [Warning] No further splits with positive gain, best gain: -inf\n",
      "[LightGBM] [Warning] No further splits with positive gain, best gain: -inf\n",
      "[LightGBM] [Warning] No further splits with positive gain, best gain: -inf\n",
      "[LightGBM] [Warning] No further splits with positive gain, best gain: -inf\n",
      "[LightGBM] [Warning] No further splits with positive gain, best gain: -inf\n",
      "[LightGBM] [Warning] No further splits with positive gain, best gain: -inf\n",
      "[LightGBM] [Warning] No further splits with positive gain, best gain: -inf\n",
      "[LightGBM] [Warning] No further splits with positive gain, best gain: -inf\n",
      "[LightGBM] [Warning] No further splits with positive gain, best gain: -inf\n",
      "[LightGBM] [Warning] No further splits with positive gain, best gain: -inf\n",
      "[LightGBM] [Warning] No further splits with positive gain, best gain: -inf\n",
      "[LightGBM] [Warning] No further splits with positive gain, best gain: -inf\n",
      "[LightGBM] [Warning] No further splits with positive gain, best gain: -inf\n",
      "[LightGBM] [Warning] No further splits with positive gain, best gain: -inf\n",
      "[LightGBM] [Warning] No further splits with positive gain, best gain: -inf\n",
      "[LightGBM] [Warning] No further splits with positive gain, best gain: -inf\n",
      "[LightGBM] [Warning] No further splits with positive gain, best gain: -inf\n",
      "[LightGBM] [Warning] No further splits with positive gain, best gain: -inf\n",
      "[LightGBM] [Warning] No further splits with positive gain, best gain: -inf\n",
      "[LightGBM] [Warning] No further splits with positive gain, best gain: -inf\n",
      "[LightGBM] [Warning] No further splits with positive gain, best gain: -inf\n",
      "[LightGBM] [Warning] No further splits with positive gain, best gain: -inf\n",
      "[800]\tvalid_0's l1: 0.0740291\n",
      "[LightGBM] [Warning] No further splits with positive gain, best gain: -inf\n",
      "[LightGBM] [Warning] No further splits with positive gain, best gain: -inf\n",
      "[LightGBM] [Warning] No further splits with positive gain, best gain: -inf\n",
      "[LightGBM] [Warning] No further splits with positive gain, best gain: -inf\n",
      "Early stopping, best iteration is:\n",
      "[717]\tvalid_0's l1: 0.0740069\n"
     ]
    },
    {
     "name": "stderr",
     "output_type": "stream",
     "text": [
      "min_data_in_leaf, val_score: 0.073999:  60%|######    | 3/5 [02:00<01:20, 40.12s/it]\u001b[32m[I 2021-06-12 11:50:12,003]\u001b[0m Trial 62 finished with value: 0.07400691546567444 and parameters: {'min_child_samples': 25}. Best is trial 60 with value: 0.07400610712347853.\u001b[0m\n",
      "min_data_in_leaf, val_score: 0.073999:  60%|######    | 3/5 [02:00<01:20, 40.12s/it]"
     ]
    },
    {
     "name": "stdout",
     "output_type": "stream",
     "text": [
      "[LightGBM] [Warning] Auto-choosing row-wise multi-threading, the overhead of testing was 0.013419 seconds.\n",
      "You can set `force_row_wise=true` to remove the overhead.\n",
      "And if memory is not enough, you can set `force_col_wise=true`.\n",
      "[LightGBM] [Info] Total Bins 12819\n",
      "[LightGBM] [Info] Number of data points in the train set: 521580, number of used features: 21\n",
      "[LightGBM] [Info] Start training from score 7.219070\n",
      "Training until validation scores don't improve for 100 rounds\n",
      "[200]\tvalid_0's l1: 0.075339\n",
      "[LightGBM] [Warning] No further splits with positive gain, best gain: -inf\n",
      "[LightGBM] [Warning] No further splits with positive gain, best gain: -inf\n",
      "[LightGBM] [Warning] No further splits with positive gain, best gain: -inf\n",
      "[LightGBM] [Warning] No further splits with positive gain, best gain: -inf\n",
      "[400]\tvalid_0's l1: 0.0742712\n",
      "[LightGBM] [Warning] No further splits with positive gain, best gain: -inf\n",
      "[LightGBM] [Warning] No further splits with positive gain, best gain: -inf\n",
      "[LightGBM] [Warning] No further splits with positive gain, best gain: -inf\n",
      "[LightGBM] [Warning] No further splits with positive gain, best gain: -inf\n",
      "[LightGBM] [Warning] No further splits with positive gain, best gain: -inf\n",
      "[LightGBM] [Warning] No further splits with positive gain, best gain: -inf\n",
      "[LightGBM] [Warning] No further splits with positive gain, best gain: -inf\n",
      "[LightGBM] [Warning] No further splits with positive gain, best gain: -inf\n",
      "[LightGBM] [Warning] No further splits with positive gain, best gain: -inf\n",
      "[LightGBM] [Warning] No further splits with positive gain, best gain: -inf\n",
      "[LightGBM] [Warning] No further splits with positive gain, best gain: -inf\n",
      "[LightGBM] [Warning] No further splits with positive gain, best gain: -inf\n",
      "[LightGBM] [Warning] No further splits with positive gain, best gain: -inf\n",
      "[LightGBM] [Warning] No further splits with positive gain, best gain: -inf\n",
      "[LightGBM] [Warning] No further splits with positive gain, best gain: -inf\n",
      "[600]\tvalid_0's l1: 0.0740239\n",
      "[LightGBM] [Warning] No further splits with positive gain, best gain: -inf\n",
      "[LightGBM] [Warning] No further splits with positive gain, best gain: -inf\n",
      "[LightGBM] [Warning] No further splits with positive gain, best gain: -inf\n",
      "[LightGBM] [Warning] No further splits with positive gain, best gain: -inf\n",
      "[LightGBM] [Warning] No further splits with positive gain, best gain: -inf\n",
      "[LightGBM] [Warning] No further splits with positive gain, best gain: -inf\n",
      "[LightGBM] [Warning] No further splits with positive gain, best gain: -inf\n",
      "[LightGBM] [Warning] No further splits with positive gain, best gain: -inf\n",
      "[LightGBM] [Warning] No further splits with positive gain, best gain: -inf\n",
      "[LightGBM] [Warning] No further splits with positive gain, best gain: -inf\n",
      "[LightGBM] [Warning] No further splits with positive gain, best gain: -inf\n",
      "[LightGBM] [Warning] No further splits with positive gain, best gain: -inf\n",
      "[LightGBM] [Warning] No further splits with positive gain, best gain: -inf\n",
      "[LightGBM] [Warning] No further splits with positive gain, best gain: -inf\n",
      "[LightGBM] [Warning] No further splits with positive gain, best gain: -inf\n",
      "[LightGBM] [Warning] No further splits with positive gain, best gain: -inf\n",
      "[LightGBM] [Warning] No further splits with positive gain, best gain: -inf\n",
      "[LightGBM] [Warning] No further splits with positive gain, best gain: -inf\n",
      "[LightGBM] [Warning] No further splits with positive gain, best gain: -inf\n",
      "[LightGBM] [Warning] No further splits with positive gain, best gain: -inf\n",
      "[LightGBM] [Warning] No further splits with positive gain, best gain: -inf\n",
      "[LightGBM] [Warning] No further splits with positive gain, best gain: -inf\n",
      "[LightGBM] [Warning] No further splits with positive gain, best gain: -inf\n",
      "[LightGBM] [Warning] No further splits with positive gain, best gain: -inf\n",
      "[LightGBM] [Warning] No further splits with positive gain, best gain: -inf\n",
      "[LightGBM] [Warning] No further splits with positive gain, best gain: -inf\n",
      "[LightGBM] [Warning] No further splits with positive gain, best gain: -inf\n",
      "[LightGBM] [Warning] No further splits with positive gain, best gain: -inf\n",
      "[LightGBM] [Warning] No further splits with positive gain, best gain: -inf\n",
      "[LightGBM] [Warning] No further splits with positive gain, best gain: -inf\n",
      "[LightGBM] [Warning] No further splits with positive gain, best gain: -inf\n",
      "[LightGBM] [Warning] No further splits with positive gain, best gain: -inf\n",
      "[LightGBM] [Warning] No further splits with positive gain, best gain: -inf\n",
      "[LightGBM] [Warning] No further splits with positive gain, best gain: -inf\n",
      "[LightGBM] [Warning] No further splits with positive gain, best gain: -inf\n",
      "[LightGBM] [Warning] No further splits with positive gain, best gain: -inf\n",
      "[LightGBM] [Warning] No further splits with positive gain, best gain: -inf\n",
      "[800]\tvalid_0's l1: 0.0739682\n",
      "[LightGBM] [Warning] No further splits with positive gain, best gain: -inf\n",
      "[LightGBM] [Warning] No further splits with positive gain, best gain: -inf\n",
      "[LightGBM] [Warning] No further splits with positive gain, best gain: -inf\n",
      "Early stopping, best iteration is:\n",
      "[707]\tvalid_0's l1: 0.0739617\n"
     ]
    },
    {
     "name": "stderr",
     "output_type": "stream",
     "text": [
      "min_data_in_leaf, val_score: 0.073962:  80%|########  | 4/5 [02:38<00:39, 39.42s/it]\u001b[32m[I 2021-06-12 11:50:50,347]\u001b[0m Trial 63 finished with value: 0.07396174152172884 and parameters: {'min_child_samples': 50}. Best is trial 63 with value: 0.07396174152172884.\u001b[0m\n",
      "min_data_in_leaf, val_score: 0.073962:  80%|########  | 4/5 [02:38<00:39, 39.42s/it]"
     ]
    },
    {
     "name": "stdout",
     "output_type": "stream",
     "text": [
      "[LightGBM] [Warning] Auto-choosing row-wise multi-threading, the overhead of testing was 0.013296 seconds.\n",
      "You can set `force_row_wise=true` to remove the overhead.\n",
      "And if memory is not enough, you can set `force_col_wise=true`.\n",
      "[LightGBM] [Info] Total Bins 12819\n",
      "[LightGBM] [Info] Number of data points in the train set: 521580, number of used features: 21\n",
      "[LightGBM] [Info] Start training from score 7.219070\n",
      "Training until validation scores don't improve for 100 rounds\n",
      "[200]\tvalid_0's l1: 0.0753436\n",
      "[LightGBM] [Warning] No further splits with positive gain, best gain: -inf\n",
      "[LightGBM] [Warning] No further splits with positive gain, best gain: -inf\n",
      "[400]\tvalid_0's l1: 0.0742783\n",
      "[LightGBM] [Warning] No further splits with positive gain, best gain: -inf\n",
      "[LightGBM] [Warning] No further splits with positive gain, best gain: -inf\n",
      "[LightGBM] [Warning] No further splits with positive gain, best gain: -inf\n",
      "[LightGBM] [Warning] No further splits with positive gain, best gain: -inf\n",
      "[LightGBM] [Warning] No further splits with positive gain, best gain: -inf\n",
      "[LightGBM] [Warning] No further splits with positive gain, best gain: -inf\n",
      "[LightGBM] [Warning] No further splits with positive gain, best gain: -inf\n",
      "[LightGBM] [Warning] No further splits with positive gain, best gain: -inf\n",
      "[LightGBM] [Warning] No further splits with positive gain, best gain: -inf\n",
      "[LightGBM] [Warning] No further splits with positive gain, best gain: -inf\n",
      "[LightGBM] [Warning] No further splits with positive gain, best gain: -inf\n",
      "[600]\tvalid_0's l1: 0.0740331\n",
      "[LightGBM] [Warning] No further splits with positive gain, best gain: -inf\n",
      "[LightGBM] [Warning] No further splits with positive gain, best gain: -inf\n",
      "[LightGBM] [Warning] No further splits with positive gain, best gain: -inf\n",
      "[LightGBM] [Warning] No further splits with positive gain, best gain: -inf\n",
      "[LightGBM] [Warning] No further splits with positive gain, best gain: -inf\n",
      "[LightGBM] [Warning] No further splits with positive gain, best gain: -inf\n",
      "[LightGBM] [Warning] No further splits with positive gain, best gain: -inf\n",
      "[LightGBM] [Warning] No further splits with positive gain, best gain: -inf\n",
      "[LightGBM] [Warning] No further splits with positive gain, best gain: -inf\n",
      "[LightGBM] [Warning] No further splits with positive gain, best gain: -inf\n",
      "[LightGBM] [Warning] No further splits with positive gain, best gain: -inf\n",
      "[LightGBM] [Warning] No further splits with positive gain, best gain: -inf\n",
      "[LightGBM] [Warning] No further splits with positive gain, best gain: -inf\n",
      "[LightGBM] [Warning] No further splits with positive gain, best gain: -inf\n",
      "[LightGBM] [Warning] No further splits with positive gain, best gain: -inf\n",
      "[LightGBM] [Warning] No further splits with positive gain, best gain: -inf\n",
      "[LightGBM] [Warning] No further splits with positive gain, best gain: -inf\n",
      "[LightGBM] [Warning] No further splits with positive gain, best gain: -inf\n",
      "[LightGBM] [Warning] No further splits with positive gain, best gain: -inf\n",
      "[LightGBM] [Warning] No further splits with positive gain, best gain: -inf\n",
      "[LightGBM] [Warning] No further splits with positive gain, best gain: -inf\n",
      "[LightGBM] [Warning] No further splits with positive gain, best gain: -inf\n",
      "[LightGBM] [Warning] No further splits with positive gain, best gain: -inf\n",
      "[LightGBM] [Warning] No further splits with positive gain, best gain: -inf\n",
      "[LightGBM] [Warning] No further splits with positive gain, best gain: -inf\n",
      "[LightGBM] [Warning] No further splits with positive gain, best gain: -inf\n",
      "[LightGBM] [Warning] No further splits with positive gain, best gain: -inf\n",
      "[LightGBM] [Warning] No further splits with positive gain, best gain: -inf\n",
      "[LightGBM] [Warning] No further splits with positive gain, best gain: -inf\n",
      "[LightGBM] [Warning] No further splits with positive gain, best gain: -inf\n",
      "[LightGBM] [Warning] No further splits with positive gain, best gain: -inf\n",
      "[LightGBM] [Warning] No further splits with positive gain, best gain: -inf\n",
      "[LightGBM] [Warning] No further splits with positive gain, best gain: -inf\n",
      "[LightGBM] [Warning] No further splits with positive gain, best gain: -inf\n",
      "Early stopping, best iteration is:\n",
      "[673]\tvalid_0's l1: 0.0739851\n"
     ]
    },
    {
     "name": "stderr",
     "output_type": "stream",
     "text": [
      "min_data_in_leaf, val_score: 0.073962: 100%|##########| 5/5 [03:15<00:00, 38.57s/it]\u001b[32m[I 2021-06-12 11:51:27,417]\u001b[0m Trial 64 finished with value: 0.07398511173101295 and parameters: {'min_child_samples': 100}. Best is trial 63 with value: 0.07396174152172884.\u001b[0m\n",
      "min_data_in_leaf, val_score: 0.073962: 100%|##########| 5/5 [03:15<00:00, 39.18s/it]"
     ]
    },
    {
     "name": "stdout",
     "output_type": "stream",
     "text": [
      "elaptedtime: 2521.6375272274017\n"
     ]
    },
    {
     "name": "stderr",
     "output_type": "stream",
     "text": [
      "\n"
     ]
    }
   ],
   "source": [
    "opt_params = {\n",
    "    \"objective\":\"regression\",\n",
    "    \"metric\":\"mae\"\n",
    "}\n",
    "\n",
    "import time\n",
    "start = time.time()\n",
    "opt=lgb.train(\n",
    "    opt_params,\n",
    "    trains,\n",
    "    valid_sets = valids,\n",
    "    verbose_eval=200,\n",
    "    num_boost_round = 1000,\n",
    "    early_stopping_rounds = 100\n",
    ")\n",
    "end = time.time()\n",
    "print('elaptedtime:', end-start)"
   ]
  },
  {
   "cell_type": "code",
   "execution_count": 103,
   "id": "incorrect-ticket",
   "metadata": {},
   "outputs": [
    {
     "name": "stderr",
     "output_type": "stream",
     "text": [
      "/opt/conda/lib/python3.7/site-packages/lightgbm/engine.py:148: UserWarning: Found `num_iterations` in params. Will use it instead of argument\n",
      "  _log_warning(\"Found `{}` in params. Will use it instead of argument\".format(alias))\n",
      "/opt/conda/lib/python3.7/site-packages/lightgbm/engine.py:153: UserWarning: Found `early_stopping_round` in params. Will use it instead of argument\n",
      "  _log_warning(\"Found `{}` in params. Will use it instead of argument\".format(alias))\n"
     ]
    },
    {
     "name": "stdout",
     "output_type": "stream",
     "text": [
      "[LightGBM] [Warning] Auto-choosing row-wise multi-threading, the overhead of testing was 0.014275 seconds.\n",
      "You can set `force_row_wise=true` to remove the overhead.\n",
      "And if memory is not enough, you can set `force_col_wise=true`.\n",
      "[LightGBM] [Info] Total Bins 12819\n",
      "[LightGBM] [Info] Number of data points in the train set: 521580, number of used features: 21\n",
      "[LightGBM] [Info] Start training from score 7.219070\n",
      "Training until validation scores don't improve for 100 rounds\n",
      "[200]\tvalid_0's l1: 0.075339\n",
      "[LightGBM] [Warning] No further splits with positive gain, best gain: -inf\n",
      "[LightGBM] [Warning] No further splits with positive gain, best gain: -inf\n",
      "[LightGBM] [Warning] No further splits with positive gain, best gain: -inf\n",
      "[LightGBM] [Warning] No further splits with positive gain, best gain: -inf\n",
      "[400]\tvalid_0's l1: 0.0742712\n",
      "[LightGBM] [Warning] No further splits with positive gain, best gain: -inf\n",
      "[LightGBM] [Warning] No further splits with positive gain, best gain: -inf\n",
      "[LightGBM] [Warning] No further splits with positive gain, best gain: -inf\n",
      "[LightGBM] [Warning] No further splits with positive gain, best gain: -inf\n",
      "[LightGBM] [Warning] No further splits with positive gain, best gain: -inf\n",
      "[LightGBM] [Warning] No further splits with positive gain, best gain: -inf\n",
      "[LightGBM] [Warning] No further splits with positive gain, best gain: -inf\n",
      "[LightGBM] [Warning] No further splits with positive gain, best gain: -inf\n",
      "[LightGBM] [Warning] No further splits with positive gain, best gain: -inf\n",
      "[LightGBM] [Warning] No further splits with positive gain, best gain: -inf\n",
      "[LightGBM] [Warning] No further splits with positive gain, best gain: -inf\n",
      "[LightGBM] [Warning] No further splits with positive gain, best gain: -inf\n",
      "[LightGBM] [Warning] No further splits with positive gain, best gain: -inf\n",
      "[LightGBM] [Warning] No further splits with positive gain, best gain: -inf\n",
      "[LightGBM] [Warning] No further splits with positive gain, best gain: -inf\n",
      "[600]\tvalid_0's l1: 0.0740239\n",
      "[LightGBM] [Warning] No further splits with positive gain, best gain: -inf\n",
      "[LightGBM] [Warning] No further splits with positive gain, best gain: -inf\n",
      "[LightGBM] [Warning] No further splits with positive gain, best gain: -inf\n",
      "[LightGBM] [Warning] No further splits with positive gain, best gain: -inf\n",
      "[LightGBM] [Warning] No further splits with positive gain, best gain: -inf\n",
      "[LightGBM] [Warning] No further splits with positive gain, best gain: -inf\n",
      "[LightGBM] [Warning] No further splits with positive gain, best gain: -inf\n",
      "[LightGBM] [Warning] No further splits with positive gain, best gain: -inf\n",
      "[LightGBM] [Warning] No further splits with positive gain, best gain: -inf\n",
      "[LightGBM] [Warning] No further splits with positive gain, best gain: -inf\n",
      "[LightGBM] [Warning] No further splits with positive gain, best gain: -inf\n",
      "[LightGBM] [Warning] No further splits with positive gain, best gain: -inf\n",
      "[LightGBM] [Warning] No further splits with positive gain, best gain: -inf\n",
      "[LightGBM] [Warning] No further splits with positive gain, best gain: -inf\n",
      "[LightGBM] [Warning] No further splits with positive gain, best gain: -inf\n",
      "[LightGBM] [Warning] No further splits with positive gain, best gain: -inf\n",
      "[LightGBM] [Warning] No further splits with positive gain, best gain: -inf\n",
      "[LightGBM] [Warning] No further splits with positive gain, best gain: -inf\n",
      "[LightGBM] [Warning] No further splits with positive gain, best gain: -inf\n",
      "[LightGBM] [Warning] No further splits with positive gain, best gain: -inf\n",
      "[LightGBM] [Warning] No further splits with positive gain, best gain: -inf\n",
      "[LightGBM] [Warning] No further splits with positive gain, best gain: -inf\n",
      "[LightGBM] [Warning] No further splits with positive gain, best gain: -inf\n",
      "[LightGBM] [Warning] No further splits with positive gain, best gain: -inf\n",
      "[LightGBM] [Warning] No further splits with positive gain, best gain: -inf\n",
      "[LightGBM] [Warning] No further splits with positive gain, best gain: -inf\n",
      "[LightGBM] [Warning] No further splits with positive gain, best gain: -inf\n",
      "[LightGBM] [Warning] No further splits with positive gain, best gain: -inf\n",
      "[LightGBM] [Warning] No further splits with positive gain, best gain: -inf\n",
      "[LightGBM] [Warning] No further splits with positive gain, best gain: -inf\n",
      "[LightGBM] [Warning] No further splits with positive gain, best gain: -inf\n",
      "[LightGBM] [Warning] No further splits with positive gain, best gain: -inf\n",
      "[LightGBM] [Warning] No further splits with positive gain, best gain: -inf\n",
      "[LightGBM] [Warning] No further splits with positive gain, best gain: -inf\n",
      "[LightGBM] [Warning] No further splits with positive gain, best gain: -inf\n",
      "[LightGBM] [Warning] No further splits with positive gain, best gain: -inf\n",
      "[LightGBM] [Warning] No further splits with positive gain, best gain: -inf\n",
      "[800]\tvalid_0's l1: 0.0739682\n",
      "[LightGBM] [Warning] No further splits with positive gain, best gain: -inf\n",
      "[LightGBM] [Warning] No further splits with positive gain, best gain: -inf\n",
      "[LightGBM] [Warning] No further splits with positive gain, best gain: -inf\n",
      "Early stopping, best iteration is:\n",
      "[707]\tvalid_0's l1: 0.0739617\n"
     ]
    }
   ],
   "source": [
    "# lightGBM\n",
    "import lightgbm as lgb\n",
    "best_params = opt.params\n",
    "model = lgb.train(best_params, trains, valid_sets=valids, num_boost_round=1000, early_stopping_rounds=100, verbose_eval=200)"
   ]
  },
  {
   "cell_type": "code",
   "execution_count": 104,
   "id": "future-control",
   "metadata": {},
   "outputs": [
    {
     "data": {
      "text/plain": [
       "0.07396174267064308"
      ]
     },
     "execution_count": 104,
     "metadata": {},
     "output_type": "execute_result"
    }
   ],
   "source": [
    "vals = model.predict(val_x)\n",
    "mae(vals, val_y)"
   ]
  },
  {
   "cell_type": "code",
   "execution_count": 105,
   "id": "twelve-hepatitis",
   "metadata": {},
   "outputs": [
    {
     "data": {
      "text/html": [
       "<div>\n",
       "<style scoped>\n",
       "    .dataframe tbody tr th:only-of-type {\n",
       "        vertical-align: middle;\n",
       "    }\n",
       "\n",
       "    .dataframe tbody tr th {\n",
       "        vertical-align: top;\n",
       "    }\n",
       "\n",
       "    .dataframe thead th {\n",
       "        text-align: right;\n",
       "    }\n",
       "</style>\n",
       "<table border=\"1\" class=\"dataframe\">\n",
       "  <thead>\n",
       "    <tr style=\"text-align: right;\">\n",
       "      <th></th>\n",
       "      <th>importance</th>\n",
       "    </tr>\n",
       "  </thead>\n",
       "  <tbody>\n",
       "    <tr>\n",
       "      <th>地区名</th>\n",
       "      <td>19381</td>\n",
       "    </tr>\n",
       "    <tr>\n",
       "      <th>最寄駅：名称</th>\n",
       "      <td>16794</td>\n",
       "    </tr>\n",
       "    <tr>\n",
       "      <th>市区町村名</th>\n",
       "      <td>9133</td>\n",
       "    </tr>\n",
       "    <tr>\n",
       "      <th>建築年</th>\n",
       "      <td>4314</td>\n",
       "    </tr>\n",
       "    <tr>\n",
       "      <th>取引時点</th>\n",
       "      <td>3782</td>\n",
       "    </tr>\n",
       "    <tr>\n",
       "      <th>間取り</th>\n",
       "      <td>2819</td>\n",
       "    </tr>\n",
       "    <tr>\n",
       "      <th>面積（㎡）</th>\n",
       "      <td>2620</td>\n",
       "    </tr>\n",
       "    <tr>\n",
       "      <th>最寄駅：距離（分）</th>\n",
       "      <td>2453</td>\n",
       "    </tr>\n",
       "    <tr>\n",
       "      <th>都市計画</th>\n",
       "      <td>2423</td>\n",
       "    </tr>\n",
       "    <tr>\n",
       "      <th>都道府県名</th>\n",
       "      <td>2420</td>\n",
       "    </tr>\n",
       "    <tr>\n",
       "      <th>容積率（％）</th>\n",
       "      <td>1710</td>\n",
       "    </tr>\n",
       "    <tr>\n",
       "      <th>平均価格</th>\n",
       "      <td>1555</td>\n",
       "    </tr>\n",
       "    <tr>\n",
       "      <th>経度</th>\n",
       "      <td>1489</td>\n",
       "    </tr>\n",
       "    <tr>\n",
       "      <th>緯度</th>\n",
       "      <td>1445</td>\n",
       "    </tr>\n",
       "    <tr>\n",
       "      <th>乗車数</th>\n",
       "      <td>945</td>\n",
       "    </tr>\n",
       "    <tr>\n",
       "      <th>今後の利用目的</th>\n",
       "      <td>702</td>\n",
       "    </tr>\n",
       "    <tr>\n",
       "      <th>建物の構造</th>\n",
       "      <td>648</td>\n",
       "    </tr>\n",
       "    <tr>\n",
       "      <th>建ぺい率（％）</th>\n",
       "      <td>496</td>\n",
       "    </tr>\n",
       "    <tr>\n",
       "      <th>用途</th>\n",
       "      <td>369</td>\n",
       "    </tr>\n",
       "    <tr>\n",
       "      <th>取引の事情等</th>\n",
       "      <td>368</td>\n",
       "    </tr>\n",
       "    <tr>\n",
       "      <th>改装</th>\n",
       "      <td>290</td>\n",
       "    </tr>\n",
       "  </tbody>\n",
       "</table>\n",
       "</div>"
      ],
      "text/plain": [
       "           importance\n",
       "地区名             19381\n",
       "最寄駅：名称          16794\n",
       "市区町村名            9133\n",
       "建築年              4314\n",
       "取引時点             3782\n",
       "間取り              2819\n",
       "面積（㎡）            2620\n",
       "最寄駅：距離（分）        2453\n",
       "都市計画             2423\n",
       "都道府県名            2420\n",
       "容積率（％）           1710\n",
       "平均価格             1555\n",
       "経度               1489\n",
       "緯度               1445\n",
       "乗車数               945\n",
       "今後の利用目的           702\n",
       "建物の構造             648\n",
       "建ぺい率（％）           496\n",
       "用途                369\n",
       "取引の事情等            368\n",
       "改装                290"
      ]
     },
     "execution_count": 105,
     "metadata": {},
     "output_type": "execute_result"
    }
   ],
   "source": [
    "pd.DataFrame(model.feature_importance(), index=val_x.columns, columns=[\"importance\"]).sort_values(\"importance\", ascending=False)"
   ]
  },
  {
   "cell_type": "code",
   "execution_count": 114,
   "id": "italic-sending",
   "metadata": {},
   "outputs": [],
   "source": [
    "df_test[\"乗車数\"] = df_test[\"最寄駅：名称\"].apply(lambda x: rides_number(x))"
   ]
  },
  {
   "cell_type": "code",
   "execution_count": 115,
   "id": "attempted-today",
   "metadata": {},
   "outputs": [
    {
     "name": "stdout",
     "output_type": "stream",
     "text": [
      "<class 'pandas.core.frame.DataFrame'>\n",
      "Int64Index: 17894 entries, 1000000 to 47008203\n",
      "Data columns (total 21 columns):\n",
      " #   Column     Non-Null Count  Dtype   \n",
      "---  ------     --------------  -----   \n",
      " 0   都道府県名      17894 non-null  category\n",
      " 1   市区町村名      17894 non-null  category\n",
      " 2   地区名        17891 non-null  category\n",
      " 3   最寄駅：名称     17871 non-null  category\n",
      " 4   最寄駅：距離（分）  17871 non-null  float64 \n",
      " 5   間取り        17082 non-null  category\n",
      " 6   面積（㎡）      17894 non-null  float64 \n",
      " 7   建築年        17287 non-null  float64 \n",
      " 8   建物の構造      16776 non-null  category\n",
      " 9   用途         12524 non-null  category\n",
      " 10  今後の利用目的    17099 non-null  category\n",
      " 11  都市計画       17617 non-null  category\n",
      " 12  建ぺい率（％）    17529 non-null  float64 \n",
      " 13  容積率（％）     17529 non-null  float64 \n",
      " 14  取引時点       17894 non-null  float64 \n",
      " 15  改装         15627 non-null  category\n",
      " 16  取引の事情等     93 non-null     category\n",
      " 17  緯度         17894 non-null  float64 \n",
      " 18  経度         17894 non-null  float64 \n",
      " 19  平均価格       17894 non-null  float64 \n",
      " 20  乗車数        17871 non-null  float64 \n",
      "dtypes: category(11), float64(10)\n",
      "memory usage: 2.0 MB\n"
     ]
    }
   ],
   "source": [
    "df_test.info()"
   ]
  },
  {
   "cell_type": "code",
   "execution_count": 111,
   "id": "clean-horror",
   "metadata": {},
   "outputs": [
    {
     "name": "stdout",
     "output_type": "stream",
     "text": [
      "<class 'pandas.core.frame.DataFrame'>\n",
      "Int64Index: 651975 entries, 1117225 to 47008266\n",
      "Data columns (total 22 columns):\n",
      " #   Column        Non-Null Count   Dtype   \n",
      "---  ------        --------------   -----   \n",
      " 0   都道府県名         651975 non-null  category\n",
      " 1   市区町村名         651975 non-null  category\n",
      " 2   地区名           651318 non-null  category\n",
      " 3   最寄駅：名称        649342 non-null  category\n",
      " 4   最寄駅：距離（分）     628916 non-null  float64 \n",
      " 5   間取り           629546 non-null  category\n",
      " 6   面積（㎡）         651975 non-null  float64 \n",
      " 7   建築年           633280 non-null  float64 \n",
      " 8   建物の構造         637098 non-null  category\n",
      " 9   用途            601333 non-null  category\n",
      " 10  今後の利用目的       288948 non-null  category\n",
      " 11  都市計画          633162 non-null  category\n",
      " 12  建ぺい率（％）       629168 non-null  float64 \n",
      " 13  容積率（％）        629168 non-null  float64 \n",
      " 14  取引時点          651975 non-null  float64 \n",
      " 15  改装            593301 non-null  category\n",
      " 16  取引の事情等        18397 non-null   category\n",
      " 17  取引価格（総額）_log  651975 non-null  float64 \n",
      " 18  緯度            651975 non-null  float64 \n",
      " 19  経度            651975 non-null  float64 \n",
      " 20  平均価格          651975 non-null  float64 \n",
      " 21  乗車数           649342 non-null  float64 \n",
      "dtypes: category(11), float64(11)\n",
      "memory usage: 68.9 MB\n"
     ]
    }
   ],
   "source": [
    "df.info()"
   ]
  },
  {
   "cell_type": "code",
   "execution_count": 116,
   "id": "composite-threat",
   "metadata": {},
   "outputs": [],
   "source": [
    "predict = model.predict(df_test)\n",
    "df_test[\"取引価格（総額）_log\"] = predict\n",
    "df_test[[\"取引価格（総額）_log\"]].to_csv(\"./output/18_sub.csv\")"
   ]
  },
  {
   "cell_type": "code",
   "execution_count": 15,
   "id": "congressional-vocabulary",
   "metadata": {},
   "outputs": [
    {
     "data": {
      "text/html": [
       "<div>\n",
       "<style scoped>\n",
       "    .dataframe tbody tr th:only-of-type {\n",
       "        vertical-align: middle;\n",
       "    }\n",
       "\n",
       "    .dataframe tbody tr th {\n",
       "        vertical-align: top;\n",
       "    }\n",
       "\n",
       "    .dataframe thead th {\n",
       "        text-align: right;\n",
       "    }\n",
       "</style>\n",
       "<table border=\"1\" class=\"dataframe\">\n",
       "  <thead>\n",
       "    <tr style=\"text-align: right;\">\n",
       "      <th></th>\n",
       "      <th>都道府県名</th>\n",
       "      <th>市区町村名</th>\n",
       "      <th>地区名</th>\n",
       "      <th>最寄駅：名称</th>\n",
       "      <th>最寄駅：距離（分）</th>\n",
       "      <th>間取り</th>\n",
       "      <th>面積（㎡）</th>\n",
       "      <th>建築年</th>\n",
       "      <th>建物の構造</th>\n",
       "      <th>用途</th>\n",
       "      <th>...</th>\n",
       "      <th>建ぺい率（％）</th>\n",
       "      <th>容積率（％）</th>\n",
       "      <th>取引時点</th>\n",
       "      <th>改装</th>\n",
       "      <th>取引の事情等</th>\n",
       "      <th>取引価格（総額）_log</th>\n",
       "      <th>緯度</th>\n",
       "      <th>経度</th>\n",
       "      <th>都市距離</th>\n",
       "      <th>平均価格</th>\n",
       "    </tr>\n",
       "    <tr>\n",
       "      <th>ID</th>\n",
       "      <th></th>\n",
       "      <th></th>\n",
       "      <th></th>\n",
       "      <th></th>\n",
       "      <th></th>\n",
       "      <th></th>\n",
       "      <th></th>\n",
       "      <th></th>\n",
       "      <th></th>\n",
       "      <th></th>\n",
       "      <th></th>\n",
       "      <th></th>\n",
       "      <th></th>\n",
       "      <th></th>\n",
       "      <th></th>\n",
       "      <th></th>\n",
       "      <th></th>\n",
       "      <th></th>\n",
       "      <th></th>\n",
       "      <th></th>\n",
       "      <th></th>\n",
       "    </tr>\n",
       "  </thead>\n",
       "  <tbody>\n",
       "    <tr>\n",
       "      <th>1117225</th>\n",
       "      <td>北海道</td>\n",
       "      <td>苫小牧市</td>\n",
       "      <td>新中野町</td>\n",
       "      <td>苫小牧</td>\n",
       "      <td>25.0</td>\n",
       "      <td>３ＬＤＫ</td>\n",
       "      <td>120.0</td>\n",
       "      <td>12.0</td>\n",
       "      <td>ＲＣ</td>\n",
       "      <td>住宅</td>\n",
       "      <td>...</td>\n",
       "      <td>60.0</td>\n",
       "      <td>200.0</td>\n",
       "      <td>2018.75</td>\n",
       "      <td>未改装</td>\n",
       "      <td>NaN</td>\n",
       "      <td>7.431364</td>\n",
       "      <td>42.631246</td>\n",
       "      <td>141.603122</td>\n",
       "      <td>60.455317</td>\n",
       "      <td>0.092308</td>\n",
       "    </tr>\n",
       "    <tr>\n",
       "      <th>1114724</th>\n",
       "      <td>北海道</td>\n",
       "      <td>苫小牧市</td>\n",
       "      <td>青葉町</td>\n",
       "      <td>青葉</td>\n",
       "      <td>9.0</td>\n",
       "      <td>３ＬＤＫ</td>\n",
       "      <td>70.0</td>\n",
       "      <td>35.0</td>\n",
       "      <td>ＲＣ</td>\n",
       "      <td>住宅</td>\n",
       "      <td>...</td>\n",
       "      <td>60.0</td>\n",
       "      <td>200.0</td>\n",
       "      <td>2017.75</td>\n",
       "      <td>未改装</td>\n",
       "      <td>NaN</td>\n",
       "      <td>6.342423</td>\n",
       "      <td>42.631246</td>\n",
       "      <td>141.603122</td>\n",
       "      <td>60.455317</td>\n",
       "      <td>0.092308</td>\n",
       "    </tr>\n",
       "    <tr>\n",
       "      <th>1114753</th>\n",
       "      <td>北海道</td>\n",
       "      <td>苫小牧市</td>\n",
       "      <td>青葉町</td>\n",
       "      <td>青葉</td>\n",
       "      <td>3.0</td>\n",
       "      <td>３ＬＤＫ</td>\n",
       "      <td>70.0</td>\n",
       "      <td>31.0</td>\n",
       "      <td>ＲＣ</td>\n",
       "      <td>住宅</td>\n",
       "      <td>...</td>\n",
       "      <td>60.0</td>\n",
       "      <td>200.0</td>\n",
       "      <td>2016.50</td>\n",
       "      <td>改装済</td>\n",
       "      <td>NaN</td>\n",
       "      <td>6.778151</td>\n",
       "      <td>42.631246</td>\n",
       "      <td>141.603122</td>\n",
       "      <td>60.455317</td>\n",
       "      <td>0.092308</td>\n",
       "    </tr>\n",
       "    <tr>\n",
       "      <th>1120806</th>\n",
       "      <td>北海道</td>\n",
       "      <td>苫小牧市</td>\n",
       "      <td>表町</td>\n",
       "      <td>苫小牧</td>\n",
       "      <td>8.0</td>\n",
       "      <td>４ＬＤＫ</td>\n",
       "      <td>105.0</td>\n",
       "      <td>18.0</td>\n",
       "      <td>ＲＣ</td>\n",
       "      <td>住宅</td>\n",
       "      <td>...</td>\n",
       "      <td>80.0</td>\n",
       "      <td>400.0</td>\n",
       "      <td>2011.99</td>\n",
       "      <td>未改装</td>\n",
       "      <td>NaN</td>\n",
       "      <td>7.230449</td>\n",
       "      <td>42.631246</td>\n",
       "      <td>141.603122</td>\n",
       "      <td>60.455317</td>\n",
       "      <td>0.092308</td>\n",
       "    </tr>\n",
       "    <tr>\n",
       "      <th>1117264</th>\n",
       "      <td>北海道</td>\n",
       "      <td>苫小牧市</td>\n",
       "      <td>新中野町</td>\n",
       "      <td>苫小牧</td>\n",
       "      <td>25.0</td>\n",
       "      <td>３ＬＤＫ</td>\n",
       "      <td>90.0</td>\n",
       "      <td>15.0</td>\n",
       "      <td>ＲＣ</td>\n",
       "      <td>住宅</td>\n",
       "      <td>...</td>\n",
       "      <td>60.0</td>\n",
       "      <td>200.0</td>\n",
       "      <td>2015.50</td>\n",
       "      <td>未改装</td>\n",
       "      <td>NaN</td>\n",
       "      <td>7.204120</td>\n",
       "      <td>42.631246</td>\n",
       "      <td>141.603122</td>\n",
       "      <td>60.455317</td>\n",
       "      <td>0.092308</td>\n",
       "    </tr>\n",
       "  </tbody>\n",
       "</table>\n",
       "<p>5 rows × 22 columns</p>\n",
       "</div>"
      ],
      "text/plain": [
       "        都道府県名 市区町村名   地区名 最寄駅：名称  最寄駅：距離（分）   間取り  面積（㎡）   建築年 建物の構造  用途  ...  \\\n",
       "ID                                                                        ...   \n",
       "1117225   北海道  苫小牧市  新中野町    苫小牧       25.0  ３ＬＤＫ  120.0  12.0    ＲＣ  住宅  ...   \n",
       "1114724   北海道  苫小牧市   青葉町     青葉        9.0  ３ＬＤＫ   70.0  35.0    ＲＣ  住宅  ...   \n",
       "1114753   北海道  苫小牧市   青葉町     青葉        3.0  ３ＬＤＫ   70.0  31.0    ＲＣ  住宅  ...   \n",
       "1120806   北海道  苫小牧市    表町    苫小牧        8.0  ４ＬＤＫ  105.0  18.0    ＲＣ  住宅  ...   \n",
       "1117264   北海道  苫小牧市  新中野町    苫小牧       25.0  ３ＬＤＫ   90.0  15.0    ＲＣ  住宅  ...   \n",
       "\n",
       "        建ぺい率（％） 容積率（％）     取引時点   改装  取引の事情等 取引価格（総額）_log         緯度  \\\n",
       "ID                                                                     \n",
       "1117225    60.0  200.0  2018.75  未改装     NaN     7.431364  42.631246   \n",
       "1114724    60.0  200.0  2017.75  未改装     NaN     6.342423  42.631246   \n",
       "1114753    60.0  200.0  2016.50  改装済     NaN     6.778151  42.631246   \n",
       "1120806    80.0  400.0  2011.99  未改装     NaN     7.230449  42.631246   \n",
       "1117264    60.0  200.0  2015.50  未改装     NaN     7.204120  42.631246   \n",
       "\n",
       "                 経度       都市距離      平均価格  \n",
       "ID                                        \n",
       "1117225  141.603122  60.455317  0.092308  \n",
       "1114724  141.603122  60.455317  0.092308  \n",
       "1114753  141.603122  60.455317  0.092308  \n",
       "1120806  141.603122  60.455317  0.092308  \n",
       "1117264  141.603122  60.455317  0.092308  \n",
       "\n",
       "[5 rows x 22 columns]"
      ]
     },
     "execution_count": 15,
     "metadata": {},
     "output_type": "execute_result"
    }
   ],
   "source": [
    "df.head()"
   ]
  },
  {
   "cell_type": "code",
   "execution_count": null,
   "id": "exotic-transparency",
   "metadata": {},
   "outputs": [],
   "source": []
  }
 ],
 "metadata": {
  "kernelspec": {
   "display_name": "Python 3",
   "language": "python",
   "name": "python3"
  },
  "language_info": {
   "codemirror_mode": {
    "name": "ipython",
    "version": 3
   },
   "file_extension": ".py",
   "mimetype": "text/x-python",
   "name": "python",
   "nbconvert_exporter": "python",
   "pygments_lexer": "ipython3",
   "version": "3.7.10"
  }
 },
 "nbformat": 4,
 "nbformat_minor": 5
}
