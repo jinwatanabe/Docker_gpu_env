{
 "cells": [
  {
   "cell_type": "code",
   "execution_count": 70,
   "id": "manufactured-reconstruction",
   "metadata": {},
   "outputs": [],
   "source": [
    "import pandas as pd\n",
    "import re"
   ]
  },
  {
   "cell_type": "code",
   "execution_count": 71,
   "id": "controlling-rough",
   "metadata": {},
   "outputs": [],
   "source": [
    "f = open('train_number.txt', 'r')\n",
    "\n",
    "data = f.readlines()\n",
    "\n",
    "f.close()"
   ]
  },
  {
   "cell_type": "code",
   "execution_count": 72,
   "id": "chubby-arnold",
   "metadata": {},
   "outputs": [],
   "source": [
    "f = open('train2_number.txt', 'r')\n",
    "\n",
    "data2 = f.readlines()\n",
    "\n",
    "f.close()"
   ]
  },
  {
   "cell_type": "code",
   "execution_count": 73,
   "id": "latter-patent",
   "metadata": {},
   "outputs": [],
   "source": [
    "station_name_list = []\n",
    "for page in data:\n",
    "    r = re.findall('(?<=(<td class=\"stationName\">))(.*?)(?=</td>)', page)\n",
    "    \n",
    "    for num in r:\n",
    "        station_name_list.append(num[1])"
   ]
  },
  {
   "cell_type": "code",
   "execution_count": 74,
   "id": "standing-helmet",
   "metadata": {},
   "outputs": [],
   "source": [
    "for page in data2:\n",
    "    r = re.findall('<td class=\"stationName\"><a href=\".*?\">(.*?)</a>', page)\n",
    "    \n",
    "    for num in r:\n",
    "        station_name_list.append(num)"
   ]
  },
  {
   "cell_type": "code",
   "execution_count": 75,
   "id": "smaller-borough",
   "metadata": {},
   "outputs": [
    {
     "data": {
      "text/plain": [
       "909"
      ]
     },
     "execution_count": 75,
     "metadata": {},
     "output_type": "execute_result"
    }
   ],
   "source": [
    "len(station_name_list)"
   ]
  },
  {
   "cell_type": "code",
   "execution_count": 76,
   "id": "external-notification",
   "metadata": {},
   "outputs": [],
   "source": [
    "rides_list = []\n",
    "\n",
    "for page in data:\n",
    "    r = re.findall('(?<=(<td>))(.*?)(?=</td>)', page)\n",
    "    for i, n in enumerate(r):\n",
    "        if i % 3 == 2:\n",
    "            ri = \"\".join(n[1].split(\",\"))\n",
    "            rides_list.append(int(ri))"
   ]
  },
  {
   "cell_type": "code",
   "execution_count": 77,
   "id": "competitive-fashion",
   "metadata": {},
   "outputs": [],
   "source": [
    "for page in data2:\n",
    "    r = re.findall('</a></td>, <td>.*?</td>, <td>.*?</td>, <td>(.*?)</td>', page)\n",
    "    \n",
    "    for num in r:\n",
    "        ri = \"\".join(num.split(\",\"))\n",
    "        rides_list.append(ri)"
   ]
  },
  {
   "cell_type": "code",
   "execution_count": 78,
   "id": "becoming-allergy",
   "metadata": {},
   "outputs": [
    {
     "data": {
      "text/plain": [
       "909"
      ]
     },
     "execution_count": 78,
     "metadata": {},
     "output_type": "execute_result"
    }
   ],
   "source": [
    "len(rides_list)"
   ]
  },
  {
   "cell_type": "code",
   "execution_count": 79,
   "id": "agricultural-matrix",
   "metadata": {},
   "outputs": [],
   "source": [
    "rides_df = pd.DataFrame({\"最寄駅：名称\": station_name_list, \"乗車数\": rides_list})"
   ]
  },
  {
   "cell_type": "code",
   "execution_count": 80,
   "id": "cloudy-narrative",
   "metadata": {},
   "outputs": [
    {
     "data": {
      "text/html": [
       "<div>\n",
       "<style scoped>\n",
       "    .dataframe tbody tr th:only-of-type {\n",
       "        vertical-align: middle;\n",
       "    }\n",
       "\n",
       "    .dataframe tbody tr th {\n",
       "        vertical-align: top;\n",
       "    }\n",
       "\n",
       "    .dataframe thead th {\n",
       "        text-align: right;\n",
       "    }\n",
       "</style>\n",
       "<table border=\"1\" class=\"dataframe\">\n",
       "  <thead>\n",
       "    <tr style=\"text-align: right;\">\n",
       "      <th></th>\n",
       "      <th>最寄駅：名称</th>\n",
       "      <th>乗車数</th>\n",
       "    </tr>\n",
       "  </thead>\n",
       "  <tbody>\n",
       "    <tr>\n",
       "      <th>0</th>\n",
       "      <td>西荻窪</td>\n",
       "      <td>45712</td>\n",
       "    </tr>\n",
       "    <tr>\n",
       "      <th>1</th>\n",
       "      <td>阿佐ケ谷</td>\n",
       "      <td>45603</td>\n",
       "    </tr>\n",
       "    <tr>\n",
       "      <th>2</th>\n",
       "      <td>鎌倉</td>\n",
       "      <td>43183</td>\n",
       "    </tr>\n",
       "    <tr>\n",
       "      <th>3</th>\n",
       "      <td>亀有</td>\n",
       "      <td>42901</td>\n",
       "    </tr>\n",
       "    <tr>\n",
       "      <th>4</th>\n",
       "      <td>中山</td>\n",
       "      <td>41986</td>\n",
       "    </tr>\n",
       "  </tbody>\n",
       "</table>\n",
       "</div>"
      ],
      "text/plain": [
       "  最寄駅：名称    乗車数\n",
       "0    西荻窪  45712\n",
       "1   阿佐ケ谷  45603\n",
       "2     鎌倉  43183\n",
       "3     亀有  42901\n",
       "4     中山  41986"
      ]
     },
     "execution_count": 80,
     "metadata": {},
     "output_type": "execute_result"
    }
   ],
   "source": [
    "rides_df.head()"
   ]
  },
  {
   "cell_type": "code",
   "execution_count": 81,
   "id": "hybrid-bullet",
   "metadata": {},
   "outputs": [],
   "source": [
    "rides_df.to_csv('./rides_df', index=False)"
   ]
  },
  {
   "cell_type": "code",
   "execution_count": 82,
   "id": "pregnant-intent",
   "metadata": {},
   "outputs": [],
   "source": [
    "rides_df = pd.read_csv('./rides_df')"
   ]
  },
  {
   "cell_type": "code",
   "execution_count": 83,
   "id": "lucky-seventh",
   "metadata": {},
   "outputs": [
    {
     "data": {
      "text/html": [
       "<div>\n",
       "<style scoped>\n",
       "    .dataframe tbody tr th:only-of-type {\n",
       "        vertical-align: middle;\n",
       "    }\n",
       "\n",
       "    .dataframe tbody tr th {\n",
       "        vertical-align: top;\n",
       "    }\n",
       "\n",
       "    .dataframe thead th {\n",
       "        text-align: right;\n",
       "    }\n",
       "</style>\n",
       "<table border=\"1\" class=\"dataframe\">\n",
       "  <thead>\n",
       "    <tr style=\"text-align: right;\">\n",
       "      <th></th>\n",
       "      <th>最寄駅：名称</th>\n",
       "      <th>乗車数</th>\n",
       "    </tr>\n",
       "  </thead>\n",
       "  <tbody>\n",
       "    <tr>\n",
       "      <th>0</th>\n",
       "      <td>西荻窪</td>\n",
       "      <td>45712</td>\n",
       "    </tr>\n",
       "    <tr>\n",
       "      <th>1</th>\n",
       "      <td>阿佐ケ谷</td>\n",
       "      <td>45603</td>\n",
       "    </tr>\n",
       "    <tr>\n",
       "      <th>2</th>\n",
       "      <td>鎌倉</td>\n",
       "      <td>43183</td>\n",
       "    </tr>\n",
       "    <tr>\n",
       "      <th>3</th>\n",
       "      <td>亀有</td>\n",
       "      <td>42901</td>\n",
       "    </tr>\n",
       "    <tr>\n",
       "      <th>4</th>\n",
       "      <td>中山</td>\n",
       "      <td>41986</td>\n",
       "    </tr>\n",
       "    <tr>\n",
       "      <th>...</th>\n",
       "      <td>...</td>\n",
       "      <td>...</td>\n",
       "    </tr>\n",
       "    <tr>\n",
       "      <th>904</th>\n",
       "      <td>金町</td>\n",
       "      <td>51572</td>\n",
       "    </tr>\n",
       "    <tr>\n",
       "      <th>905</th>\n",
       "      <td>稲毛</td>\n",
       "      <td>49966</td>\n",
       "    </tr>\n",
       "    <tr>\n",
       "      <th>906</th>\n",
       "      <td>新大久保</td>\n",
       "      <td>49438</td>\n",
       "    </tr>\n",
       "    <tr>\n",
       "      <th>907</th>\n",
       "      <td>駒込</td>\n",
       "      <td>48861</td>\n",
       "    </tr>\n",
       "    <tr>\n",
       "      <th>908</th>\n",
       "      <td>田端</td>\n",
       "      <td>47008</td>\n",
       "    </tr>\n",
       "  </tbody>\n",
       "</table>\n",
       "<p>909 rows × 2 columns</p>\n",
       "</div>"
      ],
      "text/plain": [
       "    最寄駅：名称    乗車数\n",
       "0      西荻窪  45712\n",
       "1     阿佐ケ谷  45603\n",
       "2       鎌倉  43183\n",
       "3       亀有  42901\n",
       "4       中山  41986\n",
       "..     ...    ...\n",
       "904     金町  51572\n",
       "905     稲毛  49966\n",
       "906   新大久保  49438\n",
       "907     駒込  48861\n",
       "908     田端  47008\n",
       "\n",
       "[909 rows x 2 columns]"
      ]
     },
     "execution_count": 83,
     "metadata": {},
     "output_type": "execute_result"
    }
   ],
   "source": [
    "rides_df"
   ]
  },
  {
   "cell_type": "code",
   "execution_count": null,
   "id": "bridal-realtor",
   "metadata": {},
   "outputs": [],
   "source": []
  },
  {
   "cell_type": "code",
   "execution_count": null,
   "id": "atmospheric-therapist",
   "metadata": {},
   "outputs": [],
   "source": []
  }
 ],
 "metadata": {
  "kernelspec": {
   "display_name": "Python 3",
   "language": "python",
   "name": "python3"
  },
  "language_info": {
   "codemirror_mode": {
    "name": "ipython",
    "version": 3
   },
   "file_extension": ".py",
   "mimetype": "text/x-python",
   "name": "python",
   "nbconvert_exporter": "python",
   "pygments_lexer": "ipython3",
   "version": "3.7.10"
  }
 },
 "nbformat": 4,
 "nbformat_minor": 5
}
