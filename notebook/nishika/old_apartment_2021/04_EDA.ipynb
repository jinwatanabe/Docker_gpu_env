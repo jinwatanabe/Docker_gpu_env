{
 "cells": [
  {
   "cell_type": "code",
   "execution_count": 32,
   "id": "absolute-brisbane",
   "metadata": {},
   "outputs": [],
   "source": [
    "import pandas as pd\n",
    "from input_data import input_df\n",
    "import scipy.stats\n",
    "import matplotlib.pyplot as plt\n",
    "from pre4 import data_pre\n",
    "from m01_lightgbm import train\n",
    "from save_model2 import save_model_params\n",
    "pd.set_option('display.max_rows', 150)"
   ]
  },
  {
   "cell_type": "code",
   "execution_count": 2,
   "id": "ethical-barbados",
   "metadata": {},
   "outputs": [
    {
     "name": "stderr",
     "output_type": "stream",
     "text": [
      "/opt/conda/lib/python3.7/site-packages/IPython/core/interactiveshell.py:3357: DtypeWarning: Columns (10) have mixed types.Specify dtype option on import or set low_memory=False.\n",
      "  if (await self.run_code(code, result,  async_=asy)):\n"
     ]
    }
   ],
   "source": [
    "df = input_df()"
   ]
  },
  {
   "cell_type": "code",
   "execution_count": 3,
   "id": "smooth-major",
   "metadata": {},
   "outputs": [],
   "source": [
    "df = data_pre(df)"
   ]
  },
  {
   "cell_type": "code",
   "execution_count": 4,
   "id": "successful-textbook",
   "metadata": {},
   "outputs": [
    {
     "data": {
      "text/html": [
       "<div>\n",
       "<style scoped>\n",
       "    .dataframe tbody tr th:only-of-type {\n",
       "        vertical-align: middle;\n",
       "    }\n",
       "\n",
       "    .dataframe tbody tr th {\n",
       "        vertical-align: top;\n",
       "    }\n",
       "\n",
       "    .dataframe thead th {\n",
       "        text-align: right;\n",
       "    }\n",
       "</style>\n",
       "<table border=\"1\" class=\"dataframe\">\n",
       "  <thead>\n",
       "    <tr style=\"text-align: right;\">\n",
       "      <th></th>\n",
       "      <th>都道府県名</th>\n",
       "      <th>市区町村名</th>\n",
       "      <th>地区名</th>\n",
       "      <th>最寄駅：名称</th>\n",
       "      <th>最寄駅：距離（分）</th>\n",
       "      <th>間取り</th>\n",
       "      <th>面積（㎡）</th>\n",
       "      <th>建築年</th>\n",
       "      <th>建物の構造</th>\n",
       "      <th>用途</th>\n",
       "      <th>...</th>\n",
       "      <th>都市計画</th>\n",
       "      <th>建ぺい率（％）</th>\n",
       "      <th>容積率（％）</th>\n",
       "      <th>取引時点</th>\n",
       "      <th>改装</th>\n",
       "      <th>取引の事情等</th>\n",
       "      <th>取引価格（総額）_log</th>\n",
       "      <th>緯度</th>\n",
       "      <th>経度</th>\n",
       "      <th>建築年_en</th>\n",
       "    </tr>\n",
       "    <tr>\n",
       "      <th>ID</th>\n",
       "      <th></th>\n",
       "      <th></th>\n",
       "      <th></th>\n",
       "      <th></th>\n",
       "      <th></th>\n",
       "      <th></th>\n",
       "      <th></th>\n",
       "      <th></th>\n",
       "      <th></th>\n",
       "      <th></th>\n",
       "      <th></th>\n",
       "      <th></th>\n",
       "      <th></th>\n",
       "      <th></th>\n",
       "      <th></th>\n",
       "      <th></th>\n",
       "      <th></th>\n",
       "      <th></th>\n",
       "      <th></th>\n",
       "      <th></th>\n",
       "      <th></th>\n",
       "    </tr>\n",
       "  </thead>\n",
       "  <tbody>\n",
       "    <tr>\n",
       "      <th>1117225</th>\n",
       "      <td>北海道</td>\n",
       "      <td>苫小牧市</td>\n",
       "      <td>新中野町</td>\n",
       "      <td>苫小牧</td>\n",
       "      <td>25.0</td>\n",
       "      <td>３ＬＤＫ</td>\n",
       "      <td>120.0</td>\n",
       "      <td>12.0</td>\n",
       "      <td>ＲＣ</td>\n",
       "      <td>住宅</td>\n",
       "      <td>...</td>\n",
       "      <td>準工業地域</td>\n",
       "      <td>60.0</td>\n",
       "      <td>200.0</td>\n",
       "      <td>2018.75</td>\n",
       "      <td>未改装</td>\n",
       "      <td>NaN</td>\n",
       "      <td>7.431364</td>\n",
       "      <td>42.631246</td>\n",
       "      <td>141.603122</td>\n",
       "      <td>6</td>\n",
       "    </tr>\n",
       "    <tr>\n",
       "      <th>1114724</th>\n",
       "      <td>北海道</td>\n",
       "      <td>苫小牧市</td>\n",
       "      <td>青葉町</td>\n",
       "      <td>青葉</td>\n",
       "      <td>9.0</td>\n",
       "      <td>３ＬＤＫ</td>\n",
       "      <td>70.0</td>\n",
       "      <td>35.0</td>\n",
       "      <td>ＲＣ</td>\n",
       "      <td>住宅</td>\n",
       "      <td>...</td>\n",
       "      <td>第１種中高層住居専用地域</td>\n",
       "      <td>60.0</td>\n",
       "      <td>200.0</td>\n",
       "      <td>2017.75</td>\n",
       "      <td>未改装</td>\n",
       "      <td>NaN</td>\n",
       "      <td>6.342423</td>\n",
       "      <td>42.631246</td>\n",
       "      <td>141.603122</td>\n",
       "      <td>13</td>\n",
       "    </tr>\n",
       "    <tr>\n",
       "      <th>1114753</th>\n",
       "      <td>北海道</td>\n",
       "      <td>苫小牧市</td>\n",
       "      <td>青葉町</td>\n",
       "      <td>青葉</td>\n",
       "      <td>3.0</td>\n",
       "      <td>３ＬＤＫ</td>\n",
       "      <td>70.0</td>\n",
       "      <td>31.0</td>\n",
       "      <td>ＲＣ</td>\n",
       "      <td>住宅</td>\n",
       "      <td>...</td>\n",
       "      <td>第１種中高層住居専用地域</td>\n",
       "      <td>60.0</td>\n",
       "      <td>200.0</td>\n",
       "      <td>2016.50</td>\n",
       "      <td>改装済</td>\n",
       "      <td>NaN</td>\n",
       "      <td>6.778151</td>\n",
       "      <td>42.631246</td>\n",
       "      <td>141.603122</td>\n",
       "      <td>10</td>\n",
       "    </tr>\n",
       "    <tr>\n",
       "      <th>1120806</th>\n",
       "      <td>北海道</td>\n",
       "      <td>苫小牧市</td>\n",
       "      <td>表町</td>\n",
       "      <td>苫小牧</td>\n",
       "      <td>8.0</td>\n",
       "      <td>４ＬＤＫ</td>\n",
       "      <td>105.0</td>\n",
       "      <td>18.0</td>\n",
       "      <td>ＲＣ</td>\n",
       "      <td>住宅</td>\n",
       "      <td>...</td>\n",
       "      <td>商業地域</td>\n",
       "      <td>80.0</td>\n",
       "      <td>400.0</td>\n",
       "      <td>2011.99</td>\n",
       "      <td>未改装</td>\n",
       "      <td>NaN</td>\n",
       "      <td>7.230449</td>\n",
       "      <td>42.631246</td>\n",
       "      <td>141.603122</td>\n",
       "      <td>7</td>\n",
       "    </tr>\n",
       "    <tr>\n",
       "      <th>1117264</th>\n",
       "      <td>北海道</td>\n",
       "      <td>苫小牧市</td>\n",
       "      <td>新中野町</td>\n",
       "      <td>苫小牧</td>\n",
       "      <td>25.0</td>\n",
       "      <td>３ＬＤＫ</td>\n",
       "      <td>90.0</td>\n",
       "      <td>15.0</td>\n",
       "      <td>ＲＣ</td>\n",
       "      <td>住宅</td>\n",
       "      <td>...</td>\n",
       "      <td>準工業地域</td>\n",
       "      <td>60.0</td>\n",
       "      <td>200.0</td>\n",
       "      <td>2015.50</td>\n",
       "      <td>未改装</td>\n",
       "      <td>NaN</td>\n",
       "      <td>7.204120</td>\n",
       "      <td>42.631246</td>\n",
       "      <td>141.603122</td>\n",
       "      <td>7</td>\n",
       "    </tr>\n",
       "  </tbody>\n",
       "</table>\n",
       "<p>5 rows × 21 columns</p>\n",
       "</div>"
      ],
      "text/plain": [
       "        都道府県名 市区町村名   地区名 最寄駅：名称  最寄駅：距離（分）   間取り  面積（㎡）   建築年 建物の構造  用途  ...  \\\n",
       "ID                                                                        ...   \n",
       "1117225   北海道  苫小牧市  新中野町    苫小牧       25.0  ３ＬＤＫ  120.0  12.0    ＲＣ  住宅  ...   \n",
       "1114724   北海道  苫小牧市   青葉町     青葉        9.0  ３ＬＤＫ   70.0  35.0    ＲＣ  住宅  ...   \n",
       "1114753   北海道  苫小牧市   青葉町     青葉        3.0  ３ＬＤＫ   70.0  31.0    ＲＣ  住宅  ...   \n",
       "1120806   北海道  苫小牧市    表町    苫小牧        8.0  ４ＬＤＫ  105.0  18.0    ＲＣ  住宅  ...   \n",
       "1117264   北海道  苫小牧市  新中野町    苫小牧       25.0  ３ＬＤＫ   90.0  15.0    ＲＣ  住宅  ...   \n",
       "\n",
       "                 都市計画 建ぺい率（％）  容積率（％）     取引時点   改装 取引の事情等 取引価格（総額）_log  \\\n",
       "ID                                                                        \n",
       "1117225         準工業地域    60.0   200.0  2018.75  未改装    NaN     7.431364   \n",
       "1114724  第１種中高層住居専用地域    60.0   200.0  2017.75  未改装    NaN     6.342423   \n",
       "1114753  第１種中高層住居専用地域    60.0   200.0  2016.50  改装済    NaN     6.778151   \n",
       "1120806          商業地域    80.0   400.0  2011.99  未改装    NaN     7.230449   \n",
       "1117264         準工業地域    60.0   200.0  2015.50  未改装    NaN     7.204120   \n",
       "\n",
       "                緯度          経度  建築年_en  \n",
       "ID                                      \n",
       "1117225  42.631246  141.603122       6  \n",
       "1114724  42.631246  141.603122      13  \n",
       "1114753  42.631246  141.603122      10  \n",
       "1120806  42.631246  141.603122       7  \n",
       "1117264  42.631246  141.603122       7  \n",
       "\n",
       "[5 rows x 21 columns]"
      ]
     },
     "execution_count": 4,
     "metadata": {},
     "output_type": "execute_result"
    }
   ],
   "source": [
    "df.head()"
   ]
  },
  {
   "cell_type": "code",
   "execution_count": 5,
   "id": "appropriate-publication",
   "metadata": {},
   "outputs": [],
   "source": [
    "df[\"建築年\"] = df[\"建築年\"].fillna(0)"
   ]
  },
  {
   "cell_type": "code",
   "execution_count": 6,
   "id": "acting-round",
   "metadata": {},
   "outputs": [],
   "source": [
    "year_list_t = set(df[\"建築年\"].tolist())"
   ]
  },
  {
   "cell_type": "code",
   "execution_count": 7,
   "id": "dominant-raising",
   "metadata": {},
   "outputs": [],
   "source": [
    "year_list = []\n",
    "for y in year_list_t:\n",
    "    y = str(y).split('.')[0]\n",
    "    year_list.append(y)"
   ]
  },
  {
   "cell_type": "code",
   "execution_count": 8,
   "id": "frequent-budapest",
   "metadata": {},
   "outputs": [],
   "source": [
    "year_dic = {}\n",
    "for i in range(76):\n",
    "    if i <= 3:\n",
    "        year_dic[i] = i\n",
    "    elif 4 <= i <= 33:\n",
    "        year_dic[i] = 4 + i//5\n",
    "    elif 34 <= i <= 96:\n",
    "        year_dic[i] = 10 + i//10\n",
    "    \n",
    "year_dic[76] = 18"
   ]
  },
  {
   "cell_type": "code",
   "execution_count": 9,
   "id": "trying-feeling",
   "metadata": {},
   "outputs": [],
   "source": [
    "df[\"建築年_en\"] = df[\"建築年\"].replace(year_dic).astype(int)"
   ]
  },
  {
   "cell_type": "code",
   "execution_count": 10,
   "id": "expired-minority",
   "metadata": {},
   "outputs": [],
   "source": [
    "from sklearn.model_selection import train_test_split\n",
    "from sklearn.metrics import mean_absolute_error as mae\n",
    "import lightgbm\n",
    "import optuna.integration.lightgbm as lgb\n",
    "\n",
    "\n",
    "df_train, df_val = train_test_split(df, test_size=0.2)\n",
    "\n",
    "col = \"取引価格（総額）_log\"\n",
    "train_y = df_train[col]\n",
    "train_x = df_train.drop(col, axis=1)\n",
    "\n",
    "val_y = df_val[col]\n",
    "val_x = df_val.drop(col, axis=1)\n",
    "\n",
    "trains = lgb.Dataset(train_x, train_y)\n",
    "valids = lgb.Dataset(val_x, val_y)"
   ]
  },
  {
   "cell_type": "code",
   "execution_count": 11,
   "id": "japanese-principal",
   "metadata": {},
   "outputs": [
    {
     "name": "stderr",
     "output_type": "stream",
     "text": [
      "\u001b[32m[I 2021-05-30 01:59:23,150]\u001b[0m A new study created in memory with name: no-name-a6dc2731-0f78-4211-b641-3c9916ab3d12\u001b[0m\n",
      "feature_fraction, val_score: inf:   0%|          | 0/7 [00:00<?, ?it/s]"
     ]
    },
    {
     "name": "stdout",
     "output_type": "stream",
     "text": [
      "[LightGBM] [Warning] Auto-choosing row-wise multi-threading, the overhead of testing was 0.015060 seconds.\n",
      "You can set `force_row_wise=true` to remove the overhead.\n",
      "And if memory is not enough, you can set `force_col_wise=true`.\n",
      "[LightGBM] [Info] Total Bins 12383\n",
      "[LightGBM] [Info] Number of data points in the train set: 521580, number of used features: 20\n",
      "[LightGBM] [Info] Start training from score 7.219638\n",
      "Training until validation scores don't improve for 100 rounds\n"
     ]
    },
    {
     "name": "stderr",
     "output_type": "stream",
     "text": [
      "/opt/conda/lib/python3.7/site-packages/lightgbm/basic.py:1433: UserWarning: Overriding the parameters from Reference Dataset.\n",
      "  _log_warning('Overriding the parameters from Reference Dataset.')\n",
      "/opt/conda/lib/python3.7/site-packages/lightgbm/basic.py:1245: UserWarning: categorical_column in param dict is overridden.\n",
      "  _log_warning('{} in param dict is overridden.'.format(cat_alias))\n"
     ]
    },
    {
     "name": "stdout",
     "output_type": "stream",
     "text": [
      "[200]\tvalid_0's l1: 0.0787728\n",
      "[400]\tvalid_0's l1: 0.0772421\n",
      "[600]\tvalid_0's l1: 0.0768441\n",
      "[800]\tvalid_0's l1: 0.0767189\n",
      "[1000]\tvalid_0's l1: 0.0766081\n",
      "Did not meet early stopping. Best iteration is:\n",
      "[998]\tvalid_0's l1: 0.0766072\n"
     ]
    },
    {
     "name": "stderr",
     "output_type": "stream",
     "text": [
      "feature_fraction, val_score: 0.076607:  14%|#4        | 1/7 [00:28<02:48, 28.00s/it]\u001b[32m[I 2021-05-30 01:59:51,160]\u001b[0m Trial 0 finished with value: 0.07660717472833882 and parameters: {'feature_fraction': 1.0}. Best is trial 0 with value: 0.07660717472833882.\u001b[0m\n",
      "feature_fraction, val_score: 0.076607:  14%|#4        | 1/7 [00:28<02:48, 28.00s/it]"
     ]
    },
    {
     "name": "stdout",
     "output_type": "stream",
     "text": [
      "[LightGBM] [Warning] Auto-choosing col-wise multi-threading, the overhead of testing was 0.037966 seconds.\n",
      "You can set `force_col_wise=true` to remove the overhead.\n",
      "[LightGBM] [Info] Total Bins 12383\n",
      "[LightGBM] [Info] Number of data points in the train set: 521580, number of used features: 20\n",
      "[LightGBM] [Info] Start training from score 7.219638\n",
      "Training until validation scores don't improve for 100 rounds\n",
      "[200]\tvalid_0's l1: 0.0787857\n",
      "[400]\tvalid_0's l1: 0.0771923\n",
      "[600]\tvalid_0's l1: 0.0767058\n",
      "[800]\tvalid_0's l1: 0.0765332\n",
      "[1000]\tvalid_0's l1: 0.0764057\n",
      "Did not meet early stopping. Best iteration is:\n",
      "[999]\tvalid_0's l1: 0.076405\n"
     ]
    },
    {
     "name": "stderr",
     "output_type": "stream",
     "text": [
      "feature_fraction, val_score: 0.076405:  29%|##8       | 2/7 [00:54<02:15, 27.02s/it]\u001b[32m[I 2021-05-30 02:00:17,486]\u001b[0m Trial 1 finished with value: 0.0764050332308683 and parameters: {'feature_fraction': 0.8}. Best is trial 1 with value: 0.0764050332308683.\u001b[0m\n",
      "feature_fraction, val_score: 0.076405:  29%|##8       | 2/7 [00:54<02:15, 27.02s/it]"
     ]
    },
    {
     "name": "stdout",
     "output_type": "stream",
     "text": [
      "[LightGBM] [Warning] Auto-choosing col-wise multi-threading, the overhead of testing was 0.034480 seconds.\n",
      "You can set `force_col_wise=true` to remove the overhead.\n",
      "[LightGBM] [Info] Total Bins 12383\n",
      "[LightGBM] [Info] Number of data points in the train set: 521580, number of used features: 20\n",
      "[LightGBM] [Info] Start training from score 7.219638\n",
      "Training until validation scores don't improve for 100 rounds\n",
      "[200]\tvalid_0's l1: 0.0788143\n",
      "[400]\tvalid_0's l1: 0.077038\n",
      "[600]\tvalid_0's l1: 0.0764745\n",
      "[800]\tvalid_0's l1: 0.0762132\n",
      "[1000]\tvalid_0's l1: 0.0760304\n",
      "Did not meet early stopping. Best iteration is:\n",
      "[1000]\tvalid_0's l1: 0.0760304\n"
     ]
    },
    {
     "name": "stderr",
     "output_type": "stream",
     "text": [
      "feature_fraction, val_score: 0.076030:  43%|####2     | 3/7 [01:17<01:40, 25.10s/it]\u001b[32m[I 2021-05-30 02:00:40,302]\u001b[0m Trial 2 finished with value: 0.07603043776192307 and parameters: {'feature_fraction': 0.6}. Best is trial 2 with value: 0.07603043776192307.\u001b[0m\n",
      "feature_fraction, val_score: 0.076030:  43%|####2     | 3/7 [01:17<01:40, 25.10s/it]"
     ]
    },
    {
     "name": "stdout",
     "output_type": "stream",
     "text": [
      "[LightGBM] [Warning] Auto-choosing row-wise multi-threading, the overhead of testing was 0.008789 seconds.\n",
      "You can set `force_row_wise=true` to remove the overhead.\n",
      "And if memory is not enough, you can set `force_col_wise=true`.\n",
      "[LightGBM] [Info] Total Bins 12383\n",
      "[LightGBM] [Info] Number of data points in the train set: 521580, number of used features: 20\n",
      "[LightGBM] [Info] Start training from score 7.219638\n",
      "Training until validation scores don't improve for 100 rounds\n",
      "[200]\tvalid_0's l1: 0.0791144\n",
      "[400]\tvalid_0's l1: 0.0769623\n",
      "[600]\tvalid_0's l1: 0.0763747\n",
      "[800]\tvalid_0's l1: 0.0760481\n",
      "[1000]\tvalid_0's l1: 0.0758312\n",
      "Did not meet early stopping. Best iteration is:\n",
      "[999]\tvalid_0's l1: 0.0758308\n"
     ]
    },
    {
     "name": "stderr",
     "output_type": "stream",
     "text": [
      "feature_fraction, val_score: 0.075831:  57%|#####7    | 4/7 [01:39<01:12, 24.01s/it]\u001b[32m[I 2021-05-30 02:01:02,639]\u001b[0m Trial 3 finished with value: 0.07583077374569887 and parameters: {'feature_fraction': 0.4}. Best is trial 3 with value: 0.07583077374569887.\u001b[0m\n",
      "feature_fraction, val_score: 0.075831:  57%|#####7    | 4/7 [01:39<01:12, 24.01s/it]"
     ]
    },
    {
     "name": "stdout",
     "output_type": "stream",
     "text": [
      "[LightGBM] [Warning] Auto-choosing col-wise multi-threading, the overhead of testing was 0.033986 seconds.\n",
      "You can set `force_col_wise=true` to remove the overhead.\n",
      "[LightGBM] [Info] Total Bins 12383\n",
      "[LightGBM] [Info] Number of data points in the train set: 521580, number of used features: 20\n",
      "[LightGBM] [Info] Start training from score 7.219638\n",
      "Training until validation scores don't improve for 100 rounds\n",
      "[200]\tvalid_0's l1: 0.0787412\n",
      "[400]\tvalid_0's l1: 0.0770557\n",
      "[600]\tvalid_0's l1: 0.0765044\n",
      "[800]\tvalid_0's l1: 0.0763302\n",
      "[1000]\tvalid_0's l1: 0.0762044\n",
      "Did not meet early stopping. Best iteration is:\n",
      "[1000]\tvalid_0's l1: 0.0762044\n"
     ]
    },
    {
     "name": "stderr",
     "output_type": "stream",
     "text": [
      "feature_fraction, val_score: 0.075831:  71%|#######1  | 5/7 [02:03<00:48, 24.06s/it]\u001b[32m[I 2021-05-30 02:01:26,781]\u001b[0m Trial 4 finished with value: 0.07620437698531343 and parameters: {'feature_fraction': 0.7}. Best is trial 3 with value: 0.07583077374569887.\u001b[0m\n",
      "feature_fraction, val_score: 0.075831:  71%|#######1  | 5/7 [02:03<00:48, 24.06s/it]"
     ]
    },
    {
     "name": "stdout",
     "output_type": "stream",
     "text": [
      "[LightGBM] [Warning] Auto-choosing row-wise multi-threading, the overhead of testing was 0.014458 seconds.\n",
      "You can set `force_row_wise=true` to remove the overhead.\n",
      "And if memory is not enough, you can set `force_col_wise=true`.\n",
      "[LightGBM] [Info] Total Bins 12383\n",
      "[LightGBM] [Info] Number of data points in the train set: 521580, number of used features: 20\n",
      "[LightGBM] [Info] Start training from score 7.219638\n",
      "Training until validation scores don't improve for 100 rounds\n",
      "[200]\tvalid_0's l1: 0.0789362\n",
      "[400]\tvalid_0's l1: 0.0773785\n",
      "[600]\tvalid_0's l1: 0.0769202\n",
      "[800]\tvalid_0's l1: 0.0767667\n",
      "[1000]\tvalid_0's l1: 0.0766378\n",
      "Did not meet early stopping. Best iteration is:\n",
      "[999]\tvalid_0's l1: 0.0766371\n"
     ]
    },
    {
     "name": "stderr",
     "output_type": "stream",
     "text": [
      "feature_fraction, val_score: 0.075831:  86%|########5 | 6/7 [02:30<00:25, 25.11s/it]\u001b[32m[I 2021-05-30 02:01:53,924]\u001b[0m Trial 5 finished with value: 0.07663708132012381 and parameters: {'feature_fraction': 0.8999999999999999}. Best is trial 3 with value: 0.07583077374569887.\u001b[0m\n",
      "feature_fraction, val_score: 0.075831:  86%|########5 | 6/7 [02:30<00:25, 25.11s/it]"
     ]
    },
    {
     "name": "stdout",
     "output_type": "stream",
     "text": [
      "[LightGBM] [Warning] Auto-choosing row-wise multi-threading, the overhead of testing was 0.010081 seconds.\n",
      "You can set `force_row_wise=true` to remove the overhead.\n",
      "And if memory is not enough, you can set `force_col_wise=true`.\n",
      "[LightGBM] [Info] Total Bins 12383\n",
      "[LightGBM] [Info] Number of data points in the train set: 521580, number of used features: 20\n",
      "[LightGBM] [Info] Start training from score 7.219638\n",
      "Training until validation scores don't improve for 100 rounds\n",
      "[200]\tvalid_0's l1: 0.0787015\n",
      "[400]\tvalid_0's l1: 0.0768121\n",
      "[600]\tvalid_0's l1: 0.0762599\n",
      "[800]\tvalid_0's l1: 0.0759191\n",
      "[1000]\tvalid_0's l1: 0.0757247\n",
      "Did not meet early stopping. Best iteration is:\n",
      "[997]\tvalid_0's l1: 0.0757237\n"
     ]
    },
    {
     "name": "stderr",
     "output_type": "stream",
     "text": [
      "feature_fraction, val_score: 0.075724: 100%|##########| 7/7 [02:53<00:00, 24.40s/it]\u001b[32m[I 2021-05-30 02:02:16,866]\u001b[0m Trial 6 finished with value: 0.07572374254866733 and parameters: {'feature_fraction': 0.5}. Best is trial 6 with value: 0.07572374254866733.\u001b[0m\n",
      "feature_fraction, val_score: 0.075724: 100%|##########| 7/7 [02:53<00:00, 24.82s/it]\n",
      "num_leaves, val_score: 0.075724:   0%|          | 0/20 [00:00<?, ?it/s]"
     ]
    },
    {
     "name": "stdout",
     "output_type": "stream",
     "text": [
      "[LightGBM] [Warning] Auto-choosing row-wise multi-threading, the overhead of testing was 0.009710 seconds.\n",
      "You can set `force_row_wise=true` to remove the overhead.\n",
      "And if memory is not enough, you can set `force_col_wise=true`.\n",
      "[LightGBM] [Info] Total Bins 12383\n",
      "[LightGBM] [Info] Number of data points in the train set: 521580, number of used features: 20\n",
      "[LightGBM] [Info] Start training from score 7.219638\n",
      "Training until validation scores don't improve for 100 rounds\n",
      "[200]\tvalid_0's l1: 0.0755673\n",
      "[400]\tvalid_0's l1: 0.0752826\n",
      "[600]\tvalid_0's l1: 0.0751812\n",
      "Early stopping, best iteration is:\n",
      "[543]\tvalid_0's l1: 0.0751712\n"
     ]
    },
    {
     "name": "stderr",
     "output_type": "stream",
     "text": [
      "num_leaves, val_score: 0.075171:   5%|5         | 1/20 [00:31<09:58, 31.52s/it]\u001b[32m[I 2021-05-30 02:02:48,393]\u001b[0m Trial 7 finished with value: 0.07517117622676568 and parameters: {'num_leaves': 162}. Best is trial 7 with value: 0.07517117622676568.\u001b[0m\n",
      "num_leaves, val_score: 0.075171:   5%|5         | 1/20 [00:31<09:58, 31.52s/it]"
     ]
    },
    {
     "name": "stdout",
     "output_type": "stream",
     "text": [
      "[LightGBM] [Warning] Auto-choosing row-wise multi-threading, the overhead of testing was 0.009846 seconds.\n",
      "You can set `force_row_wise=true` to remove the overhead.\n",
      "And if memory is not enough, you can set `force_col_wise=true`.\n",
      "[LightGBM] [Info] Total Bins 12383\n",
      "[LightGBM] [Info] Number of data points in the train set: 521580, number of used features: 20\n",
      "[LightGBM] [Info] Start training from score 7.219638\n",
      "Training until validation scores don't improve for 100 rounds\n",
      "[200]\tvalid_0's l1: 0.075833\n",
      "[400]\tvalid_0's l1: 0.0753884\n",
      "[600]\tvalid_0's l1: 0.0752593\n",
      "[800]\tvalid_0's l1: 0.075202\n",
      "[1000]\tvalid_0's l1: 0.0751764\n",
      "Did not meet early stopping. Best iteration is:\n",
      "[918]\tvalid_0's l1: 0.075166\n"
     ]
    },
    {
     "name": "stderr",
     "output_type": "stream",
     "text": [
      "num_leaves, val_score: 0.075166:  10%|#         | 2/20 [01:07<10:09, 33.85s/it]\u001b[32m[I 2021-05-30 02:03:23,874]\u001b[0m Trial 8 finished with value: 0.07516596698308087 and parameters: {'num_leaves': 113}. Best is trial 8 with value: 0.07516596698308087.\u001b[0m\n",
      "num_leaves, val_score: 0.075166:  10%|#         | 2/20 [01:07<10:09, 33.85s/it]"
     ]
    },
    {
     "name": "stdout",
     "output_type": "stream",
     "text": [
      "[LightGBM] [Warning] Auto-choosing row-wise multi-threading, the overhead of testing was 0.010030 seconds.\n",
      "You can set `force_row_wise=true` to remove the overhead.\n",
      "And if memory is not enough, you can set `force_col_wise=true`.\n",
      "[LightGBM] [Info] Total Bins 12383\n",
      "[LightGBM] [Info] Number of data points in the train set: 521580, number of used features: 20\n",
      "[LightGBM] [Info] Start training from score 7.219638\n",
      "Training until validation scores don't improve for 100 rounds\n",
      "[200]\tvalid_0's l1: 0.0755955\n",
      "[400]\tvalid_0's l1: 0.0753462\n",
      "[600]\tvalid_0's l1: 0.0752461\n",
      "Early stopping, best iteration is:\n",
      "[674]\tvalid_0's l1: 0.0752223\n"
     ]
    },
    {
     "name": "stderr",
     "output_type": "stream",
     "text": [
      "num_leaves, val_score: 0.075166:  15%|#5        | 3/20 [01:40<09:34, 33.82s/it]\u001b[32m[I 2021-05-30 02:03:57,664]\u001b[0m Trial 9 finished with value: 0.07522230080971107 and parameters: {'num_leaves': 155}. Best is trial 8 with value: 0.07516596698308087.\u001b[0m\n",
      "num_leaves, val_score: 0.075166:  15%|#5        | 3/20 [01:40<09:34, 33.82s/it]"
     ]
    },
    {
     "name": "stdout",
     "output_type": "stream",
     "text": [
      "[LightGBM] [Warning] Auto-choosing row-wise multi-threading, the overhead of testing was 0.009666 seconds.\n",
      "You can set `force_row_wise=true` to remove the overhead.\n",
      "And if memory is not enough, you can set `force_col_wise=true`.\n",
      "[LightGBM] [Info] Total Bins 12383\n",
      "[LightGBM] [Info] Number of data points in the train set: 521580, number of used features: 20\n",
      "[LightGBM] [Info] Start training from score 7.219638\n",
      "Training until validation scores don't improve for 100 rounds\n",
      "[200]\tvalid_0's l1: 0.0779466\n",
      "[400]\tvalid_0's l1: 0.0764252\n",
      "[600]\tvalid_0's l1: 0.0759222\n",
      "[800]\tvalid_0's l1: 0.0756679\n",
      "[1000]\tvalid_0's l1: 0.0755145\n",
      "Did not meet early stopping. Best iteration is:\n",
      "[1000]\tvalid_0's l1: 0.0755145\n"
     ]
    },
    {
     "name": "stderr",
     "output_type": "stream",
     "text": [
      "num_leaves, val_score: 0.075166:  20%|##        | 4/20 [02:05<08:04, 30.26s/it]\u001b[32m[I 2021-05-30 02:04:22,469]\u001b[0m Trial 10 finished with value: 0.07551453464902527 and parameters: {'num_leaves': 39}. Best is trial 8 with value: 0.07516596698308087.\u001b[0m\n",
      "num_leaves, val_score: 0.075166:  20%|##        | 4/20 [02:05<08:04, 30.26s/it]"
     ]
    },
    {
     "name": "stdout",
     "output_type": "stream",
     "text": [
      "[LightGBM] [Warning] Auto-choosing row-wise multi-threading, the overhead of testing was 0.009605 seconds.\n",
      "You can set `force_row_wise=true` to remove the overhead.\n",
      "And if memory is not enough, you can set `force_col_wise=true`.\n",
      "[LightGBM] [Info] Total Bins 12383\n",
      "[LightGBM] [Info] Number of data points in the train set: 521580, number of used features: 20\n",
      "[LightGBM] [Info] Start training from score 7.219638\n",
      "Training until validation scores don't improve for 100 rounds\n",
      "[200]\tvalid_0's l1: 0.0754424\n",
      "[400]\tvalid_0's l1: 0.0752247\n",
      "[600]\tvalid_0's l1: 0.0752269\n",
      "Early stopping, best iteration is:\n",
      "[540]\tvalid_0's l1: 0.0751701\n"
     ]
    },
    {
     "name": "stderr",
     "output_type": "stream",
     "text": [
      "num_leaves, val_score: 0.075166:  25%|##5       | 5/20 [02:37<07:42, 30.82s/it]\u001b[32m[I 2021-05-30 02:04:54,272]\u001b[0m Trial 11 finished with value: 0.0751701025742971 and parameters: {'num_leaves': 177}. Best is trial 8 with value: 0.07516596698308087.\u001b[0m\n",
      "num_leaves, val_score: 0.075166:  25%|##5       | 5/20 [02:37<07:42, 30.82s/it]"
     ]
    },
    {
     "name": "stdout",
     "output_type": "stream",
     "text": [
      "[LightGBM] [Warning] Auto-choosing row-wise multi-threading, the overhead of testing was 0.009664 seconds.\n",
      "You can set `force_row_wise=true` to remove the overhead.\n",
      "And if memory is not enough, you can set `force_col_wise=true`.\n",
      "[LightGBM] [Info] Total Bins 12383\n",
      "[LightGBM] [Info] Number of data points in the train set: 521580, number of used features: 20\n",
      "[LightGBM] [Info] Start training from score 7.219638\n",
      "Training until validation scores don't improve for 100 rounds\n",
      "[200]\tvalid_0's l1: 0.0775678\n",
      "[400]\tvalid_0's l1: 0.0761951\n",
      "[600]\tvalid_0's l1: 0.0758203\n",
      "[800]\tvalid_0's l1: 0.0756008\n",
      "[1000]\tvalid_0's l1: 0.0754794\n",
      "Did not meet early stopping. Best iteration is:\n",
      "[999]\tvalid_0's l1: 0.0754794\n"
     ]
    },
    {
     "name": "stderr",
     "output_type": "stream",
     "text": [
      "num_leaves, val_score: 0.075166:  30%|###       | 6/20 [03:02<06:45, 28.97s/it]\u001b[32m[I 2021-05-30 02:05:19,652]\u001b[0m Trial 12 finished with value: 0.07547937150026097 and parameters: {'num_leaves': 45}. Best is trial 8 with value: 0.07516596698308087.\u001b[0m\n",
      "num_leaves, val_score: 0.075166:  30%|###       | 6/20 [03:02<06:45, 28.97s/it]"
     ]
    },
    {
     "name": "stdout",
     "output_type": "stream",
     "text": [
      "[LightGBM] [Warning] Auto-choosing row-wise multi-threading, the overhead of testing was 0.009642 seconds.\n",
      "You can set `force_row_wise=true` to remove the overhead.\n",
      "And if memory is not enough, you can set `force_col_wise=true`.\n",
      "[LightGBM] [Info] Total Bins 12383\n",
      "[LightGBM] [Info] Number of data points in the train set: 521580, number of used features: 20\n",
      "[LightGBM] [Info] Start training from score 7.219638\n",
      "Training until validation scores don't improve for 100 rounds\n",
      "[200]\tvalid_0's l1: 0.0777972\n",
      "[400]\tvalid_0's l1: 0.076224\n",
      "[600]\tvalid_0's l1: 0.0758143\n",
      "[800]\tvalid_0's l1: 0.0755596\n",
      "[1000]\tvalid_0's l1: 0.0754372\n",
      "Did not meet early stopping. Best iteration is:\n",
      "[988]\tvalid_0's l1: 0.0754354\n"
     ]
    },
    {
     "name": "stderr",
     "output_type": "stream",
     "text": [
      "num_leaves, val_score: 0.075166:  35%|###5      | 7/20 [03:26<05:55, 27.36s/it]\u001b[32m[I 2021-05-30 02:05:43,703]\u001b[0m Trial 13 finished with value: 0.07543540871757388 and parameters: {'num_leaves': 41}. Best is trial 8 with value: 0.07516596698308087.\u001b[0m\n",
      "num_leaves, val_score: 0.075166:  35%|###5      | 7/20 [03:26<05:55, 27.36s/it]"
     ]
    },
    {
     "name": "stdout",
     "output_type": "stream",
     "text": [
      "[LightGBM] [Warning] Auto-choosing row-wise multi-threading, the overhead of testing was 0.010263 seconds.\n",
      "You can set `force_row_wise=true` to remove the overhead.\n",
      "And if memory is not enough, you can set `force_col_wise=true`.\n",
      "[LightGBM] [Info] Total Bins 12383\n",
      "[LightGBM] [Info] Number of data points in the train set: 521580, number of used features: 20\n",
      "[LightGBM] [Info] Start training from score 7.219638\n",
      "Training until validation scores don't improve for 100 rounds\n",
      "[200]\tvalid_0's l1: 0.075422\n",
      "[400]\tvalid_0's l1: 0.0752054\n",
      "[600]\tvalid_0's l1: 0.0751787\n",
      "Early stopping, best iteration is:\n",
      "[547]\tvalid_0's l1: 0.0751582\n"
     ]
    },
    {
     "name": "stderr",
     "output_type": "stream",
     "text": [
      "num_leaves, val_score: 0.075158:  40%|####      | 8/20 [03:59<05:48, 29.04s/it]\u001b[32m[I 2021-05-30 02:06:16,327]\u001b[0m Trial 14 finished with value: 0.0751582407423036 and parameters: {'num_leaves': 181}. Best is trial 14 with value: 0.0751582407423036.\u001b[0m\n",
      "num_leaves, val_score: 0.075158:  40%|####      | 8/20 [03:59<05:48, 29.04s/it]"
     ]
    },
    {
     "name": "stdout",
     "output_type": "stream",
     "text": [
      "[LightGBM] [Warning] Auto-choosing row-wise multi-threading, the overhead of testing was 0.009885 seconds.\n",
      "You can set `force_row_wise=true` to remove the overhead.\n",
      "And if memory is not enough, you can set `force_col_wise=true`.\n",
      "[LightGBM] [Info] Total Bins 12383\n",
      "[LightGBM] [Info] Number of data points in the train set: 521580, number of used features: 20\n",
      "[LightGBM] [Info] Start training from score 7.219638\n",
      "Training until validation scores don't improve for 100 rounds\n",
      "[200]\tvalid_0's l1: 0.0758284\n",
      "[400]\tvalid_0's l1: 0.0753662\n",
      "[600]\tvalid_0's l1: 0.0751977\n",
      "[800]\tvalid_0's l1: 0.0751344\n",
      "[1000]\tvalid_0's l1: 0.0751093\n",
      "Did not meet early stopping. Best iteration is:\n",
      "[976]\tvalid_0's l1: 0.0751073\n"
     ]
    },
    {
     "name": "stderr",
     "output_type": "stream",
     "text": [
      "num_leaves, val_score: 0.075107:  45%|####5     | 9/20 [04:34<05:39, 30.86s/it]\u001b[32m[I 2021-05-30 02:06:51,203]\u001b[0m Trial 15 finished with value: 0.07510726619109458 and parameters: {'num_leaves': 111}. Best is trial 15 with value: 0.07510726619109458.\u001b[0m\n",
      "num_leaves, val_score: 0.075107:  45%|####5     | 9/20 [04:34<05:39, 30.86s/it]"
     ]
    },
    {
     "name": "stdout",
     "output_type": "stream",
     "text": [
      "[LightGBM] [Warning] Auto-choosing row-wise multi-threading, the overhead of testing was 0.010412 seconds.\n",
      "You can set `force_row_wise=true` to remove the overhead.\n",
      "And if memory is not enough, you can set `force_col_wise=true`.\n",
      "[LightGBM] [Info] Total Bins 12383\n",
      "[LightGBM] [Info] Number of data points in the train set: 521580, number of used features: 20\n",
      "[LightGBM] [Info] Start training from score 7.219638\n",
      "Training until validation scores don't improve for 100 rounds\n",
      "[200]\tvalid_0's l1: 0.0775679\n",
      "[400]\tvalid_0's l1: 0.0762249\n",
      "[600]\tvalid_0's l1: 0.0758824\n",
      "[800]\tvalid_0's l1: 0.0756545\n",
      "[1000]\tvalid_0's l1: 0.0755327\n",
      "Did not meet early stopping. Best iteration is:\n",
      "[999]\tvalid_0's l1: 0.0755325\n"
     ]
    },
    {
     "name": "stderr",
     "output_type": "stream",
     "text": [
      "num_leaves, val_score: 0.075107:  50%|#####     | 10/20 [04:59<04:50, 29.07s/it]\u001b[32m[I 2021-05-30 02:07:16,264]\u001b[0m Trial 16 finished with value: 0.07553254781181663 and parameters: {'num_leaves': 46}. Best is trial 15 with value: 0.07510726619109458.\u001b[0m\n",
      "num_leaves, val_score: 0.075107:  50%|#####     | 10/20 [04:59<04:50, 29.07s/it]"
     ]
    },
    {
     "name": "stdout",
     "output_type": "stream",
     "text": [
      "[LightGBM] [Warning] Auto-choosing row-wise multi-threading, the overhead of testing was 0.009732 seconds.\n",
      "You can set `force_row_wise=true` to remove the overhead.\n",
      "And if memory is not enough, you can set `force_col_wise=true`.\n",
      "[LightGBM] [Info] Total Bins 12383\n",
      "[LightGBM] [Info] Number of data points in the train set: 521580, number of used features: 20\n",
      "[LightGBM] [Info] Start training from score 7.219638\n",
      "Training until validation scores don't improve for 100 rounds\n",
      "[200]\tvalid_0's l1: 0.0752623\n",
      "[400]\tvalid_0's l1: 0.0752031\n",
      "Early stopping, best iteration is:\n",
      "[305]\tvalid_0's l1: 0.0751826\n"
     ]
    },
    {
     "name": "stderr",
     "output_type": "stream",
     "text": [
      "num_leaves, val_score: 0.075107:  55%|#####5    | 11/20 [05:27<04:19, 28.82s/it]\u001b[32m[I 2021-05-30 02:07:44,521]\u001b[0m Trial 17 finished with value: 0.07518261886347088 and parameters: {'num_leaves': 250}. Best is trial 15 with value: 0.07510726619109458.\u001b[0m\n",
      "num_leaves, val_score: 0.075107:  55%|#####5    | 11/20 [05:27<04:19, 28.82s/it]"
     ]
    },
    {
     "name": "stdout",
     "output_type": "stream",
     "text": [
      "[LightGBM] [Warning] Auto-choosing row-wise multi-threading, the overhead of testing was 0.009981 seconds.\n",
      "You can set `force_row_wise=true` to remove the overhead.\n",
      "And if memory is not enough, you can set `force_col_wise=true`.\n",
      "[LightGBM] [Info] Total Bins 12383\n",
      "[LightGBM] [Info] Number of data points in the train set: 521580, number of used features: 20\n",
      "[LightGBM] [Info] Start training from score 7.219638\n",
      "Training until validation scores don't improve for 100 rounds\n",
      "[200]\tvalid_0's l1: 0.0753634\n",
      "[400]\tvalid_0's l1: 0.0752586\n",
      "Early stopping, best iteration is:\n",
      "[320]\tvalid_0's l1: 0.0752452\n"
     ]
    },
    {
     "name": "stderr",
     "output_type": "stream",
     "text": [
      "num_leaves, val_score: 0.075107:  60%|######    | 12/20 [05:55<03:47, 28.50s/it]\u001b[32m[I 2021-05-30 02:08:12,270]\u001b[0m Trial 18 finished with value: 0.07524518932427403 and parameters: {'num_leaves': 228}. Best is trial 15 with value: 0.07510726619109458.\u001b[0m\n",
      "num_leaves, val_score: 0.075107:  60%|######    | 12/20 [05:55<03:47, 28.50s/it]"
     ]
    },
    {
     "name": "stdout",
     "output_type": "stream",
     "text": [
      "[LightGBM] [Warning] Auto-choosing row-wise multi-threading, the overhead of testing was 0.010743 seconds.\n",
      "You can set `force_row_wise=true` to remove the overhead.\n",
      "And if memory is not enough, you can set `force_col_wise=true`.\n",
      "[LightGBM] [Info] Total Bins 12383\n",
      "[LightGBM] [Info] Number of data points in the train set: 521580, number of used features: 20\n",
      "[LightGBM] [Info] Start training from score 7.219638\n",
      "Training until validation scores don't improve for 100 rounds\n",
      "[200]\tvalid_0's l1: 0.0759363\n",
      "[400]\tvalid_0's l1: 0.0754173\n",
      "[600]\tvalid_0's l1: 0.0753038\n",
      "[800]\tvalid_0's l1: 0.075193\n",
      "[1000]\tvalid_0's l1: 0.0751388\n",
      "Did not meet early stopping. Best iteration is:\n",
      "[991]\tvalid_0's l1: 0.0751321\n"
     ]
    },
    {
     "name": "stderr",
     "output_type": "stream",
     "text": [
      "num_leaves, val_score: 0.075107:  65%|######5   | 13/20 [06:29<03:31, 30.20s/it]\u001b[32m[I 2021-05-30 02:08:46,381]\u001b[0m Trial 19 finished with value: 0.07513206832874307 and parameters: {'num_leaves': 102}. Best is trial 15 with value: 0.07510726619109458.\u001b[0m\n",
      "num_leaves, val_score: 0.075107:  65%|######5   | 13/20 [06:29<03:31, 30.20s/it]"
     ]
    },
    {
     "name": "stdout",
     "output_type": "stream",
     "text": [
      "[LightGBM] [Warning] Auto-choosing row-wise multi-threading, the overhead of testing was 0.009751 seconds.\n",
      "You can set `force_row_wise=true` to remove the overhead.\n",
      "And if memory is not enough, you can set `force_col_wise=true`.\n",
      "[LightGBM] [Info] Total Bins 12383\n",
      "[LightGBM] [Info] Number of data points in the train set: 521580, number of used features: 20\n",
      "[LightGBM] [Info] Start training from score 7.219638\n",
      "Training until validation scores don't improve for 100 rounds\n",
      "[200]\tvalid_0's l1: 0.0760466\n",
      "[400]\tvalid_0's l1: 0.0754756\n",
      "[600]\tvalid_0's l1: 0.0752809\n",
      "[800]\tvalid_0's l1: 0.0752361\n",
      "[1000]\tvalid_0's l1: 0.0751738\n",
      "Did not meet early stopping. Best iteration is:\n",
      "[999]\tvalid_0's l1: 0.0751728\n"
     ]
    },
    {
     "name": "stderr",
     "output_type": "stream",
     "text": [
      "num_leaves, val_score: 0.075107:  70%|#######   | 14/20 [07:02<03:05, 30.94s/it]\u001b[32m[I 2021-05-30 02:09:19,054]\u001b[0m Trial 20 finished with value: 0.07517279341248345 and parameters: {'num_leaves': 95}. Best is trial 15 with value: 0.07510726619109458.\u001b[0m\n",
      "num_leaves, val_score: 0.075107:  70%|#######   | 14/20 [07:02<03:05, 30.94s/it]"
     ]
    },
    {
     "name": "stdout",
     "output_type": "stream",
     "text": [
      "[LightGBM] [Warning] Auto-choosing row-wise multi-threading, the overhead of testing was 0.010058 seconds.\n",
      "You can set `force_row_wise=true` to remove the overhead.\n",
      "And if memory is not enough, you can set `force_col_wise=true`.\n",
      "[LightGBM] [Info] Total Bins 12383\n",
      "[LightGBM] [Info] Number of data points in the train set: 521580, number of used features: 20\n",
      "[LightGBM] [Info] Start training from score 7.219638\n",
      "Training until validation scores don't improve for 100 rounds\n",
      "[200]\tvalid_0's l1: 0.0762285\n",
      "[400]\tvalid_0's l1: 0.0755314\n",
      "[600]\tvalid_0's l1: 0.0753636\n",
      "[800]\tvalid_0's l1: 0.0752554\n",
      "[1000]\tvalid_0's l1: 0.0752067\n",
      "Did not meet early stopping. Best iteration is:\n",
      "[999]\tvalid_0's l1: 0.0752062\n"
     ]
    },
    {
     "name": "stderr",
     "output_type": "stream",
     "text": [
      "num_leaves, val_score: 0.075107:  75%|#######5  | 15/20 [07:33<02:35, 31.19s/it]\u001b[32m[I 2021-05-30 02:09:50,807]\u001b[0m Trial 21 finished with value: 0.07520622561505917 and parameters: {'num_leaves': 83}. Best is trial 15 with value: 0.07510726619109458.\u001b[0m\n",
      "num_leaves, val_score: 0.075107:  75%|#######5  | 15/20 [07:33<02:35, 31.19s/it]"
     ]
    },
    {
     "name": "stdout",
     "output_type": "stream",
     "text": [
      "[LightGBM] [Warning] Auto-choosing col-wise multi-threading, the overhead of testing was 0.032002 seconds.\n",
      "You can set `force_col_wise=true` to remove the overhead.\n",
      "[LightGBM] [Info] Total Bins 12383\n",
      "[LightGBM] [Info] Number of data points in the train set: 521580, number of used features: 20\n",
      "[LightGBM] [Info] Start training from score 7.219638\n",
      "Training until validation scores don't improve for 100 rounds\n",
      "[200]\tvalid_0's l1: 0.0762731\n",
      "[400]\tvalid_0's l1: 0.0756556\n",
      "[600]\tvalid_0's l1: 0.0754199\n",
      "[800]\tvalid_0's l1: 0.0752784\n",
      "[1000]\tvalid_0's l1: 0.0752026\n",
      "Did not meet early stopping. Best iteration is:\n",
      "[989]\tvalid_0's l1: 0.0752003\n"
     ]
    },
    {
     "name": "stderr",
     "output_type": "stream",
     "text": [
      "num_leaves, val_score: 0.075107:  80%|########  | 16/20 [08:01<02:00, 30.21s/it]\u001b[32m[I 2021-05-30 02:10:18,754]\u001b[0m Trial 22 finished with value: 0.07520025926258786 and parameters: {'num_leaves': 79}. Best is trial 15 with value: 0.07510726619109458.\u001b[0m\n",
      "num_leaves, val_score: 0.075107:  80%|########  | 16/20 [08:01<02:00, 30.21s/it]"
     ]
    },
    {
     "name": "stdout",
     "output_type": "stream",
     "text": [
      "[LightGBM] [Warning] Auto-choosing row-wise multi-threading, the overhead of testing was 0.010188 seconds.\n",
      "You can set `force_row_wise=true` to remove the overhead.\n",
      "And if memory is not enough, you can set `force_col_wise=true`.\n",
      "[LightGBM] [Info] Total Bins 12383\n",
      "[LightGBM] [Info] Number of data points in the train set: 521580, number of used features: 20\n",
      "[LightGBM] [Info] Start training from score 7.219638\n",
      "Training until validation scores don't improve for 100 rounds\n",
      "[200]\tvalid_0's l1: 0.0756649\n",
      "[400]\tvalid_0's l1: 0.0752862\n",
      "Early stopping, best iteration is:\n",
      "[427]\tvalid_0's l1: 0.0752561\n"
     ]
    },
    {
     "name": "stderr",
     "output_type": "stream",
     "text": [
      "num_leaves, val_score: 0.075107:  85%|########5 | 17/20 [08:26<01:25, 28.63s/it]\u001b[32m[I 2021-05-30 02:10:43,696]\u001b[0m Trial 23 finished with value: 0.0752560935161537 and parameters: {'num_leaves': 133}. Best is trial 15 with value: 0.07510726619109458.\u001b[0m\n",
      "num_leaves, val_score: 0.075107:  85%|########5 | 17/20 [08:26<01:25, 28.63s/it]"
     ]
    },
    {
     "name": "stdout",
     "output_type": "stream",
     "text": [
      "[LightGBM] [Warning] Auto-choosing row-wise multi-threading, the overhead of testing was 0.009943 seconds.\n",
      "You can set `force_row_wise=true` to remove the overhead.\n",
      "And if memory is not enough, you can set `force_col_wise=true`.\n",
      "[LightGBM] [Info] Total Bins 12383\n",
      "[LightGBM] [Info] Number of data points in the train set: 521580, number of used features: 20\n",
      "[LightGBM] [Info] Start training from score 7.219638\n",
      "Training until validation scores don't improve for 100 rounds\n",
      "[200]\tvalid_0's l1: 0.121428\n",
      "[400]\tvalid_0's l1: 0.109719\n",
      "[600]\tvalid_0's l1: 0.104551\n",
      "[800]\tvalid_0's l1: 0.101669\n"
     ]
    },
    {
     "name": "stderr",
     "output_type": "stream",
     "text": [
      "num_leaves, val_score: 0.075107:  90%|######### | 18/20 [08:35<00:45, 22.78s/it]\u001b[32m[I 2021-05-30 02:10:52,862]\u001b[0m Trial 24 finished with value: 0.09976744122203669 and parameters: {'num_leaves': 2}. Best is trial 15 with value: 0.07510726619109458.\u001b[0m\n",
      "num_leaves, val_score: 0.075107:  90%|######### | 18/20 [08:35<00:45, 22.78s/it]"
     ]
    },
    {
     "name": "stdout",
     "output_type": "stream",
     "text": [
      "[1000]\tvalid_0's l1: 0.0997674\n",
      "Did not meet early stopping. Best iteration is:\n",
      "[1000]\tvalid_0's l1: 0.0997674\n",
      "[LightGBM] [Warning] Auto-choosing row-wise multi-threading, the overhead of testing was 0.010151 seconds.\n",
      "You can set `force_row_wise=true` to remove the overhead.\n",
      "And if memory is not enough, you can set `force_col_wise=true`.\n",
      "[LightGBM] [Info] Total Bins 12383\n",
      "[LightGBM] [Info] Number of data points in the train set: 521580, number of used features: 20\n",
      "[LightGBM] [Info] Start training from score 7.219638\n",
      "Training until validation scores don't improve for 100 rounds\n",
      "[200]\tvalid_0's l1: 0.075696\n",
      "[400]\tvalid_0's l1: 0.0753413\n",
      "[600]\tvalid_0's l1: 0.0752406\n",
      "[800]\tvalid_0's l1: 0.0751591\n",
      "Early stopping, best iteration is:\n",
      "[825]\tvalid_0's l1: 0.0751437\n"
     ]
    },
    {
     "name": "stderr",
     "output_type": "stream",
     "text": [
      "num_leaves, val_score: 0.075107:  95%|#########5| 19/20 [09:10<00:26, 26.21s/it]\u001b[32m[I 2021-05-30 02:11:27,058]\u001b[0m Trial 25 finished with value: 0.07514365668545954 and parameters: {'num_leaves': 127}. Best is trial 15 with value: 0.07510726619109458.\u001b[0m\n",
      "num_leaves, val_score: 0.075107:  95%|#########5| 19/20 [09:10<00:26, 26.21s/it]"
     ]
    },
    {
     "name": "stdout",
     "output_type": "stream",
     "text": [
      "[LightGBM] [Warning] Auto-choosing row-wise multi-threading, the overhead of testing was 0.010025 seconds.\n",
      "You can set `force_row_wise=true` to remove the overhead.\n",
      "And if memory is not enough, you can set `force_col_wise=true`.\n",
      "[LightGBM] [Info] Total Bins 12383\n",
      "[LightGBM] [Info] Number of data points in the train set: 521580, number of used features: 20\n",
      "[LightGBM] [Info] Start training from score 7.219638\n",
      "Training until validation scores don't improve for 100 rounds\n",
      "[200]\tvalid_0's l1: 0.075384\n",
      "[400]\tvalid_0's l1: 0.0751901\n",
      "Early stopping, best iteration is:\n",
      "[376]\tvalid_0's l1: 0.0751806\n"
     ]
    },
    {
     "name": "stderr",
     "output_type": "stream",
     "text": [
      "num_leaves, val_score: 0.075107: 100%|##########| 20/20 [09:38<00:00, 26.70s/it]\u001b[32m[I 2021-05-30 02:11:54,888]\u001b[0m Trial 26 finished with value: 0.07518057406519424 and parameters: {'num_leaves': 199}. Best is trial 15 with value: 0.07510726619109458.\u001b[0m\n",
      "num_leaves, val_score: 0.075107: 100%|##########| 20/20 [09:38<00:00, 28.90s/it]\n",
      "bagging, val_score: 0.075107:   0%|          | 0/10 [00:00<?, ?it/s]"
     ]
    },
    {
     "name": "stdout",
     "output_type": "stream",
     "text": [
      "[LightGBM] [Warning] Auto-choosing row-wise multi-threading, the overhead of testing was 0.010452 seconds.\n",
      "You can set `force_row_wise=true` to remove the overhead.\n",
      "And if memory is not enough, you can set `force_col_wise=true`.\n",
      "[LightGBM] [Info] Total Bins 12383\n",
      "[LightGBM] [Info] Number of data points in the train set: 521580, number of used features: 20\n",
      "[LightGBM] [Info] Start training from score 7.219638\n",
      "Training until validation scores don't improve for 100 rounds\n",
      "[200]\tvalid_0's l1: 0.077021\n",
      "[400]\tvalid_0's l1: 0.0765054\n",
      "[600]\tvalid_0's l1: 0.0762985\n",
      "[800]\tvalid_0's l1: 0.0762486\n",
      "[1000]\tvalid_0's l1: 0.0761927\n",
      "Did not meet early stopping. Best iteration is:\n",
      "[986]\tvalid_0's l1: 0.0761693\n"
     ]
    },
    {
     "name": "stderr",
     "output_type": "stream",
     "text": [
      "bagging, val_score: 0.075107:  10%|#         | 1/10 [01:35<14:21, 95.67s/it]\u001b[32m[I 2021-05-30 02:13:30,572]\u001b[0m Trial 27 finished with value: 0.0761692546373405 and parameters: {'bagging_fraction': 0.5258567797748209, 'bagging_freq': 1}. Best is trial 27 with value: 0.0761692546373405.\u001b[0m\n",
      "bagging, val_score: 0.075107:  10%|#         | 1/10 [01:35<14:21, 95.67s/it]"
     ]
    },
    {
     "name": "stdout",
     "output_type": "stream",
     "text": [
      "[LightGBM] [Warning] Auto-choosing row-wise multi-threading, the overhead of testing was 0.010182 seconds.\n",
      "You can set `force_row_wise=true` to remove the overhead.\n",
      "And if memory is not enough, you can set `force_col_wise=true`.\n",
      "[LightGBM] [Info] Total Bins 12383\n",
      "[LightGBM] [Info] Number of data points in the train set: 521580, number of used features: 20\n",
      "[LightGBM] [Info] Start training from score 7.219638\n",
      "Training until validation scores don't improve for 100 rounds\n",
      "[200]\tvalid_0's l1: 0.076629\n",
      "[400]\tvalid_0's l1: 0.0760092\n",
      "[600]\tvalid_0's l1: 0.0758147\n",
      "Early stopping, best iteration is:\n",
      "[651]\tvalid_0's l1: 0.0757612\n"
     ]
    },
    {
     "name": "stderr",
     "output_type": "stream",
     "text": [
      "bagging, val_score: 0.075107:  20%|##        | 2/10 [03:08<12:33, 94.22s/it]\u001b[32m[I 2021-05-30 02:15:03,772]\u001b[0m Trial 28 finished with value: 0.07576124520648782 and parameters: {'bagging_fraction': 0.6453121550343132, 'bagging_freq': 2}. Best is trial 28 with value: 0.07576124520648782.\u001b[0m\n",
      "bagging, val_score: 0.075107:  20%|##        | 2/10 [03:08<12:33, 94.22s/it]"
     ]
    },
    {
     "name": "stdout",
     "output_type": "stream",
     "text": [
      "[LightGBM] [Warning] Auto-choosing row-wise multi-threading, the overhead of testing was 0.010172 seconds.\n",
      "You can set `force_row_wise=true` to remove the overhead.\n",
      "And if memory is not enough, you can set `force_col_wise=true`.\n",
      "[LightGBM] [Info] Total Bins 12383\n",
      "[LightGBM] [Info] Number of data points in the train set: 521580, number of used features: 20\n",
      "[LightGBM] [Info] Start training from score 7.219638\n",
      "Training until validation scores don't improve for 100 rounds\n",
      "[200]\tvalid_0's l1: 0.0763988\n",
      "[400]\tvalid_0's l1: 0.0758579\n",
      "[600]\tvalid_0's l1: 0.0756559\n",
      "[800]\tvalid_0's l1: 0.0755651\n",
      "[1000]\tvalid_0's l1: 0.0755242\n",
      "Did not meet early stopping. Best iteration is:\n",
      "[975]\tvalid_0's l1: 0.0755192\n"
     ]
    },
    {
     "name": "stderr",
     "output_type": "stream",
     "text": [
      "bagging, val_score: 0.075107:  30%|###       | 3/10 [04:33<10:28, 89.72s/it]\u001b[32m[I 2021-05-30 02:16:28,129]\u001b[0m Trial 29 finished with value: 0.07551916694096633 and parameters: {'bagging_fraction': 0.7527778883466578, 'bagging_freq': 1}. Best is trial 29 with value: 0.07551916694096633.\u001b[0m\n",
      "bagging, val_score: 0.075107:  30%|###       | 3/10 [04:33<10:28, 89.72s/it]"
     ]
    },
    {
     "name": "stdout",
     "output_type": "stream",
     "text": [
      "[LightGBM] [Warning] Auto-choosing row-wise multi-threading, the overhead of testing was 0.010843 seconds.\n",
      "You can set `force_row_wise=true` to remove the overhead.\n",
      "And if memory is not enough, you can set `force_col_wise=true`.\n",
      "[LightGBM] [Info] Total Bins 12383\n",
      "[LightGBM] [Info] Number of data points in the train set: 521580, number of used features: 20\n",
      "[LightGBM] [Info] Start training from score 7.219638\n",
      "Training until validation scores don't improve for 100 rounds\n",
      "[200]\tvalid_0's l1: 0.0764695\n",
      "[400]\tvalid_0's l1: 0.0759488\n",
      "[600]\tvalid_0's l1: 0.0758002\n",
      "[800]\tvalid_0's l1: 0.0757127\n",
      "Early stopping, best iteration is:\n",
      "[874]\tvalid_0's l1: 0.0756543\n"
     ]
    },
    {
     "name": "stderr",
     "output_type": "stream",
     "text": [
      "bagging, val_score: 0.075107:  40%|####      | 4/10 [06:02<08:56, 89.35s/it]\u001b[32m[I 2021-05-30 02:17:56,917]\u001b[0m Trial 30 finished with value: 0.07565433108106472 and parameters: {'bagging_fraction': 0.681300046858337, 'bagging_freq': 1}. Best is trial 29 with value: 0.07551916694096633.\u001b[0m\n",
      "bagging, val_score: 0.075107:  40%|####      | 4/10 [06:02<08:56, 89.35s/it]"
     ]
    },
    {
     "name": "stdout",
     "output_type": "stream",
     "text": [
      "[LightGBM] [Warning] Auto-choosing row-wise multi-threading, the overhead of testing was 0.010147 seconds.\n",
      "You can set `force_row_wise=true` to remove the overhead.\n",
      "And if memory is not enough, you can set `force_col_wise=true`.\n",
      "[LightGBM] [Info] Total Bins 12383\n",
      "[LightGBM] [Info] Number of data points in the train set: 521580, number of used features: 20\n",
      "[LightGBM] [Info] Start training from score 7.219638\n",
      "Training until validation scores don't improve for 100 rounds\n",
      "[200]\tvalid_0's l1: 0.0758615\n",
      "[400]\tvalid_0's l1: 0.0754729\n",
      "[600]\tvalid_0's l1: 0.0753303\n",
      "[800]\tvalid_0's l1: 0.0752513\n",
      "[1000]\tvalid_0's l1: 0.0751825\n",
      "Did not meet early stopping. Best iteration is:\n",
      "[988]\tvalid_0's l1: 0.0751769\n"
     ]
    },
    {
     "name": "stderr",
     "output_type": "stream",
     "text": [
      "bagging, val_score: 0.075107:  50%|#####     | 5/10 [07:04<06:37, 79.49s/it]\u001b[32m[I 2021-05-30 02:18:58,939]\u001b[0m Trial 31 finished with value: 0.07517693625035017 and parameters: {'bagging_fraction': 0.9805281965756031, 'bagging_freq': 4}. Best is trial 31 with value: 0.07517693625035017.\u001b[0m\n",
      "bagging, val_score: 0.075107:  50%|#####     | 5/10 [07:04<06:37, 79.49s/it]"
     ]
    },
    {
     "name": "stdout",
     "output_type": "stream",
     "text": [
      "[LightGBM] [Warning] Auto-choosing row-wise multi-threading, the overhead of testing was 0.010354 seconds.\n",
      "You can set `force_row_wise=true` to remove the overhead.\n",
      "And if memory is not enough, you can set `force_col_wise=true`.\n",
      "[LightGBM] [Info] Total Bins 12383\n",
      "[LightGBM] [Info] Number of data points in the train set: 521580, number of used features: 20\n",
      "[LightGBM] [Info] Start training from score 7.219638\n",
      "Training until validation scores don't improve for 100 rounds\n",
      "[200]\tvalid_0's l1: 0.077302\n",
      "[400]\tvalid_0's l1: 0.0766973\n",
      "[600]\tvalid_0's l1: 0.0764943\n",
      "[800]\tvalid_0's l1: 0.0764397\n",
      "Early stopping, best iteration is:\n",
      "[832]\tvalid_0's l1: 0.0764181\n"
     ]
    },
    {
     "name": "stderr",
     "output_type": "stream",
     "text": [
      "bagging, val_score: 0.075107:  60%|######    | 6/10 [08:55<06:01, 90.46s/it]\u001b[32m[I 2021-05-30 02:20:50,687]\u001b[0m Trial 32 finished with value: 0.07641807941246001 and parameters: {'bagging_fraction': 0.4668313106112095, 'bagging_freq': 1}. Best is trial 31 with value: 0.07517693625035017.\u001b[0m\n",
      "bagging, val_score: 0.075107:  60%|######    | 6/10 [08:55<06:01, 90.46s/it]"
     ]
    },
    {
     "name": "stdout",
     "output_type": "stream",
     "text": [
      "[LightGBM] [Warning] Auto-choosing row-wise multi-threading, the overhead of testing was 0.010696 seconds.\n",
      "You can set `force_row_wise=true` to remove the overhead.\n",
      "And if memory is not enough, you can set `force_col_wise=true`.\n",
      "[LightGBM] [Info] Total Bins 12383\n",
      "[LightGBM] [Info] Number of data points in the train set: 521580, number of used features: 20\n",
      "[LightGBM] [Info] Start training from score 7.219638\n",
      "Training until validation scores don't improve for 100 rounds\n",
      "[200]\tvalid_0's l1: 0.0768411\n",
      "[400]\tvalid_0's l1: 0.0762109\n",
      "[600]\tvalid_0's l1: 0.0760555\n",
      "Early stopping, best iteration is:\n",
      "[625]\tvalid_0's l1: 0.0759895\n"
     ]
    },
    {
     "name": "stderr",
     "output_type": "stream",
     "text": [
      "bagging, val_score: 0.075107:  70%|#######   | 7/10 [10:24<04:29, 89.97s/it]\u001b[32m[I 2021-05-30 02:22:19,657]\u001b[0m Trial 33 finished with value: 0.07598954745655442 and parameters: {'bagging_fraction': 0.5856700072987879, 'bagging_freq': 5}. Best is trial 31 with value: 0.07517693625035017.\u001b[0m\n",
      "bagging, val_score: 0.075107:  70%|#######   | 7/10 [10:24<04:29, 89.97s/it]"
     ]
    },
    {
     "name": "stdout",
     "output_type": "stream",
     "text": [
      "[LightGBM] [Warning] Auto-choosing row-wise multi-threading, the overhead of testing was 0.009853 seconds.\n",
      "You can set `force_row_wise=true` to remove the overhead.\n",
      "And if memory is not enough, you can set `force_col_wise=true`.\n",
      "[LightGBM] [Info] Total Bins 12383\n",
      "[LightGBM] [Info] Number of data points in the train set: 521580, number of used features: 20\n",
      "[LightGBM] [Info] Start training from score 7.219638\n",
      "Training until validation scores don't improve for 100 rounds\n",
      "[200]\tvalid_0's l1: 0.0759025\n",
      "[400]\tvalid_0's l1: 0.0754385\n",
      "[600]\tvalid_0's l1: 0.0752729\n",
      "[800]\tvalid_0's l1: 0.0752129\n",
      "Early stopping, best iteration is:\n",
      "[805]\tvalid_0's l1: 0.0752075\n"
     ]
    },
    {
     "name": "stderr",
     "output_type": "stream",
     "text": [
      "bagging, val_score: 0.075107:  80%|########  | 8/10 [11:28<02:43, 81.60s/it]\u001b[32m[I 2021-05-30 02:23:23,337]\u001b[0m Trial 34 finished with value: 0.07520749506463686 and parameters: {'bagging_fraction': 0.9614598323869298, 'bagging_freq': 4}. Best is trial 31 with value: 0.07517693625035017.\u001b[0m\n",
      "bagging, val_score: 0.075107:  80%|########  | 8/10 [11:28<02:43, 81.60s/it]"
     ]
    },
    {
     "name": "stdout",
     "output_type": "stream",
     "text": [
      "[LightGBM] [Warning] Auto-choosing row-wise multi-threading, the overhead of testing was 0.009996 seconds.\n",
      "You can set `force_row_wise=true` to remove the overhead.\n",
      "And if memory is not enough, you can set `force_col_wise=true`.\n",
      "[LightGBM] [Info] Total Bins 12383\n",
      "[LightGBM] [Info] Number of data points in the train set: 521580, number of used features: 20\n",
      "[LightGBM] [Info] Start training from score 7.219638\n",
      "Training until validation scores don't improve for 100 rounds\n",
      "[200]\tvalid_0's l1: 0.0761292\n",
      "[400]\tvalid_0's l1: 0.0755815\n",
      "[600]\tvalid_0's l1: 0.075419\n",
      "[800]\tvalid_0's l1: 0.0753525\n",
      "Early stopping, best iteration is:\n",
      "[822]\tvalid_0's l1: 0.0753278\n"
     ]
    },
    {
     "name": "stderr",
     "output_type": "stream",
     "text": [
      "bagging, val_score: 0.075107:  90%|######### | 9/10 [13:05<01:26, 86.46s/it]\u001b[32m[I 2021-05-30 02:25:00,465]\u001b[0m Trial 35 finished with value: 0.07532780498601403 and parameters: {'bagging_fraction': 0.857365407517869, 'bagging_freq': 2}. Best is trial 31 with value: 0.07517693625035017.\u001b[0m\n",
      "bagging, val_score: 0.075107:  90%|######### | 9/10 [13:05<01:26, 86.46s/it]"
     ]
    },
    {
     "name": "stdout",
     "output_type": "stream",
     "text": [
      "[LightGBM] [Warning] Auto-choosing row-wise multi-threading, the overhead of testing was 0.010494 seconds.\n",
      "You can set `force_row_wise=true` to remove the overhead.\n",
      "And if memory is not enough, you can set `force_col_wise=true`.\n",
      "[LightGBM] [Info] Total Bins 12383\n",
      "[LightGBM] [Info] Number of data points in the train set: 521580, number of used features: 20\n",
      "[LightGBM] [Info] Start training from score 7.219638\n",
      "Training until validation scores don't improve for 100 rounds\n",
      "[200]\tvalid_0's l1: 0.0759098\n",
      "[400]\tvalid_0's l1: 0.0754632\n",
      "[600]\tvalid_0's l1: 0.075279\n",
      "[800]\tvalid_0's l1: 0.0751944\n",
      "[1000]\tvalid_0's l1: 0.0751421\n",
      "Did not meet early stopping. Best iteration is:\n",
      "[983]\tvalid_0's l1: 0.0751387\n"
     ]
    },
    {
     "name": "stderr",
     "output_type": "stream",
     "text": [
      "bagging, val_score: 0.075107: 100%|##########| 10/10 [13:43<00:00, 71.57s/it]\u001b[32m[I 2021-05-30 02:25:38,695]\u001b[0m Trial 36 finished with value: 0.07513874590241972 and parameters: {'bagging_fraction': 0.9864646842702642, 'bagging_freq': 1}. Best is trial 36 with value: 0.07513874590241972.\u001b[0m\n",
      "bagging, val_score: 0.075107: 100%|##########| 10/10 [13:43<00:00, 82.38s/it]\n",
      "feature_fraction_stage2, val_score: 0.075107:   0%|          | 0/6 [00:00<?, ?it/s]"
     ]
    },
    {
     "name": "stdout",
     "output_type": "stream",
     "text": [
      "[LightGBM] [Warning] Auto-choosing row-wise multi-threading, the overhead of testing was 0.009657 seconds.\n",
      "You can set `force_row_wise=true` to remove the overhead.\n",
      "And if memory is not enough, you can set `force_col_wise=true`.\n",
      "[LightGBM] [Info] Total Bins 12383\n",
      "[LightGBM] [Info] Number of data points in the train set: 521580, number of used features: 20\n",
      "[LightGBM] [Info] Start training from score 7.219638\n",
      "Training until validation scores don't improve for 100 rounds\n",
      "[200]\tvalid_0's l1: 0.0758343\n",
      "[400]\tvalid_0's l1: 0.0754071\n",
      "[600]\tvalid_0's l1: 0.0752482\n",
      "[800]\tvalid_0's l1: 0.0751673\n",
      "[1000]\tvalid_0's l1: 0.0751441\n",
      "Did not meet early stopping. Best iteration is:\n",
      "[998]\tvalid_0's l1: 0.0751437\n"
     ]
    },
    {
     "name": "stderr",
     "output_type": "stream",
     "text": [
      "feature_fraction_stage2, val_score: 0.075107:  17%|#6        | 1/6 [00:31<02:39, 31.93s/it]\u001b[32m[I 2021-05-30 02:26:10,629]\u001b[0m Trial 37 finished with value: 0.07514369632440597 and parameters: {'feature_fraction': 0.45199999999999996}. Best is trial 37 with value: 0.07514369632440597.\u001b[0m\n",
      "feature_fraction_stage2, val_score: 0.075107:  17%|#6        | 1/6 [00:31<02:39, 31.93s/it]"
     ]
    },
    {
     "name": "stdout",
     "output_type": "stream",
     "text": [
      "[LightGBM] [Warning] Auto-choosing col-wise multi-threading, the overhead of testing was 0.032258 seconds.\n",
      "You can set `force_col_wise=true` to remove the overhead.\n",
      "[LightGBM] [Info] Total Bins 12383\n",
      "[LightGBM] [Info] Number of data points in the train set: 521580, number of used features: 20\n",
      "[LightGBM] [Info] Start training from score 7.219638\n",
      "Training until validation scores don't improve for 100 rounds\n",
      "[200]\tvalid_0's l1: 0.0758143\n",
      "[400]\tvalid_0's l1: 0.0754005\n",
      "[600]\tvalid_0's l1: 0.0752907\n",
      "[800]\tvalid_0's l1: 0.0752521\n",
      "Early stopping, best iteration is:\n",
      "[826]\tvalid_0's l1: 0.0752399\n"
     ]
    },
    {
     "name": "stderr",
     "output_type": "stream",
     "text": [
      "feature_fraction_stage2, val_score: 0.075107:  33%|###3      | 2/6 [01:03<02:06, 31.71s/it]\u001b[32m[I 2021-05-30 02:26:42,190]\u001b[0m Trial 38 finished with value: 0.07523988580450339 and parameters: {'feature_fraction': 0.5479999999999999}. Best is trial 37 with value: 0.07514369632440597.\u001b[0m\n",
      "feature_fraction_stage2, val_score: 0.075107:  33%|###3      | 2/6 [01:03<02:06, 31.71s/it]"
     ]
    },
    {
     "name": "stdout",
     "output_type": "stream",
     "text": [
      "[LightGBM] [Warning] Auto-choosing row-wise multi-threading, the overhead of testing was 0.009411 seconds.\n",
      "You can set `force_row_wise=true` to remove the overhead.\n",
      "And if memory is not enough, you can set `force_col_wise=true`.\n",
      "[LightGBM] [Info] Total Bins 12383\n",
      "[LightGBM] [Info] Number of data points in the train set: 521580, number of used features: 20\n",
      "[LightGBM] [Info] Start training from score 7.219638\n",
      "Training until validation scores don't improve for 100 rounds\n",
      "[200]\tvalid_0's l1: 0.0761869\n",
      "[400]\tvalid_0's l1: 0.0756028\n",
      "[600]\tvalid_0's l1: 0.0754988\n",
      "[800]\tvalid_0's l1: 0.0753767\n",
      "[1000]\tvalid_0's l1: 0.0752964\n",
      "Did not meet early stopping. Best iteration is:\n",
      "[993]\tvalid_0's l1: 0.0752963\n"
     ]
    },
    {
     "name": "stderr",
     "output_type": "stream",
     "text": [
      "feature_fraction_stage2, val_score: 0.075107:  50%|#####     | 3/6 [01:38<01:39, 33.05s/it]\u001b[32m[I 2021-05-30 02:27:16,825]\u001b[0m Trial 39 finished with value: 0.07529625574311564 and parameters: {'feature_fraction': 0.42}. Best is trial 37 with value: 0.07514369632440597.\u001b[0m\n",
      "feature_fraction_stage2, val_score: 0.075107:  50%|#####     | 3/6 [01:38<01:39, 33.05s/it]"
     ]
    },
    {
     "name": "stdout",
     "output_type": "stream",
     "text": [
      "[LightGBM] [Warning] Auto-choosing col-wise multi-threading, the overhead of testing was 0.036264 seconds.\n",
      "You can set `force_col_wise=true` to remove the overhead.\n",
      "[LightGBM] [Info] Total Bins 12383\n",
      "[LightGBM] [Info] Number of data points in the train set: 521580, number of used features: 20\n",
      "[LightGBM] [Info] Start training from score 7.219638\n",
      "Training until validation scores don't improve for 100 rounds\n",
      "[200]\tvalid_0's l1: 0.0759036\n",
      "[400]\tvalid_0's l1: 0.0755114\n",
      "[600]\tvalid_0's l1: 0.0754444\n",
      "Early stopping, best iteration is:\n",
      "[627]\tvalid_0's l1: 0.0754356\n"
     ]
    },
    {
     "name": "stderr",
     "output_type": "stream",
     "text": [
      "feature_fraction_stage2, val_score: 0.075107:  67%|######6   | 4/6 [02:07<01:03, 31.75s/it]\u001b[32m[I 2021-05-30 02:27:46,575]\u001b[0m Trial 40 finished with value: 0.07543556983720277 and parameters: {'feature_fraction': 0.58}. Best is trial 37 with value: 0.07514369632440597.\u001b[0m\n",
      "feature_fraction_stage2, val_score: 0.075107:  67%|######6   | 4/6 [02:07<01:03, 31.75s/it]"
     ]
    },
    {
     "name": "stdout",
     "output_type": "stream",
     "text": [
      "[LightGBM] [Warning] Auto-choosing row-wise multi-threading, the overhead of testing was 0.010685 seconds.\n",
      "You can set `force_row_wise=true` to remove the overhead.\n",
      "And if memory is not enough, you can set `force_col_wise=true`.\n",
      "[LightGBM] [Info] Total Bins 12383\n",
      "[LightGBM] [Info] Number of data points in the train set: 521580, number of used features: 20\n",
      "[LightGBM] [Info] Start training from score 7.219638\n",
      "Training until validation scores don't improve for 100 rounds\n",
      "[200]\tvalid_0's l1: 0.0758284\n",
      "[400]\tvalid_0's l1: 0.0753662\n",
      "[600]\tvalid_0's l1: 0.0751977\n",
      "[800]\tvalid_0's l1: 0.0751344\n",
      "[1000]\tvalid_0's l1: 0.0751093\n",
      "Did not meet early stopping. Best iteration is:\n",
      "[976]\tvalid_0's l1: 0.0751073\n"
     ]
    },
    {
     "name": "stderr",
     "output_type": "stream",
     "text": [
      "feature_fraction_stage2, val_score: 0.075107:  83%|########3 | 5/6 [02:42<00:32, 32.90s/it]\u001b[32m[I 2021-05-30 02:28:21,522]\u001b[0m Trial 41 finished with value: 0.07510726619109458 and parameters: {'feature_fraction': 0.516}. Best is trial 41 with value: 0.07510726619109458.\u001b[0m\n",
      "feature_fraction_stage2, val_score: 0.075107:  83%|########3 | 5/6 [02:42<00:32, 32.90s/it]"
     ]
    },
    {
     "name": "stdout",
     "output_type": "stream",
     "text": [
      "[LightGBM] [Warning] Auto-choosing row-wise multi-threading, the overhead of testing was 0.010343 seconds.\n",
      "You can set `force_row_wise=true` to remove the overhead.\n",
      "And if memory is not enough, you can set `force_col_wise=true`.\n",
      "[LightGBM] [Info] Total Bins 12383\n",
      "[LightGBM] [Info] Number of data points in the train set: 521580, number of used features: 20\n",
      "[LightGBM] [Info] Start training from score 7.219638\n",
      "Training until validation scores don't improve for 100 rounds\n",
      "[200]\tvalid_0's l1: 0.0758284\n",
      "[400]\tvalid_0's l1: 0.0753662\n",
      "[600]\tvalid_0's l1: 0.0751977\n",
      "[800]\tvalid_0's l1: 0.0751344\n",
      "[1000]\tvalid_0's l1: 0.0751093\n",
      "Did not meet early stopping. Best iteration is:\n",
      "[976]\tvalid_0's l1: 0.0751073\n"
     ]
    },
    {
     "name": "stderr",
     "output_type": "stream",
     "text": [
      "feature_fraction_stage2, val_score: 0.075107: 100%|##########| 6/6 [03:17<00:00, 33.58s/it]\u001b[32m[I 2021-05-30 02:28:56,437]\u001b[0m Trial 42 finished with value: 0.07510726619109458 and parameters: {'feature_fraction': 0.484}. Best is trial 41 with value: 0.07510726619109458.\u001b[0m\n",
      "feature_fraction_stage2, val_score: 0.075107: 100%|##########| 6/6 [03:17<00:00, 32.96s/it]\n",
      "regularization_factors, val_score: 0.075107:   0%|          | 0/20 [00:00<?, ?it/s]"
     ]
    },
    {
     "name": "stdout",
     "output_type": "stream",
     "text": [
      "[LightGBM] [Warning] Auto-choosing row-wise multi-threading, the overhead of testing was 0.010589 seconds.\n",
      "You can set `force_row_wise=true` to remove the overhead.\n",
      "And if memory is not enough, you can set `force_col_wise=true`.\n",
      "[LightGBM] [Info] Total Bins 12383\n",
      "[LightGBM] [Info] Number of data points in the train set: 521580, number of used features: 20\n",
      "[LightGBM] [Info] Start training from score 7.219638\n",
      "Training until validation scores don't improve for 100 rounds\n",
      "[200]\tvalid_0's l1: 0.0758097\n",
      "[400]\tvalid_0's l1: 0.0753652\n",
      "[600]\tvalid_0's l1: 0.0752664\n",
      "[800]\tvalid_0's l1: 0.0751914\n",
      "[1000]\tvalid_0's l1: 0.0751529\n",
      "Did not meet early stopping. Best iteration is:\n",
      "[998]\tvalid_0's l1: 0.0751523\n"
     ]
    },
    {
     "name": "stderr",
     "output_type": "stream",
     "text": [
      "regularization_factors, val_score: 0.075107:   5%|5         | 1/20 [00:34<11:00, 34.74s/it]\u001b[32m[I 2021-05-30 02:29:31,189]\u001b[0m Trial 43 finished with value: 0.0751523180450145 and parameters: {'lambda_l1': 9.28903105068744e-07, 'lambda_l2': 1.5449550581748674}. Best is trial 43 with value: 0.0751523180450145.\u001b[0m\n",
      "regularization_factors, val_score: 0.075107:   5%|5         | 1/20 [00:34<11:00, 34.74s/it]"
     ]
    },
    {
     "name": "stdout",
     "output_type": "stream",
     "text": [
      "[LightGBM] [Warning] Auto-choosing row-wise multi-threading, the overhead of testing was 0.010247 seconds.\n",
      "You can set `force_row_wise=true` to remove the overhead.\n",
      "And if memory is not enough, you can set `force_col_wise=true`.\n",
      "[LightGBM] [Info] Total Bins 12383\n",
      "[LightGBM] [Info] Number of data points in the train set: 521580, number of used features: 20\n",
      "[LightGBM] [Info] Start training from score 7.219638\n",
      "Training until validation scores don't improve for 100 rounds\n",
      "[200]\tvalid_0's l1: 0.0757685\n",
      "[400]\tvalid_0's l1: 0.0752437\n",
      "[600]\tvalid_0's l1: 0.0751257\n",
      "[800]\tvalid_0's l1: 0.0750716\n",
      "[1000]\tvalid_0's l1: 0.0750275\n",
      "Did not meet early stopping. Best iteration is:\n",
      "[989]\tvalid_0's l1: 0.0750255\n"
     ]
    },
    {
     "name": "stderr",
     "output_type": "stream",
     "text": [
      "regularization_factors, val_score: 0.075025:  10%|#         | 2/20 [01:09<10:24, 34.71s/it]\u001b[32m[I 2021-05-30 02:30:05,881]\u001b[0m Trial 44 finished with value: 0.07502549451511359 and parameters: {'lambda_l1': 7.699954647987942e-08, 'lambda_l2': 2.5098429851709887}. Best is trial 44 with value: 0.07502549451511359.\u001b[0m\n",
      "regularization_factors, val_score: 0.075025:  10%|#         | 2/20 [01:09<10:24, 34.71s/it]"
     ]
    },
    {
     "name": "stdout",
     "output_type": "stream",
     "text": [
      "[LightGBM] [Warning] Auto-choosing row-wise multi-threading, the overhead of testing was 0.009656 seconds.\n",
      "You can set `force_row_wise=true` to remove the overhead.\n",
      "And if memory is not enough, you can set `force_col_wise=true`.\n",
      "[LightGBM] [Info] Total Bins 12383\n",
      "[LightGBM] [Info] Number of data points in the train set: 521580, number of used features: 20\n",
      "[LightGBM] [Info] Start training from score 7.219638\n",
      "Training until validation scores don't improve for 100 rounds\n",
      "[200]\tvalid_0's l1: 0.0758066\n",
      "[400]\tvalid_0's l1: 0.0753723\n",
      "[600]\tvalid_0's l1: 0.0752527\n",
      "[800]\tvalid_0's l1: 0.0752163\n",
      "[1000]\tvalid_0's l1: 0.0751799\n",
      "Did not meet early stopping. Best iteration is:\n",
      "[999]\tvalid_0's l1: 0.0751777\n"
     ]
    },
    {
     "name": "stderr",
     "output_type": "stream",
     "text": [
      "regularization_factors, val_score: 0.075025:  15%|#5        | 3/20 [01:43<09:43, 34.32s/it]\u001b[32m[I 2021-05-30 02:30:39,731]\u001b[0m Trial 45 finished with value: 0.07517773002757881 and parameters: {'lambda_l1': 0.007507530494161412, 'lambda_l2': 0.5378709804372934}. Best is trial 44 with value: 0.07502549451511359.\u001b[0m\n",
      "regularization_factors, val_score: 0.075025:  15%|#5        | 3/20 [01:43<09:43, 34.32s/it]"
     ]
    },
    {
     "name": "stdout",
     "output_type": "stream",
     "text": [
      "[LightGBM] [Warning] Auto-choosing row-wise multi-threading, the overhead of testing was 0.009784 seconds.\n",
      "You can set `force_row_wise=true` to remove the overhead.\n",
      "And if memory is not enough, you can set `force_col_wise=true`.\n",
      "[LightGBM] [Info] Total Bins 12383\n",
      "[LightGBM] [Info] Number of data points in the train set: 521580, number of used features: 20\n",
      "[LightGBM] [Info] Start training from score 7.219638\n",
      "Training until validation scores don't improve for 100 rounds\n",
      "[200]\tvalid_0's l1: 0.0757722\n",
      "[400]\tvalid_0's l1: 0.0753422\n",
      "[600]\tvalid_0's l1: 0.0752328\n",
      "[800]\tvalid_0's l1: 0.0751403\n",
      "[1000]\tvalid_0's l1: 0.0751208\n",
      "Did not meet early stopping. Best iteration is:\n",
      "[958]\tvalid_0's l1: 0.0751119\n"
     ]
    },
    {
     "name": "stderr",
     "output_type": "stream",
     "text": [
      "regularization_factors, val_score: 0.075025:  20%|##        | 4/20 [02:17<09:07, 34.21s/it]\u001b[32m[I 2021-05-30 02:31:13,786]\u001b[0m Trial 46 finished with value: 0.07511189484442739 and parameters: {'lambda_l1': 1.8000361905748522e-08, 'lambda_l2': 9.573684356602081e-05}. Best is trial 44 with value: 0.07502549451511359.\u001b[0m\n",
      "regularization_factors, val_score: 0.075025:  20%|##        | 4/20 [02:17<09:07, 34.21s/it]"
     ]
    },
    {
     "name": "stdout",
     "output_type": "stream",
     "text": [
      "[LightGBM] [Warning] Auto-choosing row-wise multi-threading, the overhead of testing was 0.009799 seconds.\n",
      "You can set `force_row_wise=true` to remove the overhead.\n",
      "And if memory is not enough, you can set `force_col_wise=true`.\n",
      "[LightGBM] [Info] Total Bins 12383\n",
      "[LightGBM] [Info] Number of data points in the train set: 521580, number of used features: 20\n",
      "[LightGBM] [Info] Start training from score 7.219638\n",
      "Training until validation scores don't improve for 100 rounds\n",
      "[200]\tvalid_0's l1: 0.0758476\n",
      "[400]\tvalid_0's l1: 0.0753939\n",
      "[600]\tvalid_0's l1: 0.0753087\n",
      "[800]\tvalid_0's l1: 0.075208\n",
      "Early stopping, best iteration is:\n",
      "[849]\tvalid_0's l1: 0.0751901\n"
     ]
    },
    {
     "name": "stderr",
     "output_type": "stream",
     "text": [
      "regularization_factors, val_score: 0.075025:  25%|##5       | 5/20 [02:50<08:27, 33.86s/it]\u001b[32m[I 2021-05-30 02:31:47,012]\u001b[0m Trial 47 finished with value: 0.07519007819424832 and parameters: {'lambda_l1': 5.653044744246046e-07, 'lambda_l2': 0.022226689343052827}. Best is trial 44 with value: 0.07502549451511359.\u001b[0m\n",
      "regularization_factors, val_score: 0.075025:  25%|##5       | 5/20 [02:50<08:27, 33.86s/it]"
     ]
    },
    {
     "name": "stdout",
     "output_type": "stream",
     "text": [
      "[LightGBM] [Warning] Auto-choosing row-wise multi-threading, the overhead of testing was 0.009570 seconds.\n",
      "You can set `force_row_wise=true` to remove the overhead.\n",
      "And if memory is not enough, you can set `force_col_wise=true`.\n",
      "[LightGBM] [Info] Total Bins 12383\n",
      "[LightGBM] [Info] Number of data points in the train set: 521580, number of used features: 20\n",
      "[LightGBM] [Info] Start training from score 7.219638\n",
      "Training until validation scores don't improve for 100 rounds\n",
      "[200]\tvalid_0's l1: 0.0758284\n",
      "[400]\tvalid_0's l1: 0.0753393\n",
      "[600]\tvalid_0's l1: 0.0752124\n",
      "Early stopping, best iteration is:\n",
      "[689]\tvalid_0's l1: 0.075153\n"
     ]
    },
    {
     "name": "stderr",
     "output_type": "stream",
     "text": [
      "regularization_factors, val_score: 0.075025:  30%|###       | 6/20 [03:20<07:35, 32.53s/it]\u001b[32m[I 2021-05-30 02:32:16,954]\u001b[0m Trial 48 finished with value: 0.07515297404672146 and parameters: {'lambda_l1': 1.137588801715398e-06, 'lambda_l2': 2.046211110100179e-06}. Best is trial 44 with value: 0.07502549451511359.\u001b[0m\n",
      "regularization_factors, val_score: 0.075025:  30%|###       | 6/20 [03:20<07:35, 32.53s/it]"
     ]
    },
    {
     "name": "stdout",
     "output_type": "stream",
     "text": [
      "[LightGBM] [Warning] Auto-choosing row-wise multi-threading, the overhead of testing was 0.009809 seconds.\n",
      "You can set `force_row_wise=true` to remove the overhead.\n",
      "And if memory is not enough, you can set `force_col_wise=true`.\n",
      "[LightGBM] [Info] Total Bins 12383\n",
      "[LightGBM] [Info] Number of data points in the train set: 521580, number of used features: 20\n",
      "[LightGBM] [Info] Start training from score 7.219638\n",
      "Training until validation scores don't improve for 100 rounds\n",
      "[200]\tvalid_0's l1: 0.0758284\n",
      "[400]\tvalid_0's l1: 0.0753393\n",
      "[600]\tvalid_0's l1: 0.0752334\n",
      "Early stopping, best iteration is:\n",
      "[653]\tvalid_0's l1: 0.0752148\n"
     ]
    },
    {
     "name": "stderr",
     "output_type": "stream",
     "text": [
      "regularization_factors, val_score: 0.075025:  35%|###5      | 7/20 [03:50<06:50, 31.58s/it]\u001b[32m[I 2021-05-30 02:32:46,572]\u001b[0m Trial 49 finished with value: 0.07521483784383354 and parameters: {'lambda_l1': 1.1564000472919377e-07, 'lambda_l2': 1.4107932764338511e-07}. Best is trial 44 with value: 0.07502549451511359.\u001b[0m\n",
      "regularization_factors, val_score: 0.075025:  35%|###5      | 7/20 [03:50<06:50, 31.58s/it]"
     ]
    },
    {
     "name": "stdout",
     "output_type": "stream",
     "text": [
      "[LightGBM] [Warning] Auto-choosing row-wise multi-threading, the overhead of testing was 0.010093 seconds.\n",
      "You can set `force_row_wise=true` to remove the overhead.\n",
      "And if memory is not enough, you can set `force_col_wise=true`.\n",
      "[LightGBM] [Info] Total Bins 12383\n",
      "[LightGBM] [Info] Number of data points in the train set: 521580, number of used features: 20\n",
      "[LightGBM] [Info] Start training from score 7.219638\n",
      "Training until validation scores don't improve for 100 rounds\n",
      "[200]\tvalid_0's l1: 0.0758156\n",
      "[400]\tvalid_0's l1: 0.0753169\n",
      "[600]\tvalid_0's l1: 0.0751998\n",
      "[800]\tvalid_0's l1: 0.0751755\n",
      "[1000]\tvalid_0's l1: 0.0751249\n",
      "Did not meet early stopping. Best iteration is:\n",
      "[997]\tvalid_0's l1: 0.0751247\n"
     ]
    },
    {
     "name": "stderr",
     "output_type": "stream",
     "text": [
      "regularization_factors, val_score: 0.075025:  40%|####      | 8/20 [04:25<06:32, 32.69s/it]\u001b[32m[I 2021-05-30 02:33:21,659]\u001b[0m Trial 50 finished with value: 0.07512469196533177 and parameters: {'lambda_l1': 6.178526656059997e-07, 'lambda_l2': 3.064680859132315}. Best is trial 44 with value: 0.07502549451511359.\u001b[0m\n",
      "regularization_factors, val_score: 0.075025:  40%|####      | 8/20 [04:25<06:32, 32.69s/it]"
     ]
    },
    {
     "name": "stdout",
     "output_type": "stream",
     "text": [
      "[LightGBM] [Warning] Auto-choosing row-wise multi-threading, the overhead of testing was 0.009643 seconds.\n",
      "You can set `force_row_wise=true` to remove the overhead.\n",
      "And if memory is not enough, you can set `force_col_wise=true`.\n",
      "[LightGBM] [Info] Total Bins 12383\n",
      "[LightGBM] [Info] Number of data points in the train set: 521580, number of used features: 20\n",
      "[LightGBM] [Info] Start training from score 7.219638\n",
      "Training until validation scores don't improve for 100 rounds\n",
      "[200]\tvalid_0's l1: 0.0758284\n",
      "[400]\tvalid_0's l1: 0.0753392\n",
      "[600]\tvalid_0's l1: 0.0752332\n",
      "Early stopping, best iteration is:\n",
      "[653]\tvalid_0's l1: 0.0752147\n"
     ]
    },
    {
     "name": "stderr",
     "output_type": "stream",
     "text": [
      "regularization_factors, val_score: 0.075025:  45%|####5     | 9/20 [04:54<05:46, 31.54s/it]\u001b[32m[I 2021-05-30 02:33:50,672]\u001b[0m Trial 51 finished with value: 0.07521467370585519 and parameters: {'lambda_l1': 2.0122672490015092e-07, 'lambda_l2': 1.18378365139164e-08}. Best is trial 44 with value: 0.07502549451511359.\u001b[0m\n",
      "regularization_factors, val_score: 0.075025:  45%|####5     | 9/20 [04:54<05:46, 31.54s/it]"
     ]
    },
    {
     "name": "stdout",
     "output_type": "stream",
     "text": [
      "[LightGBM] [Warning] Auto-choosing row-wise multi-threading, the overhead of testing was 0.009453 seconds.\n",
      "You can set `force_row_wise=true` to remove the overhead.\n",
      "And if memory is not enough, you can set `force_col_wise=true`.\n",
      "[LightGBM] [Info] Total Bins 12383\n",
      "[LightGBM] [Info] Number of data points in the train set: 521580, number of used features: 20\n",
      "[LightGBM] [Info] Start training from score 7.219638\n",
      "Training until validation scores don't improve for 100 rounds\n",
      "[200]\tvalid_0's l1: 0.0758363\n",
      "[400]\tvalid_0's l1: 0.0753588\n",
      "[600]\tvalid_0's l1: 0.0752961\n",
      "[800]\tvalid_0's l1: 0.0752178\n",
      "[1000]\tvalid_0's l1: 0.0751945\n",
      "Did not meet early stopping. Best iteration is:\n",
      "[913]\tvalid_0's l1: 0.075194\n"
     ]
    },
    {
     "name": "stderr",
     "output_type": "stream",
     "text": [
      "regularization_factors, val_score: 0.075025:  50%|#####     | 10/20 [05:28<05:24, 32.41s/it]\u001b[32m[I 2021-05-30 02:34:25,012]\u001b[0m Trial 52 finished with value: 0.07519402100720846 and parameters: {'lambda_l1': 1.0430141881683874e-08, 'lambda_l2': 0.0026982821585620187}. Best is trial 44 with value: 0.07502549451511359.\u001b[0m\n",
      "regularization_factors, val_score: 0.075025:  50%|#####     | 10/20 [05:28<05:24, 32.41s/it]"
     ]
    },
    {
     "name": "stdout",
     "output_type": "stream",
     "text": [
      "[LightGBM] [Warning] Auto-choosing row-wise multi-threading, the overhead of testing was 0.009428 seconds.\n",
      "You can set `force_row_wise=true` to remove the overhead.\n",
      "And if memory is not enough, you can set `force_col_wise=true`.\n",
      "[LightGBM] [Info] Total Bins 12383\n",
      "[LightGBM] [Info] Number of data points in the train set: 521580, number of used features: 20\n",
      "[LightGBM] [Info] Start training from score 7.219638\n",
      "Training until validation scores don't improve for 100 rounds\n",
      "[200]\tvalid_0's l1: 0.0755596\n",
      "[400]\tvalid_0's l1: 0.074907\n",
      "[600]\tvalid_0's l1: 0.0748312\n",
      "Early stopping, best iteration is:\n",
      "[555]\tvalid_0's l1: 0.0748041\n"
     ]
    },
    {
     "name": "stderr",
     "output_type": "stream",
     "text": [
      "regularization_factors, val_score: 0.074804:  55%|#####5    | 11/20 [06:04<05:00, 33.36s/it]\u001b[32m[I 2021-05-30 02:35:00,525]\u001b[0m Trial 53 finished with value: 0.07480409693200596 and parameters: {'lambda_l1': 3.177129483755055, 'lambda_l2': 5.095197362861715e-05}. Best is trial 53 with value: 0.07480409693200596.\u001b[0m\n",
      "regularization_factors, val_score: 0.074804:  55%|#####5    | 11/20 [06:04<05:00, 33.36s/it]"
     ]
    },
    {
     "name": "stdout",
     "output_type": "stream",
     "text": [
      "[LightGBM] [Warning] Auto-choosing row-wise multi-threading, the overhead of testing was 0.010452 seconds.\n",
      "You can set `force_row_wise=true` to remove the overhead.\n",
      "And if memory is not enough, you can set `force_col_wise=true`.\n",
      "[LightGBM] [Info] Total Bins 12383\n",
      "[LightGBM] [Info] Number of data points in the train set: 521580, number of used features: 20\n",
      "[LightGBM] [Info] Start training from score 7.219638\n",
      "Training until validation scores don't improve for 100 rounds\n",
      "[200]\tvalid_0's l1: 0.0757024\n",
      "[400]\tvalid_0's l1: 0.0752271\n",
      "[600]\tvalid_0's l1: 0.0751544\n",
      "[800]\tvalid_0's l1: 0.0751276\n",
      "[1000]\tvalid_0's l1: 0.075116\n",
      "Did not meet early stopping. Best iteration is:\n",
      "[965]\tvalid_0's l1: 0.075108\n"
     ]
    },
    {
     "name": "stderr",
     "output_type": "stream",
     "text": [
      "regularization_factors, val_score: 0.074804:  60%|######    | 12/20 [06:48<04:53, 36.74s/it]\u001b[32m[I 2021-05-30 02:35:44,996]\u001b[0m Trial 54 finished with value: 0.07510803535086256 and parameters: {'lambda_l1': 0.8181019622224346, 'lambda_l2': 2.5716656065672667e-05}. Best is trial 53 with value: 0.07480409693200596.\u001b[0m\n",
      "regularization_factors, val_score: 0.074804:  60%|######    | 12/20 [06:48<04:53, 36.74s/it]"
     ]
    },
    {
     "name": "stdout",
     "output_type": "stream",
     "text": [
      "[LightGBM] [Warning] Auto-choosing row-wise multi-threading, the overhead of testing was 0.010806 seconds.\n",
      "You can set `force_row_wise=true` to remove the overhead.\n",
      "And if memory is not enough, you can set `force_col_wise=true`.\n",
      "[LightGBM] [Info] Total Bins 12383\n",
      "[LightGBM] [Info] Number of data points in the train set: 521580, number of used features: 20\n",
      "[LightGBM] [Info] Start training from score 7.219638\n",
      "Training until validation scores don't improve for 100 rounds\n",
      "[200]\tvalid_0's l1: 0.075498\n",
      "[400]\tvalid_0's l1: 0.0747545\n",
      "Early stopping, best iteration is:\n",
      "[462]\tvalid_0's l1: 0.0746628\n"
     ]
    },
    {
     "name": "stderr",
     "output_type": "stream",
     "text": [
      "regularization_factors, val_score: 0.074663:  65%|######5   | 13/20 [07:18<04:02, 34.63s/it]\u001b[32m[I 2021-05-30 02:36:14,759]\u001b[0m Trial 55 finished with value: 0.07466284950367393 and parameters: {'lambda_l1': 7.863603333496325, 'lambda_l2': 0.008531391969001701}. Best is trial 55 with value: 0.07466284950367393.\u001b[0m\n",
      "regularization_factors, val_score: 0.074663:  65%|######5   | 13/20 [07:18<04:02, 34.63s/it]"
     ]
    },
    {
     "name": "stdout",
     "output_type": "stream",
     "text": [
      "[LightGBM] [Warning] Auto-choosing row-wise multi-threading, the overhead of testing was 0.010017 seconds.\n",
      "You can set `force_row_wise=true` to remove the overhead.\n",
      "And if memory is not enough, you can set `force_col_wise=true`.\n",
      "[LightGBM] [Info] Total Bins 12383\n",
      "[LightGBM] [Info] Number of data points in the train set: 521580, number of used features: 20\n",
      "[LightGBM] [Info] Start training from score 7.219638\n",
      "Training until validation scores don't improve for 100 rounds\n",
      "[200]\tvalid_0's l1: 0.0755587\n",
      "[400]\tvalid_0's l1: 0.0746936\n",
      "[LightGBM] [Warning] No further splits with positive gain, best gain: -inf\n",
      "[LightGBM] [Warning] No further splits with positive gain, best gain: -inf\n",
      "[LightGBM] [Warning] No further splits with positive gain, best gain: -inf\n",
      "[LightGBM] [Warning] No further splits with positive gain, best gain: -inf\n",
      "[LightGBM] [Warning] No further splits with positive gain, best gain: -inf\n",
      "[LightGBM] [Warning] No further splits with positive gain, best gain: -inf\n",
      "[600]\tvalid_0's l1: 0.0745284\n",
      "[LightGBM] [Warning] No further splits with positive gain, best gain: -inf\n",
      "[LightGBM] [Warning] No further splits with positive gain, best gain: -inf\n",
      "[LightGBM] [Warning] No further splits with positive gain, best gain: -inf\n",
      "[LightGBM] [Warning] No further splits with positive gain, best gain: -inf\n",
      "[LightGBM] [Warning] No further splits with positive gain, best gain: -inf\n",
      "[LightGBM] [Warning] No further splits with positive gain, best gain: -inf\n",
      "Early stopping, best iteration is:\n",
      "[626]\tvalid_0's l1: 0.0745177\n"
     ]
    },
    {
     "name": "stderr",
     "output_type": "stream",
     "text": [
      "regularization_factors, val_score: 0.074518:  70%|#######   | 14/20 [07:54<03:31, 35.24s/it]\u001b[32m[I 2021-05-30 02:36:51,420]\u001b[0m Trial 56 finished with value: 0.07451774872227578 and parameters: {'lambda_l1': 9.458254890676253, 'lambda_l2': 0.007642383395631037}. Best is trial 56 with value: 0.07451774872227578.\u001b[0m\n",
      "regularization_factors, val_score: 0.074518:  70%|#######   | 14/20 [07:54<03:31, 35.24s/it]"
     ]
    },
    {
     "name": "stdout",
     "output_type": "stream",
     "text": [
      "[LightGBM] [Warning] Auto-choosing row-wise multi-threading, the overhead of testing was 0.010117 seconds.\n",
      "You can set `force_row_wise=true` to remove the overhead.\n",
      "And if memory is not enough, you can set `force_col_wise=true`.\n",
      "[LightGBM] [Info] Total Bins 12383\n",
      "[LightGBM] [Info] Number of data points in the train set: 521580, number of used features: 20\n",
      "[LightGBM] [Info] Start training from score 7.219638\n",
      "Training until validation scores don't improve for 100 rounds\n",
      "[200]\tvalid_0's l1: 0.0759232\n",
      "[400]\tvalid_0's l1: 0.0754333\n",
      "[600]\tvalid_0's l1: 0.075309\n",
      "Early stopping, best iteration is:\n",
      "[673]\tvalid_0's l1: 0.0752785\n"
     ]
    },
    {
     "name": "stderr",
     "output_type": "stream",
     "text": [
      "regularization_factors, val_score: 0.074518:  75%|#######5  | 15/20 [08:25<02:49, 33.92s/it]\u001b[32m[I 2021-05-30 02:37:22,296]\u001b[0m Trial 57 finished with value: 0.07527852421951979 and parameters: {'lambda_l1': 0.05963072391365335, 'lambda_l2': 0.030559169056803528}. Best is trial 56 with value: 0.07451774872227578.\u001b[0m\n",
      "regularization_factors, val_score: 0.074518:  75%|#######5  | 15/20 [08:25<02:49, 33.92s/it]"
     ]
    },
    {
     "name": "stdout",
     "output_type": "stream",
     "text": [
      "[LightGBM] [Warning] Auto-choosing row-wise multi-threading, the overhead of testing was 0.009475 seconds.\n",
      "You can set `force_row_wise=true` to remove the overhead.\n",
      "And if memory is not enough, you can set `force_col_wise=true`.\n",
      "[LightGBM] [Info] Total Bins 12383\n",
      "[LightGBM] [Info] Number of data points in the train set: 521580, number of used features: 20\n",
      "[LightGBM] [Info] Start training from score 7.219638\n",
      "Training until validation scores don't improve for 100 rounds\n",
      "[200]\tvalid_0's l1: 0.0755599\n",
      "[400]\tvalid_0's l1: 0.0747866\n",
      "[LightGBM] [Warning] No further splits with positive gain, best gain: -inf\n",
      "[LightGBM] [Warning] No further splits with positive gain, best gain: -inf\n",
      "[600]\tvalid_0's l1: 0.0746319\n",
      "[LightGBM] [Warning] No further splits with positive gain, best gain: -inf\n",
      "Early stopping, best iteration is:\n",
      "[632]\tvalid_0's l1: 0.0746215\n"
     ]
    },
    {
     "name": "stderr",
     "output_type": "stream",
     "text": [
      "regularization_factors, val_score: 0.074518:  80%|########  | 16/20 [09:03<02:19, 34.99s/it]\u001b[32m[I 2021-05-30 02:37:59,749]\u001b[0m Trial 58 finished with value: 0.07462145334251352 and parameters: {'lambda_l1': 8.207159746314888, 'lambda_l2': 0.002200948278941648}. Best is trial 56 with value: 0.07451774872227578.\u001b[0m\n",
      "regularization_factors, val_score: 0.074518:  80%|########  | 16/20 [09:03<02:19, 34.99s/it]"
     ]
    },
    {
     "name": "stdout",
     "output_type": "stream",
     "text": [
      "[LightGBM] [Warning] Auto-choosing row-wise multi-threading, the overhead of testing was 0.010356 seconds.\n",
      "You can set `force_row_wise=true` to remove the overhead.\n",
      "And if memory is not enough, you can set `force_col_wise=true`.\n",
      "[LightGBM] [Info] Total Bins 12383\n",
      "[LightGBM] [Info] Number of data points in the train set: 521580, number of used features: 20\n",
      "[LightGBM] [Info] Start training from score 7.219638\n",
      "Training until validation scores don't improve for 100 rounds\n",
      "[200]\tvalid_0's l1: 0.0758165\n",
      "[400]\tvalid_0's l1: 0.0753943\n",
      "[600]\tvalid_0's l1: 0.0752626\n",
      "[800]\tvalid_0's l1: 0.0751802\n",
      "[1000]\tvalid_0's l1: 0.0751138\n",
      "Did not meet early stopping. Best iteration is:\n",
      "[1000]\tvalid_0's l1: 0.0751138\n"
     ]
    },
    {
     "name": "stderr",
     "output_type": "stream",
     "text": [
      "regularization_factors, val_score: 0.074518:  85%|########5 | 17/20 [09:37<01:44, 34.79s/it]\u001b[32m[I 2021-05-30 02:38:34,074]\u001b[0m Trial 59 finished with value: 0.07511379083036018 and parameters: {'lambda_l1': 6.152541951038004e-05, 'lambda_l2': 0.00048107356278158993}. Best is trial 56 with value: 0.07451774872227578.\u001b[0m\n",
      "regularization_factors, val_score: 0.074518:  85%|########5 | 17/20 [09:37<01:44, 34.79s/it]"
     ]
    },
    {
     "name": "stdout",
     "output_type": "stream",
     "text": [
      "[LightGBM] [Warning] Auto-choosing row-wise multi-threading, the overhead of testing was 0.009890 seconds.\n",
      "You can set `force_row_wise=true` to remove the overhead.\n",
      "And if memory is not enough, you can set `force_col_wise=true`.\n",
      "[LightGBM] [Info] Total Bins 12383\n",
      "[LightGBM] [Info] Number of data points in the train set: 521580, number of used features: 20\n",
      "[LightGBM] [Info] Start training from score 7.219638\n",
      "Training until validation scores don't improve for 100 rounds\n",
      "[200]\tvalid_0's l1: 0.0758749\n",
      "[400]\tvalid_0's l1: 0.0753494\n",
      "[600]\tvalid_0's l1: 0.075287\n",
      "[800]\tvalid_0's l1: 0.0752297\n",
      "Early stopping, best iteration is:\n",
      "[885]\tvalid_0's l1: 0.0751943\n"
     ]
    },
    {
     "name": "stderr",
     "output_type": "stream",
     "text": [
      "regularization_factors, val_score: 0.074518:  90%|######### | 18/20 [10:15<01:11, 35.73s/it]\u001b[32m[I 2021-05-30 02:39:12,008]\u001b[0m Trial 60 finished with value: 0.07519429816980082 and parameters: {'lambda_l1': 0.3192929194619769, 'lambda_l2': 0.14033563799838364}. Best is trial 56 with value: 0.07451774872227578.\u001b[0m\n",
      "regularization_factors, val_score: 0.074518:  90%|######### | 18/20 [10:15<01:11, 35.73s/it]"
     ]
    },
    {
     "name": "stdout",
     "output_type": "stream",
     "text": [
      "[LightGBM] [Warning] Auto-choosing row-wise multi-threading, the overhead of testing was 0.009915 seconds.\n",
      "You can set `force_row_wise=true` to remove the overhead.\n",
      "And if memory is not enough, you can set `force_col_wise=true`.\n",
      "[LightGBM] [Info] Total Bins 12383\n",
      "[LightGBM] [Info] Number of data points in the train set: 521580, number of used features: 20\n",
      "[LightGBM] [Info] Start training from score 7.219638\n",
      "Training until validation scores don't improve for 100 rounds\n",
      "[200]\tvalid_0's l1: 0.0757859\n",
      "[400]\tvalid_0's l1: 0.0753983\n",
      "[600]\tvalid_0's l1: 0.0752628\n",
      "[800]\tvalid_0's l1: 0.0752044\n",
      "Early stopping, best iteration is:\n",
      "[838]\tvalid_0's l1: 0.0751911\n"
     ]
    },
    {
     "name": "stderr",
     "output_type": "stream",
     "text": [
      "regularization_factors, val_score: 0.074518:  95%|#########5| 19/20 [10:48<00:34, 34.77s/it]\u001b[32m[I 2021-05-30 02:39:44,544]\u001b[0m Trial 61 finished with value: 0.07519114026503991 and parameters: {'lambda_l1': 0.0015292362710457791, 'lambda_l2': 0.001264086563818435}. Best is trial 56 with value: 0.07451774872227578.\u001b[0m\n",
      "regularization_factors, val_score: 0.074518:  95%|#########5| 19/20 [10:48<00:34, 34.77s/it]"
     ]
    },
    {
     "name": "stdout",
     "output_type": "stream",
     "text": [
      "[LightGBM] [Warning] Auto-choosing row-wise multi-threading, the overhead of testing was 0.009549 seconds.\n",
      "You can set `force_row_wise=true` to remove the overhead.\n",
      "And if memory is not enough, you can set `force_col_wise=true`.\n",
      "[LightGBM] [Info] Total Bins 12383\n",
      "[LightGBM] [Info] Number of data points in the train set: 521580, number of used features: 20\n",
      "[LightGBM] [Info] Start training from score 7.219638\n",
      "Training until validation scores don't improve for 100 rounds\n",
      "[200]\tvalid_0's l1: 0.0756524\n",
      "[400]\tvalid_0's l1: 0.0747255\n",
      "[LightGBM] [Warning] No further splits with positive gain, best gain: -inf\n",
      "[LightGBM] [Warning] No further splits with positive gain, best gain: -inf\n",
      "[LightGBM] [Warning] No further splits with positive gain, best gain: -inf\n",
      "[LightGBM] [Warning] No further splits with positive gain, best gain: -inf\n",
      "[LightGBM] [Warning] No further splits with positive gain, best gain: -inf\n",
      "[LightGBM] [Warning] No further splits with positive gain, best gain: -inf\n",
      "[LightGBM] [Warning] No further splits with positive gain, best gain: -inf\n",
      "[LightGBM] [Warning] No further splits with positive gain, best gain: -inf\n",
      "[600]\tvalid_0's l1: 0.0746314\n",
      "[LightGBM] [Warning] No further splits with positive gain, best gain: -inf\n",
      "Early stopping, best iteration is:\n",
      "[574]\tvalid_0's l1: 0.0746062\n"
     ]
    },
    {
     "name": "stderr",
     "output_type": "stream",
     "text": [
      "regularization_factors, val_score: 0.074518: 100%|##########| 20/20 [11:22<00:00, 34.58s/it]\u001b[32m[I 2021-05-30 02:40:18,683]\u001b[0m Trial 62 finished with value: 0.07460618482010385 and parameters: {'lambda_l1': 9.717270887846059, 'lambda_l2': 4.54469562477262e-06}. Best is trial 56 with value: 0.07451774872227578.\u001b[0m\n",
      "regularization_factors, val_score: 0.074518: 100%|##########| 20/20 [11:22<00:00, 34.11s/it]\n",
      "min_data_in_leaf, val_score: 0.074518:   0%|          | 0/5 [00:00<?, ?it/s]"
     ]
    },
    {
     "name": "stdout",
     "output_type": "stream",
     "text": [
      "[LightGBM] [Warning] Auto-choosing row-wise multi-threading, the overhead of testing was 0.009693 seconds.\n",
      "You can set `force_row_wise=true` to remove the overhead.\n",
      "And if memory is not enough, you can set `force_col_wise=true`.\n",
      "[LightGBM] [Info] Total Bins 12383\n",
      "[LightGBM] [Info] Number of data points in the train set: 521580, number of used features: 20\n",
      "[LightGBM] [Info] Start training from score 7.219638\n",
      "Training until validation scores don't improve for 100 rounds\n",
      "[200]\tvalid_0's l1: 0.0755041\n",
      "[400]\tvalid_0's l1: 0.0746775\n",
      "[LightGBM] [Warning] No further splits with positive gain, best gain: -inf\n",
      "[LightGBM] [Warning] No further splits with positive gain, best gain: -inf\n",
      "[LightGBM] [Warning] No further splits with positive gain, best gain: -inf\n",
      "[LightGBM] [Warning] No further splits with positive gain, best gain: -inf\n",
      "[LightGBM] [Warning] No further splits with positive gain, best gain: -inf\n",
      "[600]\tvalid_0's l1: 0.0745413\n",
      "[LightGBM] [Warning] No further splits with positive gain, best gain: -inf\n",
      "[LightGBM] [Warning] No further splits with positive gain, best gain: -inf\n",
      "[LightGBM] [Warning] No further splits with positive gain, best gain: -inf\n",
      "[LightGBM] [Warning] No further splits with positive gain, best gain: -inf\n",
      "[LightGBM] [Warning] No further splits with positive gain, best gain: -inf\n",
      "[LightGBM] [Warning] No further splits with positive gain, best gain: -inf\n",
      "[LightGBM] [Warning] No further splits with positive gain, best gain: -inf\n",
      "Early stopping, best iteration is:\n",
      "[600]\tvalid_0's l1: 0.0745413\n"
     ]
    },
    {
     "name": "stderr",
     "output_type": "stream",
     "text": [
      "min_data_in_leaf, val_score: 0.074518:  20%|##        | 1/5 [00:35<02:23, 35.78s/it]\u001b[32m[I 2021-05-30 02:40:54,474]\u001b[0m Trial 63 finished with value: 0.07454129998976615 and parameters: {'min_child_samples': 25}. Best is trial 63 with value: 0.07454129998976615.\u001b[0m\n",
      "min_data_in_leaf, val_score: 0.074518:  20%|##        | 1/5 [00:35<02:23, 35.78s/it]"
     ]
    },
    {
     "name": "stdout",
     "output_type": "stream",
     "text": [
      "[LightGBM] [Warning] Auto-choosing row-wise multi-threading, the overhead of testing was 0.009765 seconds.\n",
      "You can set `force_row_wise=true` to remove the overhead.\n",
      "And if memory is not enough, you can set `force_col_wise=true`.\n",
      "[LightGBM] [Info] Total Bins 12383\n",
      "[LightGBM] [Info] Number of data points in the train set: 521580, number of used features: 20\n",
      "[LightGBM] [Info] Start training from score 7.219638\n",
      "Training until validation scores don't improve for 100 rounds\n",
      "[200]\tvalid_0's l1: 0.0756329\n",
      "[400]\tvalid_0's l1: 0.0747558\n",
      "[LightGBM] [Warning] No further splits with positive gain, best gain: -inf\n",
      "[LightGBM] [Warning] No further splits with positive gain, best gain: -inf\n",
      "[LightGBM] [Warning] No further splits with positive gain, best gain: -inf\n",
      "[LightGBM] [Warning] No further splits with positive gain, best gain: -inf\n",
      "[LightGBM] [Warning] No further splits with positive gain, best gain: -inf\n",
      "[LightGBM] [Warning] No further splits with positive gain, best gain: -inf\n",
      "[LightGBM] [Warning] No further splits with positive gain, best gain: -inf\n",
      "[LightGBM] [Warning] No further splits with positive gain, best gain: -inf\n",
      "[LightGBM] [Warning] No further splits with positive gain, best gain: -inf\n",
      "[LightGBM] [Warning] No further splits with positive gain, best gain: -inf\n",
      "[LightGBM] [Warning] No further splits with positive gain, best gain: -inf\n",
      "[LightGBM] [Warning] No further splits with positive gain, best gain: -inf\n",
      "[LightGBM] [Warning] No further splits with positive gain, best gain: -inf\n",
      "[LightGBM] [Warning] No further splits with positive gain, best gain: -inf\n",
      "[LightGBM] [Warning] No further splits with positive gain, best gain: -inf\n",
      "[600]\tvalid_0's l1: 0.074611\n",
      "Early stopping, best iteration is:\n",
      "[565]\tvalid_0's l1: 0.0746014\n"
     ]
    },
    {
     "name": "stderr",
     "output_type": "stream",
     "text": [
      "min_data_in_leaf, val_score: 0.074518:  40%|####      | 2/5 [01:09<01:44, 34.85s/it]\u001b[32m[I 2021-05-30 02:41:28,678]\u001b[0m Trial 64 finished with value: 0.07460137193970583 and parameters: {'min_child_samples': 50}. Best is trial 63 with value: 0.07454129998976615.\u001b[0m\n",
      "min_data_in_leaf, val_score: 0.074518:  40%|####      | 2/5 [01:09<01:44, 34.85s/it]"
     ]
    },
    {
     "name": "stdout",
     "output_type": "stream",
     "text": [
      "[LightGBM] [Warning] Auto-choosing row-wise multi-threading, the overhead of testing was 0.009523 seconds.\n",
      "You can set `force_row_wise=true` to remove the overhead.\n",
      "And if memory is not enough, you can set `force_col_wise=true`.\n",
      "[LightGBM] [Info] Total Bins 12383\n",
      "[LightGBM] [Info] Number of data points in the train set: 521580, number of used features: 20\n",
      "[LightGBM] [Info] Start training from score 7.219638\n",
      "Training until validation scores don't improve for 100 rounds\n",
      "[200]\tvalid_0's l1: 0.0755606\n",
      "[400]\tvalid_0's l1: 0.0747102\n",
      "[LightGBM] [Warning] No further splits with positive gain, best gain: -inf\n",
      "[LightGBM] [Warning] No further splits with positive gain, best gain: -inf\n",
      "[600]\tvalid_0's l1: 0.0745962\n",
      "[LightGBM] [Warning] No further splits with positive gain, best gain: -inf\n",
      "[LightGBM] [Warning] No further splits with positive gain, best gain: -inf\n",
      "[LightGBM] [Warning] No further splits with positive gain, best gain: -inf\n",
      "[LightGBM] [Warning] No further splits with positive gain, best gain: -inf\n",
      "[LightGBM] [Warning] No further splits with positive gain, best gain: -inf\n",
      "[LightGBM] [Warning] No further splits with positive gain, best gain: -inf\n",
      "[LightGBM] [Warning] No further splits with positive gain, best gain: -inf\n",
      "[LightGBM] [Warning] No further splits with positive gain, best gain: -inf\n",
      "[LightGBM] [Warning] No further splits with positive gain, best gain: -inf\n",
      "[LightGBM] [Warning] No further splits with positive gain, best gain: -inf\n",
      "[LightGBM] [Warning] No further splits with positive gain, best gain: -inf\n",
      "[LightGBM] [Warning] No further splits with positive gain, best gain: -inf\n",
      "[LightGBM] [Warning] No further splits with positive gain, best gain: -inf\n",
      "[LightGBM] [Warning] No further splits with positive gain, best gain: -inf\n",
      "[LightGBM] [Warning] No further splits with positive gain, best gain: -inf\n",
      "[LightGBM] [Warning] No further splits with positive gain, best gain: -inf\n",
      "[LightGBM] [Warning] No further splits with positive gain, best gain: -inf\n",
      "[LightGBM] [Warning] No further splits with positive gain, best gain: -inf\n",
      "[LightGBM] [Warning] No further splits with positive gain, best gain: -inf\n",
      "[LightGBM] [Warning] No further splits with positive gain, best gain: -inf\n",
      "[800]\tvalid_0's l1: 0.0745875\n",
      "[LightGBM] [Warning] No further splits with positive gain, best gain: -inf\n",
      "[LightGBM] [Warning] No further splits with positive gain, best gain: -inf\n",
      "[LightGBM] [Warning] No further splits with positive gain, best gain: -inf\n",
      "[LightGBM] [Warning] No further splits with positive gain, best gain: -inf\n",
      "[LightGBM] [Warning] No further splits with positive gain, best gain: -inf\n",
      "[LightGBM] [Warning] No further splits with positive gain, best gain: -inf\n",
      "[LightGBM] [Warning] No further splits with positive gain, best gain: -inf\n",
      "[LightGBM] [Warning] No further splits with positive gain, best gain: -inf\n",
      "[LightGBM] [Warning] No further splits with positive gain, best gain: -inf\n",
      "[LightGBM] [Warning] No further splits with positive gain, best gain: -inf\n",
      "[LightGBM] [Warning] No further splits with positive gain, best gain: -inf\n",
      "[LightGBM] [Warning] No further splits with positive gain, best gain: -inf\n",
      "[LightGBM] [Warning] No further splits with positive gain, best gain: -inf\n",
      "[LightGBM] [Warning] No further splits with positive gain, best gain: -inf\n",
      "[LightGBM] [Warning] No further splits with positive gain, best gain: -inf\n",
      "[LightGBM] [Warning] No further splits with positive gain, best gain: -inf\n",
      "[LightGBM] [Warning] No further splits with positive gain, best gain: -inf\n",
      "[LightGBM] [Warning] No further splits with positive gain, best gain: -inf\n",
      "[LightGBM] [Warning] No further splits with positive gain, best gain: -inf\n",
      "[LightGBM] [Warning] Stopped training because there are no more leaves that meet the split requirements\n",
      "[LightGBM] [Warning] No further splits with positive gain, best gain: -inf\n",
      "[LightGBM] [Warning] No further splits with positive gain, best gain: -inf\n",
      "[LightGBM] [Warning] No further splits with positive gain, best gain: -inf\n",
      "[LightGBM] [Warning] Stopped training because there are no more leaves that meet the split requirements\n",
      "[LightGBM] [Warning] No further splits with positive gain, best gain: -inf\n",
      "[LightGBM] [Warning] No further splits with positive gain, best gain: -inf\n",
      "[LightGBM] [Warning] Stopped training because there are no more leaves that meet the split requirements\n",
      "[LightGBM] [Warning] No further splits with positive gain, best gain: -inf\n",
      "[LightGBM] [Warning] No further splits with positive gain, best gain: -inf\n",
      "[LightGBM] [Warning] Stopped training because there are no more leaves that meet the split requirements\n",
      "[LightGBM] [Warning] No further splits with positive gain, best gain: -inf\n",
      "[LightGBM] [Warning] No further splits with positive gain, best gain: -inf\n",
      "[LightGBM] [Warning] Stopped training because there are no more leaves that meet the split requirements\n",
      "[LightGBM] [Warning] No further splits with positive gain, best gain: -inf\n",
      "[LightGBM] [Warning] No further splits with positive gain, best gain: -inf\n",
      "[LightGBM] [Warning] Stopped training because there are no more leaves that meet the split requirements\n",
      "[LightGBM] [Warning] No further splits with positive gain, best gain: -inf\n",
      "[LightGBM] [Warning] No further splits with positive gain, best gain: -inf\n",
      "[LightGBM] [Warning] Stopped training because there are no more leaves that meet the split requirements\n",
      "[LightGBM] [Warning] No further splits with positive gain, best gain: -inf\n",
      "[LightGBM] [Warning] No further splits with positive gain, best gain: -inf\n",
      "[LightGBM] [Warning] Stopped training because there are no more leaves that meet the split requirements\n",
      "[LightGBM] [Warning] No further splits with positive gain, best gain: -inf\n",
      "[LightGBM] [Warning] No further splits with positive gain, best gain: -inf\n",
      "[LightGBM] [Warning] No further splits with positive gain, best gain: -inf\n",
      "[LightGBM] [Warning] No further splits with positive gain, best gain: -inf\n",
      "[LightGBM] [Warning] No further splits with positive gain, best gain: -inf\n",
      "[LightGBM] [Warning] Stopped training because there are no more leaves that meet the split requirements\n",
      "[LightGBM] [Warning] No further splits with positive gain, best gain: -inf\n",
      "[LightGBM] [Warning] No further splits with positive gain, best gain: -inf\n",
      "[LightGBM] [Warning] No further splits with positive gain, best gain: -inf\n",
      "[LightGBM] [Warning] Stopped training because there are no more leaves that meet the split requirements\n",
      "[LightGBM] [Warning] No further splits with positive gain, best gain: -inf\n",
      "[LightGBM] [Warning] No further splits with positive gain, best gain: -inf\n",
      "[LightGBM] [Warning] Stopped training because there are no more leaves that meet the split requirements\n",
      "[LightGBM] [Warning] No further splits with positive gain, best gain: -inf\n",
      "[LightGBM] [Warning] Stopped training because there are no more leaves that meet the split requirements\n",
      "[LightGBM] [Warning] No further splits with positive gain, best gain: -inf\n",
      "[LightGBM] [Warning] No further splits with positive gain, best gain: -inf\n",
      "Early stopping, best iteration is:\n",
      "[750]\tvalid_0's l1: 0.0745744\n"
     ]
    },
    {
     "name": "stderr",
     "output_type": "stream",
     "text": [
      "min_data_in_leaf, val_score: 0.074518:  60%|######    | 3/5 [01:50<01:15, 37.66s/it]\u001b[32m[I 2021-05-30 02:42:09,667]\u001b[0m Trial 65 finished with value: 0.07457437979971655 and parameters: {'min_child_samples': 5}. Best is trial 63 with value: 0.07454129998976615.\u001b[0m\n",
      "min_data_in_leaf, val_score: 0.074518:  60%|######    | 3/5 [01:50<01:15, 37.66s/it]"
     ]
    },
    {
     "name": "stdout",
     "output_type": "stream",
     "text": [
      "[LightGBM] [Warning] Auto-choosing row-wise multi-threading, the overhead of testing was 0.009593 seconds.\n",
      "You can set `force_row_wise=true` to remove the overhead.\n",
      "And if memory is not enough, you can set `force_col_wise=true`.\n",
      "[LightGBM] [Info] Total Bins 12383\n",
      "[LightGBM] [Info] Number of data points in the train set: 521580, number of used features: 20\n",
      "[LightGBM] [Info] Start training from score 7.219638\n",
      "Training until validation scores don't improve for 100 rounds\n",
      "[LightGBM] [Warning] No further splits with positive gain, best gain: -inf\n",
      "[200]\tvalid_0's l1: 0.075598\n",
      "[400]\tvalid_0's l1: 0.0747456\n",
      "[LightGBM] [Warning] No further splits with positive gain, best gain: -inf\n",
      "[LightGBM] [Warning] No further splits with positive gain, best gain: -inf\n",
      "[LightGBM] [Warning] No further splits with positive gain, best gain: -inf\n",
      "[LightGBM] [Warning] No further splits with positive gain, best gain: -inf\n",
      "[600]\tvalid_0's l1: 0.0746083\n",
      "[LightGBM] [Warning] No further splits with positive gain, best gain: -inf\n",
      "[LightGBM] [Warning] No further splits with positive gain, best gain: -inf\n",
      "[LightGBM] [Warning] No further splits with positive gain, best gain: -inf\n",
      "[LightGBM] [Warning] No further splits with positive gain, best gain: -inf\n",
      "[LightGBM] [Warning] No further splits with positive gain, best gain: -inf\n",
      "[LightGBM] [Warning] No further splits with positive gain, best gain: -inf\n",
      "[LightGBM] [Warning] No further splits with positive gain, best gain: -inf\n",
      "[LightGBM] [Warning] No further splits with positive gain, best gain: -inf\n",
      "Early stopping, best iteration is:\n",
      "[585]\tvalid_0's l1: 0.0745985\n"
     ]
    },
    {
     "name": "stderr",
     "output_type": "stream",
     "text": [
      "min_data_in_leaf, val_score: 0.074518:  80%|########  | 4/5 [02:26<00:36, 36.78s/it]\u001b[32m[I 2021-05-30 02:42:45,098]\u001b[0m Trial 66 finished with value: 0.07459850308772603 and parameters: {'min_child_samples': 100}. Best is trial 63 with value: 0.07454129998976615.\u001b[0m\n",
      "min_data_in_leaf, val_score: 0.074518:  80%|########  | 4/5 [02:26<00:36, 36.78s/it]"
     ]
    },
    {
     "name": "stdout",
     "output_type": "stream",
     "text": [
      "[LightGBM] [Warning] Auto-choosing row-wise multi-threading, the overhead of testing was 0.009653 seconds.\n",
      "You can set `force_row_wise=true` to remove the overhead.\n",
      "And if memory is not enough, you can set `force_col_wise=true`.\n",
      "[LightGBM] [Info] Total Bins 12383\n",
      "[LightGBM] [Info] Number of data points in the train set: 521580, number of used features: 20\n",
      "[LightGBM] [Info] Start training from score 7.219638\n",
      "Training until validation scores don't improve for 100 rounds\n",
      "[200]\tvalid_0's l1: 0.0755322\n",
      "[400]\tvalid_0's l1: 0.0747171\n",
      "[LightGBM] [Warning] No further splits with positive gain, best gain: -inf\n",
      "[LightGBM] [Warning] No further splits with positive gain, best gain: -inf\n",
      "[600]\tvalid_0's l1: 0.074548\n",
      "[LightGBM] [Warning] No further splits with positive gain, best gain: -inf\n",
      "[LightGBM] [Warning] No further splits with positive gain, best gain: -inf\n",
      "[LightGBM] [Warning] No further splits with positive gain, best gain: -inf\n",
      "[LightGBM] [Warning] No further splits with positive gain, best gain: -inf\n",
      "[LightGBM] [Warning] No further splits with positive gain, best gain: -inf\n",
      "[LightGBM] [Warning] No further splits with positive gain, best gain: -inf\n",
      "[LightGBM] [Warning] No further splits with positive gain, best gain: -inf\n",
      "[LightGBM] [Warning] No further splits with positive gain, best gain: -inf\n",
      "[LightGBM] [Warning] No further splits with positive gain, best gain: -inf\n",
      "[LightGBM] [Warning] No further splits with positive gain, best gain: -inf\n",
      "[LightGBM] [Warning] No further splits with positive gain, best gain: -inf\n",
      "[LightGBM] [Warning] No further splits with positive gain, best gain: -inf\n",
      "[LightGBM] [Warning] No further splits with positive gain, best gain: -inf\n",
      "[LightGBM] [Warning] No further splits with positive gain, best gain: -inf\n",
      "[LightGBM] [Warning] No further splits with positive gain, best gain: -inf\n",
      "[LightGBM] [Warning] No further splits with positive gain, best gain: -inf\n",
      "[LightGBM] [Warning] No further splits with positive gain, best gain: -inf\n",
      "[LightGBM] [Warning] No further splits with positive gain, best gain: -inf\n",
      "[LightGBM] [Warning] No further splits with positive gain, best gain: -inf\n",
      "[LightGBM] [Warning] No further splits with positive gain, best gain: -inf\n",
      "[LightGBM] [Warning] No further splits with positive gain, best gain: -inf\n",
      "[800]\tvalid_0's l1: 0.0745222\n",
      "[LightGBM] [Warning] No further splits with positive gain, best gain: -inf\n",
      "[LightGBM] [Warning] No further splits with positive gain, best gain: -inf\n",
      "[LightGBM] [Warning] No further splits with positive gain, best gain: -inf\n",
      "[LightGBM] [Warning] No further splits with positive gain, best gain: -inf\n",
      "[LightGBM] [Warning] No further splits with positive gain, best gain: -inf\n",
      "[LightGBM] [Warning] No further splits with positive gain, best gain: -inf\n",
      "[LightGBM] [Warning] No further splits with positive gain, best gain: -inf\n",
      "[LightGBM] [Warning] No further splits with positive gain, best gain: -inf\n",
      "[LightGBM] [Warning] No further splits with positive gain, best gain: -inf\n",
      "[LightGBM] [Warning] No further splits with positive gain, best gain: -inf\n",
      "[LightGBM] [Warning] No further splits with positive gain, best gain: -inf\n",
      "[LightGBM] [Warning] No further splits with positive gain, best gain: -inf\n",
      "[LightGBM] [Warning] No further splits with positive gain, best gain: -inf\n",
      "[LightGBM] [Warning] No further splits with positive gain, best gain: -inf\n",
      "[LightGBM] [Warning] No further splits with positive gain, best gain: -inf\n",
      "[LightGBM] [Warning] Stopped training because there are no more leaves that meet the split requirements\n",
      "[LightGBM] [Warning] No further splits with positive gain, best gain: -inf\n",
      "[LightGBM] [Warning] No further splits with positive gain, best gain: -inf\n",
      "[LightGBM] [Warning] No further splits with positive gain, best gain: -inf\n",
      "[LightGBM] [Warning] Stopped training because there are no more leaves that meet the split requirements\n",
      "[LightGBM] [Warning] No further splits with positive gain, best gain: -inf\n",
      "[LightGBM] [Warning] Stopped training because there are no more leaves that meet the split requirements\n",
      "[LightGBM] [Warning] No further splits with positive gain, best gain: -inf\n",
      "[LightGBM] [Warning] Stopped training because there are no more leaves that meet the split requirements\n",
      "[LightGBM] [Warning] No further splits with positive gain, best gain: -inf\n",
      "[LightGBM] [Warning] Stopped training because there are no more leaves that meet the split requirements\n",
      "[LightGBM] [Warning] No further splits with positive gain, best gain: -inf\n",
      "[LightGBM] [Warning] Stopped training because there are no more leaves that meet the split requirements\n",
      "[LightGBM] [Warning] No further splits with positive gain, best gain: -inf\n",
      "[LightGBM] [Warning] Stopped training because there are no more leaves that meet the split requirements\n",
      "[LightGBM] [Warning] No further splits with positive gain, best gain: -inf\n",
      "[LightGBM] [Warning] Stopped training because there are no more leaves that meet the split requirements\n",
      "[LightGBM] [Warning] No further splits with positive gain, best gain: -inf\n",
      "[LightGBM] [Warning] Stopped training because there are no more leaves that meet the split requirements\n",
      "[LightGBM] [Warning] No further splits with positive gain, best gain: -inf\n",
      "[LightGBM] [Warning] Stopped training because there are no more leaves that meet the split requirements\n",
      "[LightGBM] [Warning] No further splits with positive gain, best gain: -inf\n",
      "[LightGBM] [Warning] Stopped training because there are no more leaves that meet the split requirements\n",
      "[LightGBM] [Warning] No further splits with positive gain, best gain: -inf\n",
      "[LightGBM] [Warning] Stopped training because there are no more leaves that meet the split requirements\n",
      "[LightGBM] [Warning] No further splits with positive gain, best gain: -inf\n",
      "[LightGBM] [Warning] Stopped training because there are no more leaves that meet the split requirements\n",
      "[LightGBM] [Warning] No further splits with positive gain, best gain: -inf\n",
      "[LightGBM] [Warning] Stopped training because there are no more leaves that meet the split requirements\n",
      "[LightGBM] [Warning] No further splits with positive gain, best gain: -inf\n",
      "[LightGBM] [Warning] Stopped training because there are no more leaves that meet the split requirements\n",
      "[LightGBM] [Warning] No further splits with positive gain, best gain: -inf\n",
      "[LightGBM] [Warning] Stopped training because there are no more leaves that meet the split requirements\n",
      "[LightGBM] [Warning] No further splits with positive gain, best gain: -inf\n",
      "[LightGBM] [Warning] Stopped training because there are no more leaves that meet the split requirements\n",
      "[LightGBM] [Warning] No further splits with positive gain, best gain: -inf\n",
      "[LightGBM] [Warning] Stopped training because there are no more leaves that meet the split requirements\n",
      "[LightGBM] [Warning] No further splits with positive gain, best gain: -inf\n",
      "[LightGBM] [Warning] Stopped training because there are no more leaves that meet the split requirements\n",
      "[LightGBM] [Warning] No further splits with positive gain, best gain: -inf\n",
      "[LightGBM] [Warning] Stopped training because there are no more leaves that meet the split requirements\n",
      "[LightGBM] [Warning] No further splits with positive gain, best gain: -inf\n",
      "[LightGBM] [Warning] Stopped training because there are no more leaves that meet the split requirements\n",
      "[LightGBM] [Warning] No further splits with positive gain, best gain: -inf\n",
      "[LightGBM] [Warning] Stopped training because there are no more leaves that meet the split requirements\n",
      "[LightGBM] [Warning] No further splits with positive gain, best gain: -inf\n",
      "[LightGBM] [Warning] Stopped training because there are no more leaves that meet the split requirements\n",
      "[LightGBM] [Warning] No further splits with positive gain, best gain: -inf\n",
      "[LightGBM] [Warning] Stopped training because there are no more leaves that meet the split requirements\n",
      "[LightGBM] [Warning] No further splits with positive gain, best gain: -inf\n",
      "[LightGBM] [Warning] Stopped training because there are no more leaves that meet the split requirements\n",
      "[LightGBM] [Warning] No further splits with positive gain, best gain: -inf\n",
      "[LightGBM] [Warning] Stopped training because there are no more leaves that meet the split requirements\n",
      "Early stopping, best iteration is:\n",
      "[744]\tvalid_0's l1: 0.0745063\n"
     ]
    },
    {
     "name": "stderr",
     "output_type": "stream",
     "text": [
      "min_data_in_leaf, val_score: 0.074506: 100%|##########| 5/5 [03:05<00:00, 37.77s/it]\u001b[32m[I 2021-05-30 02:43:24,632]\u001b[0m Trial 67 finished with value: 0.07450628671736798 and parameters: {'min_child_samples': 10}. Best is trial 67 with value: 0.07450628671736798.\u001b[0m\n",
      "min_data_in_leaf, val_score: 0.074506: 100%|##########| 5/5 [03:05<00:00, 37.19s/it]"
     ]
    },
    {
     "name": "stdout",
     "output_type": "stream",
     "text": [
      "elaptedtime: 2641.486027240753\n"
     ]
    },
    {
     "name": "stderr",
     "output_type": "stream",
     "text": [
      "\n"
     ]
    }
   ],
   "source": [
    "opt_params = {\n",
    "    \"objective\":\"regression\",\n",
    "    \"metric\":\"mae\"\n",
    "}\n",
    "\n",
    "import time\n",
    "start = time.time()\n",
    "opt=lgb.train(\n",
    "    opt_params,\n",
    "    trains,\n",
    "    valid_sets = valids,\n",
    "    verbose_eval=200,\n",
    "    num_boost_round = 1000,\n",
    "    early_stopping_rounds = 100,\n",
    ")\n",
    "end = time.time()\n",
    "print('elaptedtime:', end-start)"
   ]
  },
  {
   "cell_type": "code",
   "execution_count": 12,
   "id": "violent-season",
   "metadata": {},
   "outputs": [
    {
     "name": "stderr",
     "output_type": "stream",
     "text": [
      "/opt/conda/lib/python3.7/site-packages/lightgbm/engine.py:148: UserWarning: Found `num_iterations` in params. Will use it instead of argument\n",
      "  _log_warning(\"Found `{}` in params. Will use it instead of argument\".format(alias))\n",
      "/opt/conda/lib/python3.7/site-packages/lightgbm/engine.py:153: UserWarning: Found `early_stopping_round` in params. Will use it instead of argument\n",
      "  _log_warning(\"Found `{}` in params. Will use it instead of argument\".format(alias))\n"
     ]
    },
    {
     "name": "stdout",
     "output_type": "stream",
     "text": [
      "[LightGBM] [Warning] Auto-choosing row-wise multi-threading, the overhead of testing was 0.009321 seconds.\n",
      "You can set `force_row_wise=true` to remove the overhead.\n",
      "And if memory is not enough, you can set `force_col_wise=true`.\n",
      "[LightGBM] [Info] Total Bins 12383\n",
      "[LightGBM] [Info] Number of data points in the train set: 521580, number of used features: 20\n",
      "[LightGBM] [Info] Start training from score 7.219638\n",
      "Training until validation scores don't improve for 100 rounds\n",
      "[200]\tvalid_0's l1: 0.0755322\n",
      "[400]\tvalid_0's l1: 0.0747171\n",
      "[LightGBM] [Warning] No further splits with positive gain, best gain: -inf\n",
      "[LightGBM] [Warning] No further splits with positive gain, best gain: -inf\n",
      "[600]\tvalid_0's l1: 0.074548\n",
      "[LightGBM] [Warning] No further splits with positive gain, best gain: -inf\n",
      "[LightGBM] [Warning] No further splits with positive gain, best gain: -inf\n",
      "[LightGBM] [Warning] No further splits with positive gain, best gain: -inf\n",
      "[LightGBM] [Warning] No further splits with positive gain, best gain: -inf\n",
      "[LightGBM] [Warning] No further splits with positive gain, best gain: -inf\n",
      "[LightGBM] [Warning] No further splits with positive gain, best gain: -inf\n",
      "[LightGBM] [Warning] No further splits with positive gain, best gain: -inf\n",
      "[LightGBM] [Warning] No further splits with positive gain, best gain: -inf\n",
      "[LightGBM] [Warning] No further splits with positive gain, best gain: -inf\n",
      "[LightGBM] [Warning] No further splits with positive gain, best gain: -inf\n",
      "[LightGBM] [Warning] No further splits with positive gain, best gain: -inf\n",
      "[LightGBM] [Warning] No further splits with positive gain, best gain: -inf\n",
      "[LightGBM] [Warning] No further splits with positive gain, best gain: -inf\n",
      "[LightGBM] [Warning] No further splits with positive gain, best gain: -inf\n",
      "[LightGBM] [Warning] No further splits with positive gain, best gain: -inf\n",
      "[LightGBM] [Warning] No further splits with positive gain, best gain: -inf\n",
      "[LightGBM] [Warning] No further splits with positive gain, best gain: -inf\n",
      "[LightGBM] [Warning] No further splits with positive gain, best gain: -inf\n",
      "[LightGBM] [Warning] No further splits with positive gain, best gain: -inf\n",
      "[LightGBM] [Warning] No further splits with positive gain, best gain: -inf\n",
      "[LightGBM] [Warning] No further splits with positive gain, best gain: -inf\n",
      "[800]\tvalid_0's l1: 0.0745222\n",
      "[LightGBM] [Warning] No further splits with positive gain, best gain: -inf\n",
      "[LightGBM] [Warning] No further splits with positive gain, best gain: -inf\n",
      "[LightGBM] [Warning] No further splits with positive gain, best gain: -inf\n",
      "[LightGBM] [Warning] No further splits with positive gain, best gain: -inf\n",
      "[LightGBM] [Warning] No further splits with positive gain, best gain: -inf\n",
      "[LightGBM] [Warning] No further splits with positive gain, best gain: -inf\n",
      "[LightGBM] [Warning] No further splits with positive gain, best gain: -inf\n",
      "[LightGBM] [Warning] No further splits with positive gain, best gain: -inf\n",
      "[LightGBM] [Warning] No further splits with positive gain, best gain: -inf\n",
      "[LightGBM] [Warning] No further splits with positive gain, best gain: -inf\n",
      "[LightGBM] [Warning] No further splits with positive gain, best gain: -inf\n",
      "[LightGBM] [Warning] No further splits with positive gain, best gain: -inf\n",
      "[LightGBM] [Warning] No further splits with positive gain, best gain: -inf\n",
      "[LightGBM] [Warning] No further splits with positive gain, best gain: -inf\n",
      "[LightGBM] [Warning] No further splits with positive gain, best gain: -inf\n",
      "[LightGBM] [Warning] Stopped training because there are no more leaves that meet the split requirements\n",
      "[LightGBM] [Warning] No further splits with positive gain, best gain: -inf\n",
      "[LightGBM] [Warning] No further splits with positive gain, best gain: -inf\n",
      "[LightGBM] [Warning] No further splits with positive gain, best gain: -inf\n",
      "[LightGBM] [Warning] Stopped training because there are no more leaves that meet the split requirements\n",
      "[LightGBM] [Warning] No further splits with positive gain, best gain: -inf\n",
      "[LightGBM] [Warning] Stopped training because there are no more leaves that meet the split requirements\n",
      "[LightGBM] [Warning] No further splits with positive gain, best gain: -inf\n",
      "[LightGBM] [Warning] Stopped training because there are no more leaves that meet the split requirements\n",
      "[LightGBM] [Warning] No further splits with positive gain, best gain: -inf\n",
      "[LightGBM] [Warning] Stopped training because there are no more leaves that meet the split requirements\n",
      "[LightGBM] [Warning] No further splits with positive gain, best gain: -inf\n",
      "[LightGBM] [Warning] Stopped training because there are no more leaves that meet the split requirements\n",
      "[LightGBM] [Warning] No further splits with positive gain, best gain: -inf\n",
      "[LightGBM] [Warning] Stopped training because there are no more leaves that meet the split requirements\n",
      "[LightGBM] [Warning] No further splits with positive gain, best gain: -inf\n",
      "[LightGBM] [Warning] Stopped training because there are no more leaves that meet the split requirements\n",
      "[LightGBM] [Warning] No further splits with positive gain, best gain: -inf\n",
      "[LightGBM] [Warning] Stopped training because there are no more leaves that meet the split requirements\n",
      "[LightGBM] [Warning] No further splits with positive gain, best gain: -inf\n",
      "[LightGBM] [Warning] Stopped training because there are no more leaves that meet the split requirements\n",
      "[LightGBM] [Warning] No further splits with positive gain, best gain: -inf\n",
      "[LightGBM] [Warning] Stopped training because there are no more leaves that meet the split requirements\n",
      "[LightGBM] [Warning] No further splits with positive gain, best gain: -inf\n",
      "[LightGBM] [Warning] Stopped training because there are no more leaves that meet the split requirements\n",
      "[LightGBM] [Warning] No further splits with positive gain, best gain: -inf\n",
      "[LightGBM] [Warning] Stopped training because there are no more leaves that meet the split requirements\n",
      "[LightGBM] [Warning] No further splits with positive gain, best gain: -inf\n",
      "[LightGBM] [Warning] Stopped training because there are no more leaves that meet the split requirements\n",
      "[LightGBM] [Warning] No further splits with positive gain, best gain: -inf\n",
      "[LightGBM] [Warning] Stopped training because there are no more leaves that meet the split requirements\n",
      "[LightGBM] [Warning] No further splits with positive gain, best gain: -inf\n",
      "[LightGBM] [Warning] Stopped training because there are no more leaves that meet the split requirements\n",
      "[LightGBM] [Warning] No further splits with positive gain, best gain: -inf\n",
      "[LightGBM] [Warning] Stopped training because there are no more leaves that meet the split requirements\n",
      "[LightGBM] [Warning] No further splits with positive gain, best gain: -inf\n",
      "[LightGBM] [Warning] Stopped training because there are no more leaves that meet the split requirements\n",
      "[LightGBM] [Warning] No further splits with positive gain, best gain: -inf\n",
      "[LightGBM] [Warning] Stopped training because there are no more leaves that meet the split requirements\n",
      "[LightGBM] [Warning] No further splits with positive gain, best gain: -inf\n",
      "[LightGBM] [Warning] Stopped training because there are no more leaves that meet the split requirements\n",
      "[LightGBM] [Warning] No further splits with positive gain, best gain: -inf\n",
      "[LightGBM] [Warning] Stopped training because there are no more leaves that meet the split requirements\n",
      "[LightGBM] [Warning] No further splits with positive gain, best gain: -inf\n",
      "[LightGBM] [Warning] Stopped training because there are no more leaves that meet the split requirements\n",
      "[LightGBM] [Warning] No further splits with positive gain, best gain: -inf\n",
      "[LightGBM] [Warning] Stopped training because there are no more leaves that meet the split requirements\n",
      "[LightGBM] [Warning] No further splits with positive gain, best gain: -inf\n",
      "[LightGBM] [Warning] Stopped training because there are no more leaves that meet the split requirements\n",
      "[LightGBM] [Warning] No further splits with positive gain, best gain: -inf\n",
      "[LightGBM] [Warning] Stopped training because there are no more leaves that meet the split requirements\n",
      "[LightGBM] [Warning] No further splits with positive gain, best gain: -inf\n",
      "[LightGBM] [Warning] Stopped training because there are no more leaves that meet the split requirements\n",
      "Early stopping, best iteration is:\n",
      "[744]\tvalid_0's l1: 0.0745063\n"
     ]
    }
   ],
   "source": [
    "# lightGBM\n",
    "import lightgbm as lgb\n",
    "best_params = opt.params\n",
    "model = lgb.train(best_params, trains, valid_sets=valids, num_boost_round=1000, early_stopping_rounds=100, verbose_eval=200)"
   ]
  },
  {
   "cell_type": "code",
   "execution_count": 13,
   "id": "extended-offering",
   "metadata": {},
   "outputs": [
    {
     "data": {
      "text/plain": [
       "0.07450628775667277"
      ]
     },
     "execution_count": 13,
     "metadata": {},
     "output_type": "execute_result"
    }
   ],
   "source": [
    "vals = model.predict(val_x)\n",
    "mae(vals, val_y)"
   ]
  },
  {
   "cell_type": "code",
   "execution_count": 33,
   "id": "foreign-utility",
   "metadata": {},
   "outputs": [],
   "source": [
    "save_model_params(model)"
   ]
  },
  {
   "cell_type": "code",
   "execution_count": 14,
   "id": "genuine-parcel",
   "metadata": {},
   "outputs": [
    {
     "data": {
      "text/html": [
       "<div>\n",
       "<style scoped>\n",
       "    .dataframe tbody tr th:only-of-type {\n",
       "        vertical-align: middle;\n",
       "    }\n",
       "\n",
       "    .dataframe tbody tr th {\n",
       "        vertical-align: top;\n",
       "    }\n",
       "\n",
       "    .dataframe thead th {\n",
       "        text-align: right;\n",
       "    }\n",
       "</style>\n",
       "<table border=\"1\" class=\"dataframe\">\n",
       "  <thead>\n",
       "    <tr style=\"text-align: right;\">\n",
       "      <th></th>\n",
       "      <th>importance</th>\n",
       "    </tr>\n",
       "  </thead>\n",
       "  <tbody>\n",
       "    <tr>\n",
       "      <th>地区名</th>\n",
       "      <td>21958</td>\n",
       "    </tr>\n",
       "    <tr>\n",
       "      <th>最寄駅：名称</th>\n",
       "      <td>20623</td>\n",
       "    </tr>\n",
       "    <tr>\n",
       "      <th>市区町村名</th>\n",
       "      <td>10915</td>\n",
       "    </tr>\n",
       "    <tr>\n",
       "      <th>取引時点</th>\n",
       "      <td>4838</td>\n",
       "    </tr>\n",
       "    <tr>\n",
       "      <th>建築年</th>\n",
       "      <td>3713</td>\n",
       "    </tr>\n",
       "    <tr>\n",
       "      <th>最寄駅：距離（分）</th>\n",
       "      <td>2918</td>\n",
       "    </tr>\n",
       "    <tr>\n",
       "      <th>面積（㎡）</th>\n",
       "      <td>2596</td>\n",
       "    </tr>\n",
       "    <tr>\n",
       "      <th>間取り</th>\n",
       "      <td>2534</td>\n",
       "    </tr>\n",
       "    <tr>\n",
       "      <th>都道府県名</th>\n",
       "      <td>2203</td>\n",
       "    </tr>\n",
       "    <tr>\n",
       "      <th>都市計画</th>\n",
       "      <td>2144</td>\n",
       "    </tr>\n",
       "    <tr>\n",
       "      <th>容積率（％）</th>\n",
       "      <td>1805</td>\n",
       "    </tr>\n",
       "    <tr>\n",
       "      <th>経度</th>\n",
       "      <td>926</td>\n",
       "    </tr>\n",
       "    <tr>\n",
       "      <th>建築年_en</th>\n",
       "      <td>899</td>\n",
       "    </tr>\n",
       "    <tr>\n",
       "      <th>緯度</th>\n",
       "      <td>801</td>\n",
       "    </tr>\n",
       "    <tr>\n",
       "      <th>今後の利用目的</th>\n",
       "      <td>570</td>\n",
       "    </tr>\n",
       "    <tr>\n",
       "      <th>建物の構造</th>\n",
       "      <td>457</td>\n",
       "    </tr>\n",
       "    <tr>\n",
       "      <th>改装</th>\n",
       "      <td>387</td>\n",
       "    </tr>\n",
       "    <tr>\n",
       "      <th>建ぺい率（％）</th>\n",
       "      <td>301</td>\n",
       "    </tr>\n",
       "    <tr>\n",
       "      <th>取引の事情等</th>\n",
       "      <td>301</td>\n",
       "    </tr>\n",
       "    <tr>\n",
       "      <th>用途</th>\n",
       "      <td>247</td>\n",
       "    </tr>\n",
       "  </tbody>\n",
       "</table>\n",
       "</div>"
      ],
      "text/plain": [
       "           importance\n",
       "地区名             21958\n",
       "最寄駅：名称          20623\n",
       "市区町村名           10915\n",
       "取引時点             4838\n",
       "建築年              3713\n",
       "最寄駅：距離（分）        2918\n",
       "面積（㎡）            2596\n",
       "間取り              2534\n",
       "都道府県名            2203\n",
       "都市計画             2144\n",
       "容積率（％）           1805\n",
       "経度                926\n",
       "建築年_en            899\n",
       "緯度                801\n",
       "今後の利用目的           570\n",
       "建物の構造             457\n",
       "改装                387\n",
       "建ぺい率（％）           301\n",
       "取引の事情等            301\n",
       "用途                247"
      ]
     },
     "execution_count": 14,
     "metadata": {},
     "output_type": "execute_result"
    }
   ],
   "source": [
    "pd.DataFrame(model.feature_importance(), index=val_x.columns, columns=[\"importance\"]).sort_values(\"importance\", ascending=False)"
   ]
  },
  {
   "cell_type": "code",
   "execution_count": 15,
   "id": "expired-administration",
   "metadata": {},
   "outputs": [],
   "source": [
    "df_test = pd.read_csv(\"/tmp/working/dataset/nishika/old_apartment_2020/test.csv\", index_col=0)\n",
    "df_test = data_pre(df_test)\n",
    "predict = model.predict(df_test)\n",
    "df_test[\"取引価格（総額）_log\"] = predict\n",
    "df_test[[\"取引価格（総額）_log\"]].to_csv(\"./output/09_sub.csv\")"
   ]
  },
  {
   "cell_type": "code",
   "execution_count": 111,
   "id": "desirable-depression",
   "metadata": {},
   "outputs": [
    {
     "data": {
      "text/html": [
       "<div>\n",
       "<style scoped>\n",
       "    .dataframe tbody tr th:only-of-type {\n",
       "        vertical-align: middle;\n",
       "    }\n",
       "\n",
       "    .dataframe tbody tr th {\n",
       "        vertical-align: top;\n",
       "    }\n",
       "\n",
       "    .dataframe thead th {\n",
       "        text-align: right;\n",
       "    }\n",
       "</style>\n",
       "<table border=\"1\" class=\"dataframe\">\n",
       "  <thead>\n",
       "    <tr style=\"text-align: right;\">\n",
       "      <th></th>\n",
       "      <th>都道府県名</th>\n",
       "      <th>市区町村名</th>\n",
       "      <th>地区名</th>\n",
       "      <th>最寄駅：名称</th>\n",
       "      <th>最寄駅：距離（分）</th>\n",
       "      <th>間取り</th>\n",
       "      <th>面積（㎡）</th>\n",
       "      <th>建築年</th>\n",
       "      <th>建物の構造</th>\n",
       "      <th>用途</th>\n",
       "      <th>...</th>\n",
       "      <th>都市計画</th>\n",
       "      <th>建ぺい率（％）</th>\n",
       "      <th>容積率（％）</th>\n",
       "      <th>取引時点</th>\n",
       "      <th>改装</th>\n",
       "      <th>取引の事情等</th>\n",
       "      <th>緯度</th>\n",
       "      <th>経度</th>\n",
       "      <th>クラスタ平均</th>\n",
       "      <th>建築年_en</th>\n",
       "    </tr>\n",
       "    <tr>\n",
       "      <th>ID</th>\n",
       "      <th></th>\n",
       "      <th></th>\n",
       "      <th></th>\n",
       "      <th></th>\n",
       "      <th></th>\n",
       "      <th></th>\n",
       "      <th></th>\n",
       "      <th></th>\n",
       "      <th></th>\n",
       "      <th></th>\n",
       "      <th></th>\n",
       "      <th></th>\n",
       "      <th></th>\n",
       "      <th></th>\n",
       "      <th></th>\n",
       "      <th></th>\n",
       "      <th></th>\n",
       "      <th></th>\n",
       "      <th></th>\n",
       "      <th></th>\n",
       "      <th></th>\n",
       "    </tr>\n",
       "  </thead>\n",
       "  <tbody>\n",
       "    <tr>\n",
       "      <th>1000000</th>\n",
       "      <td>北海道</td>\n",
       "      <td>札幌市中央区</td>\n",
       "      <td>旭ケ丘</td>\n",
       "      <td>円山公園</td>\n",
       "      <td>26.0</td>\n",
       "      <td>３ＬＤＫ</td>\n",
       "      <td>75.0</td>\n",
       "      <td>32.0</td>\n",
       "      <td>ＲＣ</td>\n",
       "      <td>NaN</td>\n",
       "      <td>...</td>\n",
       "      <td>第１種低層住居専用地域</td>\n",
       "      <td>40.0</td>\n",
       "      <td>60.0</td>\n",
       "      <td>2020.50</td>\n",
       "      <td>未改装</td>\n",
       "      <td>NaN</td>\n",
       "      <td>43.046848</td>\n",
       "      <td>141.322114</td>\n",
       "      <td>2.0</td>\n",
       "      <td>10</td>\n",
       "    </tr>\n",
       "    <tr>\n",
       "      <th>1000110</th>\n",
       "      <td>北海道</td>\n",
       "      <td>札幌市中央区</td>\n",
       "      <td>大通西</td>\n",
       "      <td>西１８丁目</td>\n",
       "      <td>2.0</td>\n",
       "      <td>１ＬＤＫ</td>\n",
       "      <td>45.0</td>\n",
       "      <td>30.0</td>\n",
       "      <td>ＳＲＣ</td>\n",
       "      <td>住宅</td>\n",
       "      <td>...</td>\n",
       "      <td>商業地域</td>\n",
       "      <td>80.0</td>\n",
       "      <td>400.0</td>\n",
       "      <td>2020.75</td>\n",
       "      <td>未改装</td>\n",
       "      <td>NaN</td>\n",
       "      <td>43.046848</td>\n",
       "      <td>141.322114</td>\n",
       "      <td>2.0</td>\n",
       "      <td>10</td>\n",
       "    </tr>\n",
       "    <tr>\n",
       "      <th>1000111</th>\n",
       "      <td>北海道</td>\n",
       "      <td>札幌市中央区</td>\n",
       "      <td>大通西</td>\n",
       "      <td>西１８丁目</td>\n",
       "      <td>2.0</td>\n",
       "      <td>２ＬＤＫ</td>\n",
       "      <td>50.0</td>\n",
       "      <td>32.0</td>\n",
       "      <td>ＳＲＣ</td>\n",
       "      <td>住宅</td>\n",
       "      <td>...</td>\n",
       "      <td>商業地域</td>\n",
       "      <td>80.0</td>\n",
       "      <td>400.0</td>\n",
       "      <td>2020.75</td>\n",
       "      <td>改装済</td>\n",
       "      <td>NaN</td>\n",
       "      <td>43.046848</td>\n",
       "      <td>141.322114</td>\n",
       "      <td>2.0</td>\n",
       "      <td>10</td>\n",
       "    </tr>\n",
       "    <tr>\n",
       "      <th>1000112</th>\n",
       "      <td>北海道</td>\n",
       "      <td>札幌市中央区</td>\n",
       "      <td>大通西</td>\n",
       "      <td>西１８丁目</td>\n",
       "      <td>3.0</td>\n",
       "      <td>２ＬＤＫ</td>\n",
       "      <td>80.0</td>\n",
       "      <td>24.0</td>\n",
       "      <td>ＲＣ</td>\n",
       "      <td>NaN</td>\n",
       "      <td>...</td>\n",
       "      <td>商業地域</td>\n",
       "      <td>80.0</td>\n",
       "      <td>400.0</td>\n",
       "      <td>2020.75</td>\n",
       "      <td>改装済</td>\n",
       "      <td>NaN</td>\n",
       "      <td>43.046848</td>\n",
       "      <td>141.322114</td>\n",
       "      <td>2.0</td>\n",
       "      <td>8</td>\n",
       "    </tr>\n",
       "    <tr>\n",
       "      <th>1000113</th>\n",
       "      <td>北海道</td>\n",
       "      <td>札幌市中央区</td>\n",
       "      <td>大通西</td>\n",
       "      <td>西１８丁目</td>\n",
       "      <td>3.0</td>\n",
       "      <td>１Ｋ</td>\n",
       "      <td>20.0</td>\n",
       "      <td>40.0</td>\n",
       "      <td>ＲＣ</td>\n",
       "      <td>NaN</td>\n",
       "      <td>...</td>\n",
       "      <td>商業地域</td>\n",
       "      <td>80.0</td>\n",
       "      <td>400.0</td>\n",
       "      <td>2020.75</td>\n",
       "      <td>未改装</td>\n",
       "      <td>NaN</td>\n",
       "      <td>43.046848</td>\n",
       "      <td>141.322114</td>\n",
       "      <td>2.0</td>\n",
       "      <td>14</td>\n",
       "    </tr>\n",
       "    <tr>\n",
       "      <th>...</th>\n",
       "      <td>...</td>\n",
       "      <td>...</td>\n",
       "      <td>...</td>\n",
       "      <td>...</td>\n",
       "      <td>...</td>\n",
       "      <td>...</td>\n",
       "      <td>...</td>\n",
       "      <td>...</td>\n",
       "      <td>...</td>\n",
       "      <td>...</td>\n",
       "      <td>...</td>\n",
       "      <td>...</td>\n",
       "      <td>...</td>\n",
       "      <td>...</td>\n",
       "      <td>...</td>\n",
       "      <td>...</td>\n",
       "      <td>...</td>\n",
       "      <td>...</td>\n",
       "      <td>...</td>\n",
       "      <td>...</td>\n",
       "      <td>...</td>\n",
       "    </tr>\n",
       "    <tr>\n",
       "      <th>47006180</th>\n",
       "      <td>沖縄県</td>\n",
       "      <td>沖縄市</td>\n",
       "      <td>大里</td>\n",
       "      <td>NaN</td>\n",
       "      <td>NaN</td>\n",
       "      <td>２ＬＤＫ</td>\n",
       "      <td>35.0</td>\n",
       "      <td>30.0</td>\n",
       "      <td>ＲＣ</td>\n",
       "      <td>NaN</td>\n",
       "      <td>...</td>\n",
       "      <td>第１種低層住居専用地域</td>\n",
       "      <td>50.0</td>\n",
       "      <td>100.0</td>\n",
       "      <td>2020.75</td>\n",
       "      <td>NaN</td>\n",
       "      <td>NaN</td>\n",
       "      <td>26.334353</td>\n",
       "      <td>127.805606</td>\n",
       "      <td>3.0</td>\n",
       "      <td>10</td>\n",
       "    </tr>\n",
       "    <tr>\n",
       "      <th>47006652</th>\n",
       "      <td>沖縄県</td>\n",
       "      <td>沖縄市</td>\n",
       "      <td>比屋根</td>\n",
       "      <td>NaN</td>\n",
       "      <td>NaN</td>\n",
       "      <td>２ＬＤＫ</td>\n",
       "      <td>60.0</td>\n",
       "      <td>37.0</td>\n",
       "      <td>ＲＣ</td>\n",
       "      <td>NaN</td>\n",
       "      <td>...</td>\n",
       "      <td>市街化区域及び市街化調整区域外の都市計画区域</td>\n",
       "      <td>70.0</td>\n",
       "      <td>200.0</td>\n",
       "      <td>2020.75</td>\n",
       "      <td>未改装</td>\n",
       "      <td>NaN</td>\n",
       "      <td>26.334353</td>\n",
       "      <td>127.805606</td>\n",
       "      <td>3.0</td>\n",
       "      <td>13</td>\n",
       "    </tr>\n",
       "    <tr>\n",
       "      <th>47006790</th>\n",
       "      <td>沖縄県</td>\n",
       "      <td>沖縄市</td>\n",
       "      <td>美里</td>\n",
       "      <td>NaN</td>\n",
       "      <td>NaN</td>\n",
       "      <td>３ＤＫ</td>\n",
       "      <td>55.0</td>\n",
       "      <td>33.0</td>\n",
       "      <td>ＲＣ</td>\n",
       "      <td>NaN</td>\n",
       "      <td>...</td>\n",
       "      <td>商業地域</td>\n",
       "      <td>80.0</td>\n",
       "      <td>400.0</td>\n",
       "      <td>2020.50</td>\n",
       "      <td>未改装</td>\n",
       "      <td>NaN</td>\n",
       "      <td>26.334353</td>\n",
       "      <td>127.805606</td>\n",
       "      <td>3.0</td>\n",
       "      <td>10</td>\n",
       "    </tr>\n",
       "    <tr>\n",
       "      <th>47007026</th>\n",
       "      <td>沖縄県</td>\n",
       "      <td>沖縄市</td>\n",
       "      <td>与儀</td>\n",
       "      <td>NaN</td>\n",
       "      <td>NaN</td>\n",
       "      <td>２ＬＤＫ</td>\n",
       "      <td>55.0</td>\n",
       "      <td>7.0</td>\n",
       "      <td>ＲＣ</td>\n",
       "      <td>住宅</td>\n",
       "      <td>...</td>\n",
       "      <td>第１種中高層住居専用地域</td>\n",
       "      <td>60.0</td>\n",
       "      <td>200.0</td>\n",
       "      <td>2020.75</td>\n",
       "      <td>改装済</td>\n",
       "      <td>NaN</td>\n",
       "      <td>26.334353</td>\n",
       "      <td>127.805606</td>\n",
       "      <td>3.0</td>\n",
       "      <td>5</td>\n",
       "    </tr>\n",
       "    <tr>\n",
       "      <th>47008203</th>\n",
       "      <td>沖縄県</td>\n",
       "      <td>うるま市</td>\n",
       "      <td>字具志川</td>\n",
       "      <td>NaN</td>\n",
       "      <td>NaN</td>\n",
       "      <td>３ＬＤＫ</td>\n",
       "      <td>65.0</td>\n",
       "      <td>32.0</td>\n",
       "      <td>ＲＣ</td>\n",
       "      <td>住宅</td>\n",
       "      <td>...</td>\n",
       "      <td>市街化区域及び市街化調整区域外の都市計画区域</td>\n",
       "      <td>60.0</td>\n",
       "      <td>200.0</td>\n",
       "      <td>2020.50</td>\n",
       "      <td>未改装</td>\n",
       "      <td>調停・競売等</td>\n",
       "      <td>26.378685</td>\n",
       "      <td>127.857493</td>\n",
       "      <td>3.0</td>\n",
       "      <td>10</td>\n",
       "    </tr>\n",
       "  </tbody>\n",
       "</table>\n",
       "<p>17894 rows × 21 columns</p>\n",
       "</div>"
      ],
      "text/plain": [
       "         都道府県名   市区町村名   地区名 最寄駅：名称  最寄駅：距離（分）   間取り  面積（㎡）   建築年 建物の構造   用途  \\\n",
       "ID                                                                             \n",
       "1000000    北海道  札幌市中央区   旭ケ丘   円山公園       26.0  ３ＬＤＫ   75.0  32.0    ＲＣ  NaN   \n",
       "1000110    北海道  札幌市中央区   大通西  西１８丁目        2.0  １ＬＤＫ   45.0  30.0   ＳＲＣ   住宅   \n",
       "1000111    北海道  札幌市中央区   大通西  西１８丁目        2.0  ２ＬＤＫ   50.0  32.0   ＳＲＣ   住宅   \n",
       "1000112    北海道  札幌市中央区   大通西  西１８丁目        3.0  ２ＬＤＫ   80.0  24.0    ＲＣ  NaN   \n",
       "1000113    北海道  札幌市中央区   大通西  西１８丁目        3.0    １Ｋ   20.0  40.0    ＲＣ  NaN   \n",
       "...        ...     ...   ...    ...        ...   ...    ...   ...   ...  ...   \n",
       "47006180   沖縄県     沖縄市    大里    NaN        NaN  ２ＬＤＫ   35.0  30.0    ＲＣ  NaN   \n",
       "47006652   沖縄県     沖縄市   比屋根    NaN        NaN  ２ＬＤＫ   60.0  37.0    ＲＣ  NaN   \n",
       "47006790   沖縄県     沖縄市    美里    NaN        NaN   ３ＤＫ   55.0  33.0    ＲＣ  NaN   \n",
       "47007026   沖縄県     沖縄市    与儀    NaN        NaN  ２ＬＤＫ   55.0   7.0    ＲＣ   住宅   \n",
       "47008203   沖縄県    うるま市  字具志川    NaN        NaN  ３ＬＤＫ   65.0  32.0    ＲＣ   住宅   \n",
       "\n",
       "          ...                    都市計画 建ぺい率（％）  容積率（％）     取引時点   改装  取引の事情等  \\\n",
       "ID        ...                                                                 \n",
       "1000000   ...             第１種低層住居専用地域    40.0    60.0  2020.50  未改装     NaN   \n",
       "1000110   ...                    商業地域    80.0   400.0  2020.75  未改装     NaN   \n",
       "1000111   ...                    商業地域    80.0   400.0  2020.75  改装済     NaN   \n",
       "1000112   ...                    商業地域    80.0   400.0  2020.75  改装済     NaN   \n",
       "1000113   ...                    商業地域    80.0   400.0  2020.75  未改装     NaN   \n",
       "...       ...                     ...     ...     ...      ...  ...     ...   \n",
       "47006180  ...             第１種低層住居専用地域    50.0   100.0  2020.75  NaN     NaN   \n",
       "47006652  ...  市街化区域及び市街化調整区域外の都市計画区域    70.0   200.0  2020.75  未改装     NaN   \n",
       "47006790  ...                    商業地域    80.0   400.0  2020.50  未改装     NaN   \n",
       "47007026  ...            第１種中高層住居専用地域    60.0   200.0  2020.75  改装済     NaN   \n",
       "47008203  ...  市街化区域及び市街化調整区域外の都市計画区域    60.0   200.0  2020.50  未改装  調停・競売等   \n",
       "\n",
       "                 緯度          経度  クラスタ平均  建築年_en  \n",
       "ID                                               \n",
       "1000000   43.046848  141.322114     2.0      10  \n",
       "1000110   43.046848  141.322114     2.0      10  \n",
       "1000111   43.046848  141.322114     2.0      10  \n",
       "1000112   43.046848  141.322114     2.0       8  \n",
       "1000113   43.046848  141.322114     2.0      14  \n",
       "...             ...         ...     ...     ...  \n",
       "47006180  26.334353  127.805606     3.0      10  \n",
       "47006652  26.334353  127.805606     3.0      13  \n",
       "47006790  26.334353  127.805606     3.0      10  \n",
       "47007026  26.334353  127.805606     3.0       5  \n",
       "47008203  26.378685  127.857493     3.0      10  \n",
       "\n",
       "[17894 rows x 21 columns]"
      ]
     },
     "execution_count": 111,
     "metadata": {},
     "output_type": "execute_result"
    }
   ],
   "source": [
    "df_test"
   ]
  },
  {
   "cell_type": "code",
   "execution_count": null,
   "id": "elder-endorsement",
   "metadata": {},
   "outputs": [],
   "source": []
  }
 ],
 "metadata": {
  "kernelspec": {
   "display_name": "Python 3",
   "language": "python",
   "name": "python3"
  },
  "language_info": {
   "codemirror_mode": {
    "name": "ipython",
    "version": 3
   },
   "file_extension": ".py",
   "mimetype": "text/x-python",
   "name": "python",
   "nbconvert_exporter": "python",
   "pygments_lexer": "ipython3",
   "version": "3.7.10"
  }
 },
 "nbformat": 4,
 "nbformat_minor": 5
}
