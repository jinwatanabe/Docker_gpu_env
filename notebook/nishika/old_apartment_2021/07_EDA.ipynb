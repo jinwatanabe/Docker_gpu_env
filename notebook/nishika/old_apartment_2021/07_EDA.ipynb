{
 "cells": [
  {
   "cell_type": "code",
   "execution_count": 6,
   "id": "based-configuration",
   "metadata": {},
   "outputs": [],
   "source": [
    "from pre3 import data_pre\n",
    "from input_data import input_df\n",
    "import matplotlib.pyplot as plt\n",
    "import pandas as pd\n",
    "import numpy as np\n",
    "import json"
   ]
  },
  {
   "cell_type": "code",
   "execution_count": 4,
   "id": "revised-scientist",
   "metadata": {},
   "outputs": [],
   "source": [
    "df = input_df()\n",
    "df = data_pre(df)"
   ]
  },
  {
   "cell_type": "code",
   "execution_count": null,
   "id": "otherwise-interest",
   "metadata": {},
   "outputs": [],
   "source": [
    "df.info()"
   ]
  },
  {
   "cell_type": "code",
   "execution_count": null,
   "id": "vietnamese-layout",
   "metadata": {},
   "outputs": [],
   "source": [
    "# 仮説 : 建物の構造によって価格が違うのではないか\n",
    "import seaborn as sns\n",
    "pref_list = df[\"都道府県名\"].tolist()\n",
    "pref_list = set(pref_list)\n",
    "\n",
    "fig, ax = plt.subplots(7, 7, figsize=(70, 50), sharey=True)\n",
    "for i, pref in enumerate(pref_list):\n",
    "    sns.boxplot(\n",
    "        x='建物の構造', y='取引価格（総額）_log',\n",
    "        data=df[df.都道府県名==pref].sort_values('建物の構造'),\n",
    "        ax=ax[divmod(i, 7)]).set(title=pref, xlabel=None, ylim=(2, 10))\n",
    "\n",
    "# hide excess graphs\n",
    "for i in range(len(pref_list)-7*7, 0):\n",
    "  ax[-1, i].axis('off')\n",
    "\n",
    "\n",
    "plt.show()"
   ]
  },
  {
   "cell_type": "code",
   "execution_count": null,
   "id": "deluxe-variable",
   "metadata": {},
   "outputs": [],
   "source": [
    "sns.boxplot(x='建物の構造', y='取引価格（総額）_log',data=df.sort_values('建物の構造')).set(xlabel=None, ylim=(2, 10))"
   ]
  },
  {
   "cell_type": "code",
   "execution_count": null,
   "id": "after-ownership",
   "metadata": {},
   "outputs": [],
   "source": [
    "import numpy as np\n",
    "# 各県の都市部から離れているほうが価格が安い\n",
    "# 山梨県\n",
    "\n",
    "pref = \"北海道\"\n",
    "area = \"小樽市\"\n",
    "\n",
    "data =  df[df[\"都道府県名\"]==pref].reset_index()\n",
    "\n",
    "main = data[data[\"市区町村名\"]==area]\n",
    "nmain = data[data[\"市区町村名\"]!=area]\n",
    "\n",
    "plt.scatter(nmain['面積（㎡）'], nmain['取引価格（総額）_log'], color='black')\n",
    "plt.scatter(main['面積（㎡）'], main['取引価格（総額）_log'], color='red')\n",
    "plt.show()\n"
   ]
  },
  {
   "cell_type": "code",
   "execution_count": null,
   "id": "caroline-multimedia",
   "metadata": {},
   "outputs": [],
   "source": []
  },
  {
   "cell_type": "code",
   "execution_count": null,
   "id": "prompt-active",
   "metadata": {},
   "outputs": [],
   "source": [
    "df = df[[\"都道府県名\", \"市区町村名\", \"面積（㎡）\", \"取引価格（総額）_log\"]]\n",
    "main_area = []\n",
    "\n",
    "df[\"平均価格\"] = df[\"取引価格（総額）_log\"] / df[\"面積（㎡）\"]\n",
    "\n",
    "for pref in pref_list:\n",
    "    data = df[df[\"都道府県名\"]==pref].groupby('市区町村名').mean()\n",
    "    i = data[\"平均価格\"].max()\n",
    "    area = data[data[\"平均価格\"] == i].index[0]\n",
    "    main_area.append(area)"
   ]
  },
  {
   "cell_type": "code",
   "execution_count": null,
   "id": "opposite-attendance",
   "metadata": {},
   "outputs": [],
   "source": [
    "len(main_area)"
   ]
  },
  {
   "cell_type": "code",
   "execution_count": null,
   "id": "oriented-cookbook",
   "metadata": {},
   "outputs": [],
   "source": [
    "main_area"
   ]
  },
  {
   "cell_type": "code",
   "execution_count": null,
   "id": "reasonable-valve",
   "metadata": {},
   "outputs": [],
   "source": [
    "area_axis = pd.read_csv('area_axis.csv')"
   ]
  },
  {
   "cell_type": "code",
   "execution_count": null,
   "id": "diverse-security",
   "metadata": {},
   "outputs": [],
   "source": [
    "!pip install tqdm"
   ]
  },
  {
   "cell_type": "code",
   "execution_count": null,
   "id": "precious-enlargement",
   "metadata": {},
   "outputs": [],
   "source": [
    "!pip install beautifulsoup4"
   ]
  },
  {
   "cell_type": "code",
   "execution_count": null,
   "id": "modular-tribute",
   "metadata": {},
   "outputs": [],
   "source": [
    "!pip install bs4\n",
    "import requests\n",
    "from bs4 import BeautifulSoup\n",
    "import time\n",
    "from tqdm import tqdm\n",
    "\n",
    "\n",
    "def get_lat_lon_from_address(address_l):\n",
    "\n",
    "    url = 'http://www.geocoding.jp/api/'\n",
    "    latlons = []\n",
    "    for address in tqdm(address_l):\n",
    "        payload = {\"v\": 1.1, 'q': address}\n",
    "        r = requests.get(url, params=payload)\n",
    "        ret = BeautifulSoup(r.content,'lxml')\n",
    "        if ret.find('error'):\n",
    "            raise ValueError(f\"Invalid address submitted. {address}\")\n",
    "        else:\n",
    "            lat = ret.find('lat').string\n",
    "            lon = ret.find('lng').string\n",
    "            latlons.append([lat,lon])\n",
    "            time.sleep(5)\n",
    "    return latlons\n",
    "\n",
    "main_area_axis = get_lat_lon_from_address(main_area)"
   ]
  },
  {
   "cell_type": "code",
   "execution_count": null,
   "id": "indie-authority",
   "metadata": {},
   "outputs": [],
   "source": [
    "main_dict = dict(zip(pref_list, main_area_axis))"
   ]
  },
  {
   "cell_type": "code",
   "execution_count": null,
   "id": "loose-google",
   "metadata": {},
   "outputs": [],
   "source": [
    "main_dict"
   ]
  },
  {
   "cell_type": "code",
   "execution_count": null,
   "id": "composite-retrieval",
   "metadata": {},
   "outputs": [],
   "source": [
    "import json\n",
    "\n",
    "with open(\"main_area_dict.json\", \"w\") as tf:\n",
    "    json.dump(main_dict,tf)"
   ]
  },
  {
   "cell_type": "code",
   "execution_count": 7,
   "id": "regional-agency",
   "metadata": {},
   "outputs": [],
   "source": [
    "def json_load(path):\n",
    "    with open(path, mode='r') as f:\n",
    "        data = json.load(f)\n",
    "        return data\n",
    "\n",
    "main_dict = json_load('main_area_dict.json')"
   ]
  },
  {
   "cell_type": "code",
   "execution_count": 8,
   "id": "stretch-peripheral",
   "metadata": {},
   "outputs": [
    {
     "data": {
      "text/plain": [
       "{'岩手県': ['39.701956', '141.15433'],\n",
       " '秋田県': ['39.719967', '140.10348'],\n",
       " '滋賀県': ['35.112626', '136.207575'],\n",
       " '千葉県': ['35.497882', '140.114867'],\n",
       " '愛知県': ['35.160804', '136.907689'],\n",
       " '兵庫県': ['34.667381', '135.214988'],\n",
       " '大阪府': ['34.661106', '135.494556'],\n",
       " '京都府': ['34.992615', '135.756837'],\n",
       " '徳島県': ['34.070365', '134.554954'],\n",
       " '富山県': ['36.754112', '137.025764'],\n",
       " '鳥取県': ['35.501108', '134.235101'],\n",
       " '高知県': ['33.558882', '133.531238'],\n",
       " '新潟県': ['37.446519', '138.85135'],\n",
       " '島根県': ['35.468191', '133.048406'],\n",
       " '石川県': ['36.408421', '136.445853'],\n",
       " '福岡県': ['33.590342', '130.441447'],\n",
       " '宮崎県': ['32.58232', '131.665141'],\n",
       " '鹿児島県': ['31.596854', '130.557139'],\n",
       " '群馬県': ['36.389467', '139.063413'],\n",
       " '広島県': ['34.381432', '132.447902'],\n",
       " '青森県': ['40.603063', '140.464054'],\n",
       " '長崎県': ['32.750333', '129.877889'],\n",
       " '三重県': ['35.034295', '136.664476'],\n",
       " '熊本県': ['32.802657', '130.725996'],\n",
       " '山梨県': ['35.662133', '138.5683'],\n",
       " '香川県': ['34.342542', '134.046541'],\n",
       " '北海道': ['43.144873', '141.358562'],\n",
       " '福島県': ['37.760799', '140.474786'],\n",
       " '福井県': ['36.064139', '136.219623'],\n",
       " '宮城県': ['38.380191', '141.067293'],\n",
       " '静岡県': ['34.812286', '137.783489'],\n",
       " '岡山県': ['35.069164', '134.00458'],\n",
       " '東京都': ['35.693825', '139.703356'],\n",
       " '栃木県': ['36.961686', '140.046073'],\n",
       " '大分県': ['33.284461', '131.490709'],\n",
       " '沖縄県': ['26.212576', '127.679021'],\n",
       " '奈良県': ['34.528023', '135.952433'],\n",
       " '愛媛県': ['33.839352', '132.765306'],\n",
       " '山口県': ['34.178295', '131.473843'],\n",
       " '岐阜県': ['35.44023', '137.015653'],\n",
       " '茨城県': ['36.396651', '140.534793'],\n",
       " '神奈川県': ['35.455207', '139.61461'],\n",
       " '埼玉県': ['35.908649', '139.624808'],\n",
       " '山形県': ['38.255415', '140.339618'],\n",
       " '和歌山県': ['34.230368', '135.170741'],\n",
       " '佐賀県': ['33.263118', '130.300906'],\n",
       " '長野県': ['36.648526', '138.195037']}"
      ]
     },
     "execution_count": 8,
     "metadata": {},
     "output_type": "execute_result"
    }
   ],
   "source": [
    "main_dict"
   ]
  },
  {
   "cell_type": "code",
   "execution_count": 10,
   "id": "rocky-fever",
   "metadata": {},
   "outputs": [
    {
     "name": "stdout",
     "output_type": "stream",
     "text": [
      "Requirement already satisfied: geopy in /opt/conda/lib/python3.7/site-packages (2.1.0)\n",
      "Requirement already satisfied: geographiclib<2,>=1.49 in /opt/conda/lib/python3.7/site-packages (from geopy) (1.50)\n",
      "\u001b[33mWARNING: Running pip as root will break packages and permissions. You should install packages reliably by using venv: https://pip.pypa.io/warnings/venv\u001b[0m\n",
      "\u001b[33mWARNING: You are using pip version 21.1.1; however, version 21.1.2 is available.\n",
      "You should consider upgrading via the '/opt/conda/bin/python3.7 -m pip install --upgrade pip' command.\u001b[0m\n"
     ]
    }
   ],
   "source": [
    "!pip install geopy"
   ]
  },
  {
   "cell_type": "code",
   "execution_count": 11,
   "id": "collaborative-portable",
   "metadata": {},
   "outputs": [],
   "source": [
    "from geopy.distance import geodesic\n",
    "\n",
    "def area_dis(x):\n",
    "    \n",
    "    pref = x[\"都道府県名\"]\n",
    "    main_axis = main_dict[pref]\n",
    "    ido = x[\"緯度\"]\n",
    "    kei = x[\"経度\"]\n",
    "    m_ido = main_axis[0]\n",
    "    m_kei = main_axis[1]\n",
    "    \n",
    "    tu = (ido, kei)\n",
    "    mtu = (m_ido, m_kei)\n",
    "    \n",
    "    dis = geodesic(tu, mtu).km\n",
    "\n",
    "    return dis\n",
    "    \n",
    "\n",
    "df[\"都市距離\"] = df.apply(lambda x: area_dis(x), axis=1)"
   ]
  },
  {
   "cell_type": "code",
   "execution_count": 13,
   "id": "labeled-congo",
   "metadata": {},
   "outputs": [],
   "source": [
    "t = df[[\"市区町村名\", \"都市距離\"]]"
   ]
  },
  {
   "cell_type": "code",
   "execution_count": 51,
   "id": "level-module",
   "metadata": {},
   "outputs": [],
   "source": [
    "s = t.groupby('市区町村名').mean()"
   ]
  },
  {
   "cell_type": "code",
   "execution_count": 52,
   "id": "hollywood-norfolk",
   "metadata": {},
   "outputs": [
    {
     "data": {
      "text/html": [
       "<div>\n",
       "<style scoped>\n",
       "    .dataframe tbody tr th:only-of-type {\n",
       "        vertical-align: middle;\n",
       "    }\n",
       "\n",
       "    .dataframe tbody tr th {\n",
       "        vertical-align: top;\n",
       "    }\n",
       "\n",
       "    .dataframe thead th {\n",
       "        text-align: right;\n",
       "    }\n",
       "</style>\n",
       "<table border=\"1\" class=\"dataframe\">\n",
       "  <thead>\n",
       "    <tr style=\"text-align: right;\">\n",
       "      <th></th>\n",
       "      <th>都市距離</th>\n",
       "    </tr>\n",
       "    <tr>\n",
       "      <th>市区町村名</th>\n",
       "      <th></th>\n",
       "    </tr>\n",
       "  </thead>\n",
       "  <tbody>\n",
       "    <tr>\n",
       "      <th>あきる野市</th>\n",
       "      <td>37.291469</td>\n",
       "    </tr>\n",
       "    <tr>\n",
       "      <th>あま市</th>\n",
       "      <td>12.146825</td>\n",
       "    </tr>\n",
       "    <tr>\n",
       "      <th>いわき市</th>\n",
       "      <td>86.897730</td>\n",
       "    </tr>\n",
       "    <tr>\n",
       "      <th>うるま市</th>\n",
       "      <td>25.619556</td>\n",
       "    </tr>\n",
       "    <tr>\n",
       "      <th>さいたま市中央区</th>\n",
       "      <td>3.045105</td>\n",
       "    </tr>\n",
       "    <tr>\n",
       "      <th>...</th>\n",
       "      <td>...</td>\n",
       "    </tr>\n",
       "    <tr>\n",
       "      <th>鶴岡市</th>\n",
       "      <td>68.882127</td>\n",
       "    </tr>\n",
       "    <tr>\n",
       "      <th>鹿児島市</th>\n",
       "      <td>0.000000</td>\n",
       "    </tr>\n",
       "    <tr>\n",
       "      <th>鹿屋市</th>\n",
       "      <td>37.064919</td>\n",
       "    </tr>\n",
       "    <tr>\n",
       "      <th>鹿沼市</th>\n",
       "      <td>51.390417</td>\n",
       "    </tr>\n",
       "    <tr>\n",
       "      <th>龍ケ崎市</th>\n",
       "      <td>62.471545</td>\n",
       "    </tr>\n",
       "  </tbody>\n",
       "</table>\n",
       "<p>618 rows × 1 columns</p>\n",
       "</div>"
      ],
      "text/plain": [
       "               都市距離\n",
       "市区町村名              \n",
       "あきる野市     37.291469\n",
       "あま市       12.146825\n",
       "いわき市      86.897730\n",
       "うるま市      25.619556\n",
       "さいたま市中央区   3.045105\n",
       "...             ...\n",
       "鶴岡市       68.882127\n",
       "鹿児島市       0.000000\n",
       "鹿屋市       37.064919\n",
       "鹿沼市       51.390417\n",
       "龍ケ崎市      62.471545\n",
       "\n",
       "[618 rows x 1 columns]"
      ]
     },
     "execution_count": 52,
     "metadata": {},
     "output_type": "execute_result"
    }
   ],
   "source": [
    "s"
   ]
  },
  {
   "cell_type": "code",
   "execution_count": 69,
   "id": "exempt-punishment",
   "metadata": {},
   "outputs": [],
   "source": [
    "a = a[[\"市区町村名\"]]"
   ]
  },
  {
   "cell_type": "code",
   "execution_count": 70,
   "id": "premium-concrete",
   "metadata": {},
   "outputs": [
    {
     "name": "stderr",
     "output_type": "stream",
     "text": [
      "/opt/conda/lib/python3.7/site-packages/ipykernel_launcher.py:1: SettingWithCopyWarning: \n",
      "A value is trying to be set on a copy of a slice from a DataFrame.\n",
      "Try using .loc[row_indexer,col_indexer] = value instead\n",
      "\n",
      "See the caveats in the documentation: https://pandas.pydata.org/pandas-docs/stable/user_guide/indexing.html#returning-a-view-versus-a-copy\n",
      "  \"\"\"Entry point for launching an IPython kernel.\n"
     ]
    }
   ],
   "source": [
    "a[\"都市距離\"] = 69.59576188973001"
   ]
  },
  {
   "cell_type": "code",
   "execution_count": 73,
   "id": "prompt-inclusion",
   "metadata": {},
   "outputs": [],
   "source": [
    "a = a.set_index(\"市区町村名\")"
   ]
  },
  {
   "cell_type": "code",
   "execution_count": 76,
   "id": "independent-humanity",
   "metadata": {},
   "outputs": [
    {
     "data": {
      "text/plain": [
       "pandas.core.frame.DataFrame"
      ]
     },
     "execution_count": 76,
     "metadata": {},
     "output_type": "execute_result"
    }
   ],
   "source": [
    "type(s)"
   ]
  },
  {
   "cell_type": "code",
   "execution_count": 82,
   "id": "municipal-musician",
   "metadata": {},
   "outputs": [],
   "source": [
    "s = s.append(a)"
   ]
  },
  {
   "cell_type": "code",
   "execution_count": 88,
   "id": "proper-reaction",
   "metadata": {},
   "outputs": [],
   "source": [
    "s = s.reset_index()"
   ]
  },
  {
   "cell_type": "code",
   "execution_count": 89,
   "id": "sufficient-taste",
   "metadata": {},
   "outputs": [],
   "source": [
    "s.to_csv('main_area_dis', index=False)"
   ]
  },
  {
   "cell_type": "code",
   "execution_count": 48,
   "id": "controlled-speaking",
   "metadata": {},
   "outputs": [],
   "source": [
    "def area_dis(x):\n",
    "    \n",
    "    \n",
    "    with open('main_area_dict.json', mode='r') as f:\n",
    "        main_dict = json.load(f)\n",
    "    \n",
    "    ido = 35.857784\n",
    "    kei = 140.139166\n",
    "    m_ido = 36.396651\n",
    "    m_kei = 140.534793\n",
    "    \n",
    "    tu = (ido, kei)\n",
    "    mtu = (m_ido, m_kei)\n",
    "    \n",
    "    dis = geodesic(tu, mtu).km\n",
    "\n",
    "    return dis"
   ]
  },
  {
   "cell_type": "code",
   "execution_count": 19,
   "id": "elder-sodium",
   "metadata": {},
   "outputs": [],
   "source": [
    "df_test = pd.read_csv(\"/tmp/working/dataset/nishika/old_apartment_2020/test.csv\", index_col=0)\n",
    "\n",
    "df_test = data_pre(df_test)"
   ]
  },
  {
   "cell_type": "code",
   "execution_count": 62,
   "id": "described-hurricane",
   "metadata": {},
   "outputs": [],
   "source": [
    "a = df_test[df_test[\"市区町村名\"]==\"北相馬郡利根町\"]"
   ]
  },
  {
   "cell_type": "code",
   "execution_count": 63,
   "id": "behavioral-cleaners",
   "metadata": {},
   "outputs": [
    {
     "data": {
      "text/html": [
       "<div>\n",
       "<style scoped>\n",
       "    .dataframe tbody tr th:only-of-type {\n",
       "        vertical-align: middle;\n",
       "    }\n",
       "\n",
       "    .dataframe tbody tr th {\n",
       "        vertical-align: top;\n",
       "    }\n",
       "\n",
       "    .dataframe thead th {\n",
       "        text-align: right;\n",
       "    }\n",
       "</style>\n",
       "<table border=\"1\" class=\"dataframe\">\n",
       "  <thead>\n",
       "    <tr style=\"text-align: right;\">\n",
       "      <th></th>\n",
       "      <th>都道府県名</th>\n",
       "      <th>市区町村名</th>\n",
       "      <th>地区名</th>\n",
       "      <th>最寄駅：名称</th>\n",
       "      <th>最寄駅：距離（分）</th>\n",
       "      <th>間取り</th>\n",
       "      <th>面積（㎡）</th>\n",
       "      <th>建築年</th>\n",
       "      <th>建物の構造</th>\n",
       "      <th>用途</th>\n",
       "      <th>今後の利用目的</th>\n",
       "      <th>都市計画</th>\n",
       "      <th>建ぺい率（％）</th>\n",
       "      <th>容積率（％）</th>\n",
       "      <th>取引時点</th>\n",
       "      <th>改装</th>\n",
       "      <th>取引の事情等</th>\n",
       "      <th>緯度</th>\n",
       "      <th>経度</th>\n",
       "      <th>クラスタ平均</th>\n",
       "    </tr>\n",
       "    <tr>\n",
       "      <th>ID</th>\n",
       "      <th></th>\n",
       "      <th></th>\n",
       "      <th></th>\n",
       "      <th></th>\n",
       "      <th></th>\n",
       "      <th></th>\n",
       "      <th></th>\n",
       "      <th></th>\n",
       "      <th></th>\n",
       "      <th></th>\n",
       "      <th></th>\n",
       "      <th></th>\n",
       "      <th></th>\n",
       "      <th></th>\n",
       "      <th></th>\n",
       "      <th></th>\n",
       "      <th></th>\n",
       "      <th></th>\n",
       "      <th></th>\n",
       "      <th></th>\n",
       "    </tr>\n",
       "  </thead>\n",
       "  <tbody>\n",
       "    <tr>\n",
       "      <th>8076952</th>\n",
       "      <td>茨城県</td>\n",
       "      <td>北相馬郡利根町</td>\n",
       "      <td>大字布川</td>\n",
       "      <td>布佐</td>\n",
       "      <td>24.0</td>\n",
       "      <td>３ＬＤＫ</td>\n",
       "      <td>70.0</td>\n",
       "      <td>28.0</td>\n",
       "      <td>ＲＣ</td>\n",
       "      <td>NaN</td>\n",
       "      <td>住宅</td>\n",
       "      <td>第１種中高層住居専用地域</td>\n",
       "      <td>60.0</td>\n",
       "      <td>200.0</td>\n",
       "      <td>2020.75</td>\n",
       "      <td>未改装</td>\n",
       "      <td>NaN</td>\n",
       "      <td>35.857784</td>\n",
       "      <td>140.139166</td>\n",
       "      <td>0.0</td>\n",
       "    </tr>\n",
       "  </tbody>\n",
       "</table>\n",
       "</div>"
      ],
      "text/plain": [
       "        都道府県名    市区町村名   地区名 最寄駅：名称  最寄駅：距離（分）   間取り  面積（㎡）   建築年 建物の構造   用途  \\\n",
       "ID                                                                             \n",
       "8076952   茨城県  北相馬郡利根町  大字布川     布佐       24.0  ３ＬＤＫ   70.0  28.0    ＲＣ  NaN   \n",
       "\n",
       "        今後の利用目的          都市計画  建ぺい率（％）  容積率（％）     取引時点   改装 取引の事情等  \\\n",
       "ID                                                                    \n",
       "8076952      住宅  第１種中高層住居専用地域     60.0   200.0  2020.75  未改装    NaN   \n",
       "\n",
       "                緯度          経度  クラスタ平均  \n",
       "ID                                      \n",
       "8076952  35.857784  140.139166     0.0  "
      ]
     },
     "execution_count": 63,
     "metadata": {},
     "output_type": "execute_result"
    }
   ],
   "source": [
    "a"
   ]
  },
  {
   "cell_type": "code",
   "execution_count": 67,
   "id": "progressive-wells",
   "metadata": {},
   "outputs": [
    {
     "data": {
      "text/plain": [
       "69.59576188973001"
      ]
     },
     "execution_count": 67,
     "metadata": {},
     "output_type": "execute_result"
    }
   ],
   "source": [
    "area_dis(a)"
   ]
  },
  {
   "cell_type": "code",
   "execution_count": 68,
   "id": "affiliated-czech",
   "metadata": {},
   "outputs": [
    {
     "data": {
      "text/html": [
       "<div>\n",
       "<style scoped>\n",
       "    .dataframe tbody tr th:only-of-type {\n",
       "        vertical-align: middle;\n",
       "    }\n",
       "\n",
       "    .dataframe tbody tr th {\n",
       "        vertical-align: top;\n",
       "    }\n",
       "\n",
       "    .dataframe thead th {\n",
       "        text-align: right;\n",
       "    }\n",
       "</style>\n",
       "<table border=\"1\" class=\"dataframe\">\n",
       "  <thead>\n",
       "    <tr style=\"text-align: right;\">\n",
       "      <th></th>\n",
       "      <th>都道府県名</th>\n",
       "      <th>市区町村名</th>\n",
       "      <th>地区名</th>\n",
       "      <th>最寄駅：名称</th>\n",
       "      <th>最寄駅：距離（分）</th>\n",
       "      <th>間取り</th>\n",
       "      <th>面積（㎡）</th>\n",
       "      <th>建築年</th>\n",
       "      <th>建物の構造</th>\n",
       "      <th>用途</th>\n",
       "      <th>今後の利用目的</th>\n",
       "      <th>都市計画</th>\n",
       "      <th>建ぺい率（％）</th>\n",
       "      <th>容積率（％）</th>\n",
       "      <th>取引時点</th>\n",
       "      <th>改装</th>\n",
       "      <th>取引の事情等</th>\n",
       "      <th>緯度</th>\n",
       "      <th>経度</th>\n",
       "      <th>クラスタ平均</th>\n",
       "    </tr>\n",
       "    <tr>\n",
       "      <th>ID</th>\n",
       "      <th></th>\n",
       "      <th></th>\n",
       "      <th></th>\n",
       "      <th></th>\n",
       "      <th></th>\n",
       "      <th></th>\n",
       "      <th></th>\n",
       "      <th></th>\n",
       "      <th></th>\n",
       "      <th></th>\n",
       "      <th></th>\n",
       "      <th></th>\n",
       "      <th></th>\n",
       "      <th></th>\n",
       "      <th></th>\n",
       "      <th></th>\n",
       "      <th></th>\n",
       "      <th></th>\n",
       "      <th></th>\n",
       "      <th></th>\n",
       "    </tr>\n",
       "  </thead>\n",
       "  <tbody>\n",
       "    <tr>\n",
       "      <th>8076952</th>\n",
       "      <td>茨城県</td>\n",
       "      <td>北相馬郡利根町</td>\n",
       "      <td>大字布川</td>\n",
       "      <td>布佐</td>\n",
       "      <td>24.0</td>\n",
       "      <td>３ＬＤＫ</td>\n",
       "      <td>70.0</td>\n",
       "      <td>28.0</td>\n",
       "      <td>ＲＣ</td>\n",
       "      <td>NaN</td>\n",
       "      <td>住宅</td>\n",
       "      <td>第１種中高層住居専用地域</td>\n",
       "      <td>60.0</td>\n",
       "      <td>200.0</td>\n",
       "      <td>2020.75</td>\n",
       "      <td>未改装</td>\n",
       "      <td>NaN</td>\n",
       "      <td>35.857784</td>\n",
       "      <td>140.139166</td>\n",
       "      <td>0.0</td>\n",
       "    </tr>\n",
       "  </tbody>\n",
       "</table>\n",
       "</div>"
      ],
      "text/plain": [
       "        都道府県名    市区町村名   地区名 最寄駅：名称  最寄駅：距離（分）   間取り  面積（㎡）   建築年 建物の構造   用途  \\\n",
       "ID                                                                             \n",
       "8076952   茨城県  北相馬郡利根町  大字布川     布佐       24.0  ３ＬＤＫ   70.0  28.0    ＲＣ  NaN   \n",
       "\n",
       "        今後の利用目的          都市計画  建ぺい率（％）  容積率（％）     取引時点   改装 取引の事情等  \\\n",
       "ID                                                                    \n",
       "8076952      住宅  第１種中高層住居専用地域     60.0   200.0  2020.75  未改装    NaN   \n",
       "\n",
       "                緯度          経度  クラスタ平均  \n",
       "ID                                      \n",
       "8076952  35.857784  140.139166     0.0  "
      ]
     },
     "execution_count": 68,
     "metadata": {},
     "output_type": "execute_result"
    }
   ],
   "source": [
    "a"
   ]
  },
  {
   "cell_type": "code",
   "execution_count": null,
   "id": "behavioral-option",
   "metadata": {},
   "outputs": [],
   "source": []
  }
 ],
 "metadata": {
  "kernelspec": {
   "display_name": "Python 3",
   "language": "python",
   "name": "python3"
  },
  "language_info": {
   "codemirror_mode": {
    "name": "ipython",
    "version": 3
   },
   "file_extension": ".py",
   "mimetype": "text/x-python",
   "name": "python",
   "nbconvert_exporter": "python",
   "pygments_lexer": "ipython3",
   "version": "3.7.10"
  }
 },
 "nbformat": 4,
 "nbformat_minor": 5
}
