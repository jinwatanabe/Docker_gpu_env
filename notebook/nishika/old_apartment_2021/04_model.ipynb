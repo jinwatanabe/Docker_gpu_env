{
 "cells": [
  {
   "cell_type": "code",
   "execution_count": 1,
   "id": "significant-multimedia",
   "metadata": {},
   "outputs": [],
   "source": [
    "from pre8 import data_pre\n",
    "from input_data import input_df\n",
    "import matplotlib.pyplot as plt\n",
    "import pandas as pd\n",
    "import numpy as np"
   ]
  },
  {
   "cell_type": "code",
   "execution_count": 2,
   "id": "synthetic-cholesterol",
   "metadata": {},
   "outputs": [
    {
     "name": "stderr",
     "output_type": "stream",
     "text": [
      "/opt/conda/lib/python3.7/site-packages/IPython/core/interactiveshell.py:3357: DtypeWarning: Columns (10) have mixed types.Specify dtype option on import or set low_memory=False.\n",
      "  if (await self.run_code(code, result,  async_=asy)):\n"
     ]
    }
   ],
   "source": [
    "df = input_df()\n",
    "df = data_pre(df)"
   ]
  },
  {
   "cell_type": "code",
   "execution_count": 3,
   "id": "specialized-completion",
   "metadata": {},
   "outputs": [],
   "source": [
    "df_test = pd.read_csv(\"/tmp/working/dataset/nishika/old_apartment_2020/test.csv\", index_col=0)\n",
    "\n",
    "df_test = data_pre(df_test)"
   ]
  },
  {
   "cell_type": "code",
   "execution_count": 4,
   "id": "phantom-shopping",
   "metadata": {},
   "outputs": [
    {
     "name": "stdout",
     "output_type": "stream",
     "text": [
      "<class 'pandas.core.frame.DataFrame'>\n",
      "Int64Index: 651975 entries, 1117225 to 47008266\n",
      "Data columns (total 21 columns):\n",
      " #   Column        Non-Null Count   Dtype   \n",
      "---  ------        --------------   -----   \n",
      " 0   都道府県名         651975 non-null  category\n",
      " 1   市区町村名         651975 non-null  category\n",
      " 2   地区名           651318 non-null  category\n",
      " 3   最寄駅：名称        649342 non-null  category\n",
      " 4   最寄駅：距離（分）     628916 non-null  float64 \n",
      " 5   間取り           629546 non-null  category\n",
      " 6   面積（㎡）         651975 non-null  float64 \n",
      " 7   建築年           633280 non-null  float64 \n",
      " 8   建物の構造         637098 non-null  category\n",
      " 9   用途            601333 non-null  category\n",
      " 10  今後の利用目的       288948 non-null  category\n",
      " 11  都市計画          633162 non-null  category\n",
      " 12  建ぺい率（％）       629168 non-null  float64 \n",
      " 13  容積率（％）        629168 non-null  float64 \n",
      " 14  取引時点          651975 non-null  float64 \n",
      " 15  改装            593301 non-null  category\n",
      " 16  取引の事情等        18397 non-null   category\n",
      " 17  取引価格（総額）_log  651975 non-null  float64 \n",
      " 18  緯度            651975 non-null  float64 \n",
      " 19  経度            651975 non-null  float64 \n",
      " 20  平均価格          651975 non-null  float64 \n",
      "dtypes: category(11), float64(10)\n",
      "memory usage: 63.9 MB\n"
     ]
    }
   ],
   "source": [
    "df.info()"
   ]
  },
  {
   "cell_type": "code",
   "execution_count": 9,
   "id": "representative-romania",
   "metadata": {},
   "outputs": [],
   "source": [
    "def en_youto(x):\n",
    "    \n",
    "    if x == \"住宅\":\n",
    "        return 1\n",
    "    elif x == \"事務所\":\n",
    "        return 2\n",
    "    elif x == \"店舗\":\n",
    "        return 3\n",
    "    else:\n",
    "        return 0"
   ]
  },
  {
   "cell_type": "code",
   "execution_count": 10,
   "id": "sunset-freeware",
   "metadata": {},
   "outputs": [],
   "source": [
    "df[\"用途_en\"] = df[\"用途\"].apply(lambda x: en_youto(x))"
   ]
  },
  {
   "cell_type": "code",
   "execution_count": 5,
   "id": "backed-berlin",
   "metadata": {},
   "outputs": [],
   "source": [
    "df = df.drop(\"用途\", axis=1)"
   ]
  },
  {
   "cell_type": "code",
   "execution_count": 6,
   "id": "bright-moral",
   "metadata": {},
   "outputs": [
    {
     "data": {
      "text/html": [
       "<style type='text/css'>\n",
       ".datatable table.frame { margin-bottom: 0; }\n",
       ".datatable table.frame thead { border-bottom: none; }\n",
       ".datatable table.frame tr.coltypes td {  color: #FFFFFF;  line-height: 6px;  padding: 0 0.5em;}\n",
       ".datatable .bool    { background: #DDDD99; }\n",
       ".datatable .object  { background: #565656; }\n",
       ".datatable .int     { background: #5D9E5D; }\n",
       ".datatable .float   { background: #4040CC; }\n",
       ".datatable .str     { background: #CC4040; }\n",
       ".datatable .row_index {  background: var(--jp-border-color3);  border-right: 1px solid var(--jp-border-color0);  color: var(--jp-ui-font-color3);  font-size: 9px;}\n",
       ".datatable .frame tr.coltypes .row_index {  background: var(--jp-border-color0);}\n",
       ".datatable th:nth-child(2) { padding-left: 12px; }\n",
       ".datatable .hellipsis {  color: var(--jp-cell-editor-border-color);}\n",
       ".datatable .vellipsis {  background: var(--jp-layout-color0);  color: var(--jp-cell-editor-border-color);}\n",
       ".datatable .na {  color: var(--jp-cell-editor-border-color);  font-size: 80%;}\n",
       ".datatable .footer { font-size: 9px; }\n",
       ".datatable .frame_dimensions {  background: var(--jp-border-color3);  border-top: 1px solid var(--jp-border-color0);  color: var(--jp-ui-font-color3);  display: inline-block;  opacity: 0.6;  padding: 1px 10px 1px 5px;}\n",
       "</style>\n"
      ],
      "text/plain": [
       "<IPython.core.display.HTML object>"
      ]
     },
     "metadata": {},
     "output_type": "display_data"
    }
   ],
   "source": [
    "from sklearn.model_selection import train_test_split, KFold,cross_validate\n",
    "from sklearn.metrics import mean_absolute_error as mae\n",
    "import lightgbm\n",
    "import optuna.integration.lightgbm as lgb\n",
    "\n",
    "\n",
    "df_train, df_val = train_test_split(df, test_size=0.2)\n",
    "\n",
    "col = \"取引価格（総額）_log\"\n",
    "train_y = df_train[col]\n",
    "train_x = df_train.drop(col, axis=1)\n",
    "\n",
    "val_y = df_val[col]\n",
    "val_x = df_val.drop(col, axis=1)\n",
    "\n",
    "trains = lgb.Dataset(train_x, train_y)\n",
    "valids = lgb.Dataset(val_x, val_y)"
   ]
  },
  {
   "cell_type": "code",
   "execution_count": 7,
   "id": "beginning-cooperation",
   "metadata": {},
   "outputs": [
    {
     "name": "stderr",
     "output_type": "stream",
     "text": [
      "\u001b[32m[I 2021-06-13 04:48:24,543]\u001b[0m A new study created in memory with name: no-name-4aac33e8-804d-4082-92bf-dfb106ae4f48\u001b[0m\n",
      "feature_fraction, val_score: inf:   0%|          | 0/7 [00:00<?, ?it/s]"
     ]
    },
    {
     "name": "stdout",
     "output_type": "stream",
     "text": [
      "[LightGBM] [Warning] Auto-choosing col-wise multi-threading, the overhead of testing was 0.044627 seconds.\n",
      "You can set `force_col_wise=true` to remove the overhead.\n",
      "[LightGBM] [Info] Total Bins 12601\n",
      "[LightGBM] [Info] Number of data points in the train set: 521580, number of used features: 19\n",
      "[LightGBM] [Info] Start training from score 7.219087\n",
      "Training until validation scores don't improve for 100 rounds\n"
     ]
    },
    {
     "name": "stderr",
     "output_type": "stream",
     "text": [
      "/opt/conda/lib/python3.7/site-packages/lightgbm/basic.py:1433: UserWarning: Overriding the parameters from Reference Dataset.\n",
      "  _log_warning('Overriding the parameters from Reference Dataset.')\n",
      "/opt/conda/lib/python3.7/site-packages/lightgbm/basic.py:1245: UserWarning: categorical_column in param dict is overridden.\n",
      "  _log_warning('{} in param dict is overridden.'.format(cat_alias))\n"
     ]
    },
    {
     "name": "stdout",
     "output_type": "stream",
     "text": [
      "[200]\tvalid_0's l1: 0.0779972\n",
      "[400]\tvalid_0's l1: 0.0761579\n",
      "[600]\tvalid_0's l1: 0.0756029\n",
      "[800]\tvalid_0's l1: 0.075251\n",
      "[1000]\tvalid_0's l1: 0.0750435\n",
      "Did not meet early stopping. Best iteration is:\n",
      "[1000]\tvalid_0's l1: 0.0750435\n"
     ]
    },
    {
     "name": "stderr",
     "output_type": "stream",
     "text": [
      "feature_fraction, val_score: 0.075043:  14%|#4        | 1/7 [00:31<03:08, 31.36s/it]\u001b[32m[I 2021-06-13 04:48:55,908]\u001b[0m Trial 0 finished with value: 0.0750434941099568 and parameters: {'feature_fraction': 0.4}. Best is trial 0 with value: 0.0750434941099568.\u001b[0m\n",
      "feature_fraction, val_score: 0.075043:  14%|#4        | 1/7 [00:31<03:08, 31.36s/it]"
     ]
    },
    {
     "name": "stdout",
     "output_type": "stream",
     "text": [
      "[LightGBM] [Warning] Auto-choosing row-wise multi-threading, the overhead of testing was 0.008912 seconds.\n",
      "You can set `force_row_wise=true` to remove the overhead.\n",
      "And if memory is not enough, you can set `force_col_wise=true`.\n",
      "[LightGBM] [Info] Total Bins 12601\n",
      "[LightGBM] [Info] Number of data points in the train set: 521580, number of used features: 19\n",
      "[LightGBM] [Info] Start training from score 7.219087\n",
      "Training until validation scores don't improve for 100 rounds\n",
      "[200]\tvalid_0's l1: 0.0779546\n",
      "[400]\tvalid_0's l1: 0.0762971\n",
      "[600]\tvalid_0's l1: 0.0757297\n",
      "[800]\tvalid_0's l1: 0.0753855\n",
      "[1000]\tvalid_0's l1: 0.0752078\n",
      "Did not meet early stopping. Best iteration is:\n",
      "[1000]\tvalid_0's l1: 0.0752078\n"
     ]
    },
    {
     "name": "stderr",
     "output_type": "stream",
     "text": [
      "feature_fraction, val_score: 0.075043:  29%|##8       | 2/7 [01:11<03:03, 36.68s/it]\u001b[32m[I 2021-06-13 04:49:36,317]\u001b[0m Trial 1 finished with value: 0.0752077967319524 and parameters: {'feature_fraction': 0.5}. Best is trial 0 with value: 0.0750434941099568.\u001b[0m\n",
      "feature_fraction, val_score: 0.075043:  29%|##8       | 2/7 [01:11<03:03, 36.68s/it]"
     ]
    },
    {
     "name": "stdout",
     "output_type": "stream",
     "text": [
      "[LightGBM] [Warning] Auto-choosing col-wise multi-threading, the overhead of testing was 0.057777 seconds.\n",
      "You can set `force_col_wise=true` to remove the overhead.\n",
      "[LightGBM] [Info] Total Bins 12601\n",
      "[LightGBM] [Info] Number of data points in the train set: 521580, number of used features: 19\n",
      "[LightGBM] [Info] Start training from score 7.219087\n",
      "Training until validation scores don't improve for 100 rounds\n",
      "[200]\tvalid_0's l1: 0.0780626\n",
      "[400]\tvalid_0's l1: 0.0764377\n",
      "[600]\tvalid_0's l1: 0.0760614\n",
      "[800]\tvalid_0's l1: 0.0758334\n",
      "[1000]\tvalid_0's l1: 0.0756639\n",
      "Did not meet early stopping. Best iteration is:\n",
      "[996]\tvalid_0's l1: 0.07566\n"
     ]
    },
    {
     "name": "stderr",
     "output_type": "stream",
     "text": [
      "feature_fraction, val_score: 0.075043:  43%|####2     | 3/7 [02:00<02:48, 42.17s/it]\u001b[32m[I 2021-06-13 04:50:25,015]\u001b[0m Trial 2 finished with value: 0.07566002419963867 and parameters: {'feature_fraction': 0.8999999999999999}. Best is trial 0 with value: 0.0750434941099568.\u001b[0m\n",
      "feature_fraction, val_score: 0.075043:  43%|####2     | 3/7 [02:00<02:48, 42.17s/it]"
     ]
    },
    {
     "name": "stdout",
     "output_type": "stream",
     "text": [
      "[LightGBM] [Warning] Auto-choosing col-wise multi-threading, the overhead of testing was 0.056020 seconds.\n",
      "You can set `force_col_wise=true` to remove the overhead.\n",
      "[LightGBM] [Info] Total Bins 12601\n",
      "[LightGBM] [Info] Number of data points in the train set: 521580, number of used features: 19\n",
      "[LightGBM] [Info] Start training from score 7.219087\n",
      "Training until validation scores don't improve for 100 rounds\n",
      "[200]\tvalid_0's l1: 0.0778875\n",
      "[400]\tvalid_0's l1: 0.0763469\n",
      "[600]\tvalid_0's l1: 0.0757763\n",
      "[800]\tvalid_0's l1: 0.0755212\n",
      "[1000]\tvalid_0's l1: 0.0753769\n",
      "Did not meet early stopping. Best iteration is:\n",
      "[1000]\tvalid_0's l1: 0.0753769\n"
     ]
    },
    {
     "name": "stderr",
     "output_type": "stream",
     "text": [
      "feature_fraction, val_score: 0.075043:  57%|#####7    | 4/7 [02:43<02:07, 42.34s/it]\u001b[32m[I 2021-06-13 04:51:07,624]\u001b[0m Trial 3 finished with value: 0.07537691252276871 and parameters: {'feature_fraction': 0.7}. Best is trial 0 with value: 0.0750434941099568.\u001b[0m\n",
      "feature_fraction, val_score: 0.075043:  57%|#####7    | 4/7 [02:43<02:07, 42.34s/it]"
     ]
    },
    {
     "name": "stdout",
     "output_type": "stream",
     "text": [
      "[LightGBM] [Warning] Auto-choosing row-wise multi-threading, the overhead of testing was 0.017169 seconds.\n",
      "You can set `force_row_wise=true` to remove the overhead.\n",
      "And if memory is not enough, you can set `force_col_wise=true`.\n",
      "[LightGBM] [Info] Total Bins 12601\n",
      "[LightGBM] [Info] Number of data points in the train set: 521580, number of used features: 19\n",
      "[LightGBM] [Info] Start training from score 7.219087\n",
      "Training until validation scores don't improve for 100 rounds\n",
      "[200]\tvalid_0's l1: 0.0780967\n",
      "[400]\tvalid_0's l1: 0.0766096\n",
      "[600]\tvalid_0's l1: 0.0761609\n",
      "[800]\tvalid_0's l1: 0.0759895\n",
      "[1000]\tvalid_0's l1: 0.0758366\n",
      "Did not meet early stopping. Best iteration is:\n",
      "[982]\tvalid_0's l1: 0.0758335\n"
     ]
    },
    {
     "name": "stderr",
     "output_type": "stream",
     "text": [
      "feature_fraction, val_score: 0.075043:  71%|#######1  | 5/7 [03:30<01:28, 44.31s/it]\u001b[32m[I 2021-06-13 04:51:55,410]\u001b[0m Trial 4 finished with value: 0.07583345393155078 and parameters: {'feature_fraction': 1.0}. Best is trial 0 with value: 0.0750434941099568.\u001b[0m\n",
      "feature_fraction, val_score: 0.075043:  71%|#######1  | 5/7 [03:30<01:28, 44.31s/it]"
     ]
    },
    {
     "name": "stdout",
     "output_type": "stream",
     "text": [
      "[LightGBM] [Warning] Auto-choosing col-wise multi-threading, the overhead of testing was 0.051029 seconds.\n",
      "You can set `force_col_wise=true` to remove the overhead.\n",
      "[LightGBM] [Info] Total Bins 12601\n",
      "[LightGBM] [Info] Number of data points in the train set: 521580, number of used features: 19\n",
      "[LightGBM] [Info] Start training from score 7.219087\n",
      "Training until validation scores don't improve for 100 rounds\n",
      "[200]\tvalid_0's l1: 0.0779487\n",
      "[400]\tvalid_0's l1: 0.076412\n",
      "[600]\tvalid_0's l1: 0.0759808\n",
      "[800]\tvalid_0's l1: 0.0757332\n",
      "[1000]\tvalid_0's l1: 0.0755867\n",
      "Did not meet early stopping. Best iteration is:\n",
      "[1000]\tvalid_0's l1: 0.0755867\n"
     ]
    },
    {
     "name": "stderr",
     "output_type": "stream",
     "text": [
      "feature_fraction, val_score: 0.075043:  86%|########5 | 6/7 [04:14<00:44, 44.24s/it]\u001b[32m[I 2021-06-13 04:52:39,517]\u001b[0m Trial 5 finished with value: 0.07558667737069817 and parameters: {'feature_fraction': 0.8}. Best is trial 0 with value: 0.0750434941099568.\u001b[0m\n",
      "feature_fraction, val_score: 0.075043:  86%|########5 | 6/7 [04:14<00:44, 44.24s/it]"
     ]
    },
    {
     "name": "stdout",
     "output_type": "stream",
     "text": [
      "[LightGBM] [Warning] Auto-choosing col-wise multi-threading, the overhead of testing was 0.050366 seconds.\n",
      "You can set `force_col_wise=true` to remove the overhead.\n",
      "[LightGBM] [Info] Total Bins 12601\n",
      "[LightGBM] [Info] Number of data points in the train set: 521580, number of used features: 19\n",
      "[LightGBM] [Info] Start training from score 7.219087\n",
      "Training until validation scores don't improve for 100 rounds\n",
      "[200]\tvalid_0's l1: 0.0778732\n",
      "[400]\tvalid_0's l1: 0.0762789\n",
      "[600]\tvalid_0's l1: 0.0757825\n",
      "[800]\tvalid_0's l1: 0.0754859\n",
      "[1000]\tvalid_0's l1: 0.0752942\n",
      "Did not meet early stopping. Best iteration is:\n",
      "[994]\tvalid_0's l1: 0.0752925\n"
     ]
    },
    {
     "name": "stderr",
     "output_type": "stream",
     "text": [
      "feature_fraction, val_score: 0.075043: 100%|##########| 7/7 [04:52<00:00, 42.18s/it]\u001b[32m[I 2021-06-13 04:53:17,465]\u001b[0m Trial 6 finished with value: 0.07529245604764713 and parameters: {'feature_fraction': 0.6}. Best is trial 0 with value: 0.0750434941099568.\u001b[0m\n",
      "feature_fraction, val_score: 0.075043: 100%|##########| 7/7 [04:52<00:00, 41.85s/it]\n",
      "num_leaves, val_score: 0.075043:   0%|          | 0/20 [00:00<?, ?it/s]"
     ]
    },
    {
     "name": "stdout",
     "output_type": "stream",
     "text": [
      "[LightGBM] [Warning] Auto-choosing col-wise multi-threading, the overhead of testing was 0.043463 seconds.\n",
      "You can set `force_col_wise=true` to remove the overhead.\n",
      "[LightGBM] [Info] Total Bins 12601\n",
      "[LightGBM] [Info] Number of data points in the train set: 521580, number of used features: 19\n",
      "[LightGBM] [Info] Start training from score 7.219087\n",
      "Training until validation scores don't improve for 100 rounds\n",
      "[200]\tvalid_0's l1: 0.0813934\n",
      "[400]\tvalid_0's l1: 0.0783039\n",
      "[600]\tvalid_0's l1: 0.0772288\n",
      "[800]\tvalid_0's l1: 0.0766544\n",
      "[1000]\tvalid_0's l1: 0.076273\n",
      "Did not meet early stopping. Best iteration is:\n",
      "[1000]\tvalid_0's l1: 0.076273\n"
     ]
    },
    {
     "name": "stderr",
     "output_type": "stream",
     "text": [
      "num_leaves, val_score: 0.075043:   5%|5         | 1/20 [00:25<08:13, 25.97s/it]\u001b[32m[I 2021-06-13 04:53:43,442]\u001b[0m Trial 7 finished with value: 0.0762729829689368 and parameters: {'num_leaves': 16}. Best is trial 7 with value: 0.0762729829689368.\u001b[0m\n",
      "num_leaves, val_score: 0.075043:   5%|5         | 1/20 [00:25<08:13, 25.97s/it]"
     ]
    },
    {
     "name": "stdout",
     "output_type": "stream",
     "text": [
      "[LightGBM] [Warning] Auto-choosing row-wise multi-threading, the overhead of testing was 0.007249 seconds.\n",
      "You can set `force_row_wise=true` to remove the overhead.\n",
      "And if memory is not enough, you can set `force_col_wise=true`.\n",
      "[LightGBM] [Info] Total Bins 12601\n",
      "[LightGBM] [Info] Number of data points in the train set: 521580, number of used features: 19\n",
      "[LightGBM] [Info] Start training from score 7.219087\n",
      "Training until validation scores don't improve for 100 rounds\n",
      "[200]\tvalid_0's l1: 0.0745425\n",
      "[400]\tvalid_0's l1: 0.0743415\n",
      "Early stopping, best iteration is:\n",
      "[491]\tvalid_0's l1: 0.0743261\n"
     ]
    },
    {
     "name": "stderr",
     "output_type": "stream",
     "text": [
      "num_leaves, val_score: 0.074326:  10%|#         | 2/20 [01:16<12:03, 40.21s/it]\u001b[32m[I 2021-06-13 04:54:33,617]\u001b[0m Trial 8 finished with value: 0.0743261303571175 and parameters: {'num_leaves': 225}. Best is trial 8 with value: 0.0743261303571175.\u001b[0m\n",
      "num_leaves, val_score: 0.074326:  10%|#         | 2/20 [01:16<12:03, 40.21s/it]"
     ]
    },
    {
     "name": "stdout",
     "output_type": "stream",
     "text": [
      "[LightGBM] [Warning] Auto-choosing row-wise multi-threading, the overhead of testing was 0.020071 seconds.\n",
      "You can set `force_row_wise=true` to remove the overhead.\n",
      "And if memory is not enough, you can set `force_col_wise=true`.\n",
      "[LightGBM] [Info] Total Bins 12601\n",
      "[LightGBM] [Info] Number of data points in the train set: 521580, number of used features: 19\n",
      "[LightGBM] [Info] Start training from score 7.219087\n",
      "Training until validation scores don't improve for 100 rounds\n",
      "[200]\tvalid_0's l1: 0.0747439\n",
      "[400]\tvalid_0's l1: 0.0743717\n",
      "[600]\tvalid_0's l1: 0.0742785\n",
      "Early stopping, best iteration is:\n",
      "[699]\tvalid_0's l1: 0.0742591\n"
     ]
    },
    {
     "name": "stderr",
     "output_type": "stream",
     "text": [
      "num_leaves, val_score: 0.074259:  15%|#5        | 3/20 [04:44<33:08, 116.96s/it]\u001b[32m[I 2021-06-13 04:58:01,912]\u001b[0m Trial 9 finished with value: 0.07425912288951073 and parameters: {'num_leaves': 159}. Best is trial 9 with value: 0.07425912288951073.\u001b[0m\n",
      "num_leaves, val_score: 0.074259:  15%|#5        | 3/20 [04:44<33:08, 116.96s/it]"
     ]
    },
    {
     "name": "stdout",
     "output_type": "stream",
     "text": [
      "[LightGBM] [Warning] Auto-choosing col-wise multi-threading, the overhead of testing was 0.027495 seconds.\n",
      "You can set `force_col_wise=true` to remove the overhead.\n",
      "[LightGBM] [Info] Total Bins 12601\n",
      "[LightGBM] [Info] Number of data points in the train set: 521580, number of used features: 19\n",
      "[LightGBM] [Info] Start training from score 7.219087\n",
      "Training until validation scores don't improve for 100 rounds\n",
      "[200]\tvalid_0's l1: 0.0850201\n",
      "[400]\tvalid_0's l1: 0.0808037\n",
      "[600]\tvalid_0's l1: 0.0791891\n",
      "[800]\tvalid_0's l1: 0.0783658\n"
     ]
    },
    {
     "name": "stderr",
     "output_type": "stream",
     "text": [
      "num_leaves, val_score: 0.074259:  20%|##        | 4/20 [04:58<20:21, 76.35s/it] \u001b[32m[I 2021-06-13 04:58:16,000]\u001b[0m Trial 10 finished with value: 0.077819925784797 and parameters: {'num_leaves': 10}. Best is trial 9 with value: 0.07425912288951073.\u001b[0m\n",
      "num_leaves, val_score: 0.074259:  20%|##        | 4/20 [04:58<20:21, 76.35s/it]"
     ]
    },
    {
     "name": "stdout",
     "output_type": "stream",
     "text": [
      "[1000]\tvalid_0's l1: 0.0778199\n",
      "Did not meet early stopping. Best iteration is:\n",
      "[1000]\tvalid_0's l1: 0.0778199\n",
      "[LightGBM] [Warning] Auto-choosing col-wise multi-threading, the overhead of testing was 0.027076 seconds.\n",
      "You can set `force_col_wise=true` to remove the overhead.\n",
      "[LightGBM] [Info] Total Bins 12601\n",
      "[LightGBM] [Info] Number of data points in the train set: 521580, number of used features: 19\n",
      "[LightGBM] [Info] Start training from score 7.219087\n",
      "Training until validation scores don't improve for 100 rounds\n",
      "[200]\tvalid_0's l1: 0.0746721\n",
      "[400]\tvalid_0's l1: 0.0743023\n",
      "[600]\tvalid_0's l1: 0.0741924\n",
      "[800]\tvalid_0's l1: 0.0741941\n",
      "Early stopping, best iteration is:\n",
      "[724]\tvalid_0's l1: 0.0741829\n"
     ]
    },
    {
     "name": "stderr",
     "output_type": "stream",
     "text": [
      "num_leaves, val_score: 0.074183:  25%|##5       | 5/20 [05:28<14:52, 59.52s/it]\u001b[32m[I 2021-06-13 04:58:45,674]\u001b[0m Trial 11 finished with value: 0.07418287667812518 and parameters: {'num_leaves': 156}. Best is trial 11 with value: 0.07418287667812518.\u001b[0m\n",
      "num_leaves, val_score: 0.074183:  25%|##5       | 5/20 [05:28<14:52, 59.52s/it]"
     ]
    },
    {
     "name": "stdout",
     "output_type": "stream",
     "text": [
      "[LightGBM] [Warning] Auto-choosing col-wise multi-threading, the overhead of testing was 0.026637 seconds.\n",
      "You can set `force_col_wise=true` to remove the overhead.\n",
      "[LightGBM] [Info] Total Bins 12601\n",
      "[LightGBM] [Info] Number of data points in the train set: 521580, number of used features: 19\n",
      "[LightGBM] [Info] Start training from score 7.219087\n",
      "Training until validation scores don't improve for 100 rounds\n",
      "[200]\tvalid_0's l1: 0.0757452\n",
      "[400]\tvalid_0's l1: 0.0748128\n",
      "[600]\tvalid_0's l1: 0.0745398\n",
      "[800]\tvalid_0's l1: 0.0744038\n",
      "[1000]\tvalid_0's l1: 0.0743112\n",
      "Did not meet early stopping. Best iteration is:\n",
      "[982]\tvalid_0's l1: 0.0743103\n"
     ]
    },
    {
     "name": "stderr",
     "output_type": "stream",
     "text": [
      "num_leaves, val_score: 0.074183:  30%|###       | 6/20 [05:52<11:04, 47.43s/it]\u001b[32m[I 2021-06-13 04:59:09,654]\u001b[0m Trial 12 finished with value: 0.07431029966392301 and parameters: {'num_leaves': 68}. Best is trial 11 with value: 0.07418287667812518.\u001b[0m\n",
      "num_leaves, val_score: 0.074183:  30%|###       | 6/20 [05:52<11:04, 47.43s/it]"
     ]
    },
    {
     "name": "stdout",
     "output_type": "stream",
     "text": [
      "[LightGBM] [Warning] Auto-choosing col-wise multi-threading, the overhead of testing was 0.026250 seconds.\n",
      "You can set `force_col_wise=true` to remove the overhead.\n",
      "[LightGBM] [Info] Total Bins 12601\n",
      "[LightGBM] [Info] Number of data points in the train set: 521580, number of used features: 19\n",
      "[LightGBM] [Info] Start training from score 7.219087\n",
      "Training until validation scores don't improve for 100 rounds\n",
      "[200]\tvalid_0's l1: 0.0748409\n",
      "[400]\tvalid_0's l1: 0.0743791\n",
      "[600]\tvalid_0's l1: 0.0742704\n",
      "[800]\tvalid_0's l1: 0.0742274\n",
      "[1000]\tvalid_0's l1: 0.0741967\n",
      "Did not meet early stopping. Best iteration is:\n",
      "[984]\tvalid_0's l1: 0.0741932\n"
     ]
    },
    {
     "name": "stderr",
     "output_type": "stream",
     "text": [
      "num_leaves, val_score: 0.074183:  35%|###5      | 7/20 [06:22<09:02, 41.76s/it]\u001b[32m[I 2021-06-13 04:59:39,732]\u001b[0m Trial 13 finished with value: 0.07419323903376802 and parameters: {'num_leaves': 136}. Best is trial 11 with value: 0.07418287667812518.\u001b[0m\n",
      "num_leaves, val_score: 0.074183:  35%|###5      | 7/20 [06:22<09:02, 41.76s/it]"
     ]
    },
    {
     "name": "stdout",
     "output_type": "stream",
     "text": [
      "[LightGBM] [Warning] Auto-choosing col-wise multi-threading, the overhead of testing was 0.025944 seconds.\n",
      "You can set `force_col_wise=true` to remove the overhead.\n",
      "[LightGBM] [Info] Total Bins 12601\n",
      "[LightGBM] [Info] Number of data points in the train set: 521580, number of used features: 19\n",
      "[LightGBM] [Info] Start training from score 7.219087\n",
      "Training until validation scores don't improve for 100 rounds\n",
      "[200]\tvalid_0's l1: 0.0750636\n",
      "[400]\tvalid_0's l1: 0.074502\n",
      "[600]\tvalid_0's l1: 0.0743117\n",
      "[800]\tvalid_0's l1: 0.0742238\n",
      "[1000]\tvalid_0's l1: 0.0742053\n",
      "Did not meet early stopping. Best iteration is:\n",
      "[986]\tvalid_0's l1: 0.0741954\n"
     ]
    },
    {
     "name": "stderr",
     "output_type": "stream",
     "text": [
      "num_leaves, val_score: 0.074183:  40%|####      | 8/20 [06:52<07:36, 38.06s/it]\u001b[32m[I 2021-06-13 05:00:09,872]\u001b[0m Trial 14 finished with value: 0.07419544141350334 and parameters: {'num_leaves': 117}. Best is trial 11 with value: 0.07418287667812518.\u001b[0m\n",
      "num_leaves, val_score: 0.074183:  40%|####      | 8/20 [06:52<07:36, 38.06s/it]"
     ]
    },
    {
     "name": "stdout",
     "output_type": "stream",
     "text": [
      "[LightGBM] [Warning] Auto-choosing col-wise multi-threading, the overhead of testing was 0.027096 seconds.\n",
      "You can set `force_col_wise=true` to remove the overhead.\n",
      "[LightGBM] [Info] Total Bins 12601\n",
      "[LightGBM] [Info] Number of data points in the train set: 521580, number of used features: 19\n",
      "[LightGBM] [Info] Start training from score 7.219087\n",
      "Training until validation scores don't improve for 100 rounds\n",
      "[200]\tvalid_0's l1: 0.0745583\n",
      "[400]\tvalid_0's l1: 0.0743083\n",
      "[600]\tvalid_0's l1: 0.0742252\n",
      "Early stopping, best iteration is:\n",
      "[617]\tvalid_0's l1: 0.0742238\n"
     ]
    },
    {
     "name": "stderr",
     "output_type": "stream",
     "text": [
      "num_leaves, val_score: 0.074183:  45%|####5     | 9/20 [07:23<06:34, 35.85s/it]\u001b[32m[I 2021-06-13 05:00:40,872]\u001b[0m Trial 15 finished with value: 0.0742237621493558 and parameters: {'num_leaves': 197}. Best is trial 11 with value: 0.07418287667812518.\u001b[0m\n",
      "num_leaves, val_score: 0.074183:  45%|####5     | 9/20 [07:23<06:34, 35.85s/it]"
     ]
    },
    {
     "name": "stdout",
     "output_type": "stream",
     "text": [
      "[LightGBM] [Warning] Auto-choosing col-wise multi-threading, the overhead of testing was 0.028460 seconds.\n",
      "You can set `force_col_wise=true` to remove the overhead.\n",
      "[LightGBM] [Info] Total Bins 12601\n",
      "[LightGBM] [Info] Number of data points in the train set: 521580, number of used features: 19\n",
      "[LightGBM] [Info] Start training from score 7.219087\n",
      "Training until validation scores don't improve for 100 rounds\n",
      "[200]\tvalid_0's l1: 0.0750193\n",
      "[400]\tvalid_0's l1: 0.0744496\n",
      "[600]\tvalid_0's l1: 0.0742785\n",
      "[800]\tvalid_0's l1: 0.074173\n",
      "[1000]\tvalid_0's l1: 0.0741305\n",
      "Did not meet early stopping. Best iteration is:\n",
      "[965]\tvalid_0's l1: 0.0741207\n"
     ]
    },
    {
     "name": "stderr",
     "output_type": "stream",
     "text": [
      "num_leaves, val_score: 0.074121:  50%|#####     | 10/20 [07:53<05:39, 33.97s/it]\u001b[32m[I 2021-06-13 05:01:10,629]\u001b[0m Trial 16 finished with value: 0.07412067129362618 and parameters: {'num_leaves': 113}. Best is trial 16 with value: 0.07412067129362618.\u001b[0m\n",
      "num_leaves, val_score: 0.074121:  50%|#####     | 10/20 [07:53<05:39, 33.97s/it]"
     ]
    },
    {
     "name": "stdout",
     "output_type": "stream",
     "text": [
      "[LightGBM] [Warning] Auto-choosing col-wise multi-threading, the overhead of testing was 0.026644 seconds.\n",
      "You can set `force_col_wise=true` to remove the overhead.\n",
      "[LightGBM] [Info] Total Bins 12601\n",
      "[LightGBM] [Info] Number of data points in the train set: 521580, number of used features: 19\n",
      "[LightGBM] [Info] Start training from score 7.219087\n",
      "Training until validation scores don't improve for 100 rounds\n",
      "[200]\tvalid_0's l1: 0.0756412\n",
      "[400]\tvalid_0's l1: 0.0748382\n",
      "[600]\tvalid_0's l1: 0.0745267\n",
      "[800]\tvalid_0's l1: 0.0743791\n",
      "[1000]\tvalid_0's l1: 0.0742648\n",
      "Did not meet early stopping. Best iteration is:\n",
      "[993]\tvalid_0's l1: 0.0742621\n"
     ]
    },
    {
     "name": "stderr",
     "output_type": "stream",
     "text": [
      "num_leaves, val_score: 0.074121:  55%|#####5    | 11/20 [08:17<04:39, 31.08s/it]\u001b[32m[I 2021-06-13 05:01:35,167]\u001b[0m Trial 17 finished with value: 0.07426213619416394 and parameters: {'num_leaves': 72}. Best is trial 16 with value: 0.07412067129362618.\u001b[0m\n",
      "num_leaves, val_score: 0.074121:  55%|#####5    | 11/20 [08:17<04:39, 31.08s/it]"
     ]
    },
    {
     "name": "stdout",
     "output_type": "stream",
     "text": [
      "[LightGBM] [Warning] Auto-choosing row-wise multi-threading, the overhead of testing was 0.004269 seconds.\n",
      "You can set `force_row_wise=true` to remove the overhead.\n",
      "And if memory is not enough, you can set `force_col_wise=true`.\n",
      "[LightGBM] [Info] Total Bins 12601\n",
      "[LightGBM] [Info] Number of data points in the train set: 521580, number of used features: 19\n",
      "[LightGBM] [Info] Start training from score 7.219087\n",
      "Training until validation scores don't improve for 100 rounds\n",
      "[200]\tvalid_0's l1: 0.075237\n",
      "[400]\tvalid_0's l1: 0.0745879\n",
      "[600]\tvalid_0's l1: 0.0743701\n",
      "[800]\tvalid_0's l1: 0.0742519\n",
      "[1000]\tvalid_0's l1: 0.0741892\n",
      "Did not meet early stopping. Best iteration is:\n",
      "[990]\tvalid_0's l1: 0.0741859\n"
     ]
    },
    {
     "name": "stderr",
     "output_type": "stream",
     "text": [
      "num_leaves, val_score: 0.074121:  60%|######    | 12/20 [08:46<04:03, 30.40s/it]\u001b[32m[I 2021-06-13 05:02:04,008]\u001b[0m Trial 18 finished with value: 0.0741859396811056 and parameters: {'num_leaves': 96}. Best is trial 16 with value: 0.07412067129362618.\u001b[0m\n",
      "num_leaves, val_score: 0.074121:  60%|######    | 12/20 [08:46<04:03, 30.40s/it]"
     ]
    },
    {
     "name": "stdout",
     "output_type": "stream",
     "text": [
      "[LightGBM] [Warning] Auto-choosing col-wise multi-threading, the overhead of testing was 0.026830 seconds.\n",
      "You can set `force_col_wise=true` to remove the overhead.\n",
      "[LightGBM] [Info] Total Bins 12601\n",
      "[LightGBM] [Info] Number of data points in the train set: 521580, number of used features: 19\n",
      "[LightGBM] [Info] Start training from score 7.219087\n",
      "Training until validation scores don't improve for 100 rounds\n",
      "[200]\tvalid_0's l1: 0.0746691\n",
      "[400]\tvalid_0's l1: 0.0743849\n",
      "Early stopping, best iteration is:\n",
      "[369]\tvalid_0's l1: 0.0743602\n"
     ]
    },
    {
     "name": "stderr",
     "output_type": "stream",
     "text": [
      "num_leaves, val_score: 0.074121:  65%|######5   | 13/20 [09:09<03:17, 28.18s/it]\u001b[32m[I 2021-06-13 05:02:27,067]\u001b[0m Trial 19 finished with value: 0.07436016535386251 and parameters: {'num_leaves': 171}. Best is trial 16 with value: 0.07412067129362618.\u001b[0m\n",
      "num_leaves, val_score: 0.074121:  65%|######5   | 13/20 [09:09<03:17, 28.18s/it]"
     ]
    },
    {
     "name": "stdout",
     "output_type": "stream",
     "text": [
      "[LightGBM] [Warning] Auto-choosing col-wise multi-threading, the overhead of testing was 0.027272 seconds.\n",
      "You can set `force_col_wise=true` to remove the overhead.\n",
      "[LightGBM] [Info] Total Bins 12601\n",
      "[LightGBM] [Info] Number of data points in the train set: 521580, number of used features: 19\n",
      "[LightGBM] [Info] Start training from score 7.219087\n",
      "Training until validation scores don't improve for 100 rounds\n",
      "[200]\tvalid_0's l1: 0.0745226\n",
      "[400]\tvalid_0's l1: 0.074357\n",
      "Early stopping, best iteration is:\n",
      "[390]\tvalid_0's l1: 0.0743474\n"
     ]
    },
    {
     "name": "stderr",
     "output_type": "stream",
     "text": [
      "num_leaves, val_score: 0.074121:  70%|#######   | 14/20 [09:36<02:47, 27.92s/it]\u001b[32m[I 2021-06-13 05:02:54,380]\u001b[0m Trial 20 finished with value: 0.07434740440685501 and parameters: {'num_leaves': 239}. Best is trial 16 with value: 0.07412067129362618.\u001b[0m\n",
      "num_leaves, val_score: 0.074121:  70%|#######   | 14/20 [09:36<02:47, 27.92s/it]"
     ]
    },
    {
     "name": "stdout",
     "output_type": "stream",
     "text": [
      "[LightGBM] [Warning] Auto-choosing row-wise multi-threading, the overhead of testing was 0.004802 seconds.\n",
      "You can set `force_row_wise=true` to remove the overhead.\n",
      "And if memory is not enough, you can set `force_col_wise=true`.\n",
      "[LightGBM] [Info] Total Bins 12601\n",
      "[LightGBM] [Info] Number of data points in the train set: 521580, number of used features: 19\n",
      "[LightGBM] [Info] Start training from score 7.219087\n",
      "Training until validation scores don't improve for 100 rounds\n",
      "[200]\tvalid_0's l1: 0.0746165\n",
      "[400]\tvalid_0's l1: 0.074305\n",
      "[600]\tvalid_0's l1: 0.0742924\n",
      "Early stopping, best iteration is:\n",
      "[586]\tvalid_0's l1: 0.0742835\n"
     ]
    },
    {
     "name": "stderr",
     "output_type": "stream",
     "text": [
      "num_leaves, val_score: 0.074121:  75%|#######5  | 15/20 [10:07<02:24, 28.87s/it]\u001b[32m[I 2021-06-13 05:03:25,448]\u001b[0m Trial 21 finished with value: 0.07428352580768767 and parameters: {'num_leaves': 186}. Best is trial 16 with value: 0.07412067129362618.\u001b[0m\n",
      "num_leaves, val_score: 0.074121:  75%|#######5  | 15/20 [10:07<02:24, 28.87s/it]"
     ]
    },
    {
     "name": "stdout",
     "output_type": "stream",
     "text": [
      "[LightGBM] [Warning] Auto-choosing col-wise multi-threading, the overhead of testing was 0.026061 seconds.\n",
      "You can set `force_col_wise=true` to remove the overhead.\n",
      "[LightGBM] [Info] Total Bins 12601\n",
      "[LightGBM] [Info] Number of data points in the train set: 521580, number of used features: 19\n",
      "[LightGBM] [Info] Start training from score 7.219087\n",
      "Training until validation scores don't improve for 100 rounds\n",
      "[200]\tvalid_0's l1: 0.0748129\n",
      "[400]\tvalid_0's l1: 0.074389\n",
      "[600]\tvalid_0's l1: 0.0742843\n",
      "Early stopping, best iteration is:\n",
      "[615]\tvalid_0's l1: 0.074276\n"
     ]
    },
    {
     "name": "stderr",
     "output_type": "stream",
     "text": [
      "num_leaves, val_score: 0.074121:  80%|########  | 16/20 [10:34<01:52, 28.02s/it]\u001b[32m[I 2021-06-13 05:03:51,492]\u001b[0m Trial 22 finished with value: 0.07427602206523147 and parameters: {'num_leaves': 140}. Best is trial 16 with value: 0.07412067129362618.\u001b[0m\n",
      "num_leaves, val_score: 0.074121:  80%|########  | 16/20 [10:34<01:52, 28.02s/it]"
     ]
    },
    {
     "name": "stdout",
     "output_type": "stream",
     "text": [
      "[LightGBM] [Warning] Auto-choosing col-wise multi-threading, the overhead of testing was 0.027325 seconds.\n",
      "You can set `force_col_wise=true` to remove the overhead.\n",
      "[LightGBM] [Info] Total Bins 12601\n",
      "[LightGBM] [Info] Number of data points in the train set: 521580, number of used features: 19\n",
      "[LightGBM] [Info] Start training from score 7.219087\n",
      "Training until validation scores don't improve for 100 rounds\n",
      "[200]\tvalid_0's l1: 0.0764972\n",
      "[400]\tvalid_0's l1: 0.0753241\n",
      "[600]\tvalid_0's l1: 0.074949\n",
      "[800]\tvalid_0's l1: 0.0747081\n",
      "[1000]\tvalid_0's l1: 0.0745723\n",
      "Did not meet early stopping. Best iteration is:\n",
      "[1000]\tvalid_0's l1: 0.0745723\n"
     ]
    },
    {
     "name": "stderr",
     "output_type": "stream",
     "text": [
      "num_leaves, val_score: 0.074121:  85%|########5 | 17/20 [10:54<01:17, 25.82s/it]\u001b[32m[I 2021-06-13 05:04:12,210]\u001b[0m Trial 23 finished with value: 0.07457234105695955 and parameters: {'num_leaves': 51}. Best is trial 16 with value: 0.07412067129362618.\u001b[0m\n",
      "num_leaves, val_score: 0.074121:  85%|########5 | 17/20 [10:54<01:17, 25.82s/it]"
     ]
    },
    {
     "name": "stdout",
     "output_type": "stream",
     "text": [
      "[LightGBM] [Warning] Auto-choosing col-wise multi-threading, the overhead of testing was 0.026336 seconds.\n",
      "You can set `force_col_wise=true` to remove the overhead.\n",
      "[LightGBM] [Info] Total Bins 12601\n",
      "[LightGBM] [Info] Number of data points in the train set: 521580, number of used features: 19\n",
      "[LightGBM] [Info] Start training from score 7.219087\n",
      "Training until validation scores don't improve for 100 rounds\n",
      "[200]\tvalid_0's l1: 0.0750763\n",
      "[400]\tvalid_0's l1: 0.0745043\n",
      "[600]\tvalid_0's l1: 0.0743366\n",
      "[800]\tvalid_0's l1: 0.0742789\n",
      "[1000]\tvalid_0's l1: 0.0742278\n",
      "Did not meet early stopping. Best iteration is:\n",
      "[953]\tvalid_0's l1: 0.074225\n"
     ]
    },
    {
     "name": "stderr",
     "output_type": "stream",
     "text": [
      "num_leaves, val_score: 0.074121:  90%|######### | 18/20 [11:21<00:52, 26.10s/it]\u001b[32m[I 2021-06-13 05:04:38,954]\u001b[0m Trial 24 finished with value: 0.0742249537531 and parameters: {'num_leaves': 107}. Best is trial 16 with value: 0.07412067129362618.\u001b[0m\n",
      "num_leaves, val_score: 0.074121:  90%|######### | 18/20 [11:21<00:52, 26.10s/it]"
     ]
    },
    {
     "name": "stdout",
     "output_type": "stream",
     "text": [
      "[LightGBM] [Warning] Auto-choosing col-wise multi-threading, the overhead of testing was 0.036055 seconds.\n",
      "You can set `force_col_wise=true` to remove the overhead.\n",
      "[LightGBM] [Info] Total Bins 12601\n",
      "[LightGBM] [Info] Number of data points in the train set: 521580, number of used features: 19\n",
      "[LightGBM] [Info] Start training from score 7.219087\n",
      "Training until validation scores don't improve for 100 rounds\n",
      "[200]\tvalid_0's l1: 0.0745761\n",
      "[400]\tvalid_0's l1: 0.0743493\n",
      "Early stopping, best iteration is:\n",
      "[428]\tvalid_0's l1: 0.0743221\n"
     ]
    },
    {
     "name": "stderr",
     "output_type": "stream",
     "text": [
      "num_leaves, val_score: 0.074121:  95%|#########5| 19/20 [11:47<00:26, 26.14s/it]\u001b[32m[I 2021-06-13 05:05:05,190]\u001b[0m Trial 25 finished with value: 0.07432211432965385 and parameters: {'num_leaves': 209}. Best is trial 16 with value: 0.07412067129362618.\u001b[0m\n",
      "num_leaves, val_score: 0.074121:  95%|#########5| 19/20 [11:47<00:26, 26.14s/it]"
     ]
    },
    {
     "name": "stdout",
     "output_type": "stream",
     "text": [
      "[LightGBM] [Warning] Auto-choosing col-wise multi-threading, the overhead of testing was 0.028452 seconds.\n",
      "You can set `force_col_wise=true` to remove the overhead.\n",
      "[LightGBM] [Info] Total Bins 12601\n",
      "[LightGBM] [Info] Number of data points in the train set: 521580, number of used features: 19\n",
      "[LightGBM] [Info] Start training from score 7.219087\n",
      "Training until validation scores don't improve for 100 rounds\n",
      "[200]\tvalid_0's l1: 0.0747512\n",
      "[400]\tvalid_0's l1: 0.0743538\n",
      "[600]\tvalid_0's l1: 0.0742253\n",
      "[800]\tvalid_0's l1: 0.0742087\n",
      "Early stopping, best iteration is:\n",
      "[832]\tvalid_0's l1: 0.0742003\n"
     ]
    },
    {
     "name": "stderr",
     "output_type": "stream",
     "text": [
      "num_leaves, val_score: 0.074121: 100%|##########| 20/20 [12:18<00:00, 27.41s/it]\u001b[32m[I 2021-06-13 05:05:35,552]\u001b[0m Trial 26 finished with value: 0.07420031166322423 and parameters: {'num_leaves': 149}. Best is trial 16 with value: 0.07412067129362618.\u001b[0m\n",
      "num_leaves, val_score: 0.074121: 100%|##########| 20/20 [12:18<00:00, 36.90s/it]\n",
      "bagging, val_score: 0.074121:   0%|          | 0/10 [00:00<?, ?it/s]"
     ]
    },
    {
     "name": "stdout",
     "output_type": "stream",
     "text": [
      "[LightGBM] [Warning] Auto-choosing col-wise multi-threading, the overhead of testing was 0.026658 seconds.\n",
      "You can set `force_col_wise=true` to remove the overhead.\n",
      "[LightGBM] [Info] Total Bins 12601\n",
      "[LightGBM] [Info] Number of data points in the train set: 521580, number of used features: 19\n",
      "[LightGBM] [Info] Start training from score 7.219087\n",
      "Training until validation scores don't improve for 100 rounds\n",
      "[200]\tvalid_0's l1: 0.0755198\n",
      "[400]\tvalid_0's l1: 0.0749787\n",
      "[600]\tvalid_0's l1: 0.0747451\n",
      "[800]\tvalid_0's l1: 0.0746588\n",
      "[1000]\tvalid_0's l1: 0.0746584\n",
      "Did not meet early stopping. Best iteration is:\n",
      "[970]\tvalid_0's l1: 0.0746378\n"
     ]
    },
    {
     "name": "stderr",
     "output_type": "stream",
     "text": [
      "bagging, val_score: 0.074121:  10%|#         | 1/10 [01:46<16:00, 106.76s/it]\u001b[32m[I 2021-06-13 05:07:22,320]\u001b[0m Trial 27 finished with value: 0.07463782153032444 and parameters: {'bagging_fraction': 0.7656226866546487, 'bagging_freq': 2}. Best is trial 27 with value: 0.07463782153032444.\u001b[0m\n",
      "bagging, val_score: 0.074121:  10%|#         | 1/10 [01:46<16:00, 106.76s/it]"
     ]
    },
    {
     "name": "stdout",
     "output_type": "stream",
     "text": [
      "[LightGBM] [Warning] Auto-choosing col-wise multi-threading, the overhead of testing was 0.026829 seconds.\n",
      "You can set `force_col_wise=true` to remove the overhead.\n",
      "[LightGBM] [Info] Total Bins 12601\n",
      "[LightGBM] [Info] Number of data points in the train set: 521580, number of used features: 19\n",
      "[LightGBM] [Info] Start training from score 7.219087\n",
      "Training until validation scores don't improve for 100 rounds\n",
      "[200]\tvalid_0's l1: 0.0754373\n",
      "[400]\tvalid_0's l1: 0.0748843\n",
      "[600]\tvalid_0's l1: 0.0746609\n",
      "[800]\tvalid_0's l1: 0.0746081\n",
      "[1000]\tvalid_0's l1: 0.074596\n",
      "Did not meet early stopping. Best iteration is:\n",
      "[962]\tvalid_0's l1: 0.074576\n"
     ]
    },
    {
     "name": "stderr",
     "output_type": "stream",
     "text": [
      "bagging, val_score: 0.074121:  20%|##        | 2/10 [03:26<13:39, 102.46s/it]\u001b[32m[I 2021-06-13 05:09:01,773]\u001b[0m Trial 28 finished with value: 0.07457599662601376 and parameters: {'bagging_fraction': 0.8071052406787087, 'bagging_freq': 6}. Best is trial 28 with value: 0.07457599662601376.\u001b[0m\n",
      "bagging, val_score: 0.074121:  20%|##        | 2/10 [03:26<13:39, 102.46s/it]"
     ]
    },
    {
     "name": "stdout",
     "output_type": "stream",
     "text": [
      "[LightGBM] [Warning] Auto-choosing col-wise multi-threading, the overhead of testing was 0.026314 seconds.\n",
      "You can set `force_col_wise=true` to remove the overhead.\n",
      "[LightGBM] [Info] Total Bins 12601\n",
      "[LightGBM] [Info] Number of data points in the train set: 521580, number of used features: 19\n",
      "[LightGBM] [Info] Start training from score 7.219087\n",
      "Training until validation scores don't improve for 100 rounds\n",
      "[200]\tvalid_0's l1: 0.0765282\n",
      "[400]\tvalid_0's l1: 0.0759205\n",
      "[600]\tvalid_0's l1: 0.0757609\n",
      "[800]\tvalid_0's l1: 0.0756902\n",
      "Early stopping, best iteration is:\n",
      "[801]\tvalid_0's l1: 0.0756891\n"
     ]
    },
    {
     "name": "stderr",
     "output_type": "stream",
     "text": [
      "bagging, val_score: 0.074121:  30%|###       | 3/10 [04:59<11:26, 98.06s/it] \u001b[32m[I 2021-06-13 05:10:34,586]\u001b[0m Trial 29 finished with value: 0.07568912551103708 and parameters: {'bagging_fraction': 0.4805276836342984, 'bagging_freq': 3}. Best is trial 28 with value: 0.07457599662601376.\u001b[0m\n",
      "bagging, val_score: 0.074121:  30%|###       | 3/10 [04:59<11:26, 98.06s/it]"
     ]
    },
    {
     "name": "stdout",
     "output_type": "stream",
     "text": [
      "[LightGBM] [Warning] Auto-choosing col-wise multi-threading, the overhead of testing was 0.033113 seconds.\n",
      "You can set `force_col_wise=true` to remove the overhead.\n",
      "[LightGBM] [Info] Total Bins 12601\n",
      "[LightGBM] [Info] Number of data points in the train set: 521580, number of used features: 19\n",
      "[LightGBM] [Info] Start training from score 7.219087\n",
      "Training until validation scores don't improve for 100 rounds\n",
      "[200]\tvalid_0's l1: 0.0755052\n",
      "[400]\tvalid_0's l1: 0.0749527\n",
      "[600]\tvalid_0's l1: 0.0748147\n",
      "[800]\tvalid_0's l1: 0.0746859\n",
      "[1000]\tvalid_0's l1: 0.0746663\n",
      "Did not meet early stopping. Best iteration is:\n",
      "[982]\tvalid_0's l1: 0.0746516\n"
     ]
    },
    {
     "name": "stderr",
     "output_type": "stream",
     "text": [
      "bagging, val_score: 0.074121:  40%|####      | 4/10 [06:38<09:52, 98.67s/it]\u001b[32m[I 2021-06-13 05:12:14,193]\u001b[0m Trial 30 finished with value: 0.07465155886182642 and parameters: {'bagging_fraction': 0.8035715547240192, 'bagging_freq': 7}. Best is trial 28 with value: 0.07457599662601376.\u001b[0m\n",
      "bagging, val_score: 0.074121:  40%|####      | 4/10 [06:38<09:52, 98.67s/it]"
     ]
    },
    {
     "name": "stdout",
     "output_type": "stream",
     "text": [
      "[LightGBM] [Warning] Auto-choosing col-wise multi-threading, the overhead of testing was 0.027195 seconds.\n",
      "You can set `force_col_wise=true` to remove the overhead.\n",
      "[LightGBM] [Info] Total Bins 12601\n",
      "[LightGBM] [Info] Number of data points in the train set: 521580, number of used features: 19\n",
      "[LightGBM] [Info] Start training from score 7.219087\n",
      "Training until validation scores don't improve for 100 rounds\n",
      "[200]\tvalid_0's l1: 0.0751045\n",
      "[400]\tvalid_0's l1: 0.0745796\n",
      "[600]\tvalid_0's l1: 0.0744315\n",
      "[800]\tvalid_0's l1: 0.0743111\n",
      "[1000]\tvalid_0's l1: 0.074281\n",
      "Did not meet early stopping. Best iteration is:\n",
      "[954]\tvalid_0's l1: 0.0742696\n"
     ]
    },
    {
     "name": "stderr",
     "output_type": "stream",
     "text": [
      "bagging, val_score: 0.074121:  50%|#####     | 5/10 [07:17<06:24, 76.96s/it]\u001b[32m[I 2021-06-13 05:12:52,656]\u001b[0m Trial 31 finished with value: 0.07426963962914607 and parameters: {'bagging_fraction': 0.9684602631399024, 'bagging_freq': 1}. Best is trial 31 with value: 0.07426963962914607.\u001b[0m\n",
      "bagging, val_score: 0.074121:  50%|#####     | 5/10 [07:17<06:24, 76.96s/it]"
     ]
    },
    {
     "name": "stdout",
     "output_type": "stream",
     "text": [
      "[LightGBM] [Warning] Auto-choosing col-wise multi-threading, the overhead of testing was 0.026650 seconds.\n",
      "You can set `force_col_wise=true` to remove the overhead.\n",
      "[LightGBM] [Info] Total Bins 12601\n",
      "[LightGBM] [Info] Number of data points in the train set: 521580, number of used features: 19\n",
      "[LightGBM] [Info] Start training from score 7.219087\n",
      "Training until validation scores don't improve for 100 rounds\n",
      "[200]\tvalid_0's l1: 0.0750344\n",
      "[400]\tvalid_0's l1: 0.0744956\n",
      "[600]\tvalid_0's l1: 0.0743144\n",
      "[800]\tvalid_0's l1: 0.0742633\n",
      "[1000]\tvalid_0's l1: 0.0742152\n",
      "Did not meet early stopping. Best iteration is:\n",
      "[995]\tvalid_0's l1: 0.0742114\n"
     ]
    },
    {
     "name": "stderr",
     "output_type": "stream",
     "text": [
      "bagging, val_score: 0.074121:  60%|######    | 6/10 [08:12<04:38, 69.73s/it]\u001b[32m[I 2021-06-13 05:13:48,342]\u001b[0m Trial 32 finished with value: 0.07421138041276755 and parameters: {'bagging_fraction': 0.9740377646572731, 'bagging_freq': 4}. Best is trial 32 with value: 0.07421138041276755.\u001b[0m\n",
      "bagging, val_score: 0.074121:  60%|######    | 6/10 [08:12<04:38, 69.73s/it]"
     ]
    },
    {
     "name": "stdout",
     "output_type": "stream",
     "text": [
      "[LightGBM] [Warning] Auto-choosing col-wise multi-threading, the overhead of testing was 0.027258 seconds.\n",
      "You can set `force_col_wise=true` to remove the overhead.\n",
      "[LightGBM] [Info] Total Bins 12601\n",
      "[LightGBM] [Info] Number of data points in the train set: 521580, number of used features: 19\n",
      "[LightGBM] [Info] Start training from score 7.219087\n",
      "Training until validation scores don't improve for 100 rounds\n",
      "[200]\tvalid_0's l1: 0.0759121\n",
      "[400]\tvalid_0's l1: 0.0754373\n",
      "[600]\tvalid_0's l1: 0.0753017\n",
      "[800]\tvalid_0's l1: 0.0752499\n",
      "[1000]\tvalid_0's l1: 0.0752275\n",
      "Did not meet early stopping. Best iteration is:\n",
      "[968]\tvalid_0's l1: 0.0752033\n"
     ]
    },
    {
     "name": "stderr",
     "output_type": "stream",
     "text": [
      "bagging, val_score: 0.074121:  70%|#######   | 7/10 [10:00<04:06, 82.28s/it]\u001b[32m[I 2021-06-13 05:15:36,470]\u001b[0m Trial 33 finished with value: 0.07520333744576757 and parameters: {'bagging_fraction': 0.617100160960605, 'bagging_freq': 2}. Best is trial 32 with value: 0.07421138041276755.\u001b[0m\n",
      "bagging, val_score: 0.074121:  70%|#######   | 7/10 [10:00<04:06, 82.28s/it]"
     ]
    },
    {
     "name": "stdout",
     "output_type": "stream",
     "text": [
      "[LightGBM] [Warning] Auto-choosing col-wise multi-threading, the overhead of testing was 0.028112 seconds.\n",
      "You can set `force_col_wise=true` to remove the overhead.\n",
      "[LightGBM] [Info] Total Bins 12601\n",
      "[LightGBM] [Info] Number of data points in the train set: 521580, number of used features: 19\n",
      "[LightGBM] [Info] Start training from score 7.219087\n",
      "Training until validation scores don't improve for 100 rounds\n",
      "[200]\tvalid_0's l1: 0.076165\n",
      "[400]\tvalid_0's l1: 0.0756484\n",
      "[600]\tvalid_0's l1: 0.0754236\n",
      "[800]\tvalid_0's l1: 0.0753615\n",
      "[1000]\tvalid_0's l1: 0.0753652\n",
      "Did not meet early stopping. Best iteration is:\n",
      "[916]\tvalid_0's l1: 0.075303\n"
     ]
    },
    {
     "name": "stderr",
     "output_type": "stream",
     "text": [
      "bagging, val_score: 0.074121:  80%|########  | 8/10 [11:47<03:00, 90.09s/it]\u001b[32m[I 2021-06-13 05:17:23,289]\u001b[0m Trial 34 finished with value: 0.07530302426921108 and parameters: {'bagging_fraction': 0.5811018895164174, 'bagging_freq': 5}. Best is trial 32 with value: 0.07421138041276755.\u001b[0m\n",
      "bagging, val_score: 0.074121:  80%|########  | 8/10 [11:47<03:00, 90.09s/it]"
     ]
    },
    {
     "name": "stdout",
     "output_type": "stream",
     "text": [
      "[LightGBM] [Warning] Auto-choosing col-wise multi-threading, the overhead of testing was 0.027456 seconds.\n",
      "You can set `force_col_wise=true` to remove the overhead.\n",
      "[LightGBM] [Info] Total Bins 12601\n",
      "[LightGBM] [Info] Number of data points in the train set: 521580, number of used features: 19\n",
      "[LightGBM] [Info] Start training from score 7.219087\n",
      "Training until validation scores don't improve for 100 rounds\n",
      "[200]\tvalid_0's l1: 0.0753637\n",
      "[400]\tvalid_0's l1: 0.0748495\n",
      "Early stopping, best iteration is:\n",
      "[495]\tvalid_0's l1: 0.0747011\n"
     ]
    },
    {
     "name": "stderr",
     "output_type": "stream",
     "text": [
      "bagging, val_score: 0.074121:  90%|######### | 9/10 [12:45<01:20, 80.13s/it]\u001b[32m[I 2021-06-13 05:18:21,510]\u001b[0m Trial 35 finished with value: 0.07470114307240266 and parameters: {'bagging_fraction': 0.809079810588619, 'bagging_freq': 6}. Best is trial 32 with value: 0.07421138041276755.\u001b[0m\n",
      "bagging, val_score: 0.074121:  90%|######### | 9/10 [12:45<01:20, 80.13s/it]"
     ]
    },
    {
     "name": "stdout",
     "output_type": "stream",
     "text": [
      "[LightGBM] [Warning] Auto-choosing col-wise multi-threading, the overhead of testing was 0.027029 seconds.\n",
      "You can set `force_col_wise=true` to remove the overhead.\n",
      "[LightGBM] [Info] Total Bins 12601\n",
      "[LightGBM] [Info] Number of data points in the train set: 521580, number of used features: 19\n",
      "[LightGBM] [Info] Start training from score 7.219087\n",
      "Training until validation scores don't improve for 100 rounds\n",
      "[200]\tvalid_0's l1: 0.0752478\n",
      "[400]\tvalid_0's l1: 0.0746916\n",
      "[600]\tvalid_0's l1: 0.0744795\n",
      "[800]\tvalid_0's l1: 0.0744005\n",
      "[1000]\tvalid_0's l1: 0.0743873\n",
      "Did not meet early stopping. Best iteration is:\n",
      "[947]\tvalid_0's l1: 0.074375\n"
     ]
    },
    {
     "name": "stderr",
     "output_type": "stream",
     "text": [
      "bagging, val_score: 0.074121: 100%|##########| 10/10 [14:13<00:00, 82.31s/it]\u001b[32m[I 2021-06-13 05:19:48,711]\u001b[0m Trial 36 finished with value: 0.07437501829907278 and parameters: {'bagging_fraction': 0.8777711440975076, 'bagging_freq': 4}. Best is trial 32 with value: 0.07421138041276755.\u001b[0m\n",
      "bagging, val_score: 0.074121: 100%|##########| 10/10 [14:13<00:00, 85.32s/it]\n",
      "feature_fraction_stage2, val_score: 0.074121:   0%|          | 0/3 [00:00<?, ?it/s]"
     ]
    },
    {
     "name": "stdout",
     "output_type": "stream",
     "text": [
      "[LightGBM] [Warning] Auto-choosing col-wise multi-threading, the overhead of testing was 0.027265 seconds.\n",
      "You can set `force_col_wise=true` to remove the overhead.\n",
      "[LightGBM] [Info] Total Bins 12601\n",
      "[LightGBM] [Info] Number of data points in the train set: 521580, number of used features: 19\n",
      "[LightGBM] [Info] Start training from score 7.219087\n",
      "Training until validation scores don't improve for 100 rounds\n",
      "[200]\tvalid_0's l1: 0.0750193\n",
      "[400]\tvalid_0's l1: 0.0744496\n",
      "[600]\tvalid_0's l1: 0.0742785\n",
      "[800]\tvalid_0's l1: 0.074173\n",
      "[1000]\tvalid_0's l1: 0.0741305\n",
      "Did not meet early stopping. Best iteration is:\n",
      "[965]\tvalid_0's l1: 0.0741207\n"
     ]
    },
    {
     "name": "stderr",
     "output_type": "stream",
     "text": [
      "feature_fraction_stage2, val_score: 0.074121:  33%|###3      | 1/3 [00:28<00:56, 28.23s/it]\u001b[32m[I 2021-06-13 05:20:16,953]\u001b[0m Trial 37 finished with value: 0.07412067129362618 and parameters: {'feature_fraction': 0.41600000000000004}. Best is trial 37 with value: 0.07412067129362618.\u001b[0m\n",
      "feature_fraction_stage2, val_score: 0.074121:  33%|###3      | 1/3 [00:28<00:56, 28.23s/it]"
     ]
    },
    {
     "name": "stdout",
     "output_type": "stream",
     "text": [
      "[LightGBM] [Warning] Auto-choosing row-wise multi-threading, the overhead of testing was 0.005046 seconds.\n",
      "You can set `force_row_wise=true` to remove the overhead.\n",
      "And if memory is not enough, you can set `force_col_wise=true`.\n",
      "[LightGBM] [Info] Total Bins 12601\n",
      "[LightGBM] [Info] Number of data points in the train set: 521580, number of used features: 19\n",
      "[LightGBM] [Info] Start training from score 7.219087\n",
      "Training until validation scores don't improve for 100 rounds\n",
      "[200]\tvalid_0's l1: 0.0750089\n",
      "[400]\tvalid_0's l1: 0.0745488\n",
      "[600]\tvalid_0's l1: 0.0743803\n",
      "[800]\tvalid_0's l1: 0.0743064\n",
      "[1000]\tvalid_0's l1: 0.0742967\n",
      "Did not meet early stopping. Best iteration is:\n",
      "[904]\tvalid_0's l1: 0.0742852\n"
     ]
    },
    {
     "name": "stderr",
     "output_type": "stream",
     "text": [
      "feature_fraction_stage2, val_score: 0.074121:  67%|######6   | 2/3 [01:01<00:30, 30.97s/it]\u001b[32m[I 2021-06-13 05:20:49,834]\u001b[0m Trial 38 finished with value: 0.074285173740116 and parameters: {'feature_fraction': 0.48000000000000004}. Best is trial 37 with value: 0.07412067129362618.\u001b[0m\n",
      "feature_fraction_stage2, val_score: 0.074121:  67%|######6   | 2/3 [01:01<00:30, 30.97s/it]"
     ]
    },
    {
     "name": "stdout",
     "output_type": "stream",
     "text": [
      "[LightGBM] [Warning] Auto-choosing row-wise multi-threading, the overhead of testing was 0.004822 seconds.\n",
      "You can set `force_row_wise=true` to remove the overhead.\n",
      "And if memory is not enough, you can set `force_col_wise=true`.\n",
      "[LightGBM] [Info] Total Bins 12601\n",
      "[LightGBM] [Info] Number of data points in the train set: 521580, number of used features: 19\n",
      "[LightGBM] [Info] Start training from score 7.219087\n",
      "Training until validation scores don't improve for 100 rounds\n",
      "[200]\tvalid_0's l1: 0.0750089\n",
      "[400]\tvalid_0's l1: 0.0745488\n",
      "[600]\tvalid_0's l1: 0.0743803\n",
      "[800]\tvalid_0's l1: 0.0743064\n",
      "[1000]\tvalid_0's l1: 0.0742967\n",
      "Did not meet early stopping. Best iteration is:\n",
      "[904]\tvalid_0's l1: 0.0742852\n"
     ]
    },
    {
     "name": "stderr",
     "output_type": "stream",
     "text": [
      "feature_fraction_stage2, val_score: 0.074121: 100%|##########| 3/3 [01:34<00:00, 32.22s/it]\u001b[32m[I 2021-06-13 05:21:23,533]\u001b[0m Trial 39 finished with value: 0.074285173740116 and parameters: {'feature_fraction': 0.44800000000000006}. Best is trial 37 with value: 0.07412067129362618.\u001b[0m\n",
      "feature_fraction_stage2, val_score: 0.074121: 100%|##########| 3/3 [01:34<00:00, 31.61s/it]\n",
      "regularization_factors, val_score: 0.074121:   0%|          | 0/20 [00:00<?, ?it/s]"
     ]
    },
    {
     "name": "stdout",
     "output_type": "stream",
     "text": [
      "[LightGBM] [Warning] Auto-choosing col-wise multi-threading, the overhead of testing was 0.026821 seconds.\n",
      "You can set `force_col_wise=true` to remove the overhead.\n",
      "[LightGBM] [Info] Total Bins 12601\n",
      "[LightGBM] [Info] Number of data points in the train set: 521580, number of used features: 19\n",
      "[LightGBM] [Info] Start training from score 7.219087\n",
      "Training until validation scores don't improve for 100 rounds\n",
      "[200]\tvalid_0's l1: 0.075065\n",
      "[400]\tvalid_0's l1: 0.0745293\n",
      "[600]\tvalid_0's l1: 0.0743077\n",
      "[800]\tvalid_0's l1: 0.0742401\n",
      "[1000]\tvalid_0's l1: 0.0742034\n",
      "Did not meet early stopping. Best iteration is:\n",
      "[963]\tvalid_0's l1: 0.0741975\n"
     ]
    },
    {
     "name": "stderr",
     "output_type": "stream",
     "text": [
      "regularization_factors, val_score: 0.074121:   5%|5         | 1/20 [00:29<09:15, 29.26s/it]\u001b[32m[I 2021-06-13 05:21:52,797]\u001b[0m Trial 40 finished with value: 0.07419749210935236 and parameters: {'lambda_l1': 2.585303789109958e-05, 'lambda_l2': 0.00046203706301630116}. Best is trial 40 with value: 0.07419749210935236.\u001b[0m\n",
      "regularization_factors, val_score: 0.074121:   5%|5         | 1/20 [00:29<09:15, 29.26s/it]"
     ]
    },
    {
     "name": "stdout",
     "output_type": "stream",
     "text": [
      "[LightGBM] [Warning] Auto-choosing col-wise multi-threading, the overhead of testing was 0.027829 seconds.\n",
      "You can set `force_col_wise=true` to remove the overhead.\n",
      "[LightGBM] [Info] Total Bins 12601\n",
      "[LightGBM] [Info] Number of data points in the train set: 521580, number of used features: 19\n",
      "[LightGBM] [Info] Start training from score 7.219087\n",
      "Training until validation scores don't improve for 100 rounds\n",
      "[200]\tvalid_0's l1: 0.0748954\n",
      "[400]\tvalid_0's l1: 0.074244\n",
      "[600]\tvalid_0's l1: 0.0740896\n",
      "[800]\tvalid_0's l1: 0.074088\n",
      "Early stopping, best iteration is:\n",
      "[711]\tvalid_0's l1: 0.0740643\n"
     ]
    },
    {
     "name": "stderr",
     "output_type": "stream",
     "text": [
      "regularization_factors, val_score: 0.074064:  10%|#         | 2/20 [01:04<09:52, 32.90s/it]\u001b[32m[I 2021-06-13 05:22:28,252]\u001b[0m Trial 41 finished with value: 0.07406427765046784 and parameters: {'lambda_l1': 1.31866018978929, 'lambda_l2': 4.9968310842453905}. Best is trial 41 with value: 0.07406427765046784.\u001b[0m\n",
      "regularization_factors, val_score: 0.074064:  10%|#         | 2/20 [01:04<09:52, 32.90s/it]"
     ]
    },
    {
     "name": "stdout",
     "output_type": "stream",
     "text": [
      "[LightGBM] [Warning] Auto-choosing col-wise multi-threading, the overhead of testing was 0.026036 seconds.\n",
      "You can set `force_col_wise=true` to remove the overhead.\n",
      "[LightGBM] [Info] Total Bins 12601\n",
      "[LightGBM] [Info] Number of data points in the train set: 521580, number of used features: 19\n",
      "[LightGBM] [Info] Start training from score 7.219087\n",
      "Training until validation scores don't improve for 100 rounds\n",
      "[200]\tvalid_0's l1: 0.0750423\n",
      "[400]\tvalid_0's l1: 0.074495\n",
      "[600]\tvalid_0's l1: 0.0743367\n",
      "[800]\tvalid_0's l1: 0.0742137\n",
      "Early stopping, best iteration is:\n",
      "[873]\tvalid_0's l1: 0.0741757\n"
     ]
    },
    {
     "name": "stderr",
     "output_type": "stream",
     "text": [
      "regularization_factors, val_score: 0.074064:  15%|#5        | 3/20 [01:34<08:52, 31.32s/it]\u001b[32m[I 2021-06-13 05:22:57,695]\u001b[0m Trial 42 finished with value: 0.07417565196974173 and parameters: {'lambda_l1': 1.4233192918146744e-06, 'lambda_l2': 0.919654567813889}. Best is trial 41 with value: 0.07406427765046784.\u001b[0m\n",
      "regularization_factors, val_score: 0.074064:  15%|#5        | 3/20 [01:34<08:52, 31.32s/it]"
     ]
    },
    {
     "name": "stdout",
     "output_type": "stream",
     "text": [
      "[LightGBM] [Warning] Auto-choosing col-wise multi-threading, the overhead of testing was 0.027099 seconds.\n",
      "You can set `force_col_wise=true` to remove the overhead.\n",
      "[LightGBM] [Info] Total Bins 12601\n",
      "[LightGBM] [Info] Number of data points in the train set: 521580, number of used features: 19\n",
      "[LightGBM] [Info] Start training from score 7.219087\n",
      "Training until validation scores don't improve for 100 rounds\n",
      "[200]\tvalid_0's l1: 0.0750193\n",
      "[400]\tvalid_0's l1: 0.074469\n",
      "[600]\tvalid_0's l1: 0.0742782\n",
      "[800]\tvalid_0's l1: 0.074198\n",
      "[1000]\tvalid_0's l1: 0.0741824\n",
      "Did not meet early stopping. Best iteration is:\n",
      "[976]\tvalid_0's l1: 0.0741765\n"
     ]
    },
    {
     "name": "stderr",
     "output_type": "stream",
     "text": [
      "regularization_factors, val_score: 0.074064:  20%|##        | 4/20 [02:03<08:06, 30.41s/it]\u001b[32m[I 2021-06-13 05:23:26,702]\u001b[0m Trial 43 finished with value: 0.0741764922917147 and parameters: {'lambda_l1': 5.9754730594004e-06, 'lambda_l2': 8.738596019368767e-06}. Best is trial 41 with value: 0.07406427765046784.\u001b[0m\n",
      "regularization_factors, val_score: 0.074064:  20%|##        | 4/20 [02:03<08:06, 30.41s/it]"
     ]
    },
    {
     "name": "stdout",
     "output_type": "stream",
     "text": [
      "[LightGBM] [Warning] Auto-choosing row-wise multi-threading, the overhead of testing was 0.004573 seconds.\n",
      "You can set `force_row_wise=true` to remove the overhead.\n",
      "And if memory is not enough, you can set `force_col_wise=true`.\n",
      "[LightGBM] [Info] Total Bins 12601\n",
      "[LightGBM] [Info] Number of data points in the train set: 521580, number of used features: 19\n",
      "[LightGBM] [Info] Start training from score 7.219087\n",
      "Training until validation scores don't improve for 100 rounds\n",
      "[200]\tvalid_0's l1: 0.0750345\n",
      "[400]\tvalid_0's l1: 0.0745041\n",
      "[600]\tvalid_0's l1: 0.0743262\n",
      "[800]\tvalid_0's l1: 0.0742876\n",
      "[1000]\tvalid_0's l1: 0.0742511\n",
      "Did not meet early stopping. Best iteration is:\n",
      "[998]\tvalid_0's l1: 0.0742493\n"
     ]
    },
    {
     "name": "stderr",
     "output_type": "stream",
     "text": [
      "regularization_factors, val_score: 0.074064:  25%|##5       | 5/20 [02:36<07:50, 31.36s/it]\u001b[32m[I 2021-06-13 05:23:59,742]\u001b[0m Trial 44 finished with value: 0.07424934726122562 and parameters: {'lambda_l1': 0.0218067456523955, 'lambda_l2': 0.001092811222496857}. Best is trial 41 with value: 0.07406427765046784.\u001b[0m\n",
      "regularization_factors, val_score: 0.074064:  25%|##5       | 5/20 [02:36<07:50, 31.36s/it]"
     ]
    },
    {
     "name": "stdout",
     "output_type": "stream",
     "text": [
      "[LightGBM] [Warning] Auto-choosing col-wise multi-threading, the overhead of testing was 0.030744 seconds.\n",
      "You can set `force_col_wise=true` to remove the overhead.\n",
      "[LightGBM] [Info] Total Bins 12601\n",
      "[LightGBM] [Info] Number of data points in the train set: 521580, number of used features: 19\n",
      "[LightGBM] [Info] Start training from score 7.219087\n",
      "Training until validation scores don't improve for 100 rounds\n",
      "[200]\tvalid_0's l1: 0.0750171\n",
      "[400]\tvalid_0's l1: 0.07451\n",
      "[600]\tvalid_0's l1: 0.0742657\n",
      "[800]\tvalid_0's l1: 0.0741692\n",
      "[1000]\tvalid_0's l1: 0.0741355\n",
      "Did not meet early stopping. Best iteration is:\n",
      "[1000]\tvalid_0's l1: 0.0741355\n"
     ]
    },
    {
     "name": "stderr",
     "output_type": "stream",
     "text": [
      "regularization_factors, val_score: 0.074064:  30%|###       | 6/20 [03:05<07:07, 30.56s/it]\u001b[32m[I 2021-06-13 05:24:28,767]\u001b[0m Trial 45 finished with value: 0.07413553735004517 and parameters: {'lambda_l1': 0.003389933896780504, 'lambda_l2': 0.7526608083884012}. Best is trial 41 with value: 0.07406427765046784.\u001b[0m\n",
      "regularization_factors, val_score: 0.074064:  30%|###       | 6/20 [03:05<07:07, 30.56s/it]"
     ]
    },
    {
     "name": "stdout",
     "output_type": "stream",
     "text": [
      "[LightGBM] [Warning] Auto-choosing col-wise multi-threading, the overhead of testing was 0.026717 seconds.\n",
      "You can set `force_col_wise=true` to remove the overhead.\n",
      "[LightGBM] [Info] Total Bins 12601\n",
      "[LightGBM] [Info] Number of data points in the train set: 521580, number of used features: 19\n",
      "[LightGBM] [Info] Start training from score 7.219087\n",
      "Training until validation scores don't improve for 100 rounds\n",
      "[200]\tvalid_0's l1: 0.0749913\n",
      "[400]\tvalid_0's l1: 0.0744168\n",
      "[600]\tvalid_0's l1: 0.074195\n",
      "[800]\tvalid_0's l1: 0.0741485\n",
      "[1000]\tvalid_0's l1: 0.0741264\n",
      "Did not meet early stopping. Best iteration is:\n",
      "[990]\tvalid_0's l1: 0.0741177\n"
     ]
    },
    {
     "name": "stderr",
     "output_type": "stream",
     "text": [
      "regularization_factors, val_score: 0.074064:  35%|###5      | 7/20 [03:41<06:59, 32.29s/it]\u001b[32m[I 2021-06-13 05:25:04,613]\u001b[0m Trial 46 finished with value: 0.07411770325287645 and parameters: {'lambda_l1': 0.5928694245827697, 'lambda_l2': 0.0001648979884015281}. Best is trial 41 with value: 0.07406427765046784.\u001b[0m\n",
      "regularization_factors, val_score: 0.074064:  35%|###5      | 7/20 [03:41<06:59, 32.29s/it]"
     ]
    },
    {
     "name": "stdout",
     "output_type": "stream",
     "text": [
      "[LightGBM] [Warning] Auto-choosing col-wise multi-threading, the overhead of testing was 0.027400 seconds.\n",
      "You can set `force_col_wise=true` to remove the overhead.\n",
      "[LightGBM] [Info] Total Bins 12601\n",
      "[LightGBM] [Info] Number of data points in the train set: 521580, number of used features: 19\n",
      "[LightGBM] [Info] Start training from score 7.219087\n",
      "Training until validation scores don't improve for 100 rounds\n",
      "[200]\tvalid_0's l1: 0.074996\n",
      "[400]\tvalid_0's l1: 0.0744104\n",
      "[600]\tvalid_0's l1: 0.074241\n",
      "[800]\tvalid_0's l1: 0.0741691\n",
      "Early stopping, best iteration is:\n",
      "[862]\tvalid_0's l1: 0.0741382\n"
     ]
    },
    {
     "name": "stderr",
     "output_type": "stream",
     "text": [
      "regularization_factors, val_score: 0.074064:  40%|####      | 8/20 [04:11<06:18, 31.54s/it]\u001b[32m[I 2021-06-13 05:25:34,541]\u001b[0m Trial 47 finished with value: 0.07413820203193962 and parameters: {'lambda_l1': 0.01681644352783199, 'lambda_l2': 0.2769819067034991}. Best is trial 41 with value: 0.07406427765046784.\u001b[0m\n",
      "regularization_factors, val_score: 0.074064:  40%|####      | 8/20 [04:11<06:18, 31.54s/it]"
     ]
    },
    {
     "name": "stdout",
     "output_type": "stream",
     "text": [
      "[LightGBM] [Warning] Auto-choosing col-wise multi-threading, the overhead of testing was 0.027549 seconds.\n",
      "You can set `force_col_wise=true` to remove the overhead.\n",
      "[LightGBM] [Info] Total Bins 12601\n",
      "[LightGBM] [Info] Number of data points in the train set: 521580, number of used features: 19\n",
      "[LightGBM] [Info] Start training from score 7.219087\n",
      "Training until validation scores don't improve for 100 rounds\n",
      "[200]\tvalid_0's l1: 0.0750193\n",
      "[400]\tvalid_0's l1: 0.0744693\n",
      "[600]\tvalid_0's l1: 0.0742873\n",
      "[800]\tvalid_0's l1: 0.0742105\n",
      "[1000]\tvalid_0's l1: 0.0741908\n",
      "Did not meet early stopping. Best iteration is:\n",
      "[983]\tvalid_0's l1: 0.0741899\n"
     ]
    },
    {
     "name": "stderr",
     "output_type": "stream",
     "text": [
      "regularization_factors, val_score: 0.074064:  45%|####5     | 9/20 [04:38<05:34, 30.40s/it]\u001b[32m[I 2021-06-13 05:26:02,440]\u001b[0m Trial 48 finished with value: 0.074189946966517 and parameters: {'lambda_l1': 3.1352312442007395e-06, 'lambda_l2': 9.652424965001796e-08}. Best is trial 41 with value: 0.07406427765046784.\u001b[0m\n",
      "regularization_factors, val_score: 0.074064:  45%|####5     | 9/20 [04:38<05:34, 30.40s/it]"
     ]
    },
    {
     "name": "stdout",
     "output_type": "stream",
     "text": [
      "[LightGBM] [Warning] Auto-choosing col-wise multi-threading, the overhead of testing was 0.026922 seconds.\n",
      "You can set `force_col_wise=true` to remove the overhead.\n",
      "[LightGBM] [Info] Total Bins 12601\n",
      "[LightGBM] [Info] Number of data points in the train set: 521580, number of used features: 19\n",
      "[LightGBM] [Info] Start training from score 7.219087\n",
      "Training until validation scores don't improve for 100 rounds\n",
      "[200]\tvalid_0's l1: 0.0748909\n",
      "[400]\tvalid_0's l1: 0.0743324\n",
      "[600]\tvalid_0's l1: 0.0741761\n",
      "[800]\tvalid_0's l1: 0.0741073\n",
      "[1000]\tvalid_0's l1: 0.0740732\n",
      "Did not meet early stopping. Best iteration is:\n",
      "[982]\tvalid_0's l1: 0.0740692\n"
     ]
    },
    {
     "name": "stderr",
     "output_type": "stream",
     "text": [
      "regularization_factors, val_score: 0.074064:  50%|#####     | 10/20 [05:14<05:19, 32.00s/it]\u001b[32m[I 2021-06-13 05:26:38,006]\u001b[0m Trial 49 finished with value: 0.07406916154572063 and parameters: {'lambda_l1': 0.44966514854088274, 'lambda_l2': 8.808242910612982}. Best is trial 41 with value: 0.07406427765046784.\u001b[0m\n",
      "regularization_factors, val_score: 0.074064:  50%|#####     | 10/20 [05:14<05:19, 32.00s/it]"
     ]
    },
    {
     "name": "stdout",
     "output_type": "stream",
     "text": [
      "[LightGBM] [Warning] Auto-choosing col-wise multi-threading, the overhead of testing was 0.026539 seconds.\n",
      "You can set `force_col_wise=true` to remove the overhead.\n",
      "[LightGBM] [Info] Total Bins 12601\n",
      "[LightGBM] [Info] Number of data points in the train set: 521580, number of used features: 19\n",
      "[LightGBM] [Info] Start training from score 7.219087\n",
      "Training until validation scores don't improve for 100 rounds\n",
      "[200]\tvalid_0's l1: 0.0750379\n",
      "[400]\tvalid_0's l1: 0.0745369\n",
      "[600]\tvalid_0's l1: 0.0743511\n",
      "[800]\tvalid_0's l1: 0.074268\n",
      "[1000]\tvalid_0's l1: 0.0742443\n",
      "Did not meet early stopping. Best iteration is:\n",
      "[943]\tvalid_0's l1: 0.074236\n"
     ]
    },
    {
     "name": "stderr",
     "output_type": "stream",
     "text": [
      "regularization_factors, val_score: 0.074064:  55%|#####5    | 11/20 [05:44<04:41, 31.31s/it]\u001b[32m[I 2021-06-13 05:27:07,764]\u001b[0m Trial 50 finished with value: 0.07423595776520765 and parameters: {'lambda_l1': 1.818257168027881e-08, 'lambda_l2': 0.014745062931104707}. Best is trial 41 with value: 0.07406427765046784.\u001b[0m\n",
      "regularization_factors, val_score: 0.074064:  55%|#####5    | 11/20 [05:44<04:41, 31.31s/it]"
     ]
    },
    {
     "name": "stdout",
     "output_type": "stream",
     "text": [
      "[LightGBM] [Warning] Auto-choosing col-wise multi-threading, the overhead of testing was 0.028345 seconds.\n",
      "You can set `force_col_wise=true` to remove the overhead.\n",
      "[LightGBM] [Info] Total Bins 12601\n",
      "[LightGBM] [Info] Number of data points in the train set: 521580, number of used features: 19\n",
      "[LightGBM] [Info] Start training from score 7.219087\n",
      "Training until validation scores don't improve for 100 rounds\n",
      "[200]\tvalid_0's l1: 0.0750237\n",
      "[LightGBM] [Warning] No further splits with positive gain, best gain: -inf\n",
      "[LightGBM] [Warning] No further splits with positive gain, best gain: -inf\n",
      "[400]\tvalid_0's l1: 0.0741216\n",
      "[LightGBM] [Warning] No further splits with positive gain, best gain: -inf\n",
      "[LightGBM] [Warning] No further splits with positive gain, best gain: -inf\n",
      "[LightGBM] [Warning] No further splits with positive gain, best gain: -inf\n",
      "[LightGBM] [Warning] No further splits with positive gain, best gain: -inf\n",
      "[LightGBM] [Warning] No further splits with positive gain, best gain: -inf\n",
      "[LightGBM] [Warning] No further splits with positive gain, best gain: -inf\n",
      "[LightGBM] [Warning] No further splits with positive gain, best gain: -inf\n",
      "[LightGBM] [Warning] No further splits with positive gain, best gain: -inf\n",
      "[LightGBM] [Warning] No further splits with positive gain, best gain: -inf\n",
      "[LightGBM] [Warning] No further splits with positive gain, best gain: -inf\n",
      "[LightGBM] [Warning] No further splits with positive gain, best gain: -inf\n",
      "[LightGBM] [Warning] No further splits with positive gain, best gain: -inf\n",
      "[LightGBM] [Warning] No further splits with positive gain, best gain: -inf\n",
      "[600]\tvalid_0's l1: 0.0739389\n",
      "[LightGBM] [Warning] No further splits with positive gain, best gain: -inf\n",
      "[LightGBM] [Warning] No further splits with positive gain, best gain: -inf\n",
      "[LightGBM] [Warning] No further splits with positive gain, best gain: -inf\n",
      "[LightGBM] [Warning] No further splits with positive gain, best gain: -inf\n",
      "[LightGBM] [Warning] No further splits with positive gain, best gain: -inf\n",
      "[LightGBM] [Warning] No further splits with positive gain, best gain: -inf\n",
      "[LightGBM] [Warning] No further splits with positive gain, best gain: -inf\n",
      "[LightGBM] [Warning] No further splits with positive gain, best gain: -inf\n",
      "[LightGBM] [Warning] No further splits with positive gain, best gain: -inf\n",
      "[LightGBM] [Warning] No further splits with positive gain, best gain: -inf\n",
      "[LightGBM] [Warning] No further splits with positive gain, best gain: -inf\n",
      "[LightGBM] [Warning] No further splits with positive gain, best gain: -inf\n",
      "[LightGBM] [Warning] No further splits with positive gain, best gain: -inf\n",
      "[LightGBM] [Warning] No further splits with positive gain, best gain: -inf\n",
      "Early stopping, best iteration is:\n",
      "[603]\tvalid_0's l1: 0.0739336\n"
     ]
    },
    {
     "name": "stderr",
     "output_type": "stream",
     "text": [
      "regularization_factors, val_score: 0.073934:  60%|######    | 12/20 [06:16<04:12, 31.54s/it]\u001b[32m[I 2021-06-13 05:27:39,820]\u001b[0m Trial 51 finished with value: 0.0739335671059385 and parameters: {'lambda_l1': 9.681858694978182, 'lambda_l2': 8.678324089235923}. Best is trial 51 with value: 0.0739335671059385.\u001b[0m\n",
      "regularization_factors, val_score: 0.073934:  60%|######    | 12/20 [06:16<04:12, 31.54s/it]"
     ]
    },
    {
     "name": "stdout",
     "output_type": "stream",
     "text": [
      "[LightGBM] [Warning] Auto-choosing col-wise multi-threading, the overhead of testing was 0.026120 seconds.\n",
      "You can set `force_col_wise=true` to remove the overhead.\n",
      "[LightGBM] [Info] Total Bins 12601\n",
      "[LightGBM] [Info] Number of data points in the train set: 521580, number of used features: 19\n",
      "[LightGBM] [Info] Start training from score 7.219087\n",
      "Training until validation scores don't improve for 100 rounds\n",
      "[200]\tvalid_0's l1: 0.0748987\n",
      "[LightGBM] [Warning] No further splits with positive gain, best gain: -inf\n",
      "[400]\tvalid_0's l1: 0.0741059\n",
      "[LightGBM] [Warning] No further splits with positive gain, best gain: -inf\n",
      "[LightGBM] [Warning] No further splits with positive gain, best gain: -inf\n",
      "[LightGBM] [Warning] No further splits with positive gain, best gain: -inf\n",
      "[LightGBM] [Warning] No further splits with positive gain, best gain: -inf\n",
      "[600]\tvalid_0's l1: 0.073932\n",
      "[LightGBM] [Warning] No further splits with positive gain, best gain: -inf\n",
      "[LightGBM] [Warning] No further splits with positive gain, best gain: -inf\n",
      "[LightGBM] [Warning] No further splits with positive gain, best gain: -inf\n",
      "[LightGBM] [Warning] No further splits with positive gain, best gain: -inf\n",
      "[LightGBM] [Warning] No further splits with positive gain, best gain: -inf\n",
      "[LightGBM] [Warning] No further splits with positive gain, best gain: -inf\n",
      "[LightGBM] [Warning] No further splits with positive gain, best gain: -inf\n",
      "[LightGBM] [Warning] No further splits with positive gain, best gain: -inf\n",
      "[LightGBM] [Warning] No further splits with positive gain, best gain: -inf\n",
      "[LightGBM] [Warning] No further splits with positive gain, best gain: -inf\n",
      "[LightGBM] [Warning] No further splits with positive gain, best gain: -inf\n",
      "[LightGBM] [Warning] No further splits with positive gain, best gain: -inf\n",
      "[LightGBM] [Warning] No further splits with positive gain, best gain: -inf\n",
      "[LightGBM] [Warning] No further splits with positive gain, best gain: -inf\n",
      "[LightGBM] [Warning] No further splits with positive gain, best gain: -inf\n",
      "[LightGBM] [Warning] No further splits with positive gain, best gain: -inf\n",
      "[LightGBM] [Warning] No further splits with positive gain, best gain: -inf\n",
      "[LightGBM] [Warning] No further splits with positive gain, best gain: -inf\n",
      "[LightGBM] [Warning] No further splits with positive gain, best gain: -inf\n",
      "[LightGBM] [Warning] No further splits with positive gain, best gain: -inf\n",
      "[LightGBM] [Warning] No further splits with positive gain, best gain: -inf\n",
      "[LightGBM] [Warning] No further splits with positive gain, best gain: -inf\n",
      "[LightGBM] [Warning] No further splits with positive gain, best gain: -inf\n",
      "[LightGBM] [Warning] No further splits with positive gain, best gain: -inf\n",
      "[LightGBM] [Warning] No further splits with positive gain, best gain: -inf\n",
      "[800]\tvalid_0's l1: 0.0739097\n",
      "[LightGBM] [Warning] No further splits with positive gain, best gain: -inf\n",
      "[LightGBM] [Warning] No further splits with positive gain, best gain: -inf\n",
      "[LightGBM] [Warning] No further splits with positive gain, best gain: -inf\n",
      "[LightGBM] [Warning] No further splits with positive gain, best gain: -inf\n",
      "[LightGBM] [Warning] No further splits with positive gain, best gain: -inf\n",
      "[LightGBM] [Warning] No further splits with positive gain, best gain: -inf\n",
      "[LightGBM] [Warning] No further splits with positive gain, best gain: -inf\n",
      "Early stopping, best iteration is:\n",
      "[736]\tvalid_0's l1: 0.0739015\n"
     ]
    },
    {
     "name": "stderr",
     "output_type": "stream",
     "text": [
      "regularization_factors, val_score: 0.073902:  65%|######5   | 13/20 [06:54<03:55, 33.65s/it]\u001b[32m[I 2021-06-13 05:28:18,335]\u001b[0m Trial 52 finished with value: 0.07390152816756189 and parameters: {'lambda_l1': 8.548560901199767, 'lambda_l2': 8.083724251931596}. Best is trial 52 with value: 0.07390152816756189.\u001b[0m\n",
      "regularization_factors, val_score: 0.073902:  65%|######5   | 13/20 [06:54<03:55, 33.65s/it]"
     ]
    },
    {
     "name": "stdout",
     "output_type": "stream",
     "text": [
      "[LightGBM] [Warning] Auto-choosing col-wise multi-threading, the overhead of testing was 0.026099 seconds.\n",
      "You can set `force_col_wise=true` to remove the overhead.\n",
      "[LightGBM] [Info] Total Bins 12601\n",
      "[LightGBM] [Info] Number of data points in the train set: 521580, number of used features: 19\n",
      "[LightGBM] [Info] Start training from score 7.219087\n",
      "Training until validation scores don't improve for 100 rounds\n",
      "[200]\tvalid_0's l1: 0.0749468\n",
      "[LightGBM] [Warning] No further splits with positive gain, best gain: -inf\n",
      "[400]\tvalid_0's l1: 0.0740915\n",
      "[LightGBM] [Warning] No further splits with positive gain, best gain: -inf\n",
      "[LightGBM] [Warning] No further splits with positive gain, best gain: -inf\n",
      "[LightGBM] [Warning] No further splits with positive gain, best gain: -inf\n",
      "[LightGBM] [Warning] No further splits with positive gain, best gain: -inf\n",
      "[LightGBM] [Warning] No further splits with positive gain, best gain: -inf\n",
      "[LightGBM] [Warning] No further splits with positive gain, best gain: -inf\n",
      "[LightGBM] [Warning] No further splits with positive gain, best gain: -inf\n",
      "[LightGBM] [Warning] No further splits with positive gain, best gain: -inf\n",
      "[LightGBM] [Warning] No further splits with positive gain, best gain: -inf\n",
      "[LightGBM] [Warning] No further splits with positive gain, best gain: -inf\n",
      "[LightGBM] [Warning] No further splits with positive gain, best gain: -inf\n",
      "[600]\tvalid_0's l1: 0.0738933\n",
      "[LightGBM] [Warning] No further splits with positive gain, best gain: -inf\n",
      "[LightGBM] [Warning] No further splits with positive gain, best gain: -inf\n",
      "[LightGBM] [Warning] No further splits with positive gain, best gain: -inf\n",
      "[LightGBM] [Warning] No further splits with positive gain, best gain: -inf\n",
      "[LightGBM] [Warning] No further splits with positive gain, best gain: -inf\n",
      "[LightGBM] [Warning] No further splits with positive gain, best gain: -inf\n",
      "[LightGBM] [Warning] No further splits with positive gain, best gain: -inf\n",
      "[LightGBM] [Warning] No further splits with positive gain, best gain: -inf\n",
      "[LightGBM] [Warning] No further splits with positive gain, best gain: -inf\n",
      "[LightGBM] [Warning] No further splits with positive gain, best gain: -inf\n",
      "[LightGBM] [Warning] No further splits with positive gain, best gain: -inf\n",
      "[LightGBM] [Warning] No further splits with positive gain, best gain: -inf\n",
      "[LightGBM] [Warning] No further splits with positive gain, best gain: -inf\n",
      "[LightGBM] [Warning] No further splits with positive gain, best gain: -inf\n",
      "[LightGBM] [Warning] No further splits with positive gain, best gain: -inf\n",
      "[LightGBM] [Warning] No further splits with positive gain, best gain: -inf\n",
      "[LightGBM] [Warning] No further splits with positive gain, best gain: -inf\n",
      "[LightGBM] [Warning] No further splits with positive gain, best gain: -inf\n",
      "[LightGBM] [Warning] No further splits with positive gain, best gain: -inf\n",
      "[LightGBM] [Warning] No further splits with positive gain, best gain: -inf\n",
      "[LightGBM] [Warning] No further splits with positive gain, best gain: -inf\n",
      "[LightGBM] [Warning] No further splits with positive gain, best gain: -inf\n",
      "[LightGBM] [Warning] No further splits with positive gain, best gain: -inf\n",
      "[LightGBM] [Warning] No further splits with positive gain, best gain: -inf\n",
      "[LightGBM] [Warning] No further splits with positive gain, best gain: -inf\n",
      "[LightGBM] [Warning] No further splits with positive gain, best gain: -inf\n",
      "[LightGBM] [Warning] No further splits with positive gain, best gain: -inf\n",
      "[LightGBM] [Warning] No further splits with positive gain, best gain: -inf\n",
      "[LightGBM] [Warning] No further splits with positive gain, best gain: -inf\n",
      "[LightGBM] [Warning] Stopped training because there are no more leaves that meet the split requirements\n",
      "[LightGBM] [Warning] No further splits with positive gain, best gain: -inf\n",
      "[LightGBM] [Warning] No further splits with positive gain, best gain: -inf\n",
      "[LightGBM] [Warning] No further splits with positive gain, best gain: -inf\n",
      "[LightGBM] [Warning] No further splits with positive gain, best gain: -inf\n",
      "[LightGBM] [Warning] Stopped training because there are no more leaves that meet the split requirements\n",
      "[LightGBM] [Warning] No further splits with positive gain, best gain: -inf\n",
      "[LightGBM] [Warning] No further splits with positive gain, best gain: -inf\n",
      "[LightGBM] [Warning] Stopped training because there are no more leaves that meet the split requirements\n",
      "[LightGBM] [Warning] No further splits with positive gain, best gain: -inf\n",
      "[LightGBM] [Warning] Stopped training because there are no more leaves that meet the split requirements\n",
      "[LightGBM] [Warning] No further splits with positive gain, best gain: -inf\n",
      "[LightGBM] [Warning] No further splits with positive gain, best gain: -inf\n",
      "[LightGBM] [Warning] No further splits with positive gain, best gain: -inf\n",
      "[LightGBM] [Warning] Stopped training because there are no more leaves that meet the split requirements\n",
      "[LightGBM] [Warning] No further splits with positive gain, best gain: -inf\n",
      "[LightGBM] [Warning] Stopped training because there are no more leaves that meet the split requirements\n",
      "[LightGBM] [Warning] No further splits with positive gain, best gain: -inf\n",
      "[LightGBM] [Warning] Stopped training because there are no more leaves that meet the split requirements\n",
      "[LightGBM] [Warning] No further splits with positive gain, best gain: -inf\n",
      "[LightGBM] [Warning] No further splits with positive gain, best gain: -inf\n",
      "[LightGBM] [Warning] Stopped training because there are no more leaves that meet the split requirements\n",
      "[LightGBM] [Warning] No further splits with positive gain, best gain: -inf\n",
      "[LightGBM] [Warning] Stopped training because there are no more leaves that meet the split requirements\n",
      "[LightGBM] [Warning] No further splits with positive gain, best gain: -inf\n",
      "[LightGBM] [Warning] Stopped training because there are no more leaves that meet the split requirements\n",
      "[LightGBM] [Warning] No further splits with positive gain, best gain: -inf\n",
      "[LightGBM] [Warning] Stopped training because there are no more leaves that meet the split requirements\n",
      "[LightGBM] [Warning] No further splits with positive gain, best gain: -inf\n",
      "[LightGBM] [Warning] Stopped training because there are no more leaves that meet the split requirements\n",
      "[LightGBM] [Warning] No further splits with positive gain, best gain: -inf\n",
      "[LightGBM] [Warning] Stopped training because there are no more leaves that meet the split requirements\n",
      "[LightGBM] [Warning] No further splits with positive gain, best gain: -inf\n",
      "[LightGBM] [Warning] No further splits with positive gain, best gain: -inf\n",
      "[LightGBM] [Warning] Stopped training because there are no more leaves that meet the split requirements\n",
      "[LightGBM] [Warning] No further splits with positive gain, best gain: -inf\n",
      "[LightGBM] [Warning] Stopped training because there are no more leaves that meet the split requirements\n",
      "[LightGBM] [Warning] No further splits with positive gain, best gain: -inf\n",
      "[LightGBM] [Warning] No further splits with positive gain, best gain: -inf\n",
      "[LightGBM] [Warning] No further splits with positive gain, best gain: -inf\n",
      "[LightGBM] [Warning] No further splits with positive gain, best gain: -inf\n",
      "[LightGBM] [Warning] Stopped training because there are no more leaves that meet the split requirements\n",
      "[LightGBM] [Warning] No further splits with positive gain, best gain: -inf\n",
      "[LightGBM] [Warning] No further splits with positive gain, best gain: -inf\n",
      "[LightGBM] [Warning] Stopped training because there are no more leaves that meet the split requirements\n",
      "[LightGBM] [Warning] No further splits with positive gain, best gain: -inf\n",
      "[LightGBM] [Warning] No further splits with positive gain, best gain: -inf\n",
      "[LightGBM] [Warning] No further splits with positive gain, best gain: -inf\n",
      "[LightGBM] [Warning] Stopped training because there are no more leaves that meet the split requirements\n",
      "[LightGBM] [Warning] No further splits with positive gain, best gain: -inf\n",
      "[LightGBM] [Warning] No further splits with positive gain, best gain: -inf\n",
      "[LightGBM] [Warning] No further splits with positive gain, best gain: -inf\n",
      "[LightGBM] [Warning] No further splits with positive gain, best gain: -inf\n",
      "[LightGBM] [Warning] No further splits with positive gain, best gain: -inf\n",
      "[LightGBM] [Warning] Stopped training because there are no more leaves that meet the split requirements\n",
      "[LightGBM] [Warning] No further splits with positive gain, best gain: -inf\n",
      "[LightGBM] [Warning] Stopped training because there are no more leaves that meet the split requirements\n",
      "[LightGBM] [Warning] No further splits with positive gain, best gain: -inf\n",
      "[LightGBM] [Warning] Stopped training because there are no more leaves that meet the split requirements\n",
      "[LightGBM] [Warning] No further splits with positive gain, best gain: -inf\n",
      "[LightGBM] [Warning] Stopped training because there are no more leaves that meet the split requirements\n",
      "[LightGBM] [Warning] No further splits with positive gain, best gain: -inf\n",
      "[LightGBM] [Warning] No further splits with positive gain, best gain: -inf\n",
      "[LightGBM] [Warning] Stopped training because there are no more leaves that meet the split requirements\n",
      "[LightGBM] [Warning] No further splits with positive gain, best gain: -inf\n",
      "[LightGBM] [Warning] No further splits with positive gain, best gain: -inf\n",
      "[LightGBM] [Warning] Stopped training because there are no more leaves that meet the split requirements\n",
      "[LightGBM] [Warning] No further splits with positive gain, best gain: -inf\n",
      "[LightGBM] [Warning] No further splits with positive gain, best gain: -inf\n",
      "[LightGBM] [Warning] No further splits with positive gain, best gain: -inf\n",
      "[LightGBM] [Warning] No further splits with positive gain, best gain: -inf\n",
      "[LightGBM] [Warning] No further splits with positive gain, best gain: -inf\n",
      "[LightGBM] [Warning] Stopped training because there are no more leaves that meet the split requirements\n",
      "[LightGBM] [Warning] No further splits with positive gain, best gain: -inf\n",
      "[LightGBM] [Warning] No further splits with positive gain, best gain: -inf\n",
      "[LightGBM] [Warning] Stopped training because there are no more leaves that meet the split requirements\n",
      "[LightGBM] [Warning] No further splits with positive gain, best gain: -inf\n",
      "[LightGBM] [Warning] No further splits with positive gain, best gain: -inf\n",
      "[LightGBM] [Warning] Stopped training because there are no more leaves that meet the split requirements\n",
      "[LightGBM] [Warning] No further splits with positive gain, best gain: -inf\n",
      "[LightGBM] [Warning] Stopped training because there are no more leaves that meet the split requirements\n",
      "[LightGBM] [Warning] No further splits with positive gain, best gain: -inf\n",
      "[LightGBM] [Warning] No further splits with positive gain, best gain: -inf\n",
      "[LightGBM] [Warning] Stopped training because there are no more leaves that meet the split requirements\n",
      "[LightGBM] [Warning] No further splits with positive gain, best gain: -inf\n",
      "[LightGBM] [Warning] No further splits with positive gain, best gain: -inf\n",
      "[LightGBM] [Warning] Stopped training because there are no more leaves that meet the split requirements\n"
     ]
    },
    {
     "name": "stdout",
     "output_type": "stream",
     "text": [
      "[LightGBM] [Warning] No further splits with positive gain, best gain: -inf\n",
      "[LightGBM] [Warning] No further splits with positive gain, best gain: -inf\n",
      "[LightGBM] [Warning] No further splits with positive gain, best gain: -inf\n",
      "[LightGBM] [Warning] No further splits with positive gain, best gain: -inf\n",
      "[LightGBM] [Warning] Stopped training because there are no more leaves that meet the split requirements\n",
      "[LightGBM] [Warning] No further splits with positive gain, best gain: -inf\n",
      "[LightGBM] [Warning] Stopped training because there are no more leaves that meet the split requirements\n",
      "[LightGBM] [Warning] No further splits with positive gain, best gain: -inf\n",
      "[LightGBM] [Warning] Stopped training because there are no more leaves that meet the split requirements\n",
      "[LightGBM] [Warning] No further splits with positive gain, best gain: -inf\n",
      "[LightGBM] [Warning] No further splits with positive gain, best gain: -inf\n",
      "[LightGBM] [Warning] No further splits with positive gain, best gain: -inf\n",
      "[LightGBM] [Warning] Stopped training because there are no more leaves that meet the split requirements\n",
      "[LightGBM] [Warning] No further splits with positive gain, best gain: -inf\n",
      "[LightGBM] [Warning] Stopped training because there are no more leaves that meet the split requirements\n",
      "[LightGBM] [Warning] No further splits with positive gain, best gain: -inf\n",
      "[LightGBM] [Warning] Stopped training because there are no more leaves that meet the split requirements\n",
      "[LightGBM] [Warning] No further splits with positive gain, best gain: -inf\n",
      "[LightGBM] [Warning] No further splits with positive gain, best gain: -inf\n",
      "[LightGBM] [Warning] Stopped training because there are no more leaves that meet the split requirements\n",
      "[LightGBM] [Warning] No further splits with positive gain, best gain: -inf\n",
      "[LightGBM] [Warning] No further splits with positive gain, best gain: -inf\n",
      "[LightGBM] [Warning] No further splits with positive gain, best gain: -inf\n",
      "[LightGBM] [Warning] No further splits with positive gain, best gain: -inf\n",
      "Early stopping, best iteration is:\n",
      "[680]\tvalid_0's l1: 0.0738837\n"
     ]
    },
    {
     "name": "stderr",
     "output_type": "stream",
     "text": [
      "regularization_factors, val_score: 0.073884:  70%|#######   | 14/20 [07:27<03:20, 33.37s/it]\u001b[32m[I 2021-06-13 05:28:51,057]\u001b[0m Trial 53 finished with value: 0.07388371314424917 and parameters: {'lambda_l1': 9.839882798626192, 'lambda_l2': 0.06659514268859588}. Best is trial 53 with value: 0.07388371314424917.\u001b[0m\n",
      "regularization_factors, val_score: 0.073884:  70%|#######   | 14/20 [07:27<03:20, 33.37s/it]"
     ]
    },
    {
     "name": "stdout",
     "output_type": "stream",
     "text": [
      "[LightGBM] [Warning] Auto-choosing col-wise multi-threading, the overhead of testing was 0.026320 seconds.\n",
      "You can set `force_col_wise=true` to remove the overhead.\n",
      "[LightGBM] [Info] Total Bins 12601\n",
      "[LightGBM] [Info] Number of data points in the train set: 521580, number of used features: 19\n",
      "[LightGBM] [Info] Start training from score 7.219087\n",
      "Training until validation scores don't improve for 100 rounds\n",
      "[200]\tvalid_0's l1: 0.0748521\n",
      "[LightGBM] [Warning] No further splits with positive gain, best gain: -inf\n",
      "[400]\tvalid_0's l1: 0.0740389\n",
      "[LightGBM] [Warning] No further splits with positive gain, best gain: -inf\n",
      "[600]\tvalid_0's l1: 0.0739076\n",
      "[LightGBM] [Warning] No further splits with positive gain, best gain: -inf\n",
      "[LightGBM] [Warning] No further splits with positive gain, best gain: -inf\n",
      "[LightGBM] [Warning] No further splits with positive gain, best gain: -inf\n",
      "[LightGBM] [Warning] No further splits with positive gain, best gain: -inf\n",
      "Early stopping, best iteration is:\n",
      "[600]\tvalid_0's l1: 0.0739076\n"
     ]
    },
    {
     "name": "stderr",
     "output_type": "stream",
     "text": [
      "regularization_factors, val_score: 0.073884:  75%|#######5  | 15/20 [08:00<02:45, 33.17s/it]\u001b[32m[I 2021-06-13 05:29:23,749]\u001b[0m Trial 54 finished with value: 0.07390761159199873 and parameters: {'lambda_l1': 7.6137984997823205, 'lambda_l2': 0.02700241831133885}. Best is trial 53 with value: 0.07388371314424917.\u001b[0m\n",
      "regularization_factors, val_score: 0.073884:  75%|#######5  | 15/20 [08:00<02:45, 33.17s/it]"
     ]
    },
    {
     "name": "stdout",
     "output_type": "stream",
     "text": [
      "[LightGBM] [Warning] Auto-choosing col-wise multi-threading, the overhead of testing was 0.027111 seconds.\n",
      "You can set `force_col_wise=true` to remove the overhead.\n",
      "[LightGBM] [Info] Total Bins 12601\n",
      "[LightGBM] [Info] Number of data points in the train set: 521580, number of used features: 19\n",
      "[LightGBM] [Info] Start training from score 7.219087\n",
      "Training until validation scores don't improve for 100 rounds\n",
      "[200]\tvalid_0's l1: 0.0749078\n",
      "[400]\tvalid_0's l1: 0.074376\n",
      "[600]\tvalid_0's l1: 0.0742179\n",
      "[800]\tvalid_0's l1: 0.0741552\n",
      "[1000]\tvalid_0's l1: 0.0740732\n",
      "Did not meet early stopping. Best iteration is:\n",
      "[991]\tvalid_0's l1: 0.074068\n"
     ]
    },
    {
     "name": "stderr",
     "output_type": "stream",
     "text": [
      "regularization_factors, val_score: 0.073884:  80%|########  | 16/20 [08:30<02:09, 32.27s/it]\u001b[32m[I 2021-06-13 05:29:53,944]\u001b[0m Trial 55 finished with value: 0.07406795889264382 and parameters: {'lambda_l1': 0.09317357770423927, 'lambda_l2': 0.03582907041082708}. Best is trial 53 with value: 0.07388371314424917.\u001b[0m\n",
      "regularization_factors, val_score: 0.073884:  80%|########  | 16/20 [08:30<02:09, 32.27s/it]"
     ]
    },
    {
     "name": "stdout",
     "output_type": "stream",
     "text": [
      "[LightGBM] [Warning] Auto-choosing col-wise multi-threading, the overhead of testing was 0.027203 seconds.\n",
      "You can set `force_col_wise=true` to remove the overhead.\n",
      "[LightGBM] [Info] Total Bins 12601\n",
      "[LightGBM] [Info] Number of data points in the train set: 521580, number of used features: 19\n",
      "[LightGBM] [Info] Start training from score 7.219087\n",
      "Training until validation scores don't improve for 100 rounds\n",
      "[200]\tvalid_0's l1: 0.0749838\n",
      "[400]\tvalid_0's l1: 0.0744334\n",
      "[600]\tvalid_0's l1: 0.0742524\n",
      "[800]\tvalid_0's l1: 0.0741677\n",
      "[1000]\tvalid_0's l1: 0.074152\n",
      "Did not meet early stopping. Best iteration is:\n",
      "[952]\tvalid_0's l1: 0.074142\n"
     ]
    },
    {
     "name": "stderr",
     "output_type": "stream",
     "text": [
      "regularization_factors, val_score: 0.073884:  85%|########5 | 17/20 [08:59<01:33, 31.20s/it]\u001b[32m[I 2021-06-13 05:30:22,641]\u001b[0m Trial 56 finished with value: 0.0741419777243573 and parameters: {'lambda_l1': 0.00044791281316364803, 'lambda_l2': 0.172823319038441}. Best is trial 53 with value: 0.07388371314424917.\u001b[0m\n",
      "regularization_factors, val_score: 0.073884:  85%|########5 | 17/20 [08:59<01:33, 31.20s/it]"
     ]
    },
    {
     "name": "stdout",
     "output_type": "stream",
     "text": [
      "[LightGBM] [Warning] Auto-choosing col-wise multi-threading, the overhead of testing was 0.029653 seconds.\n",
      "You can set `force_col_wise=true` to remove the overhead.\n",
      "[LightGBM] [Info] Total Bins 12601\n",
      "[LightGBM] [Info] Number of data points in the train set: 521580, number of used features: 19\n",
      "[LightGBM] [Info] Start training from score 7.219087\n",
      "Training until validation scores don't improve for 100 rounds\n",
      "[200]\tvalid_0's l1: 0.0748836\n",
      "[400]\tvalid_0's l1: 0.0741099\n",
      "[600]\tvalid_0's l1: 0.0739575\n",
      "[LightGBM] [Warning] No further splits with positive gain, best gain: -inf\n",
      "Early stopping, best iteration is:\n",
      "[609]\tvalid_0's l1: 0.0739522\n"
     ]
    },
    {
     "name": "stderr",
     "output_type": "stream",
     "text": [
      "regularization_factors, val_score: 0.073884:  90%|######### | 18/20 [09:33<01:04, 32.06s/it]\u001b[32m[I 2021-06-13 05:30:56,701]\u001b[0m Trial 57 finished with value: 0.07395218244221707 and parameters: {'lambda_l1': 6.396758182077651, 'lambda_l2': 0.006767879496344982}. Best is trial 53 with value: 0.07388371314424917.\u001b[0m\n",
      "regularization_factors, val_score: 0.073884:  90%|######### | 18/20 [09:33<01:04, 32.06s/it]"
     ]
    },
    {
     "name": "stdout",
     "output_type": "stream",
     "text": [
      "[LightGBM] [Warning] Auto-choosing col-wise multi-threading, the overhead of testing was 0.027971 seconds.\n",
      "You can set `force_col_wise=true` to remove the overhead.\n",
      "[LightGBM] [Info] Total Bins 12601\n",
      "[LightGBM] [Info] Number of data points in the train set: 521580, number of used features: 19\n",
      "[LightGBM] [Info] Start training from score 7.219087\n",
      "Training until validation scores don't improve for 100 rounds\n",
      "[200]\tvalid_0's l1: 0.0750436\n",
      "[400]\tvalid_0's l1: 0.0745095\n",
      "[600]\tvalid_0's l1: 0.0743458\n",
      "[800]\tvalid_0's l1: 0.074255\n",
      "[1000]\tvalid_0's l1: 0.0742331\n",
      "Did not meet early stopping. Best iteration is:\n",
      "[961]\tvalid_0's l1: 0.0742253\n"
     ]
    },
    {
     "name": "stderr",
     "output_type": "stream",
     "text": [
      "regularization_factors, val_score: 0.073884:  95%|#########5| 19/20 [10:01<00:31, 31.03s/it]\u001b[32m[I 2021-06-13 05:31:25,353]\u001b[0m Trial 58 finished with value: 0.07422530355536586 and parameters: {'lambda_l1': 0.0007894705741535841, 'lambda_l2': 7.249403971503266e-06}. Best is trial 53 with value: 0.07388371314424917.\u001b[0m\n",
      "regularization_factors, val_score: 0.073884:  95%|#########5| 19/20 [10:01<00:31, 31.03s/it]"
     ]
    },
    {
     "name": "stdout",
     "output_type": "stream",
     "text": [
      "[LightGBM] [Warning] Auto-choosing col-wise multi-threading, the overhead of testing was 0.026903 seconds.\n",
      "You can set `force_col_wise=true` to remove the overhead.\n",
      "[LightGBM] [Info] Total Bins 12601\n",
      "[LightGBM] [Info] Number of data points in the train set: 521580, number of used features: 19\n",
      "[LightGBM] [Info] Start training from score 7.219087\n",
      "Training until validation scores don't improve for 100 rounds\n",
      "[200]\tvalid_0's l1: 0.0750099\n",
      "[400]\tvalid_0's l1: 0.0744338\n",
      "[600]\tvalid_0's l1: 0.0742814\n",
      "[800]\tvalid_0's l1: 0.0741904\n",
      "[1000]\tvalid_0's l1: 0.074175\n",
      "Did not meet early stopping. Best iteration is:\n",
      "[975]\tvalid_0's l1: 0.0741643\n"
     ]
    },
    {
     "name": "stderr",
     "output_type": "stream",
     "text": [
      "regularization_factors, val_score: 0.073884: 100%|##########| 20/20 [10:30<00:00, 30.41s/it]\u001b[32m[I 2021-06-13 05:31:54,311]\u001b[0m Trial 59 finished with value: 0.07416425056282848 and parameters: {'lambda_l1': 1.0849603825127079e-08, 'lambda_l2': 0.9204149705634722}. Best is trial 53 with value: 0.07388371314424917.\u001b[0m\n",
      "regularization_factors, val_score: 0.073884: 100%|##########| 20/20 [10:30<00:00, 31.54s/it]\n",
      "min_data_in_leaf, val_score: 0.073884:   0%|          | 0/5 [00:00<?, ?it/s]"
     ]
    },
    {
     "name": "stdout",
     "output_type": "stream",
     "text": [
      "[LightGBM] [Warning] Auto-choosing col-wise multi-threading, the overhead of testing was 0.026991 seconds.\n",
      "You can set `force_col_wise=true` to remove the overhead.\n",
      "[LightGBM] [Info] Total Bins 12601\n",
      "[LightGBM] [Info] Number of data points in the train set: 521580, number of used features: 19\n",
      "[LightGBM] [Info] Start training from score 7.219087\n",
      "Training until validation scores don't improve for 100 rounds\n",
      "[200]\tvalid_0's l1: 0.0749329\n",
      "[LightGBM] [Warning] No further splits with positive gain, best gain: -inf\n",
      "[LightGBM] [Warning] No further splits with positive gain, best gain: -inf\n",
      "[400]\tvalid_0's l1: 0.0740697\n",
      "[LightGBM] [Warning] No further splits with positive gain, best gain: -inf\n",
      "[LightGBM] [Warning] No further splits with positive gain, best gain: -inf\n",
      "[LightGBM] [Warning] No further splits with positive gain, best gain: -inf\n",
      "[LightGBM] [Warning] No further splits with positive gain, best gain: -inf\n",
      "[LightGBM] [Warning] No further splits with positive gain, best gain: -inf\n",
      "[LightGBM] [Warning] No further splits with positive gain, best gain: -inf\n",
      "[LightGBM] [Warning] No further splits with positive gain, best gain: -inf\n",
      "[LightGBM] [Warning] No further splits with positive gain, best gain: -inf\n",
      "[LightGBM] [Warning] No further splits with positive gain, best gain: -inf\n",
      "[LightGBM] [Warning] No further splits with positive gain, best gain: -inf\n",
      "[LightGBM] [Warning] No further splits with positive gain, best gain: -inf\n",
      "[LightGBM] [Warning] No further splits with positive gain, best gain: -inf\n",
      "[LightGBM] [Warning] No further splits with positive gain, best gain: -inf\n",
      "[600]\tvalid_0's l1: 0.0739606\n",
      "[LightGBM] [Warning] No further splits with positive gain, best gain: -inf\n",
      "[LightGBM] [Warning] No further splits with positive gain, best gain: -inf\n",
      "[LightGBM] [Warning] No further splits with positive gain, best gain: -inf\n",
      "[LightGBM] [Warning] No further splits with positive gain, best gain: -inf\n",
      "[LightGBM] [Warning] No further splits with positive gain, best gain: -inf\n",
      "[LightGBM] [Warning] No further splits with positive gain, best gain: -inf\n",
      "Early stopping, best iteration is:\n",
      "[535]\tvalid_0's l1: 0.0739448\n"
     ]
    },
    {
     "name": "stderr",
     "output_type": "stream",
     "text": [
      "min_data_in_leaf, val_score: 0.073884:  20%|##        | 1/5 [00:29<01:57, 29.45s/it]\u001b[32m[I 2021-06-13 05:32:23,768]\u001b[0m Trial 60 finished with value: 0.07394477081194346 and parameters: {'min_child_samples': 25}. Best is trial 60 with value: 0.07394477081194346.\u001b[0m\n",
      "min_data_in_leaf, val_score: 0.073884:  20%|##        | 1/5 [00:29<01:57, 29.45s/it]"
     ]
    },
    {
     "name": "stdout",
     "output_type": "stream",
     "text": [
      "[LightGBM] [Warning] Auto-choosing col-wise multi-threading, the overhead of testing was 0.026997 seconds.\n",
      "You can set `force_col_wise=true` to remove the overhead.\n",
      "[LightGBM] [Info] Total Bins 12601\n",
      "[LightGBM] [Info] Number of data points in the train set: 521580, number of used features: 19\n",
      "[LightGBM] [Info] Start training from score 7.219087\n",
      "Training until validation scores don't improve for 100 rounds\n",
      "[LightGBM] [Warning] No further splits with positive gain, best gain: -inf\n",
      "[200]\tvalid_0's l1: 0.0750087\n",
      "[LightGBM] [Warning] No further splits with positive gain, best gain: -inf\n",
      "[LightGBM] [Warning] No further splits with positive gain, best gain: -inf\n",
      "[LightGBM] [Warning] No further splits with positive gain, best gain: -inf\n",
      "[400]\tvalid_0's l1: 0.0741131\n",
      "[LightGBM] [Warning] No further splits with positive gain, best gain: -inf\n",
      "[LightGBM] [Warning] No further splits with positive gain, best gain: -inf\n",
      "[LightGBM] [Warning] No further splits with positive gain, best gain: -inf\n",
      "[LightGBM] [Warning] No further splits with positive gain, best gain: -inf\n",
      "[LightGBM] [Warning] No further splits with positive gain, best gain: -inf\n",
      "[LightGBM] [Warning] No further splits with positive gain, best gain: -inf\n",
      "[LightGBM] [Warning] No further splits with positive gain, best gain: -inf\n",
      "[LightGBM] [Warning] No further splits with positive gain, best gain: -inf\n",
      "[600]\tvalid_0's l1: 0.0739165\n",
      "[LightGBM] [Warning] No further splits with positive gain, best gain: -inf\n",
      "[LightGBM] [Warning] No further splits with positive gain, best gain: -inf\n",
      "[LightGBM] [Warning] No further splits with positive gain, best gain: -inf\n",
      "[LightGBM] [Warning] No further splits with positive gain, best gain: -inf\n",
      "[LightGBM] [Warning] No further splits with positive gain, best gain: -inf\n",
      "[LightGBM] [Warning] No further splits with positive gain, best gain: -inf\n",
      "[LightGBM] [Warning] No further splits with positive gain, best gain: -inf\n",
      "[LightGBM] [Warning] No further splits with positive gain, best gain: -inf\n",
      "[LightGBM] [Warning] No further splits with positive gain, best gain: -inf\n",
      "[LightGBM] [Warning] No further splits with positive gain, best gain: -inf\n",
      "[LightGBM] [Warning] No further splits with positive gain, best gain: -inf\n",
      "[LightGBM] [Warning] No further splits with positive gain, best gain: -inf\n",
      "[LightGBM] [Warning] No further splits with positive gain, best gain: -inf\n",
      "[LightGBM] [Warning] No further splits with positive gain, best gain: -inf\n",
      "[LightGBM] [Warning] No further splits with positive gain, best gain: -inf\n",
      "[LightGBM] [Warning] No further splits with positive gain, best gain: -inf\n",
      "[LightGBM] [Warning] No further splits with positive gain, best gain: -inf\n",
      "[LightGBM] [Warning] No further splits with positive gain, best gain: -inf\n",
      "[LightGBM] [Warning] No further splits with positive gain, best gain: -inf\n",
      "[LightGBM] [Warning] No further splits with positive gain, best gain: -inf\n",
      "[LightGBM] [Warning] No further splits with positive gain, best gain: -inf\n",
      "[LightGBM] [Warning] No further splits with positive gain, best gain: -inf\n",
      "[LightGBM] [Warning] No further splits with positive gain, best gain: -inf\n",
      "[LightGBM] [Warning] No further splits with positive gain, best gain: -inf\n",
      "[LightGBM] [Warning] No further splits with positive gain, best gain: -inf\n",
      "[LightGBM] [Warning] No further splits with positive gain, best gain: -inf\n",
      "[LightGBM] [Warning] No further splits with positive gain, best gain: -inf\n",
      "[LightGBM] [Warning] No further splits with positive gain, best gain: -inf\n",
      "[LightGBM] [Warning] No further splits with positive gain, best gain: -inf\n",
      "[LightGBM] [Warning] No further splits with positive gain, best gain: -inf\n",
      "[LightGBM] [Warning] No further splits with positive gain, best gain: -inf\n",
      "[LightGBM] [Warning] No further splits with positive gain, best gain: -inf\n",
      "[LightGBM] [Warning] No further splits with positive gain, best gain: -inf\n",
      "[LightGBM] [Warning] No further splits with positive gain, best gain: -inf\n",
      "[LightGBM] [Warning] No further splits with positive gain, best gain: -inf\n",
      "[LightGBM] [Warning] No further splits with positive gain, best gain: -inf\n",
      "[LightGBM] [Warning] No further splits with positive gain, best gain: -inf\n",
      "[LightGBM] [Warning] No further splits with positive gain, best gain: -inf\n",
      "[LightGBM] [Warning] No further splits with positive gain, best gain: -inf\n",
      "[LightGBM] [Warning] No further splits with positive gain, best gain: -inf\n",
      "[LightGBM] [Warning] No further splits with positive gain, best gain: -inf\n",
      "[LightGBM] [Warning] No further splits with positive gain, best gain: -inf\n",
      "[LightGBM] [Warning] No further splits with positive gain, best gain: -inf\n",
      "[LightGBM] [Warning] No further splits with positive gain, best gain: -inf\n",
      "[LightGBM] [Warning] No further splits with positive gain, best gain: -inf\n",
      "[LightGBM] [Warning] No further splits with positive gain, best gain: -inf\n",
      "[LightGBM] [Warning] No further splits with positive gain, best gain: -inf\n",
      "[LightGBM] [Warning] No further splits with positive gain, best gain: -inf\n",
      "[LightGBM] [Warning] No further splits with positive gain, best gain: -inf\n",
      "[LightGBM] [Warning] No further splits with positive gain, best gain: -inf\n",
      "[LightGBM] [Warning] No further splits with positive gain, best gain: -inf\n",
      "[LightGBM] [Warning] No further splits with positive gain, best gain: -inf\n",
      "[LightGBM] [Warning] Stopped training because there are no more leaves that meet the split requirements\n",
      "[LightGBM] [Warning] No further splits with positive gain, best gain: -inf\n",
      "[LightGBM] [Warning] No further splits with positive gain, best gain: -inf\n",
      "[LightGBM] [Warning] No further splits with positive gain, best gain: -inf\n",
      "[LightGBM] [Warning] No further splits with positive gain, best gain: -inf\n",
      "[LightGBM] [Warning] No further splits with positive gain, best gain: -inf\n",
      "[LightGBM] [Warning] Stopped training because there are no more leaves that meet the split requirements\n",
      "[LightGBM] [Warning] No further splits with positive gain, best gain: -inf\n",
      "[LightGBM] [Warning] No further splits with positive gain, best gain: -inf\n",
      "[LightGBM] [Warning] Stopped training because there are no more leaves that meet the split requirements\n",
      "[800]\tvalid_0's l1: 0.0738686\n",
      "[LightGBM] [Warning] No further splits with positive gain, best gain: -inf\n",
      "[LightGBM] [Warning] No further splits with positive gain, best gain: -inf\n",
      "[LightGBM] [Warning] No further splits with positive gain, best gain: -inf\n",
      "[LightGBM] [Warning] No further splits with positive gain, best gain: -inf\n",
      "[LightGBM] [Warning] No further splits with positive gain, best gain: -inf\n",
      "[LightGBM] [Warning] No further splits with positive gain, best gain: -inf\n",
      "[LightGBM] [Warning] No further splits with positive gain, best gain: -inf\n",
      "[LightGBM] [Warning] No further splits with positive gain, best gain: -inf\n",
      "[LightGBM] [Warning] No further splits with positive gain, best gain: -inf\n",
      "[LightGBM] [Warning] Stopped training because there are no more leaves that meet the split requirements\n",
      "[LightGBM] [Warning] No further splits with positive gain, best gain: -inf\n",
      "[LightGBM] [Warning] Stopped training because there are no more leaves that meet the split requirements\n",
      "[LightGBM] [Warning] No further splits with positive gain, best gain: -inf\n",
      "[LightGBM] [Warning] No further splits with positive gain, best gain: -inf\n",
      "Early stopping, best iteration is:\n",
      "[712]\tvalid_0's l1: 0.0738619\n"
     ]
    },
    {
     "name": "stderr",
     "output_type": "stream",
     "text": [
      "min_data_in_leaf, val_score: 0.073862:  40%|####      | 2/5 [01:04<01:37, 32.54s/it]\u001b[32m[I 2021-06-13 05:32:58,477]\u001b[0m Trial 61 finished with value: 0.07386190596927447 and parameters: {'min_child_samples': 10}. Best is trial 61 with value: 0.07386190596927447.\u001b[0m\n",
      "min_data_in_leaf, val_score: 0.073862:  40%|####      | 2/5 [01:04<01:37, 32.54s/it]"
     ]
    },
    {
     "name": "stdout",
     "output_type": "stream",
     "text": [
      "[LightGBM] [Warning] Auto-choosing col-wise multi-threading, the overhead of testing was 0.026955 seconds.\n",
      "You can set `force_col_wise=true` to remove the overhead.\n",
      "[LightGBM] [Info] Total Bins 12601\n",
      "[LightGBM] [Info] Number of data points in the train set: 521580, number of used features: 19\n",
      "[LightGBM] [Info] Start training from score 7.219087\n",
      "Training until validation scores don't improve for 100 rounds\n",
      "[LightGBM] [Warning] No further splits with positive gain, best gain: -inf\n",
      "[200]\tvalid_0's l1: 0.0749798\n",
      "[LightGBM] [Warning] No further splits with positive gain, best gain: -inf\n",
      "[LightGBM] [Warning] No further splits with positive gain, best gain: -inf\n",
      "[LightGBM] [Warning] No further splits with positive gain, best gain: -inf\n",
      "[400]\tvalid_0's l1: 0.0740615\n",
      "[LightGBM] [Warning] No further splits with positive gain, best gain: -inf\n",
      "[LightGBM] [Warning] No further splits with positive gain, best gain: -inf\n",
      "[LightGBM] [Warning] No further splits with positive gain, best gain: -inf\n",
      "[LightGBM] [Warning] No further splits with positive gain, best gain: -inf\n",
      "[LightGBM] [Warning] No further splits with positive gain, best gain: -inf\n",
      "[LightGBM] [Warning] No further splits with positive gain, best gain: -inf\n",
      "[LightGBM] [Warning] No further splits with positive gain, best gain: -inf\n",
      "[LightGBM] [Warning] No further splits with positive gain, best gain: -inf\n",
      "[LightGBM] [Warning] No further splits with positive gain, best gain: -inf\n",
      "[600]\tvalid_0's l1: 0.0738971\n",
      "[LightGBM] [Warning] No further splits with positive gain, best gain: -inf\n",
      "[LightGBM] [Warning] No further splits with positive gain, best gain: -inf\n",
      "[LightGBM] [Warning] No further splits with positive gain, best gain: -inf\n",
      "[LightGBM] [Warning] No further splits with positive gain, best gain: -inf\n",
      "[LightGBM] [Warning] No further splits with positive gain, best gain: -inf\n",
      "[LightGBM] [Warning] No further splits with positive gain, best gain: -inf\n",
      "[LightGBM] [Warning] No further splits with positive gain, best gain: -inf\n",
      "[LightGBM] [Warning] No further splits with positive gain, best gain: -inf\n",
      "[LightGBM] [Warning] No further splits with positive gain, best gain: -inf\n",
      "[LightGBM] [Warning] No further splits with positive gain, best gain: -inf\n",
      "[LightGBM] [Warning] No further splits with positive gain, best gain: -inf\n",
      "[LightGBM] [Warning] No further splits with positive gain, best gain: -inf\n",
      "[LightGBM] [Warning] No further splits with positive gain, best gain: -inf\n",
      "[LightGBM] [Warning] No further splits with positive gain, best gain: -inf\n",
      "[LightGBM] [Warning] No further splits with positive gain, best gain: -inf\n",
      "Early stopping, best iteration is:\n",
      "[601]\tvalid_0's l1: 0.0738967\n"
     ]
    },
    {
     "name": "stderr",
     "output_type": "stream",
     "text": [
      "min_data_in_leaf, val_score: 0.073862:  60%|######    | 3/5 [01:35<01:04, 32.11s/it]\u001b[32m[I 2021-06-13 05:33:30,069]\u001b[0m Trial 62 finished with value: 0.07389671444254421 and parameters: {'min_child_samples': 50}. Best is trial 61 with value: 0.07386190596927447.\u001b[0m\n",
      "min_data_in_leaf, val_score: 0.073862:  60%|######    | 3/5 [01:35<01:04, 32.11s/it]"
     ]
    },
    {
     "name": "stdout",
     "output_type": "stream",
     "text": [
      "[LightGBM] [Warning] Auto-choosing col-wise multi-threading, the overhead of testing was 0.026219 seconds.\n",
      "You can set `force_col_wise=true` to remove the overhead.\n",
      "[LightGBM] [Info] Total Bins 12601\n",
      "[LightGBM] [Info] Number of data points in the train set: 521580, number of used features: 19\n",
      "[LightGBM] [Info] Start training from score 7.219087\n",
      "Training until validation scores don't improve for 100 rounds\n",
      "[200]\tvalid_0's l1: 0.0749611\n",
      "[LightGBM] [Warning] No further splits with positive gain, best gain: -inf\n",
      "[400]\tvalid_0's l1: 0.0740555\n",
      "[LightGBM] [Warning] No further splits with positive gain, best gain: -inf\n",
      "[LightGBM] [Warning] No further splits with positive gain, best gain: -inf\n",
      "[LightGBM] [Warning] No further splits with positive gain, best gain: -inf\n",
      "[LightGBM] [Warning] No further splits with positive gain, best gain: -inf\n",
      "[LightGBM] [Warning] No further splits with positive gain, best gain: -inf\n",
      "[LightGBM] [Warning] No further splits with positive gain, best gain: -inf\n",
      "[LightGBM] [Warning] No further splits with positive gain, best gain: -inf\n",
      "[LightGBM] [Warning] No further splits with positive gain, best gain: -inf\n",
      "[LightGBM] [Warning] No further splits with positive gain, best gain: -inf\n",
      "[LightGBM] [Warning] No further splits with positive gain, best gain: -inf\n",
      "[LightGBM] [Warning] No further splits with positive gain, best gain: -inf\n",
      "[LightGBM] [Warning] No further splits with positive gain, best gain: -inf\n",
      "[LightGBM] [Warning] No further splits with positive gain, best gain: -inf\n",
      "[LightGBM] [Warning] No further splits with positive gain, best gain: -inf\n",
      "[LightGBM] [Warning] No further splits with positive gain, best gain: -inf\n",
      "[LightGBM] [Warning] No further splits with positive gain, best gain: -inf\n",
      "[LightGBM] [Warning] No further splits with positive gain, best gain: -inf\n",
      "[LightGBM] [Warning] No further splits with positive gain, best gain: -inf\n",
      "[LightGBM] [Warning] No further splits with positive gain, best gain: -inf\n",
      "[LightGBM] [Warning] No further splits with positive gain, best gain: -inf\n",
      "[LightGBM] [Warning] No further splits with positive gain, best gain: -inf\n",
      "[LightGBM] [Warning] No further splits with positive gain, best gain: -inf\n",
      "[LightGBM] [Warning] No further splits with positive gain, best gain: -inf\n",
      "[600]\tvalid_0's l1: 0.0738552\n",
      "[LightGBM] [Warning] No further splits with positive gain, best gain: -inf\n",
      "[LightGBM] [Warning] No further splits with positive gain, best gain: -inf\n",
      "[LightGBM] [Warning] No further splits with positive gain, best gain: -inf\n",
      "[LightGBM] [Warning] No further splits with positive gain, best gain: -inf\n",
      "[LightGBM] [Warning] No further splits with positive gain, best gain: -inf\n",
      "[LightGBM] [Warning] No further splits with positive gain, best gain: -inf\n",
      "[LightGBM] [Warning] No further splits with positive gain, best gain: -inf\n",
      "[LightGBM] [Warning] No further splits with positive gain, best gain: -inf\n",
      "[LightGBM] [Warning] No further splits with positive gain, best gain: -inf\n",
      "[LightGBM] [Warning] No further splits with positive gain, best gain: -inf\n",
      "[LightGBM] [Warning] No further splits with positive gain, best gain: -inf\n",
      "[LightGBM] [Warning] No further splits with positive gain, best gain: -inf\n",
      "[LightGBM] [Warning] No further splits with positive gain, best gain: -inf\n",
      "[LightGBM] [Warning] No further splits with positive gain, best gain: -inf\n",
      "[LightGBM] [Warning] No further splits with positive gain, best gain: -inf\n",
      "[LightGBM] [Warning] No further splits with positive gain, best gain: -inf\n",
      "[LightGBM] [Warning] No further splits with positive gain, best gain: -inf\n",
      "[LightGBM] [Warning] No further splits with positive gain, best gain: -inf\n",
      "[LightGBM] [Warning] No further splits with positive gain, best gain: -inf\n",
      "[LightGBM] [Warning] No further splits with positive gain, best gain: -inf\n",
      "[LightGBM] [Warning] No further splits with positive gain, best gain: -inf\n",
      "[LightGBM] [Warning] No further splits with positive gain, best gain: -inf\n",
      "[LightGBM] [Warning] No further splits with positive gain, best gain: -inf\n",
      "[LightGBM] [Warning] No further splits with positive gain, best gain: -inf\n",
      "[LightGBM] [Warning] No further splits with positive gain, best gain: -inf\n",
      "[LightGBM] [Warning] No further splits with positive gain, best gain: -inf\n",
      "[LightGBM] [Warning] No further splits with positive gain, best gain: -inf\n",
      "[LightGBM] [Warning] No further splits with positive gain, best gain: -inf\n",
      "[LightGBM] [Warning] No further splits with positive gain, best gain: -inf\n",
      "[LightGBM] [Warning] No further splits with positive gain, best gain: -inf\n",
      "[LightGBM] [Warning] No further splits with positive gain, best gain: -inf\n",
      "[LightGBM] [Warning] No further splits with positive gain, best gain: -inf\n",
      "[LightGBM] [Warning] No further splits with positive gain, best gain: -inf\n",
      "[LightGBM] [Warning] No further splits with positive gain, best gain: -inf\n",
      "[LightGBM] [Warning] No further splits with positive gain, best gain: -inf\n",
      "[LightGBM] [Warning] No further splits with positive gain, best gain: -inf\n",
      "[LightGBM] [Warning] No further splits with positive gain, best gain: -inf\n",
      "[LightGBM] [Warning] No further splits with positive gain, best gain: -inf\n",
      "[LightGBM] [Warning] No further splits with positive gain, best gain: -inf\n",
      "[LightGBM] [Warning] No further splits with positive gain, best gain: -inf\n",
      "[800]\tvalid_0's l1: 0.0738167\n",
      "[LightGBM] [Warning] No further splits with positive gain, best gain: -inf\n",
      "[LightGBM] [Warning] No further splits with positive gain, best gain: -inf\n",
      "[LightGBM] [Warning] No further splits with positive gain, best gain: -inf\n",
      "[LightGBM] [Warning] No further splits with positive gain, best gain: -inf\n",
      "[LightGBM] [Warning] No further splits with positive gain, best gain: -inf\n",
      "[LightGBM] [Warning] No further splits with positive gain, best gain: -inf\n",
      "[LightGBM] [Warning] No further splits with positive gain, best gain: -inf\n",
      "[LightGBM] [Warning] No further splits with positive gain, best gain: -inf\n",
      "[LightGBM] [Warning] No further splits with positive gain, best gain: -inf\n",
      "[LightGBM] [Warning] No further splits with positive gain, best gain: -inf\n",
      "[LightGBM] [Warning] No further splits with positive gain, best gain: -inf\n",
      "[LightGBM] [Warning] No further splits with positive gain, best gain: -inf\n",
      "[LightGBM] [Warning] No further splits with positive gain, best gain: -inf\n",
      "[LightGBM] [Warning] No further splits with positive gain, best gain: -inf\n",
      "[LightGBM] [Warning] No further splits with positive gain, best gain: -inf\n",
      "[LightGBM] [Warning] No further splits with positive gain, best gain: -inf\n",
      "[LightGBM] [Warning] No further splits with positive gain, best gain: -inf\n",
      "[LightGBM] [Warning] No further splits with positive gain, best gain: -inf\n",
      "[LightGBM] [Warning] No further splits with positive gain, best gain: -inf\n",
      "[LightGBM] [Warning] No further splits with positive gain, best gain: -inf\n",
      "[LightGBM] [Warning] No further splits with positive gain, best gain: -inf\n",
      "[LightGBM] [Warning] No further splits with positive gain, best gain: -inf\n",
      "[LightGBM] [Warning] No further splits with positive gain, best gain: -inf\n",
      "[LightGBM] [Warning] No further splits with positive gain, best gain: -inf\n",
      "[LightGBM] [Warning] Stopped training because there are no more leaves that meet the split requirements\n",
      "[LightGBM] [Warning] No further splits with positive gain, best gain: -inf\n",
      "[LightGBM] [Warning] No further splits with positive gain, best gain: -inf\n",
      "[LightGBM] [Warning] No further splits with positive gain, best gain: -inf\n",
      "[LightGBM] [Warning] No further splits with positive gain, best gain: -inf\n",
      "[LightGBM] [Warning] No further splits with positive gain, best gain: -inf\n",
      "[LightGBM] [Warning] No further splits with positive gain, best gain: -inf\n",
      "[LightGBM] [Warning] No further splits with positive gain, best gain: -inf\n",
      "[LightGBM] [Warning] No further splits with positive gain, best gain: -inf\n",
      "Early stopping, best iteration is:\n",
      "[788]\tvalid_0's l1: 0.073804\n"
     ]
    },
    {
     "name": "stderr",
     "output_type": "stream",
     "text": [
      "min_data_in_leaf, val_score: 0.073804:  80%|########  | 4/5 [02:14<00:34, 34.58s/it]\u001b[32m[I 2021-06-13 05:34:08,444]\u001b[0m Trial 63 finished with value: 0.07380396122759839 and parameters: {'min_child_samples': 5}. Best is trial 63 with value: 0.07380396122759839.\u001b[0m\n",
      "min_data_in_leaf, val_score: 0.073804:  80%|########  | 4/5 [02:14<00:34, 34.58s/it]"
     ]
    },
    {
     "name": "stdout",
     "output_type": "stream",
     "text": [
      "[LightGBM] [Warning] Auto-choosing col-wise multi-threading, the overhead of testing was 0.027374 seconds.\n",
      "You can set `force_col_wise=true` to remove the overhead.\n",
      "[LightGBM] [Info] Total Bins 12601\n",
      "[LightGBM] [Info] Number of data points in the train set: 521580, number of used features: 19\n",
      "[LightGBM] [Info] Start training from score 7.219087\n",
      "Training until validation scores don't improve for 100 rounds\n",
      "[LightGBM] [Warning] No further splits with positive gain, best gain: -inf\n",
      "[200]\tvalid_0's l1: 0.0749502\n",
      "[LightGBM] [Warning] No further splits with positive gain, best gain: -inf\n",
      "[LightGBM] [Warning] No further splits with positive gain, best gain: -inf\n",
      "[LightGBM] [Warning] No further splits with positive gain, best gain: -inf\n",
      "[400]\tvalid_0's l1: 0.0740807\n",
      "[LightGBM] [Warning] No further splits with positive gain, best gain: -inf\n",
      "[LightGBM] [Warning] No further splits with positive gain, best gain: -inf\n",
      "[LightGBM] [Warning] No further splits with positive gain, best gain: -inf\n",
      "[LightGBM] [Warning] No further splits with positive gain, best gain: -inf\n",
      "[LightGBM] [Warning] No further splits with positive gain, best gain: -inf\n",
      "[LightGBM] [Warning] No further splits with positive gain, best gain: -inf\n",
      "[LightGBM] [Warning] No further splits with positive gain, best gain: -inf\n",
      "[LightGBM] [Warning] No further splits with positive gain, best gain: -inf\n",
      "[LightGBM] [Warning] No further splits with positive gain, best gain: -inf\n",
      "[LightGBM] [Warning] No further splits with positive gain, best gain: -inf\n",
      "[LightGBM] [Warning] No further splits with positive gain, best gain: -inf\n",
      "[LightGBM] [Warning] No further splits with positive gain, best gain: -inf\n",
      "[LightGBM] [Warning] No further splits with positive gain, best gain: -inf\n",
      "[LightGBM] [Warning] No further splits with positive gain, best gain: -inf\n",
      "[LightGBM] [Warning] No further splits with positive gain, best gain: -inf\n",
      "[LightGBM] [Warning] No further splits with positive gain, best gain: -inf\n",
      "[LightGBM] [Warning] No further splits with positive gain, best gain: -inf\n",
      "[600]\tvalid_0's l1: 0.0738982\n",
      "[LightGBM] [Warning] No further splits with positive gain, best gain: -inf\n",
      "[LightGBM] [Warning] No further splits with positive gain, best gain: -inf\n",
      "[LightGBM] [Warning] No further splits with positive gain, best gain: -inf\n",
      "[LightGBM] [Warning] No further splits with positive gain, best gain: -inf\n",
      "[LightGBM] [Warning] No further splits with positive gain, best gain: -inf\n",
      "[LightGBM] [Warning] No further splits with positive gain, best gain: -inf\n",
      "[LightGBM] [Warning] No further splits with positive gain, best gain: -inf\n",
      "[LightGBM] [Warning] No further splits with positive gain, best gain: -inf\n",
      "[LightGBM] [Warning] No further splits with positive gain, best gain: -inf\n",
      "[LightGBM] [Warning] No further splits with positive gain, best gain: -inf\n",
      "[LightGBM] [Warning] No further splits with positive gain, best gain: -inf\n",
      "[LightGBM] [Warning] No further splits with positive gain, best gain: -inf\n",
      "[LightGBM] [Warning] No further splits with positive gain, best gain: -inf\n",
      "[LightGBM] [Warning] No further splits with positive gain, best gain: -inf\n",
      "[LightGBM] [Warning] No further splits with positive gain, best gain: -inf\n",
      "[LightGBM] [Warning] No further splits with positive gain, best gain: -inf\n",
      "[LightGBM] [Warning] No further splits with positive gain, best gain: -inf\n",
      "[LightGBM] [Warning] No further splits with positive gain, best gain: -inf\n",
      "[LightGBM] [Warning] No further splits with positive gain, best gain: -inf\n",
      "[LightGBM] [Warning] No further splits with positive gain, best gain: -inf\n",
      "[LightGBM] [Warning] No further splits with positive gain, best gain: -inf\n",
      "[LightGBM] [Warning] No further splits with positive gain, best gain: -inf\n",
      "[LightGBM] [Warning] No further splits with positive gain, best gain: -inf\n",
      "[LightGBM] [Warning] No further splits with positive gain, best gain: -inf\n",
      "[LightGBM] [Warning] No further splits with positive gain, best gain: -inf\n",
      "Early stopping, best iteration is:\n",
      "[657]\tvalid_0's l1: 0.0738945\n"
     ]
    },
    {
     "name": "stderr",
     "output_type": "stream",
     "text": [
      "min_data_in_leaf, val_score: 0.073804: 100%|##########| 5/5 [02:49<00:00, 34.91s/it]\u001b[32m[I 2021-06-13 05:34:43,939]\u001b[0m Trial 64 finished with value: 0.07389446980519303 and parameters: {'min_child_samples': 100}. Best is trial 63 with value: 0.07380396122759839.\u001b[0m\n",
      "min_data_in_leaf, val_score: 0.073804: 100%|##########| 5/5 [02:49<00:00, 33.92s/it]"
     ]
    },
    {
     "name": "stdout",
     "output_type": "stream",
     "text": [
      "elaptedtime: 2779.403847694397\n"
     ]
    },
    {
     "name": "stderr",
     "output_type": "stream",
     "text": [
      "\n"
     ]
    }
   ],
   "source": [
    "opt_params = {\n",
    "    \"objective\":\"regression\",\n",
    "    \"metric\":\"mae\"\n",
    "}\n",
    "\n",
    "import time\n",
    "start = time.time()\n",
    "opt=lgb.train(\n",
    "    opt_params,\n",
    "    trains,\n",
    "    valid_sets = valids,\n",
    "    verbose_eval=200,\n",
    "    num_boost_round = 1000,\n",
    "    early_stopping_rounds = 100\n",
    ")\n",
    "end = time.time()\n",
    "print('elaptedtime:', end-start)"
   ]
  },
  {
   "cell_type": "code",
   "execution_count": 8,
   "id": "incorrect-ticket",
   "metadata": {},
   "outputs": [
    {
     "name": "stderr",
     "output_type": "stream",
     "text": [
      "/opt/conda/lib/python3.7/site-packages/lightgbm/engine.py:148: UserWarning: Found `num_iterations` in params. Will use it instead of argument\n",
      "  _log_warning(\"Found `{}` in params. Will use it instead of argument\".format(alias))\n",
      "/opt/conda/lib/python3.7/site-packages/lightgbm/engine.py:153: UserWarning: Found `early_stopping_round` in params. Will use it instead of argument\n",
      "  _log_warning(\"Found `{}` in params. Will use it instead of argument\".format(alias))\n"
     ]
    },
    {
     "name": "stdout",
     "output_type": "stream",
     "text": [
      "[LightGBM] [Warning] Auto-choosing col-wise multi-threading, the overhead of testing was 0.031527 seconds.\n",
      "You can set `force_col_wise=true` to remove the overhead.\n",
      "[LightGBM] [Info] Total Bins 12601\n",
      "[LightGBM] [Info] Number of data points in the train set: 521580, number of used features: 19\n",
      "[LightGBM] [Info] Start training from score 7.219087\n",
      "Training until validation scores don't improve for 100 rounds\n",
      "[200]\tvalid_0's l1: 0.0749611\n",
      "[LightGBM] [Warning] No further splits with positive gain, best gain: -inf\n",
      "[400]\tvalid_0's l1: 0.0740555\n",
      "[LightGBM] [Warning] No further splits with positive gain, best gain: -inf\n",
      "[LightGBM] [Warning] No further splits with positive gain, best gain: -inf\n",
      "[LightGBM] [Warning] No further splits with positive gain, best gain: -inf\n",
      "[LightGBM] [Warning] No further splits with positive gain, best gain: -inf\n",
      "[LightGBM] [Warning] No further splits with positive gain, best gain: -inf\n",
      "[LightGBM] [Warning] No further splits with positive gain, best gain: -inf\n",
      "[LightGBM] [Warning] No further splits with positive gain, best gain: -inf\n",
      "[LightGBM] [Warning] No further splits with positive gain, best gain: -inf\n",
      "[LightGBM] [Warning] No further splits with positive gain, best gain: -inf\n",
      "[LightGBM] [Warning] No further splits with positive gain, best gain: -inf\n",
      "[LightGBM] [Warning] No further splits with positive gain, best gain: -inf\n",
      "[LightGBM] [Warning] No further splits with positive gain, best gain: -inf\n",
      "[LightGBM] [Warning] No further splits with positive gain, best gain: -inf\n",
      "[LightGBM] [Warning] No further splits with positive gain, best gain: -inf\n",
      "[LightGBM] [Warning] No further splits with positive gain, best gain: -inf\n",
      "[LightGBM] [Warning] No further splits with positive gain, best gain: -inf\n",
      "[LightGBM] [Warning] No further splits with positive gain, best gain: -inf\n",
      "[LightGBM] [Warning] No further splits with positive gain, best gain: -inf\n",
      "[LightGBM] [Warning] No further splits with positive gain, best gain: -inf\n",
      "[LightGBM] [Warning] No further splits with positive gain, best gain: -inf\n",
      "[LightGBM] [Warning] No further splits with positive gain, best gain: -inf\n",
      "[LightGBM] [Warning] No further splits with positive gain, best gain: -inf\n",
      "[LightGBM] [Warning] No further splits with positive gain, best gain: -inf\n",
      "[600]\tvalid_0's l1: 0.0738552\n",
      "[LightGBM] [Warning] No further splits with positive gain, best gain: -inf\n",
      "[LightGBM] [Warning] No further splits with positive gain, best gain: -inf\n",
      "[LightGBM] [Warning] No further splits with positive gain, best gain: -inf\n",
      "[LightGBM] [Warning] No further splits with positive gain, best gain: -inf\n",
      "[LightGBM] [Warning] No further splits with positive gain, best gain: -inf\n",
      "[LightGBM] [Warning] No further splits with positive gain, best gain: -inf\n",
      "[LightGBM] [Warning] No further splits with positive gain, best gain: -inf\n",
      "[LightGBM] [Warning] No further splits with positive gain, best gain: -inf\n",
      "[LightGBM] [Warning] No further splits with positive gain, best gain: -inf\n",
      "[LightGBM] [Warning] No further splits with positive gain, best gain: -inf\n",
      "[LightGBM] [Warning] No further splits with positive gain, best gain: -inf\n",
      "[LightGBM] [Warning] No further splits with positive gain, best gain: -inf\n",
      "[LightGBM] [Warning] No further splits with positive gain, best gain: -inf\n",
      "[LightGBM] [Warning] No further splits with positive gain, best gain: -inf\n",
      "[LightGBM] [Warning] No further splits with positive gain, best gain: -inf\n",
      "[LightGBM] [Warning] No further splits with positive gain, best gain: -inf\n",
      "[LightGBM] [Warning] No further splits with positive gain, best gain: -inf\n",
      "[LightGBM] [Warning] No further splits with positive gain, best gain: -inf\n",
      "[LightGBM] [Warning] No further splits with positive gain, best gain: -inf\n",
      "[LightGBM] [Warning] No further splits with positive gain, best gain: -inf\n",
      "[LightGBM] [Warning] No further splits with positive gain, best gain: -inf\n",
      "[LightGBM] [Warning] No further splits with positive gain, best gain: -inf\n",
      "[LightGBM] [Warning] No further splits with positive gain, best gain: -inf\n",
      "[LightGBM] [Warning] No further splits with positive gain, best gain: -inf\n",
      "[LightGBM] [Warning] No further splits with positive gain, best gain: -inf\n",
      "[LightGBM] [Warning] No further splits with positive gain, best gain: -inf\n",
      "[LightGBM] [Warning] No further splits with positive gain, best gain: -inf\n",
      "[LightGBM] [Warning] No further splits with positive gain, best gain: -inf\n",
      "[LightGBM] [Warning] No further splits with positive gain, best gain: -inf\n",
      "[LightGBM] [Warning] No further splits with positive gain, best gain: -inf\n",
      "[LightGBM] [Warning] No further splits with positive gain, best gain: -inf\n",
      "[LightGBM] [Warning] No further splits with positive gain, best gain: -inf\n",
      "[LightGBM] [Warning] No further splits with positive gain, best gain: -inf\n",
      "[LightGBM] [Warning] No further splits with positive gain, best gain: -inf\n",
      "[LightGBM] [Warning] No further splits with positive gain, best gain: -inf\n",
      "[LightGBM] [Warning] No further splits with positive gain, best gain: -inf\n",
      "[LightGBM] [Warning] No further splits with positive gain, best gain: -inf\n",
      "[LightGBM] [Warning] No further splits with positive gain, best gain: -inf\n",
      "[LightGBM] [Warning] No further splits with positive gain, best gain: -inf\n",
      "[LightGBM] [Warning] No further splits with positive gain, best gain: -inf\n",
      "[800]\tvalid_0's l1: 0.0738167\n",
      "[LightGBM] [Warning] No further splits with positive gain, best gain: -inf\n",
      "[LightGBM] [Warning] No further splits with positive gain, best gain: -inf\n",
      "[LightGBM] [Warning] No further splits with positive gain, best gain: -inf\n",
      "[LightGBM] [Warning] No further splits with positive gain, best gain: -inf\n",
      "[LightGBM] [Warning] No further splits with positive gain, best gain: -inf\n",
      "[LightGBM] [Warning] No further splits with positive gain, best gain: -inf\n",
      "[LightGBM] [Warning] No further splits with positive gain, best gain: -inf\n",
      "[LightGBM] [Warning] No further splits with positive gain, best gain: -inf\n",
      "[LightGBM] [Warning] No further splits with positive gain, best gain: -inf\n",
      "[LightGBM] [Warning] No further splits with positive gain, best gain: -inf\n",
      "[LightGBM] [Warning] No further splits with positive gain, best gain: -inf\n",
      "[LightGBM] [Warning] No further splits with positive gain, best gain: -inf\n",
      "[LightGBM] [Warning] No further splits with positive gain, best gain: -inf\n",
      "[LightGBM] [Warning] No further splits with positive gain, best gain: -inf\n",
      "[LightGBM] [Warning] No further splits with positive gain, best gain: -inf\n",
      "[LightGBM] [Warning] No further splits with positive gain, best gain: -inf\n",
      "[LightGBM] [Warning] No further splits with positive gain, best gain: -inf\n",
      "[LightGBM] [Warning] No further splits with positive gain, best gain: -inf\n",
      "[LightGBM] [Warning] No further splits with positive gain, best gain: -inf\n",
      "[LightGBM] [Warning] No further splits with positive gain, best gain: -inf\n",
      "[LightGBM] [Warning] No further splits with positive gain, best gain: -inf\n",
      "[LightGBM] [Warning] No further splits with positive gain, best gain: -inf\n",
      "[LightGBM] [Warning] No further splits with positive gain, best gain: -inf\n",
      "[LightGBM] [Warning] No further splits with positive gain, best gain: -inf\n",
      "[LightGBM] [Warning] Stopped training because there are no more leaves that meet the split requirements\n",
      "[LightGBM] [Warning] No further splits with positive gain, best gain: -inf\n",
      "[LightGBM] [Warning] No further splits with positive gain, best gain: -inf\n",
      "[LightGBM] [Warning] No further splits with positive gain, best gain: -inf\n",
      "[LightGBM] [Warning] No further splits with positive gain, best gain: -inf\n",
      "[LightGBM] [Warning] No further splits with positive gain, best gain: -inf\n",
      "[LightGBM] [Warning] No further splits with positive gain, best gain: -inf\n",
      "[LightGBM] [Warning] No further splits with positive gain, best gain: -inf\n",
      "[LightGBM] [Warning] No further splits with positive gain, best gain: -inf\n",
      "Early stopping, best iteration is:\n",
      "[788]\tvalid_0's l1: 0.073804\n"
     ]
    }
   ],
   "source": [
    "# lightGBM\n",
    "import lightgbm as lgb\n",
    "best_params = opt.params\n",
    "model = lgb.train(best_params, trains, valid_sets=valids, num_boost_round=1000, early_stopping_rounds=100, verbose_eval=200)"
   ]
  },
  {
   "cell_type": "code",
   "execution_count": 9,
   "id": "future-control",
   "metadata": {},
   "outputs": [
    {
     "data": {
      "text/plain": [
       "0.07380396297261879"
      ]
     },
     "execution_count": 9,
     "metadata": {},
     "output_type": "execute_result"
    }
   ],
   "source": [
    "vals = model.predict(val_x)\n",
    "mae(vals, val_y)"
   ]
  },
  {
   "cell_type": "code",
   "execution_count": 10,
   "id": "twelve-hepatitis",
   "metadata": {},
   "outputs": [
    {
     "data": {
      "text/html": [
       "<div>\n",
       "<style scoped>\n",
       "    .dataframe tbody tr th:only-of-type {\n",
       "        vertical-align: middle;\n",
       "    }\n",
       "\n",
       "    .dataframe tbody tr th {\n",
       "        vertical-align: top;\n",
       "    }\n",
       "\n",
       "    .dataframe thead th {\n",
       "        text-align: right;\n",
       "    }\n",
       "</style>\n",
       "<table border=\"1\" class=\"dataframe\">\n",
       "  <thead>\n",
       "    <tr style=\"text-align: right;\">\n",
       "      <th></th>\n",
       "      <th>importance</th>\n",
       "    </tr>\n",
       "  </thead>\n",
       "  <tbody>\n",
       "    <tr>\n",
       "      <th>地区名</th>\n",
       "      <td>22080</td>\n",
       "    </tr>\n",
       "    <tr>\n",
       "      <th>最寄駅：名称</th>\n",
       "      <td>18291</td>\n",
       "    </tr>\n",
       "    <tr>\n",
       "      <th>市区町村名</th>\n",
       "      <td>10534</td>\n",
       "    </tr>\n",
       "    <tr>\n",
       "      <th>建築年</th>\n",
       "      <td>4993</td>\n",
       "    </tr>\n",
       "    <tr>\n",
       "      <th>取引時点</th>\n",
       "      <td>4623</td>\n",
       "    </tr>\n",
       "    <tr>\n",
       "      <th>最寄駅：距離（分）</th>\n",
       "      <td>3984</td>\n",
       "    </tr>\n",
       "    <tr>\n",
       "      <th>面積（㎡）</th>\n",
       "      <td>3436</td>\n",
       "    </tr>\n",
       "    <tr>\n",
       "      <th>都道府県名</th>\n",
       "      <td>2575</td>\n",
       "    </tr>\n",
       "    <tr>\n",
       "      <th>都市計画</th>\n",
       "      <td>2575</td>\n",
       "    </tr>\n",
       "    <tr>\n",
       "      <th>間取り</th>\n",
       "      <td>2564</td>\n",
       "    </tr>\n",
       "    <tr>\n",
       "      <th>容積率（％）</th>\n",
       "      <td>2433</td>\n",
       "    </tr>\n",
       "    <tr>\n",
       "      <th>平均価格</th>\n",
       "      <td>2034</td>\n",
       "    </tr>\n",
       "    <tr>\n",
       "      <th>緯度</th>\n",
       "      <td>1600</td>\n",
       "    </tr>\n",
       "    <tr>\n",
       "      <th>経度</th>\n",
       "      <td>1547</td>\n",
       "    </tr>\n",
       "    <tr>\n",
       "      <th>今後の利用目的</th>\n",
       "      <td>607</td>\n",
       "    </tr>\n",
       "    <tr>\n",
       "      <th>建物の構造</th>\n",
       "      <td>549</td>\n",
       "    </tr>\n",
       "    <tr>\n",
       "      <th>建ぺい率（％）</th>\n",
       "      <td>415</td>\n",
       "    </tr>\n",
       "    <tr>\n",
       "      <th>改装</th>\n",
       "      <td>366</td>\n",
       "    </tr>\n",
       "    <tr>\n",
       "      <th>取引の事情等</th>\n",
       "      <td>338</td>\n",
       "    </tr>\n",
       "  </tbody>\n",
       "</table>\n",
       "</div>"
      ],
      "text/plain": [
       "           importance\n",
       "地区名             22080\n",
       "最寄駅：名称          18291\n",
       "市区町村名           10534\n",
       "建築年              4993\n",
       "取引時点             4623\n",
       "最寄駅：距離（分）        3984\n",
       "面積（㎡）            3436\n",
       "都道府県名            2575\n",
       "都市計画             2575\n",
       "間取り              2564\n",
       "容積率（％）           2433\n",
       "平均価格             2034\n",
       "緯度               1600\n",
       "経度               1547\n",
       "今後の利用目的           607\n",
       "建物の構造             549\n",
       "建ぺい率（％）           415\n",
       "改装                366\n",
       "取引の事情等            338"
      ]
     },
     "execution_count": 10,
     "metadata": {},
     "output_type": "execute_result"
    }
   ],
   "source": [
    "pd.DataFrame(model.feature_importance(), index=val_x.columns, columns=[\"importance\"]).sort_values(\"importance\", ascending=False)"
   ]
  },
  {
   "cell_type": "code",
   "execution_count": 11,
   "id": "italic-sending",
   "metadata": {},
   "outputs": [],
   "source": [
    "# df_test[\"用途_en\"] = df_test[\"用途\"].apply(lambda x: en_youto(x))\n",
    "df_test = df_test.drop(\"用途\", axis=1)"
   ]
  },
  {
   "cell_type": "code",
   "execution_count": 12,
   "id": "attempted-today",
   "metadata": {},
   "outputs": [
    {
     "name": "stdout",
     "output_type": "stream",
     "text": [
      "<class 'pandas.core.frame.DataFrame'>\n",
      "Int64Index: 17894 entries, 1000000 to 47008203\n",
      "Data columns (total 19 columns):\n",
      " #   Column     Non-Null Count  Dtype   \n",
      "---  ------     --------------  -----   \n",
      " 0   都道府県名      17894 non-null  category\n",
      " 1   市区町村名      17894 non-null  category\n",
      " 2   地区名        17891 non-null  category\n",
      " 3   最寄駅：名称     17871 non-null  category\n",
      " 4   最寄駅：距離（分）  17871 non-null  float64 \n",
      " 5   間取り        17082 non-null  category\n",
      " 6   面積（㎡）      17894 non-null  float64 \n",
      " 7   建築年        17287 non-null  float64 \n",
      " 8   建物の構造      16776 non-null  category\n",
      " 9   今後の利用目的    17099 non-null  category\n",
      " 10  都市計画       17617 non-null  category\n",
      " 11  建ぺい率（％）    17529 non-null  float64 \n",
      " 12  容積率（％）     17529 non-null  float64 \n",
      " 13  取引時点       17894 non-null  float64 \n",
      " 14  改装         15627 non-null  category\n",
      " 15  取引の事情等     93 non-null     category\n",
      " 16  緯度         17894 non-null  float64 \n",
      " 17  経度         17894 non-null  float64 \n",
      " 18  平均価格       17894 non-null  float64 \n",
      "dtypes: category(10), float64(9)\n",
      "memory usage: 1.9 MB\n"
     ]
    }
   ],
   "source": [
    "df_test.info()"
   ]
  },
  {
   "cell_type": "code",
   "execution_count": 13,
   "id": "clean-horror",
   "metadata": {},
   "outputs": [
    {
     "name": "stdout",
     "output_type": "stream",
     "text": [
      "<class 'pandas.core.frame.DataFrame'>\n",
      "Int64Index: 651975 entries, 1117225 to 47008266\n",
      "Data columns (total 20 columns):\n",
      " #   Column        Non-Null Count   Dtype   \n",
      "---  ------        --------------   -----   \n",
      " 0   都道府県名         651975 non-null  category\n",
      " 1   市区町村名         651975 non-null  category\n",
      " 2   地区名           651318 non-null  category\n",
      " 3   最寄駅：名称        649342 non-null  category\n",
      " 4   最寄駅：距離（分）     628916 non-null  float64 \n",
      " 5   間取り           629546 non-null  category\n",
      " 6   面積（㎡）         651975 non-null  float64 \n",
      " 7   建築年           633280 non-null  float64 \n",
      " 8   建物の構造         637098 non-null  category\n",
      " 9   今後の利用目的       288948 non-null  category\n",
      " 10  都市計画          633162 non-null  category\n",
      " 11  建ぺい率（％）       629168 non-null  float64 \n",
      " 12  容積率（％）        629168 non-null  float64 \n",
      " 13  取引時点          651975 non-null  float64 \n",
      " 14  改装            593301 non-null  category\n",
      " 15  取引の事情等        18397 non-null   category\n",
      " 16  取引価格（総額）_log  651975 non-null  float64 \n",
      " 17  緯度            651975 non-null  float64 \n",
      " 18  経度            651975 non-null  float64 \n",
      " 19  平均価格          651975 non-null  float64 \n",
      "dtypes: category(10), float64(10)\n",
      "memory usage: 63.3 MB\n"
     ]
    }
   ],
   "source": [
    "df.info()"
   ]
  },
  {
   "cell_type": "code",
   "execution_count": 14,
   "id": "composite-threat",
   "metadata": {},
   "outputs": [],
   "source": [
    "predict = model.predict(df_test)\n",
    "df_test[\"取引価格（総額）_log\"] = predict\n",
    "df_test[[\"取引価格（総額）_log\"]].to_csv(\"./output/18_sub.csv\")"
   ]
  },
  {
   "cell_type": "code",
   "execution_count": 15,
   "id": "congressional-vocabulary",
   "metadata": {},
   "outputs": [
    {
     "data": {
      "text/html": [
       "<div>\n",
       "<style scoped>\n",
       "    .dataframe tbody tr th:only-of-type {\n",
       "        vertical-align: middle;\n",
       "    }\n",
       "\n",
       "    .dataframe tbody tr th {\n",
       "        vertical-align: top;\n",
       "    }\n",
       "\n",
       "    .dataframe thead th {\n",
       "        text-align: right;\n",
       "    }\n",
       "</style>\n",
       "<table border=\"1\" class=\"dataframe\">\n",
       "  <thead>\n",
       "    <tr style=\"text-align: right;\">\n",
       "      <th></th>\n",
       "      <th>都道府県名</th>\n",
       "      <th>市区町村名</th>\n",
       "      <th>地区名</th>\n",
       "      <th>最寄駅：名称</th>\n",
       "      <th>最寄駅：距離（分）</th>\n",
       "      <th>間取り</th>\n",
       "      <th>面積（㎡）</th>\n",
       "      <th>建築年</th>\n",
       "      <th>建物の構造</th>\n",
       "      <th>今後の利用目的</th>\n",
       "      <th>都市計画</th>\n",
       "      <th>建ぺい率（％）</th>\n",
       "      <th>容積率（％）</th>\n",
       "      <th>取引時点</th>\n",
       "      <th>改装</th>\n",
       "      <th>取引の事情等</th>\n",
       "      <th>取引価格（総額）_log</th>\n",
       "      <th>緯度</th>\n",
       "      <th>経度</th>\n",
       "      <th>平均価格</th>\n",
       "    </tr>\n",
       "    <tr>\n",
       "      <th>ID</th>\n",
       "      <th></th>\n",
       "      <th></th>\n",
       "      <th></th>\n",
       "      <th></th>\n",
       "      <th></th>\n",
       "      <th></th>\n",
       "      <th></th>\n",
       "      <th></th>\n",
       "      <th></th>\n",
       "      <th></th>\n",
       "      <th></th>\n",
       "      <th></th>\n",
       "      <th></th>\n",
       "      <th></th>\n",
       "      <th></th>\n",
       "      <th></th>\n",
       "      <th></th>\n",
       "      <th></th>\n",
       "      <th></th>\n",
       "      <th></th>\n",
       "    </tr>\n",
       "  </thead>\n",
       "  <tbody>\n",
       "    <tr>\n",
       "      <th>1117225</th>\n",
       "      <td>北海道</td>\n",
       "      <td>苫小牧市</td>\n",
       "      <td>新中野町</td>\n",
       "      <td>苫小牧</td>\n",
       "      <td>25.0</td>\n",
       "      <td>３ＬＤＫ</td>\n",
       "      <td>120.0</td>\n",
       "      <td>12.0</td>\n",
       "      <td>ＲＣ</td>\n",
       "      <td>住宅</td>\n",
       "      <td>準工業地域</td>\n",
       "      <td>60.0</td>\n",
       "      <td>200.0</td>\n",
       "      <td>2018.75</td>\n",
       "      <td>未改装</td>\n",
       "      <td>NaN</td>\n",
       "      <td>7.431364</td>\n",
       "      <td>42.631246</td>\n",
       "      <td>141.603122</td>\n",
       "      <td>0.092308</td>\n",
       "    </tr>\n",
       "    <tr>\n",
       "      <th>1114724</th>\n",
       "      <td>北海道</td>\n",
       "      <td>苫小牧市</td>\n",
       "      <td>青葉町</td>\n",
       "      <td>青葉</td>\n",
       "      <td>9.0</td>\n",
       "      <td>３ＬＤＫ</td>\n",
       "      <td>70.0</td>\n",
       "      <td>35.0</td>\n",
       "      <td>ＲＣ</td>\n",
       "      <td>その他</td>\n",
       "      <td>第１種中高層住居専用地域</td>\n",
       "      <td>60.0</td>\n",
       "      <td>200.0</td>\n",
       "      <td>2017.75</td>\n",
       "      <td>未改装</td>\n",
       "      <td>NaN</td>\n",
       "      <td>6.342423</td>\n",
       "      <td>42.631246</td>\n",
       "      <td>141.603122</td>\n",
       "      <td>0.092308</td>\n",
       "    </tr>\n",
       "    <tr>\n",
       "      <th>1114753</th>\n",
       "      <td>北海道</td>\n",
       "      <td>苫小牧市</td>\n",
       "      <td>青葉町</td>\n",
       "      <td>青葉</td>\n",
       "      <td>3.0</td>\n",
       "      <td>３ＬＤＫ</td>\n",
       "      <td>70.0</td>\n",
       "      <td>31.0</td>\n",
       "      <td>ＲＣ</td>\n",
       "      <td>住宅</td>\n",
       "      <td>第１種中高層住居専用地域</td>\n",
       "      <td>60.0</td>\n",
       "      <td>200.0</td>\n",
       "      <td>2016.50</td>\n",
       "      <td>改装済</td>\n",
       "      <td>NaN</td>\n",
       "      <td>6.778151</td>\n",
       "      <td>42.631246</td>\n",
       "      <td>141.603122</td>\n",
       "      <td>0.092308</td>\n",
       "    </tr>\n",
       "    <tr>\n",
       "      <th>1120806</th>\n",
       "      <td>北海道</td>\n",
       "      <td>苫小牧市</td>\n",
       "      <td>表町</td>\n",
       "      <td>苫小牧</td>\n",
       "      <td>8.0</td>\n",
       "      <td>４ＬＤＫ</td>\n",
       "      <td>105.0</td>\n",
       "      <td>18.0</td>\n",
       "      <td>ＲＣ</td>\n",
       "      <td>NaN</td>\n",
       "      <td>商業地域</td>\n",
       "      <td>80.0</td>\n",
       "      <td>400.0</td>\n",
       "      <td>2011.99</td>\n",
       "      <td>未改装</td>\n",
       "      <td>NaN</td>\n",
       "      <td>7.230449</td>\n",
       "      <td>42.631246</td>\n",
       "      <td>141.603122</td>\n",
       "      <td>0.092308</td>\n",
       "    </tr>\n",
       "    <tr>\n",
       "      <th>1117264</th>\n",
       "      <td>北海道</td>\n",
       "      <td>苫小牧市</td>\n",
       "      <td>新中野町</td>\n",
       "      <td>苫小牧</td>\n",
       "      <td>25.0</td>\n",
       "      <td>３ＬＤＫ</td>\n",
       "      <td>90.0</td>\n",
       "      <td>15.0</td>\n",
       "      <td>ＲＣ</td>\n",
       "      <td>住宅</td>\n",
       "      <td>準工業地域</td>\n",
       "      <td>60.0</td>\n",
       "      <td>200.0</td>\n",
       "      <td>2015.50</td>\n",
       "      <td>未改装</td>\n",
       "      <td>NaN</td>\n",
       "      <td>7.204120</td>\n",
       "      <td>42.631246</td>\n",
       "      <td>141.603122</td>\n",
       "      <td>0.092308</td>\n",
       "    </tr>\n",
       "  </tbody>\n",
       "</table>\n",
       "</div>"
      ],
      "text/plain": [
       "        都道府県名 市区町村名   地区名 最寄駅：名称  最寄駅：距離（分）   間取り  面積（㎡）   建築年 建物の構造 今後の利用目的  \\\n",
       "ID                                                                             \n",
       "1117225   北海道  苫小牧市  新中野町    苫小牧       25.0  ３ＬＤＫ  120.0  12.0    ＲＣ      住宅   \n",
       "1114724   北海道  苫小牧市   青葉町     青葉        9.0  ３ＬＤＫ   70.0  35.0    ＲＣ     その他   \n",
       "1114753   北海道  苫小牧市   青葉町     青葉        3.0  ３ＬＤＫ   70.0  31.0    ＲＣ      住宅   \n",
       "1120806   北海道  苫小牧市    表町    苫小牧        8.0  ４ＬＤＫ  105.0  18.0    ＲＣ     NaN   \n",
       "1117264   北海道  苫小牧市  新中野町    苫小牧       25.0  ３ＬＤＫ   90.0  15.0    ＲＣ      住宅   \n",
       "\n",
       "                 都市計画  建ぺい率（％）  容積率（％）     取引時点   改装 取引の事情等  取引価格（総額）_log  \\\n",
       "ID                                                                          \n",
       "1117225         準工業地域     60.0   200.0  2018.75  未改装    NaN      7.431364   \n",
       "1114724  第１種中高層住居専用地域     60.0   200.0  2017.75  未改装    NaN      6.342423   \n",
       "1114753  第１種中高層住居専用地域     60.0   200.0  2016.50  改装済    NaN      6.778151   \n",
       "1120806          商業地域     80.0   400.0  2011.99  未改装    NaN      7.230449   \n",
       "1117264         準工業地域     60.0   200.0  2015.50  未改装    NaN      7.204120   \n",
       "\n",
       "                緯度          経度      平均価格  \n",
       "ID                                        \n",
       "1117225  42.631246  141.603122  0.092308  \n",
       "1114724  42.631246  141.603122  0.092308  \n",
       "1114753  42.631246  141.603122  0.092308  \n",
       "1120806  42.631246  141.603122  0.092308  \n",
       "1117264  42.631246  141.603122  0.092308  "
      ]
     },
     "execution_count": 15,
     "metadata": {},
     "output_type": "execute_result"
    }
   ],
   "source": [
    "df.head()"
   ]
  },
  {
   "cell_type": "code",
   "execution_count": null,
   "id": "exotic-transparency",
   "metadata": {},
   "outputs": [],
   "source": []
  }
 ],
 "metadata": {
  "kernelspec": {
   "display_name": "Python 3",
   "language": "python",
   "name": "python3"
  },
  "language_info": {
   "codemirror_mode": {
    "name": "ipython",
    "version": 3
   },
   "file_extension": ".py",
   "mimetype": "text/x-python",
   "name": "python",
   "nbconvert_exporter": "python",
   "pygments_lexer": "ipython3",
   "version": "3.7.10"
  }
 },
 "nbformat": 4,
 "nbformat_minor": 5
}
