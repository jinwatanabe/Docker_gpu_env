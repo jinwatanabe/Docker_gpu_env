{
 "cells": [
  {
   "cell_type": "code",
   "execution_count": 2,
   "metadata": {},
   "outputs": [],
   "source": [
    "import glob\n",
    "import pandas as pd\n",
    "import numpy as np\n",
    "import matplotlib.pyplot as plt\n",
    "import seaborn as sns\n",
    "%matplotlib inline"
   ]
  },
  {
   "cell_type": "code",
   "execution_count": 28,
   "metadata": {},
   "outputs": [],
   "source": [
    "files = glob.glob(\"/tmp/working/dataset/nishika/old_apartment/train/*.csv\")"
   ]
  },
  {
   "cell_type": "code",
   "execution_count": 30,
   "metadata": {},
   "outputs": [
    {
     "name": "stderr",
     "output_type": "stream",
     "text": [
      "/opt/conda/lib/python3.6/site-packages/IPython/core/interactiveshell.py:2785: DtypeWarning: Columns (10) have mixed types. Specify dtype option on import or set low_memory=False.\n",
      "  interactivity=interactivity, compiler=compiler, result=result)\n"
     ]
    }
   ],
   "source": [
    "data_list = []\n",
    "for file in files:\n",
    "    data_list.append(pd.read_csv(file, index_col=0))"
   ]
  },
  {
   "cell_type": "code",
   "execution_count": 32,
   "metadata": {},
   "outputs": [],
   "source": [
    "df = pd.concat(data_list)"
   ]
  },
  {
   "cell_type": "code",
   "execution_count": 34,
   "metadata": {},
   "outputs": [
    {
     "data": {
      "text/plain": [
       "(637351, 27)"
      ]
     },
     "execution_count": 34,
     "metadata": {},
     "output_type": "execute_result"
    }
   ],
   "source": [
    "df.shape"
   ]
  },
  {
   "cell_type": "code",
   "execution_count": 36,
   "metadata": {},
   "outputs": [
    {
     "name": "stdout",
     "output_type": "stream",
     "text": [
      "<class 'pandas.core.frame.DataFrame'>\n",
      "Int64Index: 637351 entries, 1060685 to 47003572\n",
      "Data columns (total 27 columns):\n",
      "種類              637351 non-null object\n",
      "地域              0 non-null float64\n",
      "市区町村コード         637351 non-null int64\n",
      "都道府県名           637351 non-null object\n",
      "市区町村名           637351 non-null object\n",
      "地区名             637060 non-null object\n",
      "最寄駅：名称          634732 non-null object\n",
      "最寄駅：距離（分）       614306 non-null object\n",
      "間取り             615609 non-null object\n",
      "面積（㎡）           637351 non-null object\n",
      "土地の形状           0 non-null float64\n",
      "間口              0 non-null float64\n",
      "延床面積（㎡）         0 non-null float64\n",
      "建築年             619117 non-null object\n",
      "建物の構造           623423 non-null object\n",
      "用途              591214 non-null object\n",
      "今後の利用目的         275091 non-null object\n",
      "前面道路：方位         0 non-null float64\n",
      "前面道路：種類         0 non-null float64\n",
      "前面道路：幅員（ｍ）      0 non-null float64\n",
      "都市計画            618786 non-null object\n",
      "建ぺい率（％）         614848 non-null float64\n",
      "容積率（％）          614848 non-null float64\n",
      "取引時点            637351 non-null object\n",
      "改装              580431 non-null object\n",
      "取引の事情等          18275 non-null object\n",
      "取引価格（総額）_log    637351 non-null float64\n",
      "dtypes: float64(10), int64(1), object(16)\n",
      "memory usage: 136.2+ MB\n"
     ]
    }
   ],
   "source": [
    "df.info()"
   ]
  },
  {
   "cell_type": "code",
   "execution_count": 41,
   "metadata": {},
   "outputs": [],
   "source": [
    "nonnull_list = []\n",
    "\n",
    "for col in df.columns:\n",
    "    nonnull = df[col].count()\n",
    "    if nonnull == 0:\n",
    "        nonnull_list.append(col)\n",
    "\n",
    "nonnull_list\n",
    "\n",
    "df = df.drop(nonnull_list, axis=1)"
   ]
  },
  {
   "cell_type": "code",
   "execution_count": 42,
   "metadata": {},
   "outputs": [
    {
     "name": "stdout",
     "output_type": "stream",
     "text": [
      "<class 'pandas.core.frame.DataFrame'>\n",
      "Int64Index: 637351 entries, 1060685 to 47003572\n",
      "Data columns (total 20 columns):\n",
      "種類              637351 non-null object\n",
      "市区町村コード         637351 non-null int64\n",
      "都道府県名           637351 non-null object\n",
      "市区町村名           637351 non-null object\n",
      "地区名             637060 non-null object\n",
      "最寄駅：名称          634732 non-null object\n",
      "最寄駅：距離（分）       614306 non-null object\n",
      "間取り             615609 non-null object\n",
      "面積（㎡）           637351 non-null object\n",
      "建築年             619117 non-null object\n",
      "建物の構造           623423 non-null object\n",
      "用途              591214 non-null object\n",
      "今後の利用目的         275091 non-null object\n",
      "都市計画            618786 non-null object\n",
      "建ぺい率（％）         614848 non-null float64\n",
      "容積率（％）          614848 non-null float64\n",
      "取引時点            637351 non-null object\n",
      "改装              580431 non-null object\n",
      "取引の事情等          18275 non-null object\n",
      "取引価格（総額）_log    637351 non-null float64\n",
      "dtypes: float64(3), int64(1), object(16)\n",
      "memory usage: 102.1+ MB\n"
     ]
    }
   ],
   "source": [
    "df.info()"
   ]
  },
  {
   "cell_type": "code",
   "execution_count": 44,
   "metadata": {},
   "outputs": [
    {
     "data": {
      "text/plain": [
       "大田区        12269\n",
       "江東区        11591\n",
       "世田谷区       10747\n",
       "港区         10580\n",
       "新宿区        10055\n",
       "品川区         9138\n",
       "板橋区         8532\n",
       "中央区         8349\n",
       "練馬区         7800\n",
       "杉並区         6986\n",
       "足立区         6674\n",
       "文京区         6670\n",
       "福岡市中央区      6507\n",
       "渋谷区         6353\n",
       "豊島区         6294\n",
       "墨田区         6164\n",
       "札幌市中央区      5776\n",
       "船橋市         5429\n",
       "台東区         5405\n",
       "川口市         5182\n",
       "横浜市港北区      5123\n",
       "福岡市博多区      4980\n",
       "江戸川区        4755\n",
       "大阪市中央区      4652\n",
       "西宮市         4643\n",
       "横浜市中区       4470\n",
       "葛飾区         4469\n",
       "目黒区         4436\n",
       "大阪市北区       4428\n",
       "八王子市        4366\n",
       "           ...  \n",
       "島田市            4\n",
       "岡山市東区          4\n",
       "筑後市            3\n",
       "三重郡朝日町         3\n",
       "高山市            3\n",
       "遠賀郡芦屋町         3\n",
       "中間市            3\n",
       "日高市            2\n",
       "名取市            2\n",
       "筑西市            2\n",
       "吉野郡吉野町         2\n",
       "榛原郡川根本町        2\n",
       "丹羽郡大口町         2\n",
       "美濃加茂市          2\n",
       "瑞浪市            2\n",
       "柳川市            2\n",
       "宮城郡七ヶ浜町        2\n",
       "宮城郡松島町         2\n",
       "可児市            2\n",
       "行橋市            1\n",
       "羽島郡岐南町         1\n",
       "新潟市西蒲区         1\n",
       "堺市美原区          1\n",
       "淡路市            1\n",
       "大川市            1\n",
       "刈田郡蔵王町         1\n",
       "粕屋郡宇美町         1\n",
       "田川郡糸田町         1\n",
       "安芸郡坂町          1\n",
       "粕屋郡新宮町         1\n",
       "Name: 市区町村名, Length: 618, dtype: int64"
      ]
     },
     "execution_count": 44,
     "metadata": {},
     "output_type": "execute_result"
    }
   ],
   "source": [
    "df[\"市区町村名\"].value_counts()\n",
    "# 市区町村名"
   ]
  },
  {
   "cell_type": "code",
   "execution_count": 45,
   "metadata": {},
   "outputs": [],
   "source": [
    "df = df.drop(\"市区町村名\", axis=1)"
   ]
  },
  {
   "cell_type": "code",
   "execution_count": 46,
   "metadata": {},
   "outputs": [
    {
     "data": {
      "text/html": [
       "<div>\n",
       "<style scoped>\n",
       "    .dataframe tbody tr th:only-of-type {\n",
       "        vertical-align: middle;\n",
       "    }\n",
       "\n",
       "    .dataframe tbody tr th {\n",
       "        vertical-align: top;\n",
       "    }\n",
       "\n",
       "    .dataframe thead th {\n",
       "        text-align: right;\n",
       "    }\n",
       "</style>\n",
       "<table border=\"1\" class=\"dataframe\">\n",
       "  <thead>\n",
       "    <tr style=\"text-align: right;\">\n",
       "      <th></th>\n",
       "      <th>市区町村コード</th>\n",
       "      <th>建ぺい率（％）</th>\n",
       "      <th>容積率（％）</th>\n",
       "      <th>取引価格（総額）_log</th>\n",
       "    </tr>\n",
       "  </thead>\n",
       "  <tbody>\n",
       "    <tr>\n",
       "      <th>count</th>\n",
       "      <td>637351.000000</td>\n",
       "      <td>614848.000000</td>\n",
       "      <td>614848.000000</td>\n",
       "      <td>637351.000000</td>\n",
       "    </tr>\n",
       "    <tr>\n",
       "      <th>mean</th>\n",
       "      <td>18513.985300</td>\n",
       "      <td>67.601944</td>\n",
       "      <td>301.601876</td>\n",
       "      <td>7.217424</td>\n",
       "    </tr>\n",
       "    <tr>\n",
       "      <th>std</th>\n",
       "      <td>9596.722442</td>\n",
       "      <td>10.402295</td>\n",
       "      <td>148.105400</td>\n",
       "      <td>0.353935</td>\n",
       "    </tr>\n",
       "    <tr>\n",
       "      <th>min</th>\n",
       "      <td>1101.000000</td>\n",
       "      <td>30.000000</td>\n",
       "      <td>50.000000</td>\n",
       "      <td>2.653213</td>\n",
       "    </tr>\n",
       "    <tr>\n",
       "      <th>25%</th>\n",
       "      <td>13106.000000</td>\n",
       "      <td>60.000000</td>\n",
       "      <td>200.000000</td>\n",
       "      <td>7.000000</td>\n",
       "    </tr>\n",
       "    <tr>\n",
       "      <th>50%</th>\n",
       "      <td>14104.000000</td>\n",
       "      <td>60.000000</td>\n",
       "      <td>200.000000</td>\n",
       "      <td>7.255273</td>\n",
       "    </tr>\n",
       "    <tr>\n",
       "      <th>75%</th>\n",
       "      <td>27114.000000</td>\n",
       "      <td>80.000000</td>\n",
       "      <td>400.000000</td>\n",
       "      <td>7.447158</td>\n",
       "    </tr>\n",
       "    <tr>\n",
       "      <th>max</th>\n",
       "      <td>47213.000000</td>\n",
       "      <td>80.000000</td>\n",
       "      <td>1300.000000</td>\n",
       "      <td>9.934498</td>\n",
       "    </tr>\n",
       "  </tbody>\n",
       "</table>\n",
       "</div>"
      ],
      "text/plain": [
       "             市区町村コード        建ぺい率（％）         容積率（％）   取引価格（総額）_log\n",
       "count  637351.000000  614848.000000  614848.000000  637351.000000\n",
       "mean    18513.985300      67.601944     301.601876       7.217424\n",
       "std      9596.722442      10.402295     148.105400       0.353935\n",
       "min      1101.000000      30.000000      50.000000       2.653213\n",
       "25%     13106.000000      60.000000     200.000000       7.000000\n",
       "50%     14104.000000      60.000000     200.000000       7.255273\n",
       "75%     27114.000000      80.000000     400.000000       7.447158\n",
       "max     47213.000000      80.000000    1300.000000       9.934498"
      ]
     },
     "execution_count": 46,
     "metadata": {},
     "output_type": "execute_result"
    }
   ],
   "source": [
    "df.describe()"
   ]
  },
  {
   "cell_type": "code",
   "execution_count": 50,
   "metadata": {},
   "outputs": [
    {
     "data": {
      "text/html": [
       "<div>\n",
       "<style scoped>\n",
       "    .dataframe tbody tr th:only-of-type {\n",
       "        vertical-align: middle;\n",
       "    }\n",
       "\n",
       "    .dataframe tbody tr th {\n",
       "        vertical-align: top;\n",
       "    }\n",
       "\n",
       "    .dataframe thead th {\n",
       "        text-align: right;\n",
       "    }\n",
       "</style>\n",
       "<table border=\"1\" class=\"dataframe\">\n",
       "  <thead>\n",
       "    <tr style=\"text-align: right;\">\n",
       "      <th></th>\n",
       "      <th>種類</th>\n",
       "      <th>市区町村コード</th>\n",
       "      <th>都道府県名</th>\n",
       "      <th>地区名</th>\n",
       "      <th>最寄駅：名称</th>\n",
       "      <th>最寄駅：距離（分）</th>\n",
       "      <th>間取り</th>\n",
       "      <th>面積（㎡）</th>\n",
       "      <th>建築年</th>\n",
       "      <th>建物の構造</th>\n",
       "      <th>用途</th>\n",
       "      <th>今後の利用目的</th>\n",
       "      <th>都市計画</th>\n",
       "      <th>建ぺい率（％）</th>\n",
       "      <th>容積率（％）</th>\n",
       "      <th>取引時点</th>\n",
       "      <th>改装</th>\n",
       "      <th>取引の事情等</th>\n",
       "      <th>取引価格（総額）_log</th>\n",
       "    </tr>\n",
       "  </thead>\n",
       "  <tbody>\n",
       "    <tr>\n",
       "      <th>count</th>\n",
       "      <td>637351</td>\n",
       "      <td>637351</td>\n",
       "      <td>637351</td>\n",
       "      <td>637351</td>\n",
       "      <td>637351</td>\n",
       "      <td>637351</td>\n",
       "      <td>637351</td>\n",
       "      <td>637351</td>\n",
       "      <td>637351</td>\n",
       "      <td>637351</td>\n",
       "      <td>637351</td>\n",
       "      <td>637351</td>\n",
       "      <td>637351</td>\n",
       "      <td>637351</td>\n",
       "      <td>637351</td>\n",
       "      <td>637351</td>\n",
       "      <td>637351</td>\n",
       "      <td>637351</td>\n",
       "      <td>637351</td>\n",
       "    </tr>\n",
       "    <tr>\n",
       "      <th>unique</th>\n",
       "      <td>1</td>\n",
       "      <td>618</td>\n",
       "      <td>47</td>\n",
       "      <td>12047</td>\n",
       "      <td>3832</td>\n",
       "      <td>35</td>\n",
       "      <td>64</td>\n",
       "      <td>114</td>\n",
       "      <td>77</td>\n",
       "      <td>13</td>\n",
       "      <td>23</td>\n",
       "      <td>5</td>\n",
       "      <td>17</td>\n",
       "      <td>7</td>\n",
       "      <td>18</td>\n",
       "      <td>58</td>\n",
       "      <td>3</td>\n",
       "      <td>10</td>\n",
       "      <td>380</td>\n",
       "    </tr>\n",
       "    <tr>\n",
       "      <th>top</th>\n",
       "      <td>中古マンション等</td>\n",
       "      <td>13111</td>\n",
       "      <td>東京都</td>\n",
       "      <td>本町</td>\n",
       "      <td>nan</td>\n",
       "      <td>6</td>\n",
       "      <td>３ＬＤＫ</td>\n",
       "      <td>70</td>\n",
       "      <td>平成3年</td>\n",
       "      <td>ＲＣ</td>\n",
       "      <td>住宅</td>\n",
       "      <td>nan</td>\n",
       "      <td>商業地域</td>\n",
       "      <td>60.0</td>\n",
       "      <td>200.0</td>\n",
       "      <td>2014年第１四半期</td>\n",
       "      <td>未改装</td>\n",
       "      <td>nan</td>\n",
       "      <td>7.176091259055681</td>\n",
       "    </tr>\n",
       "    <tr>\n",
       "      <th>freq</th>\n",
       "      <td>637351</td>\n",
       "      <td>12269</td>\n",
       "      <td>190524</td>\n",
       "      <td>5267</td>\n",
       "      <td>2619</td>\n",
       "      <td>50928</td>\n",
       "      <td>272449</td>\n",
       "      <td>83443</td>\n",
       "      <td>21982</td>\n",
       "      <td>431050</td>\n",
       "      <td>583722</td>\n",
       "      <td>362260</td>\n",
       "      <td>172628</td>\n",
       "      <td>349347</td>\n",
       "      <td>293388</td>\n",
       "      <td>13561</td>\n",
       "      <td>419268</td>\n",
       "      <td>619076</td>\n",
       "      <td>20996</td>\n",
       "    </tr>\n",
       "  </tbody>\n",
       "</table>\n",
       "</div>"
      ],
      "text/plain": [
       "              種類 市区町村コード        ...          取引の事情等       取引価格（総額）_log\n",
       "count     637351  637351        ...          637351             637351\n",
       "unique         1     618        ...              10                380\n",
       "top     中古マンション等   13111        ...             nan  7.176091259055681\n",
       "freq      637351   12269        ...          619076              20996\n",
       "\n",
       "[4 rows x 19 columns]"
      ]
     },
     "execution_count": 50,
     "metadata": {},
     "output_type": "execute_result"
    }
   ],
   "source": [
    "df.astype(\"str\").describe()"
   ]
  },
  {
   "cell_type": "code",
   "execution_count": 52,
   "metadata": {},
   "outputs": [
    {
     "data": {
      "text/plain": [
       "中古マンション等    637351\n",
       "Name: 種類, dtype: int64"
      ]
     },
     "execution_count": 52,
     "metadata": {},
     "output_type": "execute_result"
    }
   ],
   "source": [
    "df[\"種類\"].value_counts()"
   ]
  },
  {
   "cell_type": "code",
   "execution_count": 53,
   "metadata": {},
   "outputs": [],
   "source": [
    "df = df.drop(\"種類\", axis=1)"
   ]
  },
  {
   "cell_type": "code",
   "execution_count": 54,
   "metadata": {},
   "outputs": [
    {
     "name": "stdout",
     "output_type": "stream",
     "text": [
      "<class 'pandas.core.frame.DataFrame'>\n",
      "Int64Index: 637351 entries, 1060685 to 47003572\n",
      "Data columns (total 18 columns):\n",
      "市区町村コード         637351 non-null int64\n",
      "都道府県名           637351 non-null object\n",
      "地区名             637060 non-null object\n",
      "最寄駅：名称          634732 non-null object\n",
      "最寄駅：距離（分）       614306 non-null object\n",
      "間取り             615609 non-null object\n",
      "面積（㎡）           637351 non-null object\n",
      "建築年             619117 non-null object\n",
      "建物の構造           623423 non-null object\n",
      "用途              591214 non-null object\n",
      "今後の利用目的         275091 non-null object\n",
      "都市計画            618786 non-null object\n",
      "建ぺい率（％）         614848 non-null float64\n",
      "容積率（％）          614848 non-null float64\n",
      "取引時点            637351 non-null object\n",
      "改装              580431 non-null object\n",
      "取引の事情等          18275 non-null object\n",
      "取引価格（総額）_log    637351 non-null float64\n",
      "dtypes: float64(3), int64(1), object(14)\n",
      "memory usage: 92.4+ MB\n"
     ]
    }
   ],
   "source": [
    "df.info()"
   ]
  },
  {
   "cell_type": "code",
   "execution_count": null,
   "metadata": {},
   "outputs": [],
   "source": []
  }
 ],
 "metadata": {
  "kernelspec": {
   "display_name": "Python 3",
   "language": "python",
   "name": "python3"
  },
  "language_info": {
   "codemirror_mode": {
    "name": "ipython",
    "version": 3
   },
   "file_extension": ".py",
   "mimetype": "text/x-python",
   "name": "python",
   "nbconvert_exporter": "python",
   "pygments_lexer": "ipython3",
   "version": "3.6.6"
  }
 },
 "nbformat": 4,
 "nbformat_minor": 2
}
